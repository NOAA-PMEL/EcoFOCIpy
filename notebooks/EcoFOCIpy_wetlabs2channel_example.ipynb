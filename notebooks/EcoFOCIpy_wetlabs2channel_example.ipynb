{
 "cells": [
  {
   "cell_type": "markdown",
   "id": "educational-chosen",
   "metadata": {},
   "source": [
    "# Using EcoFOCIpy to process raw field data\n",
    "\n",
    "## Mooring / Timeseries Data\n",
    "\n",
    "Basic workflow for each instrument grouping is *(initial archive level)*:\n",
    "- Parse data from raw files into pandas dataframe\n",
    "- output initial files (pandas->csv) **ERDDAP NRT** when no meta data is added\n",
    "\n",
    "Convert to xarray dataframe for all following work *(working or final data level):\n",
    "- TODO: Add metadata from instrument yaml files and/or header info\n",
    "- ingest metadata from deployment/recovery records or cast logs\n",
    "- process data beyond simple file translate\n",
    "- apply any calibrations or corrections\n",
    "    + field corrections\n",
    "    + offsets\n",
    "    + instrument compensations\n",
    "    + some QC were available... this would be old-school simple bounds mostly\n",
    "- adjust time bounds and sample frequency (xarray dataframe)\n",
    "- save as CF netcdf via xarray: so many of the steps above are optional\n",
    "    + **ERDDAP NRT** if no corrections, offsets or time bounds are applied but some meta data is\n",
    "    + **Working and awaiting QC** has no ERDDAP representation and is a holding spot\n",
    "    + **ERDDAP Final** fully calibrated, qc'd and populated with meta information\n",
    "\n",
    "Plot for preview and QC\n",
    "- preview images (indiv and/or collectively)\n",
    "- manual qc process\n",
    "- automated qc process ML/AI\n",
    "\n",
    "Further refinenments for ERDDAP hosting:\n"
   ]
  },
  {
   "cell_type": "markdown",
   "id": "allied-miniature",
   "metadata": {},
   "source": [
    "## Example below is for EcoFluorometer with dual channels (Eco FLNTUS) but the workflow is similar for all instruments.\n",
    "\n",
    "Future processing of this instrument can be a simplified (no markdown) process which can be archived so that the procedure can be traced or updated"
   ]
  },
  {
   "cell_type": "code",
   "execution_count": 1,
   "id": "studied-pollution",
   "metadata": {},
   "outputs": [],
   "source": [
    "import yaml\n",
    "\n",
    "import EcoFOCIpy.io.wetlabs_parser as wetlabs_parser #<- instrument specific\n",
    "import EcoFOCIpy.io.ncCFsave as ncCFsave\n",
    "import EcoFOCIpy.metaconfig.load_config as load_config"
   ]
  },
  {
   "cell_type": "markdown",
   "id": "public-millennium",
   "metadata": {},
   "source": [
    "The sample_data_dir should be included in the github package but may not be included in the pip install of the package\n",
    "\n",
    "## Simple Processing - first step"
   ]
  },
  {
   "cell_type": "code",
   "execution_count": 2,
   "id": "offensive-level",
   "metadata": {},
   "outputs": [],
   "source": [
    "sample_data_dir = '../'"
   ]
  },
  {
   "cell_type": "code",
   "execution_count": 3,
   "id": "third-yellow",
   "metadata": {},
   "outputs": [],
   "source": [
    "###############################################################\n",
    "# edit to point to {instrument sepcific} raw datafile \n",
    "datafile = sample_data_dir+'staticdata/example_data/ecoflntus_sample.txt'\n",
    "instrument = 'ECO-Fluorometer FLNTUS 1075'\n",
    "mooring_meta_file = sample_data_dir+'staticdata/mooring_example.yaml'\n",
    "inst_meta_file = sample_data_dir+'staticdata/instr_metaconfig/ecofluor.yaml'\n",
    "inst_shortname = 'eco'\n",
    "###############################################################\n",
    "\n",
    "#init and load data\n",
    "eco = wetlabs_parser.wetlabs()\n",
    "(eco_data,eco_header) = eco.parse(filename=datafile,\n",
    "                                                    return_header=True,\n",
    "                                                    datetime_index=True) "
   ]
  },
  {
   "cell_type": "code",
   "execution_count": 4,
   "id": "fifteen-military",
   "metadata": {},
   "outputs": [
    {
     "output_type": "execute_result",
     "data": {
      "text/plain": [
       "['sl\\x08\\n',\n",
       " 'lsl\\n',\n",
       " '4mn\\x08\\x08\\n',\n",
       " '$mnu\\n',\n",
       " '\\n',\n",
       " 'Ser flntus-1075\\n',\n",
       " 'Ver FLNTUS 3.03\\n',\n",
       " 'Ave 55\\n',\n",
       " 'Pkt 5\\n',\n",
       " 'Set 36555\\n',\n",
       " 'Rec 1\\n',\n",
       " 'Int 00:00:30\\n',\n",
       " 'Dat 10/23/15\\n',\n",
       " 'Clk 21:46:15\\n',\n",
       " 'Mem 2129\\n',\n",
       " 'actual time is 14471\\x08\\x08\\x08\\x08\\x08214715 next tiem i\\x08\\x08\\x08\\x08me is instrument time\\x08\\x08\\x08\\x08\\x08\\x08\\x08\\x08\\x08\\x08\\x08\\x08\\x08\\x08\\x08\\x08\\x08\\x08\\x08\\x08\\x08\\x08\\x08\\x08\\x08\\x08\\x08\\x08\\x08\\x08\\x08\\x08\\x08\\x08800 next time is insturment time\\n',\n",
       " '$mnu\\n',\n",
       " '\\n',\n",
       " 'Ser flntus-1075\\n',\n",
       " 'Ver FLNTUS 3.03\\n',\n",
       " 'Ave 55\\n',\n",
       " 'Pkt 5\\n',\n",
       " 'Set 36555\\n',\n",
       " 'Rec 1\\n',\n",
       " 'Int 00:00:30\\n',\n",
       " 'Dat 10/23/15\\n',\n",
       " 'Clk 21:47:29\\n',\n",
       " 'Mem 2129\\n',\n",
       " '$get\\n']"
      ]
     },
     "metadata": {},
     "execution_count": 4
    }
   ],
   "source": [
    "eco_header"
   ]
  },
  {
   "cell_type": "code",
   "execution_count": 5,
   "id": "alive-bruce",
   "metadata": {},
   "outputs": [
    {
     "output_type": "execute_result",
     "data": {
      "text/plain": [
       "                      695   700  TempCount\n",
       "date_time                                 \n",
       "2014-08-20 00:04:43  1364  4121        542\n",
       "2014-08-20 00:04:45  1363  4121        541\n",
       "2014-08-20 00:04:47  1363  4121        541\n",
       "2014-08-20 00:04:49  1363  4121        540\n",
       "2014-08-20 00:04:50  1362  4121        540\n",
       "...                   ...   ...        ...\n",
       "2014-09-19 20:00:31  1050  4121        572\n",
       "2014-09-19 20:00:32  1050  4121        572\n",
       "2014-09-19 20:00:34  1052  4121        571\n",
       "2014-09-19 21:00:27  1053  4121        574\n",
       "2014-09-19 21:00:29  1054  4121        573\n",
       "\n",
       "[635 rows x 3 columns]"
      ],
      "text/html": "<div>\n<style scoped>\n    .dataframe tbody tr th:only-of-type {\n        vertical-align: middle;\n    }\n\n    .dataframe tbody tr th {\n        vertical-align: top;\n    }\n\n    .dataframe thead th {\n        text-align: right;\n    }\n</style>\n<table border=\"1\" class=\"dataframe\">\n  <thead>\n    <tr style=\"text-align: right;\">\n      <th></th>\n      <th>695</th>\n      <th>700</th>\n      <th>TempCount</th>\n    </tr>\n    <tr>\n      <th>date_time</th>\n      <th></th>\n      <th></th>\n      <th></th>\n    </tr>\n  </thead>\n  <tbody>\n    <tr>\n      <th>2014-08-20 00:04:43</th>\n      <td>1364</td>\n      <td>4121</td>\n      <td>542</td>\n    </tr>\n    <tr>\n      <th>2014-08-20 00:04:45</th>\n      <td>1363</td>\n      <td>4121</td>\n      <td>541</td>\n    </tr>\n    <tr>\n      <th>2014-08-20 00:04:47</th>\n      <td>1363</td>\n      <td>4121</td>\n      <td>541</td>\n    </tr>\n    <tr>\n      <th>2014-08-20 00:04:49</th>\n      <td>1363</td>\n      <td>4121</td>\n      <td>540</td>\n    </tr>\n    <tr>\n      <th>2014-08-20 00:04:50</th>\n      <td>1362</td>\n      <td>4121</td>\n      <td>540</td>\n    </tr>\n    <tr>\n      <th>...</th>\n      <td>...</td>\n      <td>...</td>\n      <td>...</td>\n    </tr>\n    <tr>\n      <th>2014-09-19 20:00:31</th>\n      <td>1050</td>\n      <td>4121</td>\n      <td>572</td>\n    </tr>\n    <tr>\n      <th>2014-09-19 20:00:32</th>\n      <td>1050</td>\n      <td>4121</td>\n      <td>572</td>\n    </tr>\n    <tr>\n      <th>2014-09-19 20:00:34</th>\n      <td>1052</td>\n      <td>4121</td>\n      <td>571</td>\n    </tr>\n    <tr>\n      <th>2014-09-19 21:00:27</th>\n      <td>1053</td>\n      <td>4121</td>\n      <td>574</td>\n    </tr>\n    <tr>\n      <th>2014-09-19 21:00:29</th>\n      <td>1054</td>\n      <td>4121</td>\n      <td>573</td>\n    </tr>\n  </tbody>\n</table>\n<p>635 rows × 3 columns</p>\n</div>"
     },
     "metadata": {},
     "execution_count": 5
    }
   ],
   "source": [
    "eco_data"
   ]
  },
  {
   "source": [
    "### Engr2Sci Calibration (unique to wetlabs instruments)\n",
    "\n",
    "Must apply the known cal factors from the lab to the raw data to get science data.  These are linear transformations of the form `y=mx+b`, so a slope (m) and offset (b) should be provided.  Each channel has its own cal factor.  Currently there is no routine to read these from a database or file, so you need to input them into the object method.  \n",
    "\n",
    "Change the name of each channel below to be that of the column label (wavelenght), and change the 'outname' to be the netcdf CF compliant variable name (in the instrument yaml files)"
   ],
   "cell_type": "markdown",
   "metadata": {}
  },
  {
   "cell_type": "code",
   "execution_count": 6,
   "metadata": {},
   "outputs": [
    {
     "output_type": "stream",
     "name": "stdout",
     "text": [
      "error with channel_3\n"
     ]
    },
    {
     "output_type": "execute_result",
     "data": {
      "text/plain": [
       "                      695   700  TempCount  chlor_fluorescence  turbidity\n",
       "date_time                                                                \n",
       "2014-08-20 00:04:43  1364  4121        542             33.4871    777.084\n",
       "2014-08-20 00:04:45  1363  4121        541             33.4614    777.084\n",
       "2014-08-20 00:04:47  1363  4121        541             33.4614    777.084\n",
       "2014-08-20 00:04:49  1363  4121        540             33.4614    777.084\n",
       "2014-08-20 00:04:50  1362  4121        540             33.4357    777.084\n",
       "...                   ...   ...        ...                 ...        ...\n",
       "2014-09-19 20:00:31  1050  4121        572             25.4173    777.084\n",
       "2014-09-19 20:00:32  1050  4121        572             25.4173    777.084\n",
       "2014-09-19 20:00:34  1052  4121        571             25.4687    777.084\n",
       "2014-09-19 21:00:27  1053  4121        574             25.4944    777.084\n",
       "2014-09-19 21:00:29  1054  4121        573             25.5201    777.084\n",
       "\n",
       "[635 rows x 5 columns]"
      ],
      "text/html": "<div>\n<style scoped>\n    .dataframe tbody tr th:only-of-type {\n        vertical-align: middle;\n    }\n\n    .dataframe tbody tr th {\n        vertical-align: top;\n    }\n\n    .dataframe thead th {\n        text-align: right;\n    }\n</style>\n<table border=\"1\" class=\"dataframe\">\n  <thead>\n    <tr style=\"text-align: right;\">\n      <th></th>\n      <th>695</th>\n      <th>700</th>\n      <th>TempCount</th>\n      <th>chlor_fluorescence</th>\n      <th>turbidity</th>\n    </tr>\n    <tr>\n      <th>date_time</th>\n      <th></th>\n      <th></th>\n      <th></th>\n      <th></th>\n      <th></th>\n    </tr>\n  </thead>\n  <tbody>\n    <tr>\n      <th>2014-08-20 00:04:43</th>\n      <td>1364</td>\n      <td>4121</td>\n      <td>542</td>\n      <td>33.4871</td>\n      <td>777.084</td>\n    </tr>\n    <tr>\n      <th>2014-08-20 00:04:45</th>\n      <td>1363</td>\n      <td>4121</td>\n      <td>541</td>\n      <td>33.4614</td>\n      <td>777.084</td>\n    </tr>\n    <tr>\n      <th>2014-08-20 00:04:47</th>\n      <td>1363</td>\n      <td>4121</td>\n      <td>541</td>\n      <td>33.4614</td>\n      <td>777.084</td>\n    </tr>\n    <tr>\n      <th>2014-08-20 00:04:49</th>\n      <td>1363</td>\n      <td>4121</td>\n      <td>540</td>\n      <td>33.4614</td>\n      <td>777.084</td>\n    </tr>\n    <tr>\n      <th>2014-08-20 00:04:50</th>\n      <td>1362</td>\n      <td>4121</td>\n      <td>540</td>\n      <td>33.4357</td>\n      <td>777.084</td>\n    </tr>\n    <tr>\n      <th>...</th>\n      <td>...</td>\n      <td>...</td>\n      <td>...</td>\n      <td>...</td>\n      <td>...</td>\n    </tr>\n    <tr>\n      <th>2014-09-19 20:00:31</th>\n      <td>1050</td>\n      <td>4121</td>\n      <td>572</td>\n      <td>25.4173</td>\n      <td>777.084</td>\n    </tr>\n    <tr>\n      <th>2014-09-19 20:00:32</th>\n      <td>1050</td>\n      <td>4121</td>\n      <td>572</td>\n      <td>25.4173</td>\n      <td>777.084</td>\n    </tr>\n    <tr>\n      <th>2014-09-19 20:00:34</th>\n      <td>1052</td>\n      <td>4121</td>\n      <td>571</td>\n      <td>25.4687</td>\n      <td>777.084</td>\n    </tr>\n    <tr>\n      <th>2014-09-19 21:00:27</th>\n      <td>1053</td>\n      <td>4121</td>\n      <td>574</td>\n      <td>25.4944</td>\n      <td>777.084</td>\n    </tr>\n    <tr>\n      <th>2014-09-19 21:00:29</th>\n      <td>1054</td>\n      <td>4121</td>\n      <td>573</td>\n      <td>25.5201</td>\n      <td>777.084</td>\n    </tr>\n  </tbody>\n</table>\n<p>635 rows × 5 columns</p>\n</div>"
     },
     "metadata": {},
     "execution_count": 6
    }
   ],
   "source": [
    "cal_coef = {695:{'scaleFactor':0.0257,'darkCounts':61.0,'outname':'chlor_fluorescence'},\n",
    "            700:{'scaleFactor':0.1914,'darkCounts':61,'outname':'turbidity'},\n",
    "            'channel_3':{'scaleFactor':0,'darkCounts':0,'outname':'channel_3'}            \n",
    "            }\n",
    "\n",
    "eco.engr2sci(cal_coef=cal_coef)"
   ]
  },
  {
   "cell_type": "markdown",
   "id": "ready-audit",
   "metadata": {},
   "source": [
    "## Time properties\n",
    "\n",
    "Its unusual that our clocks drift to the point of concern for our instruments (if an instrument is off by 3 minutes but only sampling hourly... regridding that data will result in minimal changes).  However, there are a few time oriented modifications that may need to be made.\n",
    "\n",
    "The can be classified into two categories:\n",
    "+ interpolate: these change the parameter values in accordance with the time edits\n",
    "    - linear interpolation is most common\n",
    "    - averaging of data and rebinning/resampling is also common (this needs to have the \"time lable\" thought out...)\n",
    "    - decimating is less common but does not impact the max/min values\n",
    "+ shift: these do not alter the measurements, just the timestamps they are associated with\n",
    "    - the round function will work well to correct small time errors/drifts **common**\n",
    "    - dropping extra precision on time (if you want hourly measurements, just remove all minute/second info... could cause large errors if rounding would have been more appropriate)"
   ]
  },
  {
   "cell_type": "markdown",
   "id": "supposed-bankruptcy",
   "metadata": {},
   "source": [
    "It is very easy to use pandas interplation and resample methods on the dataframe as is.  A few steps are suggested below:\n",
    "- parse out on-deck (predeployment and recovery) data.  This can be done via pandas or xarray but requires the mooring metadata to have been read in.  See future steps below.\n",
    "- even if the sample frequency is set to the desired measurement frequency, it would be good to perform a quick regridding as an assurance task\n",
    "- FOCI data is usualy 1min, 10min, 1hr - and the 1min data is a fairly new (sbe56) data stream\n",
    "    + subsampling high frequency data to lower frequency is easy via df.resample().mean() but it will label the new datapoint per default instructions.  The default is to label it with the left boundary of the bin.\n",
    "    + you may want to take the median instead of the mean for noisy data (fluorometer) , occasionally decimating may be more appropriate if you want to downsize the dataset size but not smear features\n",
    "    + shifting times can be a bit more involved.  There are two primary ways to do it, interpolate or shift (round)\n",
    "        - to interpolate, you will need to upsample your data to a higher frequency which will generate missing values, then interpolate (with a maximum gap size), then decimate.  This always has the artifact of smoothing data and decreasing the min/max values. **common on microcats and other 10min datasets**\n",
    "        - shifting usually just involves droping extra time \"digits\", if you want hourly, you could just drop the trailing minutes assuming you are just off the hour (8:05 -> 8:00) or you can round to the nearest time unit but niether of these changes the data value, just the time associated with it. **common on seacats and other hourly datasets**\n",
    "        - you may also be able to *shift* using the pandas datetime round function and specifing the desired frequency.\n",
    "    + I suggest if no change is needed... df.index.round(freq=*'your native sample freq'*)\n",
    "    "
   ]
  },
  {
   "source": [
    "### Special note for Wetlabs times\n",
    "\n",
    "Historically these instruments have drifted significantly.  (usually to be slow) We keep track of the shift in seconds. and we do burst measurements with them.  How you want to tackle this is gonna be dependent on each instrument.  Goal is to stick to simple timeseries analysis via pandas though (as opposed to determining when the groups of each burst are sampled)"
   ],
   "cell_type": "markdown",
   "metadata": {}
  },
  {
   "cell_type": "code",
   "execution_count": 7,
   "metadata": {},
   "outputs": [
    {
     "output_type": "execute_result",
     "data": {
      "text/plain": [
       "                      695   700  TempCount  chlor_fluorescence  turbidity\n",
       "date_time                                                                \n",
       "2014-08-20 00:18:57  1364  4121        542             33.4871    777.084\n",
       "2014-08-20 00:18:59  1363  4121        541             33.4614    777.084\n",
       "2014-08-20 00:19:01  1363  4121        541             33.4614    777.084\n",
       "2014-08-20 00:19:03  1363  4121        540             33.4614    777.084\n",
       "2014-08-20 00:19:04  1362  4121        540             33.4357    777.084\n",
       "...                   ...   ...        ...                 ...        ...\n",
       "2014-09-19 20:14:45  1050  4121        572             25.4173    777.084\n",
       "2014-09-19 20:14:46  1050  4121        572             25.4173    777.084\n",
       "2014-09-19 20:14:48  1052  4121        571             25.4687    777.084\n",
       "2014-09-19 21:14:41  1053  4121        574             25.4944    777.084\n",
       "2014-09-19 21:14:43  1054  4121        573             25.5201    777.084\n",
       "\n",
       "[635 rows x 5 columns]"
      ],
      "text/html": "<div>\n<style scoped>\n    .dataframe tbody tr th:only-of-type {\n        vertical-align: middle;\n    }\n\n    .dataframe tbody tr th {\n        vertical-align: top;\n    }\n\n    .dataframe thead th {\n        text-align: right;\n    }\n</style>\n<table border=\"1\" class=\"dataframe\">\n  <thead>\n    <tr style=\"text-align: right;\">\n      <th></th>\n      <th>695</th>\n      <th>700</th>\n      <th>TempCount</th>\n      <th>chlor_fluorescence</th>\n      <th>turbidity</th>\n    </tr>\n    <tr>\n      <th>date_time</th>\n      <th></th>\n      <th></th>\n      <th></th>\n      <th></th>\n      <th></th>\n    </tr>\n  </thead>\n  <tbody>\n    <tr>\n      <th>2014-08-20 00:18:57</th>\n      <td>1364</td>\n      <td>4121</td>\n      <td>542</td>\n      <td>33.4871</td>\n      <td>777.084</td>\n    </tr>\n    <tr>\n      <th>2014-08-20 00:18:59</th>\n      <td>1363</td>\n      <td>4121</td>\n      <td>541</td>\n      <td>33.4614</td>\n      <td>777.084</td>\n    </tr>\n    <tr>\n      <th>2014-08-20 00:19:01</th>\n      <td>1363</td>\n      <td>4121</td>\n      <td>541</td>\n      <td>33.4614</td>\n      <td>777.084</td>\n    </tr>\n    <tr>\n      <th>2014-08-20 00:19:03</th>\n      <td>1363</td>\n      <td>4121</td>\n      <td>540</td>\n      <td>33.4614</td>\n      <td>777.084</td>\n    </tr>\n    <tr>\n      <th>2014-08-20 00:19:04</th>\n      <td>1362</td>\n      <td>4121</td>\n      <td>540</td>\n      <td>33.4357</td>\n      <td>777.084</td>\n    </tr>\n    <tr>\n      <th>...</th>\n      <td>...</td>\n      <td>...</td>\n      <td>...</td>\n      <td>...</td>\n      <td>...</td>\n    </tr>\n    <tr>\n      <th>2014-09-19 20:14:45</th>\n      <td>1050</td>\n      <td>4121</td>\n      <td>572</td>\n      <td>25.4173</td>\n      <td>777.084</td>\n    </tr>\n    <tr>\n      <th>2014-09-19 20:14:46</th>\n      <td>1050</td>\n      <td>4121</td>\n      <td>572</td>\n      <td>25.4173</td>\n      <td>777.084</td>\n    </tr>\n    <tr>\n      <th>2014-09-19 20:14:48</th>\n      <td>1052</td>\n      <td>4121</td>\n      <td>571</td>\n      <td>25.4687</td>\n      <td>777.084</td>\n    </tr>\n    <tr>\n      <th>2014-09-19 21:14:41</th>\n      <td>1053</td>\n      <td>4121</td>\n      <td>574</td>\n      <td>25.4944</td>\n      <td>777.084</td>\n    </tr>\n    <tr>\n      <th>2014-09-19 21:14:43</th>\n      <td>1054</td>\n      <td>4121</td>\n      <td>573</td>\n      <td>25.5201</td>\n      <td>777.084</td>\n    </tr>\n  </tbody>\n</table>\n<p>635 rows × 5 columns</p>\n</div>"
     },
     "metadata": {},
     "execution_count": 7
    }
   ],
   "source": [
    "eco_data = eco.time_correction(offset=854) #positive to catch up with GPS time - linear correction may need to be applied... this is an offset shift at the moment \n",
    "eco_data"
   ]
  },
  {
   "cell_type": "code",
   "execution_count": 8,
   "metadata": {},
   "outputs": [
    {
     "output_type": "execute_result",
     "data": {
      "text/plain": [
       "                             695          700   TempCount  chlor_fluorescence  \\\n",
       "date_time                                                                       \n",
       "2014-08-20 01:00:00  1306.933333  3948.630303  540.424242           32.020487   \n",
       "2014-08-20 02:00:00  1228.266667  3702.387879  541.030303           29.998753   \n",
       "2014-08-20 03:00:00  1149.600000  3456.145455  541.636364           27.977020   \n",
       "2014-08-20 04:00:00  1070.933333  3209.903030  542.242424           25.955287   \n",
       "2014-08-20 05:00:00   992.266667  2963.660606  542.848485           23.933553   \n",
       "...                          ...          ...         ...                 ...   \n",
       "2014-09-19 17:00:00  1065.966667  4121.000000  577.000000           25.827643   \n",
       "2014-09-19 18:00:00  1058.166667  4121.000000  577.000000           25.627183   \n",
       "2014-09-19 19:00:00  1059.300000  4121.000000  576.233333           25.656310   \n",
       "2014-09-19 20:00:00  1052.333333  4121.000000  572.933333           25.477267   \n",
       "2014-09-19 21:00:00  1052.683333  4121.000000  573.150000           25.486262   \n",
       "\n",
       "                     turbidity  \n",
       "date_time                       \n",
       "2014-08-20 01:00:00  744.09244  \n",
       "2014-08-20 02:00:00  696.96164  \n",
       "2014-08-20 03:00:00  649.83084  \n",
       "2014-08-20 04:00:00  602.70004  \n",
       "2014-08-20 05:00:00  555.56924  \n",
       "...                        ...  \n",
       "2014-09-19 17:00:00  777.08400  \n",
       "2014-09-19 18:00:00  777.08400  \n",
       "2014-09-19 19:00:00  777.08400  \n",
       "2014-09-19 20:00:00  777.08400  \n",
       "2014-09-19 21:00:00  777.08400  \n",
       "\n",
       "[741 rows x 5 columns]"
      ],
      "text/html": "<div>\n<style scoped>\n    .dataframe tbody tr th:only-of-type {\n        vertical-align: middle;\n    }\n\n    .dataframe tbody tr th {\n        vertical-align: top;\n    }\n\n    .dataframe thead th {\n        text-align: right;\n    }\n</style>\n<table border=\"1\" class=\"dataframe\">\n  <thead>\n    <tr style=\"text-align: right;\">\n      <th></th>\n      <th>695</th>\n      <th>700</th>\n      <th>TempCount</th>\n      <th>chlor_fluorescence</th>\n      <th>turbidity</th>\n    </tr>\n    <tr>\n      <th>date_time</th>\n      <th></th>\n      <th></th>\n      <th></th>\n      <th></th>\n      <th></th>\n    </tr>\n  </thead>\n  <tbody>\n    <tr>\n      <th>2014-08-20 01:00:00</th>\n      <td>1306.933333</td>\n      <td>3948.630303</td>\n      <td>540.424242</td>\n      <td>32.020487</td>\n      <td>744.09244</td>\n    </tr>\n    <tr>\n      <th>2014-08-20 02:00:00</th>\n      <td>1228.266667</td>\n      <td>3702.387879</td>\n      <td>541.030303</td>\n      <td>29.998753</td>\n      <td>696.96164</td>\n    </tr>\n    <tr>\n      <th>2014-08-20 03:00:00</th>\n      <td>1149.600000</td>\n      <td>3456.145455</td>\n      <td>541.636364</td>\n      <td>27.977020</td>\n      <td>649.83084</td>\n    </tr>\n    <tr>\n      <th>2014-08-20 04:00:00</th>\n      <td>1070.933333</td>\n      <td>3209.903030</td>\n      <td>542.242424</td>\n      <td>25.955287</td>\n      <td>602.70004</td>\n    </tr>\n    <tr>\n      <th>2014-08-20 05:00:00</th>\n      <td>992.266667</td>\n      <td>2963.660606</td>\n      <td>542.848485</td>\n      <td>23.933553</td>\n      <td>555.56924</td>\n    </tr>\n    <tr>\n      <th>...</th>\n      <td>...</td>\n      <td>...</td>\n      <td>...</td>\n      <td>...</td>\n      <td>...</td>\n    </tr>\n    <tr>\n      <th>2014-09-19 17:00:00</th>\n      <td>1065.966667</td>\n      <td>4121.000000</td>\n      <td>577.000000</td>\n      <td>25.827643</td>\n      <td>777.08400</td>\n    </tr>\n    <tr>\n      <th>2014-09-19 18:00:00</th>\n      <td>1058.166667</td>\n      <td>4121.000000</td>\n      <td>577.000000</td>\n      <td>25.627183</td>\n      <td>777.08400</td>\n    </tr>\n    <tr>\n      <th>2014-09-19 19:00:00</th>\n      <td>1059.300000</td>\n      <td>4121.000000</td>\n      <td>576.233333</td>\n      <td>25.656310</td>\n      <td>777.08400</td>\n    </tr>\n    <tr>\n      <th>2014-09-19 20:00:00</th>\n      <td>1052.333333</td>\n      <td>4121.000000</td>\n      <td>572.933333</td>\n      <td>25.477267</td>\n      <td>777.08400</td>\n    </tr>\n    <tr>\n      <th>2014-09-19 21:00:00</th>\n      <td>1052.683333</td>\n      <td>4121.000000</td>\n      <td>573.150000</td>\n      <td>25.486262</td>\n      <td>777.08400</td>\n    </tr>\n  </tbody>\n</table>\n<p>741 rows × 5 columns</p>\n</div>"
     },
     "metadata": {},
     "execution_count": 8
    }
   ],
   "source": [
    "#the smaller you resample, the closer to the \"minute\" you will be\n",
    "# tehn you can determin if you round or interpolate\n",
    "\n",
    "eco_data = eco_data.resample('2T').median().interpolate()\n",
    "eco_data=eco_data[eco_data.index.minute==0]\n",
    "\n",
    "eco_data"
   ]
  },
  {
   "cell_type": "code",
   "execution_count": 9,
   "id": "undefined-membrane",
   "metadata": {},
   "outputs": [
    {
     "output_type": "execute_result",
     "data": {
      "text/plain": [
       "<AxesSubplot:xlabel='date_time'>"
      ]
     },
     "metadata": {},
     "execution_count": 9
    },
    {
     "output_type": "display_data",
     "data": {
      "text/plain": "<Figure size 432x288 with 1 Axes>",
      "image/svg+xml": "<?xml version=\"1.0\" encoding=\"utf-8\" standalone=\"no\"?>\n<!DOCTYPE svg PUBLIC \"-//W3C//DTD SVG 1.1//EN\"\n  \"http://www.w3.org/Graphics/SVG/1.1/DTD/svg11.dtd\">\n<svg height=\"296.067813pt\" version=\"1.1\" viewBox=\"0 0 381.65 296.067813\" width=\"381.65pt\" xmlns=\"http://www.w3.org/2000/svg\" xmlns:xlink=\"http://www.w3.org/1999/xlink\">\n <metadata>\n  <rdf:RDF xmlns:cc=\"http://creativecommons.org/ns#\" xmlns:dc=\"http://purl.org/dc/elements/1.1/\" xmlns:rdf=\"http://www.w3.org/1999/02/22-rdf-syntax-ns#\">\n   <cc:Work>\n    <dc:type rdf:resource=\"http://purl.org/dc/dcmitype/StillImage\"/>\n    <dc:date>2021-04-23T13:53:50.229525</dc:date>\n    <dc:format>image/svg+xml</dc:format>\n    <dc:creator>\n     <cc:Agent>\n      <dc:title>Matplotlib v3.4.1, https://matplotlib.org/</dc:title>\n     </cc:Agent>\n    </dc:creator>\n   </cc:Work>\n  </rdf:RDF>\n </metadata>\n <defs>\n  <style type=\"text/css\">*{stroke-linecap:butt;stroke-linejoin:round;}</style>\n </defs>\n <g id=\"figure_1\">\n  <g id=\"patch_1\">\n   <path d=\"M -0 296.067813 \nL 381.65 296.067813 \nL 381.65 0 \nL -0 0 \nz\n\" style=\"fill:none;\"/>\n  </g>\n  <g id=\"axes_1\">\n   <g id=\"patch_2\">\n    <path d=\"M 39.65 224.64 \nL 374.45 224.64 \nL 374.45 7.2 \nL 39.65 7.2 \nz\n\" style=\"fill:#ffffff;\"/>\n   </g>\n   <g id=\"matplotlib.axis_1\">\n    <g id=\"xtick_1\">\n     <g id=\"line2d_1\">\n      <defs>\n       <path d=\"M 0 0 \nL 0 3.5 \n\" id=\"m46a29571e5\" style=\"stroke:#000000;stroke-width:0.8;\"/>\n      </defs>\n      <g>\n       <use style=\"stroke:#000000;stroke-width:0.8;\" x=\"39.65\" xlink:href=\"#m46a29571e5\" y=\"224.64\"/>\n      </g>\n     </g>\n    </g>\n    <g id=\"xtick_2\">\n     <g id=\"line2d_2\">\n      <g>\n       <use style=\"stroke:#000000;stroke-width:0.8;\" x=\"169.498108\" xlink:href=\"#m46a29571e5\" y=\"224.64\"/>\n      </g>\n     </g>\n     <g id=\"text_1\">\n      <!--  -->\n      <g transform=\"translate(169.498108 239.238438)scale(0.1 -0.1)\"/>\n      <!--  -->\n      <g transform=\"translate(169.498108 250.43625)scale(0.1 -0.1)\"/>\n      <!-- Sep -->\n      <g transform=\"translate(160.073108 261.634063)scale(0.1 -0.1)\">\n       <defs>\n        <path d=\"M 3425 4513 \nL 3425 3897 \nQ 3066 4069 2747 4153 \nQ 2428 4238 2131 4238 \nQ 1616 4238 1336 4038 \nQ 1056 3838 1056 3469 \nQ 1056 3159 1242 3001 \nQ 1428 2844 1947 2747 \nL 2328 2669 \nQ 3034 2534 3370 2195 \nQ 3706 1856 3706 1288 \nQ 3706 609 3251 259 \nQ 2797 -91 1919 -91 \nQ 1588 -91 1214 -16 \nQ 841 59 441 206 \nL 441 856 \nQ 825 641 1194 531 \nQ 1563 422 1919 422 \nQ 2459 422 2753 634 \nQ 3047 847 3047 1241 \nQ 3047 1584 2836 1778 \nQ 2625 1972 2144 2069 \nL 1759 2144 \nQ 1053 2284 737 2584 \nQ 422 2884 422 3419 \nQ 422 4038 858 4394 \nQ 1294 4750 2059 4750 \nQ 2388 4750 2728 4690 \nQ 3069 4631 3425 4513 \nz\n\" id=\"DejaVuSans-53\" transform=\"scale(0.015625)\"/>\n        <path d=\"M 3597 1894 \nL 3597 1613 \nL 953 1613 \nQ 991 1019 1311 708 \nQ 1631 397 2203 397 \nQ 2534 397 2845 478 \nQ 3156 559 3463 722 \nL 3463 178 \nQ 3153 47 2828 -22 \nQ 2503 -91 2169 -91 \nQ 1331 -91 842 396 \nQ 353 884 353 1716 \nQ 353 2575 817 3079 \nQ 1281 3584 2069 3584 \nQ 2775 3584 3186 3129 \nQ 3597 2675 3597 1894 \nz\nM 3022 2063 \nQ 3016 2534 2758 2815 \nQ 2500 3097 2075 3097 \nQ 1594 3097 1305 2825 \nQ 1016 2553 972 2059 \nL 3022 2063 \nz\n\" id=\"DejaVuSans-65\" transform=\"scale(0.015625)\"/>\n        <path d=\"M 1159 525 \nL 1159 -1331 \nL 581 -1331 \nL 581 3500 \nL 1159 3500 \nL 1159 2969 \nQ 1341 3281 1617 3432 \nQ 1894 3584 2278 3584 \nQ 2916 3584 3314 3078 \nQ 3713 2572 3713 1747 \nQ 3713 922 3314 415 \nQ 2916 -91 2278 -91 \nQ 1894 -91 1617 61 \nQ 1341 213 1159 525 \nz\nM 3116 1747 \nQ 3116 2381 2855 2742 \nQ 2594 3103 2138 3103 \nQ 1681 3103 1420 2742 \nQ 1159 2381 1159 1747 \nQ 1159 1113 1420 752 \nQ 1681 391 2138 391 \nQ 2594 391 2855 752 \nQ 3116 1113 3116 1747 \nz\n\" id=\"DejaVuSans-70\" transform=\"scale(0.015625)\"/>\n       </defs>\n       <use xlink:href=\"#DejaVuSans-53\"/>\n       <use x=\"63.476562\" xlink:href=\"#DejaVuSans-65\"/>\n       <use x=\"125\" xlink:href=\"#DejaVuSans-70\"/>\n      </g>\n      <!-- 2014 -->\n      <g transform=\"translate(156.773108 272.831875)scale(0.1 -0.1)\">\n       <defs>\n        <path d=\"M 1228 531 \nL 3431 531 \nL 3431 0 \nL 469 0 \nL 469 531 \nQ 828 903 1448 1529 \nQ 2069 2156 2228 2338 \nQ 2531 2678 2651 2914 \nQ 2772 3150 2772 3378 \nQ 2772 3750 2511 3984 \nQ 2250 4219 1831 4219 \nQ 1534 4219 1204 4116 \nQ 875 4013 500 3803 \nL 500 4441 \nQ 881 4594 1212 4672 \nQ 1544 4750 1819 4750 \nQ 2544 4750 2975 4387 \nQ 3406 4025 3406 3419 \nQ 3406 3131 3298 2873 \nQ 3191 2616 2906 2266 \nQ 2828 2175 2409 1742 \nQ 1991 1309 1228 531 \nz\n\" id=\"DejaVuSans-32\" transform=\"scale(0.015625)\"/>\n        <path d=\"M 2034 4250 \nQ 1547 4250 1301 3770 \nQ 1056 3291 1056 2328 \nQ 1056 1369 1301 889 \nQ 1547 409 2034 409 \nQ 2525 409 2770 889 \nQ 3016 1369 3016 2328 \nQ 3016 3291 2770 3770 \nQ 2525 4250 2034 4250 \nz\nM 2034 4750 \nQ 2819 4750 3233 4129 \nQ 3647 3509 3647 2328 \nQ 3647 1150 3233 529 \nQ 2819 -91 2034 -91 \nQ 1250 -91 836 529 \nQ 422 1150 422 2328 \nQ 422 3509 836 4129 \nQ 1250 4750 2034 4750 \nz\n\" id=\"DejaVuSans-30\" transform=\"scale(0.015625)\"/>\n        <path d=\"M 794 531 \nL 1825 531 \nL 1825 4091 \nL 703 3866 \nL 703 4441 \nL 1819 4666 \nL 2450 4666 \nL 2450 531 \nL 3481 531 \nL 3481 0 \nL 794 0 \nL 794 531 \nz\n\" id=\"DejaVuSans-31\" transform=\"scale(0.015625)\"/>\n        <path d=\"M 2419 4116 \nL 825 1625 \nL 2419 1625 \nL 2419 4116 \nz\nM 2253 4666 \nL 3047 4666 \nL 3047 1625 \nL 3713 1625 \nL 3713 1100 \nL 3047 1100 \nL 3047 0 \nL 2419 0 \nL 2419 1100 \nL 313 1100 \nL 313 1709 \nL 2253 4666 \nz\n\" id=\"DejaVuSans-34\" transform=\"scale(0.015625)\"/>\n       </defs>\n       <use xlink:href=\"#DejaVuSans-32\"/>\n       <use x=\"63.623047\" xlink:href=\"#DejaVuSans-30\"/>\n       <use x=\"127.246094\" xlink:href=\"#DejaVuSans-31\"/>\n       <use x=\"190.869141\" xlink:href=\"#DejaVuSans-34\"/>\n      </g>\n     </g>\n    </g>\n    <g id=\"xtick_3\">\n     <g id=\"line2d_3\">\n      <g>\n       <use style=\"stroke:#000000;stroke-width:0.8;\" x=\"374.45\" xlink:href=\"#m46a29571e5\" y=\"224.64\"/>\n      </g>\n     </g>\n    </g>\n    <g id=\"xtick_4\">\n     <g id=\"line2d_4\">\n      <defs>\n       <path d=\"M 0 0 \nL 0 2 \n\" id=\"m8d0aa2e4bd\" style=\"stroke:#000000;stroke-width:0.6;\"/>\n      </defs>\n      <g>\n       <use style=\"stroke:#000000;stroke-width:0.6;\" x=\"50.055946\" xlink:href=\"#m8d0aa2e4bd\" y=\"224.64\"/>\n      </g>\n     </g>\n    </g>\n    <g id=\"xtick_5\">\n     <g id=\"line2d_5\">\n      <g>\n       <use style=\"stroke:#000000;stroke-width:0.6;\" x=\"60.914324\" xlink:href=\"#m8d0aa2e4bd\" y=\"224.64\"/>\n      </g>\n     </g>\n    </g>\n    <g id=\"xtick_6\">\n     <g id=\"line2d_6\">\n      <g>\n       <use style=\"stroke:#000000;stroke-width:0.6;\" x=\"71.772703\" xlink:href=\"#m8d0aa2e4bd\" y=\"224.64\"/>\n      </g>\n     </g>\n    </g>\n    <g id=\"xtick_7\">\n     <g id=\"line2d_7\">\n      <g>\n       <use style=\"stroke:#000000;stroke-width:0.6;\" x=\"82.631081\" xlink:href=\"#m8d0aa2e4bd\" y=\"224.64\"/>\n      </g>\n     </g>\n    </g>\n    <g id=\"xtick_8\">\n     <g id=\"line2d_8\">\n      <g>\n       <use style=\"stroke:#000000;stroke-width:0.6;\" x=\"93.489459\" xlink:href=\"#m8d0aa2e4bd\" y=\"224.64\"/>\n      </g>\n     </g>\n     <g id=\"text_2\">\n      <!-- 25 -->\n      <g transform=\"translate(87.126959 237.638438)scale(0.1 -0.1)\">\n       <defs>\n        <path d=\"M 691 4666 \nL 3169 4666 \nL 3169 4134 \nL 1269 4134 \nL 1269 2991 \nQ 1406 3038 1543 3061 \nQ 1681 3084 1819 3084 \nQ 2600 3084 3056 2656 \nQ 3513 2228 3513 1497 \nQ 3513 744 3044 326 \nQ 2575 -91 1722 -91 \nQ 1428 -91 1123 -41 \nQ 819 9 494 109 \nL 494 744 \nQ 775 591 1075 516 \nQ 1375 441 1709 441 \nQ 2250 441 2565 725 \nQ 2881 1009 2881 1497 \nQ 2881 1984 2565 2268 \nQ 2250 2553 1709 2553 \nQ 1456 2553 1204 2497 \nQ 953 2441 691 2322 \nL 691 4666 \nz\n\" id=\"DejaVuSans-35\" transform=\"scale(0.015625)\"/>\n       </defs>\n       <use xlink:href=\"#DejaVuSans-32\"/>\n       <use x=\"63.623047\" xlink:href=\"#DejaVuSans-35\"/>\n      </g>\n     </g>\n    </g>\n    <g id=\"xtick_9\">\n     <g id=\"line2d_9\">\n      <g>\n       <use style=\"stroke:#000000;stroke-width:0.6;\" x=\"104.347838\" xlink:href=\"#m8d0aa2e4bd\" y=\"224.64\"/>\n      </g>\n     </g>\n    </g>\n    <g id=\"xtick_10\">\n     <g id=\"line2d_10\">\n      <g>\n       <use style=\"stroke:#000000;stroke-width:0.6;\" x=\"115.206216\" xlink:href=\"#m8d0aa2e4bd\" y=\"224.64\"/>\n      </g>\n     </g>\n    </g>\n    <g id=\"xtick_11\">\n     <g id=\"line2d_11\">\n      <g>\n       <use style=\"stroke:#000000;stroke-width:0.6;\" x=\"126.064595\" xlink:href=\"#m8d0aa2e4bd\" y=\"224.64\"/>\n      </g>\n     </g>\n    </g>\n    <g id=\"xtick_12\">\n     <g id=\"line2d_12\">\n      <g>\n       <use style=\"stroke:#000000;stroke-width:0.6;\" x=\"136.922973\" xlink:href=\"#m8d0aa2e4bd\" y=\"224.64\"/>\n      </g>\n     </g>\n    </g>\n    <g id=\"xtick_13\">\n     <g id=\"line2d_13\">\n      <g>\n       <use style=\"stroke:#000000;stroke-width:0.6;\" x=\"147.781351\" xlink:href=\"#m8d0aa2e4bd\" y=\"224.64\"/>\n      </g>\n     </g>\n    </g>\n    <g id=\"xtick_14\">\n     <g id=\"line2d_14\">\n      <g>\n       <use style=\"stroke:#000000;stroke-width:0.6;\" x=\"158.63973\" xlink:href=\"#m8d0aa2e4bd\" y=\"224.64\"/>\n      </g>\n     </g>\n    </g>\n    <g id=\"xtick_15\">\n     <g id=\"line2d_15\">\n      <g>\n       <use style=\"stroke:#000000;stroke-width:0.6;\" x=\"180.356486\" xlink:href=\"#m8d0aa2e4bd\" y=\"224.64\"/>\n      </g>\n     </g>\n    </g>\n    <g id=\"xtick_16\">\n     <g id=\"line2d_16\">\n      <g>\n       <use style=\"stroke:#000000;stroke-width:0.6;\" x=\"191.214865\" xlink:href=\"#m8d0aa2e4bd\" y=\"224.64\"/>\n      </g>\n     </g>\n    </g>\n    <g id=\"xtick_17\">\n     <g id=\"line2d_17\">\n      <g>\n       <use style=\"stroke:#000000;stroke-width:0.6;\" x=\"202.073243\" xlink:href=\"#m8d0aa2e4bd\" y=\"224.64\"/>\n      </g>\n     </g>\n    </g>\n    <g id=\"xtick_18\">\n     <g id=\"line2d_18\">\n      <g>\n       <use style=\"stroke:#000000;stroke-width:0.6;\" x=\"212.931622\" xlink:href=\"#m8d0aa2e4bd\" y=\"224.64\"/>\n      </g>\n     </g>\n    </g>\n    <g id=\"xtick_19\">\n     <g id=\"line2d_19\">\n      <g>\n       <use style=\"stroke:#000000;stroke-width:0.6;\" x=\"223.79\" xlink:href=\"#m8d0aa2e4bd\" y=\"224.64\"/>\n      </g>\n     </g>\n    </g>\n    <g id=\"xtick_20\">\n     <g id=\"line2d_20\">\n      <g>\n       <use style=\"stroke:#000000;stroke-width:0.6;\" x=\"234.648378\" xlink:href=\"#m8d0aa2e4bd\" y=\"224.64\"/>\n      </g>\n     </g>\n    </g>\n    <g id=\"xtick_21\">\n     <g id=\"line2d_21\">\n      <g>\n       <use style=\"stroke:#000000;stroke-width:0.6;\" x=\"245.506757\" xlink:href=\"#m8d0aa2e4bd\" y=\"224.64\"/>\n      </g>\n     </g>\n     <g id=\"text_3\">\n      <!-- 08 -->\n      <g transform=\"translate(239.144257 237.638438)scale(0.1 -0.1)\">\n       <defs>\n        <path d=\"M 2034 2216 \nQ 1584 2216 1326 1975 \nQ 1069 1734 1069 1313 \nQ 1069 891 1326 650 \nQ 1584 409 2034 409 \nQ 2484 409 2743 651 \nQ 3003 894 3003 1313 \nQ 3003 1734 2745 1975 \nQ 2488 2216 2034 2216 \nz\nM 1403 2484 \nQ 997 2584 770 2862 \nQ 544 3141 544 3541 \nQ 544 4100 942 4425 \nQ 1341 4750 2034 4750 \nQ 2731 4750 3128 4425 \nQ 3525 4100 3525 3541 \nQ 3525 3141 3298 2862 \nQ 3072 2584 2669 2484 \nQ 3125 2378 3379 2068 \nQ 3634 1759 3634 1313 \nQ 3634 634 3220 271 \nQ 2806 -91 2034 -91 \nQ 1263 -91 848 271 \nQ 434 634 434 1313 \nQ 434 1759 690 2068 \nQ 947 2378 1403 2484 \nz\nM 1172 3481 \nQ 1172 3119 1398 2916 \nQ 1625 2713 2034 2713 \nQ 2441 2713 2670 2916 \nQ 2900 3119 2900 3481 \nQ 2900 3844 2670 4047 \nQ 2441 4250 2034 4250 \nQ 1625 4250 1398 4047 \nQ 1172 3844 1172 3481 \nz\n\" id=\"DejaVuSans-38\" transform=\"scale(0.015625)\"/>\n       </defs>\n       <use xlink:href=\"#DejaVuSans-30\"/>\n       <use x=\"63.623047\" xlink:href=\"#DejaVuSans-38\"/>\n      </g>\n     </g>\n    </g>\n    <g id=\"xtick_22\">\n     <g id=\"line2d_22\">\n      <g>\n       <use style=\"stroke:#000000;stroke-width:0.6;\" x=\"256.365135\" xlink:href=\"#m8d0aa2e4bd\" y=\"224.64\"/>\n      </g>\n     </g>\n    </g>\n    <g id=\"xtick_23\">\n     <g id=\"line2d_23\">\n      <g>\n       <use style=\"stroke:#000000;stroke-width:0.6;\" x=\"267.223514\" xlink:href=\"#m8d0aa2e4bd\" y=\"224.64\"/>\n      </g>\n     </g>\n    </g>\n    <g id=\"xtick_24\">\n     <g id=\"line2d_24\">\n      <g>\n       <use style=\"stroke:#000000;stroke-width:0.6;\" x=\"278.081892\" xlink:href=\"#m8d0aa2e4bd\" y=\"224.64\"/>\n      </g>\n     </g>\n    </g>\n    <g id=\"xtick_25\">\n     <g id=\"line2d_25\">\n      <g>\n       <use style=\"stroke:#000000;stroke-width:0.6;\" x=\"288.94027\" xlink:href=\"#m8d0aa2e4bd\" y=\"224.64\"/>\n      </g>\n     </g>\n    </g>\n    <g id=\"xtick_26\">\n     <g id=\"line2d_26\">\n      <g>\n       <use style=\"stroke:#000000;stroke-width:0.6;\" x=\"299.798649\" xlink:href=\"#m8d0aa2e4bd\" y=\"224.64\"/>\n      </g>\n     </g>\n    </g>\n    <g id=\"xtick_27\">\n     <g id=\"line2d_27\">\n      <g>\n       <use style=\"stroke:#000000;stroke-width:0.6;\" x=\"310.657027\" xlink:href=\"#m8d0aa2e4bd\" y=\"224.64\"/>\n      </g>\n     </g>\n    </g>\n    <g id=\"xtick_28\">\n     <g id=\"line2d_28\">\n      <g>\n       <use style=\"stroke:#000000;stroke-width:0.6;\" x=\"321.515405\" xlink:href=\"#m8d0aa2e4bd\" y=\"224.64\"/>\n      </g>\n     </g>\n     <g id=\"text_4\">\n      <!-- 15 -->\n      <g transform=\"translate(315.152905 237.638438)scale(0.1 -0.1)\">\n       <use xlink:href=\"#DejaVuSans-31\"/>\n       <use x=\"63.623047\" xlink:href=\"#DejaVuSans-35\"/>\n      </g>\n     </g>\n    </g>\n    <g id=\"xtick_29\">\n     <g id=\"line2d_29\">\n      <g>\n       <use style=\"stroke:#000000;stroke-width:0.6;\" x=\"332.373784\" xlink:href=\"#m8d0aa2e4bd\" y=\"224.64\"/>\n      </g>\n     </g>\n    </g>\n    <g id=\"xtick_30\">\n     <g id=\"line2d_30\">\n      <g>\n       <use style=\"stroke:#000000;stroke-width:0.6;\" x=\"343.232162\" xlink:href=\"#m8d0aa2e4bd\" y=\"224.64\"/>\n      </g>\n     </g>\n    </g>\n    <g id=\"xtick_31\">\n     <g id=\"line2d_31\">\n      <g>\n       <use style=\"stroke:#000000;stroke-width:0.6;\" x=\"354.090541\" xlink:href=\"#m8d0aa2e4bd\" y=\"224.64\"/>\n      </g>\n     </g>\n    </g>\n    <g id=\"xtick_32\">\n     <g id=\"line2d_32\">\n      <g>\n       <use style=\"stroke:#000000;stroke-width:0.6;\" x=\"364.948919\" xlink:href=\"#m8d0aa2e4bd\" y=\"224.64\"/>\n      </g>\n     </g>\n    </g>\n    <g id=\"text_5\">\n     <!-- date_time -->\n     <g transform=\"translate(181.978906 286.51)scale(0.1 -0.1)\">\n      <defs>\n       <path d=\"M 2906 2969 \nL 2906 4863 \nL 3481 4863 \nL 3481 0 \nL 2906 0 \nL 2906 525 \nQ 2725 213 2448 61 \nQ 2172 -91 1784 -91 \nQ 1150 -91 751 415 \nQ 353 922 353 1747 \nQ 353 2572 751 3078 \nQ 1150 3584 1784 3584 \nQ 2172 3584 2448 3432 \nQ 2725 3281 2906 2969 \nz\nM 947 1747 \nQ 947 1113 1208 752 \nQ 1469 391 1925 391 \nQ 2381 391 2643 752 \nQ 2906 1113 2906 1747 \nQ 2906 2381 2643 2742 \nQ 2381 3103 1925 3103 \nQ 1469 3103 1208 2742 \nQ 947 2381 947 1747 \nz\n\" id=\"DejaVuSans-64\" transform=\"scale(0.015625)\"/>\n       <path d=\"M 2194 1759 \nQ 1497 1759 1228 1600 \nQ 959 1441 959 1056 \nQ 959 750 1161 570 \nQ 1363 391 1709 391 \nQ 2188 391 2477 730 \nQ 2766 1069 2766 1631 \nL 2766 1759 \nL 2194 1759 \nz\nM 3341 1997 \nL 3341 0 \nL 2766 0 \nL 2766 531 \nQ 2569 213 2275 61 \nQ 1981 -91 1556 -91 \nQ 1019 -91 701 211 \nQ 384 513 384 1019 \nQ 384 1609 779 1909 \nQ 1175 2209 1959 2209 \nL 2766 2209 \nL 2766 2266 \nQ 2766 2663 2505 2880 \nQ 2244 3097 1772 3097 \nQ 1472 3097 1187 3025 \nQ 903 2953 641 2809 \nL 641 3341 \nQ 956 3463 1253 3523 \nQ 1550 3584 1831 3584 \nQ 2591 3584 2966 3190 \nQ 3341 2797 3341 1997 \nz\n\" id=\"DejaVuSans-61\" transform=\"scale(0.015625)\"/>\n       <path d=\"M 1172 4494 \nL 1172 3500 \nL 2356 3500 \nL 2356 3053 \nL 1172 3053 \nL 1172 1153 \nQ 1172 725 1289 603 \nQ 1406 481 1766 481 \nL 2356 481 \nL 2356 0 \nL 1766 0 \nQ 1100 0 847 248 \nQ 594 497 594 1153 \nL 594 3053 \nL 172 3053 \nL 172 3500 \nL 594 3500 \nL 594 4494 \nL 1172 4494 \nz\n\" id=\"DejaVuSans-74\" transform=\"scale(0.015625)\"/>\n       <path d=\"M 3263 -1063 \nL 3263 -1509 \nL -63 -1509 \nL -63 -1063 \nL 3263 -1063 \nz\n\" id=\"DejaVuSans-5f\" transform=\"scale(0.015625)\"/>\n       <path d=\"M 603 3500 \nL 1178 3500 \nL 1178 0 \nL 603 0 \nL 603 3500 \nz\nM 603 4863 \nL 1178 4863 \nL 1178 4134 \nL 603 4134 \nL 603 4863 \nz\n\" id=\"DejaVuSans-69\" transform=\"scale(0.015625)\"/>\n       <path d=\"M 3328 2828 \nQ 3544 3216 3844 3400 \nQ 4144 3584 4550 3584 \nQ 5097 3584 5394 3201 \nQ 5691 2819 5691 2113 \nL 5691 0 \nL 5113 0 \nL 5113 2094 \nQ 5113 2597 4934 2840 \nQ 4756 3084 4391 3084 \nQ 3944 3084 3684 2787 \nQ 3425 2491 3425 1978 \nL 3425 0 \nL 2847 0 \nL 2847 2094 \nQ 2847 2600 2669 2842 \nQ 2491 3084 2119 3084 \nQ 1678 3084 1418 2786 \nQ 1159 2488 1159 1978 \nL 1159 0 \nL 581 0 \nL 581 3500 \nL 1159 3500 \nL 1159 2956 \nQ 1356 3278 1631 3431 \nQ 1906 3584 2284 3584 \nQ 2666 3584 2933 3390 \nQ 3200 3197 3328 2828 \nz\n\" id=\"DejaVuSans-6d\" transform=\"scale(0.015625)\"/>\n      </defs>\n      <use xlink:href=\"#DejaVuSans-64\"/>\n      <use x=\"63.476562\" xlink:href=\"#DejaVuSans-61\"/>\n      <use x=\"124.755859\" xlink:href=\"#DejaVuSans-74\"/>\n      <use x=\"163.964844\" xlink:href=\"#DejaVuSans-65\"/>\n      <use x=\"225.488281\" xlink:href=\"#DejaVuSans-5f\"/>\n      <use x=\"275.488281\" xlink:href=\"#DejaVuSans-74\"/>\n      <use x=\"314.697266\" xlink:href=\"#DejaVuSans-69\"/>\n      <use x=\"342.480469\" xlink:href=\"#DejaVuSans-6d\"/>\n      <use x=\"439.892578\" xlink:href=\"#DejaVuSans-65\"/>\n     </g>\n    </g>\n   </g>\n   <g id=\"matplotlib.axis_2\">\n    <g id=\"ytick_1\">\n     <g id=\"line2d_33\">\n      <defs>\n       <path d=\"M 0 0 \nL -3.5 0 \n\" id=\"m7ac75f525f\" style=\"stroke:#000000;stroke-width:0.8;\"/>\n      </defs>\n      <g>\n       <use style=\"stroke:#000000;stroke-width:0.8;\" x=\"39.65\" xlink:href=\"#m7ac75f525f\" y=\"214.698262\"/>\n      </g>\n     </g>\n     <g id=\"text_6\">\n      <!-- 0 -->\n      <g transform=\"translate(26.2875 218.497481)scale(0.1 -0.1)\">\n       <use xlink:href=\"#DejaVuSans-30\"/>\n      </g>\n     </g>\n    </g>\n    <g id=\"ytick_2\">\n     <g id=\"line2d_34\">\n      <g>\n       <use style=\"stroke:#000000;stroke-width:0.8;\" x=\"39.65\" xlink:href=\"#m7ac75f525f\" y=\"166.745186\"/>\n      </g>\n     </g>\n     <g id=\"text_7\">\n      <!-- 1000 -->\n      <g transform=\"translate(7.2 170.544405)scale(0.1 -0.1)\">\n       <use xlink:href=\"#DejaVuSans-31\"/>\n       <use x=\"63.623047\" xlink:href=\"#DejaVuSans-30\"/>\n       <use x=\"127.246094\" xlink:href=\"#DejaVuSans-30\"/>\n       <use x=\"190.869141\" xlink:href=\"#DejaVuSans-30\"/>\n      </g>\n     </g>\n    </g>\n    <g id=\"ytick_3\">\n     <g id=\"line2d_35\">\n      <g>\n       <use style=\"stroke:#000000;stroke-width:0.8;\" x=\"39.65\" xlink:href=\"#m7ac75f525f\" y=\"118.79211\"/>\n      </g>\n     </g>\n     <g id=\"text_8\">\n      <!-- 2000 -->\n      <g transform=\"translate(7.2 122.591329)scale(0.1 -0.1)\">\n       <use xlink:href=\"#DejaVuSans-32\"/>\n       <use x=\"63.623047\" xlink:href=\"#DejaVuSans-30\"/>\n       <use x=\"127.246094\" xlink:href=\"#DejaVuSans-30\"/>\n       <use x=\"190.869141\" xlink:href=\"#DejaVuSans-30\"/>\n      </g>\n     </g>\n    </g>\n    <g id=\"ytick_4\">\n     <g id=\"line2d_36\">\n      <g>\n       <use style=\"stroke:#000000;stroke-width:0.8;\" x=\"39.65\" xlink:href=\"#m7ac75f525f\" y=\"70.839034\"/>\n      </g>\n     </g>\n     <g id=\"text_9\">\n      <!-- 3000 -->\n      <g transform=\"translate(7.2 74.638253)scale(0.1 -0.1)\">\n       <defs>\n        <path d=\"M 2597 2516 \nQ 3050 2419 3304 2112 \nQ 3559 1806 3559 1356 \nQ 3559 666 3084 287 \nQ 2609 -91 1734 -91 \nQ 1441 -91 1130 -33 \nQ 819 25 488 141 \nL 488 750 \nQ 750 597 1062 519 \nQ 1375 441 1716 441 \nQ 2309 441 2620 675 \nQ 2931 909 2931 1356 \nQ 2931 1769 2642 2001 \nQ 2353 2234 1838 2234 \nL 1294 2234 \nL 1294 2753 \nL 1863 2753 \nQ 2328 2753 2575 2939 \nQ 2822 3125 2822 3475 \nQ 2822 3834 2567 4026 \nQ 2313 4219 1838 4219 \nQ 1578 4219 1281 4162 \nQ 984 4106 628 3988 \nL 628 4550 \nQ 988 4650 1302 4700 \nQ 1616 4750 1894 4750 \nQ 2613 4750 3031 4423 \nQ 3450 4097 3450 3541 \nQ 3450 3153 3228 2886 \nQ 3006 2619 2597 2516 \nz\n\" id=\"DejaVuSans-33\" transform=\"scale(0.015625)\"/>\n       </defs>\n       <use xlink:href=\"#DejaVuSans-33\"/>\n       <use x=\"63.623047\" xlink:href=\"#DejaVuSans-30\"/>\n       <use x=\"127.246094\" xlink:href=\"#DejaVuSans-30\"/>\n       <use x=\"190.869141\" xlink:href=\"#DejaVuSans-30\"/>\n      </g>\n     </g>\n    </g>\n    <g id=\"ytick_5\">\n     <g id=\"line2d_37\">\n      <g>\n       <use style=\"stroke:#000000;stroke-width:0.8;\" x=\"39.65\" xlink:href=\"#m7ac75f525f\" y=\"22.885959\"/>\n      </g>\n     </g>\n     <g id=\"text_10\">\n      <!-- 4000 -->\n      <g transform=\"translate(7.2 26.685177)scale(0.1 -0.1)\">\n       <use xlink:href=\"#DejaVuSans-34\"/>\n       <use x=\"63.623047\" xlink:href=\"#DejaVuSans-30\"/>\n       <use x=\"127.246094\" xlink:href=\"#DejaVuSans-30\"/>\n       <use x=\"190.869141\" xlink:href=\"#DejaVuSans-30\"/>\n      </g>\n     </g>\n    </g>\n   </g>\n   <g id=\"line2d_38\">\n    <path clip-path=\"url(#p248a145cd4)\" d=\"M 39.65 152.026789 \nL 46.888919 211.669244 \nL 321.967838 163.281376 \nL 322.42027 163.329329 \nL 323.325135 163.617047 \nL 323.777568 163.48118 \nL 324.682432 162.025005 \nL 325.134865 162.343094 \nL 325.587297 162.18325 \nL 326.03973 164.115759 \nL 326.492162 164.510573 \nL 327.397027 163.585079 \nL 327.849459 163.263793 \nL 328.754324 162.146486 \nL 329.659189 163.298959 \nL 330.111622 163.572291 \nL 330.564054 163.334124 \nL 331.468919 163.329329 \nL 332.373784 163.981491 \nL 332.826216 163.83923 \nL 333.278649 163.441219 \nL 334.183514 163.230226 \nL 334.635946 163.270187 \nL 335.088378 163.660205 \nL 336.445676 162.581261 \nL 336.898108 162.672372 \nL 337.802973 162.293542 \nL 338.255405 162.458181 \nL 338.707838 162.231203 \nL 339.16027 162.178455 \nL 340.517568 162.996854 \nL 340.97 162.721923 \nL 341.422432 162.584458 \nL 341.874865 163.124729 \nL 342.327297 162.226408 \nL 343.684595 161.153858 \nL 344.137027 161.049959 \nL 345.494324 161.233779 \nL 345.946757 161.903524 \nL 346.399189 161.579042 \nL 346.851622 164.878213 \nL 347.304054 162.952098 \nL 347.756486 161.825201 \nL 348.661351 162.012218 \nL 349.566216 162.056974 \nL 351.375946 161.890737 \nL 352.280811 162.446992 \nL 352.733243 162.856192 \nL 353.185676 163.912758 \nL 353.638108 164.240437 \nL 354.090541 163.773694 \nL 354.995405 163.540322 \nL 356.352703 162.832215 \nL 356.805135 162.765081 \nL 357.71 162.440599 \nL 358.162432 162.282353 \nL 359.067297 162.443795 \nL 359.972162 163.394865 \nL 360.424595 163.557905 \nL 360.877027 163.286171 \nL 361.329459 163.417243 \nL 361.781892 163.263793 \nL 362.234324 163.931939 \nL 362.686757 163.530732 \nL 363.139189 163.744922 \nL 363.591622 165.853259 \nL 364.044054 164.876615 \nL 364.496486 164.79989 \nL 364.948919 164.187689 \nL 365.853784 163.70656 \nL 366.306216 163.775293 \nL 366.758649 163.268588 \nL 367.211081 163.431629 \nL 367.663514 163.34851 \nL 368.115946 163.880789 \nL 368.568378 163.912758 \nL 369.020811 162.250385 \nL 369.473243 161.978651 \nL 370.378108 162.649994 \nL 370.830541 162.82742 \nL 371.282973 162.860987 \nL 371.735405 163.008043 \nL 372.187838 162.979271 \nL 372.64027 163.581882 \nL 373.092703 163.955916 \nL 373.545135 163.901569 \nL 373.997568 164.235642 \nL 374.45 164.218858 \nL 374.45 164.218858 \n\" style=\"fill:none;stroke:#1f77b4;stroke-linecap:square;stroke-width:1.5;\"/>\n   </g>\n   <g id=\"line2d_39\">\n    <path clip-path=\"url(#p248a145cd4)\" d=\"M 39.65 25.349294 \nL 46.888919 212.076684 \nL 321.515405 17.158564 \nL 322.42027 17.083636 \nL 374.45 17.083636 \nL 374.45 17.083636 \n\" style=\"fill:none;stroke:#ff7f0e;stroke-linecap:square;stroke-width:1.5;\"/>\n   </g>\n   <g id=\"line2d_40\">\n    <path clip-path=\"url(#p248a145cd4)\" d=\"M 39.65 188.783258 \nL 46.888919 188.419756 \nL 322.42027 187.173197 \nL 322.872703 187.246725 \nL 325.134865 186.885478 \nL 326.944595 186.933431 \nL 348.661351 187.018148 \nL 350.018649 187.077291 \nL 353.185676 187.162008 \nL 354.542973 187.376198 \nL 359.51973 186.94462 \nL 362.686757 186.970195 \nL 366.758649 186.981384 \nL 368.568378 186.933431 \nL 373.092703 187.029337 \nL 373.545135 187.066101 \nL 373.997568 187.224347 \nL 374.45 187.213957 \nL 374.45 187.213957 \n\" style=\"fill:none;stroke:#2ca02c;stroke-linecap:square;stroke-width:1.5;\"/>\n   </g>\n   <g id=\"line2d_41\">\n    <path clip-path=\"url(#p248a145cd4)\" d=\"M 39.65 213.162781 \nL 46.888919 214.695593 \nL 346.399189 213.408274 \nL 346.851622 213.493063 \nL 348.208919 213.41571 \nL 366.306216 213.464718 \nL 370.830541 213.440358 \nL 374.45 213.476118 \nL 374.45 213.476118 \n\" style=\"fill:none;stroke:#d62728;stroke-linecap:square;stroke-width:1.5;\"/>\n   </g>\n   <g id=\"line2d_42\">\n    <path clip-path=\"url(#p248a145cd4)\" d=\"M 39.65 179.016741 \nL 46.888919 214.756364 \nL 322.42027 177.434694 \nL 374.45 177.434694 \nL 374.45 177.434694 \n\" style=\"fill:none;stroke:#9467bd;stroke-linecap:square;stroke-width:1.5;\"/>\n   </g>\n   <g id=\"patch_3\">\n    <path d=\"M 39.65 224.64 \nL 39.65 7.2 \n\" style=\"fill:none;stroke:#000000;stroke-linecap:square;stroke-linejoin:miter;stroke-width:0.8;\"/>\n   </g>\n   <g id=\"patch_4\">\n    <path d=\"M 374.45 224.64 \nL 374.45 7.2 \n\" style=\"fill:none;stroke:#000000;stroke-linecap:square;stroke-linejoin:miter;stroke-width:0.8;\"/>\n   </g>\n   <g id=\"patch_5\">\n    <path d=\"M 39.65 224.64 \nL 374.45 224.64 \n\" style=\"fill:none;stroke:#000000;stroke-linecap:square;stroke-linejoin:miter;stroke-width:0.8;\"/>\n   </g>\n   <g id=\"patch_6\">\n    <path d=\"M 39.65 7.2 \nL 374.45 7.2 \n\" style=\"fill:none;stroke:#000000;stroke-linecap:square;stroke-linejoin:miter;stroke-width:0.8;\"/>\n   </g>\n   <g id=\"legend_1\">\n    <g id=\"patch_7\">\n     <path d=\"M 46.65 88.86875 \nL 172.1375 88.86875 \nQ 174.1375 88.86875 174.1375 86.86875 \nL 174.1375 14.2 \nQ 174.1375 12.2 172.1375 12.2 \nL 46.65 12.2 \nQ 44.65 12.2 44.65 14.2 \nL 44.65 86.86875 \nQ 44.65 88.86875 46.65 88.86875 \nz\n\" style=\"fill:#ffffff;opacity:0.8;stroke:#cccccc;stroke-linejoin:miter;\"/>\n    </g>\n    <g id=\"line2d_43\">\n     <path d=\"M 48.65 20.298437 \nL 68.65 20.298437 \n\" style=\"fill:none;stroke:#1f77b4;stroke-linecap:square;stroke-width:1.5;\"/>\n    </g>\n    <g id=\"line2d_44\"/>\n    <g id=\"text_11\">\n     <!-- 695 -->\n     <g transform=\"translate(76.65 23.798437)scale(0.1 -0.1)\">\n      <defs>\n       <path d=\"M 2113 2584 \nQ 1688 2584 1439 2293 \nQ 1191 2003 1191 1497 \nQ 1191 994 1439 701 \nQ 1688 409 2113 409 \nQ 2538 409 2786 701 \nQ 3034 994 3034 1497 \nQ 3034 2003 2786 2293 \nQ 2538 2584 2113 2584 \nz\nM 3366 4563 \nL 3366 3988 \nQ 3128 4100 2886 4159 \nQ 2644 4219 2406 4219 \nQ 1781 4219 1451 3797 \nQ 1122 3375 1075 2522 \nQ 1259 2794 1537 2939 \nQ 1816 3084 2150 3084 \nQ 2853 3084 3261 2657 \nQ 3669 2231 3669 1497 \nQ 3669 778 3244 343 \nQ 2819 -91 2113 -91 \nQ 1303 -91 875 529 \nQ 447 1150 447 2328 \nQ 447 3434 972 4092 \nQ 1497 4750 2381 4750 \nQ 2619 4750 2861 4703 \nQ 3103 4656 3366 4563 \nz\n\" id=\"DejaVuSans-36\" transform=\"scale(0.015625)\"/>\n       <path d=\"M 703 97 \nL 703 672 \nQ 941 559 1184 500 \nQ 1428 441 1663 441 \nQ 2288 441 2617 861 \nQ 2947 1281 2994 2138 \nQ 2813 1869 2534 1725 \nQ 2256 1581 1919 1581 \nQ 1219 1581 811 2004 \nQ 403 2428 403 3163 \nQ 403 3881 828 4315 \nQ 1253 4750 1959 4750 \nQ 2769 4750 3195 4129 \nQ 3622 3509 3622 2328 \nQ 3622 1225 3098 567 \nQ 2575 -91 1691 -91 \nQ 1453 -91 1209 -44 \nQ 966 3 703 97 \nz\nM 1959 2075 \nQ 2384 2075 2632 2365 \nQ 2881 2656 2881 3163 \nQ 2881 3666 2632 3958 \nQ 2384 4250 1959 4250 \nQ 1534 4250 1286 3958 \nQ 1038 3666 1038 3163 \nQ 1038 2656 1286 2365 \nQ 1534 2075 1959 2075 \nz\n\" id=\"DejaVuSans-39\" transform=\"scale(0.015625)\"/>\n      </defs>\n      <use xlink:href=\"#DejaVuSans-36\"/>\n      <use x=\"63.623047\" xlink:href=\"#DejaVuSans-39\"/>\n      <use x=\"127.246094\" xlink:href=\"#DejaVuSans-35\"/>\n     </g>\n    </g>\n    <g id=\"line2d_45\">\n     <path d=\"M 48.65 34.976562 \nL 68.65 34.976562 \n\" style=\"fill:none;stroke:#ff7f0e;stroke-linecap:square;stroke-width:1.5;\"/>\n    </g>\n    <g id=\"line2d_46\"/>\n    <g id=\"text_12\">\n     <!-- 700 -->\n     <g transform=\"translate(76.65 38.476562)scale(0.1 -0.1)\">\n      <defs>\n       <path d=\"M 525 4666 \nL 3525 4666 \nL 3525 4397 \nL 1831 0 \nL 1172 0 \nL 2766 4134 \nL 525 4134 \nL 525 4666 \nz\n\" id=\"DejaVuSans-37\" transform=\"scale(0.015625)\"/>\n      </defs>\n      <use xlink:href=\"#DejaVuSans-37\"/>\n      <use x=\"63.623047\" xlink:href=\"#DejaVuSans-30\"/>\n      <use x=\"127.246094\" xlink:href=\"#DejaVuSans-30\"/>\n     </g>\n    </g>\n    <g id=\"line2d_47\">\n     <path d=\"M 48.65 49.654687 \nL 68.65 49.654687 \n\" style=\"fill:none;stroke:#2ca02c;stroke-linecap:square;stroke-width:1.5;\"/>\n    </g>\n    <g id=\"line2d_48\"/>\n    <g id=\"text_13\">\n     <!-- TempCount -->\n     <g transform=\"translate(76.65 53.154687)scale(0.1 -0.1)\">\n      <defs>\n       <path d=\"M -19 4666 \nL 3928 4666 \nL 3928 4134 \nL 2272 4134 \nL 2272 0 \nL 1638 0 \nL 1638 4134 \nL -19 4134 \nL -19 4666 \nz\n\" id=\"DejaVuSans-54\" transform=\"scale(0.015625)\"/>\n       <path d=\"M 4122 4306 \nL 4122 3641 \nQ 3803 3938 3442 4084 \nQ 3081 4231 2675 4231 \nQ 1875 4231 1450 3742 \nQ 1025 3253 1025 2328 \nQ 1025 1406 1450 917 \nQ 1875 428 2675 428 \nQ 3081 428 3442 575 \nQ 3803 722 4122 1019 \nL 4122 359 \nQ 3791 134 3420 21 \nQ 3050 -91 2638 -91 \nQ 1578 -91 968 557 \nQ 359 1206 359 2328 \nQ 359 3453 968 4101 \nQ 1578 4750 2638 4750 \nQ 3056 4750 3426 4639 \nQ 3797 4528 4122 4306 \nz\n\" id=\"DejaVuSans-43\" transform=\"scale(0.015625)\"/>\n       <path d=\"M 1959 3097 \nQ 1497 3097 1228 2736 \nQ 959 2375 959 1747 \nQ 959 1119 1226 758 \nQ 1494 397 1959 397 \nQ 2419 397 2687 759 \nQ 2956 1122 2956 1747 \nQ 2956 2369 2687 2733 \nQ 2419 3097 1959 3097 \nz\nM 1959 3584 \nQ 2709 3584 3137 3096 \nQ 3566 2609 3566 1747 \nQ 3566 888 3137 398 \nQ 2709 -91 1959 -91 \nQ 1206 -91 779 398 \nQ 353 888 353 1747 \nQ 353 2609 779 3096 \nQ 1206 3584 1959 3584 \nz\n\" id=\"DejaVuSans-6f\" transform=\"scale(0.015625)\"/>\n       <path d=\"M 544 1381 \nL 544 3500 \nL 1119 3500 \nL 1119 1403 \nQ 1119 906 1312 657 \nQ 1506 409 1894 409 \nQ 2359 409 2629 706 \nQ 2900 1003 2900 1516 \nL 2900 3500 \nL 3475 3500 \nL 3475 0 \nL 2900 0 \nL 2900 538 \nQ 2691 219 2414 64 \nQ 2138 -91 1772 -91 \nQ 1169 -91 856 284 \nQ 544 659 544 1381 \nz\nM 1991 3584 \nL 1991 3584 \nz\n\" id=\"DejaVuSans-75\" transform=\"scale(0.015625)\"/>\n       <path d=\"M 3513 2113 \nL 3513 0 \nL 2938 0 \nL 2938 2094 \nQ 2938 2591 2744 2837 \nQ 2550 3084 2163 3084 \nQ 1697 3084 1428 2787 \nQ 1159 2491 1159 1978 \nL 1159 0 \nL 581 0 \nL 581 3500 \nL 1159 3500 \nL 1159 2956 \nQ 1366 3272 1645 3428 \nQ 1925 3584 2291 3584 \nQ 2894 3584 3203 3211 \nQ 3513 2838 3513 2113 \nz\n\" id=\"DejaVuSans-6e\" transform=\"scale(0.015625)\"/>\n      </defs>\n      <use xlink:href=\"#DejaVuSans-54\"/>\n      <use x=\"44.083984\" xlink:href=\"#DejaVuSans-65\"/>\n      <use x=\"105.607422\" xlink:href=\"#DejaVuSans-6d\"/>\n      <use x=\"203.019531\" xlink:href=\"#DejaVuSans-70\"/>\n      <use x=\"266.496094\" xlink:href=\"#DejaVuSans-43\"/>\n      <use x=\"336.320312\" xlink:href=\"#DejaVuSans-6f\"/>\n      <use x=\"397.501953\" xlink:href=\"#DejaVuSans-75\"/>\n      <use x=\"460.880859\" xlink:href=\"#DejaVuSans-6e\"/>\n      <use x=\"524.259766\" xlink:href=\"#DejaVuSans-74\"/>\n     </g>\n    </g>\n    <g id=\"line2d_49\">\n     <path d=\"M 48.65 64.332812 \nL 68.65 64.332812 \n\" style=\"fill:none;stroke:#d62728;stroke-linecap:square;stroke-width:1.5;\"/>\n    </g>\n    <g id=\"line2d_50\"/>\n    <g id=\"text_14\">\n     <!-- chlor_fluorescence -->\n     <g transform=\"translate(76.65 67.832812)scale(0.1 -0.1)\">\n      <defs>\n       <path d=\"M 3122 3366 \nL 3122 2828 \nQ 2878 2963 2633 3030 \nQ 2388 3097 2138 3097 \nQ 1578 3097 1268 2742 \nQ 959 2388 959 1747 \nQ 959 1106 1268 751 \nQ 1578 397 2138 397 \nQ 2388 397 2633 464 \nQ 2878 531 3122 666 \nL 3122 134 \nQ 2881 22 2623 -34 \nQ 2366 -91 2075 -91 \nQ 1284 -91 818 406 \nQ 353 903 353 1747 \nQ 353 2603 823 3093 \nQ 1294 3584 2113 3584 \nQ 2378 3584 2631 3529 \nQ 2884 3475 3122 3366 \nz\n\" id=\"DejaVuSans-63\" transform=\"scale(0.015625)\"/>\n       <path d=\"M 3513 2113 \nL 3513 0 \nL 2938 0 \nL 2938 2094 \nQ 2938 2591 2744 2837 \nQ 2550 3084 2163 3084 \nQ 1697 3084 1428 2787 \nQ 1159 2491 1159 1978 \nL 1159 0 \nL 581 0 \nL 581 4863 \nL 1159 4863 \nL 1159 2956 \nQ 1366 3272 1645 3428 \nQ 1925 3584 2291 3584 \nQ 2894 3584 3203 3211 \nQ 3513 2838 3513 2113 \nz\n\" id=\"DejaVuSans-68\" transform=\"scale(0.015625)\"/>\n       <path d=\"M 603 4863 \nL 1178 4863 \nL 1178 0 \nL 603 0 \nL 603 4863 \nz\n\" id=\"DejaVuSans-6c\" transform=\"scale(0.015625)\"/>\n       <path d=\"M 2631 2963 \nQ 2534 3019 2420 3045 \nQ 2306 3072 2169 3072 \nQ 1681 3072 1420 2755 \nQ 1159 2438 1159 1844 \nL 1159 0 \nL 581 0 \nL 581 3500 \nL 1159 3500 \nL 1159 2956 \nQ 1341 3275 1631 3429 \nQ 1922 3584 2338 3584 \nQ 2397 3584 2469 3576 \nQ 2541 3569 2628 3553 \nL 2631 2963 \nz\n\" id=\"DejaVuSans-72\" transform=\"scale(0.015625)\"/>\n       <path d=\"M 2375 4863 \nL 2375 4384 \nL 1825 4384 \nQ 1516 4384 1395 4259 \nQ 1275 4134 1275 3809 \nL 1275 3500 \nL 2222 3500 \nL 2222 3053 \nL 1275 3053 \nL 1275 0 \nL 697 0 \nL 697 3053 \nL 147 3053 \nL 147 3500 \nL 697 3500 \nL 697 3744 \nQ 697 4328 969 4595 \nQ 1241 4863 1831 4863 \nL 2375 4863 \nz\n\" id=\"DejaVuSans-66\" transform=\"scale(0.015625)\"/>\n       <path d=\"M 2834 3397 \nL 2834 2853 \nQ 2591 2978 2328 3040 \nQ 2066 3103 1784 3103 \nQ 1356 3103 1142 2972 \nQ 928 2841 928 2578 \nQ 928 2378 1081 2264 \nQ 1234 2150 1697 2047 \nL 1894 2003 \nQ 2506 1872 2764 1633 \nQ 3022 1394 3022 966 \nQ 3022 478 2636 193 \nQ 2250 -91 1575 -91 \nQ 1294 -91 989 -36 \nQ 684 19 347 128 \nL 347 722 \nQ 666 556 975 473 \nQ 1284 391 1588 391 \nQ 1994 391 2212 530 \nQ 2431 669 2431 922 \nQ 2431 1156 2273 1281 \nQ 2116 1406 1581 1522 \nL 1381 1569 \nQ 847 1681 609 1914 \nQ 372 2147 372 2553 \nQ 372 3047 722 3315 \nQ 1072 3584 1716 3584 \nQ 2034 3584 2315 3537 \nQ 2597 3491 2834 3397 \nz\n\" id=\"DejaVuSans-73\" transform=\"scale(0.015625)\"/>\n      </defs>\n      <use xlink:href=\"#DejaVuSans-63\"/>\n      <use x=\"54.980469\" xlink:href=\"#DejaVuSans-68\"/>\n      <use x=\"118.359375\" xlink:href=\"#DejaVuSans-6c\"/>\n      <use x=\"146.142578\" xlink:href=\"#DejaVuSans-6f\"/>\n      <use x=\"207.324219\" xlink:href=\"#DejaVuSans-72\"/>\n      <use x=\"248.4375\" xlink:href=\"#DejaVuSans-5f\"/>\n      <use x=\"298.4375\" xlink:href=\"#DejaVuSans-66\"/>\n      <use x=\"333.642578\" xlink:href=\"#DejaVuSans-6c\"/>\n      <use x=\"361.425781\" xlink:href=\"#DejaVuSans-75\"/>\n      <use x=\"424.804688\" xlink:href=\"#DejaVuSans-6f\"/>\n      <use x=\"485.986328\" xlink:href=\"#DejaVuSans-72\"/>\n      <use x=\"524.849609\" xlink:href=\"#DejaVuSans-65\"/>\n      <use x=\"586.373047\" xlink:href=\"#DejaVuSans-73\"/>\n      <use x=\"638.472656\" xlink:href=\"#DejaVuSans-63\"/>\n      <use x=\"693.453125\" xlink:href=\"#DejaVuSans-65\"/>\n      <use x=\"754.976562\" xlink:href=\"#DejaVuSans-6e\"/>\n      <use x=\"818.355469\" xlink:href=\"#DejaVuSans-63\"/>\n      <use x=\"873.335938\" xlink:href=\"#DejaVuSans-65\"/>\n     </g>\n    </g>\n    <g id=\"line2d_51\">\n     <path d=\"M 48.65 79.289062 \nL 68.65 79.289062 \n\" style=\"fill:none;stroke:#9467bd;stroke-linecap:square;stroke-width:1.5;\"/>\n    </g>\n    <g id=\"line2d_52\"/>\n    <g id=\"text_15\">\n     <!-- turbidity -->\n     <g transform=\"translate(76.65 82.789062)scale(0.1 -0.1)\">\n      <defs>\n       <path d=\"M 3116 1747 \nQ 3116 2381 2855 2742 \nQ 2594 3103 2138 3103 \nQ 1681 3103 1420 2742 \nQ 1159 2381 1159 1747 \nQ 1159 1113 1420 752 \nQ 1681 391 2138 391 \nQ 2594 391 2855 752 \nQ 3116 1113 3116 1747 \nz\nM 1159 2969 \nQ 1341 3281 1617 3432 \nQ 1894 3584 2278 3584 \nQ 2916 3584 3314 3078 \nQ 3713 2572 3713 1747 \nQ 3713 922 3314 415 \nQ 2916 -91 2278 -91 \nQ 1894 -91 1617 61 \nQ 1341 213 1159 525 \nL 1159 0 \nL 581 0 \nL 581 4863 \nL 1159 4863 \nL 1159 2969 \nz\n\" id=\"DejaVuSans-62\" transform=\"scale(0.015625)\"/>\n       <path d=\"M 2059 -325 \nQ 1816 -950 1584 -1140 \nQ 1353 -1331 966 -1331 \nL 506 -1331 \nL 506 -850 \nL 844 -850 \nQ 1081 -850 1212 -737 \nQ 1344 -625 1503 -206 \nL 1606 56 \nL 191 3500 \nL 800 3500 \nL 1894 763 \nL 2988 3500 \nL 3597 3500 \nL 2059 -325 \nz\n\" id=\"DejaVuSans-79\" transform=\"scale(0.015625)\"/>\n      </defs>\n      <use xlink:href=\"#DejaVuSans-74\"/>\n      <use x=\"39.208984\" xlink:href=\"#DejaVuSans-75\"/>\n      <use x=\"102.587891\" xlink:href=\"#DejaVuSans-72\"/>\n      <use x=\"143.701172\" xlink:href=\"#DejaVuSans-62\"/>\n      <use x=\"207.177734\" xlink:href=\"#DejaVuSans-69\"/>\n      <use x=\"234.960938\" xlink:href=\"#DejaVuSans-64\"/>\n      <use x=\"298.4375\" xlink:href=\"#DejaVuSans-69\"/>\n      <use x=\"326.220703\" xlink:href=\"#DejaVuSans-74\"/>\n      <use x=\"365.429688\" xlink:href=\"#DejaVuSans-79\"/>\n     </g>\n    </g>\n   </g>\n  </g>\n </g>\n <defs>\n  <clipPath id=\"p248a145cd4\">\n   <rect height=\"217.44\" width=\"334.8\" x=\"39.65\" y=\"7.2\"/>\n  </clipPath>\n </defs>\n</svg>\n",
      "image/png": "[encoded data removed]"
     },
     "metadata": {
      "needs_background": "light"
     }
    }
   ],
   "source": [
    "eco_data.plot()"
   ]
  },
  {
   "cell_type": "markdown",
   "id": "acknowledged-active",
   "metadata": {},
   "source": [
    "## Add Deployment meta information\n",
    "\n",
    "Two methods are available (if comming from python2 world - ordereddict was important... in py38 a dictionary is inherently ordered)"
   ]
  },
  {
   "cell_type": "code",
   "execution_count": 10,
   "id": "freelance-fairy",
   "metadata": {},
   "outputs": [],
   "source": [
    "#just a dictionary of dictionaries - simple\n",
    "with open(mooring_meta_file) as file:\n",
    "    mooring_config = yaml.full_load(file)"
   ]
  },
  {
   "cell_type": "code",
   "execution_count": 11,
   "id": "proper-ghana",
   "metadata": {},
   "outputs": [],
   "source": [
    "#Generates an ordereddict but prints better for summary\n",
    "#likely to be depricated as an ordered dict may not be useful and drops a dependency if its EOL\n",
    "mooring_config_v2 = load_config.load_config(mooring_meta_file)"
   ]
  },
  {
   "cell_type": "code",
   "execution_count": 12,
   "id": "israeli-begin",
   "metadata": {},
   "outputs": [
    {
     "output_type": "execute_result",
     "data": {
      "text/plain": [
       "{'InstType': 'Eco-Fluorometer FLNTUS',\n",
       " 'SerialNo': '1075',\n",
       " 'DesignedDepth': 0.0,\n",
       " 'ActualDepth': 0.0,\n",
       " 'PreDeploymentNotes': 'Not actually deployed - test instrument',\n",
       " 'PostDeploymentNotes': '',\n",
       " 'Deployed': 'n',\n",
       " 'Recovered': 'n'}"
      ]
     },
     "metadata": {},
     "execution_count": 12
    }
   ],
   "source": [
    "mooring_config['Instrumentation'][instrument]"
   ]
  },
  {
   "cell_type": "markdown",
   "id": "mysterious-cornwall",
   "metadata": {},
   "source": [
    "## Add Instrument meta information\n",
    "\n",
    "Time, depth, lat, lon should be added regardless (always our coordinates) but for a mooring site its going to be a (1,1,1,t) dataset\n",
    "The variables of interest should be read from the data file and matched to a key for naming.  That key is in the inst_config file seen below and should represent common conversion names in the raw data"
   ]
  },
  {
   "cell_type": "code",
   "execution_count": 13,
   "id": "checked-raise",
   "metadata": {
    "tags": []
   },
   "outputs": [
    {
     "output_type": "execute_result",
     "data": {
      "text/plain": [
       "{'time': {'epic_key': 'TIM_601',\n",
       "  'name': 'time',\n",
       "  'generic_name': 'time',\n",
       "  'standard_name': 'time',\n",
       "  'long_name': 'date and time since reference time',\n",
       "  'time_origin': '1900-01-01 00:00:00',\n",
       "  'units': 'days since 1900-01-01T00:00:00Z'},\n",
       " 'depth': {'epic_key': 'D_3',\n",
       "  'generic_name': 'depth',\n",
       "  'units': 'meter',\n",
       "  'long_name': 'depth below surface (meters)',\n",
       "  'standard_name': 'depth'},\n",
       " 'latitude': {'epic_key': 'LON_501',\n",
       "  'name': 'latitude',\n",
       "  'generic_name': 'latitude',\n",
       "  'units': 'degrees_north',\n",
       "  'long_name': 'latitude',\n",
       "  'standard_name': 'latitude'},\n",
       " 'longitude': {'epic_key': 'LAT_500',\n",
       "  'name': 'longitude',\n",
       "  'generic_name': 'longitude',\n",
       "  'units': 'degrees_east',\n",
       "  'long_name': 'longitude',\n",
       "  'standard_name': 'longitude'},\n",
       " 'timeseries_id': {'cf_role': 'timeseries_id',\n",
       "  'long_name': 'timeseries id',\n",
       "  'standard_name': ''},\n",
       " 'fluor_counts': {'epic_key': 'fluor_3031',\n",
       "  'generic_name': 'fluor_counts',\n",
       "  'long_name': 'Digital Counts from fluorometer',\n",
       "  'standard_name': 'fluorometer_digital_counts',\n",
       "  'units': 'counts'},\n",
       " 'chlor_fluorescence': {'epic_key': 'Fch_906',\n",
       "  'generic_name': 'chlor_fluorescence',\n",
       "  'long_name': 'Mass Concentration of chlorophyll from chlorophyll fluorescence',\n",
       "  'standard_name': 'mass_concentration_of_chlorophyll_in_sea_water',\n",
       "  'units': 'ugrams/l'},\n",
       " 'turbidity': {'epic_key': 'Trb_980',\n",
       "  'fortran': 'f10.2',\n",
       "  'generic_name': 'turbidity',\n",
       "  'longname': 'Turbidity (NTU)',\n",
       "  'long_name': 'turbidity in nephelometric turbidity units',\n",
       "  'standard_name': 'sea_water_turbidity',\n",
       "  'units': 'NTU'},\n",
       " 'cdom': {'epic_key': 'CDOM_2980',\n",
       "  'generic_name': 'cdom',\n",
       "  'long_name': 'concentration of CDOM in ppb',\n",
       "  'standard_name': 'concentration_of_colored_dissolved_organic_matter_in_sea_water',\n",
       "  'units': 'ppb'}}"
      ]
     },
     "metadata": {},
     "execution_count": 13
    }
   ],
   "source": [
    "with open(inst_meta_file) as file:\n",
    "    inst_config = yaml.full_load(file)\n",
    "inst_config"
   ]
  },
  {
   "cell_type": "code",
   "execution_count": 14,
   "id": "varied-popularity",
   "metadata": {},
   "outputs": [
    {
     "output_type": "execute_result",
     "data": {
      "text/plain": [
       "<EcoFOCIpy.io.ncCFsave.EcoFOCI_CFnc at 0x164005b20>"
      ]
     },
     "metadata": {},
     "execution_count": 14
    }
   ],
   "source": [
    "# Add meta data and prelim processing based on meta data\n",
    "# Convert to xarray and add meta information - save as CF netcdf file\n",
    "# pass -> data, instmeta, depmeta\n",
    "eco_data_nc = ncCFsave.EcoFOCI_CFnc(df=eco_data, \n",
    "                                instrument_yaml=inst_config, \n",
    "                                operation_yaml=mooring_config,\n",
    "                                operation_type='mooring', \n",
    "                                instrument_id=instrument, \n",
    "                                inst_shortname=inst_shortname)\n",
    "eco_data_nc"
   ]
  },
  {
   "cell_type": "markdown",
   "id": "asian-chambers",
   "metadata": {},
   "source": [
    "At this point, you could save your file with the `.xarray2netcdf_save()` method and have a functioning dataset.... but it would be very simple with no additional qc, meta-data, or tuned parameters for optimizing software like ferret or erddap."
   ]
  },
  {
   "cell_type": "code",
   "execution_count": 15,
   "id": "practical-pennsylvania",
   "metadata": {},
   "outputs": [],
   "source": [
    "# expand the dimensions and coordinate variables\n",
    "# renames them appropriatley and prepares them for meta-filled values\n",
    "eco_data_nc.expand_dimensions()"
   ]
  },
  {
   "cell_type": "code",
   "execution_count": 16,
   "id": "floral-operations",
   "metadata": {},
   "outputs": [],
   "source": [
    "eco_data_nc.variable_meta_data(variable_keys=list(eco_data.columns.values),drop_missing=True)\n",
    "eco_data_nc.temporal_geospatioal_meta_data()\n",
    "#adding dimension meta needs to come after updating the dimension values... BUG?\n",
    "eco_data_nc.dimension_meta_data(variable_keys=['depth','latitude','longitude'])"
   ]
  },
  {
   "cell_type": "markdown",
   "id": "seventh-product",
   "metadata": {},
   "source": [
    "The following steps can happen in just about any order and are all meta-data driven.  Therefore, they are not required to have a functioning dataset, but they are required to have a well described dataset"
   ]
  },
  {
   "cell_type": "code",
   "execution_count": 17,
   "id": "auburn-diversity",
   "metadata": {},
   "outputs": [],
   "source": [
    "#add global attributes\n",
    "eco_data_nc.deployment_meta_add()\n",
    "eco_data_nc.get_xdf()\n",
    "\n",
    "#add instituitonal global attributes\n",
    "eco_data_nc.institution_meta_add()\n",
    "\n",
    "#add creation date/time - provenance data\n",
    "eco_data_nc.provinance_meta_add()\n",
    "\n",
    "#provide intial qc status field\n",
    "eco_data_nc.qc_status(qc_status='unknown')\n"
   ]
  },
  {
   "cell_type": "markdown",
   "id": "sustained-hughes",
   "metadata": {},
   "source": [
    "## Save CF Netcdf files\n",
    "\n",
    "Currently stick to netcdf3 classic... but migrating to netcdf4 (default) may be no problems for most modern purposes.  Its easy enough to pass the `format` kwargs through to the netcdf api of xarray."
   ]
  },
  {
   "cell_type": "code",
   "execution_count": 18,
   "id": "modular-volunteer",
   "metadata": {},
   "outputs": [],
   "source": [
    "# combine trim (not mandatory) and filename together (saves to test.nc without name)\n",
    "\n",
    "depth = str(int(mooring_config['Instrumentation'][instrument]['ActualDepth'])).zfill(4)\n",
    "# mooring_yaml['Instrumentation'][self.instrument_id]['DesignedDepth'])).zfill(4) #<-- alternative\n",
    "filename = \"\".join(mooring_config['MooringID'].split('-')).lower()+'_'+inst_shortname+'_'+depth+'m.nc'\n",
    "eco_data_nc.xarray2netcdf_save(xdf = eco_data_nc.autotrim_time(),\n",
    "                           filename=filename,format=\"NETCDF3_CLASSIC\")\n",
    "\n",
    "# don't trim the data and pass your own filename\n",
    "# eco_data_nc.xarray2netcdf_save(xdf = eco_data_nc.get_xdf(),\n",
    "#                            filename=filename,format=\"NETCDF4_CLASSIC\")"
   ]
  },
  {
   "cell_type": "code",
   "execution_count": 19,
   "id": "unlike-breathing",
   "metadata": {},
   "outputs": [
    {
     "output_type": "execute_result",
     "data": {
      "text/plain": [
       "<xarray.Dataset>\n",
       "Dimensions:             (depth: 1, latitude: 1, longitude: 1, time: 741)\n",
       "Coordinates:\n",
       "  * time                (time) datetime64[ns] 2014-08-20T01:00:00 ... 2014-09...\n",
       "  * latitude            (latitude) float64 56.87\n",
       "  * longitude           (longitude) float64 -164.0\n",
       "  * depth               (depth) float64 0.0\n",
       "Data variables:\n",
       "    chlor_fluorescence  (time, depth, latitude, longitude) float64 32.02 ... ...\n",
       "    turbidity           (time, depth, latitude, longitude) float64 744.1 ... ...\n",
       "Attributes: (12/13)\n",
       "    Latitude-Deg_MM.dd_W:                   56 52.1729 N\n",
       "    Longitude-Deg_MM.dd_N:                  164 02.8716 W\n",
       "    MooringID:                              16BSM-2A\n",
       "    platform_deployment_date:               2016-05-05T05:51:00Z\n",
       "    platform_deployment_cruise_name:        DY1606\n",
       "    platform_recovery_date:                 2016-09-29T03:45:00Z\n",
       "    ...                                     ...\n",
       "    platform_deployment_recovery_comments:  Depth not listed - other two moor...\n",
       "    WaterDepth:                             71.0\n",
       "    date_created:                           2021-04-23T13:53:50Z\n",
       "    date_modified:                          \n",
       "    QC_indicator:                           unknown\n",
       "    history:                                Trimmed to deployment."
      ],
      "text/html": "<div><svg style=\"position: absolute; width: 0; height: 0; overflow: hidden\">\n<defs>\n<symbol id=\"icon-database\" viewBox=\"0 0 32 32\">\n<path d=\"M16 0c-8.837 0-16 2.239-16 5v4c0 2.761 7.163 5 16 5s16-2.239 16-5v-4c0-2.761-7.163-5-16-5z\"></path>\n<path d=\"M16 17c-8.837 0-16-2.239-16-5v6c0 2.761 7.163 5 16 5s16-2.239 16-5v-6c0 2.761-7.163 5-16 5z\"></path>\n<path d=\"M16 26c-8.837 0-16-2.239-16-5v6c0 2.761 7.163 5 16 5s16-2.239 16-5v-6c0 2.761-7.163 5-16 5z\"></path>\n</symbol>\n<symbol id=\"icon-file-text2\" viewBox=\"0 0 32 32\">\n<path d=\"M28.681 7.159c-0.694-0.947-1.662-2.053-2.724-3.116s-2.169-2.030-3.116-2.724c-1.612-1.182-2.393-1.319-2.841-1.319h-15.5c-1.378 0-2.5 1.121-2.5 2.5v27c0 1.378 1.122 2.5 2.5 2.5h23c1.378 0 2.5-1.122 2.5-2.5v-19.5c0-0.448-0.137-1.23-1.319-2.841zM24.543 5.457c0.959 0.959 1.712 1.825 2.268 2.543h-4.811v-4.811c0.718 0.556 1.584 1.309 2.543 2.268zM28 29.5c0 0.271-0.229 0.5-0.5 0.5h-23c-0.271 0-0.5-0.229-0.5-0.5v-27c0-0.271 0.229-0.5 0.5-0.5 0 0 15.499-0 15.5 0v7c0 0.552 0.448 1 1 1h7v19.5z\"></path>\n<path d=\"M23 26h-14c-0.552 0-1-0.448-1-1s0.448-1 1-1h14c0.552 0 1 0.448 1 1s-0.448 1-1 1z\"></path>\n<path d=\"M23 22h-14c-0.552 0-1-0.448-1-1s0.448-1 1-1h14c0.552 0 1 0.448 1 1s-0.448 1-1 1z\"></path>\n<path d=\"M23 18h-14c-0.552 0-1-0.448-1-1s0.448-1 1-1h14c0.552 0 1 0.448 1 1s-0.448 1-1 1z\"></path>\n</symbol>\n</defs>\n</svg>\n<style>/* CSS stylesheet for displaying xarray objects in jupyterlab.\n *\n */\n\n:root {\n  --xr-font-color0: var(--jp-content-font-color0, rgba(0, 0, 0, 1));\n  --xr-font-color2: var(--jp-content-font-color2, rgba(0, 0, 0, 0.54));\n  --xr-font-color3: var(--jp-content-font-color3, rgba(0, 0, 0, 0.38));\n  --xr-border-color: var(--jp-border-color2, #e0e0e0);\n  --xr-disabled-color: var(--jp-layout-color3, #bdbdbd);\n  --xr-background-color: var(--jp-layout-color0, white);\n  --xr-background-color-row-even: var(--jp-layout-color1, white);\n  --xr-background-color-row-odd: var(--jp-layout-color2, #eeeeee);\n}\n\nhtml[theme=dark],\nbody.vscode-dark {\n  --xr-font-color0: rgba(255, 255, 255, 1);\n  --xr-font-color2: rgba(255, 255, 255, 0.54);\n  --xr-font-color3: rgba(255, 255, 255, 0.38);\n  --xr-border-color: #1F1F1F;\n  --xr-disabled-color: #515151;\n  --xr-background-color: #111111;\n  --xr-background-color-row-even: #111111;\n  --xr-background-color-row-odd: #313131;\n}\n\n.xr-wrap {\n  display: block;\n  min-width: 300px;\n  max-width: 700px;\n}\n\n.xr-text-repr-fallback {\n  /* fallback to plain text repr when CSS is not injected (untrusted notebook) */\n  display: none;\n}\n\n.xr-header {\n  padding-top: 6px;\n  padding-bottom: 6px;\n  margin-bottom: 4px;\n  border-bottom: solid 1px var(--xr-border-color);\n}\n\n.xr-header > div,\n.xr-header > ul {\n  display: inline;\n  margin-top: 0;\n  margin-bottom: 0;\n}\n\n.xr-obj-type,\n.xr-array-name {\n  margin-left: 2px;\n  margin-right: 10px;\n}\n\n.xr-obj-type {\n  color: var(--xr-font-color2);\n}\n\n.xr-sections {\n  padding-left: 0 !important;\n  display: grid;\n  grid-template-columns: 150px auto auto 1fr 20px 20px;\n}\n\n.xr-section-item {\n  display: contents;\n}\n\n.xr-section-item input {\n  display: none;\n}\n\n.xr-section-item input + label {\n  color: var(--xr-disabled-color);\n}\n\n.xr-section-item input:enabled + label {\n  cursor: pointer;\n  color: var(--xr-font-color2);\n}\n\n.xr-section-item input:enabled + label:hover {\n  color: var(--xr-font-color0);\n}\n\n.xr-section-summary {\n  grid-column: 1;\n  color: var(--xr-font-color2);\n  font-weight: 500;\n}\n\n.xr-section-summary > span {\n  display: inline-block;\n  padding-left: 0.5em;\n}\n\n.xr-section-summary-in:disabled + label {\n  color: var(--xr-font-color2);\n}\n\n.xr-section-summary-in + label:before {\n  display: inline-block;\n  content: '►';\n  font-size: 11px;\n  width: 15px;\n  text-align: center;\n}\n\n.xr-section-summary-in:disabled + label:before {\n  color: var(--xr-disabled-color);\n}\n\n.xr-section-summary-in:checked + label:before {\n  content: '▼';\n}\n\n.xr-section-summary-in:checked + label > span {\n  display: none;\n}\n\n.xr-section-summary,\n.xr-section-inline-details {\n  padding-top: 4px;\n  padding-bottom: 4px;\n}\n\n.xr-section-inline-details {\n  grid-column: 2 / -1;\n}\n\n.xr-section-details {\n  display: none;\n  grid-column: 1 / -1;\n  margin-bottom: 5px;\n}\n\n.xr-section-summary-in:checked ~ .xr-section-details {\n  display: contents;\n}\n\n.xr-array-wrap {\n  grid-column: 1 / -1;\n  display: grid;\n  grid-template-columns: 20px auto;\n}\n\n.xr-array-wrap > label {\n  grid-column: 1;\n  vertical-align: top;\n}\n\n.xr-preview {\n  color: var(--xr-font-color3);\n}\n\n.xr-array-preview,\n.xr-array-data {\n  padding: 0 5px !important;\n  grid-column: 2;\n}\n\n.xr-array-data,\n.xr-array-in:checked ~ .xr-array-preview {\n  display: none;\n}\n\n.xr-array-in:checked ~ .xr-array-data,\n.xr-array-preview {\n  display: inline-block;\n}\n\n.xr-dim-list {\n  display: inline-block !important;\n  list-style: none;\n  padding: 0 !important;\n  margin: 0;\n}\n\n.xr-dim-list li {\n  display: inline-block;\n  padding: 0;\n  margin: 0;\n}\n\n.xr-dim-list:before {\n  content: '(';\n}\n\n.xr-dim-list:after {\n  content: ')';\n}\n\n.xr-dim-list li:not(:last-child):after {\n  content: ',';\n  padding-right: 5px;\n}\n\n.xr-has-index {\n  font-weight: bold;\n}\n\n.xr-var-list,\n.xr-var-item {\n  display: contents;\n}\n\n.xr-var-item > div,\n.xr-var-item label,\n.xr-var-item > .xr-var-name span {\n  background-color: var(--xr-background-color-row-even);\n  margin-bottom: 0;\n}\n\n.xr-var-item > .xr-var-name:hover span {\n  padding-right: 5px;\n}\n\n.xr-var-list > li:nth-child(odd) > div,\n.xr-var-list > li:nth-child(odd) > label,\n.xr-var-list > li:nth-child(odd) > .xr-var-name span {\n  background-color: var(--xr-background-color-row-odd);\n}\n\n.xr-var-name {\n  grid-column: 1;\n}\n\n.xr-var-dims {\n  grid-column: 2;\n}\n\n.xr-var-dtype {\n  grid-column: 3;\n  text-align: right;\n  color: var(--xr-font-color2);\n}\n\n.xr-var-preview {\n  grid-column: 4;\n}\n\n.xr-var-name,\n.xr-var-dims,\n.xr-var-dtype,\n.xr-preview,\n.xr-attrs dt {\n  white-space: nowrap;\n  overflow: hidden;\n  text-overflow: ellipsis;\n  padding-right: 10px;\n}\n\n.xr-var-name:hover,\n.xr-var-dims:hover,\n.xr-var-dtype:hover,\n.xr-attrs dt:hover {\n  overflow: visible;\n  width: auto;\n  z-index: 1;\n}\n\n.xr-var-attrs,\n.xr-var-data {\n  display: none;\n  background-color: var(--xr-background-color) !important;\n  padding-bottom: 5px !important;\n}\n\n.xr-var-attrs-in:checked ~ .xr-var-attrs,\n.xr-var-data-in:checked ~ .xr-var-data {\n  display: block;\n}\n\n.xr-var-data > table {\n  float: right;\n}\n\n.xr-var-name span,\n.xr-var-data,\n.xr-attrs {\n  padding-left: 25px !important;\n}\n\n.xr-attrs,\n.xr-var-attrs,\n.xr-var-data {\n  grid-column: 1 / -1;\n}\n\ndl.xr-attrs {\n  padding: 0;\n  margin: 0;\n  display: grid;\n  grid-template-columns: 125px auto;\n}\n\n.xr-attrs dt,\n.xr-attrs dd {\n  padding: 0;\n  margin: 0;\n  float: left;\n  padding-right: 10px;\n  width: auto;\n}\n\n.xr-attrs dt {\n  font-weight: normal;\n  grid-column: 1;\n}\n\n.xr-attrs dt:hover span {\n  display: inline-block;\n  background: var(--xr-background-color);\n  padding-right: 10px;\n}\n\n.xr-attrs dd {\n  grid-column: 2;\n  white-space: pre-wrap;\n  word-break: break-all;\n}\n\n.xr-icon-database,\n.xr-icon-file-text2 {\n  display: inline-block;\n  vertical-align: middle;\n  width: 1em;\n  height: 1.5em !important;\n  stroke-width: 0;\n  stroke: currentColor;\n  fill: currentColor;\n}\n</style><pre class='xr-text-repr-fallback'>&lt;xarray.Dataset&gt;\nDimensions:             (depth: 1, latitude: 1, longitude: 1, time: 741)\nCoordinates:\n  * time                (time) datetime64[ns] 2014-08-20T01:00:00 ... 2014-09...\n  * latitude            (latitude) float64 56.87\n  * longitude           (longitude) float64 -164.0\n  * depth               (depth) float64 0.0\nData variables:\n    chlor_fluorescence  (time, depth, latitude, longitude) float64 32.02 ... ...\n    turbidity           (time, depth, latitude, longitude) float64 744.1 ... ...\nAttributes: (12/13)\n    Latitude-Deg_MM.dd_W:                   56 52.1729 N\n    Longitude-Deg_MM.dd_N:                  164 02.8716 W\n    MooringID:                              16BSM-2A\n    platform_deployment_date:               2016-05-05T05:51:00Z\n    platform_deployment_cruise_name:        DY1606\n    platform_recovery_date:                 2016-09-29T03:45:00Z\n    ...                                     ...\n    platform_deployment_recovery_comments:  Depth not listed - other two moor...\n    WaterDepth:                             71.0\n    date_created:                           2021-04-23T13:53:50Z\n    date_modified:                          \n    QC_indicator:                           unknown\n    history:                                Trimmed to deployment.</pre><div class='xr-wrap' hidden><div class='xr-header'><div class='xr-obj-type'>xarray.Dataset</div></div><ul class='xr-sections'><li class='xr-section-item'><input id='section-af147c90-a999-43b7-b881-452bb3712552' class='xr-section-summary-in' type='checkbox' disabled ><label for='section-af147c90-a999-43b7-b881-452bb3712552' class='xr-section-summary'  title='Expand/collapse section'>Dimensions:</label><div class='xr-section-inline-details'><ul class='xr-dim-list'><li><span class='xr-has-index'>depth</span>: 1</li><li><span class='xr-has-index'>latitude</span>: 1</li><li><span class='xr-has-index'>longitude</span>: 1</li><li><span class='xr-has-index'>time</span>: 741</li></ul></div><div class='xr-section-details'></div></li><li class='xr-section-item'><input id='section-826fb0bf-815b-439b-a6fe-d971376dac95' class='xr-section-summary-in' type='checkbox'  checked><label for='section-826fb0bf-815b-439b-a6fe-d971376dac95' class='xr-section-summary' >Coordinates: <span>(4)</span></label><div class='xr-section-inline-details'></div><div class='xr-section-details'><ul class='xr-var-list'><li class='xr-var-item'><div class='xr-var-name'><span class='xr-has-index'>time</span></div><div class='xr-var-dims'>(time)</div><div class='xr-var-dtype'>datetime64[ns]</div><div class='xr-var-preview xr-preview'>2014-08-20T01:00:00 ... 2014-09-...</div><input id='attrs-a34e8b2b-9991-4a91-928a-cc35925f6659' class='xr-var-attrs-in' type='checkbox' disabled><label for='attrs-a34e8b2b-9991-4a91-928a-cc35925f6659' title='Show/Hide attributes'><svg class='icon xr-icon-file-text2'><use xlink:href='#icon-file-text2'></use></svg></label><input id='data-e330eb59-d37c-43ed-8650-d0d469ce5667' class='xr-var-data-in' type='checkbox'><label for='data-e330eb59-d37c-43ed-8650-d0d469ce5667' title='Show/Hide data repr'><svg class='icon xr-icon-database'><use xlink:href='#icon-database'></use></svg></label><div class='xr-var-attrs'><dl class='xr-attrs'></dl></div><div class='xr-var-data'><pre>array([&#x27;2014-08-20T01:00:00.000000000&#x27;, &#x27;2014-08-20T02:00:00.000000000&#x27;,\n       &#x27;2014-08-20T03:00:00.000000000&#x27;, ..., &#x27;2014-09-19T19:00:00.000000000&#x27;,\n       &#x27;2014-09-19T20:00:00.000000000&#x27;, &#x27;2014-09-19T21:00:00.000000000&#x27;],\n      dtype=&#x27;datetime64[ns]&#x27;)</pre></div></li><li class='xr-var-item'><div class='xr-var-name'><span class='xr-has-index'>latitude</span></div><div class='xr-var-dims'>(latitude)</div><div class='xr-var-dtype'>float64</div><div class='xr-var-preview xr-preview'>56.87</div><input id='attrs-a7b05571-16ff-4522-88e0-eb5ea55a2b55' class='xr-var-attrs-in' type='checkbox' ><label for='attrs-a7b05571-16ff-4522-88e0-eb5ea55a2b55' title='Show/Hide attributes'><svg class='icon xr-icon-file-text2'><use xlink:href='#icon-file-text2'></use></svg></label><input id='data-fa45d34f-d5ea-4756-af01-d7e0eebffaaf' class='xr-var-data-in' type='checkbox'><label for='data-fa45d34f-d5ea-4756-af01-d7e0eebffaaf' title='Show/Hide data repr'><svg class='icon xr-icon-database'><use xlink:href='#icon-database'></use></svg></label><div class='xr-var-attrs'><dl class='xr-attrs'><dt><span>epic_key :</span></dt><dd>LON_501</dd><dt><span>name :</span></dt><dd>latitude</dd><dt><span>generic_name :</span></dt><dd>latitude</dd><dt><span>units :</span></dt><dd>degrees_north</dd><dt><span>long_name :</span></dt><dd>latitude</dd><dt><span>standard_name :</span></dt><dd>latitude</dd></dl></div><div class='xr-var-data'><pre>array([56.869548])</pre></div></li><li class='xr-var-item'><div class='xr-var-name'><span class='xr-has-index'>longitude</span></div><div class='xr-var-dims'>(longitude)</div><div class='xr-var-dtype'>float64</div><div class='xr-var-preview xr-preview'>-164.0</div><input id='attrs-9b43a8fb-6902-468e-b3c1-ca82e5538eb9' class='xr-var-attrs-in' type='checkbox' ><label for='attrs-9b43a8fb-6902-468e-b3c1-ca82e5538eb9' title='Show/Hide attributes'><svg class='icon xr-icon-file-text2'><use xlink:href='#icon-file-text2'></use></svg></label><input id='data-9249c2f1-9b0b-47a0-8edc-046b71a6452e' class='xr-var-data-in' type='checkbox'><label for='data-9249c2f1-9b0b-47a0-8edc-046b71a6452e' title='Show/Hide data repr'><svg class='icon xr-icon-database'><use xlink:href='#icon-database'></use></svg></label><div class='xr-var-attrs'><dl class='xr-attrs'><dt><span>epic_key :</span></dt><dd>LAT_500</dd><dt><span>name :</span></dt><dd>longitude</dd><dt><span>generic_name :</span></dt><dd>longitude</dd><dt><span>units :</span></dt><dd>degrees_east</dd><dt><span>long_name :</span></dt><dd>longitude</dd><dt><span>standard_name :</span></dt><dd>longitude</dd></dl></div><div class='xr-var-data'><pre>array([-164.04786])</pre></div></li><li class='xr-var-item'><div class='xr-var-name'><span class='xr-has-index'>depth</span></div><div class='xr-var-dims'>(depth)</div><div class='xr-var-dtype'>float64</div><div class='xr-var-preview xr-preview'>0.0</div><input id='attrs-664ecf5e-7346-4121-83f3-60731977b9b6' class='xr-var-attrs-in' type='checkbox' ><label for='attrs-664ecf5e-7346-4121-83f3-60731977b9b6' title='Show/Hide attributes'><svg class='icon xr-icon-file-text2'><use xlink:href='#icon-file-text2'></use></svg></label><input id='data-19132496-bb06-4e8f-bff8-4a0da77ab60a' class='xr-var-data-in' type='checkbox'><label for='data-19132496-bb06-4e8f-bff8-4a0da77ab60a' title='Show/Hide data repr'><svg class='icon xr-icon-database'><use xlink:href='#icon-database'></use></svg></label><div class='xr-var-attrs'><dl class='xr-attrs'><dt><span>epic_key :</span></dt><dd>D_3</dd><dt><span>generic_name :</span></dt><dd>depth</dd><dt><span>units :</span></dt><dd>meter</dd><dt><span>long_name :</span></dt><dd>depth below surface (meters)</dd><dt><span>standard_name :</span></dt><dd>depth</dd></dl></div><div class='xr-var-data'><pre>array([0.])</pre></div></li></ul></div></li><li class='xr-section-item'><input id='section-727eadf9-99b1-42a9-ab12-45419f985134' class='xr-section-summary-in' type='checkbox'  checked><label for='section-727eadf9-99b1-42a9-ab12-45419f985134' class='xr-section-summary' >Data variables: <span>(2)</span></label><div class='xr-section-inline-details'></div><div class='xr-section-details'><ul class='xr-var-list'><li class='xr-var-item'><div class='xr-var-name'><span>chlor_fluorescence</span></div><div class='xr-var-dims'>(time, depth, latitude, longitude)</div><div class='xr-var-dtype'>float64</div><div class='xr-var-preview xr-preview'>32.02 30.0 27.98 ... 25.48 25.49</div><input id='attrs-711cfeda-c067-4c65-9cfa-0926ffe9a3ea' class='xr-var-attrs-in' type='checkbox' ><label for='attrs-711cfeda-c067-4c65-9cfa-0926ffe9a3ea' title='Show/Hide attributes'><svg class='icon xr-icon-file-text2'><use xlink:href='#icon-file-text2'></use></svg></label><input id='data-7e95db99-3a87-4f46-8edd-6cdace2c1175' class='xr-var-data-in' type='checkbox'><label for='data-7e95db99-3a87-4f46-8edd-6cdace2c1175' title='Show/Hide data repr'><svg class='icon xr-icon-database'><use xlink:href='#icon-database'></use></svg></label><div class='xr-var-attrs'><dl class='xr-attrs'><dt><span>epic_key :</span></dt><dd>Fch_906</dd><dt><span>generic_name :</span></dt><dd>chlor_fluorescence</dd><dt><span>long_name :</span></dt><dd>Mass Concentration of chlorophyll from chlorophyll fluorescence</dd><dt><span>standard_name :</span></dt><dd>mass_concentration_of_chlorophyll_in_sea_water</dd><dt><span>units :</span></dt><dd>ugrams/l</dd></dl></div><div class='xr-var-data'><pre>array([[[[32.02048667]]],\n\n\n       [[[29.99875333]]],\n\n\n       [[[27.97702   ]]],\n\n\n       [[[25.95528667]]],\n\n\n       [[[23.93355333]]],\n\n\n       [[[21.91182   ]]],\n\n\n       [[[19.89008667]]],\n\n...\n\n       [[[26.13518667]]],\n\n\n       [[[26.15060667]]],\n\n\n       [[[25.82764333]]],\n\n\n       [[[25.62718333]]],\n\n\n       [[[25.65631   ]]],\n\n\n       [[[25.47726667]]],\n\n\n       [[[25.48626167]]]])</pre></div></li><li class='xr-var-item'><div class='xr-var-name'><span>turbidity</span></div><div class='xr-var-dims'>(time, depth, latitude, longitude)</div><div class='xr-var-dtype'>float64</div><div class='xr-var-preview xr-preview'>744.1 697.0 649.8 ... 777.1 777.1</div><input id='attrs-258cd21e-b532-44b7-be22-b3ab05aacd8d' class='xr-var-attrs-in' type='checkbox' ><label for='attrs-258cd21e-b532-44b7-be22-b3ab05aacd8d' title='Show/Hide attributes'><svg class='icon xr-icon-file-text2'><use xlink:href='#icon-file-text2'></use></svg></label><input id='data-7bfa6ae5-7121-4855-80af-d05c8d722ca6' class='xr-var-data-in' type='checkbox'><label for='data-7bfa6ae5-7121-4855-80af-d05c8d722ca6' title='Show/Hide data repr'><svg class='icon xr-icon-database'><use xlink:href='#icon-database'></use></svg></label><div class='xr-var-attrs'><dl class='xr-attrs'><dt><span>epic_key :</span></dt><dd>Trb_980</dd><dt><span>fortran :</span></dt><dd>f10.2</dd><dt><span>generic_name :</span></dt><dd>turbidity</dd><dt><span>longname :</span></dt><dd>Turbidity (NTU)</dd><dt><span>long_name :</span></dt><dd>turbidity in nephelometric turbidity units</dd><dt><span>standard_name :</span></dt><dd>sea_water_turbidity</dd><dt><span>units :</span></dt><dd>NTU</dd></dl></div><div class='xr-var-data'><pre>array([[[[ 7.44092440e+02]]],\n\n\n       [[[ 6.96961640e+02]]],\n\n\n       [[[ 6.49830840e+02]]],\n\n\n       [[[ 6.02700040e+02]]],\n\n\n       [[[ 5.55569240e+02]]],\n\n\n       [[[ 5.08438440e+02]]],\n\n\n       [[[ 4.61307640e+02]]],\n\n...\n\n       [[[ 7.77084000e+02]]],\n\n\n       [[[ 7.77084000e+02]]],\n\n\n       [[[ 7.77084000e+02]]],\n\n\n       [[[ 7.77084000e+02]]],\n\n\n       [[[ 7.77084000e+02]]],\n\n\n       [[[ 7.77084000e+02]]],\n\n\n       [[[ 7.77084000e+02]]]])</pre></div></li></ul></div></li><li class='xr-section-item'><input id='section-15346974-8a2b-433e-8a9e-c2d0a9e71f16' class='xr-section-summary-in' type='checkbox'  ><label for='section-15346974-8a2b-433e-8a9e-c2d0a9e71f16' class='xr-section-summary' >Attributes: <span>(13)</span></label><div class='xr-section-inline-details'></div><div class='xr-section-details'><dl class='xr-attrs'><dt><span>Latitude-Deg_MM.dd_W :</span></dt><dd>56 52.1729 N</dd><dt><span>Longitude-Deg_MM.dd_N :</span></dt><dd>164 02.8716 W</dd><dt><span>MooringID :</span></dt><dd>16BSM-2A</dd><dt><span>platform_deployment_date :</span></dt><dd>2016-05-05T05:51:00Z</dd><dt><span>platform_deployment_cruise_name :</span></dt><dd>DY1606</dd><dt><span>platform_recovery_date :</span></dt><dd>2016-09-29T03:45:00Z</dd><dt><span>platform_recovery_cruise_name :</span></dt><dd>AQ1601</dd><dt><span>platform_deployment_recovery_comments :</span></dt><dd>Depth not listed - other two moorings BSP-2A and ITAE are at 71m so figure 71m</dd><dt><span>WaterDepth :</span></dt><dd>71.0</dd><dt><span>date_created :</span></dt><dd>2021-04-23T13:53:50Z</dd><dt><span>date_modified :</span></dt><dd></dd><dt><span>QC_indicator :</span></dt><dd>unknown</dd><dt><span>history :</span></dt><dd>Trimmed to deployment.</dd></dl></div></li></ul></div></div>"
     },
     "metadata": {},
     "execution_count": 19
    }
   ],
   "source": [
    "eco_data_nc.get_xdf()"
   ]
  },
  {
   "cell_type": "markdown",
   "id": "individual-nature",
   "metadata": {},
   "source": [
    "## Next Steps\n",
    "\n",
    "QC of data (plot parameters with other instruments)\n",
    "- be sure to updated the qc_status and the history"
   ]
  },
  {
   "cell_type": "code",
   "execution_count": null,
   "id": "insured-vulnerability",
   "metadata": {},
   "outputs": [],
   "source": []
  }
 ],
 "metadata": {
  "kernelspec": {
   "name": "python388jvsc74a57bd0ea8efced7f9f908505a4e28889b9d0ff7d52e9a5c03dfaa80d1d80124525970c",
   "display_name": "Python 3.8.8 64-bit ('py38': conda)"
  },
  "language_info": {
   "codemirror_mode": {
    "name": "ipython",
    "version": 3
   },
   "file_extension": ".py",
   "mimetype": "text/x-python",
   "name": "python",
   "nbconvert_exporter": "python",
   "pygments_lexer": "ipython3",
   "version": "3.8.8"
  }
 },
 "nbformat": 4,
 "nbformat_minor": 5
}
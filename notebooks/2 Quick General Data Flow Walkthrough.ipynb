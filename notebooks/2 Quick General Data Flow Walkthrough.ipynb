{
 "cells": [
  {
   "cell_type": "markdown",
   "id": "b4ec10ea-2a3b-4914-91ec-08e1a68293c5",
   "metadata": {},
   "source": [
    "# A Quick General Walkthrough from Ship to Shore to FOCI Datacenter"
   ]
  },
  {
   "cell_type": "markdown",
   "id": "eb606871-6f2e-45d3-ae4d-53f7e32155ee",
   "metadata": {},
   "source": [
    "Data comes from FOCI investigation in one of two general manners:  \n",
    "__delayed mode__ : downloaded upon retrieval of instrumentation  \n",
    "__realtime mode__ : transmitted via serial connection or satellite uplink  \n",
    "\n",
    "Realtime has historically been:\n",
    "- ARGO (clsamerica)\n",
    "- Irridium SBD packets (often ingested via EDD/SDIG rudics systems\n",
    "- TELOS\n",
    "- as well as via direct connection to instrumentation via serial ports\n",
    "\n",
    "We also use the following terminalogy to describe data through various stages of processing:\n",
    "- preliminary / near real time (NRT): this is data with minimal qc and minimal metadata... used for quick looks and initial explorations\n",
    "- working: not often hosted but is an intermediary state where some qc has been applied but not completed\n",
    "- final: vetted data with major QC attributes take care of\n",
    "\n",
    "Common Data Types:\n",
    "- Profile data (CTD) at point locations. Collected usually by Cruise\n",
    "- Discrete Sampled Profile data (CTD nutrients/oxy/chlor bottles) at point locations. Collected usually by Cruise\n",
    "- Moored timeseries data at point locations.  Organized first by depth, then collected by mooring site\n",
    "- Moored profile (prawler).  TimeSeriesProfile.  Organized by mooring site.\n",
    "- Moored gridded profile (binned gridded ADCP). Organized by mooring site.\n",
    "- TrajectoryProfile (gliders). Organized by campaign\n",
    "\n",
    "Common Synthesized Datasets:\n",
    "- merged continuous profile data (CTD - commonly binned to 1m) with discrete data\n",
    "- gridded (on a common timestep... usually hourly) moored timeseries data\n",
    "- gridded (in depth and time?) timeseriesprofile data (1m and 1hr?)\n",
    "- gridded (in depth and time?) TrajectoryProfile data (1m)\n",
    "\n",
    "_Standard QC_\n",
    "- baseline corrections to collocated field characterizations / calibrations\n",
    "- application of most relevant calibration equations\n",
    "- removal of spikes and singleton outliers (manual edits to a csv file or - see [EcoFOCIpy_1d_filter_example.ipynb](EcoFOCIpy_1d_filter_example.ipynb) for other options)\n",
    "- removal of known periods of non-ideal operation (engineering issues, contamination, etc... usually from logs and notes)\n",
    "- secondary characterization and correction equations"
   ]
  },
  {
   "cell_type": "markdown",
   "id": "f899ef42-2132-434a-b1c4-5fe079d58b42",
   "metadata": {},
   "source": [
    "## Data Preprocessing\n",
    "\n",
    "Some instruments like SBE hex files and ADCP raw files need to be translated to a known format (csv, ascii), and some vendors (SBE, Seaguards, ADCP) have software that can do much of the initial calculations to obtain oceanographic data from engineering data.  Where possible, use vendor software or vendor equations as these are normally well documented (or at least point to a source reference for the equations)."
   ]
  },
  {
   "cell_type": "markdown",
   "id": "ee0cda6e-fb7a-4e66-844d-47dba09df38b",
   "metadata": {},
   "source": [
    "## Data Archiving (EcoFOCI-centric)\n",
    "\n",
    "1. Primary disk space for all data is on the *EcoRAID* raid server \n",
    "    - General data structure:  \n",
    "    {year}/{operation_type}/\n",
    "2. Primary RESTfull access is via erddap (current machine: akutan)\n",
    "    - Github repo with erddap dataset descriptions - [https://github.com/NOAA-PMEL/EcoFOCI_AutoAnalysis/](https://github.com/NOAA-PMEL/EcoFOCI_AutoAnalysis/pulls) - where each entry can be merged with all other entries within a folder to build a datasets.xml\n",
    "3. Mutliple locations for field meta information and media data\n",
    "    - ecofoci mariadb database (current machine: akutan)\n",
    "    - media like images (CNSD: mule/pesto)\n",
    "    - documentation (Github: ecofoci_xxxx, Google Drive: pmel-foci functional account or member drives)"
   ]
  },
  {
   "cell_type": "markdown",
   "id": "c46266d7-43cd-4fdb-9602-abe42b2becee",
   "metadata": {},
   "source": [
    "## Data QC'ing (EcoFOCI-centric)\n",
    "\n",
    "1. Two workflows (really similar)\n",
    "    - erddap driven (griddap can go via xarry, tabledap will by via pandas)\n",
    "    - raw data (often netcdf) driven"
   ]
  },
  {
   "cell_type": "code",
   "execution_count": null,
   "id": "aef466c2-5417-40bb-968a-74355f374638",
   "metadata": {},
   "outputs": [],
   "source": []
  }
 ],
 "metadata": {
  "kernelspec": {
   "display_name": "Python [conda env:py38] *",
   "language": "python",
   "name": "conda-env-py38-py"
  },
  "language_info": {
   "codemirror_mode": {
    "name": "ipython",
    "version": 3
   },
   "file_extension": ".py",
   "mimetype": "text/x-python",
   "name": "python",
   "nbconvert_exporter": "python",
   "pygments_lexer": "ipython3",
   "version": "3.8.12"
  }
 },
 "nbformat": 4,
 "nbformat_minor": 5
}

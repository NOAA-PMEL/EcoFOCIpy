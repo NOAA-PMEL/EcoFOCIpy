{
 "cells": [
  {
   "cell_type": "markdown",
   "id": "educational-chosen",
   "metadata": {},
   "source": [
    "# Using EcoFOCIpy to process raw field data\n",
    "\n",
    "## Mooring / Timeseries Data\n",
    "\n",
    "Basic workflow for each instrument grouping is *(initial archive level)*:\n",
    "- Parse data from raw files into pandas dataframe\n",
    "- output initial files (pandas->csv) **ERDDAP NRT** when no meta data is added\n",
    "\n",
    "Convert to xarray dataframe for all following work *(working or final data level):\n",
    "- TODO: Add metadata from instrument yaml files and/or header info\n",
    "- ingest metadata from deployment/recovery records or cast logs\n",
    "- process data beyond simple file translate\n",
    "- apply any calibrations or corrections\n",
    "    + field corrections\n",
    "    + offsets\n",
    "    + instrument compensations\n",
    "    + some QC were available... this would be old-school simple bounds mostly\n",
    "- adjust time bounds and sample frequency (xarray dataframe)\n",
    "- save as CF netcdf via xarray: so many of the steps above are optional\n",
    "    + **ERDDAP NRT** if no corrections, offsets or time bounds are applied but some meta data is\n",
    "    + **Working and awaiting QC** has no ERDDAP representation and is a holding spot\n",
    "    + **ERDDAP Final** fully calibrated, qc'd and populated with meta information\n",
    "\n",
    "Plot for preview and QC\n",
    "- preview images (indiv and/or collectively)\n",
    "- manual qc process\n",
    "- automated qc process ML/AI\n",
    "\n",
    "Further refinenments for ERDDAP hosting:\n"
   ]
  },
  {
   "cell_type": "markdown",
   "id": "allied-miniature",
   "metadata": {},
   "source": [
    "## Example below is for SBE-39 but the workflow is similar for all instruments.\n",
    "\n",
    "Future processing of this instrument can be a simplified (no markdown) process which can be archived so that the procedure can be traced or updated"
   ]
  },
  {
   "cell_type": "code",
   "execution_count": 1,
   "id": "studied-pollution",
   "metadata": {},
   "outputs": [],
   "source": [
    "import yaml\n",
    "\n",
    "import EcoFOCIpy.io.sbe_parser as sbe_parser #<- instrument specific\n",
    "import EcoFOCIpy.io.ncCFsave as ncCFsave\n",
    "import EcoFOCIpy.metaconfig.load_config as load_config"
   ]
  },
  {
   "cell_type": "markdown",
   "id": "public-millennium",
   "metadata": {},
   "source": [
    "The sample_data_dir should be included in the github package but may not be included in the pip install of the package\n",
    "\n",
    "## Simple Processing - first step"
   ]
  },
  {
   "cell_type": "code",
   "execution_count": 2,
   "id": "offensive-level",
   "metadata": {},
   "outputs": [],
   "source": [
    "sample_data_dir = '../'"
   ]
  },
  {
   "cell_type": "code",
   "execution_count": 18,
   "id": "third-yellow",
   "metadata": {},
   "outputs": [],
   "source": [
    "###############################################################\n",
    "# edit to point to {instrument sepcific} raw datafile \n",
    "datafile = sample_data_dir+'staticdata/example_data/sbe56_timeJ.cnv'\n",
    "instrument = 'SBE-56 2453'\n",
    "mooring_meta_file = sample_data_dir+'staticdata/mooring_example.yaml'\n",
    "inst_meta_file = sample_data_dir+'staticdata/instr_metaconfig/sbe56_cf.yaml'\n",
    "inst_shortname = 's56'\n",
    "###############################################################\n",
    "\n",
    "#init and load data\n",
    "sbe56_wop = sbe_parser.sbe56()\n",
    "(sbe56_wop_data,sbe56_wop_header) = sbe56_wop.parse(filename=datafile,\n",
    "                                                    return_header=True,\n",
    "                                                    datetime_index=True) "
   ]
  },
  {
   "cell_type": "code",
   "execution_count": 19,
   "id": "fifteen-military",
   "metadata": {},
   "outputs": [
    {
     "output_type": "execute_result",
     "data": {
      "text/plain": [
       "['* <?xml version=\"1.0\"?>\\n',\n",
       " '* <!--DeviceManager-->\\n',\n",
       " '* <SBEDataUploadFile>\\n',\n",
       " '* <ApplicationData>\\n',\n",
       " '* <DeviceInterfaceAppData>\\n',\n",
       " '* <SoftwareVersion>1.8</SoftwareVersion>\\n',\n",
       " '* <BuildDate>11-Jan-2012 21:42:18 UTC</BuildDate>\\n',\n",
       " '* </DeviceInterfaceAppData>\\n',\n",
       " '* </ApplicationData>\\n',\n",
       " '* <InstrumentState>\\n',\n",
       " \"* <StatusData DeviceType='SBE56' SerialNumber='05602453'>\\n\",\n",
       " '*    <DateTime>2018-10-04T04:10:52</DateTime>\\n',\n",
       " '*    <DelayedStart>2018-04-30T14:00:00</DelayedStart>\\n',\n",
       " \"*    <EventSummary numEvents='0'/>\\n\",\n",
       " '*    <Power>\\n',\n",
       " '*       <MainSupplyVoltage>3.63</MainSupplyVoltage>\\n',\n",
       " '*       </Power>\\n',\n",
       " '*    <ADCRatio>\\n',\n",
       " '*       <Ratio>8784063</Ratio>\\n',\n",
       " '*       </ADCRatio>\\n',\n",
       " '*    <Battery>\\n',\n",
       " '*       <Installed>2018-03-13T18:45:41</Installed>\\n',\n",
       " '*       <Samples>45099</Samples>\\n',\n",
       " '*       </Battery>\\n',\n",
       " '*    <MemorySummary>\\n',\n",
       " '*       <Samples>45099</Samples>\\n',\n",
       " '*       <Bytes>187904</Bytes>\\n',\n",
       " '*       <BytesFree>66396672</BytesFree>\\n',\n",
       " '*       </MemorySummary>\\n',\n",
       " '*    </StatusData>\\n',\n",
       " '* \\n',\n",
       " \"* <HardwareData DeviceType='SBE56' SerialNumber='05602453'>\\n\",\n",
       " '*    <Manufacturer>Sea-Bird Electronics, Inc</Manufacturer>\\n',\n",
       " '*    <FirmwareVersion>SBE56 V0.96</FirmwareVersion>\\n',\n",
       " '*    <FirmwareDate>Feb 25 2011</FirmwareDate>\\n',\n",
       " \"*    <PCBAssembly PCBID='052157' AssemblyNum='41688E'/>\\n\",\n",
       " '*    <MfgDate>Feb 25 2011</MfgDate>\\n',\n",
       " '*    <PCBType>0</PCBType>\\n',\n",
       " '*    <InternalSensors>\\n',\n",
       " \"*       <Sensor id='Water Temperature'>\\n\",\n",
       " '*          <type>TEMP0</type>\\n',\n",
       " '*          <SerialNumber>05602453</SerialNumber>\\n',\n",
       " '*          </Sensor>\\n',\n",
       " '*       </InternalSensors>\\n',\n",
       " '*    </HardwareData>\\n',\n",
       " '* \\n',\n",
       " \"* <ConfigurationData DeviceType='SBE56' SerialNumber='05602453'>\\n\",\n",
       " '*    <Settings\\n',\n",
       " \"*       samplePeriod='300' format='1' />\\n\",\n",
       " '*    </ConfigurationData>\\n',\n",
       " '* \\n',\n",
       " \"* <CalibrationCoefficients DeviceType='SBE56' SerialNumber='05602453'>\\n\",\n",
       " \"*    <Calibration format='TEMP0' id='Water Temperature'>\\n\",\n",
       " '*       <CalDate>2013-03-24</CalDate>\\n',\n",
       " '*       <a0>-1.225231E-03</a0>\\n',\n",
       " '*       <a1>3.455180E-04</a1>\\n',\n",
       " '*       <a2>-6.596437E-06</a2>\\n',\n",
       " '*       <a3>2.014821E-07</a3>\\n',\n",
       " '*       <OFFSET>0.000000E+00</OFFSET>\\n',\n",
       " '*       </Calibration>\\n',\n",
       " '*    </CalibrationCoefficients>\\n',\n",
       " '* \\n',\n",
       " \"* <EventSummary DeviceType='SBE56' SerialNumber='05602453'>\\n\",\n",
       " \"*    <EventList numEvents='0' maxStack='-2'>\\n\",\n",
       " '*       </EventList>\\n',\n",
       " '*    </EventSummary>\\n',\n",
       " '* \\n',\n",
       " '* </InstrumentState>\\n',\n",
       " '# nquan = 4\\n',\n",
       " '# nvalues = 45099                                 \\n',\n",
       " '# units = specified\\n',\n",
       " '# name 0 = scan: Scan Count\\n',\n",
       " '# name 1 = timeJ: Julian Days\\n',\n",
       " '# name 2 = t090C: Temperature [ITS-90, deg C\\n',\n",
       " '# name 3 = flag:   0.000e+00\\n',\n",
       " '# span 0 =          1,      45099                 \\n',\n",
       " '# span 1 = 120.583333, 277.173600                 \\n',\n",
       " '# span 2 =     3.4129,    19.2721                 \\n',\n",
       " '# span 3 =  0.000e+00,  0.000e+00                 \\n',\n",
       " '# interval = seconds: 300                         \\n',\n",
       " '# start_time = Apr 30 2018 14:00:00               \\n',\n",
       " '# bad_flag =  -9.990e-29\\n',\n",
       " '# sensor 0 = RRatio temperature, 05602453         \\n',\n",
       " '# datcnv_date = Nov 06 2018 20:33:14, SeatermUSB v 1.8.1\\n',\n",
       " '# datcnv_in = D:\\\\sbe56\\\\18bsm2a_sbe56_2453_47m.xml\\n',\n",
       " '# datcnv_skipover = 0\\n',\n",
       " '# file_type = ascii\\n',\n",
       " '*END*\\n']"
      ]
     },
     "metadata": {},
     "execution_count": 19
    }
   ],
   "source": [
    "sbe56_wop_header"
   ]
  },
  {
   "cell_type": "code",
   "execution_count": 20,
   "id": "alive-bruce",
   "metadata": {},
   "outputs": [
    {
     "output_type": "execute_result",
     "data": {
      "text/plain": [
       "                            index  temperature  flag\n",
       "date_time                                           \n",
       "2018-08-29 03:59:59.971200      1       4.4944   0.0\n",
       "2018-08-29 04:05:00.038400      2       4.4623   0.0\n",
       "2018-08-29 04:10:00.019200      3       4.4588   0.0\n",
       "2018-08-29 04:15:00.000000      4       4.4487   0.0\n",
       "2018-08-29 04:19:59.980800      5       4.4253   0.0\n",
       "...                           ...          ...   ...\n",
       "2018-08-29 14:00:00.000000    121       7.1509   0.0\n",
       "2018-08-29 14:04:59.980800    122       6.5324   0.0\n",
       "2018-08-29 14:09:59.961600    123       6.4130   0.0\n",
       "2018-08-29 14:14:58.992000    124       6.1029   0.0\n",
       "2018-08-29 14:19:58.972800    125       6.2053   0.0\n",
       "\n",
       "[125 rows x 3 columns]"
      ],
      "text/html": "<div>\n<style scoped>\n    .dataframe tbody tr th:only-of-type {\n        vertical-align: middle;\n    }\n\n    .dataframe tbody tr th {\n        vertical-align: top;\n    }\n\n    .dataframe thead th {\n        text-align: right;\n    }\n</style>\n<table border=\"1\" class=\"dataframe\">\n  <thead>\n    <tr style=\"text-align: right;\">\n      <th></th>\n      <th>index</th>\n      <th>temperature</th>\n      <th>flag</th>\n    </tr>\n    <tr>\n      <th>date_time</th>\n      <th></th>\n      <th></th>\n      <th></th>\n    </tr>\n  </thead>\n  <tbody>\n    <tr>\n      <th>2018-08-29 03:59:59.971200</th>\n      <td>1</td>\n      <td>4.4944</td>\n      <td>0.0</td>\n    </tr>\n    <tr>\n      <th>2018-08-29 04:05:00.038400</th>\n      <td>2</td>\n      <td>4.4623</td>\n      <td>0.0</td>\n    </tr>\n    <tr>\n      <th>2018-08-29 04:10:00.019200</th>\n      <td>3</td>\n      <td>4.4588</td>\n      <td>0.0</td>\n    </tr>\n    <tr>\n      <th>2018-08-29 04:15:00.000000</th>\n      <td>4</td>\n      <td>4.4487</td>\n      <td>0.0</td>\n    </tr>\n    <tr>\n      <th>2018-08-29 04:19:59.980800</th>\n      <td>5</td>\n      <td>4.4253</td>\n      <td>0.0</td>\n    </tr>\n    <tr>\n      <th>...</th>\n      <td>...</td>\n      <td>...</td>\n      <td>...</td>\n    </tr>\n    <tr>\n      <th>2018-08-29 14:00:00.000000</th>\n      <td>121</td>\n      <td>7.1509</td>\n      <td>0.0</td>\n    </tr>\n    <tr>\n      <th>2018-08-29 14:04:59.980800</th>\n      <td>122</td>\n      <td>6.5324</td>\n      <td>0.0</td>\n    </tr>\n    <tr>\n      <th>2018-08-29 14:09:59.961600</th>\n      <td>123</td>\n      <td>6.4130</td>\n      <td>0.0</td>\n    </tr>\n    <tr>\n      <th>2018-08-29 14:14:58.992000</th>\n      <td>124</td>\n      <td>6.1029</td>\n      <td>0.0</td>\n    </tr>\n    <tr>\n      <th>2018-08-29 14:19:58.972800</th>\n      <td>125</td>\n      <td>6.2053</td>\n      <td>0.0</td>\n    </tr>\n  </tbody>\n</table>\n<p>125 rows × 3 columns</p>\n</div>"
     },
     "metadata": {},
     "execution_count": 20
    }
   ],
   "source": [
    "sbe56_wop_data"
   ]
  },
  {
   "cell_type": "markdown",
   "id": "ready-audit",
   "metadata": {},
   "source": [
    "## Time properties\n",
    "\n",
    "Its unusual that our clocks drift to the point of concern for our instruments (if an instrument is off by 3 minutes but only sampling hourly... regridding that data will result in minimal changes).  However, there are a few time oriented modifications that may need to be made.\n",
    "\n",
    "The can be classified into two categories:\n",
    "+ interpolate: these change the parameter values in accordance with the time edits\n",
    "    - linear interpolation is most common\n",
    "    - averaging of data and rebinning/resampling is also common (this needs to have the \"time lable\" thought out...)\n",
    "    - decimating is less common but does not impact the max/min values\n",
    "+ shift: these do not alter the measurements, just the timestamps they are associated with\n",
    "    - the round function will work well to correct small time errors/drifts **common**\n",
    "    - dropping extra precision on time (if you want hourly measurements, just remove all minute/second info... could cause large errors if rounding would have been more appropriate)"
   ]
  },
  {
   "cell_type": "markdown",
   "id": "supposed-bankruptcy",
   "metadata": {},
   "source": [
    "It is very easy to use pandas interplation and resample methods on the dataframe as is.  A few steps are suggested below:\n",
    "- parse out on-deck (predeployment and recovery) data.  This can be done via pandas or xarray but requires the mooring metadata to have been read in.  See future steps below.\n",
    "- even if the sample frequency is set to the desired measurement frequency, it would be good to perform a quick regridding as an assurance task\n",
    "- FOCI data is usualy 1min, 10min, 1hr - and the 1min data is a fairly new (sbe56) data stream\n",
    "    + subsampling high frequency data to lower frequency is easy via df.resample().mean() but it will label the new datapoint per default instructions.  The default is to label it with the left boundary of the bin.\n",
    "    + you may want to take the median instead of the mean for noisy data (fluorometer) , occasionally decimating may be more appropriate if you want to downsize the dataset size but not smear features\n",
    "    + shifting times can be a bit more involved.  There are two primary ways to do it, interpolate or shift (round)\n",
    "        - to interpolate, you will need to upsample your data to a higher frequency which will generate missing values, then interpolate (with a maximum gap size), then decimate.  This always has the artifact of smoothing data and decreasing the min/max values. **common on microcats and other 10min datasets**\n",
    "        - shifting usually just involves droping extra time \"digits\", if you want hourly, you could just drop the trailing minutes assuming you are just off the hour (8:05 -> 8:00) or you can round to the nearest time unit but niether of these changes the data value, just the time associated with it. **common on seacats and other hourly datasets**\n",
    "        - you may also be able to *shift* using the pandas datetime round function and specifing the desired frequency.\n",
    "    + I suggest if no change is needed... df.index.round(freq=*'your native sample freq'*)\n",
    "    "
   ]
  },
  {
   "cell_type": "code",
   "execution_count": 23,
   "metadata": {},
   "outputs": [
    {
     "output_type": "execute_result",
     "data": {
      "text/plain": [
       "                     index  temperature  flag\n",
       "date_time                                    \n",
       "2018-08-29 04:00:00      1       4.4944   0.0\n",
       "2018-08-29 04:05:00      2       4.4623   0.0\n",
       "2018-08-29 04:10:00      3       4.4588   0.0\n",
       "2018-08-29 04:15:00      4       4.4487   0.0\n",
       "2018-08-29 04:20:00      5       4.4253   0.0\n",
       "...                    ...          ...   ...\n",
       "2018-08-29 14:00:00    121       7.1509   0.0\n",
       "2018-08-29 14:05:00    122       6.5324   0.0\n",
       "2018-08-29 14:10:00    123       6.4130   0.0\n",
       "2018-08-29 14:15:00    124       6.1029   0.0\n",
       "2018-08-29 14:20:00    125       6.2053   0.0\n",
       "\n",
       "[125 rows x 3 columns]"
      ],
      "text/html": "<div>\n<style scoped>\n    .dataframe tbody tr th:only-of-type {\n        vertical-align: middle;\n    }\n\n    .dataframe tbody tr th {\n        vertical-align: top;\n    }\n\n    .dataframe thead th {\n        text-align: right;\n    }\n</style>\n<table border=\"1\" class=\"dataframe\">\n  <thead>\n    <tr style=\"text-align: right;\">\n      <th></th>\n      <th>index</th>\n      <th>temperature</th>\n      <th>flag</th>\n    </tr>\n    <tr>\n      <th>date_time</th>\n      <th></th>\n      <th></th>\n      <th></th>\n    </tr>\n  </thead>\n  <tbody>\n    <tr>\n      <th>2018-08-29 04:00:00</th>\n      <td>1</td>\n      <td>4.4944</td>\n      <td>0.0</td>\n    </tr>\n    <tr>\n      <th>2018-08-29 04:05:00</th>\n      <td>2</td>\n      <td>4.4623</td>\n      <td>0.0</td>\n    </tr>\n    <tr>\n      <th>2018-08-29 04:10:00</th>\n      <td>3</td>\n      <td>4.4588</td>\n      <td>0.0</td>\n    </tr>\n    <tr>\n      <th>2018-08-29 04:15:00</th>\n      <td>4</td>\n      <td>4.4487</td>\n      <td>0.0</td>\n    </tr>\n    <tr>\n      <th>2018-08-29 04:20:00</th>\n      <td>5</td>\n      <td>4.4253</td>\n      <td>0.0</td>\n    </tr>\n    <tr>\n      <th>...</th>\n      <td>...</td>\n      <td>...</td>\n      <td>...</td>\n    </tr>\n    <tr>\n      <th>2018-08-29 14:00:00</th>\n      <td>121</td>\n      <td>7.1509</td>\n      <td>0.0</td>\n    </tr>\n    <tr>\n      <th>2018-08-29 14:05:00</th>\n      <td>122</td>\n      <td>6.5324</td>\n      <td>0.0</td>\n    </tr>\n    <tr>\n      <th>2018-08-29 14:10:00</th>\n      <td>123</td>\n      <td>6.4130</td>\n      <td>0.0</td>\n    </tr>\n    <tr>\n      <th>2018-08-29 14:15:00</th>\n      <td>124</td>\n      <td>6.1029</td>\n      <td>0.0</td>\n    </tr>\n    <tr>\n      <th>2018-08-29 14:20:00</th>\n      <td>125</td>\n      <td>6.2053</td>\n      <td>0.0</td>\n    </tr>\n  </tbody>\n</table>\n<p>125 rows × 3 columns</p>\n</div>"
     },
     "metadata": {},
     "execution_count": 23
    }
   ],
   "source": [
    "sbe56_wop_data.index = sbe56_wop_data.index.round(freq='5min')\n",
    "sbe56_wop_data"
   ]
  },
  {
   "cell_type": "code",
   "execution_count": 24,
   "id": "fourth-perspective",
   "metadata": {},
   "outputs": [],
   "source": [
    "# because many of the values where just prior to the 5min label, resampling shifted them by default to 5min earlier\n",
    "#  changing the label to the end would resolve this this time, but it needs addressed each time\n",
    "# sbe56_wop_data = sbe56_wop_data.resample('1min').mean().interpolate(limit=5) #a 5min limit\n",
    "# sbe56_wop_data"
   ]
  },
  {
   "cell_type": "code",
   "execution_count": 25,
   "id": "undefined-membrane",
   "metadata": {},
   "outputs": [
    {
     "output_type": "execute_result",
     "data": {
      "text/plain": [
       "<AxesSubplot:xlabel='date_time'>"
      ]
     },
     "metadata": {},
     "execution_count": 25
    },
    {
     "output_type": "display_data",
     "data": {
      "text/plain": "<Figure size 432x288 with 1 Axes>",
      "image/svg+xml": "<?xml version=\"1.0\" encoding=\"utf-8\" standalone=\"no\"?>\n<!DOCTYPE svg PUBLIC \"-//W3C//DTD SVG 1.1//EN\"\n  \"http://www.w3.org/Graphics/SVG/1.1/DTD/svg11.dtd\">\n<!-- Created with matplotlib (https://matplotlib.org/) -->\n<svg height=\"262.474375pt\" version=\"1.1\" viewBox=\"0 0 378.896875 262.474375\" width=\"378.896875pt\" xmlns=\"http://www.w3.org/2000/svg\" xmlns:xlink=\"http://www.w3.org/1999/xlink\">\n <metadata>\n  <rdf:RDF xmlns:cc=\"http://creativecommons.org/ns#\" xmlns:dc=\"http://purl.org/dc/elements/1.1/\" xmlns:rdf=\"http://www.w3.org/1999/02/22-rdf-syntax-ns#\">\n   <cc:Work>\n    <dc:type rdf:resource=\"http://purl.org/dc/dcmitype/StillImage\"/>\n    <dc:date>2021-03-31T11:05:30.773781</dc:date>\n    <dc:format>image/svg+xml</dc:format>\n    <dc:creator>\n     <cc:Agent>\n      <dc:title>Matplotlib v3.3.4, https://matplotlib.org/</dc:title>\n     </cc:Agent>\n    </dc:creator>\n   </cc:Work>\n  </rdf:RDF>\n </metadata>\n <defs>\n  <style type=\"text/css\">*{stroke-linecap:butt;stroke-linejoin:round;}</style>\n </defs>\n <g id=\"figure_1\">\n  <g id=\"patch_1\">\n   <path d=\"M 0 262.474375 \nL 378.896875 262.474375 \nL 378.896875 0 \nL 0 0 \nz\n\" style=\"fill:none;\"/>\n  </g>\n  <g id=\"axes_1\">\n   <g id=\"patch_2\">\n    <path d=\"M 33.2875 224.64 \nL 368.0875 224.64 \nL 368.0875 7.2 \nL 33.2875 7.2 \nz\n\" style=\"fill:#ffffff;\"/>\n   </g>\n   <g id=\"matplotlib.axis_1\">\n    <g id=\"xtick_1\">\n     <g id=\"line2d_1\">\n      <defs>\n       <path d=\"M 0 0 \nL 0 3.5 \n\" id=\"m13ad90b741\" style=\"stroke:#000000;stroke-width:0.8;\"/>\n      </defs>\n      <g>\n       <use style=\"stroke:#000000;stroke-width:0.8;\" x=\"33.2875\" xlink:href=\"#m13ad90b741\" y=\"224.64\"/>\n      </g>\n     </g>\n     <g id=\"text_1\">\n      <!-- 04:00 -->\n      <g transform=\"translate(18.878125 239.238438)scale(0.1 -0.1)\">\n       <defs>\n        <path d=\"M 31.78125 66.40625 \nQ 24.171875 66.40625 20.328125 58.90625 \nQ 16.5 51.421875 16.5 36.375 \nQ 16.5 21.390625 20.328125 13.890625 \nQ 24.171875 6.390625 31.78125 6.390625 \nQ 39.453125 6.390625 43.28125 13.890625 \nQ 47.125 21.390625 47.125 36.375 \nQ 47.125 51.421875 43.28125 58.90625 \nQ 39.453125 66.40625 31.78125 66.40625 \nz\nM 31.78125 74.21875 \nQ 44.046875 74.21875 50.515625 64.515625 \nQ 56.984375 54.828125 56.984375 36.375 \nQ 56.984375 17.96875 50.515625 8.265625 \nQ 44.046875 -1.421875 31.78125 -1.421875 \nQ 19.53125 -1.421875 13.0625 8.265625 \nQ 6.59375 17.96875 6.59375 36.375 \nQ 6.59375 54.828125 13.0625 64.515625 \nQ 19.53125 74.21875 31.78125 74.21875 \nz\n\" id=\"DejaVuSans-48\"/>\n        <path d=\"M 37.796875 64.3125 \nL 12.890625 25.390625 \nL 37.796875 25.390625 \nz\nM 35.203125 72.90625 \nL 47.609375 72.90625 \nL 47.609375 25.390625 \nL 58.015625 25.390625 \nL 58.015625 17.1875 \nL 47.609375 17.1875 \nL 47.609375 0 \nL 37.796875 0 \nL 37.796875 17.1875 \nL 4.890625 17.1875 \nL 4.890625 26.703125 \nz\n\" id=\"DejaVuSans-52\"/>\n        <path d=\"M 11.71875 12.40625 \nL 22.015625 12.40625 \nL 22.015625 0 \nL 11.71875 0 \nz\nM 11.71875 51.703125 \nL 22.015625 51.703125 \nL 22.015625 39.3125 \nL 11.71875 39.3125 \nz\n\" id=\"DejaVuSans-58\"/>\n       </defs>\n       <use xlink:href=\"#DejaVuSans-48\"/>\n       <use x=\"63.623047\" xlink:href=\"#DejaVuSans-52\"/>\n       <use x=\"127.246094\" xlink:href=\"#DejaVuSans-58\"/>\n       <use x=\"160.9375\" xlink:href=\"#DejaVuSans-48\"/>\n       <use x=\"224.560547\" xlink:href=\"#DejaVuSans-48\"/>\n      </g>\n     </g>\n    </g>\n    <g id=\"xtick_2\">\n     <g id=\"line2d_2\">\n      <g>\n       <use style=\"stroke:#000000;stroke-width:0.8;\" x=\"368.0875\" xlink:href=\"#m13ad90b741\" y=\"224.64\"/>\n      </g>\n     </g>\n    </g>\n    <g id=\"xtick_3\">\n     <g id=\"line2d_3\">\n      <defs>\n       <path d=\"M 0 0 \nL 0 2 \n\" id=\"m38ddd3bf28\" style=\"stroke:#000000;stroke-width:0.6;\"/>\n      </defs>\n      <g>\n       <use style=\"stroke:#000000;stroke-width:0.6;\" x=\"98.0875\" xlink:href=\"#m38ddd3bf28\" y=\"224.64\"/>\n      </g>\n     </g>\n     <g id=\"text_2\">\n      <!-- 06:00 -->\n      <g transform=\"translate(83.678125 237.638438)scale(0.1 -0.1)\">\n       <defs>\n        <path d=\"M 33.015625 40.375 \nQ 26.375 40.375 22.484375 35.828125 \nQ 18.609375 31.296875 18.609375 23.390625 \nQ 18.609375 15.53125 22.484375 10.953125 \nQ 26.375 6.390625 33.015625 6.390625 \nQ 39.65625 6.390625 43.53125 10.953125 \nQ 47.40625 15.53125 47.40625 23.390625 \nQ 47.40625 31.296875 43.53125 35.828125 \nQ 39.65625 40.375 33.015625 40.375 \nz\nM 52.59375 71.296875 \nL 52.59375 62.3125 \nQ 48.875 64.0625 45.09375 64.984375 \nQ 41.3125 65.921875 37.59375 65.921875 \nQ 27.828125 65.921875 22.671875 59.328125 \nQ 17.53125 52.734375 16.796875 39.40625 \nQ 19.671875 43.65625 24.015625 45.921875 \nQ 28.375 48.1875 33.59375 48.1875 \nQ 44.578125 48.1875 50.953125 41.515625 \nQ 57.328125 34.859375 57.328125 23.390625 \nQ 57.328125 12.15625 50.6875 5.359375 \nQ 44.046875 -1.421875 33.015625 -1.421875 \nQ 20.359375 -1.421875 13.671875 8.265625 \nQ 6.984375 17.96875 6.984375 36.375 \nQ 6.984375 53.65625 15.1875 63.9375 \nQ 23.390625 74.21875 37.203125 74.21875 \nQ 40.921875 74.21875 44.703125 73.484375 \nQ 48.484375 72.75 52.59375 71.296875 \nz\n\" id=\"DejaVuSans-54\"/>\n       </defs>\n       <use xlink:href=\"#DejaVuSans-48\"/>\n       <use x=\"63.623047\" xlink:href=\"#DejaVuSans-54\"/>\n       <use x=\"127.246094\" xlink:href=\"#DejaVuSans-58\"/>\n       <use x=\"160.9375\" xlink:href=\"#DejaVuSans-48\"/>\n       <use x=\"224.560547\" xlink:href=\"#DejaVuSans-48\"/>\n      </g>\n     </g>\n    </g>\n    <g id=\"xtick_4\">\n     <g id=\"line2d_4\">\n      <g>\n       <use style=\"stroke:#000000;stroke-width:0.6;\" x=\"162.8875\" xlink:href=\"#m38ddd3bf28\" y=\"224.64\"/>\n      </g>\n     </g>\n     <g id=\"text_3\">\n      <!-- 08:00 -->\n      <g transform=\"translate(148.478125 237.638438)scale(0.1 -0.1)\">\n       <defs>\n        <path d=\"M 31.78125 34.625 \nQ 24.75 34.625 20.71875 30.859375 \nQ 16.703125 27.09375 16.703125 20.515625 \nQ 16.703125 13.921875 20.71875 10.15625 \nQ 24.75 6.390625 31.78125 6.390625 \nQ 38.8125 6.390625 42.859375 10.171875 \nQ 46.921875 13.96875 46.921875 20.515625 \nQ 46.921875 27.09375 42.890625 30.859375 \nQ 38.875 34.625 31.78125 34.625 \nz\nM 21.921875 38.8125 \nQ 15.578125 40.375 12.03125 44.71875 \nQ 8.5 49.078125 8.5 55.328125 \nQ 8.5 64.0625 14.71875 69.140625 \nQ 20.953125 74.21875 31.78125 74.21875 \nQ 42.671875 74.21875 48.875 69.140625 \nQ 55.078125 64.0625 55.078125 55.328125 \nQ 55.078125 49.078125 51.53125 44.71875 \nQ 48 40.375 41.703125 38.8125 \nQ 48.828125 37.15625 52.796875 32.3125 \nQ 56.78125 27.484375 56.78125 20.515625 \nQ 56.78125 9.90625 50.3125 4.234375 \nQ 43.84375 -1.421875 31.78125 -1.421875 \nQ 19.734375 -1.421875 13.25 4.234375 \nQ 6.78125 9.90625 6.78125 20.515625 \nQ 6.78125 27.484375 10.78125 32.3125 \nQ 14.796875 37.15625 21.921875 38.8125 \nz\nM 18.3125 54.390625 \nQ 18.3125 48.734375 21.84375 45.5625 \nQ 25.390625 42.390625 31.78125 42.390625 \nQ 38.140625 42.390625 41.71875 45.5625 \nQ 45.3125 48.734375 45.3125 54.390625 \nQ 45.3125 60.0625 41.71875 63.234375 \nQ 38.140625 66.40625 31.78125 66.40625 \nQ 25.390625 66.40625 21.84375 63.234375 \nQ 18.3125 60.0625 18.3125 54.390625 \nz\n\" id=\"DejaVuSans-56\"/>\n       </defs>\n       <use xlink:href=\"#DejaVuSans-48\"/>\n       <use x=\"63.623047\" xlink:href=\"#DejaVuSans-56\"/>\n       <use x=\"127.246094\" xlink:href=\"#DejaVuSans-58\"/>\n       <use x=\"160.9375\" xlink:href=\"#DejaVuSans-48\"/>\n       <use x=\"224.560547\" xlink:href=\"#DejaVuSans-48\"/>\n      </g>\n     </g>\n    </g>\n    <g id=\"xtick_5\">\n     <g id=\"line2d_5\">\n      <g>\n       <use style=\"stroke:#000000;stroke-width:0.6;\" x=\"227.6875\" xlink:href=\"#m38ddd3bf28\" y=\"224.64\"/>\n      </g>\n     </g>\n     <g id=\"text_4\">\n      <!-- 10:00 -->\n      <g transform=\"translate(213.278125 237.638438)scale(0.1 -0.1)\">\n       <defs>\n        <path d=\"M 12.40625 8.296875 \nL 28.515625 8.296875 \nL 28.515625 63.921875 \nL 10.984375 60.40625 \nL 10.984375 69.390625 \nL 28.421875 72.90625 \nL 38.28125 72.90625 \nL 38.28125 8.296875 \nL 54.390625 8.296875 \nL 54.390625 0 \nL 12.40625 0 \nz\n\" id=\"DejaVuSans-49\"/>\n       </defs>\n       <use xlink:href=\"#DejaVuSans-49\"/>\n       <use x=\"63.623047\" xlink:href=\"#DejaVuSans-48\"/>\n       <use x=\"127.246094\" xlink:href=\"#DejaVuSans-58\"/>\n       <use x=\"160.9375\" xlink:href=\"#DejaVuSans-48\"/>\n       <use x=\"224.560547\" xlink:href=\"#DejaVuSans-48\"/>\n      </g>\n     </g>\n    </g>\n    <g id=\"xtick_6\">\n     <g id=\"line2d_6\">\n      <g>\n       <use style=\"stroke:#000000;stroke-width:0.6;\" x=\"292.4875\" xlink:href=\"#m38ddd3bf28\" y=\"224.64\"/>\n      </g>\n     </g>\n     <g id=\"text_5\">\n      <!-- 12:00 -->\n      <g transform=\"translate(278.078125 237.638438)scale(0.1 -0.1)\">\n       <defs>\n        <path d=\"M 19.1875 8.296875 \nL 53.609375 8.296875 \nL 53.609375 0 \nL 7.328125 0 \nL 7.328125 8.296875 \nQ 12.9375 14.109375 22.625 23.890625 \nQ 32.328125 33.6875 34.8125 36.53125 \nQ 39.546875 41.84375 41.421875 45.53125 \nQ 43.3125 49.21875 43.3125 52.78125 \nQ 43.3125 58.59375 39.234375 62.25 \nQ 35.15625 65.921875 28.609375 65.921875 \nQ 23.96875 65.921875 18.8125 64.3125 \nQ 13.671875 62.703125 7.8125 59.421875 \nL 7.8125 69.390625 \nQ 13.765625 71.78125 18.9375 73 \nQ 24.125 74.21875 28.421875 74.21875 \nQ 39.75 74.21875 46.484375 68.546875 \nQ 53.21875 62.890625 53.21875 53.421875 \nQ 53.21875 48.921875 51.53125 44.890625 \nQ 49.859375 40.875 45.40625 35.40625 \nQ 44.1875 33.984375 37.640625 27.21875 \nQ 31.109375 20.453125 19.1875 8.296875 \nz\n\" id=\"DejaVuSans-50\"/>\n       </defs>\n       <use xlink:href=\"#DejaVuSans-49\"/>\n       <use x=\"63.623047\" xlink:href=\"#DejaVuSans-50\"/>\n       <use x=\"127.246094\" xlink:href=\"#DejaVuSans-58\"/>\n       <use x=\"160.9375\" xlink:href=\"#DejaVuSans-48\"/>\n       <use x=\"224.560547\" xlink:href=\"#DejaVuSans-48\"/>\n      </g>\n     </g>\n    </g>\n    <g id=\"xtick_7\">\n     <g id=\"line2d_7\">\n      <g>\n       <use style=\"stroke:#000000;stroke-width:0.6;\" x=\"357.2875\" xlink:href=\"#m38ddd3bf28\" y=\"224.64\"/>\n      </g>\n     </g>\n     <g id=\"text_6\">\n      <!-- 14:00 -->\n      <g transform=\"translate(342.878125 237.638438)scale(0.1 -0.1)\">\n       <use xlink:href=\"#DejaVuSans-49\"/>\n       <use x=\"63.623047\" xlink:href=\"#DejaVuSans-52\"/>\n       <use x=\"127.246094\" xlink:href=\"#DejaVuSans-58\"/>\n       <use x=\"160.9375\" xlink:href=\"#DejaVuSans-48\"/>\n       <use x=\"224.560547\" xlink:href=\"#DejaVuSans-48\"/>\n      </g>\n     </g>\n    </g>\n    <g id=\"text_7\">\n     <!-- date_time -->\n     <g transform=\"translate(175.616406 252.916562)scale(0.1 -0.1)\">\n      <defs>\n       <path d=\"M 45.40625 46.390625 \nL 45.40625 75.984375 \nL 54.390625 75.984375 \nL 54.390625 0 \nL 45.40625 0 \nL 45.40625 8.203125 \nQ 42.578125 3.328125 38.25 0.953125 \nQ 33.9375 -1.421875 27.875 -1.421875 \nQ 17.96875 -1.421875 11.734375 6.484375 \nQ 5.515625 14.40625 5.515625 27.296875 \nQ 5.515625 40.1875 11.734375 48.09375 \nQ 17.96875 56 27.875 56 \nQ 33.9375 56 38.25 53.625 \nQ 42.578125 51.265625 45.40625 46.390625 \nz\nM 14.796875 27.296875 \nQ 14.796875 17.390625 18.875 11.75 \nQ 22.953125 6.109375 30.078125 6.109375 \nQ 37.203125 6.109375 41.296875 11.75 \nQ 45.40625 17.390625 45.40625 27.296875 \nQ 45.40625 37.203125 41.296875 42.84375 \nQ 37.203125 48.484375 30.078125 48.484375 \nQ 22.953125 48.484375 18.875 42.84375 \nQ 14.796875 37.203125 14.796875 27.296875 \nz\n\" id=\"DejaVuSans-100\"/>\n       <path d=\"M 34.28125 27.484375 \nQ 23.390625 27.484375 19.1875 25 \nQ 14.984375 22.515625 14.984375 16.5 \nQ 14.984375 11.71875 18.140625 8.90625 \nQ 21.296875 6.109375 26.703125 6.109375 \nQ 34.1875 6.109375 38.703125 11.40625 \nQ 43.21875 16.703125 43.21875 25.484375 \nL 43.21875 27.484375 \nz\nM 52.203125 31.203125 \nL 52.203125 0 \nL 43.21875 0 \nL 43.21875 8.296875 \nQ 40.140625 3.328125 35.546875 0.953125 \nQ 30.953125 -1.421875 24.3125 -1.421875 \nQ 15.921875 -1.421875 10.953125 3.296875 \nQ 6 8.015625 6 15.921875 \nQ 6 25.140625 12.171875 29.828125 \nQ 18.359375 34.515625 30.609375 34.515625 \nL 43.21875 34.515625 \nL 43.21875 35.40625 \nQ 43.21875 41.609375 39.140625 45 \nQ 35.0625 48.390625 27.6875 48.390625 \nQ 23 48.390625 18.546875 47.265625 \nQ 14.109375 46.140625 10.015625 43.890625 \nL 10.015625 52.203125 \nQ 14.9375 54.109375 19.578125 55.046875 \nQ 24.21875 56 28.609375 56 \nQ 40.484375 56 46.34375 49.84375 \nQ 52.203125 43.703125 52.203125 31.203125 \nz\n\" id=\"DejaVuSans-97\"/>\n       <path d=\"M 18.3125 70.21875 \nL 18.3125 54.6875 \nL 36.8125 54.6875 \nL 36.8125 47.703125 \nL 18.3125 47.703125 \nL 18.3125 18.015625 \nQ 18.3125 11.328125 20.140625 9.421875 \nQ 21.96875 7.515625 27.59375 7.515625 \nL 36.8125 7.515625 \nL 36.8125 0 \nL 27.59375 0 \nQ 17.1875 0 13.234375 3.875 \nQ 9.28125 7.765625 9.28125 18.015625 \nL 9.28125 47.703125 \nL 2.6875 47.703125 \nL 2.6875 54.6875 \nL 9.28125 54.6875 \nL 9.28125 70.21875 \nz\n\" id=\"DejaVuSans-116\"/>\n       <path d=\"M 56.203125 29.59375 \nL 56.203125 25.203125 \nL 14.890625 25.203125 \nQ 15.484375 15.921875 20.484375 11.0625 \nQ 25.484375 6.203125 34.421875 6.203125 \nQ 39.59375 6.203125 44.453125 7.46875 \nQ 49.3125 8.734375 54.109375 11.28125 \nL 54.109375 2.78125 \nQ 49.265625 0.734375 44.1875 -0.34375 \nQ 39.109375 -1.421875 33.890625 -1.421875 \nQ 20.796875 -1.421875 13.15625 6.1875 \nQ 5.515625 13.8125 5.515625 26.8125 \nQ 5.515625 40.234375 12.765625 48.109375 \nQ 20.015625 56 32.328125 56 \nQ 43.359375 56 49.78125 48.890625 \nQ 56.203125 41.796875 56.203125 29.59375 \nz\nM 47.21875 32.234375 \nQ 47.125 39.59375 43.09375 43.984375 \nQ 39.0625 48.390625 32.421875 48.390625 \nQ 24.90625 48.390625 20.390625 44.140625 \nQ 15.875 39.890625 15.1875 32.171875 \nz\n\" id=\"DejaVuSans-101\"/>\n       <path d=\"M 50.984375 -16.609375 \nL 50.984375 -23.578125 \nL -0.984375 -23.578125 \nL -0.984375 -16.609375 \nz\n\" id=\"DejaVuSans-95\"/>\n       <path d=\"M 9.421875 54.6875 \nL 18.40625 54.6875 \nL 18.40625 0 \nL 9.421875 0 \nz\nM 9.421875 75.984375 \nL 18.40625 75.984375 \nL 18.40625 64.59375 \nL 9.421875 64.59375 \nz\n\" id=\"DejaVuSans-105\"/>\n       <path d=\"M 52 44.1875 \nQ 55.375 50.25 60.0625 53.125 \nQ 64.75 56 71.09375 56 \nQ 79.640625 56 84.28125 50.015625 \nQ 88.921875 44.046875 88.921875 33.015625 \nL 88.921875 0 \nL 79.890625 0 \nL 79.890625 32.71875 \nQ 79.890625 40.578125 77.09375 44.375 \nQ 74.3125 48.1875 68.609375 48.1875 \nQ 61.625 48.1875 57.5625 43.546875 \nQ 53.515625 38.921875 53.515625 30.90625 \nL 53.515625 0 \nL 44.484375 0 \nL 44.484375 32.71875 \nQ 44.484375 40.625 41.703125 44.40625 \nQ 38.921875 48.1875 33.109375 48.1875 \nQ 26.21875 48.1875 22.15625 43.53125 \nQ 18.109375 38.875 18.109375 30.90625 \nL 18.109375 0 \nL 9.078125 0 \nL 9.078125 54.6875 \nL 18.109375 54.6875 \nL 18.109375 46.1875 \nQ 21.1875 51.21875 25.484375 53.609375 \nQ 29.78125 56 35.6875 56 \nQ 41.65625 56 45.828125 52.96875 \nQ 50 49.953125 52 44.1875 \nz\n\" id=\"DejaVuSans-109\"/>\n      </defs>\n      <use xlink:href=\"#DejaVuSans-100\"/>\n      <use x=\"63.476562\" xlink:href=\"#DejaVuSans-97\"/>\n      <use x=\"124.755859\" xlink:href=\"#DejaVuSans-116\"/>\n      <use x=\"163.964844\" xlink:href=\"#DejaVuSans-101\"/>\n      <use x=\"225.488281\" xlink:href=\"#DejaVuSans-95\"/>\n      <use x=\"275.488281\" xlink:href=\"#DejaVuSans-116\"/>\n      <use x=\"314.697266\" xlink:href=\"#DejaVuSans-105\"/>\n      <use x=\"342.480469\" xlink:href=\"#DejaVuSans-109\"/>\n      <use x=\"439.892578\" xlink:href=\"#DejaVuSans-101\"/>\n     </g>\n    </g>\n   </g>\n   <g id=\"matplotlib.axis_2\">\n    <g id=\"ytick_1\">\n     <g id=\"line2d_8\">\n      <defs>\n       <path d=\"M 0 0 \nL -3.5 0 \n\" id=\"m5ced95e0b0\" style=\"stroke:#000000;stroke-width:0.8;\"/>\n      </defs>\n      <g>\n       <use style=\"stroke:#000000;stroke-width:0.8;\" x=\"33.2875\" xlink:href=\"#m5ced95e0b0\" y=\"214.756364\"/>\n      </g>\n     </g>\n     <g id=\"text_8\">\n      <!-- 0 -->\n      <g transform=\"translate(19.925 218.555582)scale(0.1 -0.1)\">\n       <use xlink:href=\"#DejaVuSans-48\"/>\n      </g>\n     </g>\n    </g>\n    <g id=\"ytick_2\">\n     <g id=\"line2d_9\">\n      <g>\n       <use style=\"stroke:#000000;stroke-width:0.8;\" x=\"33.2875\" xlink:href=\"#m5ced95e0b0\" y=\"183.128727\"/>\n      </g>\n     </g>\n     <g id=\"text_9\">\n      <!-- 20 -->\n      <g transform=\"translate(13.5625 186.927946)scale(0.1 -0.1)\">\n       <use xlink:href=\"#DejaVuSans-50\"/>\n       <use x=\"63.623047\" xlink:href=\"#DejaVuSans-48\"/>\n      </g>\n     </g>\n    </g>\n    <g id=\"ytick_3\">\n     <g id=\"line2d_10\">\n      <g>\n       <use style=\"stroke:#000000;stroke-width:0.8;\" x=\"33.2875\" xlink:href=\"#m5ced95e0b0\" y=\"151.501091\"/>\n      </g>\n     </g>\n     <g id=\"text_10\">\n      <!-- 40 -->\n      <g transform=\"translate(13.5625 155.30031)scale(0.1 -0.1)\">\n       <use xlink:href=\"#DejaVuSans-52\"/>\n       <use x=\"63.623047\" xlink:href=\"#DejaVuSans-48\"/>\n      </g>\n     </g>\n    </g>\n    <g id=\"ytick_4\">\n     <g id=\"line2d_11\">\n      <g>\n       <use style=\"stroke:#000000;stroke-width:0.8;\" x=\"33.2875\" xlink:href=\"#m5ced95e0b0\" y=\"119.873455\"/>\n      </g>\n     </g>\n     <g id=\"text_11\">\n      <!-- 60 -->\n      <g transform=\"translate(13.5625 123.672673)scale(0.1 -0.1)\">\n       <use xlink:href=\"#DejaVuSans-54\"/>\n       <use x=\"63.623047\" xlink:href=\"#DejaVuSans-48\"/>\n      </g>\n     </g>\n    </g>\n    <g id=\"ytick_5\">\n     <g id=\"line2d_12\">\n      <g>\n       <use style=\"stroke:#000000;stroke-width:0.8;\" x=\"33.2875\" xlink:href=\"#m5ced95e0b0\" y=\"88.245818\"/>\n      </g>\n     </g>\n     <g id=\"text_12\">\n      <!-- 80 -->\n      <g transform=\"translate(13.5625 92.045037)scale(0.1 -0.1)\">\n       <use xlink:href=\"#DejaVuSans-56\"/>\n       <use x=\"63.623047\" xlink:href=\"#DejaVuSans-48\"/>\n      </g>\n     </g>\n    </g>\n    <g id=\"ytick_6\">\n     <g id=\"line2d_13\">\n      <g>\n       <use style=\"stroke:#000000;stroke-width:0.8;\" x=\"33.2875\" xlink:href=\"#m5ced95e0b0\" y=\"56.618182\"/>\n      </g>\n     </g>\n     <g id=\"text_13\">\n      <!-- 100 -->\n      <g transform=\"translate(7.2 60.417401)scale(0.1 -0.1)\">\n       <use xlink:href=\"#DejaVuSans-49\"/>\n       <use x=\"63.623047\" xlink:href=\"#DejaVuSans-48\"/>\n       <use x=\"127.246094\" xlink:href=\"#DejaVuSans-48\"/>\n      </g>\n     </g>\n    </g>\n    <g id=\"ytick_7\">\n     <g id=\"line2d_14\">\n      <g>\n       <use style=\"stroke:#000000;stroke-width:0.8;\" x=\"33.2875\" xlink:href=\"#m5ced95e0b0\" y=\"24.990545\"/>\n      </g>\n     </g>\n     <g id=\"text_14\">\n      <!-- 120 -->\n      <g transform=\"translate(7.2 28.789764)scale(0.1 -0.1)\">\n       <use xlink:href=\"#DejaVuSans-49\"/>\n       <use x=\"63.623047\" xlink:href=\"#DejaVuSans-50\"/>\n       <use x=\"127.246094\" xlink:href=\"#DejaVuSans-48\"/>\n      </g>\n     </g>\n    </g>\n   </g>\n   <g id=\"line2d_15\">\n    <path clip-path=\"url(#pa5d8a2be28)\" d=\"M 33.2875 213.174982 \nL 35.9875 211.5936 \nL 38.6875 210.012218 \nL 41.3875 208.430836 \nL 44.0875 206.849455 \nL 46.7875 205.268073 \nL 49.4875 203.686691 \nL 52.1875 202.105309 \nL 54.8875 200.523927 \nL 57.5875 198.942545 \nL 60.2875 197.361164 \nL 62.9875 195.779782 \nL 65.6875 194.1984 \nL 68.3875 192.617018 \nL 71.0875 191.035636 \nL 73.7875 189.454255 \nL 76.4875 187.872873 \nL 79.1875 186.291491 \nL 81.8875 184.710109 \nL 84.5875 183.128727 \nL 87.2875 181.547345 \nL 89.9875 179.965964 \nL 92.6875 178.384582 \nL 95.3875 176.8032 \nL 98.0875 175.221818 \nL 100.7875 173.640436 \nL 103.4875 172.059055 \nL 106.1875 170.477673 \nL 108.8875 168.896291 \nL 111.5875 167.314909 \nL 114.2875 165.733527 \nL 116.9875 164.152145 \nL 119.6875 162.570764 \nL 122.3875 160.989382 \nL 125.0875 159.408 \nL 127.7875 157.826618 \nL 130.4875 156.245236 \nL 133.1875 154.663855 \nL 135.8875 153.082473 \nL 138.5875 151.501091 \nL 141.2875 149.919709 \nL 143.9875 148.338327 \nL 146.6875 146.756945 \nL 149.3875 145.175564 \nL 152.0875 143.594182 \nL 154.7875 142.0128 \nL 157.4875 140.431418 \nL 160.1875 138.850036 \nL 162.8875 137.268655 \nL 165.5875 135.687273 \nL 168.2875 134.105891 \nL 170.9875 132.524509 \nL 173.6875 130.943127 \nL 176.3875 129.361745 \nL 179.0875 127.780364 \nL 181.7875 126.198982 \nL 184.4875 124.6176 \nL 187.1875 123.036218 \nL 189.8875 121.454836 \nL 192.5875 119.873455 \nL 195.2875 118.292073 \nL 197.9875 116.710691 \nL 200.6875 115.129309 \nL 203.3875 113.547927 \nL 206.0875 111.966545 \nL 208.7875 110.385164 \nL 211.4875 108.803782 \nL 214.1875 107.2224 \nL 216.8875 105.641018 \nL 219.5875 104.059636 \nL 222.2875 102.478255 \nL 224.9875 100.896873 \nL 227.6875 99.315491 \nL 230.3875 97.734109 \nL 233.0875 96.152727 \nL 235.7875 94.571345 \nL 238.4875 92.989964 \nL 241.1875 91.408582 \nL 243.8875 89.8272 \nL 246.5875 88.245818 \nL 249.2875 86.664436 \nL 251.9875 85.083055 \nL 254.6875 83.501673 \nL 257.3875 81.920291 \nL 260.0875 80.338909 \nL 262.7875 78.757527 \nL 265.4875 77.176145 \nL 268.1875 75.594764 \nL 270.8875 74.013382 \nL 273.5875 72.432 \nL 276.2875 70.850618 \nL 278.9875 69.269236 \nL 281.6875 67.687855 \nL 284.3875 66.106473 \nL 287.0875 64.525091 \nL 289.7875 62.943709 \nL 292.4875 61.362327 \nL 295.1875 59.780945 \nL 297.8875 58.199564 \nL 300.5875 56.618182 \nL 303.2875 55.0368 \nL 305.9875 53.455418 \nL 308.6875 51.874036 \nL 311.3875 50.292655 \nL 314.0875 48.711273 \nL 316.7875 47.129891 \nL 319.4875 45.548509 \nL 322.1875 43.967127 \nL 324.8875 42.385745 \nL 327.5875 40.804364 \nL 330.2875 39.222982 \nL 332.9875 37.6416 \nL 335.6875 36.060218 \nL 338.3875 34.478836 \nL 341.0875 32.897455 \nL 343.7875 31.316073 \nL 346.4875 29.734691 \nL 349.1875 28.153309 \nL 351.8875 26.571927 \nL 354.5875 24.990545 \nL 357.2875 23.409164 \nL 359.9875 21.827782 \nL 362.6875 20.2464 \nL 365.3875 18.665018 \nL 368.0875 17.083636 \n\" style=\"fill:none;stroke:#1f77b4;stroke-linecap:square;stroke-width:1.5;\"/>\n   </g>\n   <g id=\"line2d_16\">\n    <path clip-path=\"url(#pa5d8a2be28)\" d=\"M 33.2875 207.649001 \nL 35.9875 207.699764 \nL 38.6875 207.705298 \nL 41.3875 207.72127 \nL 44.0875 207.758275 \nL 46.7875 207.766182 \nL 49.4875 207.777409 \nL 52.1875 207.784842 \nL 54.8875 207.807298 \nL 57.5875 207.822637 \nL 60.2875 207.869762 \nL 62.9875 207.900125 \nL 65.6875 207.932385 \nL 68.3875 207.965436 \nL 71.0875 208.003547 \nL 73.7875 208.045295 \nL 76.4875 208.095742 \nL 79.1875 208.158522 \nL 81.8875 208.242336 \nL 84.5875 208.284559 \nL 87.2875 208.302112 \nL 89.9875 208.323461 \nL 92.6875 208.361888 \nL 95.3875 208.417078 \nL 98.0875 208.431943 \nL 100.7875 208.413441 \nL 103.4875 208.451552 \nL 106.1875 208.470845 \nL 108.8875 208.478594 \nL 111.5875 208.449655 \nL 114.2875 208.432101 \nL 116.9875 208.398418 \nL 119.6875 208.359674 \nL 122.3875 208.328521 \nL 125.0875 208.236801 \nL 127.7875 208.204066 \nL 130.4875 208.165955 \nL 133.1875 208.082932 \nL 135.8875 208.000226 \nL 138.5875 207.964961 \nL 141.2875 207.873874 \nL 143.9875 207.888897 \nL 146.6875 207.877669 \nL 149.3875 207.902022 \nL 152.0875 207.827381 \nL 154.7875 207.887474 \nL 157.4875 207.837502 \nL 160.1875 207.860906 \nL 162.8875 207.726014 \nL 165.5875 207.754796 \nL 168.2875 207.700238 \nL 170.9875 207.642518 \nL 173.6875 207.617215 \nL 176.3875 207.514267 \nL 179.0875 207.662917 \nL 181.7875 207.826749 \nL 184.4875 206.954933 \nL 187.1875 207.089508 \nL 189.8875 207.029732 \nL 192.5875 206.822413 \nL 195.2875 206.868589 \nL 197.9875 206.988458 \nL 200.6875 207.492603 \nL 203.3875 207.463347 \nL 206.0875 207.890004 \nL 208.7875 207.708145 \nL 211.4875 207.84272 \nL 214.1875 207.900283 \nL 216.8875 207.552695 \nL 219.5875 207.365301 \nL 222.2875 207.179331 \nL 224.9875 207.170791 \nL 227.6875 207.09789 \nL 230.3875 207.165256 \nL 233.0875 207.238158 \nL 235.7875 207.077964 \nL 238.4875 206.990356 \nL 241.1875 206.95003 \nL 243.8875 206.9543 \nL 246.5875 206.959044 \nL 249.2875 206.964895 \nL 251.9875 206.84392 \nL 254.6875 206.702228 \nL 257.3875 206.562434 \nL 260.0875 206.673921 \nL 262.7875 206.527485 \nL 265.4875 206.474983 \nL 268.1875 206.406826 \nL 270.8875 206.177525 \nL 273.5875 206.278418 \nL 276.2875 206.057815 \nL 278.9875 206.208837 \nL 281.6875 206.164242 \nL 284.3875 206.059396 \nL 287.0875 204.785435 \nL 289.7875 203.88974 \nL 292.4875 203.268099 \nL 295.1875 203.185867 \nL 297.8875 203.255923 \nL 300.5875 203.504516 \nL 303.2875 203.170844 \nL 305.9875 203.111226 \nL 308.6875 203.345112 \nL 311.3875 203.32155 \nL 314.0875 203.167049 \nL 316.7875 205.943006 \nL 319.4875 206.638973 \nL 322.1875 206.013852 \nL 324.8875 205.729678 \nL 327.5875 204.035227 \nL 330.2875 203.945405 \nL 332.9875 204.200798 \nL 335.6875 203.452172 \nL 338.3875 205.711176 \nL 341.0875 205.281989 \nL 343.7875 205.476973 \nL 346.4875 204.018465 \nL 349.1875 204.84189 \nL 351.8875 205.566954 \nL 354.5875 203.601771 \nL 357.2875 203.44806 \nL 359.9875 204.426145 \nL 362.6875 204.614962 \nL 365.3875 205.105349 \nL 368.0875 204.943415 \n\" style=\"fill:none;stroke:#ff7f0e;stroke-linecap:square;stroke-width:1.5;\"/>\n   </g>\n   <g id=\"line2d_17\">\n    <path clip-path=\"url(#pa5d8a2be28)\" d=\"M 33.2875 214.756364 \nL 35.9875 214.756364 \nL 38.6875 214.756364 \nL 41.3875 214.756364 \nL 44.0875 214.756364 \nL 46.7875 214.756364 \nL 49.4875 214.756364 \nL 52.1875 214.756364 \nL 54.8875 214.756364 \nL 57.5875 214.756364 \nL 60.2875 214.756364 \nL 62.9875 214.756364 \nL 65.6875 214.756364 \nL 68.3875 214.756364 \nL 71.0875 214.756364 \nL 73.7875 214.756364 \nL 76.4875 214.756364 \nL 79.1875 214.756364 \nL 81.8875 214.756364 \nL 84.5875 214.756364 \nL 87.2875 214.756364 \nL 89.9875 214.756364 \nL 92.6875 214.756364 \nL 95.3875 214.756364 \nL 98.0875 214.756364 \nL 100.7875 214.756364 \nL 103.4875 214.756364 \nL 106.1875 214.756364 \nL 108.8875 214.756364 \nL 111.5875 214.756364 \nL 114.2875 214.756364 \nL 116.9875 214.756364 \nL 119.6875 214.756364 \nL 122.3875 214.756364 \nL 125.0875 214.756364 \nL 127.7875 214.756364 \nL 130.4875 214.756364 \nL 133.1875 214.756364 \nL 135.8875 214.756364 \nL 138.5875 214.756364 \nL 141.2875 214.756364 \nL 143.9875 214.756364 \nL 146.6875 214.756364 \nL 149.3875 214.756364 \nL 152.0875 214.756364 \nL 154.7875 214.756364 \nL 157.4875 214.756364 \nL 160.1875 214.756364 \nL 162.8875 214.756364 \nL 165.5875 214.756364 \nL 168.2875 214.756364 \nL 170.9875 214.756364 \nL 173.6875 214.756364 \nL 176.3875 214.756364 \nL 179.0875 214.756364 \nL 181.7875 214.756364 \nL 184.4875 214.756364 \nL 187.1875 214.756364 \nL 189.8875 214.756364 \nL 192.5875 214.756364 \nL 195.2875 214.756364 \nL 197.9875 214.756364 \nL 200.6875 214.756364 \nL 203.3875 214.756364 \nL 206.0875 214.756364 \nL 208.7875 214.756364 \nL 211.4875 214.756364 \nL 214.1875 214.756364 \nL 216.8875 214.756364 \nL 219.5875 214.756364 \nL 222.2875 214.756364 \nL 224.9875 214.756364 \nL 227.6875 214.756364 \nL 230.3875 214.756364 \nL 233.0875 214.756364 \nL 235.7875 214.756364 \nL 238.4875 214.756364 \nL 241.1875 214.756364 \nL 243.8875 214.756364 \nL 246.5875 214.756364 \nL 249.2875 214.756364 \nL 251.9875 214.756364 \nL 254.6875 214.756364 \nL 257.3875 214.756364 \nL 260.0875 214.756364 \nL 262.7875 214.756364 \nL 265.4875 214.756364 \nL 268.1875 214.756364 \nL 270.8875 214.756364 \nL 273.5875 214.756364 \nL 276.2875 214.756364 \nL 278.9875 214.756364 \nL 281.6875 214.756364 \nL 284.3875 214.756364 \nL 287.0875 214.756364 \nL 289.7875 214.756364 \nL 292.4875 214.756364 \nL 295.1875 214.756364 \nL 297.8875 214.756364 \nL 300.5875 214.756364 \nL 303.2875 214.756364 \nL 305.9875 214.756364 \nL 308.6875 214.756364 \nL 311.3875 214.756364 \nL 314.0875 214.756364 \nL 316.7875 214.756364 \nL 319.4875 214.756364 \nL 322.1875 214.756364 \nL 324.8875 214.756364 \nL 327.5875 214.756364 \nL 330.2875 214.756364 \nL 332.9875 214.756364 \nL 335.6875 214.756364 \nL 338.3875 214.756364 \nL 341.0875 214.756364 \nL 343.7875 214.756364 \nL 346.4875 214.756364 \nL 349.1875 214.756364 \nL 351.8875 214.756364 \nL 354.5875 214.756364 \nL 357.2875 214.756364 \nL 359.9875 214.756364 \nL 362.6875 214.756364 \nL 365.3875 214.756364 \nL 368.0875 214.756364 \n\" style=\"fill:none;stroke:#2ca02c;stroke-linecap:square;stroke-width:1.5;\"/>\n   </g>\n   <g id=\"patch_3\">\n    <path d=\"M 33.2875 224.64 \nL 33.2875 7.2 \n\" style=\"fill:none;stroke:#000000;stroke-linecap:square;stroke-linejoin:miter;stroke-width:0.8;\"/>\n   </g>\n   <g id=\"patch_4\">\n    <path d=\"M 368.0875 224.64 \nL 368.0875 7.2 \n\" style=\"fill:none;stroke:#000000;stroke-linecap:square;stroke-linejoin:miter;stroke-width:0.8;\"/>\n   </g>\n   <g id=\"patch_5\">\n    <path d=\"M 33.2875 224.64 \nL 368.0875 224.64 \n\" style=\"fill:none;stroke:#000000;stroke-linecap:square;stroke-linejoin:miter;stroke-width:0.8;\"/>\n   </g>\n   <g id=\"patch_6\">\n    <path d=\"M 33.2875 7.2 \nL 368.0875 7.2 \n\" style=\"fill:none;stroke:#000000;stroke-linecap:square;stroke-linejoin:miter;stroke-width:0.8;\"/>\n   </g>\n   <g id=\"legend_1\">\n    <g id=\"patch_7\">\n     <path d=\"M 40.2875 59.234375 \nL 135.139063 59.234375 \nQ 137.139063 59.234375 137.139063 57.234375 \nL 137.139063 14.2 \nQ 137.139063 12.2 135.139063 12.2 \nL 40.2875 12.2 \nQ 38.2875 12.2 38.2875 14.2 \nL 38.2875 57.234375 \nQ 38.2875 59.234375 40.2875 59.234375 \nz\n\" style=\"fill:#ffffff;opacity:0.8;stroke:#cccccc;stroke-linejoin:miter;\"/>\n    </g>\n    <g id=\"line2d_18\">\n     <path d=\"M 42.2875 20.298438 \nL 62.2875 20.298438 \n\" style=\"fill:none;stroke:#1f77b4;stroke-linecap:square;stroke-width:1.5;\"/>\n    </g>\n    <g id=\"line2d_19\"/>\n    <g id=\"text_15\">\n     <!-- index -->\n     <g transform=\"translate(70.2875 23.798438)scale(0.1 -0.1)\">\n      <defs>\n       <path d=\"M 54.890625 33.015625 \nL 54.890625 0 \nL 45.90625 0 \nL 45.90625 32.71875 \nQ 45.90625 40.484375 42.875 44.328125 \nQ 39.84375 48.1875 33.796875 48.1875 \nQ 26.515625 48.1875 22.3125 43.546875 \nQ 18.109375 38.921875 18.109375 30.90625 \nL 18.109375 0 \nL 9.078125 0 \nL 9.078125 54.6875 \nL 18.109375 54.6875 \nL 18.109375 46.1875 \nQ 21.34375 51.125 25.703125 53.5625 \nQ 30.078125 56 35.796875 56 \nQ 45.21875 56 50.046875 50.171875 \nQ 54.890625 44.34375 54.890625 33.015625 \nz\n\" id=\"DejaVuSans-110\"/>\n       <path d=\"M 54.890625 54.6875 \nL 35.109375 28.078125 \nL 55.90625 0 \nL 45.3125 0 \nL 29.390625 21.484375 \nL 13.484375 0 \nL 2.875 0 \nL 24.125 28.609375 \nL 4.6875 54.6875 \nL 15.28125 54.6875 \nL 29.78125 35.203125 \nL 44.28125 54.6875 \nz\n\" id=\"DejaVuSans-120\"/>\n      </defs>\n      <use xlink:href=\"#DejaVuSans-105\"/>\n      <use x=\"27.783203\" xlink:href=\"#DejaVuSans-110\"/>\n      <use x=\"91.162109\" xlink:href=\"#DejaVuSans-100\"/>\n      <use x=\"154.638672\" xlink:href=\"#DejaVuSans-101\"/>\n      <use x=\"214.412109\" xlink:href=\"#DejaVuSans-120\"/>\n     </g>\n    </g>\n    <g id=\"line2d_20\">\n     <path d=\"M 42.2875 34.976563 \nL 62.2875 34.976563 \n\" style=\"fill:none;stroke:#ff7f0e;stroke-linecap:square;stroke-width:1.5;\"/>\n    </g>\n    <g id=\"line2d_21\"/>\n    <g id=\"text_16\">\n     <!-- temperature -->\n     <g transform=\"translate(70.2875 38.476563)scale(0.1 -0.1)\">\n      <defs>\n       <path d=\"M 18.109375 8.203125 \nL 18.109375 -20.796875 \nL 9.078125 -20.796875 \nL 9.078125 54.6875 \nL 18.109375 54.6875 \nL 18.109375 46.390625 \nQ 20.953125 51.265625 25.265625 53.625 \nQ 29.59375 56 35.59375 56 \nQ 45.5625 56 51.78125 48.09375 \nQ 58.015625 40.1875 58.015625 27.296875 \nQ 58.015625 14.40625 51.78125 6.484375 \nQ 45.5625 -1.421875 35.59375 -1.421875 \nQ 29.59375 -1.421875 25.265625 0.953125 \nQ 20.953125 3.328125 18.109375 8.203125 \nz\nM 48.6875 27.296875 \nQ 48.6875 37.203125 44.609375 42.84375 \nQ 40.53125 48.484375 33.40625 48.484375 \nQ 26.265625 48.484375 22.1875 42.84375 \nQ 18.109375 37.203125 18.109375 27.296875 \nQ 18.109375 17.390625 22.1875 11.75 \nQ 26.265625 6.109375 33.40625 6.109375 \nQ 40.53125 6.109375 44.609375 11.75 \nQ 48.6875 17.390625 48.6875 27.296875 \nz\n\" id=\"DejaVuSans-112\"/>\n       <path d=\"M 41.109375 46.296875 \nQ 39.59375 47.171875 37.8125 47.578125 \nQ 36.03125 48 33.890625 48 \nQ 26.265625 48 22.1875 43.046875 \nQ 18.109375 38.09375 18.109375 28.8125 \nL 18.109375 0 \nL 9.078125 0 \nL 9.078125 54.6875 \nL 18.109375 54.6875 \nL 18.109375 46.1875 \nQ 20.953125 51.171875 25.484375 53.578125 \nQ 30.03125 56 36.53125 56 \nQ 37.453125 56 38.578125 55.875 \nQ 39.703125 55.765625 41.0625 55.515625 \nz\n\" id=\"DejaVuSans-114\"/>\n       <path d=\"M 8.5 21.578125 \nL 8.5 54.6875 \nL 17.484375 54.6875 \nL 17.484375 21.921875 \nQ 17.484375 14.15625 20.5 10.265625 \nQ 23.53125 6.390625 29.59375 6.390625 \nQ 36.859375 6.390625 41.078125 11.03125 \nQ 45.3125 15.671875 45.3125 23.6875 \nL 45.3125 54.6875 \nL 54.296875 54.6875 \nL 54.296875 0 \nL 45.3125 0 \nL 45.3125 8.40625 \nQ 42.046875 3.421875 37.71875 1 \nQ 33.40625 -1.421875 27.6875 -1.421875 \nQ 18.265625 -1.421875 13.375 4.4375 \nQ 8.5 10.296875 8.5 21.578125 \nz\nM 31.109375 56 \nz\n\" id=\"DejaVuSans-117\"/>\n      </defs>\n      <use xlink:href=\"#DejaVuSans-116\"/>\n      <use x=\"39.208984\" xlink:href=\"#DejaVuSans-101\"/>\n      <use x=\"100.732422\" xlink:href=\"#DejaVuSans-109\"/>\n      <use x=\"198.144531\" xlink:href=\"#DejaVuSans-112\"/>\n      <use x=\"261.621094\" xlink:href=\"#DejaVuSans-101\"/>\n      <use x=\"323.144531\" xlink:href=\"#DejaVuSans-114\"/>\n      <use x=\"364.257812\" xlink:href=\"#DejaVuSans-97\"/>\n      <use x=\"425.537109\" xlink:href=\"#DejaVuSans-116\"/>\n      <use x=\"464.746094\" xlink:href=\"#DejaVuSans-117\"/>\n      <use x=\"528.125\" xlink:href=\"#DejaVuSans-114\"/>\n      <use x=\"566.988281\" xlink:href=\"#DejaVuSans-101\"/>\n     </g>\n    </g>\n    <g id=\"line2d_22\">\n     <path d=\"M 42.2875 49.654688 \nL 62.2875 49.654688 \n\" style=\"fill:none;stroke:#2ca02c;stroke-linecap:square;stroke-width:1.5;\"/>\n    </g>\n    <g id=\"line2d_23\"/>\n    <g id=\"text_17\">\n     <!-- flag -->\n     <g transform=\"translate(70.2875 53.154688)scale(0.1 -0.1)\">\n      <defs>\n       <path d=\"M 37.109375 75.984375 \nL 37.109375 68.5 \nL 28.515625 68.5 \nQ 23.6875 68.5 21.796875 66.546875 \nQ 19.921875 64.59375 19.921875 59.515625 \nL 19.921875 54.6875 \nL 34.71875 54.6875 \nL 34.71875 47.703125 \nL 19.921875 47.703125 \nL 19.921875 0 \nL 10.890625 0 \nL 10.890625 47.703125 \nL 2.296875 47.703125 \nL 2.296875 54.6875 \nL 10.890625 54.6875 \nL 10.890625 58.5 \nQ 10.890625 67.625 15.140625 71.796875 \nQ 19.390625 75.984375 28.609375 75.984375 \nz\n\" id=\"DejaVuSans-102\"/>\n       <path d=\"M 9.421875 75.984375 \nL 18.40625 75.984375 \nL 18.40625 0 \nL 9.421875 0 \nz\n\" id=\"DejaVuSans-108\"/>\n       <path d=\"M 45.40625 27.984375 \nQ 45.40625 37.75 41.375 43.109375 \nQ 37.359375 48.484375 30.078125 48.484375 \nQ 22.859375 48.484375 18.828125 43.109375 \nQ 14.796875 37.75 14.796875 27.984375 \nQ 14.796875 18.265625 18.828125 12.890625 \nQ 22.859375 7.515625 30.078125 7.515625 \nQ 37.359375 7.515625 41.375 12.890625 \nQ 45.40625 18.265625 45.40625 27.984375 \nz\nM 54.390625 6.78125 \nQ 54.390625 -7.171875 48.1875 -13.984375 \nQ 42 -20.796875 29.203125 -20.796875 \nQ 24.46875 -20.796875 20.265625 -20.09375 \nQ 16.0625 -19.390625 12.109375 -17.921875 \nL 12.109375 -9.1875 \nQ 16.0625 -11.328125 19.921875 -12.34375 \nQ 23.78125 -13.375 27.78125 -13.375 \nQ 36.625 -13.375 41.015625 -8.765625 \nQ 45.40625 -4.15625 45.40625 5.171875 \nL 45.40625 9.625 \nQ 42.625 4.78125 38.28125 2.390625 \nQ 33.9375 0 27.875 0 \nQ 17.828125 0 11.671875 7.65625 \nQ 5.515625 15.328125 5.515625 27.984375 \nQ 5.515625 40.671875 11.671875 48.328125 \nQ 17.828125 56 27.875 56 \nQ 33.9375 56 38.28125 53.609375 \nQ 42.625 51.21875 45.40625 46.390625 \nL 45.40625 54.6875 \nL 54.390625 54.6875 \nz\n\" id=\"DejaVuSans-103\"/>\n      </defs>\n      <use xlink:href=\"#DejaVuSans-102\"/>\n      <use x=\"35.205078\" xlink:href=\"#DejaVuSans-108\"/>\n      <use x=\"62.988281\" xlink:href=\"#DejaVuSans-97\"/>\n      <use x=\"124.267578\" xlink:href=\"#DejaVuSans-103\"/>\n     </g>\n    </g>\n   </g>\n  </g>\n </g>\n <defs>\n  <clipPath id=\"pa5d8a2be28\">\n   <rect height=\"217.44\" width=\"334.8\" x=\"33.2875\" y=\"7.2\"/>\n  </clipPath>\n </defs>\n</svg>\n",
      "image/png": "[encoded data removed]"
     },
     "metadata": {
      "needs_background": "light"
     }
    }
   ],
   "source": [
    "sbe56_wop_data.plot()"
   ]
  },
  {
   "cell_type": "markdown",
   "id": "acknowledged-active",
   "metadata": {},
   "source": [
    "## Add Deployment meta information\n",
    "\n",
    "Two methods are available (if comming from python2 world - ordereddict was important... in py38 a dictionary is inherently ordered)"
   ]
  },
  {
   "cell_type": "code",
   "execution_count": 26,
   "id": "freelance-fairy",
   "metadata": {},
   "outputs": [],
   "source": [
    "#just a dictionary of dictionaries - simple\n",
    "with open(mooring_meta_file) as file:\n",
    "    mooring_config = yaml.full_load(file)"
   ]
  },
  {
   "cell_type": "code",
   "execution_count": 27,
   "id": "proper-ghana",
   "metadata": {},
   "outputs": [],
   "source": [
    "#Generates an ordereddict but prints better for summary\n",
    "#likely to be depricated as an ordered dict may not be useful and drops a dependency if its EOL\n",
    "mooring_config_v2 = load_config.load_config(mooring_meta_file)"
   ]
  },
  {
   "cell_type": "code",
   "execution_count": 28,
   "id": "israeli-begin",
   "metadata": {},
   "outputs": [
    {
     "output_type": "error",
     "ename": "KeyError",
     "evalue": "'SBE-56 2453'",
     "traceback": [
      "\u001b[0;31m---------------------------------------------------------------------------\u001b[0m",
      "\u001b[0;31mKeyError\u001b[0m                                  Traceback (most recent call last)",
      "\u001b[0;32m<ipython-input-28-cefb157e4a26>\u001b[0m in \u001b[0;36m<module>\u001b[0;34m\u001b[0m\n\u001b[0;32m----> 1\u001b[0;31m \u001b[0mmooring_config\u001b[0m\u001b[0;34m[\u001b[0m\u001b[0;34m'Instrumentation'\u001b[0m\u001b[0;34m]\u001b[0m\u001b[0;34m[\u001b[0m\u001b[0minstrument\u001b[0m\u001b[0;34m]\u001b[0m\u001b[0;34m\u001b[0m\u001b[0;34m\u001b[0m\u001b[0m\n\u001b[0m",
      "\u001b[0;31mKeyError\u001b[0m: 'SBE-56 2453'"
     ]
    }
   ],
   "source": [
    "mooring_config['Instrumentation'][instrument]"
   ]
  },
  {
   "cell_type": "markdown",
   "id": "mysterious-cornwall",
   "metadata": {},
   "source": [
    "## Add Instrument meta information\n",
    "\n",
    "Time, depth, lat, lon should be added regardless (always our coordinates) but for a mooring site its going to be a (1,1,1,t) dataset\n",
    "The variables of interest should be read from the data file and matched to a key for naming.  That key is in the inst_config file seen below and should represent common conversion names in the raw data"
   ]
  },
  {
   "cell_type": "code",
   "execution_count": 30,
   "id": "checked-raise",
   "metadata": {
    "tags": []
   },
   "outputs": [
    {
     "output_type": "execute_result",
     "data": {
      "text/plain": [
       "{'time': {'epic_key': 'TIM_601',\n",
       "  'name': 'time',\n",
       "  'generic_name': 'time',\n",
       "  'standard_name': 'time',\n",
       "  'long_name': 'date and time since reference time',\n",
       "  'time_origin': '1900-01-01 00:00:00',\n",
       "  'units': 'days since 1900-01-01T00:00:00Z'},\n",
       " 'depth': {'epic_key': 'D_3',\n",
       "  'generic_name': 'depth',\n",
       "  'units': 'meter',\n",
       "  'long_name': 'depth below surface (meters)',\n",
       "  'standard_name': 'depth'},\n",
       " 'latitude': {'epic_key': 'LON_501',\n",
       "  'name': 'latitude',\n",
       "  'generic_name': 'latitude',\n",
       "  'units': 'degrees_north',\n",
       "  'long_name': 'latitude',\n",
       "  'standard_name': 'latitude'},\n",
       " 'longitude': {'epic_key': 'LAT_500',\n",
       "  'name': 'longitude',\n",
       "  'generic_name': 'longitude',\n",
       "  'units': 'degrees_east',\n",
       "  'long_name': 'longitude',\n",
       "  'standard_name': 'longitude'},\n",
       " 'timeseries_id': {'cf_role': 'timeseries_id',\n",
       "  'long_name': 'timeseries id',\n",
       "  'standard_name': ''},\n",
       " 'temperature': {'epic_key': 'T_20',\n",
       "  'generic_name': 'temp',\n",
       "  'long_name': 'Sea temperature in-situ ITS-90 scale',\n",
       "  'standard_name': 'sea_water_temperature',\n",
       "  'units': 'degree_C'},\n",
       " 'pressure': {'epic_key': 'P_1',\n",
       "  'generic_name': 'pres',\n",
       "  'units': 'decibar',\n",
       "  'long_name': 'Sea water pressure, equals 0 at sea-level',\n",
       "  'standard_name': 'sea_water_pressure_due_to_sea_water'}}"
      ]
     },
     "metadata": {},
     "execution_count": 30
    }
   ],
   "source": [
    "with open(inst_meta_file) as file:\n",
    "    inst_config = yaml.full_load(file)\n",
    "inst_config"
   ]
  },
  {
   "cell_type": "code",
   "execution_count": 31,
   "id": "varied-popularity",
   "metadata": {},
   "outputs": [
    {
     "output_type": "execute_result",
     "data": {
      "text/plain": [
       "<EcoFOCIpy.io.ncCFsave.EcoFOCI_CFnc_moored at 0x1621db160>"
      ]
     },
     "metadata": {},
     "execution_count": 31
    }
   ],
   "source": [
    "# Add meta data and prelim processing based on meta data\n",
    "# Convert to xarray and add meta information - save as CF netcdf file\n",
    "# pass -> data, instmeta, depmeta\n",
    "sbe56_wop_nc = ncCFsave.EcoFOCI_CFnc_moored(df=sbe56_wop_data, \n",
    "                                instrument_yaml=inst_config, \n",
    "                                mooring_yaml=mooring_config, \n",
    "                                instrument_id=instrument, \n",
    "                                inst_shortname=inst_shortname)\n",
    "sbe56_wop_nc"
   ]
  },
  {
   "cell_type": "markdown",
   "id": "asian-chambers",
   "metadata": {},
   "source": [
    "At this point, you could save your file with the `.xarray2netcdf_save()` method and have a functioning dataset.... but it would be very simple with no additional qc, meta-data, or tuned parameters for optimizing software like ferret or erddap."
   ]
  },
  {
   "cell_type": "code",
   "execution_count": 32,
   "id": "practical-pennsylvania",
   "metadata": {},
   "outputs": [],
   "source": [
    "# expand the dimensions and coordinate variables\n",
    "# renames them appropriatley and prepares them for meta-filled values\n",
    "sbe56_wop_nc.expand_dimensions()"
   ]
  },
  {
   "cell_type": "code",
   "execution_count": 33,
   "id": "floral-operations",
   "metadata": {},
   "outputs": [],
   "source": [
    "sbe56_wop_nc.variable_meta_data(variable_keys=['temperature'])\n",
    "sbe56_wop_nc.temporal_geospatioal_meta_data(depth='designed')\n",
    "#adding dimension meta needs to come after updating the dimension values... BUG?\n",
    "sbe56_wop_nc.dimension_meta_data(variable_keys=['depth','latitude','longitude'])"
   ]
  },
  {
   "cell_type": "markdown",
   "id": "seventh-product",
   "metadata": {},
   "source": [
    "The following steps can happen in just about any order and are all meta-data driven.  Therefore, they are not required to have a functioning dataset, but they are required to have a well described dataset"
   ]
  },
  {
   "cell_type": "code",
   "execution_count": 34,
   "id": "auburn-diversity",
   "metadata": {},
   "outputs": [],
   "source": [
    "#add global attributes\n",
    "sbe56_wop_nc.deployment_meta_add()\n",
    "sbe56_wop_nc.get_xdf()\n",
    "\n",
    "#add instituitonal global attributes\n",
    "sbe56_wop_nc.institution_meta_add()\n",
    "\n",
    "#add creation date/time - provenance data\n",
    "sbe56_wop_nc.provinance_meta_add()\n",
    "\n",
    "#provide intial qc status field\n",
    "sbe56_wop_nc.qc_status(qc_status='unknown')\n"
   ]
  },
  {
   "cell_type": "markdown",
   "id": "sustained-hughes",
   "metadata": {},
   "source": [
    "## Save CF Netcdf files\n",
    "\n",
    "Currently stick to netcdf3 classic... but migrating to netcdf4 (default) may be no problems for most modern purposes.  Its easy enough to pass the `format` kwargs through to the netcdf api of xarray."
   ]
  },
  {
   "cell_type": "code",
   "execution_count": 35,
   "id": "modular-volunteer",
   "metadata": {},
   "outputs": [],
   "source": [
    "# combine trim (not mandatory) and filename together (saves to test.nc without name)\n",
    "sbe56_wop_nc.xarray2netcdf_save(xdf = sbe56_wop_nc.autotrim_time(),\n",
    "                           filename=sbe56_wop_nc.filename_const(),format=\"NETCDF3_CLASSIC\")\n",
    "\n",
    "# don't trim the data and pass your own filename\n",
    "sbe56_wop_nc.xarray2netcdf_save(xdf = sbe56_wop_nc.get_xdf(),\n",
    "                           filename=sbe56_wop_nc.filename_const(manual_label='test'),format=\"NETCDF4_CLASSIC\")"
   ]
  },
  {
   "cell_type": "code",
   "execution_count": 36,
   "id": "unlike-breathing",
   "metadata": {},
   "outputs": [
    {
     "output_type": "execute_result",
     "data": {
      "text/plain": [
       "<xarray.Dataset>\n",
       "Dimensions:      (depth: 1, latitude: 1, longitude: 1, time: 166)\n",
       "Coordinates:\n",
       "  * time         (time) datetime64[ns] 2016-05-05 ... 2016-05-06T03:30:00\n",
       "  * longitude    (longitude) float64 -164.0\n",
       "  * latitude     (latitude) float64 56.87\n",
       "  * depth        (depth) float64 39.0\n",
       "Data variables:\n",
       "    temperature  (time, depth, latitude, longitude) float64 8.023 ... 4.437\n",
       "    pressure     (time, depth, latitude, longitude) float64 -0.028 ... 39.33\n",
       "Attributes: (12/13)\n",
       "    Latitude-Deg_MM.dd_W:                   56 52.1729 N\n",
       "    Longitude-Deg_MM.dd_N:                  164 02.8716 W\n",
       "    MooringID:                              16BSM-2A\n",
       "    platform_deployment_date:               2016-05-05T05:51:00Z\n",
       "    platform_deployment_cruise_name:        DY1606\n",
       "    platform_recovery_date:                 2016-09-29T03:45:00Z\n",
       "    ...                                     ...\n",
       "    platform_deployment_recovery_comments:  Depth not listed - other two moor...\n",
       "    WaterDepth:                             71.0\n",
       "    date_created:                           2021-03-30T15:59:00Z\n",
       "    date_modified:                          \n",
       "    QC_indicator:                           unknown\n",
       "    history:                                Trimmed to deployment."
      ],
      "text/html": "<div><svg style=\"position: absolute; width: 0; height: 0; overflow: hidden\">\n<defs>\n<symbol id=\"icon-database\" viewBox=\"0 0 32 32\">\n<path d=\"M16 0c-8.837 0-16 2.239-16 5v4c0 2.761 7.163 5 16 5s16-2.239 16-5v-4c0-2.761-7.163-5-16-5z\"></path>\n<path d=\"M16 17c-8.837 0-16-2.239-16-5v6c0 2.761 7.163 5 16 5s16-2.239 16-5v-6c0 2.761-7.163 5-16 5z\"></path>\n<path d=\"M16 26c-8.837 0-16-2.239-16-5v6c0 2.761 7.163 5 16 5s16-2.239 16-5v-6c0 2.761-7.163 5-16 5z\"></path>\n</symbol>\n<symbol id=\"icon-file-text2\" viewBox=\"0 0 32 32\">\n<path d=\"M28.681 7.159c-0.694-0.947-1.662-2.053-2.724-3.116s-2.169-2.030-3.116-2.724c-1.612-1.182-2.393-1.319-2.841-1.319h-15.5c-1.378 0-2.5 1.121-2.5 2.5v27c0 1.378 1.122 2.5 2.5 2.5h23c1.378 0 2.5-1.122 2.5-2.5v-19.5c0-0.448-0.137-1.23-1.319-2.841zM24.543 5.457c0.959 0.959 1.712 1.825 2.268 2.543h-4.811v-4.811c0.718 0.556 1.584 1.309 2.543 2.268zM28 29.5c0 0.271-0.229 0.5-0.5 0.5h-23c-0.271 0-0.5-0.229-0.5-0.5v-27c0-0.271 0.229-0.5 0.5-0.5 0 0 15.499-0 15.5 0v7c0 0.552 0.448 1 1 1h7v19.5z\"></path>\n<path d=\"M23 26h-14c-0.552 0-1-0.448-1-1s0.448-1 1-1h14c0.552 0 1 0.448 1 1s-0.448 1-1 1z\"></path>\n<path d=\"M23 22h-14c-0.552 0-1-0.448-1-1s0.448-1 1-1h14c0.552 0 1 0.448 1 1s-0.448 1-1 1z\"></path>\n<path d=\"M23 18h-14c-0.552 0-1-0.448-1-1s0.448-1 1-1h14c0.552 0 1 0.448 1 1s-0.448 1-1 1z\"></path>\n</symbol>\n</defs>\n</svg>\n<style>/* CSS stylesheet for displaying xarray objects in jupyterlab.\n *\n */\n\n:root {\n  --xr-font-color0: var(--jp-content-font-color0, rgba(0, 0, 0, 1));\n  --xr-font-color2: var(--jp-content-font-color2, rgba(0, 0, 0, 0.54));\n  --xr-font-color3: var(--jp-content-font-color3, rgba(0, 0, 0, 0.38));\n  --xr-border-color: var(--jp-border-color2, #e0e0e0);\n  --xr-disabled-color: var(--jp-layout-color3, #bdbdbd);\n  --xr-background-color: var(--jp-layout-color0, white);\n  --xr-background-color-row-even: var(--jp-layout-color1, white);\n  --xr-background-color-row-odd: var(--jp-layout-color2, #eeeeee);\n}\n\nhtml[theme=dark],\nbody.vscode-dark {\n  --xr-font-color0: rgba(255, 255, 255, 1);\n  --xr-font-color2: rgba(255, 255, 255, 0.54);\n  --xr-font-color3: rgba(255, 255, 255, 0.38);\n  --xr-border-color: #1F1F1F;\n  --xr-disabled-color: #515151;\n  --xr-background-color: #111111;\n  --xr-background-color-row-even: #111111;\n  --xr-background-color-row-odd: #313131;\n}\n\n.xr-wrap {\n  display: block;\n  min-width: 300px;\n  max-width: 700px;\n}\n\n.xr-text-repr-fallback {\n  /* fallback to plain text repr when CSS is not injected (untrusted notebook) */\n  display: none;\n}\n\n.xr-header {\n  padding-top: 6px;\n  padding-bottom: 6px;\n  margin-bottom: 4px;\n  border-bottom: solid 1px var(--xr-border-color);\n}\n\n.xr-header > div,\n.xr-header > ul {\n  display: inline;\n  margin-top: 0;\n  margin-bottom: 0;\n}\n\n.xr-obj-type,\n.xr-array-name {\n  margin-left: 2px;\n  margin-right: 10px;\n}\n\n.xr-obj-type {\n  color: var(--xr-font-color2);\n}\n\n.xr-sections {\n  padding-left: 0 !important;\n  display: grid;\n  grid-template-columns: 150px auto auto 1fr 20px 20px;\n}\n\n.xr-section-item {\n  display: contents;\n}\n\n.xr-section-item input {\n  display: none;\n}\n\n.xr-section-item input + label {\n  color: var(--xr-disabled-color);\n}\n\n.xr-section-item input:enabled + label {\n  cursor: pointer;\n  color: var(--xr-font-color2);\n}\n\n.xr-section-item input:enabled + label:hover {\n  color: var(--xr-font-color0);\n}\n\n.xr-section-summary {\n  grid-column: 1;\n  color: var(--xr-font-color2);\n  font-weight: 500;\n}\n\n.xr-section-summary > span {\n  display: inline-block;\n  padding-left: 0.5em;\n}\n\n.xr-section-summary-in:disabled + label {\n  color: var(--xr-font-color2);\n}\n\n.xr-section-summary-in + label:before {\n  display: inline-block;\n  content: '►';\n  font-size: 11px;\n  width: 15px;\n  text-align: center;\n}\n\n.xr-section-summary-in:disabled + label:before {\n  color: var(--xr-disabled-color);\n}\n\n.xr-section-summary-in:checked + label:before {\n  content: '▼';\n}\n\n.xr-section-summary-in:checked + label > span {\n  display: none;\n}\n\n.xr-section-summary,\n.xr-section-inline-details {\n  padding-top: 4px;\n  padding-bottom: 4px;\n}\n\n.xr-section-inline-details {\n  grid-column: 2 / -1;\n}\n\n.xr-section-details {\n  display: none;\n  grid-column: 1 / -1;\n  margin-bottom: 5px;\n}\n\n.xr-section-summary-in:checked ~ .xr-section-details {\n  display: contents;\n}\n\n.xr-array-wrap {\n  grid-column: 1 / -1;\n  display: grid;\n  grid-template-columns: 20px auto;\n}\n\n.xr-array-wrap > label {\n  grid-column: 1;\n  vertical-align: top;\n}\n\n.xr-preview {\n  color: var(--xr-font-color3);\n}\n\n.xr-array-preview,\n.xr-array-data {\n  padding: 0 5px !important;\n  grid-column: 2;\n}\n\n.xr-array-data,\n.xr-array-in:checked ~ .xr-array-preview {\n  display: none;\n}\n\n.xr-array-in:checked ~ .xr-array-data,\n.xr-array-preview {\n  display: inline-block;\n}\n\n.xr-dim-list {\n  display: inline-block !important;\n  list-style: none;\n  padding: 0 !important;\n  margin: 0;\n}\n\n.xr-dim-list li {\n  display: inline-block;\n  padding: 0;\n  margin: 0;\n}\n\n.xr-dim-list:before {\n  content: '(';\n}\n\n.xr-dim-list:after {\n  content: ')';\n}\n\n.xr-dim-list li:not(:last-child):after {\n  content: ',';\n  padding-right: 5px;\n}\n\n.xr-has-index {\n  font-weight: bold;\n}\n\n.xr-var-list,\n.xr-var-item {\n  display: contents;\n}\n\n.xr-var-item > div,\n.xr-var-item label,\n.xr-var-item > .xr-var-name span {\n  background-color: var(--xr-background-color-row-even);\n  margin-bottom: 0;\n}\n\n.xr-var-item > .xr-var-name:hover span {\n  padding-right: 5px;\n}\n\n.xr-var-list > li:nth-child(odd) > div,\n.xr-var-list > li:nth-child(odd) > label,\n.xr-var-list > li:nth-child(odd) > .xr-var-name span {\n  background-color: var(--xr-background-color-row-odd);\n}\n\n.xr-var-name {\n  grid-column: 1;\n}\n\n.xr-var-dims {\n  grid-column: 2;\n}\n\n.xr-var-dtype {\n  grid-column: 3;\n  text-align: right;\n  color: var(--xr-font-color2);\n}\n\n.xr-var-preview {\n  grid-column: 4;\n}\n\n.xr-var-name,\n.xr-var-dims,\n.xr-var-dtype,\n.xr-preview,\n.xr-attrs dt {\n  white-space: nowrap;\n  overflow: hidden;\n  text-overflow: ellipsis;\n  padding-right: 10px;\n}\n\n.xr-var-name:hover,\n.xr-var-dims:hover,\n.xr-var-dtype:hover,\n.xr-attrs dt:hover {\n  overflow: visible;\n  width: auto;\n  z-index: 1;\n}\n\n.xr-var-attrs,\n.xr-var-data {\n  display: none;\n  background-color: var(--xr-background-color) !important;\n  padding-bottom: 5px !important;\n}\n\n.xr-var-attrs-in:checked ~ .xr-var-attrs,\n.xr-var-data-in:checked ~ .xr-var-data {\n  display: block;\n}\n\n.xr-var-data > table {\n  float: right;\n}\n\n.xr-var-name span,\n.xr-var-data,\n.xr-attrs {\n  padding-left: 25px !important;\n}\n\n.xr-attrs,\n.xr-var-attrs,\n.xr-var-data {\n  grid-column: 1 / -1;\n}\n\ndl.xr-attrs {\n  padding: 0;\n  margin: 0;\n  display: grid;\n  grid-template-columns: 125px auto;\n}\n\n.xr-attrs dt,\n.xr-attrs dd {\n  padding: 0;\n  margin: 0;\n  float: left;\n  padding-right: 10px;\n  width: auto;\n}\n\n.xr-attrs dt {\n  font-weight: normal;\n  grid-column: 1;\n}\n\n.xr-attrs dt:hover span {\n  display: inline-block;\n  background: var(--xr-background-color);\n  padding-right: 10px;\n}\n\n.xr-attrs dd {\n  grid-column: 2;\n  white-space: pre-wrap;\n  word-break: break-all;\n}\n\n.xr-icon-database,\n.xr-icon-file-text2 {\n  display: inline-block;\n  vertical-align: middle;\n  width: 1em;\n  height: 1.5em !important;\n  stroke-width: 0;\n  stroke: currentColor;\n  fill: currentColor;\n}\n</style><pre class='xr-text-repr-fallback'>&lt;xarray.Dataset&gt;\nDimensions:      (depth: 1, latitude: 1, longitude: 1, time: 166)\nCoordinates:\n  * time         (time) datetime64[ns] 2016-05-05 ... 2016-05-06T03:30:00\n  * longitude    (longitude) float64 -164.0\n  * latitude     (latitude) float64 56.87\n  * depth        (depth) float64 39.0\nData variables:\n    temperature  (time, depth, latitude, longitude) float64 8.023 ... 4.437\n    pressure     (time, depth, latitude, longitude) float64 -0.028 ... 39.33\nAttributes: (12/13)\n    Latitude-Deg_MM.dd_W:                   56 52.1729 N\n    Longitude-Deg_MM.dd_N:                  164 02.8716 W\n    MooringID:                              16BSM-2A\n    platform_deployment_date:               2016-05-05T05:51:00Z\n    platform_deployment_cruise_name:        DY1606\n    platform_recovery_date:                 2016-09-29T03:45:00Z\n    ...                                     ...\n    platform_deployment_recovery_comments:  Depth not listed - other two moor...\n    WaterDepth:                             71.0\n    date_created:                           2021-03-30T15:59:00Z\n    date_modified:                          \n    QC_indicator:                           unknown\n    history:                                Trimmed to deployment.</pre><div class='xr-wrap' hidden><div class='xr-header'><div class='xr-obj-type'>xarray.Dataset</div></div><ul class='xr-sections'><li class='xr-section-item'><input id='section-a21343c0-638a-47da-bdd2-2c943a4ffca0' class='xr-section-summary-in' type='checkbox' disabled ><label for='section-a21343c0-638a-47da-bdd2-2c943a4ffca0' class='xr-section-summary'  title='Expand/collapse section'>Dimensions:</label><div class='xr-section-inline-details'><ul class='xr-dim-list'><li><span class='xr-has-index'>depth</span>: 1</li><li><span class='xr-has-index'>latitude</span>: 1</li><li><span class='xr-has-index'>longitude</span>: 1</li><li><span class='xr-has-index'>time</span>: 166</li></ul></div><div class='xr-section-details'></div></li><li class='xr-section-item'><input id='section-f122e66c-254f-4205-9e29-20a05b9ade0c' class='xr-section-summary-in' type='checkbox'  checked><label for='section-f122e66c-254f-4205-9e29-20a05b9ade0c' class='xr-section-summary' >Coordinates: <span>(4)</span></label><div class='xr-section-inline-details'></div><div class='xr-section-details'><ul class='xr-var-list'><li class='xr-var-item'><div class='xr-var-name'><span class='xr-has-index'>time</span></div><div class='xr-var-dims'>(time)</div><div class='xr-var-dtype'>datetime64[ns]</div><div class='xr-var-preview xr-preview'>2016-05-05 ... 2016-05-06T03:30:00</div><input id='attrs-93d893b7-b0c4-4c36-937c-693d31f4d35d' class='xr-var-attrs-in' type='checkbox' disabled><label for='attrs-93d893b7-b0c4-4c36-937c-693d31f4d35d' title='Show/Hide attributes'><svg class='icon xr-icon-file-text2'><use xlink:href='#icon-file-text2'></use></svg></label><input id='data-5d77ea1f-2999-4369-bfce-832e98ed8eed' class='xr-var-data-in' type='checkbox'><label for='data-5d77ea1f-2999-4369-bfce-832e98ed8eed' title='Show/Hide data repr'><svg class='icon xr-icon-database'><use xlink:href='#icon-database'></use></svg></label><div class='xr-var-attrs'><dl class='xr-attrs'></dl></div><div class='xr-var-data'><pre>array([&#x27;2016-05-05T00:00:00.000000000&#x27;, &#x27;2016-05-05T00:10:00.000000000&#x27;,\n       &#x27;2016-05-05T00:20:00.000000000&#x27;, &#x27;2016-05-05T00:30:00.000000000&#x27;,\n       &#x27;2016-05-05T00:40:00.000000000&#x27;, &#x27;2016-05-05T00:50:00.000000000&#x27;,\n       &#x27;2016-05-05T01:00:00.000000000&#x27;, &#x27;2016-05-05T01:10:00.000000000&#x27;,\n       &#x27;2016-05-05T01:20:00.000000000&#x27;, &#x27;2016-05-05T01:30:00.000000000&#x27;,\n       &#x27;2016-05-05T01:40:00.000000000&#x27;, &#x27;2016-05-05T01:50:00.000000000&#x27;,\n       &#x27;2016-05-05T02:00:00.000000000&#x27;, &#x27;2016-05-05T02:10:00.000000000&#x27;,\n       &#x27;2016-05-05T02:20:00.000000000&#x27;, &#x27;2016-05-05T02:30:00.000000000&#x27;,\n       &#x27;2016-05-05T02:40:00.000000000&#x27;, &#x27;2016-05-05T02:50:00.000000000&#x27;,\n       &#x27;2016-05-05T03:00:00.000000000&#x27;, &#x27;2016-05-05T03:10:00.000000000&#x27;,\n       &#x27;2016-05-05T03:20:00.000000000&#x27;, &#x27;2016-05-05T03:30:00.000000000&#x27;,\n       &#x27;2016-05-05T03:40:00.000000000&#x27;, &#x27;2016-05-05T03:50:00.000000000&#x27;,\n       &#x27;2016-05-05T04:00:00.000000000&#x27;, &#x27;2016-05-05T04:10:00.000000000&#x27;,\n       &#x27;2016-05-05T04:20:00.000000000&#x27;, &#x27;2016-05-05T04:30:00.000000000&#x27;,\n       &#x27;2016-05-05T04:40:00.000000000&#x27;, &#x27;2016-05-05T04:50:00.000000000&#x27;,\n       &#x27;2016-05-05T05:00:00.000000000&#x27;, &#x27;2016-05-05T05:10:00.000000000&#x27;,\n       &#x27;2016-05-05T05:20:00.000000000&#x27;, &#x27;2016-05-05T05:30:00.000000000&#x27;,\n       &#x27;2016-05-05T05:40:00.000000000&#x27;, &#x27;2016-05-05T05:50:00.000000000&#x27;,\n       &#x27;2016-05-05T06:00:00.000000000&#x27;, &#x27;2016-05-05T06:10:00.000000000&#x27;,\n       &#x27;2016-05-05T06:20:00.000000000&#x27;, &#x27;2016-05-05T06:30:00.000000000&#x27;,\n       &#x27;2016-05-05T06:40:00.000000000&#x27;, &#x27;2016-05-05T06:50:00.000000000&#x27;,\n       &#x27;2016-05-05T07:00:00.000000000&#x27;, &#x27;2016-05-05T07:10:00.000000000&#x27;,\n       &#x27;2016-05-05T07:20:00.000000000&#x27;, &#x27;2016-05-05T07:30:00.000000000&#x27;,\n       &#x27;2016-05-05T07:40:00.000000000&#x27;, &#x27;2016-05-05T07:50:00.000000000&#x27;,\n       &#x27;2016-05-05T08:00:00.000000000&#x27;, &#x27;2016-05-05T08:10:00.000000000&#x27;,\n       &#x27;2016-05-05T08:20:00.000000000&#x27;, &#x27;2016-05-05T08:30:00.000000000&#x27;,\n       &#x27;2016-05-05T08:40:00.000000000&#x27;, &#x27;2016-05-05T08:50:00.000000000&#x27;,\n       &#x27;2016-05-05T09:00:00.000000000&#x27;, &#x27;2016-05-05T09:10:00.000000000&#x27;,\n       &#x27;2016-05-05T09:20:00.000000000&#x27;, &#x27;2016-05-05T09:30:00.000000000&#x27;,\n       &#x27;2016-05-05T09:40:00.000000000&#x27;, &#x27;2016-05-05T09:50:00.000000000&#x27;,\n       &#x27;2016-05-05T10:00:00.000000000&#x27;, &#x27;2016-05-05T10:10:00.000000000&#x27;,\n       &#x27;2016-05-05T10:20:00.000000000&#x27;, &#x27;2016-05-05T10:30:00.000000000&#x27;,\n       &#x27;2016-05-05T10:40:00.000000000&#x27;, &#x27;2016-05-05T10:50:00.000000000&#x27;,\n       &#x27;2016-05-05T11:00:00.000000000&#x27;, &#x27;2016-05-05T11:10:00.000000000&#x27;,\n       &#x27;2016-05-05T11:20:00.000000000&#x27;, &#x27;2016-05-05T11:30:00.000000000&#x27;,\n       &#x27;2016-05-05T11:40:00.000000000&#x27;, &#x27;2016-05-05T11:50:00.000000000&#x27;,\n       &#x27;2016-05-05T12:00:00.000000000&#x27;, &#x27;2016-05-05T12:10:00.000000000&#x27;,\n       &#x27;2016-05-05T12:20:00.000000000&#x27;, &#x27;2016-05-05T12:30:00.000000000&#x27;,\n       &#x27;2016-05-05T12:40:00.000000000&#x27;, &#x27;2016-05-05T12:50:00.000000000&#x27;,\n       &#x27;2016-05-05T13:00:00.000000000&#x27;, &#x27;2016-05-05T13:10:00.000000000&#x27;,\n       &#x27;2016-05-05T13:20:00.000000000&#x27;, &#x27;2016-05-05T13:30:00.000000000&#x27;,\n       &#x27;2016-05-05T13:40:00.000000000&#x27;, &#x27;2016-05-05T13:50:00.000000000&#x27;,\n       &#x27;2016-05-05T14:00:00.000000000&#x27;, &#x27;2016-05-05T14:10:00.000000000&#x27;,\n       &#x27;2016-05-05T14:20:00.000000000&#x27;, &#x27;2016-05-05T14:30:00.000000000&#x27;,\n       &#x27;2016-05-05T14:40:00.000000000&#x27;, &#x27;2016-05-05T14:50:00.000000000&#x27;,\n       &#x27;2016-05-05T15:00:00.000000000&#x27;, &#x27;2016-05-05T15:10:00.000000000&#x27;,\n       &#x27;2016-05-05T15:20:00.000000000&#x27;, &#x27;2016-05-05T15:30:00.000000000&#x27;,\n       &#x27;2016-05-05T15:40:00.000000000&#x27;, &#x27;2016-05-05T15:50:00.000000000&#x27;,\n       &#x27;2016-05-05T16:00:00.000000000&#x27;, &#x27;2016-05-05T16:10:00.000000000&#x27;,\n       &#x27;2016-05-05T16:20:00.000000000&#x27;, &#x27;2016-05-05T16:30:00.000000000&#x27;,\n       &#x27;2016-05-05T16:40:00.000000000&#x27;, &#x27;2016-05-05T16:50:00.000000000&#x27;,\n       &#x27;2016-05-05T17:00:00.000000000&#x27;, &#x27;2016-05-05T17:10:00.000000000&#x27;,\n       &#x27;2016-05-05T17:20:00.000000000&#x27;, &#x27;2016-05-05T17:30:00.000000000&#x27;,\n       &#x27;2016-05-05T17:40:00.000000000&#x27;, &#x27;2016-05-05T17:50:00.000000000&#x27;,\n       &#x27;2016-05-05T18:00:00.000000000&#x27;, &#x27;2016-05-05T18:10:00.000000000&#x27;,\n       &#x27;2016-05-05T18:20:00.000000000&#x27;, &#x27;2016-05-05T18:30:00.000000000&#x27;,\n       &#x27;2016-05-05T18:40:00.000000000&#x27;, &#x27;2016-05-05T18:50:00.000000000&#x27;,\n       &#x27;2016-05-05T19:00:00.000000000&#x27;, &#x27;2016-05-05T19:10:00.000000000&#x27;,\n       &#x27;2016-05-05T19:20:00.000000000&#x27;, &#x27;2016-05-05T19:30:00.000000000&#x27;,\n       &#x27;2016-05-05T19:40:00.000000000&#x27;, &#x27;2016-05-05T19:50:00.000000000&#x27;,\n       &#x27;2016-05-05T20:00:00.000000000&#x27;, &#x27;2016-05-05T20:10:00.000000000&#x27;,\n       &#x27;2016-05-05T20:20:00.000000000&#x27;, &#x27;2016-05-05T20:30:00.000000000&#x27;,\n       &#x27;2016-05-05T20:40:00.000000000&#x27;, &#x27;2016-05-05T20:50:00.000000000&#x27;,\n       &#x27;2016-05-05T21:00:00.000000000&#x27;, &#x27;2016-05-05T21:10:00.000000000&#x27;,\n       &#x27;2016-05-05T21:20:00.000000000&#x27;, &#x27;2016-05-05T21:30:00.000000000&#x27;,\n       &#x27;2016-05-05T21:40:00.000000000&#x27;, &#x27;2016-05-05T21:50:00.000000000&#x27;,\n       &#x27;2016-05-05T22:00:00.000000000&#x27;, &#x27;2016-05-05T22:10:00.000000000&#x27;,\n       &#x27;2016-05-05T22:20:00.000000000&#x27;, &#x27;2016-05-05T22:30:00.000000000&#x27;,\n       &#x27;2016-05-05T22:40:00.000000000&#x27;, &#x27;2016-05-05T22:50:00.000000000&#x27;,\n       &#x27;2016-05-05T23:00:00.000000000&#x27;, &#x27;2016-05-05T23:10:00.000000000&#x27;,\n       &#x27;2016-05-05T23:20:00.000000000&#x27;, &#x27;2016-05-05T23:30:00.000000000&#x27;,\n       &#x27;2016-05-05T23:40:00.000000000&#x27;, &#x27;2016-05-05T23:50:00.000000000&#x27;,\n       &#x27;2016-05-06T00:00:00.000000000&#x27;, &#x27;2016-05-06T00:10:00.000000000&#x27;,\n       &#x27;2016-05-06T00:20:00.000000000&#x27;, &#x27;2016-05-06T00:30:00.000000000&#x27;,\n       &#x27;2016-05-06T00:40:00.000000000&#x27;, &#x27;2016-05-06T00:50:00.000000000&#x27;,\n       &#x27;2016-05-06T01:00:00.000000000&#x27;, &#x27;2016-05-06T01:10:00.000000000&#x27;,\n       &#x27;2016-05-06T01:20:00.000000000&#x27;, &#x27;2016-05-06T01:30:00.000000000&#x27;,\n       &#x27;2016-05-06T01:40:00.000000000&#x27;, &#x27;2016-05-06T01:50:00.000000000&#x27;,\n       &#x27;2016-05-06T02:00:00.000000000&#x27;, &#x27;2016-05-06T02:10:00.000000000&#x27;,\n       &#x27;2016-05-06T02:20:00.000000000&#x27;, &#x27;2016-05-06T02:30:00.000000000&#x27;,\n       &#x27;2016-05-06T02:40:00.000000000&#x27;, &#x27;2016-05-06T02:50:00.000000000&#x27;,\n       &#x27;2016-05-06T03:00:00.000000000&#x27;, &#x27;2016-05-06T03:10:00.000000000&#x27;,\n       &#x27;2016-05-06T03:20:00.000000000&#x27;, &#x27;2016-05-06T03:30:00.000000000&#x27;],\n      dtype=&#x27;datetime64[ns]&#x27;)</pre></div></li><li class='xr-var-item'><div class='xr-var-name'><span class='xr-has-index'>longitude</span></div><div class='xr-var-dims'>(longitude)</div><div class='xr-var-dtype'>float64</div><div class='xr-var-preview xr-preview'>-164.0</div><input id='attrs-ecdbf3da-3dc7-47df-a043-1baa312edd59' class='xr-var-attrs-in' type='checkbox' ><label for='attrs-ecdbf3da-3dc7-47df-a043-1baa312edd59' title='Show/Hide attributes'><svg class='icon xr-icon-file-text2'><use xlink:href='#icon-file-text2'></use></svg></label><input id='data-6f155313-a1c7-4b4b-ad0c-a3d843205287' class='xr-var-data-in' type='checkbox'><label for='data-6f155313-a1c7-4b4b-ad0c-a3d843205287' title='Show/Hide data repr'><svg class='icon xr-icon-database'><use xlink:href='#icon-database'></use></svg></label><div class='xr-var-attrs'><dl class='xr-attrs'><dt><span>epic_key :</span></dt><dd>LAT_500</dd><dt><span>name :</span></dt><dd>longitude</dd><dt><span>generic_name :</span></dt><dd>longitude</dd><dt><span>units :</span></dt><dd>degrees_east</dd><dt><span>long_name :</span></dt><dd>longitude</dd><dt><span>standard_name :</span></dt><dd>longitude</dd></dl></div><div class='xr-var-data'><pre>array([-164.04786])</pre></div></li><li class='xr-var-item'><div class='xr-var-name'><span class='xr-has-index'>latitude</span></div><div class='xr-var-dims'>(latitude)</div><div class='xr-var-dtype'>float64</div><div class='xr-var-preview xr-preview'>56.87</div><input id='attrs-615f05fc-376a-4701-802c-ae2f17040a03' class='xr-var-attrs-in' type='checkbox' ><label for='attrs-615f05fc-376a-4701-802c-ae2f17040a03' title='Show/Hide attributes'><svg class='icon xr-icon-file-text2'><use xlink:href='#icon-file-text2'></use></svg></label><input id='data-0e40a164-5fb0-41de-8128-68916a7999ee' class='xr-var-data-in' type='checkbox'><label for='data-0e40a164-5fb0-41de-8128-68916a7999ee' title='Show/Hide data repr'><svg class='icon xr-icon-database'><use xlink:href='#icon-database'></use></svg></label><div class='xr-var-attrs'><dl class='xr-attrs'><dt><span>epic_key :</span></dt><dd>LON_501</dd><dt><span>name :</span></dt><dd>latitude</dd><dt><span>generic_name :</span></dt><dd>latitude</dd><dt><span>units :</span></dt><dd>degrees_north</dd><dt><span>long_name :</span></dt><dd>latitude</dd><dt><span>standard_name :</span></dt><dd>latitude</dd></dl></div><div class='xr-var-data'><pre>array([56.869548])</pre></div></li><li class='xr-var-item'><div class='xr-var-name'><span class='xr-has-index'>depth</span></div><div class='xr-var-dims'>(depth)</div><div class='xr-var-dtype'>float64</div><div class='xr-var-preview xr-preview'>39.0</div><input id='attrs-1f654788-c051-44ac-8d90-c33b9105342f' class='xr-var-attrs-in' type='checkbox' ><label for='attrs-1f654788-c051-44ac-8d90-c33b9105342f' title='Show/Hide attributes'><svg class='icon xr-icon-file-text2'><use xlink:href='#icon-file-text2'></use></svg></label><input id='data-4c996fda-c16a-4d1a-a8ae-178735791f43' class='xr-var-data-in' type='checkbox'><label for='data-4c996fda-c16a-4d1a-a8ae-178735791f43' title='Show/Hide data repr'><svg class='icon xr-icon-database'><use xlink:href='#icon-database'></use></svg></label><div class='xr-var-attrs'><dl class='xr-attrs'><dt><span>epic_key :</span></dt><dd>D_3</dd><dt><span>generic_name :</span></dt><dd>depth</dd><dt><span>units :</span></dt><dd>meter</dd><dt><span>long_name :</span></dt><dd>depth below surface (meters)</dd><dt><span>standard_name :</span></dt><dd>depth</dd></dl></div><div class='xr-var-data'><pre>array([39.])</pre></div></li></ul></div></li><li class='xr-section-item'><input id='section-463746a5-dbfa-4e48-a01b-1b082faa3ad2' class='xr-section-summary-in' type='checkbox'  checked><label for='section-463746a5-dbfa-4e48-a01b-1b082faa3ad2' class='xr-section-summary' >Data variables: <span>(2)</span></label><div class='xr-section-inline-details'></div><div class='xr-section-details'><ul class='xr-var-list'><li class='xr-var-item'><div class='xr-var-name'><span>temperature</span></div><div class='xr-var-dims'>(time, depth, latitude, longitude)</div><div class='xr-var-dtype'>float64</div><div class='xr-var-preview xr-preview'>8.023 7.905 7.971 ... 4.555 4.437</div><input id='attrs-590e978e-404a-42b4-9146-5b113a545ef4' class='xr-var-attrs-in' type='checkbox' ><label for='attrs-590e978e-404a-42b4-9146-5b113a545ef4' title='Show/Hide attributes'><svg class='icon xr-icon-file-text2'><use xlink:href='#icon-file-text2'></use></svg></label><input id='data-0de45996-cd97-471c-b187-3e9ee501aca2' class='xr-var-data-in' type='checkbox'><label for='data-0de45996-cd97-471c-b187-3e9ee501aca2' title='Show/Hide data repr'><svg class='icon xr-icon-database'><use xlink:href='#icon-database'></use></svg></label><div class='xr-var-attrs'><dl class='xr-attrs'><dt><span>epic_key :</span></dt><dd>T_20</dd><dt><span>generic_name :</span></dt><dd>temp</dd><dt><span>long_name :</span></dt><dd>Sea temperature in-situ ITS-90 scale</dd><dt><span>standard_name :</span></dt><dd>sea_water_temperature</dd><dt><span>units :</span></dt><dd>degree_C</dd></dl></div><div class='xr-var-data'><pre>array([[[[ 8.0234]]],\n\n\n       [[[ 7.9049]]],\n\n\n       [[[ 7.9709]]],\n\n\n       [[[ 8.086 ]]],\n\n\n       [[[ 8.18  ]]],\n\n\n       [[[ 8.4526]]],\n\n\n       [[[ 8.7365]]],\n\n...\n\n       [[[ 4.6325]]],\n\n\n       [[[ 4.5646]]],\n\n\n       [[[ 4.4773]]],\n\n\n       [[[ 4.4369]]],\n\n\n       [[[ 4.4225]]],\n\n\n       [[[ 4.5546]]],\n\n\n       [[[ 4.4372]]]])</pre></div></li><li class='xr-var-item'><div class='xr-var-name'><span>pressure</span></div><div class='xr-var-dims'>(time, depth, latitude, longitude)</div><div class='xr-var-dtype'>float64</div><div class='xr-var-preview xr-preview'>-0.028 -0.028 ... 39.63 39.33</div><input id='attrs-fe533496-8bcd-410b-a987-e9d4f9903049' class='xr-var-attrs-in' type='checkbox' disabled><label for='attrs-fe533496-8bcd-410b-a987-e9d4f9903049' title='Show/Hide attributes'><svg class='icon xr-icon-file-text2'><use xlink:href='#icon-file-text2'></use></svg></label><input id='data-2bf91ada-3ebb-4b1b-938c-15e49f61f9e5' class='xr-var-data-in' type='checkbox'><label for='data-2bf91ada-3ebb-4b1b-938c-15e49f61f9e5' title='Show/Hide data repr'><svg class='icon xr-icon-database'><use xlink:href='#icon-database'></use></svg></label><div class='xr-var-attrs'><dl class='xr-attrs'></dl></div><div class='xr-var-data'><pre>array([[[[-2.8000e-02]]],\n\n\n       [[[-2.8000e-02]]],\n\n\n       [[[-2.8000e-02]]],\n\n\n       [[[-2.8000e-02]]],\n\n\n       [[[-3.3000e-02]]],\n\n\n       [[[-4.2000e-02]]],\n\n\n       [[[-7.1000e-02]]],\n\n...\n\n       [[[ 4.0023e+01]]],\n\n\n       [[[ 4.0070e+01]]],\n\n\n       [[[ 4.0278e+01]]],\n\n\n       [[[ 3.9263e+01]]],\n\n\n       [[[ 3.9900e+01]]],\n\n\n       [[[ 3.9631e+01]]],\n\n\n       [[[ 3.9329e+01]]]])</pre></div></li></ul></div></li><li class='xr-section-item'><input id='section-624fbf3c-6a6a-4c26-a416-4460349f1353' class='xr-section-summary-in' type='checkbox'  ><label for='section-624fbf3c-6a6a-4c26-a416-4460349f1353' class='xr-section-summary' >Attributes: <span>(13)</span></label><div class='xr-section-inline-details'></div><div class='xr-section-details'><dl class='xr-attrs'><dt><span>Latitude-Deg_MM.dd_W :</span></dt><dd>56 52.1729 N</dd><dt><span>Longitude-Deg_MM.dd_N :</span></dt><dd>164 02.8716 W</dd><dt><span>MooringID :</span></dt><dd>16BSM-2A</dd><dt><span>platform_deployment_date :</span></dt><dd>2016-05-05T05:51:00Z</dd><dt><span>platform_deployment_cruise_name :</span></dt><dd>DY1606</dd><dt><span>platform_recovery_date :</span></dt><dd>2016-09-29T03:45:00Z</dd><dt><span>platform_recovery_cruise_name :</span></dt><dd>AQ1601</dd><dt><span>platform_deployment_recovery_comments :</span></dt><dd>Depth not listed - other two moorings BSP-2A and ITAE are at 71m so figure 71m</dd><dt><span>WaterDepth :</span></dt><dd>71.0</dd><dt><span>date_created :</span></dt><dd>2021-03-30T15:59:00Z</dd><dt><span>date_modified :</span></dt><dd></dd><dt><span>QC_indicator :</span></dt><dd>unknown</dd><dt><span>history :</span></dt><dd>Trimmed to deployment.</dd></dl></div></li></ul></div></div>"
     },
     "metadata": {},
     "execution_count": 36
    }
   ],
   "source": [
    "sbe56_wop_nc.get_xdf()"
   ]
  },
  {
   "cell_type": "markdown",
   "id": "individual-nature",
   "metadata": {},
   "source": [
    "## Next Steps\n",
    "\n",
    "QC of data (plot parameters with other instruments)\n",
    "- be sure to updated the qc_status and the history"
   ]
  },
  {
   "cell_type": "code",
   "execution_count": null,
   "id": "insured-vulnerability",
   "metadata": {},
   "outputs": [],
   "source": []
  }
 ],
 "metadata": {
  "kernelspec": {
   "name": "python3",
   "display_name": "Python 3.8.6 64-bit ('py38': virtualenv)",
   "metadata": {
    "interpreter": {
     "hash": "ea8efced7f9f908505a4e28889b9d0ff7d52e9a5c03dfaa80d1d80124525970c"
    }
   }
  },
  "language_info": {
   "codemirror_mode": {
    "name": "ipython",
    "version": 3
   },
   "file_extension": ".py",
   "mimetype": "text/x-python",
   "name": "python",
   "nbconvert_exporter": "python",
   "pygments_lexer": "ipython3",
   "version": "3.8.6-final"
  }
 },
 "nbformat": 4,
 "nbformat_minor": 5
}
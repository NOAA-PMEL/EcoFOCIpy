{
 "cells": [
  {
   "cell_type": "markdown",
   "id": "educational-chosen",
   "metadata": {},
   "source": [
    "# Using EcoFOCIpy to process raw field data\n",
    "\n",
    "## Mooring / Timeseries Data\n",
    "\n",
    "Basic workflow for each instrument grouping is *(initial archive level)*:\n",
    "- Parse data from raw files into pandas dataframe\n",
    "- output initial files (pandas->csv) **ERDDAP NRT** when no meta data is added\n",
    "\n",
    "Convert to xarray dataframe for all following work *(working or final data level):\n",
    "- TODO: Add metadata from instrument yaml files and/or header info\n",
    "- ingest metadata from deployment/recovery records or cast logs\n",
    "- process data beyond simple file translate\n",
    "- apply any calibrations or corrections\n",
    "    + field corrections\n",
    "    + offsets\n",
    "    + instrument compensations\n",
    "    + some QC were available... this would be old-school simple bounds mostly\n",
    "- adjust time bounds and sample frequency (xarray dataframe)\n",
    "- save as CF netcdf via xarray: so many of the steps above are optional\n",
    "    + **ERDDAP NRT** if no corrections, offsets or time bounds are applied but some meta data is\n",
    "    + **Working and awaiting QC** has no ERDDAP representation and is a holding spot\n",
    "    + **ERDDAP Final** fully calibrated, qc'd and populated with meta information\n",
    "\n",
    "Plot for preview and QC\n",
    "- preview images (indiv and/or collectively)\n",
    "- manual qc process\n",
    "- automated qc process ML/AI\n",
    "\n",
    "Further refinenments for ERDDAP hosting:\n"
   ]
  },
  {
   "cell_type": "markdown",
   "id": "allied-miniature",
   "metadata": {},
   "source": [
    "## Example below is for SBE-39 but the workflow is similar for all instruments.\n",
    "\n",
    "Future processing of this instrument can be a simplified (no markdown) process which can be archived so that the procedure can be traced or updated"
   ]
  },
  {
   "cell_type": "code",
   "execution_count": 20,
   "id": "studied-pollution",
   "metadata": {},
   "outputs": [],
   "source": [
    "import yaml\n",
    "\n",
    "import EcoFOCIpy.io.sbe_parser as sbe_parser #<- instrument specific\n",
    "import EcoFOCIpy.io.ncCFsave as ncCFsave\n",
    "import EcoFOCIpy.metaconfig.load_config as load_config"
   ]
  },
  {
   "cell_type": "markdown",
   "id": "public-millennium",
   "metadata": {},
   "source": [
    "The sample_data_dir should be included in the github package but may not be included in the pip install of the package\n",
    "\n",
    "## Simple Processing - first step"
   ]
  },
  {
   "cell_type": "code",
   "execution_count": 21,
   "id": "offensive-level",
   "metadata": {},
   "outputs": [],
   "source": [
    "sample_data_dir = '../'"
   ]
  },
  {
   "cell_type": "code",
   "execution_count": 22,
   "id": "third-yellow",
   "metadata": {},
   "outputs": [],
   "source": [
    "###############################################################\n",
    "# edit to point to {instrument sepcific} raw datafile \n",
    "datafile = sample_data_dir+'staticdata/example_data/sbe56_timeJ.cnv'\n",
    "instrument = 'SBE-56 2453'\n",
    "mooring_meta_file = sample_data_dir+'staticdata/mooring_example.yaml'\n",
    "inst_meta_file = sample_data_dir+'staticdata/instr_metaconfig/sbe56_cf.yaml'\n",
    "inst_shortname = 's56'\n",
    "###############################################################\n",
    "\n",
    "#init and load data\n",
    "sbe56_wop = sbe_parser.sbe56()\n",
    "(sbe56_wop_data,sbe56_wop_header) = sbe56_wop.parse(filename=datafile,\n",
    "                                                    return_header=True,\n",
    "                                                    datetime_index=True) "
   ]
  },
  {
   "cell_type": "code",
   "execution_count": 23,
   "id": "fifteen-military",
   "metadata": {},
   "outputs": [
    {
     "output_type": "execute_result",
     "data": {
      "text/plain": [
       "['* <?xml version=\"1.0\"?>\\n',\n",
       " '* <!--DeviceManager-->\\n',\n",
       " '* <SBEDataUploadFile>\\n',\n",
       " '* <ApplicationData>\\n',\n",
       " '* <DeviceInterfaceAppData>\\n',\n",
       " '* <SoftwareVersion>1.8</SoftwareVersion>\\n',\n",
       " '* <BuildDate>11-Jan-2012 21:42:18 UTC</BuildDate>\\n',\n",
       " '* </DeviceInterfaceAppData>\\n',\n",
       " '* </ApplicationData>\\n',\n",
       " '* <InstrumentState>\\n',\n",
       " \"* <StatusData DeviceType='SBE56' SerialNumber='05602453'>\\n\",\n",
       " '*    <DateTime>2018-10-04T04:10:52</DateTime>\\n',\n",
       " '*    <DelayedStart>2018-04-30T14:00:00</DelayedStart>\\n',\n",
       " \"*    <EventSummary numEvents='0'/>\\n\",\n",
       " '*    <Power>\\n',\n",
       " '*       <MainSupplyVoltage>3.63</MainSupplyVoltage>\\n',\n",
       " '*       </Power>\\n',\n",
       " '*    <ADCRatio>\\n',\n",
       " '*       <Ratio>8784063</Ratio>\\n',\n",
       " '*       </ADCRatio>\\n',\n",
       " '*    <Battery>\\n',\n",
       " '*       <Installed>2018-03-13T18:45:41</Installed>\\n',\n",
       " '*       <Samples>45099</Samples>\\n',\n",
       " '*       </Battery>\\n',\n",
       " '*    <MemorySummary>\\n',\n",
       " '*       <Samples>45099</Samples>\\n',\n",
       " '*       <Bytes>187904</Bytes>\\n',\n",
       " '*       <BytesFree>66396672</BytesFree>\\n',\n",
       " '*       </MemorySummary>\\n',\n",
       " '*    </StatusData>\\n',\n",
       " '* \\n',\n",
       " \"* <HardwareData DeviceType='SBE56' SerialNumber='05602453'>\\n\",\n",
       " '*    <Manufacturer>Sea-Bird Electronics, Inc</Manufacturer>\\n',\n",
       " '*    <FirmwareVersion>SBE56 V0.96</FirmwareVersion>\\n',\n",
       " '*    <FirmwareDate>Feb 25 2011</FirmwareDate>\\n',\n",
       " \"*    <PCBAssembly PCBID='052157' AssemblyNum='41688E'/>\\n\",\n",
       " '*    <MfgDate>Feb 25 2011</MfgDate>\\n',\n",
       " '*    <PCBType>0</PCBType>\\n',\n",
       " '*    <InternalSensors>\\n',\n",
       " \"*       <Sensor id='Water Temperature'>\\n\",\n",
       " '*          <type>TEMP0</type>\\n',\n",
       " '*          <SerialNumber>05602453</SerialNumber>\\n',\n",
       " '*          </Sensor>\\n',\n",
       " '*       </InternalSensors>\\n',\n",
       " '*    </HardwareData>\\n',\n",
       " '* \\n',\n",
       " \"* <ConfigurationData DeviceType='SBE56' SerialNumber='05602453'>\\n\",\n",
       " '*    <Settings\\n',\n",
       " \"*       samplePeriod='300' format='1' />\\n\",\n",
       " '*    </ConfigurationData>\\n',\n",
       " '* \\n',\n",
       " \"* <CalibrationCoefficients DeviceType='SBE56' SerialNumber='05602453'>\\n\",\n",
       " \"*    <Calibration format='TEMP0' id='Water Temperature'>\\n\",\n",
       " '*       <CalDate>2013-03-24</CalDate>\\n',\n",
       " '*       <a0>-1.225231E-03</a0>\\n',\n",
       " '*       <a1>3.455180E-04</a1>\\n',\n",
       " '*       <a2>-6.596437E-06</a2>\\n',\n",
       " '*       <a3>2.014821E-07</a3>\\n',\n",
       " '*       <OFFSET>0.000000E+00</OFFSET>\\n',\n",
       " '*       </Calibration>\\n',\n",
       " '*    </CalibrationCoefficients>\\n',\n",
       " '* \\n',\n",
       " \"* <EventSummary DeviceType='SBE56' SerialNumber='05602453'>\\n\",\n",
       " \"*    <EventList numEvents='0' maxStack='-2'>\\n\",\n",
       " '*       </EventList>\\n',\n",
       " '*    </EventSummary>\\n',\n",
       " '* \\n',\n",
       " '* </InstrumentState>\\n',\n",
       " '# nquan = 4\\n',\n",
       " '# nvalues = 45099                                 \\n',\n",
       " '# units = specified\\n',\n",
       " '# name 0 = scan: Scan Count\\n',\n",
       " '# name 1 = timeJ: Julian Days\\n',\n",
       " '# name 2 = t090C: Temperature [ITS-90, deg C\\n',\n",
       " '# name 3 = flag:   0.000e+00\\n',\n",
       " '# span 0 =          1,      45099                 \\n',\n",
       " '# span 1 = 120.583333, 277.173600                 \\n',\n",
       " '# span 2 =     3.4129,    19.2721                 \\n',\n",
       " '# span 3 =  0.000e+00,  0.000e+00                 \\n',\n",
       " '# interval = seconds: 300                         \\n',\n",
       " '# start_time = Apr 30 2018 14:00:00               \\n',\n",
       " '# bad_flag =  -9.990e-29\\n',\n",
       " '# sensor 0 = RRatio temperature, 05602453         \\n',\n",
       " '# datcnv_date = Nov 06 2018 20:33:14, SeatermUSB v 1.8.1\\n',\n",
       " '# datcnv_in = D:\\\\sbe56\\\\18bsm2a_sbe56_2453_47m.xml\\n',\n",
       " '# datcnv_skipover = 0\\n',\n",
       " '# file_type = ascii\\n',\n",
       " '*END*\\n']"
      ]
     },
     "metadata": {},
     "execution_count": 23
    }
   ],
   "source": [
    "sbe56_wop_header"
   ]
  },
  {
   "cell_type": "code",
   "execution_count": 24,
   "id": "alive-bruce",
   "metadata": {},
   "outputs": [
    {
     "output_type": "execute_result",
     "data": {
      "text/plain": [
       "                            scan       timeJ   t090C  flag\n",
       "date_time                                                 \n",
       "2018-08-29 03:59:59.971200     1  120.583333  4.4944   0.0\n",
       "2018-08-29 04:05:00.038400     2  120.586806  4.4623   0.0\n",
       "2018-08-29 04:10:00.019200     3  120.590278  4.4588   0.0\n",
       "2018-08-29 04:15:00.000000     4  120.593750  4.4487   0.0\n",
       "2018-08-29 04:19:59.980800     5  120.597222  4.4253   0.0\n",
       "...                          ...         ...     ...   ...\n",
       "2018-08-29 14:00:00.000000   121  121.000000  7.1509   0.0\n",
       "2018-08-29 14:04:59.980800   122  121.003472  6.5324   0.0\n",
       "2018-08-29 14:09:59.961600   123  121.006944  6.4130   0.0\n",
       "2018-08-29 14:14:58.992000   124  121.010405  6.1029   0.0\n",
       "2018-08-29 14:19:58.972800   125  121.013877  6.2053   0.0\n",
       "\n",
       "[125 rows x 4 columns]"
      ],
      "text/html": "<div>\n<style scoped>\n    .dataframe tbody tr th:only-of-type {\n        vertical-align: middle;\n    }\n\n    .dataframe tbody tr th {\n        vertical-align: top;\n    }\n\n    .dataframe thead th {\n        text-align: right;\n    }\n</style>\n<table border=\"1\" class=\"dataframe\">\n  <thead>\n    <tr style=\"text-align: right;\">\n      <th></th>\n      <th>scan</th>\n      <th>timeJ</th>\n      <th>t090C</th>\n      <th>flag</th>\n    </tr>\n    <tr>\n      <th>date_time</th>\n      <th></th>\n      <th></th>\n      <th></th>\n      <th></th>\n    </tr>\n  </thead>\n  <tbody>\n    <tr>\n      <th>2018-08-29 03:59:59.971200</th>\n      <td>1</td>\n      <td>120.583333</td>\n      <td>4.4944</td>\n      <td>0.0</td>\n    </tr>\n    <tr>\n      <th>2018-08-29 04:05:00.038400</th>\n      <td>2</td>\n      <td>120.586806</td>\n      <td>4.4623</td>\n      <td>0.0</td>\n    </tr>\n    <tr>\n      <th>2018-08-29 04:10:00.019200</th>\n      <td>3</td>\n      <td>120.590278</td>\n      <td>4.4588</td>\n      <td>0.0</td>\n    </tr>\n    <tr>\n      <th>2018-08-29 04:15:00.000000</th>\n      <td>4</td>\n      <td>120.593750</td>\n      <td>4.4487</td>\n      <td>0.0</td>\n    </tr>\n    <tr>\n      <th>2018-08-29 04:19:59.980800</th>\n      <td>5</td>\n      <td>120.597222</td>\n      <td>4.4253</td>\n      <td>0.0</td>\n    </tr>\n    <tr>\n      <th>...</th>\n      <td>...</td>\n      <td>...</td>\n      <td>...</td>\n      <td>...</td>\n    </tr>\n    <tr>\n      <th>2018-08-29 14:00:00.000000</th>\n      <td>121</td>\n      <td>121.000000</td>\n      <td>7.1509</td>\n      <td>0.0</td>\n    </tr>\n    <tr>\n      <th>2018-08-29 14:04:59.980800</th>\n      <td>122</td>\n      <td>121.003472</td>\n      <td>6.5324</td>\n      <td>0.0</td>\n    </tr>\n    <tr>\n      <th>2018-08-29 14:09:59.961600</th>\n      <td>123</td>\n      <td>121.006944</td>\n      <td>6.4130</td>\n      <td>0.0</td>\n    </tr>\n    <tr>\n      <th>2018-08-29 14:14:58.992000</th>\n      <td>124</td>\n      <td>121.010405</td>\n      <td>6.1029</td>\n      <td>0.0</td>\n    </tr>\n    <tr>\n      <th>2018-08-29 14:19:58.972800</th>\n      <td>125</td>\n      <td>121.013877</td>\n      <td>6.2053</td>\n      <td>0.0</td>\n    </tr>\n  </tbody>\n</table>\n<p>125 rows × 4 columns</p>\n</div>"
     },
     "metadata": {},
     "execution_count": 24
    }
   ],
   "source": [
    "sbe56_wop_data"
   ]
  },
  {
   "cell_type": "markdown",
   "id": "ready-audit",
   "metadata": {},
   "source": [
    "## Time properties\n",
    "\n",
    "Its unusual that our clocks drift to the point of concern for our instruments (if an instrument is off by 3 minutes but only sampling hourly... regridding that data will result in minimal changes).  However, there are a few time oriented modifications that may need to be made.\n",
    "\n",
    "The can be classified into two categories:\n",
    "+ interpolate: these change the parameter values in accordance with the time edits\n",
    "    - linear interpolation is most common\n",
    "    - averaging of data and rebinning/resampling is also common (this needs to have the \"time lable\" thought out...)\n",
    "    - decimating is less common but does not impact the max/min values\n",
    "+ shift: these do not alter the measurements, just the timestamps they are associated with\n",
    "    - the round function will work well to correct small time errors/drifts **common**\n",
    "    - dropping extra precision on time (if you want hourly measurements, just remove all minute/second info... could cause large errors if rounding would have been more appropriate)"
   ]
  },
  {
   "cell_type": "markdown",
   "id": "supposed-bankruptcy",
   "metadata": {},
   "source": [
    "It is very easy to use pandas interplation and resample methods on the dataframe as is.  A few steps are suggested below:\n",
    "- parse out on-deck (predeployment and recovery) data.  This can be done via pandas or xarray but requires the mooring metadata to have been read in.  See future steps below.\n",
    "- even if the sample frequency is set to the desired measurement frequency, it would be good to perform a quick regridding as an assurance task\n",
    "- FOCI data is usualy 1min, 10min, 1hr - and the 1min data is a fairly new (sbe56) data stream\n",
    "    + subsampling high frequency data to lower frequency is easy via df.resample().mean() but it will label the new datapoint per default instructions.  The default is to label it with the left boundary of the bin.\n",
    "    + you may want to take the median instead of the mean for noisy data (fluorometer) , occasionally decimating may be more appropriate if you want to downsize the dataset size but not smear features\n",
    "    + shifting times can be a bit more involved.  There are two primary ways to do it, interpolate or shift (round)\n",
    "        - to interpolate, you will need to upsample your data to a higher frequency which will generate missing values, then interpolate (with a maximum gap size), then decimate.  This always has the artifact of smoothing data and decreasing the min/max values. **common on microcats and other 10min datasets**\n",
    "        - shifting usually just involves droping extra time \"digits\", if you want hourly, you could just drop the trailing minutes assuming you are just off the hour (8:05 -> 8:00) or you can round to the nearest time unit but niether of these changes the data value, just the time associated with it. **common on seacats and other hourly datasets**\n",
    "        - you may also be able to *shift* using the pandas datetime round function and specifing the desired frequency.\n",
    "    + I suggest if no change is needed... df.index.round(freq=*'your native sample freq'*)\n",
    "    "
   ]
  },
  {
   "cell_type": "code",
   "execution_count": 25,
   "metadata": {},
   "outputs": [
    {
     "output_type": "execute_result",
     "data": {
      "text/plain": [
       "                     scan       timeJ   t090C  flag\n",
       "date_time                                          \n",
       "2018-08-29 04:00:00     1  120.583333  4.4944   0.0\n",
       "2018-08-29 04:05:00     2  120.586806  4.4623   0.0\n",
       "2018-08-29 04:10:00     3  120.590278  4.4588   0.0\n",
       "2018-08-29 04:15:00     4  120.593750  4.4487   0.0\n",
       "2018-08-29 04:20:00     5  120.597222  4.4253   0.0\n",
       "...                   ...         ...     ...   ...\n",
       "2018-08-29 14:00:00   121  121.000000  7.1509   0.0\n",
       "2018-08-29 14:05:00   122  121.003472  6.5324   0.0\n",
       "2018-08-29 14:10:00   123  121.006944  6.4130   0.0\n",
       "2018-08-29 14:15:00   124  121.010405  6.1029   0.0\n",
       "2018-08-29 14:20:00   125  121.013877  6.2053   0.0\n",
       "\n",
       "[125 rows x 4 columns]"
      ],
      "text/html": "<div>\n<style scoped>\n    .dataframe tbody tr th:only-of-type {\n        vertical-align: middle;\n    }\n\n    .dataframe tbody tr th {\n        vertical-align: top;\n    }\n\n    .dataframe thead th {\n        text-align: right;\n    }\n</style>\n<table border=\"1\" class=\"dataframe\">\n  <thead>\n    <tr style=\"text-align: right;\">\n      <th></th>\n      <th>scan</th>\n      <th>timeJ</th>\n      <th>t090C</th>\n      <th>flag</th>\n    </tr>\n    <tr>\n      <th>date_time</th>\n      <th></th>\n      <th></th>\n      <th></th>\n      <th></th>\n    </tr>\n  </thead>\n  <tbody>\n    <tr>\n      <th>2018-08-29 04:00:00</th>\n      <td>1</td>\n      <td>120.583333</td>\n      <td>4.4944</td>\n      <td>0.0</td>\n    </tr>\n    <tr>\n      <th>2018-08-29 04:05:00</th>\n      <td>2</td>\n      <td>120.586806</td>\n      <td>4.4623</td>\n      <td>0.0</td>\n    </tr>\n    <tr>\n      <th>2018-08-29 04:10:00</th>\n      <td>3</td>\n      <td>120.590278</td>\n      <td>4.4588</td>\n      <td>0.0</td>\n    </tr>\n    <tr>\n      <th>2018-08-29 04:15:00</th>\n      <td>4</td>\n      <td>120.593750</td>\n      <td>4.4487</td>\n      <td>0.0</td>\n    </tr>\n    <tr>\n      <th>2018-08-29 04:20:00</th>\n      <td>5</td>\n      <td>120.597222</td>\n      <td>4.4253</td>\n      <td>0.0</td>\n    </tr>\n    <tr>\n      <th>...</th>\n      <td>...</td>\n      <td>...</td>\n      <td>...</td>\n      <td>...</td>\n    </tr>\n    <tr>\n      <th>2018-08-29 14:00:00</th>\n      <td>121</td>\n      <td>121.000000</td>\n      <td>7.1509</td>\n      <td>0.0</td>\n    </tr>\n    <tr>\n      <th>2018-08-29 14:05:00</th>\n      <td>122</td>\n      <td>121.003472</td>\n      <td>6.5324</td>\n      <td>0.0</td>\n    </tr>\n    <tr>\n      <th>2018-08-29 14:10:00</th>\n      <td>123</td>\n      <td>121.006944</td>\n      <td>6.4130</td>\n      <td>0.0</td>\n    </tr>\n    <tr>\n      <th>2018-08-29 14:15:00</th>\n      <td>124</td>\n      <td>121.010405</td>\n      <td>6.1029</td>\n      <td>0.0</td>\n    </tr>\n    <tr>\n      <th>2018-08-29 14:20:00</th>\n      <td>125</td>\n      <td>121.013877</td>\n      <td>6.2053</td>\n      <td>0.0</td>\n    </tr>\n  </tbody>\n</table>\n<p>125 rows × 4 columns</p>\n</div>"
     },
     "metadata": {},
     "execution_count": 25
    }
   ],
   "source": [
    "sbe56_wop_data.index = sbe56_wop_data.index.round(freq='5min')\n",
    "sbe56_wop_data"
   ]
  },
  {
   "cell_type": "code",
   "execution_count": 26,
   "id": "fourth-perspective",
   "metadata": {},
   "outputs": [],
   "source": [
    "# because many of the values where just prior to the 5min label, resampling shifted them by default to 5min earlier\n",
    "#  changing the label to the end would resolve this this time, but it needs addressed each time\n",
    "# sbe56_wop_data = sbe56_wop_data.resample('1min').mean().interpolate(limit=5) #a 5min limit\n",
    "# sbe56_wop_data"
   ]
  },
  {
   "cell_type": "code",
   "execution_count": 27,
   "id": "undefined-membrane",
   "metadata": {},
   "outputs": [
    {
     "output_type": "execute_result",
     "data": {
      "text/plain": [
       "<AxesSubplot:xlabel='date_time'>"
      ]
     },
     "metadata": {},
     "execution_count": 27
    },
    {
     "output_type": "display_data",
     "data": {
      "text/plain": "<Figure size 432x288 with 1 Axes>",
      "image/svg+xml": "<?xml version=\"1.0\" encoding=\"utf-8\" standalone=\"no\"?>\n<!DOCTYPE svg PUBLIC \"-//W3C//DTD SVG 1.1//EN\"\n  \"http://www.w3.org/Graphics/SVG/1.1/DTD/svg11.dtd\">\n<svg height=\"262.474375pt\" version=\"1.1\" viewBox=\"0 0 378.896875 262.474375\" width=\"378.896875pt\" xmlns=\"http://www.w3.org/2000/svg\" xmlns:xlink=\"http://www.w3.org/1999/xlink\">\n <metadata>\n  <rdf:RDF xmlns:cc=\"http://creativecommons.org/ns#\" xmlns:dc=\"http://purl.org/dc/elements/1.1/\" xmlns:rdf=\"http://www.w3.org/1999/02/22-rdf-syntax-ns#\">\n   <cc:Work>\n    <dc:type rdf:resource=\"http://purl.org/dc/dcmitype/StillImage\"/>\n    <dc:date>2021-04-23T13:43:23.857850</dc:date>\n    <dc:format>image/svg+xml</dc:format>\n    <dc:creator>\n     <cc:Agent>\n      <dc:title>Matplotlib v3.4.1, https://matplotlib.org/</dc:title>\n     </cc:Agent>\n    </dc:creator>\n   </cc:Work>\n  </rdf:RDF>\n </metadata>\n <defs>\n  <style type=\"text/css\">*{stroke-linecap:butt;stroke-linejoin:round;}</style>\n </defs>\n <g id=\"figure_1\">\n  <g id=\"patch_1\">\n   <path d=\"M 0 262.474375 \nL 378.896875 262.474375 \nL 378.896875 0 \nL 0 0 \nz\n\" style=\"fill:none;\"/>\n  </g>\n  <g id=\"axes_1\">\n   <g id=\"patch_2\">\n    <path d=\"M 33.2875 224.64 \nL 368.0875 224.64 \nL 368.0875 7.2 \nL 33.2875 7.2 \nz\n\" style=\"fill:#ffffff;\"/>\n   </g>\n   <g id=\"matplotlib.axis_1\">\n    <g id=\"xtick_1\">\n     <g id=\"line2d_1\">\n      <defs>\n       <path d=\"M 0 0 \nL 0 3.5 \n\" id=\"mcedbe36f16\" style=\"stroke:#000000;stroke-width:0.8;\"/>\n      </defs>\n      <g>\n       <use style=\"stroke:#000000;stroke-width:0.8;\" x=\"33.2875\" xlink:href=\"#mcedbe36f16\" y=\"224.64\"/>\n      </g>\n     </g>\n     <g id=\"text_1\">\n      <!-- 04:00 -->\n      <g transform=\"translate(18.878125 239.238438)scale(0.1 -0.1)\">\n       <defs>\n        <path d=\"M 2034 4250 \nQ 1547 4250 1301 3770 \nQ 1056 3291 1056 2328 \nQ 1056 1369 1301 889 \nQ 1547 409 2034 409 \nQ 2525 409 2770 889 \nQ 3016 1369 3016 2328 \nQ 3016 3291 2770 3770 \nQ 2525 4250 2034 4250 \nz\nM 2034 4750 \nQ 2819 4750 3233 4129 \nQ 3647 3509 3647 2328 \nQ 3647 1150 3233 529 \nQ 2819 -91 2034 -91 \nQ 1250 -91 836 529 \nQ 422 1150 422 2328 \nQ 422 3509 836 4129 \nQ 1250 4750 2034 4750 \nz\n\" id=\"DejaVuSans-30\" transform=\"scale(0.015625)\"/>\n        <path d=\"M 2419 4116 \nL 825 1625 \nL 2419 1625 \nL 2419 4116 \nz\nM 2253 4666 \nL 3047 4666 \nL 3047 1625 \nL 3713 1625 \nL 3713 1100 \nL 3047 1100 \nL 3047 0 \nL 2419 0 \nL 2419 1100 \nL 313 1100 \nL 313 1709 \nL 2253 4666 \nz\n\" id=\"DejaVuSans-34\" transform=\"scale(0.015625)\"/>\n        <path d=\"M 750 794 \nL 1409 794 \nL 1409 0 \nL 750 0 \nL 750 794 \nz\nM 750 3309 \nL 1409 3309 \nL 1409 2516 \nL 750 2516 \nL 750 3309 \nz\n\" id=\"DejaVuSans-3a\" transform=\"scale(0.015625)\"/>\n       </defs>\n       <use xlink:href=\"#DejaVuSans-30\"/>\n       <use x=\"63.623047\" xlink:href=\"#DejaVuSans-34\"/>\n       <use x=\"127.246094\" xlink:href=\"#DejaVuSans-3a\"/>\n       <use x=\"160.9375\" xlink:href=\"#DejaVuSans-30\"/>\n       <use x=\"224.560547\" xlink:href=\"#DejaVuSans-30\"/>\n      </g>\n     </g>\n    </g>\n    <g id=\"xtick_2\">\n     <g id=\"line2d_2\">\n      <g>\n       <use style=\"stroke:#000000;stroke-width:0.8;\" x=\"368.0875\" xlink:href=\"#mcedbe36f16\" y=\"224.64\"/>\n      </g>\n     </g>\n    </g>\n    <g id=\"xtick_3\">\n     <g id=\"line2d_3\">\n      <defs>\n       <path d=\"M 0 0 \nL 0 2 \n\" id=\"mc7c81b94b6\" style=\"stroke:#000000;stroke-width:0.6;\"/>\n      </defs>\n      <g>\n       <use style=\"stroke:#000000;stroke-width:0.6;\" x=\"98.0875\" xlink:href=\"#mc7c81b94b6\" y=\"224.64\"/>\n      </g>\n     </g>\n     <g id=\"text_2\">\n      <!-- 06:00 -->\n      <g transform=\"translate(83.678125 237.638438)scale(0.1 -0.1)\">\n       <defs>\n        <path d=\"M 2113 2584 \nQ 1688 2584 1439 2293 \nQ 1191 2003 1191 1497 \nQ 1191 994 1439 701 \nQ 1688 409 2113 409 \nQ 2538 409 2786 701 \nQ 3034 994 3034 1497 \nQ 3034 2003 2786 2293 \nQ 2538 2584 2113 2584 \nz\nM 3366 4563 \nL 3366 3988 \nQ 3128 4100 2886 4159 \nQ 2644 4219 2406 4219 \nQ 1781 4219 1451 3797 \nQ 1122 3375 1075 2522 \nQ 1259 2794 1537 2939 \nQ 1816 3084 2150 3084 \nQ 2853 3084 3261 2657 \nQ 3669 2231 3669 1497 \nQ 3669 778 3244 343 \nQ 2819 -91 2113 -91 \nQ 1303 -91 875 529 \nQ 447 1150 447 2328 \nQ 447 3434 972 4092 \nQ 1497 4750 2381 4750 \nQ 2619 4750 2861 4703 \nQ 3103 4656 3366 4563 \nz\n\" id=\"DejaVuSans-36\" transform=\"scale(0.015625)\"/>\n       </defs>\n       <use xlink:href=\"#DejaVuSans-30\"/>\n       <use x=\"63.623047\" xlink:href=\"#DejaVuSans-36\"/>\n       <use x=\"127.246094\" xlink:href=\"#DejaVuSans-3a\"/>\n       <use x=\"160.9375\" xlink:href=\"#DejaVuSans-30\"/>\n       <use x=\"224.560547\" xlink:href=\"#DejaVuSans-30\"/>\n      </g>\n     </g>\n    </g>\n    <g id=\"xtick_4\">\n     <g id=\"line2d_4\">\n      <g>\n       <use style=\"stroke:#000000;stroke-width:0.6;\" x=\"162.8875\" xlink:href=\"#mc7c81b94b6\" y=\"224.64\"/>\n      </g>\n     </g>\n     <g id=\"text_3\">\n      <!-- 08:00 -->\n      <g transform=\"translate(148.478125 237.638438)scale(0.1 -0.1)\">\n       <defs>\n        <path d=\"M 2034 2216 \nQ 1584 2216 1326 1975 \nQ 1069 1734 1069 1313 \nQ 1069 891 1326 650 \nQ 1584 409 2034 409 \nQ 2484 409 2743 651 \nQ 3003 894 3003 1313 \nQ 3003 1734 2745 1975 \nQ 2488 2216 2034 2216 \nz\nM 1403 2484 \nQ 997 2584 770 2862 \nQ 544 3141 544 3541 \nQ 544 4100 942 4425 \nQ 1341 4750 2034 4750 \nQ 2731 4750 3128 4425 \nQ 3525 4100 3525 3541 \nQ 3525 3141 3298 2862 \nQ 3072 2584 2669 2484 \nQ 3125 2378 3379 2068 \nQ 3634 1759 3634 1313 \nQ 3634 634 3220 271 \nQ 2806 -91 2034 -91 \nQ 1263 -91 848 271 \nQ 434 634 434 1313 \nQ 434 1759 690 2068 \nQ 947 2378 1403 2484 \nz\nM 1172 3481 \nQ 1172 3119 1398 2916 \nQ 1625 2713 2034 2713 \nQ 2441 2713 2670 2916 \nQ 2900 3119 2900 3481 \nQ 2900 3844 2670 4047 \nQ 2441 4250 2034 4250 \nQ 1625 4250 1398 4047 \nQ 1172 3844 1172 3481 \nz\n\" id=\"DejaVuSans-38\" transform=\"scale(0.015625)\"/>\n       </defs>\n       <use xlink:href=\"#DejaVuSans-30\"/>\n       <use x=\"63.623047\" xlink:href=\"#DejaVuSans-38\"/>\n       <use x=\"127.246094\" xlink:href=\"#DejaVuSans-3a\"/>\n       <use x=\"160.9375\" xlink:href=\"#DejaVuSans-30\"/>\n       <use x=\"224.560547\" xlink:href=\"#DejaVuSans-30\"/>\n      </g>\n     </g>\n    </g>\n    <g id=\"xtick_5\">\n     <g id=\"line2d_5\">\n      <g>\n       <use style=\"stroke:#000000;stroke-width:0.6;\" x=\"227.6875\" xlink:href=\"#mc7c81b94b6\" y=\"224.64\"/>\n      </g>\n     </g>\n     <g id=\"text_4\">\n      <!-- 10:00 -->\n      <g transform=\"translate(213.278125 237.638438)scale(0.1 -0.1)\">\n       <defs>\n        <path d=\"M 794 531 \nL 1825 531 \nL 1825 4091 \nL 703 3866 \nL 703 4441 \nL 1819 4666 \nL 2450 4666 \nL 2450 531 \nL 3481 531 \nL 3481 0 \nL 794 0 \nL 794 531 \nz\n\" id=\"DejaVuSans-31\" transform=\"scale(0.015625)\"/>\n       </defs>\n       <use xlink:href=\"#DejaVuSans-31\"/>\n       <use x=\"63.623047\" xlink:href=\"#DejaVuSans-30\"/>\n       <use x=\"127.246094\" xlink:href=\"#DejaVuSans-3a\"/>\n       <use x=\"160.9375\" xlink:href=\"#DejaVuSans-30\"/>\n       <use x=\"224.560547\" xlink:href=\"#DejaVuSans-30\"/>\n      </g>\n     </g>\n    </g>\n    <g id=\"xtick_6\">\n     <g id=\"line2d_6\">\n      <g>\n       <use style=\"stroke:#000000;stroke-width:0.6;\" x=\"292.4875\" xlink:href=\"#mc7c81b94b6\" y=\"224.64\"/>\n      </g>\n     </g>\n     <g id=\"text_5\">\n      <!-- 12:00 -->\n      <g transform=\"translate(278.078125 237.638438)scale(0.1 -0.1)\">\n       <defs>\n        <path d=\"M 1228 531 \nL 3431 531 \nL 3431 0 \nL 469 0 \nL 469 531 \nQ 828 903 1448 1529 \nQ 2069 2156 2228 2338 \nQ 2531 2678 2651 2914 \nQ 2772 3150 2772 3378 \nQ 2772 3750 2511 3984 \nQ 2250 4219 1831 4219 \nQ 1534 4219 1204 4116 \nQ 875 4013 500 3803 \nL 500 4441 \nQ 881 4594 1212 4672 \nQ 1544 4750 1819 4750 \nQ 2544 4750 2975 4387 \nQ 3406 4025 3406 3419 \nQ 3406 3131 3298 2873 \nQ 3191 2616 2906 2266 \nQ 2828 2175 2409 1742 \nQ 1991 1309 1228 531 \nz\n\" id=\"DejaVuSans-32\" transform=\"scale(0.015625)\"/>\n       </defs>\n       <use xlink:href=\"#DejaVuSans-31\"/>\n       <use x=\"63.623047\" xlink:href=\"#DejaVuSans-32\"/>\n       <use x=\"127.246094\" xlink:href=\"#DejaVuSans-3a\"/>\n       <use x=\"160.9375\" xlink:href=\"#DejaVuSans-30\"/>\n       <use x=\"224.560547\" xlink:href=\"#DejaVuSans-30\"/>\n      </g>\n     </g>\n    </g>\n    <g id=\"xtick_7\">\n     <g id=\"line2d_7\">\n      <g>\n       <use style=\"stroke:#000000;stroke-width:0.6;\" x=\"357.2875\" xlink:href=\"#mc7c81b94b6\" y=\"224.64\"/>\n      </g>\n     </g>\n     <g id=\"text_6\">\n      <!-- 14:00 -->\n      <g transform=\"translate(342.878125 237.638438)scale(0.1 -0.1)\">\n       <use xlink:href=\"#DejaVuSans-31\"/>\n       <use x=\"63.623047\" xlink:href=\"#DejaVuSans-34\"/>\n       <use x=\"127.246094\" xlink:href=\"#DejaVuSans-3a\"/>\n       <use x=\"160.9375\" xlink:href=\"#DejaVuSans-30\"/>\n       <use x=\"224.560547\" xlink:href=\"#DejaVuSans-30\"/>\n      </g>\n     </g>\n    </g>\n    <g id=\"text_7\">\n     <!-- date_time -->\n     <g transform=\"translate(175.616406 252.916562)scale(0.1 -0.1)\">\n      <defs>\n       <path d=\"M 2906 2969 \nL 2906 4863 \nL 3481 4863 \nL 3481 0 \nL 2906 0 \nL 2906 525 \nQ 2725 213 2448 61 \nQ 2172 -91 1784 -91 \nQ 1150 -91 751 415 \nQ 353 922 353 1747 \nQ 353 2572 751 3078 \nQ 1150 3584 1784 3584 \nQ 2172 3584 2448 3432 \nQ 2725 3281 2906 2969 \nz\nM 947 1747 \nQ 947 1113 1208 752 \nQ 1469 391 1925 391 \nQ 2381 391 2643 752 \nQ 2906 1113 2906 1747 \nQ 2906 2381 2643 2742 \nQ 2381 3103 1925 3103 \nQ 1469 3103 1208 2742 \nQ 947 2381 947 1747 \nz\n\" id=\"DejaVuSans-64\" transform=\"scale(0.015625)\"/>\n       <path d=\"M 2194 1759 \nQ 1497 1759 1228 1600 \nQ 959 1441 959 1056 \nQ 959 750 1161 570 \nQ 1363 391 1709 391 \nQ 2188 391 2477 730 \nQ 2766 1069 2766 1631 \nL 2766 1759 \nL 2194 1759 \nz\nM 3341 1997 \nL 3341 0 \nL 2766 0 \nL 2766 531 \nQ 2569 213 2275 61 \nQ 1981 -91 1556 -91 \nQ 1019 -91 701 211 \nQ 384 513 384 1019 \nQ 384 1609 779 1909 \nQ 1175 2209 1959 2209 \nL 2766 2209 \nL 2766 2266 \nQ 2766 2663 2505 2880 \nQ 2244 3097 1772 3097 \nQ 1472 3097 1187 3025 \nQ 903 2953 641 2809 \nL 641 3341 \nQ 956 3463 1253 3523 \nQ 1550 3584 1831 3584 \nQ 2591 3584 2966 3190 \nQ 3341 2797 3341 1997 \nz\n\" id=\"DejaVuSans-61\" transform=\"scale(0.015625)\"/>\n       <path d=\"M 1172 4494 \nL 1172 3500 \nL 2356 3500 \nL 2356 3053 \nL 1172 3053 \nL 1172 1153 \nQ 1172 725 1289 603 \nQ 1406 481 1766 481 \nL 2356 481 \nL 2356 0 \nL 1766 0 \nQ 1100 0 847 248 \nQ 594 497 594 1153 \nL 594 3053 \nL 172 3053 \nL 172 3500 \nL 594 3500 \nL 594 4494 \nL 1172 4494 \nz\n\" id=\"DejaVuSans-74\" transform=\"scale(0.015625)\"/>\n       <path d=\"M 3597 1894 \nL 3597 1613 \nL 953 1613 \nQ 991 1019 1311 708 \nQ 1631 397 2203 397 \nQ 2534 397 2845 478 \nQ 3156 559 3463 722 \nL 3463 178 \nQ 3153 47 2828 -22 \nQ 2503 -91 2169 -91 \nQ 1331 -91 842 396 \nQ 353 884 353 1716 \nQ 353 2575 817 3079 \nQ 1281 3584 2069 3584 \nQ 2775 3584 3186 3129 \nQ 3597 2675 3597 1894 \nz\nM 3022 2063 \nQ 3016 2534 2758 2815 \nQ 2500 3097 2075 3097 \nQ 1594 3097 1305 2825 \nQ 1016 2553 972 2059 \nL 3022 2063 \nz\n\" id=\"DejaVuSans-65\" transform=\"scale(0.015625)\"/>\n       <path d=\"M 3263 -1063 \nL 3263 -1509 \nL -63 -1509 \nL -63 -1063 \nL 3263 -1063 \nz\n\" id=\"DejaVuSans-5f\" transform=\"scale(0.015625)\"/>\n       <path d=\"M 603 3500 \nL 1178 3500 \nL 1178 0 \nL 603 0 \nL 603 3500 \nz\nM 603 4863 \nL 1178 4863 \nL 1178 4134 \nL 603 4134 \nL 603 4863 \nz\n\" id=\"DejaVuSans-69\" transform=\"scale(0.015625)\"/>\n       <path d=\"M 3328 2828 \nQ 3544 3216 3844 3400 \nQ 4144 3584 4550 3584 \nQ 5097 3584 5394 3201 \nQ 5691 2819 5691 2113 \nL 5691 0 \nL 5113 0 \nL 5113 2094 \nQ 5113 2597 4934 2840 \nQ 4756 3084 4391 3084 \nQ 3944 3084 3684 2787 \nQ 3425 2491 3425 1978 \nL 3425 0 \nL 2847 0 \nL 2847 2094 \nQ 2847 2600 2669 2842 \nQ 2491 3084 2119 3084 \nQ 1678 3084 1418 2786 \nQ 1159 2488 1159 1978 \nL 1159 0 \nL 581 0 \nL 581 3500 \nL 1159 3500 \nL 1159 2956 \nQ 1356 3278 1631 3431 \nQ 1906 3584 2284 3584 \nQ 2666 3584 2933 3390 \nQ 3200 3197 3328 2828 \nz\n\" id=\"DejaVuSans-6d\" transform=\"scale(0.015625)\"/>\n      </defs>\n      <use xlink:href=\"#DejaVuSans-64\"/>\n      <use x=\"63.476562\" xlink:href=\"#DejaVuSans-61\"/>\n      <use x=\"124.755859\" xlink:href=\"#DejaVuSans-74\"/>\n      <use x=\"163.964844\" xlink:href=\"#DejaVuSans-65\"/>\n      <use x=\"225.488281\" xlink:href=\"#DejaVuSans-5f\"/>\n      <use x=\"275.488281\" xlink:href=\"#DejaVuSans-74\"/>\n      <use x=\"314.697266\" xlink:href=\"#DejaVuSans-69\"/>\n      <use x=\"342.480469\" xlink:href=\"#DejaVuSans-6d\"/>\n      <use x=\"439.892578\" xlink:href=\"#DejaVuSans-65\"/>\n     </g>\n    </g>\n   </g>\n   <g id=\"matplotlib.axis_2\">\n    <g id=\"ytick_1\">\n     <g id=\"line2d_8\">\n      <defs>\n       <path d=\"M 0 0 \nL -3.5 0 \n\" id=\"m1b9b3d79d4\" style=\"stroke:#000000;stroke-width:0.8;\"/>\n      </defs>\n      <g>\n       <use style=\"stroke:#000000;stroke-width:0.8;\" x=\"33.2875\" xlink:href=\"#m1b9b3d79d4\" y=\"214.756364\"/>\n      </g>\n     </g>\n     <g id=\"text_8\">\n      <!-- 0 -->\n      <g transform=\"translate(19.925 218.555582)scale(0.1 -0.1)\">\n       <use xlink:href=\"#DejaVuSans-30\"/>\n      </g>\n     </g>\n    </g>\n    <g id=\"ytick_2\">\n     <g id=\"line2d_9\">\n      <g>\n       <use style=\"stroke:#000000;stroke-width:0.8;\" x=\"33.2875\" xlink:href=\"#m1b9b3d79d4\" y=\"183.128727\"/>\n      </g>\n     </g>\n     <g id=\"text_9\">\n      <!-- 20 -->\n      <g transform=\"translate(13.5625 186.927946)scale(0.1 -0.1)\">\n       <use xlink:href=\"#DejaVuSans-32\"/>\n       <use x=\"63.623047\" xlink:href=\"#DejaVuSans-30\"/>\n      </g>\n     </g>\n    </g>\n    <g id=\"ytick_3\">\n     <g id=\"line2d_10\">\n      <g>\n       <use style=\"stroke:#000000;stroke-width:0.8;\" x=\"33.2875\" xlink:href=\"#m1b9b3d79d4\" y=\"151.501091\"/>\n      </g>\n     </g>\n     <g id=\"text_10\">\n      <!-- 40 -->\n      <g transform=\"translate(13.5625 155.30031)scale(0.1 -0.1)\">\n       <use xlink:href=\"#DejaVuSans-34\"/>\n       <use x=\"63.623047\" xlink:href=\"#DejaVuSans-30\"/>\n      </g>\n     </g>\n    </g>\n    <g id=\"ytick_4\">\n     <g id=\"line2d_11\">\n      <g>\n       <use style=\"stroke:#000000;stroke-width:0.8;\" x=\"33.2875\" xlink:href=\"#m1b9b3d79d4\" y=\"119.873455\"/>\n      </g>\n     </g>\n     <g id=\"text_11\">\n      <!-- 60 -->\n      <g transform=\"translate(13.5625 123.672673)scale(0.1 -0.1)\">\n       <use xlink:href=\"#DejaVuSans-36\"/>\n       <use x=\"63.623047\" xlink:href=\"#DejaVuSans-30\"/>\n      </g>\n     </g>\n    </g>\n    <g id=\"ytick_5\">\n     <g id=\"line2d_12\">\n      <g>\n       <use style=\"stroke:#000000;stroke-width:0.8;\" x=\"33.2875\" xlink:href=\"#m1b9b3d79d4\" y=\"88.245818\"/>\n      </g>\n     </g>\n     <g id=\"text_12\">\n      <!-- 80 -->\n      <g transform=\"translate(13.5625 92.045037)scale(0.1 -0.1)\">\n       <use xlink:href=\"#DejaVuSans-38\"/>\n       <use x=\"63.623047\" xlink:href=\"#DejaVuSans-30\"/>\n      </g>\n     </g>\n    </g>\n    <g id=\"ytick_6\">\n     <g id=\"line2d_13\">\n      <g>\n       <use style=\"stroke:#000000;stroke-width:0.8;\" x=\"33.2875\" xlink:href=\"#m1b9b3d79d4\" y=\"56.618182\"/>\n      </g>\n     </g>\n     <g id=\"text_13\">\n      <!-- 100 -->\n      <g transform=\"translate(7.2 60.417401)scale(0.1 -0.1)\">\n       <use xlink:href=\"#DejaVuSans-31\"/>\n       <use x=\"63.623047\" xlink:href=\"#DejaVuSans-30\"/>\n       <use x=\"127.246094\" xlink:href=\"#DejaVuSans-30\"/>\n      </g>\n     </g>\n    </g>\n    <g id=\"ytick_7\">\n     <g id=\"line2d_14\">\n      <g>\n       <use style=\"stroke:#000000;stroke-width:0.8;\" x=\"33.2875\" xlink:href=\"#m1b9b3d79d4\" y=\"24.990545\"/>\n      </g>\n     </g>\n     <g id=\"text_14\">\n      <!-- 120 -->\n      <g transform=\"translate(7.2 28.789764)scale(0.1 -0.1)\">\n       <use xlink:href=\"#DejaVuSans-31\"/>\n       <use x=\"63.623047\" xlink:href=\"#DejaVuSans-32\"/>\n       <use x=\"127.246094\" xlink:href=\"#DejaVuSans-30\"/>\n      </g>\n     </g>\n    </g>\n   </g>\n   <g id=\"line2d_15\">\n    <path clip-path=\"url(#pb7ca5debc7)\" d=\"M 33.2875 213.174982 \nL 35.9875 211.5936 \nL 38.6875 210.012218 \nL 41.3875 208.430836 \nL 44.0875 206.849455 \nL 46.7875 205.268073 \nL 49.4875 203.686691 \nL 52.1875 202.105309 \nL 54.8875 200.523927 \nL 57.5875 198.942545 \nL 60.2875 197.361164 \nL 62.9875 195.779782 \nL 65.6875 194.1984 \nL 68.3875 192.617018 \nL 71.0875 191.035636 \nL 73.7875 189.454255 \nL 76.4875 187.872873 \nL 79.1875 186.291491 \nL 81.8875 184.710109 \nL 84.5875 183.128727 \nL 87.2875 181.547345 \nL 89.9875 179.965964 \nL 92.6875 178.384582 \nL 95.3875 176.8032 \nL 98.0875 175.221818 \nL 100.7875 173.640436 \nL 103.4875 172.059055 \nL 106.1875 170.477673 \nL 108.8875 168.896291 \nL 111.5875 167.314909 \nL 114.2875 165.733527 \nL 116.9875 164.152145 \nL 119.6875 162.570764 \nL 122.3875 160.989382 \nL 125.0875 159.408 \nL 127.7875 157.826618 \nL 130.4875 156.245236 \nL 133.1875 154.663855 \nL 135.8875 153.082473 \nL 138.5875 151.501091 \nL 141.2875 149.919709 \nL 143.9875 148.338327 \nL 146.6875 146.756945 \nL 149.3875 145.175564 \nL 152.0875 143.594182 \nL 154.7875 142.0128 \nL 157.4875 140.431418 \nL 160.1875 138.850036 \nL 162.8875 137.268655 \nL 165.5875 135.687273 \nL 168.2875 134.105891 \nL 170.9875 132.524509 \nL 173.6875 130.943127 \nL 176.3875 129.361745 \nL 179.0875 127.780364 \nL 181.7875 126.198982 \nL 184.4875 124.6176 \nL 187.1875 123.036218 \nL 189.8875 121.454836 \nL 192.5875 119.873455 \nL 195.2875 118.292073 \nL 197.9875 116.710691 \nL 200.6875 115.129309 \nL 203.3875 113.547927 \nL 206.0875 111.966545 \nL 208.7875 110.385164 \nL 211.4875 108.803782 \nL 214.1875 107.2224 \nL 216.8875 105.641018 \nL 219.5875 104.059636 \nL 222.2875 102.478255 \nL 224.9875 100.896873 \nL 227.6875 99.315491 \nL 230.3875 97.734109 \nL 233.0875 96.152727 \nL 235.7875 94.571345 \nL 238.4875 92.989964 \nL 241.1875 91.408582 \nL 243.8875 89.8272 \nL 246.5875 88.245818 \nL 249.2875 86.664436 \nL 251.9875 85.083055 \nL 254.6875 83.501673 \nL 257.3875 81.920291 \nL 260.0875 80.338909 \nL 262.7875 78.757527 \nL 265.4875 77.176145 \nL 268.1875 75.594764 \nL 270.8875 74.013382 \nL 273.5875 72.432 \nL 276.2875 70.850618 \nL 278.9875 69.269236 \nL 281.6875 67.687855 \nL 284.3875 66.106473 \nL 287.0875 64.525091 \nL 289.7875 62.943709 \nL 292.4875 61.362327 \nL 295.1875 59.780945 \nL 297.8875 58.199564 \nL 300.5875 56.618182 \nL 303.2875 55.0368 \nL 305.9875 53.455418 \nL 308.6875 51.874036 \nL 311.3875 50.292655 \nL 314.0875 48.711273 \nL 316.7875 47.129891 \nL 319.4875 45.548509 \nL 322.1875 43.967127 \nL 324.8875 42.385745 \nL 327.5875 40.804364 \nL 330.2875 39.222982 \nL 332.9875 37.6416 \nL 335.6875 36.060218 \nL 338.3875 34.478836 \nL 341.0875 32.897455 \nL 343.7875 31.316073 \nL 346.4875 29.734691 \nL 349.1875 28.153309 \nL 351.8875 26.571927 \nL 354.5875 24.990545 \nL 357.2875 23.409164 \nL 359.9875 21.827782 \nL 362.6875 20.2464 \nL 365.3875 18.665018 \nL 368.0875 17.083636 \n\" style=\"fill:none;stroke:#1f77b4;stroke-linecap:square;stroke-width:1.5;\"/>\n   </g>\n   <g id=\"line2d_16\">\n    <path clip-path=\"url(#pb7ca5debc7)\" d=\"M 33.2875 24.068073 \nL 35.9875 24.062581 \nL 38.6875 24.057091 \nL 41.3875 24.0516 \nL 44.0875 24.046109 \nL 46.7875 24.040619 \nL 49.4875 24.035127 \nL 52.1875 24.029636 \nL 54.8875 24.024146 \nL 57.5875 24.018655 \nL 60.2875 24.013163 \nL 62.9875 24.007672 \nL 65.6875 24.002182 \nL 68.3875 23.996691 \nL 71.0875 23.991201 \nL 73.7875 23.985709 \nL 76.4875 23.980218 \nL 79.1875 23.974727 \nL 81.8875 23.969237 \nL 84.5875 23.963745 \nL 87.2875 23.958254 \nL 89.9875 23.952764 \nL 92.6875 23.947273 \nL 95.3875 23.941783 \nL 98.0875 23.93629 \nL 100.7875 23.9308 \nL 103.4875 23.925309 \nL 106.1875 23.919819 \nL 108.8875 23.914327 \nL 111.5875 23.908836 \nL 114.2875 23.903345 \nL 116.9875 23.897855 \nL 119.6875 23.892364 \nL 122.3875 23.886872 \nL 125.0875 23.881382 \nL 127.7875 23.875891 \nL 130.4875 23.870401 \nL 133.1875 23.864908 \nL 135.8875 23.859418 \nL 138.5875 23.853927 \nL 141.2875 23.848437 \nL 143.9875 23.842946 \nL 146.6875 23.837454 \nL 149.3875 23.831963 \nL 152.0875 23.826473 \nL 154.7875 23.820982 \nL 157.4875 23.81549 \nL 160.1875 23.81 \nL 162.8875 23.804509 \nL 165.5875 23.799019 \nL 168.2875 23.793528 \nL 170.9875 23.788036 \nL 173.6875 23.782545 \nL 176.3875 23.777055 \nL 179.0875 23.771564 \nL 181.7875 23.766072 \nL 184.4875 23.760581 \nL 187.1875 23.755091 \nL 189.8875 23.7496 \nL 192.5875 23.74411 \nL 195.2875 23.738618 \nL 197.9875 23.733127 \nL 200.6875 23.727637 \nL 203.3875 23.722146 \nL 206.0875 23.716654 \nL 208.7875 23.711163 \nL 211.4875 23.705673 \nL 214.1875 23.700182 \nL 216.8875 23.694692 \nL 219.5875 23.689199 \nL 222.2875 23.683709 \nL 224.9875 23.678218 \nL 227.6875 23.672728 \nL 230.3875 23.667236 \nL 233.0875 23.661745 \nL 235.7875 23.656255 \nL 238.4875 23.650764 \nL 241.1875 23.645273 \nL 243.8875 23.639781 \nL 246.5875 23.634291 \nL 249.2875 23.6288 \nL 251.9875 23.62331 \nL 254.6875 23.617817 \nL 257.3875 23.612327 \nL 260.0875 23.606836 \nL 262.7875 23.601346 \nL 265.4875 23.595855 \nL 268.1875 23.590363 \nL 270.8875 23.584873 \nL 273.5875 23.579382 \nL 276.2875 23.573891 \nL 278.9875 23.568399 \nL 281.6875 23.562909 \nL 284.3875 23.557418 \nL 287.0875 23.551928 \nL 289.7875 23.546437 \nL 292.4875 23.540945 \nL 295.1875 23.535454 \nL 297.8875 23.529964 \nL 300.5875 23.524473 \nL 303.2875 23.518981 \nL 305.9875 23.513491 \nL 308.6875 23.508 \nL 311.3875 23.502509 \nL 314.0875 23.497019 \nL 316.7875 23.491527 \nL 319.4875 23.486036 \nL 322.1875 23.480546 \nL 324.8875 23.475055 \nL 327.5875 23.469563 \nL 330.2875 23.464072 \nL 332.9875 23.458582 \nL 335.6875 23.453091 \nL 338.3875 23.447601 \nL 341.0875 23.442109 \nL 343.7875 23.436618 \nL 346.4875 23.431127 \nL 349.1875 23.425637 \nL 351.8875 23.420145 \nL 354.5875 23.414654 \nL 357.2875 23.409164 \nL 359.9875 23.403673 \nL 362.6875 23.398183 \nL 365.3875 23.392709 \nL 368.0875 23.387219 \n\" style=\"fill:none;stroke:#ff7f0e;stroke-linecap:square;stroke-width:1.5;\"/>\n   </g>\n   <g id=\"line2d_17\">\n    <path clip-path=\"url(#pb7ca5debc7)\" d=\"M 33.2875 207.649001 \nL 35.9875 207.699764 \nL 38.6875 207.705298 \nL 41.3875 207.72127 \nL 44.0875 207.758275 \nL 46.7875 207.766182 \nL 49.4875 207.777409 \nL 52.1875 207.784842 \nL 54.8875 207.807298 \nL 57.5875 207.822637 \nL 60.2875 207.869762 \nL 62.9875 207.900125 \nL 65.6875 207.932385 \nL 68.3875 207.965436 \nL 71.0875 208.003547 \nL 73.7875 208.045295 \nL 76.4875 208.095742 \nL 79.1875 208.158522 \nL 81.8875 208.242336 \nL 84.5875 208.284559 \nL 87.2875 208.302112 \nL 89.9875 208.323461 \nL 92.6875 208.361888 \nL 95.3875 208.417078 \nL 98.0875 208.431943 \nL 100.7875 208.413441 \nL 103.4875 208.451552 \nL 106.1875 208.470845 \nL 108.8875 208.478594 \nL 111.5875 208.449655 \nL 114.2875 208.432101 \nL 116.9875 208.398418 \nL 119.6875 208.359674 \nL 122.3875 208.328521 \nL 125.0875 208.236801 \nL 127.7875 208.204066 \nL 130.4875 208.165955 \nL 133.1875 208.082932 \nL 135.8875 208.000226 \nL 138.5875 207.964961 \nL 141.2875 207.873874 \nL 143.9875 207.888897 \nL 146.6875 207.877669 \nL 149.3875 207.902022 \nL 152.0875 207.827381 \nL 154.7875 207.887474 \nL 157.4875 207.837502 \nL 160.1875 207.860906 \nL 162.8875 207.726014 \nL 165.5875 207.754796 \nL 168.2875 207.700238 \nL 170.9875 207.642518 \nL 173.6875 207.617215 \nL 176.3875 207.514267 \nL 179.0875 207.662917 \nL 181.7875 207.826749 \nL 184.4875 206.954933 \nL 187.1875 207.089508 \nL 189.8875 207.029732 \nL 192.5875 206.822413 \nL 195.2875 206.868589 \nL 197.9875 206.988458 \nL 200.6875 207.492603 \nL 203.3875 207.463347 \nL 206.0875 207.890004 \nL 208.7875 207.708145 \nL 211.4875 207.84272 \nL 214.1875 207.900283 \nL 216.8875 207.552695 \nL 219.5875 207.365301 \nL 222.2875 207.179331 \nL 224.9875 207.170791 \nL 227.6875 207.09789 \nL 230.3875 207.165256 \nL 233.0875 207.238158 \nL 235.7875 207.077964 \nL 238.4875 206.990356 \nL 241.1875 206.95003 \nL 243.8875 206.9543 \nL 246.5875 206.959044 \nL 249.2875 206.964895 \nL 251.9875 206.84392 \nL 254.6875 206.702228 \nL 257.3875 206.562434 \nL 260.0875 206.673921 \nL 262.7875 206.527485 \nL 265.4875 206.474983 \nL 268.1875 206.406826 \nL 270.8875 206.177525 \nL 273.5875 206.278418 \nL 276.2875 206.057815 \nL 278.9875 206.208837 \nL 281.6875 206.164242 \nL 284.3875 206.059396 \nL 287.0875 204.785435 \nL 289.7875 203.88974 \nL 292.4875 203.268099 \nL 295.1875 203.185867 \nL 297.8875 203.255923 \nL 300.5875 203.504516 \nL 303.2875 203.170844 \nL 305.9875 203.111226 \nL 308.6875 203.345112 \nL 311.3875 203.32155 \nL 314.0875 203.167049 \nL 316.7875 205.943006 \nL 319.4875 206.638973 \nL 322.1875 206.013852 \nL 324.8875 205.729678 \nL 327.5875 204.035227 \nL 330.2875 203.945405 \nL 332.9875 204.200798 \nL 335.6875 203.452172 \nL 338.3875 205.711176 \nL 341.0875 205.281989 \nL 343.7875 205.476973 \nL 346.4875 204.018465 \nL 349.1875 204.84189 \nL 351.8875 205.566954 \nL 354.5875 203.601771 \nL 357.2875 203.44806 \nL 359.9875 204.426145 \nL 362.6875 204.614962 \nL 365.3875 205.105349 \nL 368.0875 204.943415 \n\" style=\"fill:none;stroke:#2ca02c;stroke-linecap:square;stroke-width:1.5;\"/>\n   </g>\n   <g id=\"line2d_18\">\n    <path clip-path=\"url(#pb7ca5debc7)\" d=\"M 33.2875 214.756364 \nL 35.9875 214.756364 \nL 38.6875 214.756364 \nL 41.3875 214.756364 \nL 44.0875 214.756364 \nL 46.7875 214.756364 \nL 49.4875 214.756364 \nL 52.1875 214.756364 \nL 54.8875 214.756364 \nL 57.5875 214.756364 \nL 60.2875 214.756364 \nL 62.9875 214.756364 \nL 65.6875 214.756364 \nL 68.3875 214.756364 \nL 71.0875 214.756364 \nL 73.7875 214.756364 \nL 76.4875 214.756364 \nL 79.1875 214.756364 \nL 81.8875 214.756364 \nL 84.5875 214.756364 \nL 87.2875 214.756364 \nL 89.9875 214.756364 \nL 92.6875 214.756364 \nL 95.3875 214.756364 \nL 98.0875 214.756364 \nL 100.7875 214.756364 \nL 103.4875 214.756364 \nL 106.1875 214.756364 \nL 108.8875 214.756364 \nL 111.5875 214.756364 \nL 114.2875 214.756364 \nL 116.9875 214.756364 \nL 119.6875 214.756364 \nL 122.3875 214.756364 \nL 125.0875 214.756364 \nL 127.7875 214.756364 \nL 130.4875 214.756364 \nL 133.1875 214.756364 \nL 135.8875 214.756364 \nL 138.5875 214.756364 \nL 141.2875 214.756364 \nL 143.9875 214.756364 \nL 146.6875 214.756364 \nL 149.3875 214.756364 \nL 152.0875 214.756364 \nL 154.7875 214.756364 \nL 157.4875 214.756364 \nL 160.1875 214.756364 \nL 162.8875 214.756364 \nL 165.5875 214.756364 \nL 168.2875 214.756364 \nL 170.9875 214.756364 \nL 173.6875 214.756364 \nL 176.3875 214.756364 \nL 179.0875 214.756364 \nL 181.7875 214.756364 \nL 184.4875 214.756364 \nL 187.1875 214.756364 \nL 189.8875 214.756364 \nL 192.5875 214.756364 \nL 195.2875 214.756364 \nL 197.9875 214.756364 \nL 200.6875 214.756364 \nL 203.3875 214.756364 \nL 206.0875 214.756364 \nL 208.7875 214.756364 \nL 211.4875 214.756364 \nL 214.1875 214.756364 \nL 216.8875 214.756364 \nL 219.5875 214.756364 \nL 222.2875 214.756364 \nL 224.9875 214.756364 \nL 227.6875 214.756364 \nL 230.3875 214.756364 \nL 233.0875 214.756364 \nL 235.7875 214.756364 \nL 238.4875 214.756364 \nL 241.1875 214.756364 \nL 243.8875 214.756364 \nL 246.5875 214.756364 \nL 249.2875 214.756364 \nL 251.9875 214.756364 \nL 254.6875 214.756364 \nL 257.3875 214.756364 \nL 260.0875 214.756364 \nL 262.7875 214.756364 \nL 265.4875 214.756364 \nL 268.1875 214.756364 \nL 270.8875 214.756364 \nL 273.5875 214.756364 \nL 276.2875 214.756364 \nL 278.9875 214.756364 \nL 281.6875 214.756364 \nL 284.3875 214.756364 \nL 287.0875 214.756364 \nL 289.7875 214.756364 \nL 292.4875 214.756364 \nL 295.1875 214.756364 \nL 297.8875 214.756364 \nL 300.5875 214.756364 \nL 303.2875 214.756364 \nL 305.9875 214.756364 \nL 308.6875 214.756364 \nL 311.3875 214.756364 \nL 314.0875 214.756364 \nL 316.7875 214.756364 \nL 319.4875 214.756364 \nL 322.1875 214.756364 \nL 324.8875 214.756364 \nL 327.5875 214.756364 \nL 330.2875 214.756364 \nL 332.9875 214.756364 \nL 335.6875 214.756364 \nL 338.3875 214.756364 \nL 341.0875 214.756364 \nL 343.7875 214.756364 \nL 346.4875 214.756364 \nL 349.1875 214.756364 \nL 351.8875 214.756364 \nL 354.5875 214.756364 \nL 357.2875 214.756364 \nL 359.9875 214.756364 \nL 362.6875 214.756364 \nL 365.3875 214.756364 \nL 368.0875 214.756364 \n\" style=\"fill:none;stroke:#d62728;stroke-linecap:square;stroke-width:1.5;\"/>\n   </g>\n   <g id=\"patch_3\">\n    <path d=\"M 33.2875 224.64 \nL 33.2875 7.2 \n\" style=\"fill:none;stroke:#000000;stroke-linecap:square;stroke-linejoin:miter;stroke-width:0.8;\"/>\n   </g>\n   <g id=\"patch_4\">\n    <path d=\"M 368.0875 224.64 \nL 368.0875 7.2 \n\" style=\"fill:none;stroke:#000000;stroke-linecap:square;stroke-linejoin:miter;stroke-width:0.8;\"/>\n   </g>\n   <g id=\"patch_5\">\n    <path d=\"M 33.2875 224.64 \nL 368.0875 224.64 \n\" style=\"fill:none;stroke:#000000;stroke-linecap:square;stroke-linejoin:miter;stroke-width:0.8;\"/>\n   </g>\n   <g id=\"patch_6\">\n    <path d=\"M 33.2875 7.2 \nL 368.0875 7.2 \n\" style=\"fill:none;stroke:#000000;stroke-linecap:square;stroke-linejoin:miter;stroke-width:0.8;\"/>\n   </g>\n   <g id=\"legend_1\">\n    <g id=\"patch_7\">\n     <path d=\"M 299.096875 146.77625 \nL 361.0875 146.77625 \nQ 363.0875 146.77625 363.0875 144.77625 \nL 363.0875 87.06375 \nQ 363.0875 85.06375 361.0875 85.06375 \nL 299.096875 85.06375 \nQ 297.096875 85.06375 297.096875 87.06375 \nL 297.096875 144.77625 \nQ 297.096875 146.77625 299.096875 146.77625 \nz\n\" style=\"fill:#ffffff;opacity:0.8;stroke:#cccccc;stroke-linejoin:miter;\"/>\n    </g>\n    <g id=\"line2d_19\">\n     <path d=\"M 301.096875 93.162188 \nL 321.096875 93.162188 \n\" style=\"fill:none;stroke:#1f77b4;stroke-linecap:square;stroke-width:1.5;\"/>\n    </g>\n    <g id=\"line2d_20\"/>\n    <g id=\"text_15\">\n     <!-- scan -->\n     <g transform=\"translate(329.096875 96.662188)scale(0.1 -0.1)\">\n      <defs>\n       <path d=\"M 2834 3397 \nL 2834 2853 \nQ 2591 2978 2328 3040 \nQ 2066 3103 1784 3103 \nQ 1356 3103 1142 2972 \nQ 928 2841 928 2578 \nQ 928 2378 1081 2264 \nQ 1234 2150 1697 2047 \nL 1894 2003 \nQ 2506 1872 2764 1633 \nQ 3022 1394 3022 966 \nQ 3022 478 2636 193 \nQ 2250 -91 1575 -91 \nQ 1294 -91 989 -36 \nQ 684 19 347 128 \nL 347 722 \nQ 666 556 975 473 \nQ 1284 391 1588 391 \nQ 1994 391 2212 530 \nQ 2431 669 2431 922 \nQ 2431 1156 2273 1281 \nQ 2116 1406 1581 1522 \nL 1381 1569 \nQ 847 1681 609 1914 \nQ 372 2147 372 2553 \nQ 372 3047 722 3315 \nQ 1072 3584 1716 3584 \nQ 2034 3584 2315 3537 \nQ 2597 3491 2834 3397 \nz\n\" id=\"DejaVuSans-73\" transform=\"scale(0.015625)\"/>\n       <path d=\"M 3122 3366 \nL 3122 2828 \nQ 2878 2963 2633 3030 \nQ 2388 3097 2138 3097 \nQ 1578 3097 1268 2742 \nQ 959 2388 959 1747 \nQ 959 1106 1268 751 \nQ 1578 397 2138 397 \nQ 2388 397 2633 464 \nQ 2878 531 3122 666 \nL 3122 134 \nQ 2881 22 2623 -34 \nQ 2366 -91 2075 -91 \nQ 1284 -91 818 406 \nQ 353 903 353 1747 \nQ 353 2603 823 3093 \nQ 1294 3584 2113 3584 \nQ 2378 3584 2631 3529 \nQ 2884 3475 3122 3366 \nz\n\" id=\"DejaVuSans-63\" transform=\"scale(0.015625)\"/>\n       <path d=\"M 3513 2113 \nL 3513 0 \nL 2938 0 \nL 2938 2094 \nQ 2938 2591 2744 2837 \nQ 2550 3084 2163 3084 \nQ 1697 3084 1428 2787 \nQ 1159 2491 1159 1978 \nL 1159 0 \nL 581 0 \nL 581 3500 \nL 1159 3500 \nL 1159 2956 \nQ 1366 3272 1645 3428 \nQ 1925 3584 2291 3584 \nQ 2894 3584 3203 3211 \nQ 3513 2838 3513 2113 \nz\n\" id=\"DejaVuSans-6e\" transform=\"scale(0.015625)\"/>\n      </defs>\n      <use xlink:href=\"#DejaVuSans-73\"/>\n      <use x=\"52.099609\" xlink:href=\"#DejaVuSans-63\"/>\n      <use x=\"107.080078\" xlink:href=\"#DejaVuSans-61\"/>\n      <use x=\"168.359375\" xlink:href=\"#DejaVuSans-6e\"/>\n     </g>\n    </g>\n    <g id=\"line2d_21\">\n     <path d=\"M 301.096875 107.840313 \nL 321.096875 107.840313 \n\" style=\"fill:none;stroke:#ff7f0e;stroke-linecap:square;stroke-width:1.5;\"/>\n    </g>\n    <g id=\"line2d_22\"/>\n    <g id=\"text_16\">\n     <!-- timeJ -->\n     <g transform=\"translate(329.096875 111.340313)scale(0.1 -0.1)\">\n      <defs>\n       <path d=\"M 628 4666 \nL 1259 4666 \nL 1259 325 \nQ 1259 -519 939 -900 \nQ 619 -1281 -91 -1281 \nL -331 -1281 \nL -331 -750 \nL -134 -750 \nQ 284 -750 456 -515 \nQ 628 -281 628 325 \nL 628 4666 \nz\n\" id=\"DejaVuSans-4a\" transform=\"scale(0.015625)\"/>\n      </defs>\n      <use xlink:href=\"#DejaVuSans-74\"/>\n      <use x=\"39.208984\" xlink:href=\"#DejaVuSans-69\"/>\n      <use x=\"66.992188\" xlink:href=\"#DejaVuSans-6d\"/>\n      <use x=\"164.404297\" xlink:href=\"#DejaVuSans-65\"/>\n      <use x=\"225.927734\" xlink:href=\"#DejaVuSans-4a\"/>\n     </g>\n    </g>\n    <g id=\"line2d_23\">\n     <path d=\"M 301.096875 122.518438 \nL 321.096875 122.518438 \n\" style=\"fill:none;stroke:#2ca02c;stroke-linecap:square;stroke-width:1.5;\"/>\n    </g>\n    <g id=\"line2d_24\"/>\n    <g id=\"text_17\">\n     <!-- t090C -->\n     <g transform=\"translate(329.096875 126.018438)scale(0.1 -0.1)\">\n      <defs>\n       <path d=\"M 703 97 \nL 703 672 \nQ 941 559 1184 500 \nQ 1428 441 1663 441 \nQ 2288 441 2617 861 \nQ 2947 1281 2994 2138 \nQ 2813 1869 2534 1725 \nQ 2256 1581 1919 1581 \nQ 1219 1581 811 2004 \nQ 403 2428 403 3163 \nQ 403 3881 828 4315 \nQ 1253 4750 1959 4750 \nQ 2769 4750 3195 4129 \nQ 3622 3509 3622 2328 \nQ 3622 1225 3098 567 \nQ 2575 -91 1691 -91 \nQ 1453 -91 1209 -44 \nQ 966 3 703 97 \nz\nM 1959 2075 \nQ 2384 2075 2632 2365 \nQ 2881 2656 2881 3163 \nQ 2881 3666 2632 3958 \nQ 2384 4250 1959 4250 \nQ 1534 4250 1286 3958 \nQ 1038 3666 1038 3163 \nQ 1038 2656 1286 2365 \nQ 1534 2075 1959 2075 \nz\n\" id=\"DejaVuSans-39\" transform=\"scale(0.015625)\"/>\n       <path d=\"M 4122 4306 \nL 4122 3641 \nQ 3803 3938 3442 4084 \nQ 3081 4231 2675 4231 \nQ 1875 4231 1450 3742 \nQ 1025 3253 1025 2328 \nQ 1025 1406 1450 917 \nQ 1875 428 2675 428 \nQ 3081 428 3442 575 \nQ 3803 722 4122 1019 \nL 4122 359 \nQ 3791 134 3420 21 \nQ 3050 -91 2638 -91 \nQ 1578 -91 968 557 \nQ 359 1206 359 2328 \nQ 359 3453 968 4101 \nQ 1578 4750 2638 4750 \nQ 3056 4750 3426 4639 \nQ 3797 4528 4122 4306 \nz\n\" id=\"DejaVuSans-43\" transform=\"scale(0.015625)\"/>\n      </defs>\n      <use xlink:href=\"#DejaVuSans-74\"/>\n      <use x=\"39.208984\" xlink:href=\"#DejaVuSans-30\"/>\n      <use x=\"102.832031\" xlink:href=\"#DejaVuSans-39\"/>\n      <use x=\"166.455078\" xlink:href=\"#DejaVuSans-30\"/>\n      <use x=\"230.078125\" xlink:href=\"#DejaVuSans-43\"/>\n     </g>\n    </g>\n    <g id=\"line2d_25\">\n     <path d=\"M 301.096875 137.196563 \nL 321.096875 137.196563 \n\" style=\"fill:none;stroke:#d62728;stroke-linecap:square;stroke-width:1.5;\"/>\n    </g>\n    <g id=\"line2d_26\"/>\n    <g id=\"text_18\">\n     <!-- flag -->\n     <g transform=\"translate(329.096875 140.696563)scale(0.1 -0.1)\">\n      <defs>\n       <path d=\"M 2375 4863 \nL 2375 4384 \nL 1825 4384 \nQ 1516 4384 1395 4259 \nQ 1275 4134 1275 3809 \nL 1275 3500 \nL 2222 3500 \nL 2222 3053 \nL 1275 3053 \nL 1275 0 \nL 697 0 \nL 697 3053 \nL 147 3053 \nL 147 3500 \nL 697 3500 \nL 697 3744 \nQ 697 4328 969 4595 \nQ 1241 4863 1831 4863 \nL 2375 4863 \nz\n\" id=\"DejaVuSans-66\" transform=\"scale(0.015625)\"/>\n       <path d=\"M 603 4863 \nL 1178 4863 \nL 1178 0 \nL 603 0 \nL 603 4863 \nz\n\" id=\"DejaVuSans-6c\" transform=\"scale(0.015625)\"/>\n       <path d=\"M 2906 1791 \nQ 2906 2416 2648 2759 \nQ 2391 3103 1925 3103 \nQ 1463 3103 1205 2759 \nQ 947 2416 947 1791 \nQ 947 1169 1205 825 \nQ 1463 481 1925 481 \nQ 2391 481 2648 825 \nQ 2906 1169 2906 1791 \nz\nM 3481 434 \nQ 3481 -459 3084 -895 \nQ 2688 -1331 1869 -1331 \nQ 1566 -1331 1297 -1286 \nQ 1028 -1241 775 -1147 \nL 775 -588 \nQ 1028 -725 1275 -790 \nQ 1522 -856 1778 -856 \nQ 2344 -856 2625 -561 \nQ 2906 -266 2906 331 \nL 2906 616 \nQ 2728 306 2450 153 \nQ 2172 0 1784 0 \nQ 1141 0 747 490 \nQ 353 981 353 1791 \nQ 353 2603 747 3093 \nQ 1141 3584 1784 3584 \nQ 2172 3584 2450 3431 \nQ 2728 3278 2906 2969 \nL 2906 3500 \nL 3481 3500 \nL 3481 434 \nz\n\" id=\"DejaVuSans-67\" transform=\"scale(0.015625)\"/>\n      </defs>\n      <use xlink:href=\"#DejaVuSans-66\"/>\n      <use x=\"35.205078\" xlink:href=\"#DejaVuSans-6c\"/>\n      <use x=\"62.988281\" xlink:href=\"#DejaVuSans-61\"/>\n      <use x=\"124.267578\" xlink:href=\"#DejaVuSans-67\"/>\n     </g>\n    </g>\n   </g>\n  </g>\n </g>\n <defs>\n  <clipPath id=\"pb7ca5debc7\">\n   <rect height=\"217.44\" width=\"334.8\" x=\"33.2875\" y=\"7.2\"/>\n  </clipPath>\n </defs>\n</svg>\n",
      "image/png": "[encoded data removed]"
     },
     "metadata": {
      "needs_background": "light"
     }
    }
   ],
   "source": [
    "sbe56_wop_data.plot()"
   ]
  },
  {
   "cell_type": "markdown",
   "id": "acknowledged-active",
   "metadata": {},
   "source": [
    "## Add Deployment meta information\n",
    "\n",
    "Two methods are available (if comming from python2 world - ordereddict was important... in py38 a dictionary is inherently ordered)"
   ]
  },
  {
   "cell_type": "code",
   "execution_count": 28,
   "id": "freelance-fairy",
   "metadata": {},
   "outputs": [],
   "source": [
    "#just a dictionary of dictionaries - simple\n",
    "with open(mooring_meta_file) as file:\n",
    "    mooring_config = yaml.full_load(file)"
   ]
  },
  {
   "cell_type": "code",
   "execution_count": 29,
   "id": "proper-ghana",
   "metadata": {},
   "outputs": [],
   "source": [
    "#Generates an ordereddict but prints better for summary\n",
    "#likely to be depricated as an ordered dict may not be useful and drops a dependency if its EOL\n",
    "mooring_config_v2 = load_config.load_config(mooring_meta_file)"
   ]
  },
  {
   "cell_type": "code",
   "execution_count": 30,
   "id": "israeli-begin",
   "metadata": {},
   "outputs": [
    {
     "output_type": "execute_result",
     "data": {
      "text/plain": [
       "{'InstType': 'SBE-56',\n",
       " 'SerialNo': '2453',\n",
       " 'DesignedDepth': 0.0,\n",
       " 'ActualDepth': 0.0,\n",
       " 'PreDeploymentNotes': '300s',\n",
       " 'PostDeploymentNotes': 'fake instrument not on real mooring plan',\n",
       " 'Deployed': 'n',\n",
       " 'Recovered': 'n'}"
      ]
     },
     "metadata": {},
     "execution_count": 30
    }
   ],
   "source": [
    "mooring_config['Instrumentation'][instrument]"
   ]
  },
  {
   "cell_type": "markdown",
   "id": "mysterious-cornwall",
   "metadata": {},
   "source": [
    "## Add Instrument meta information\n",
    "\n",
    "Time, depth, lat, lon should be added regardless (always our coordinates) but for a mooring site its going to be a (1,1,1,t) dataset\n",
    "The variables of interest should be read from the data file and matched to a key for naming.  That key is in the inst_config file seen below and should represent common conversion names in the raw data"
   ]
  },
  {
   "cell_type": "code",
   "execution_count": 31,
   "id": "checked-raise",
   "metadata": {
    "tags": []
   },
   "outputs": [
    {
     "output_type": "execute_result",
     "data": {
      "text/plain": [
       "{'time': {'epic_key': 'TIM_601',\n",
       "  'name': 'time',\n",
       "  'generic_name': 'time',\n",
       "  'standard_name': 'time',\n",
       "  'long_name': 'date and time since reference time',\n",
       "  'time_origin': '1900-01-01 00:00:00',\n",
       "  'units': 'days since 1900-01-01T00:00:00Z'},\n",
       " 'depth': {'epic_key': 'D_3',\n",
       "  'generic_name': 'depth',\n",
       "  'units': 'meter',\n",
       "  'long_name': 'depth below surface (meters)',\n",
       "  'standard_name': 'depth'},\n",
       " 'latitude': {'epic_key': 'LON_501',\n",
       "  'name': 'latitude',\n",
       "  'generic_name': 'latitude',\n",
       "  'units': 'degrees_north',\n",
       "  'long_name': 'latitude',\n",
       "  'standard_name': 'latitude'},\n",
       " 'longitude': {'epic_key': 'LAT_500',\n",
       "  'name': 'longitude',\n",
       "  'generic_name': 'longitude',\n",
       "  'units': 'degrees_east',\n",
       "  'long_name': 'longitude',\n",
       "  'standard_name': 'longitude'},\n",
       " 'temperature': {'epic_key': 'T_20',\n",
       "  'generic_name': 'temp',\n",
       "  'long_name': 'Sea temperature in-situ ITS-90 scale',\n",
       "  'standard_name': 'sea_water_temperature',\n",
       "  'units': 'degree_C'}}"
      ]
     },
     "metadata": {},
     "execution_count": 31
    }
   ],
   "source": [
    "with open(inst_meta_file) as file:\n",
    "    inst_config = yaml.full_load(file)\n",
    "inst_config"
   ]
  },
  {
   "cell_type": "code",
   "execution_count": 32,
   "id": "varied-popularity",
   "metadata": {},
   "outputs": [
    {
     "output_type": "execute_result",
     "data": {
      "text/plain": [
       "<EcoFOCIpy.io.ncCFsave.EcoFOCI_CFnc at 0x1623894c0>"
      ]
     },
     "metadata": {},
     "execution_count": 32
    }
   ],
   "source": [
    "# Add meta data and prelim processing based on meta data\n",
    "# Convert to xarray and add meta information - save as CF netcdf file\n",
    "# pass -> data, instmeta, depmeta\n",
    "sbe56_wop_nc = ncCFsave.EcoFOCI_CFnc(df=sbe56_wop_data, \n",
    "                                instrument_yaml=inst_config, \n",
    "                                operation_yaml=mooring_config,\n",
    "                                operation_type='mooring', \n",
    "                                instrument_id=instrument, \n",
    "                                inst_shortname=inst_shortname)\n",
    "sbe56_wop_nc"
   ]
  },
  {
   "cell_type": "markdown",
   "id": "asian-chambers",
   "metadata": {},
   "source": [
    "At this point, you could save your file with the `.xarray2netcdf_save()` method and have a functioning dataset.... but it would be very simple with no additional qc, meta-data, or tuned parameters for optimizing software like ferret or erddap."
   ]
  },
  {
   "cell_type": "code",
   "execution_count": 33,
   "id": "practical-pennsylvania",
   "metadata": {},
   "outputs": [],
   "source": [
    "# expand the dimensions and coordinate variables\n",
    "# renames them appropriatley and prepares them for meta-filled values\n",
    "sbe56_wop_nc.expand_dimensions()"
   ]
  },
  {
   "cell_type": "code",
   "execution_count": 34,
   "id": "floral-operations",
   "metadata": {},
   "outputs": [],
   "source": [
    "sbe56_wop_nc.variable_meta_data(variable_keys=list(sbe56_wop_data.columns.values),drop_missing=True)\n",
    "sbe56_wop_nc.temporal_geospatioal_meta_data()\n",
    "#adding dimension meta needs to come after updating the dimension values... BUG?\n",
    "sbe56_wop_nc.dimension_meta_data(variable_keys=['depth','latitude','longitude'])"
   ]
  },
  {
   "cell_type": "markdown",
   "id": "seventh-product",
   "metadata": {},
   "source": [
    "The following steps can happen in just about any order and are all meta-data driven.  Therefore, they are not required to have a functioning dataset, but they are required to have a well described dataset"
   ]
  },
  {
   "cell_type": "code",
   "execution_count": 35,
   "id": "auburn-diversity",
   "metadata": {},
   "outputs": [],
   "source": [
    "#add global attributes\n",
    "sbe56_wop_nc.deployment_meta_add()\n",
    "sbe56_wop_nc.get_xdf()\n",
    "\n",
    "#add instituitonal global attributes\n",
    "sbe56_wop_nc.institution_meta_add()\n",
    "\n",
    "#add creation date/time - provenance data\n",
    "sbe56_wop_nc.provinance_meta_add()\n",
    "\n",
    "#provide intial qc status field\n",
    "sbe56_wop_nc.qc_status(qc_status='unknown')\n"
   ]
  },
  {
   "cell_type": "markdown",
   "id": "sustained-hughes",
   "metadata": {},
   "source": [
    "## Save CF Netcdf files\n",
    "\n",
    "Currently stick to netcdf3 classic... but migrating to netcdf4 (default) may be no problems for most modern purposes.  Its easy enough to pass the `format` kwargs through to the netcdf api of xarray."
   ]
  },
  {
   "cell_type": "code",
   "execution_count": 36,
   "id": "modular-volunteer",
   "metadata": {},
   "outputs": [],
   "source": [
    "# combine trim (not mandatory) and filename together (saves to test.nc without name)\n",
    "\n",
    "depth = str(int(mooring_config['Instrumentation'][instrument]['ActualDepth'])).zfill(4)\n",
    "# mooring_yaml['Instrumentation'][self.instrument_id]['DesignedDepth'])).zfill(4) #<-- alternative\n",
    "filename = \"\".join(mooring_config['MooringID'].split('-')).lower()+'_'+inst_shortname+'_'+depth+'m.nc'\n",
    "sbe56_wop_nc.xarray2netcdf_save(xdf = sbe56_wop_nc.autotrim_time(),\n",
    "                           filename=filename,format=\"NETCDF3_CLASSIC\")\n",
    "\n",
    "# don't trim the data and pass your own filename\n",
    "# sbe56_wop_nc.xarray2netcdf_save(xdf = sbe56_wop_nc.get_xdf(),\n",
    "#                            filename=filename,format=\"NETCDF4_CLASSIC\")"
   ]
  },
  {
   "cell_type": "code",
   "execution_count": 37,
   "id": "unlike-breathing",
   "metadata": {},
   "outputs": [
    {
     "output_type": "execute_result",
     "data": {
      "text/plain": [
       "<xarray.Dataset>\n",
       "Dimensions:    (depth: 1, latitude: 1, longitude: 1, time: 125)\n",
       "Coordinates:\n",
       "  * time       (time) datetime64[ns] 2018-08-29T04:00:00 ... 2018-08-29T14:20:00\n",
       "  * latitude   (latitude) float64 56.87\n",
       "  * longitude  (longitude) float64 -164.0\n",
       "  * depth      (depth) float64 0.0\n",
       "Data variables:\n",
       "    *empty*\n",
       "Attributes: (12/13)\n",
       "    Latitude-Deg_MM.dd_W:                   56 52.1729 N\n",
       "    Longitude-Deg_MM.dd_N:                  164 02.8716 W\n",
       "    MooringID:                              16BSM-2A\n",
       "    platform_deployment_date:               2016-05-05T05:51:00Z\n",
       "    platform_deployment_cruise_name:        DY1606\n",
       "    platform_recovery_date:                 2016-09-29T03:45:00Z\n",
       "    ...                                     ...\n",
       "    platform_deployment_recovery_comments:  Depth not listed - other two moor...\n",
       "    WaterDepth:                             71.0\n",
       "    date_created:                           2021-04-23T13:43:24Z\n",
       "    date_modified:                          \n",
       "    QC_indicator:                           unknown\n",
       "    history:                                Trimmed to deployment."
      ],
      "text/html": "<div><svg style=\"position: absolute; width: 0; height: 0; overflow: hidden\">\n<defs>\n<symbol id=\"icon-database\" viewBox=\"0 0 32 32\">\n<path d=\"M16 0c-8.837 0-16 2.239-16 5v4c0 2.761 7.163 5 16 5s16-2.239 16-5v-4c0-2.761-7.163-5-16-5z\"></path>\n<path d=\"M16 17c-8.837 0-16-2.239-16-5v6c0 2.761 7.163 5 16 5s16-2.239 16-5v-6c0 2.761-7.163 5-16 5z\"></path>\n<path d=\"M16 26c-8.837 0-16-2.239-16-5v6c0 2.761 7.163 5 16 5s16-2.239 16-5v-6c0 2.761-7.163 5-16 5z\"></path>\n</symbol>\n<symbol id=\"icon-file-text2\" viewBox=\"0 0 32 32\">\n<path d=\"M28.681 7.159c-0.694-0.947-1.662-2.053-2.724-3.116s-2.169-2.030-3.116-2.724c-1.612-1.182-2.393-1.319-2.841-1.319h-15.5c-1.378 0-2.5 1.121-2.5 2.5v27c0 1.378 1.122 2.5 2.5 2.5h23c1.378 0 2.5-1.122 2.5-2.5v-19.5c0-0.448-0.137-1.23-1.319-2.841zM24.543 5.457c0.959 0.959 1.712 1.825 2.268 2.543h-4.811v-4.811c0.718 0.556 1.584 1.309 2.543 2.268zM28 29.5c0 0.271-0.229 0.5-0.5 0.5h-23c-0.271 0-0.5-0.229-0.5-0.5v-27c0-0.271 0.229-0.5 0.5-0.5 0 0 15.499-0 15.5 0v7c0 0.552 0.448 1 1 1h7v19.5z\"></path>\n<path d=\"M23 26h-14c-0.552 0-1-0.448-1-1s0.448-1 1-1h14c0.552 0 1 0.448 1 1s-0.448 1-1 1z\"></path>\n<path d=\"M23 22h-14c-0.552 0-1-0.448-1-1s0.448-1 1-1h14c0.552 0 1 0.448 1 1s-0.448 1-1 1z\"></path>\n<path d=\"M23 18h-14c-0.552 0-1-0.448-1-1s0.448-1 1-1h14c0.552 0 1 0.448 1 1s-0.448 1-1 1z\"></path>\n</symbol>\n</defs>\n</svg>\n<style>/* CSS stylesheet for displaying xarray objects in jupyterlab.\n *\n */\n\n:root {\n  --xr-font-color0: var(--jp-content-font-color0, rgba(0, 0, 0, 1));\n  --xr-font-color2: var(--jp-content-font-color2, rgba(0, 0, 0, 0.54));\n  --xr-font-color3: var(--jp-content-font-color3, rgba(0, 0, 0, 0.38));\n  --xr-border-color: var(--jp-border-color2, #e0e0e0);\n  --xr-disabled-color: var(--jp-layout-color3, #bdbdbd);\n  --xr-background-color: var(--jp-layout-color0, white);\n  --xr-background-color-row-even: var(--jp-layout-color1, white);\n  --xr-background-color-row-odd: var(--jp-layout-color2, #eeeeee);\n}\n\nhtml[theme=dark],\nbody.vscode-dark {\n  --xr-font-color0: rgba(255, 255, 255, 1);\n  --xr-font-color2: rgba(255, 255, 255, 0.54);\n  --xr-font-color3: rgba(255, 255, 255, 0.38);\n  --xr-border-color: #1F1F1F;\n  --xr-disabled-color: #515151;\n  --xr-background-color: #111111;\n  --xr-background-color-row-even: #111111;\n  --xr-background-color-row-odd: #313131;\n}\n\n.xr-wrap {\n  display: block;\n  min-width: 300px;\n  max-width: 700px;\n}\n\n.xr-text-repr-fallback {\n  /* fallback to plain text repr when CSS is not injected (untrusted notebook) */\n  display: none;\n}\n\n.xr-header {\n  padding-top: 6px;\n  padding-bottom: 6px;\n  margin-bottom: 4px;\n  border-bottom: solid 1px var(--xr-border-color);\n}\n\n.xr-header > div,\n.xr-header > ul {\n  display: inline;\n  margin-top: 0;\n  margin-bottom: 0;\n}\n\n.xr-obj-type,\n.xr-array-name {\n  margin-left: 2px;\n  margin-right: 10px;\n}\n\n.xr-obj-type {\n  color: var(--xr-font-color2);\n}\n\n.xr-sections {\n  padding-left: 0 !important;\n  display: grid;\n  grid-template-columns: 150px auto auto 1fr 20px 20px;\n}\n\n.xr-section-item {\n  display: contents;\n}\n\n.xr-section-item input {\n  display: none;\n}\n\n.xr-section-item input + label {\n  color: var(--xr-disabled-color);\n}\n\n.xr-section-item input:enabled + label {\n  cursor: pointer;\n  color: var(--xr-font-color2);\n}\n\n.xr-section-item input:enabled + label:hover {\n  color: var(--xr-font-color0);\n}\n\n.xr-section-summary {\n  grid-column: 1;\n  color: var(--xr-font-color2);\n  font-weight: 500;\n}\n\n.xr-section-summary > span {\n  display: inline-block;\n  padding-left: 0.5em;\n}\n\n.xr-section-summary-in:disabled + label {\n  color: var(--xr-font-color2);\n}\n\n.xr-section-summary-in + label:before {\n  display: inline-block;\n  content: '►';\n  font-size: 11px;\n  width: 15px;\n  text-align: center;\n}\n\n.xr-section-summary-in:disabled + label:before {\n  color: var(--xr-disabled-color);\n}\n\n.xr-section-summary-in:checked + label:before {\n  content: '▼';\n}\n\n.xr-section-summary-in:checked + label > span {\n  display: none;\n}\n\n.xr-section-summary,\n.xr-section-inline-details {\n  padding-top: 4px;\n  padding-bottom: 4px;\n}\n\n.xr-section-inline-details {\n  grid-column: 2 / -1;\n}\n\n.xr-section-details {\n  display: none;\n  grid-column: 1 / -1;\n  margin-bottom: 5px;\n}\n\n.xr-section-summary-in:checked ~ .xr-section-details {\n  display: contents;\n}\n\n.xr-array-wrap {\n  grid-column: 1 / -1;\n  display: grid;\n  grid-template-columns: 20px auto;\n}\n\n.xr-array-wrap > label {\n  grid-column: 1;\n  vertical-align: top;\n}\n\n.xr-preview {\n  color: var(--xr-font-color3);\n}\n\n.xr-array-preview,\n.xr-array-data {\n  padding: 0 5px !important;\n  grid-column: 2;\n}\n\n.xr-array-data,\n.xr-array-in:checked ~ .xr-array-preview {\n  display: none;\n}\n\n.xr-array-in:checked ~ .xr-array-data,\n.xr-array-preview {\n  display: inline-block;\n}\n\n.xr-dim-list {\n  display: inline-block !important;\n  list-style: none;\n  padding: 0 !important;\n  margin: 0;\n}\n\n.xr-dim-list li {\n  display: inline-block;\n  padding: 0;\n  margin: 0;\n}\n\n.xr-dim-list:before {\n  content: '(';\n}\n\n.xr-dim-list:after {\n  content: ')';\n}\n\n.xr-dim-list li:not(:last-child):after {\n  content: ',';\n  padding-right: 5px;\n}\n\n.xr-has-index {\n  font-weight: bold;\n}\n\n.xr-var-list,\n.xr-var-item {\n  display: contents;\n}\n\n.xr-var-item > div,\n.xr-var-item label,\n.xr-var-item > .xr-var-name span {\n  background-color: var(--xr-background-color-row-even);\n  margin-bottom: 0;\n}\n\n.xr-var-item > .xr-var-name:hover span {\n  padding-right: 5px;\n}\n\n.xr-var-list > li:nth-child(odd) > div,\n.xr-var-list > li:nth-child(odd) > label,\n.xr-var-list > li:nth-child(odd) > .xr-var-name span {\n  background-color: var(--xr-background-color-row-odd);\n}\n\n.xr-var-name {\n  grid-column: 1;\n}\n\n.xr-var-dims {\n  grid-column: 2;\n}\n\n.xr-var-dtype {\n  grid-column: 3;\n  text-align: right;\n  color: var(--xr-font-color2);\n}\n\n.xr-var-preview {\n  grid-column: 4;\n}\n\n.xr-var-name,\n.xr-var-dims,\n.xr-var-dtype,\n.xr-preview,\n.xr-attrs dt {\n  white-space: nowrap;\n  overflow: hidden;\n  text-overflow: ellipsis;\n  padding-right: 10px;\n}\n\n.xr-var-name:hover,\n.xr-var-dims:hover,\n.xr-var-dtype:hover,\n.xr-attrs dt:hover {\n  overflow: visible;\n  width: auto;\n  z-index: 1;\n}\n\n.xr-var-attrs,\n.xr-var-data {\n  display: none;\n  background-color: var(--xr-background-color) !important;\n  padding-bottom: 5px !important;\n}\n\n.xr-var-attrs-in:checked ~ .xr-var-attrs,\n.xr-var-data-in:checked ~ .xr-var-data {\n  display: block;\n}\n\n.xr-var-data > table {\n  float: right;\n}\n\n.xr-var-name span,\n.xr-var-data,\n.xr-attrs {\n  padding-left: 25px !important;\n}\n\n.xr-attrs,\n.xr-var-attrs,\n.xr-var-data {\n  grid-column: 1 / -1;\n}\n\ndl.xr-attrs {\n  padding: 0;\n  margin: 0;\n  display: grid;\n  grid-template-columns: 125px auto;\n}\n\n.xr-attrs dt,\n.xr-attrs dd {\n  padding: 0;\n  margin: 0;\n  float: left;\n  padding-right: 10px;\n  width: auto;\n}\n\n.xr-attrs dt {\n  font-weight: normal;\n  grid-column: 1;\n}\n\n.xr-attrs dt:hover span {\n  display: inline-block;\n  background: var(--xr-background-color);\n  padding-right: 10px;\n}\n\n.xr-attrs dd {\n  grid-column: 2;\n  white-space: pre-wrap;\n  word-break: break-all;\n}\n\n.xr-icon-database,\n.xr-icon-file-text2 {\n  display: inline-block;\n  vertical-align: middle;\n  width: 1em;\n  height: 1.5em !important;\n  stroke-width: 0;\n  stroke: currentColor;\n  fill: currentColor;\n}\n</style><pre class='xr-text-repr-fallback'>&lt;xarray.Dataset&gt;\nDimensions:    (depth: 1, latitude: 1, longitude: 1, time: 125)\nCoordinates:\n  * time       (time) datetime64[ns] 2018-08-29T04:00:00 ... 2018-08-29T14:20:00\n  * latitude   (latitude) float64 56.87\n  * longitude  (longitude) float64 -164.0\n  * depth      (depth) float64 0.0\nData variables:\n    *empty*\nAttributes: (12/13)\n    Latitude-Deg_MM.dd_W:                   56 52.1729 N\n    Longitude-Deg_MM.dd_N:                  164 02.8716 W\n    MooringID:                              16BSM-2A\n    platform_deployment_date:               2016-05-05T05:51:00Z\n    platform_deployment_cruise_name:        DY1606\n    platform_recovery_date:                 2016-09-29T03:45:00Z\n    ...                                     ...\n    platform_deployment_recovery_comments:  Depth not listed - other two moor...\n    WaterDepth:                             71.0\n    date_created:                           2021-04-23T13:43:24Z\n    date_modified:                          \n    QC_indicator:                           unknown\n    history:                                Trimmed to deployment.</pre><div class='xr-wrap' hidden><div class='xr-header'><div class='xr-obj-type'>xarray.Dataset</div></div><ul class='xr-sections'><li class='xr-section-item'><input id='section-bd32bbf6-f927-47db-a99e-46b43b1e566b' class='xr-section-summary-in' type='checkbox' disabled ><label for='section-bd32bbf6-f927-47db-a99e-46b43b1e566b' class='xr-section-summary'  title='Expand/collapse section'>Dimensions:</label><div class='xr-section-inline-details'><ul class='xr-dim-list'><li><span class='xr-has-index'>depth</span>: 1</li><li><span class='xr-has-index'>latitude</span>: 1</li><li><span class='xr-has-index'>longitude</span>: 1</li><li><span class='xr-has-index'>time</span>: 125</li></ul></div><div class='xr-section-details'></div></li><li class='xr-section-item'><input id='section-8dc2a27d-3def-4336-b454-d1bf68efd740' class='xr-section-summary-in' type='checkbox'  checked><label for='section-8dc2a27d-3def-4336-b454-d1bf68efd740' class='xr-section-summary' >Coordinates: <span>(4)</span></label><div class='xr-section-inline-details'></div><div class='xr-section-details'><ul class='xr-var-list'><li class='xr-var-item'><div class='xr-var-name'><span class='xr-has-index'>time</span></div><div class='xr-var-dims'>(time)</div><div class='xr-var-dtype'>datetime64[ns]</div><div class='xr-var-preview xr-preview'>2018-08-29T04:00:00 ... 2018-08-...</div><input id='attrs-04b9d8a3-a507-47bf-b794-5066f4258d67' class='xr-var-attrs-in' type='checkbox' disabled><label for='attrs-04b9d8a3-a507-47bf-b794-5066f4258d67' title='Show/Hide attributes'><svg class='icon xr-icon-file-text2'><use xlink:href='#icon-file-text2'></use></svg></label><input id='data-3a27bb9e-9c84-4211-b1b2-02bebfa40537' class='xr-var-data-in' type='checkbox'><label for='data-3a27bb9e-9c84-4211-b1b2-02bebfa40537' title='Show/Hide data repr'><svg class='icon xr-icon-database'><use xlink:href='#icon-database'></use></svg></label><div class='xr-var-attrs'><dl class='xr-attrs'></dl></div><div class='xr-var-data'><pre>array([&#x27;2018-08-29T04:00:00.000000000&#x27;, &#x27;2018-08-29T04:05:00.000000000&#x27;,\n       &#x27;2018-08-29T04:10:00.000000000&#x27;, &#x27;2018-08-29T04:15:00.000000000&#x27;,\n       &#x27;2018-08-29T04:20:00.000000000&#x27;, &#x27;2018-08-29T04:25:00.000000000&#x27;,\n       &#x27;2018-08-29T04:30:00.000000000&#x27;, &#x27;2018-08-29T04:35:00.000000000&#x27;,\n       &#x27;2018-08-29T04:40:00.000000000&#x27;, &#x27;2018-08-29T04:45:00.000000000&#x27;,\n       &#x27;2018-08-29T04:50:00.000000000&#x27;, &#x27;2018-08-29T04:55:00.000000000&#x27;,\n       &#x27;2018-08-29T05:00:00.000000000&#x27;, &#x27;2018-08-29T05:05:00.000000000&#x27;,\n       &#x27;2018-08-29T05:10:00.000000000&#x27;, &#x27;2018-08-29T05:15:00.000000000&#x27;,\n       &#x27;2018-08-29T05:20:00.000000000&#x27;, &#x27;2018-08-29T05:25:00.000000000&#x27;,\n       &#x27;2018-08-29T05:30:00.000000000&#x27;, &#x27;2018-08-29T05:35:00.000000000&#x27;,\n       &#x27;2018-08-29T05:40:00.000000000&#x27;, &#x27;2018-08-29T05:45:00.000000000&#x27;,\n       &#x27;2018-08-29T05:50:00.000000000&#x27;, &#x27;2018-08-29T05:55:00.000000000&#x27;,\n       &#x27;2018-08-29T06:00:00.000000000&#x27;, &#x27;2018-08-29T06:05:00.000000000&#x27;,\n       &#x27;2018-08-29T06:10:00.000000000&#x27;, &#x27;2018-08-29T06:15:00.000000000&#x27;,\n       &#x27;2018-08-29T06:20:00.000000000&#x27;, &#x27;2018-08-29T06:25:00.000000000&#x27;,\n       &#x27;2018-08-29T06:30:00.000000000&#x27;, &#x27;2018-08-29T06:35:00.000000000&#x27;,\n       &#x27;2018-08-29T06:40:00.000000000&#x27;, &#x27;2018-08-29T06:45:00.000000000&#x27;,\n       &#x27;2018-08-29T06:50:00.000000000&#x27;, &#x27;2018-08-29T06:55:00.000000000&#x27;,\n       &#x27;2018-08-29T07:00:00.000000000&#x27;, &#x27;2018-08-29T07:05:00.000000000&#x27;,\n       &#x27;2018-08-29T07:10:00.000000000&#x27;, &#x27;2018-08-29T07:15:00.000000000&#x27;,\n       &#x27;2018-08-29T07:20:00.000000000&#x27;, &#x27;2018-08-29T07:25:00.000000000&#x27;,\n       &#x27;2018-08-29T07:30:00.000000000&#x27;, &#x27;2018-08-29T07:35:00.000000000&#x27;,\n       &#x27;2018-08-29T07:40:00.000000000&#x27;, &#x27;2018-08-29T07:45:00.000000000&#x27;,\n       &#x27;2018-08-29T07:50:00.000000000&#x27;, &#x27;2018-08-29T07:55:00.000000000&#x27;,\n       &#x27;2018-08-29T08:00:00.000000000&#x27;, &#x27;2018-08-29T08:05:00.000000000&#x27;,\n       &#x27;2018-08-29T08:10:00.000000000&#x27;, &#x27;2018-08-29T08:15:00.000000000&#x27;,\n       &#x27;2018-08-29T08:20:00.000000000&#x27;, &#x27;2018-08-29T08:25:00.000000000&#x27;,\n       &#x27;2018-08-29T08:30:00.000000000&#x27;, &#x27;2018-08-29T08:35:00.000000000&#x27;,\n       &#x27;2018-08-29T08:40:00.000000000&#x27;, &#x27;2018-08-29T08:45:00.000000000&#x27;,\n       &#x27;2018-08-29T08:50:00.000000000&#x27;, &#x27;2018-08-29T08:55:00.000000000&#x27;,\n       &#x27;2018-08-29T09:00:00.000000000&#x27;, &#x27;2018-08-29T09:05:00.000000000&#x27;,\n       &#x27;2018-08-29T09:10:00.000000000&#x27;, &#x27;2018-08-29T09:15:00.000000000&#x27;,\n       &#x27;2018-08-29T09:20:00.000000000&#x27;, &#x27;2018-08-29T09:25:00.000000000&#x27;,\n       &#x27;2018-08-29T09:30:00.000000000&#x27;, &#x27;2018-08-29T09:35:00.000000000&#x27;,\n       &#x27;2018-08-29T09:40:00.000000000&#x27;, &#x27;2018-08-29T09:45:00.000000000&#x27;,\n       &#x27;2018-08-29T09:50:00.000000000&#x27;, &#x27;2018-08-29T09:55:00.000000000&#x27;,\n       &#x27;2018-08-29T10:00:00.000000000&#x27;, &#x27;2018-08-29T10:05:00.000000000&#x27;,\n       &#x27;2018-08-29T10:10:00.000000000&#x27;, &#x27;2018-08-29T10:15:00.000000000&#x27;,\n       &#x27;2018-08-29T10:20:00.000000000&#x27;, &#x27;2018-08-29T10:25:00.000000000&#x27;,\n       &#x27;2018-08-29T10:30:00.000000000&#x27;, &#x27;2018-08-29T10:35:00.000000000&#x27;,\n       &#x27;2018-08-29T10:40:00.000000000&#x27;, &#x27;2018-08-29T10:45:00.000000000&#x27;,\n       &#x27;2018-08-29T10:50:00.000000000&#x27;, &#x27;2018-08-29T10:55:00.000000000&#x27;,\n       &#x27;2018-08-29T11:00:00.000000000&#x27;, &#x27;2018-08-29T11:05:00.000000000&#x27;,\n       &#x27;2018-08-29T11:10:00.000000000&#x27;, &#x27;2018-08-29T11:15:00.000000000&#x27;,\n       &#x27;2018-08-29T11:20:00.000000000&#x27;, &#x27;2018-08-29T11:25:00.000000000&#x27;,\n       &#x27;2018-08-29T11:30:00.000000000&#x27;, &#x27;2018-08-29T11:35:00.000000000&#x27;,\n       &#x27;2018-08-29T11:40:00.000000000&#x27;, &#x27;2018-08-29T11:45:00.000000000&#x27;,\n       &#x27;2018-08-29T11:50:00.000000000&#x27;, &#x27;2018-08-29T11:55:00.000000000&#x27;,\n       &#x27;2018-08-29T12:00:00.000000000&#x27;, &#x27;2018-08-29T12:05:00.000000000&#x27;,\n       &#x27;2018-08-29T12:10:00.000000000&#x27;, &#x27;2018-08-29T12:15:00.000000000&#x27;,\n       &#x27;2018-08-29T12:20:00.000000000&#x27;, &#x27;2018-08-29T12:25:00.000000000&#x27;,\n       &#x27;2018-08-29T12:30:00.000000000&#x27;, &#x27;2018-08-29T12:35:00.000000000&#x27;,\n       &#x27;2018-08-29T12:40:00.000000000&#x27;, &#x27;2018-08-29T12:45:00.000000000&#x27;,\n       &#x27;2018-08-29T12:50:00.000000000&#x27;, &#x27;2018-08-29T12:55:00.000000000&#x27;,\n       &#x27;2018-08-29T13:00:00.000000000&#x27;, &#x27;2018-08-29T13:05:00.000000000&#x27;,\n       &#x27;2018-08-29T13:10:00.000000000&#x27;, &#x27;2018-08-29T13:15:00.000000000&#x27;,\n       &#x27;2018-08-29T13:20:00.000000000&#x27;, &#x27;2018-08-29T13:25:00.000000000&#x27;,\n       &#x27;2018-08-29T13:30:00.000000000&#x27;, &#x27;2018-08-29T13:35:00.000000000&#x27;,\n       &#x27;2018-08-29T13:40:00.000000000&#x27;, &#x27;2018-08-29T13:45:00.000000000&#x27;,\n       &#x27;2018-08-29T13:50:00.000000000&#x27;, &#x27;2018-08-29T13:55:00.000000000&#x27;,\n       &#x27;2018-08-29T14:00:00.000000000&#x27;, &#x27;2018-08-29T14:05:00.000000000&#x27;,\n       &#x27;2018-08-29T14:10:00.000000000&#x27;, &#x27;2018-08-29T14:15:00.000000000&#x27;,\n       &#x27;2018-08-29T14:20:00.000000000&#x27;], dtype=&#x27;datetime64[ns]&#x27;)</pre></div></li><li class='xr-var-item'><div class='xr-var-name'><span class='xr-has-index'>latitude</span></div><div class='xr-var-dims'>(latitude)</div><div class='xr-var-dtype'>float64</div><div class='xr-var-preview xr-preview'>56.87</div><input id='attrs-a0abf8ab-5d3d-4e2c-b1e7-ce1d2e83c53e' class='xr-var-attrs-in' type='checkbox' ><label for='attrs-a0abf8ab-5d3d-4e2c-b1e7-ce1d2e83c53e' title='Show/Hide attributes'><svg class='icon xr-icon-file-text2'><use xlink:href='#icon-file-text2'></use></svg></label><input id='data-59e6be0f-0ad6-4493-8beb-c19e5066ba98' class='xr-var-data-in' type='checkbox'><label for='data-59e6be0f-0ad6-4493-8beb-c19e5066ba98' title='Show/Hide data repr'><svg class='icon xr-icon-database'><use xlink:href='#icon-database'></use></svg></label><div class='xr-var-attrs'><dl class='xr-attrs'><dt><span>epic_key :</span></dt><dd>LON_501</dd><dt><span>name :</span></dt><dd>latitude</dd><dt><span>generic_name :</span></dt><dd>latitude</dd><dt><span>units :</span></dt><dd>degrees_north</dd><dt><span>long_name :</span></dt><dd>latitude</dd><dt><span>standard_name :</span></dt><dd>latitude</dd></dl></div><div class='xr-var-data'><pre>array([56.869548])</pre></div></li><li class='xr-var-item'><div class='xr-var-name'><span class='xr-has-index'>longitude</span></div><div class='xr-var-dims'>(longitude)</div><div class='xr-var-dtype'>float64</div><div class='xr-var-preview xr-preview'>-164.0</div><input id='attrs-36152b89-a58a-4462-8de4-82380730fc46' class='xr-var-attrs-in' type='checkbox' ><label for='attrs-36152b89-a58a-4462-8de4-82380730fc46' title='Show/Hide attributes'><svg class='icon xr-icon-file-text2'><use xlink:href='#icon-file-text2'></use></svg></label><input id='data-ef60645b-3233-4fdb-82d0-326ea6d79d71' class='xr-var-data-in' type='checkbox'><label for='data-ef60645b-3233-4fdb-82d0-326ea6d79d71' title='Show/Hide data repr'><svg class='icon xr-icon-database'><use xlink:href='#icon-database'></use></svg></label><div class='xr-var-attrs'><dl class='xr-attrs'><dt><span>epic_key :</span></dt><dd>LAT_500</dd><dt><span>name :</span></dt><dd>longitude</dd><dt><span>generic_name :</span></dt><dd>longitude</dd><dt><span>units :</span></dt><dd>degrees_east</dd><dt><span>long_name :</span></dt><dd>longitude</dd><dt><span>standard_name :</span></dt><dd>longitude</dd></dl></div><div class='xr-var-data'><pre>array([-164.04786])</pre></div></li><li class='xr-var-item'><div class='xr-var-name'><span class='xr-has-index'>depth</span></div><div class='xr-var-dims'>(depth)</div><div class='xr-var-dtype'>float64</div><div class='xr-var-preview xr-preview'>0.0</div><input id='attrs-d1cb6f4d-b149-4386-af50-b8054dda3b15' class='xr-var-attrs-in' type='checkbox' ><label for='attrs-d1cb6f4d-b149-4386-af50-b8054dda3b15' title='Show/Hide attributes'><svg class='icon xr-icon-file-text2'><use xlink:href='#icon-file-text2'></use></svg></label><input id='data-5a050790-cd45-4a78-98f8-05efbe24fb7c' class='xr-var-data-in' type='checkbox'><label for='data-5a050790-cd45-4a78-98f8-05efbe24fb7c' title='Show/Hide data repr'><svg class='icon xr-icon-database'><use xlink:href='#icon-database'></use></svg></label><div class='xr-var-attrs'><dl class='xr-attrs'><dt><span>epic_key :</span></dt><dd>D_3</dd><dt><span>generic_name :</span></dt><dd>depth</dd><dt><span>units :</span></dt><dd>meter</dd><dt><span>long_name :</span></dt><dd>depth below surface (meters)</dd><dt><span>standard_name :</span></dt><dd>depth</dd></dl></div><div class='xr-var-data'><pre>array([0.])</pre></div></li></ul></div></li><li class='xr-section-item'><input id='section-43a81b51-444c-4542-8fc6-fb720401786c' class='xr-section-summary-in' type='checkbox' disabled ><label for='section-43a81b51-444c-4542-8fc6-fb720401786c' class='xr-section-summary'  title='Expand/collapse section'>Data variables: <span>(0)</span></label><div class='xr-section-inline-details'></div><div class='xr-section-details'><ul class='xr-var-list'></ul></div></li><li class='xr-section-item'><input id='section-662284c0-31e2-4e91-b2cd-a1048ff5c4dd' class='xr-section-summary-in' type='checkbox'  ><label for='section-662284c0-31e2-4e91-b2cd-a1048ff5c4dd' class='xr-section-summary' >Attributes: <span>(13)</span></label><div class='xr-section-inline-details'></div><div class='xr-section-details'><dl class='xr-attrs'><dt><span>Latitude-Deg_MM.dd_W :</span></dt><dd>56 52.1729 N</dd><dt><span>Longitude-Deg_MM.dd_N :</span></dt><dd>164 02.8716 W</dd><dt><span>MooringID :</span></dt><dd>16BSM-2A</dd><dt><span>platform_deployment_date :</span></dt><dd>2016-05-05T05:51:00Z</dd><dt><span>platform_deployment_cruise_name :</span></dt><dd>DY1606</dd><dt><span>platform_recovery_date :</span></dt><dd>2016-09-29T03:45:00Z</dd><dt><span>platform_recovery_cruise_name :</span></dt><dd>AQ1601</dd><dt><span>platform_deployment_recovery_comments :</span></dt><dd>Depth not listed - other two moorings BSP-2A and ITAE are at 71m so figure 71m</dd><dt><span>WaterDepth :</span></dt><dd>71.0</dd><dt><span>date_created :</span></dt><dd>2021-04-23T13:43:24Z</dd><dt><span>date_modified :</span></dt><dd></dd><dt><span>QC_indicator :</span></dt><dd>unknown</dd><dt><span>history :</span></dt><dd>Trimmed to deployment.</dd></dl></div></li></ul></div></div>"
     },
     "metadata": {},
     "execution_count": 37
    }
   ],
   "source": [
    "sbe56_wop_nc.get_xdf()"
   ]
  },
  {
   "cell_type": "markdown",
   "id": "individual-nature",
   "metadata": {},
   "source": [
    "## Next Steps\n",
    "\n",
    "QC of data (plot parameters with other instruments)\n",
    "- be sure to updated the qc_status and the history"
   ]
  },
  {
   "cell_type": "code",
   "execution_count": null,
   "id": "insured-vulnerability",
   "metadata": {},
   "outputs": [],
   "source": []
  }
 ],
 "metadata": {
  "kernelspec": {
   "name": "python388jvsc74a57bd0ea8efced7f9f908505a4e28889b9d0ff7d52e9a5c03dfaa80d1d80124525970c",
   "display_name": "Python 3.8.8 64-bit ('py38': conda)"
  },
  "language_info": {
   "codemirror_mode": {
    "name": "ipython",
    "version": 3
   },
   "file_extension": ".py",
   "mimetype": "text/x-python",
   "name": "python",
   "nbconvert_exporter": "python",
   "pygments_lexer": "ipython3",
   "version": "3.8.8"
  }
 },
 "nbformat": 4,
 "nbformat_minor": 5
}
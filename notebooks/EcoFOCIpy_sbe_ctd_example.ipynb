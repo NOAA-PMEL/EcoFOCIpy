{
 "cells": [
  {
   "cell_type": "markdown",
   "id": "educational-chosen",
   "metadata": {},
   "source": [
    "# Using EcoFOCIpy to process raw field data\n",
    "\n",
    "## CTD / Profile Data\n",
    "\n",
    "Basic workflow for each instrument grouping is *(initial archive level)*:\n",
    "- Parse data from raw files into pandas dataframe\n",
    "- output initial files (pandas->csv) **ERDDAP NRT** when no meta data is added\n",
    "\n",
    "Convert to xarray dataframe for all following work *(working or final data level):\n",
    "- TODO: Add metadata from cruise yaml files and/or header info\n",
    "- ingest metadata from cruiese / cast logs\n",
    "- process data beyond simple file translate\n",
    "- apply any calibrations or corrections\n",
    "    + field corrections\n",
    "    + offsets\n",
    "    + instrument compensations\n",
    "    + some QC were available... this would be old-school simple bounds mostly\n",
    "- adjust time bounds and sample frequency (xarray dataframe)\n",
    "- save as CF netcdf via xarray: so many of the steps above are optional\n",
    "    + **ERDDAP NRT** if no corrections, offsets or time bounds are applied but some meta data is\n",
    "    + **Working and awaiting QC** has no ERDDAP representation and is a holding spot\n",
    "    + **ERDDAP Final** fully calibrated, qc'd and populated with meta information\n",
    "\n",
    "Plot for preview and QC\n",
    "- preview images (indiv and/or collectively)\n",
    "- manual qc process\n",
    "- automated qc process ML/AI\n",
    "\n",
    "Further refinenments for ERDDAP hosting:\n"
   ]
  },
  {
   "cell_type": "markdown",
   "id": "allied-miniature",
   "metadata": {},
   "source": [
    "## Example below is for SBE 9/11+ V2 but the workflow is similar for any SBE instruments.\n",
    "\n",
    "Future processing of this instrument can be a simplified (no markdown) process which can be archived so that the procedure can be traced or updated"
   ]
  },
  {
   "cell_type": "code",
   "execution_count": 1,
   "id": "studied-pollution",
   "metadata": {},
   "outputs": [],
   "source": [
    "import yaml\n",
    "import glob\n",
    "\n",
    "import EcoFOCIpy.io.sbe_ctd_parser as sbe_ctd_parser #<- instrument specific\n",
    "import EcoFOCIpy.io.ncCFsave as ncCFsave\n",
    "import EcoFOCIpy.metaconfig.load_config as load_config"
   ]
  },
  {
   "cell_type": "markdown",
   "id": "public-millennium",
   "metadata": {},
   "source": [
    "The sample_data_dir should be included in the github package but may not be included in the pip install of the package\n",
    "\n",
    "## Simple Processing - first step"
   ]
  },
  {
   "cell_type": "code",
   "execution_count": 2,
   "id": "offensive-level",
   "metadata": {},
   "outputs": [],
   "source": [
    "sample_data_dir = '../'"
   ]
  },
  {
   "cell_type": "code",
   "execution_count": 3,
   "id": "third-yellow",
   "metadata": {},
   "outputs": [],
   "source": [
    "###############################################################\n",
    "# edit to point to {cruise sepcific} raw datafiles \n",
    "datafile = sample_data_dir+'staticdata/example_data/profile_data/' #<- point to cruise and process all files within\n",
    "cruise_name = 'd'\n",
    "cruise_meta_file = sample_data_dir+'staticdata/cruise_example.yaml'\n",
    "inst_meta_file = sample_data_dir+'staticdata/instr_metaconfig/sbe16_cf.yaml'\n",
    "inst_shortname = ''\n",
    "###############################################################\n",
    "\n",
    "#init and load data\n",
    "cruise = sbe_ctd_parser.sbe9_11p()\n",
    "filename_list = sorted(glob.glob(datafile + '*.cnv'))\n",
    "\n",
    "(cruise_data,cruise_header) = cruise.parse(filename_list)"
   ]
  },
  {
   "source": [
    "There are 6 files in the example folder ('ctd001.cnv','ctd002.cnv', etc).  The routine will read in all .cnv files in a specified directory and name them based on splitting on \"/\".  This will work for all CTD 'cnv' files"
   ],
   "cell_type": "markdown",
   "metadata": {}
  },
  {
   "cell_type": "code",
   "execution_count": 4,
   "metadata": {},
   "outputs": [
    {
     "output_type": "execute_result",
     "data": {
      "text/plain": [
       "                   c0mS/cm    c1mS/cm  flECO-AFL  sbeox0V   t090C   t190C  \\\n",
       "Pressure [dbar]                                                             \n",
       "1.0              29.753597  29.757207     0.4821   2.5202  3.6086  3.6106   \n",
       "2.0              29.755165  29.756555     0.5064   2.5197  3.6097  3.6089   \n",
       "3.0              29.757821  29.759602     0.4824   2.5203  3.6125  3.6125   \n",
       "4.0              29.765491  29.766984     0.5234   2.5208  3.6211  3.6207   \n",
       "5.0              29.764901  29.766794     0.5624   2.5207  3.6198  3.6198   \n",
       "...                    ...        ...        ...      ...     ...     ...   \n",
       "63.0             29.781214  29.783378     0.7888   2.4997  3.6091  3.6094   \n",
       "64.0             29.781581  29.783670     0.8303   2.5250  3.6090  3.6094   \n",
       "65.0             29.782189  29.784315     0.7998   2.5467  3.6093  3.6096   \n",
       "66.0             29.782807  29.784974     0.8836   2.5173  3.6096  3.6099   \n",
       "67.0             29.783384  29.785494     0.8792   2.5250  3.6096  3.6100   \n",
       "\n",
       "                   timeS  sbeox1V        par  turbWETntu0  ...  sigma-t00  \\\n",
       "Pressure [dbar]                                            ...              \n",
       "1.0              112.124   2.5944  304.01000       0.6675  ...    25.4895   \n",
       "2.0              113.162   2.5965  231.14000       0.6915  ...    25.4896   \n",
       "3.0              116.405   2.5987  172.83000       0.6696  ...    25.4893   \n",
       "4.0              149.648   2.6022  136.68000       0.6786  ...    25.4886   \n",
       "5.0              167.871   2.6045  112.94000       0.6606  ...    25.4887   \n",
       "...                  ...      ...        ...          ...  ...        ...   \n",
       "63.0             503.219   2.5851    0.20995       1.2531  ...    25.4896   \n",
       "64.0             506.872   2.5860    0.20996       1.3506  ...    25.4897   \n",
       "65.0             511.657   2.5859    0.20993       1.2990  ...    25.4896   \n",
       "66.0             517.273   2.5847    0.20994       1.6337  ...    25.4895   \n",
       "67.0             543.732   2.5825    0.20997       1.6697  ...    25.4897   \n",
       "\n",
       "                 sigma-t11  sbeox0ML/L  sbox0Mm/Kg  sbeox0PS  sbeox1ML/L  \\\n",
       "Pressure [dbar]                                                            \n",
       "1.0                25.4912      7.3258     319.039    98.191      7.2834   \n",
       "2.0                25.4916      7.3273     319.103    98.213      7.2978   \n",
       "3.0                25.4910      7.3337     319.381    98.305      7.3013   \n",
       "4.0                25.4904      7.3304     319.238    98.282      7.3011   \n",
       "5.0                25.4905      7.3354     319.457    98.346      7.3068   \n",
       "...                    ...         ...         ...       ...         ...   \n",
       "63.0               25.4914      7.3121     318.442    98.009      7.3056   \n",
       "64.0               25.4913      7.4655     325.122   100.064      7.3082   \n",
       "65.0               25.4914      7.5336     328.086   100.977      7.3031   \n",
       "66.0               25.4913      7.3721     321.056    98.814      7.2956   \n",
       "67.0               25.4913      7.4303     323.589    99.594      7.2908   \n",
       "\n",
       "                 sbox1Mm/Kg  sbeox1PS  nbin   flag  \n",
       "Pressure [dbar]                                     \n",
       "1.0                 317.191    97.628  15.0  False  \n",
       "2.0                 317.820    97.818  23.0  False  \n",
       "3.0                 317.971    97.873  35.0  False  \n",
       "4.0                 317.964    97.891  37.0  False  \n",
       "5.0                 318.212    97.965  36.0  False  \n",
       "...                     ...       ...   ...    ...  \n",
       "63.0                318.157    97.923  35.0  False  \n",
       "64.0                318.270    97.958  53.0  False  \n",
       "65.0                318.051    97.891  64.0  False  \n",
       "66.0                317.724    97.791  38.0  False  \n",
       "67.0                317.513    97.726  28.0  False  \n",
       "\n",
       "[67 rows x 22 columns]"
      ],
      "text/html": "<div>\n<style scoped>\n    .dataframe tbody tr th:only-of-type {\n        vertical-align: middle;\n    }\n\n    .dataframe tbody tr th {\n        vertical-align: top;\n    }\n\n    .dataframe thead th {\n        text-align: right;\n    }\n</style>\n<table border=\"1\" class=\"dataframe\">\n  <thead>\n    <tr style=\"text-align: right;\">\n      <th></th>\n      <th>c0mS/cm</th>\n      <th>c1mS/cm</th>\n      <th>flECO-AFL</th>\n      <th>sbeox0V</th>\n      <th>t090C</th>\n      <th>t190C</th>\n      <th>timeS</th>\n      <th>sbeox1V</th>\n      <th>par</th>\n      <th>turbWETntu0</th>\n      <th>...</th>\n      <th>sigma-t00</th>\n      <th>sigma-t11</th>\n      <th>sbeox0ML/L</th>\n      <th>sbox0Mm/Kg</th>\n      <th>sbeox0PS</th>\n      <th>sbeox1ML/L</th>\n      <th>sbox1Mm/Kg</th>\n      <th>sbeox1PS</th>\n      <th>nbin</th>\n      <th>flag</th>\n    </tr>\n    <tr>\n      <th>Pressure [dbar]</th>\n      <th></th>\n      <th></th>\n      <th></th>\n      <th></th>\n      <th></th>\n      <th></th>\n      <th></th>\n      <th></th>\n      <th></th>\n      <th></th>\n      <th></th>\n      <th></th>\n      <th></th>\n      <th></th>\n      <th></th>\n      <th></th>\n      <th></th>\n      <th></th>\n      <th></th>\n      <th></th>\n      <th></th>\n    </tr>\n  </thead>\n  <tbody>\n    <tr>\n      <th>1.0</th>\n      <td>29.753597</td>\n      <td>29.757207</td>\n      <td>0.4821</td>\n      <td>2.5202</td>\n      <td>3.6086</td>\n      <td>3.6106</td>\n      <td>112.124</td>\n      <td>2.5944</td>\n      <td>304.01000</td>\n      <td>0.6675</td>\n      <td>...</td>\n      <td>25.4895</td>\n      <td>25.4912</td>\n      <td>7.3258</td>\n      <td>319.039</td>\n      <td>98.191</td>\n      <td>7.2834</td>\n      <td>317.191</td>\n      <td>97.628</td>\n      <td>15.0</td>\n      <td>False</td>\n    </tr>\n    <tr>\n      <th>2.0</th>\n      <td>29.755165</td>\n      <td>29.756555</td>\n      <td>0.5064</td>\n      <td>2.5197</td>\n      <td>3.6097</td>\n      <td>3.6089</td>\n      <td>113.162</td>\n      <td>2.5965</td>\n      <td>231.14000</td>\n      <td>0.6915</td>\n      <td>...</td>\n      <td>25.4896</td>\n      <td>25.4916</td>\n      <td>7.3273</td>\n      <td>319.103</td>\n      <td>98.213</td>\n      <td>7.2978</td>\n      <td>317.820</td>\n      <td>97.818</td>\n      <td>23.0</td>\n      <td>False</td>\n    </tr>\n    <tr>\n      <th>3.0</th>\n      <td>29.757821</td>\n      <td>29.759602</td>\n      <td>0.4824</td>\n      <td>2.5203</td>\n      <td>3.6125</td>\n      <td>3.6125</td>\n      <td>116.405</td>\n      <td>2.5987</td>\n      <td>172.83000</td>\n      <td>0.6696</td>\n      <td>...</td>\n      <td>25.4893</td>\n      <td>25.4910</td>\n      <td>7.3337</td>\n      <td>319.381</td>\n      <td>98.305</td>\n      <td>7.3013</td>\n      <td>317.971</td>\n      <td>97.873</td>\n      <td>35.0</td>\n      <td>False</td>\n    </tr>\n    <tr>\n      <th>4.0</th>\n      <td>29.765491</td>\n      <td>29.766984</td>\n      <td>0.5234</td>\n      <td>2.5208</td>\n      <td>3.6211</td>\n      <td>3.6207</td>\n      <td>149.648</td>\n      <td>2.6022</td>\n      <td>136.68000</td>\n      <td>0.6786</td>\n      <td>...</td>\n      <td>25.4886</td>\n      <td>25.4904</td>\n      <td>7.3304</td>\n      <td>319.238</td>\n      <td>98.282</td>\n      <td>7.3011</td>\n      <td>317.964</td>\n      <td>97.891</td>\n      <td>37.0</td>\n      <td>False</td>\n    </tr>\n    <tr>\n      <th>5.0</th>\n      <td>29.764901</td>\n      <td>29.766794</td>\n      <td>0.5624</td>\n      <td>2.5207</td>\n      <td>3.6198</td>\n      <td>3.6198</td>\n      <td>167.871</td>\n      <td>2.6045</td>\n      <td>112.94000</td>\n      <td>0.6606</td>\n      <td>...</td>\n      <td>25.4887</td>\n      <td>25.4905</td>\n      <td>7.3354</td>\n      <td>319.457</td>\n      <td>98.346</td>\n      <td>7.3068</td>\n      <td>318.212</td>\n      <td>97.965</td>\n      <td>36.0</td>\n      <td>False</td>\n    </tr>\n    <tr>\n      <th>...</th>\n      <td>...</td>\n      <td>...</td>\n      <td>...</td>\n      <td>...</td>\n      <td>...</td>\n      <td>...</td>\n      <td>...</td>\n      <td>...</td>\n      <td>...</td>\n      <td>...</td>\n      <td>...</td>\n      <td>...</td>\n      <td>...</td>\n      <td>...</td>\n      <td>...</td>\n      <td>...</td>\n      <td>...</td>\n      <td>...</td>\n      <td>...</td>\n      <td>...</td>\n      <td>...</td>\n    </tr>\n    <tr>\n      <th>63.0</th>\n      <td>29.781214</td>\n      <td>29.783378</td>\n      <td>0.7888</td>\n      <td>2.4997</td>\n      <td>3.6091</td>\n      <td>3.6094</td>\n      <td>503.219</td>\n      <td>2.5851</td>\n      <td>0.20995</td>\n      <td>1.2531</td>\n      <td>...</td>\n      <td>25.4896</td>\n      <td>25.4914</td>\n      <td>7.3121</td>\n      <td>318.442</td>\n      <td>98.009</td>\n      <td>7.3056</td>\n      <td>318.157</td>\n      <td>97.923</td>\n      <td>35.0</td>\n      <td>False</td>\n    </tr>\n    <tr>\n      <th>64.0</th>\n      <td>29.781581</td>\n      <td>29.783670</td>\n      <td>0.8303</td>\n      <td>2.5250</td>\n      <td>3.6090</td>\n      <td>3.6094</td>\n      <td>506.872</td>\n      <td>2.5860</td>\n      <td>0.20996</td>\n      <td>1.3506</td>\n      <td>...</td>\n      <td>25.4897</td>\n      <td>25.4913</td>\n      <td>7.4655</td>\n      <td>325.122</td>\n      <td>100.064</td>\n      <td>7.3082</td>\n      <td>318.270</td>\n      <td>97.958</td>\n      <td>53.0</td>\n      <td>False</td>\n    </tr>\n    <tr>\n      <th>65.0</th>\n      <td>29.782189</td>\n      <td>29.784315</td>\n      <td>0.7998</td>\n      <td>2.5467</td>\n      <td>3.6093</td>\n      <td>3.6096</td>\n      <td>511.657</td>\n      <td>2.5859</td>\n      <td>0.20993</td>\n      <td>1.2990</td>\n      <td>...</td>\n      <td>25.4896</td>\n      <td>25.4914</td>\n      <td>7.5336</td>\n      <td>328.086</td>\n      <td>100.977</td>\n      <td>7.3031</td>\n      <td>318.051</td>\n      <td>97.891</td>\n      <td>64.0</td>\n      <td>False</td>\n    </tr>\n    <tr>\n      <th>66.0</th>\n      <td>29.782807</td>\n      <td>29.784974</td>\n      <td>0.8836</td>\n      <td>2.5173</td>\n      <td>3.6096</td>\n      <td>3.6099</td>\n      <td>517.273</td>\n      <td>2.5847</td>\n      <td>0.20994</td>\n      <td>1.6337</td>\n      <td>...</td>\n      <td>25.4895</td>\n      <td>25.4913</td>\n      <td>7.3721</td>\n      <td>321.056</td>\n      <td>98.814</td>\n      <td>7.2956</td>\n      <td>317.724</td>\n      <td>97.791</td>\n      <td>38.0</td>\n      <td>False</td>\n    </tr>\n    <tr>\n      <th>67.0</th>\n      <td>29.783384</td>\n      <td>29.785494</td>\n      <td>0.8792</td>\n      <td>2.5250</td>\n      <td>3.6096</td>\n      <td>3.6100</td>\n      <td>543.732</td>\n      <td>2.5825</td>\n      <td>0.20997</td>\n      <td>1.6697</td>\n      <td>...</td>\n      <td>25.4897</td>\n      <td>25.4913</td>\n      <td>7.4303</td>\n      <td>323.589</td>\n      <td>99.594</td>\n      <td>7.2908</td>\n      <td>317.513</td>\n      <td>97.726</td>\n      <td>28.0</td>\n      <td>False</td>\n    </tr>\n  </tbody>\n</table>\n<p>67 rows × 22 columns</p>\n</div>"
     },
     "metadata": {},
     "execution_count": 4
    }
   ],
   "source": [
    "#example of a single profile\n",
    "cruise_data['ctd001.cnv']"
   ]
  },
  {
   "cell_type": "code",
   "execution_count": 5,
   "metadata": {},
   "outputs": [
    {
     "output_type": "error",
     "ename": "KeyError",
     "evalue": "'ctd001.cnv'",
     "traceback": [
      "\u001b[0;31m---------------------------------------------------------------------------\u001b[0m",
      "\u001b[0;31mKeyError\u001b[0m                                  Traceback (most recent call last)",
      "\u001b[0;32m<ipython-input-5-a5be0ee8c1fb>\u001b[0m in \u001b[0;36m<module>\u001b[0;34m\u001b[0m\n\u001b[0;32m----> 1\u001b[0;31m \u001b[0mcruise_header\u001b[0m\u001b[0;34m[\u001b[0m\u001b[0;34m'ctd001.cnv'\u001b[0m\u001b[0;34m]\u001b[0m\u001b[0;34m\u001b[0m\u001b[0;34m\u001b[0m\u001b[0m\n\u001b[0m",
      "\u001b[0;31mKeyError\u001b[0m: 'ctd001.cnv'"
     ]
    }
   ],
   "source": [
    "cruise_header['ctd001.cnv']"
   ]
  },
  {
   "cell_type": "code",
   "execution_count": 6,
   "metadata": {},
   "outputs": [
    {
     "output_type": "execute_result",
     "data": {
      "text/plain": [
       "         c0mS/cm    c1mS/cm  flECO-AFL    sbeox0V      t090C      t190C  \\\n",
       "count  67.000000  67.000000  67.000000  67.000000  67.000000  67.000000   \n",
       "mean   29.769978  29.772047   0.789513   2.488628   3.610676   3.610854   \n",
       "std     0.006822   0.006822   0.089931   0.041992   0.004228   0.004120   \n",
       "min    29.753597  29.756555   0.482100   2.383500   3.605700   3.605900   \n",
       "25%    29.765546  29.767350   0.780450   2.478800   3.607900   3.608100   \n",
       "50%    29.768302  29.770389   0.814300   2.504100   3.609000   3.609400   \n",
       "75%    29.774870  29.777149   0.838850   2.517750   3.612000   3.612300   \n",
       "max    29.783384  29.785494   0.883600   2.546700   3.621300   3.621500   \n",
       "\n",
       "           timeS    sbeox1V         par  turbWETntu0  ...      sal11  \\\n",
       "count   67.00000  67.000000   67.000000    67.000000  ...  67.000000   \n",
       "mean   341.44903   2.596190   22.771780     0.778700  ...  32.068264   \n",
       "std     92.84064   0.006939   54.862609     0.239176  ...   0.000206   \n",
       "min    112.12400   2.582500    0.209830     0.603600  ...  32.067900   \n",
       "25%    287.51950   2.591000    0.212345     0.648950  ...  32.068100   \n",
       "50%    341.45200   2.595200    1.234100     0.685100  ...  32.068200   \n",
       "75%    394.26450   2.601600   13.511500     0.776150  ...  32.068350   \n",
       "max    543.73200   2.610000  304.010000     1.669700  ...  32.068800   \n",
       "\n",
       "       sigma-t00  sigma-t11  sbeox0ML/L  sbox0Mm/Kg    sbeox0PS  sbeox1ML/L  \\\n",
       "count  67.000000  67.000000   67.000000   67.000000   67.000000   67.000000   \n",
       "mean   25.489587  25.491396    7.245030  315.520418   97.113104    7.308734   \n",
       "std     0.000442   0.000454    0.145682    6.344420    1.956144    0.009740   \n",
       "min    25.488600  25.490200    6.878000  299.536000   92.190000    7.283400   \n",
       "25%    25.489500  25.491250    7.236000  315.127500   96.987500    7.302500   \n",
       "50%    25.489700  25.491500    7.297300  317.799000   97.818000    7.308600   \n",
       "75%    25.489900  25.491700    7.328000  319.135000   98.227000    7.315450   \n",
       "max    25.490400  25.492300    7.533600  328.086000  100.977000    7.332100   \n",
       "\n",
       "       sbox1Mm/Kg   sbeox1PS       nbin  \n",
       "count   67.000000  67.000000  67.000000  \n",
       "mean   318.294388  97.968955  36.985075  \n",
       "std      0.423840   0.135408  16.090174  \n",
       "min    317.191000  97.628000  14.000000  \n",
       "25%    318.024000  97.886000  25.500000  \n",
       "50%    318.290000  97.966000  35.000000  \n",
       "75%    318.586500  98.056000  44.500000  \n",
       "max    319.312000  98.302000  95.000000  \n",
       "\n",
       "[8 rows x 21 columns]"
      ],
      "text/html": "<div>\n<style scoped>\n    .dataframe tbody tr th:only-of-type {\n        vertical-align: middle;\n    }\n\n    .dataframe tbody tr th {\n        vertical-align: top;\n    }\n\n    .dataframe thead th {\n        text-align: right;\n    }\n</style>\n<table border=\"1\" class=\"dataframe\">\n  <thead>\n    <tr style=\"text-align: right;\">\n      <th></th>\n      <th>c0mS/cm</th>\n      <th>c1mS/cm</th>\n      <th>flECO-AFL</th>\n      <th>sbeox0V</th>\n      <th>t090C</th>\n      <th>t190C</th>\n      <th>timeS</th>\n      <th>sbeox1V</th>\n      <th>par</th>\n      <th>turbWETntu0</th>\n      <th>...</th>\n      <th>sal11</th>\n      <th>sigma-t00</th>\n      <th>sigma-t11</th>\n      <th>sbeox0ML/L</th>\n      <th>sbox0Mm/Kg</th>\n      <th>sbeox0PS</th>\n      <th>sbeox1ML/L</th>\n      <th>sbox1Mm/Kg</th>\n      <th>sbeox1PS</th>\n      <th>nbin</th>\n    </tr>\n  </thead>\n  <tbody>\n    <tr>\n      <th>count</th>\n      <td>67.000000</td>\n      <td>67.000000</td>\n      <td>67.000000</td>\n      <td>67.000000</td>\n      <td>67.000000</td>\n      <td>67.000000</td>\n      <td>67.00000</td>\n      <td>67.000000</td>\n      <td>67.000000</td>\n      <td>67.000000</td>\n      <td>...</td>\n      <td>67.000000</td>\n      <td>67.000000</td>\n      <td>67.000000</td>\n      <td>67.000000</td>\n      <td>67.000000</td>\n      <td>67.000000</td>\n      <td>67.000000</td>\n      <td>67.000000</td>\n      <td>67.000000</td>\n      <td>67.000000</td>\n    </tr>\n    <tr>\n      <th>mean</th>\n      <td>29.769978</td>\n      <td>29.772047</td>\n      <td>0.789513</td>\n      <td>2.488628</td>\n      <td>3.610676</td>\n      <td>3.610854</td>\n      <td>341.44903</td>\n      <td>2.596190</td>\n      <td>22.771780</td>\n      <td>0.778700</td>\n      <td>...</td>\n      <td>32.068264</td>\n      <td>25.489587</td>\n      <td>25.491396</td>\n      <td>7.245030</td>\n      <td>315.520418</td>\n      <td>97.113104</td>\n      <td>7.308734</td>\n      <td>318.294388</td>\n      <td>97.968955</td>\n      <td>36.985075</td>\n    </tr>\n    <tr>\n      <th>std</th>\n      <td>0.006822</td>\n      <td>0.006822</td>\n      <td>0.089931</td>\n      <td>0.041992</td>\n      <td>0.004228</td>\n      <td>0.004120</td>\n      <td>92.84064</td>\n      <td>0.006939</td>\n      <td>54.862609</td>\n      <td>0.239176</td>\n      <td>...</td>\n      <td>0.000206</td>\n      <td>0.000442</td>\n      <td>0.000454</td>\n      <td>0.145682</td>\n      <td>6.344420</td>\n      <td>1.956144</td>\n      <td>0.009740</td>\n      <td>0.423840</td>\n      <td>0.135408</td>\n      <td>16.090174</td>\n    </tr>\n    <tr>\n      <th>min</th>\n      <td>29.753597</td>\n      <td>29.756555</td>\n      <td>0.482100</td>\n      <td>2.383500</td>\n      <td>3.605700</td>\n      <td>3.605900</td>\n      <td>112.12400</td>\n      <td>2.582500</td>\n      <td>0.209830</td>\n      <td>0.603600</td>\n      <td>...</td>\n      <td>32.067900</td>\n      <td>25.488600</td>\n      <td>25.490200</td>\n      <td>6.878000</td>\n      <td>299.536000</td>\n      <td>92.190000</td>\n      <td>7.283400</td>\n      <td>317.191000</td>\n      <td>97.628000</td>\n      <td>14.000000</td>\n    </tr>\n    <tr>\n      <th>25%</th>\n      <td>29.765546</td>\n      <td>29.767350</td>\n      <td>0.780450</td>\n      <td>2.478800</td>\n      <td>3.607900</td>\n      <td>3.608100</td>\n      <td>287.51950</td>\n      <td>2.591000</td>\n      <td>0.212345</td>\n      <td>0.648950</td>\n      <td>...</td>\n      <td>32.068100</td>\n      <td>25.489500</td>\n      <td>25.491250</td>\n      <td>7.236000</td>\n      <td>315.127500</td>\n      <td>96.987500</td>\n      <td>7.302500</td>\n      <td>318.024000</td>\n      <td>97.886000</td>\n      <td>25.500000</td>\n    </tr>\n    <tr>\n      <th>50%</th>\n      <td>29.768302</td>\n      <td>29.770389</td>\n      <td>0.814300</td>\n      <td>2.504100</td>\n      <td>3.609000</td>\n      <td>3.609400</td>\n      <td>341.45200</td>\n      <td>2.595200</td>\n      <td>1.234100</td>\n      <td>0.685100</td>\n      <td>...</td>\n      <td>32.068200</td>\n      <td>25.489700</td>\n      <td>25.491500</td>\n      <td>7.297300</td>\n      <td>317.799000</td>\n      <td>97.818000</td>\n      <td>7.308600</td>\n      <td>318.290000</td>\n      <td>97.966000</td>\n      <td>35.000000</td>\n    </tr>\n    <tr>\n      <th>75%</th>\n      <td>29.774870</td>\n      <td>29.777149</td>\n      <td>0.838850</td>\n      <td>2.517750</td>\n      <td>3.612000</td>\n      <td>3.612300</td>\n      <td>394.26450</td>\n      <td>2.601600</td>\n      <td>13.511500</td>\n      <td>0.776150</td>\n      <td>...</td>\n      <td>32.068350</td>\n      <td>25.489900</td>\n      <td>25.491700</td>\n      <td>7.328000</td>\n      <td>319.135000</td>\n      <td>98.227000</td>\n      <td>7.315450</td>\n      <td>318.586500</td>\n      <td>98.056000</td>\n      <td>44.500000</td>\n    </tr>\n    <tr>\n      <th>max</th>\n      <td>29.783384</td>\n      <td>29.785494</td>\n      <td>0.883600</td>\n      <td>2.546700</td>\n      <td>3.621300</td>\n      <td>3.621500</td>\n      <td>543.73200</td>\n      <td>2.610000</td>\n      <td>304.010000</td>\n      <td>1.669700</td>\n      <td>...</td>\n      <td>32.068800</td>\n      <td>25.490400</td>\n      <td>25.492300</td>\n      <td>7.533600</td>\n      <td>328.086000</td>\n      <td>100.977000</td>\n      <td>7.332100</td>\n      <td>319.312000</td>\n      <td>98.302000</td>\n      <td>95.000000</td>\n    </tr>\n  </tbody>\n</table>\n<p>8 rows × 21 columns</p>\n</div>"
     },
     "metadata": {},
     "execution_count": 6
    }
   ],
   "source": [
    "#preview a dataframe\n",
    "cruise_data['ctd001.cnv'].describe()"
   ]
  },
  {
   "cell_type": "markdown",
   "id": "ready-audit",
   "metadata": {},
   "source": [
    "## Time Properties\n",
    "\n",
    "Not traditionally dealt with for CTD files as they are likely dynamically updated via GPS feed.\n",
    "\n",
    "## Depth Properties and other assumptions\n",
    "\n",
    "- currently, all processing and binning (1m for FOCI) is done via seabird routines and the windows software.  This may change with the python ctd package for a few tasks"
   ]
  },
  {
   "cell_type": "markdown",
   "id": "acknowledged-active",
   "metadata": {},
   "source": [
    "## Add Deployment meta information\n",
    "\n",
    "Two methods are available (if comming from python2 world - ordereddict was important... in py38 a dictionary is inherently ordered)"
   ]
  },
  {
   "cell_type": "code",
   "execution_count": 7,
   "id": "freelance-fairy",
   "metadata": {},
   "outputs": [
    {
     "output_type": "error",
     "ename": "FileNotFoundError",
     "evalue": "[Errno 2] No such file or directory: '../staticdata/cruise_example.yaml'",
     "traceback": [
      "\u001b[0;31m---------------------------------------------------------------------------\u001b[0m",
      "\u001b[0;31mFileNotFoundError\u001b[0m                         Traceback (most recent call last)",
      "\u001b[0;32m<ipython-input-7-c46baf7d6ecb>\u001b[0m in \u001b[0;36m<module>\u001b[0;34m\u001b[0m\n\u001b[1;32m      1\u001b[0m \u001b[0;31m#just a dictionary of dictionaries - simple\u001b[0m\u001b[0;34m\u001b[0m\u001b[0;34m\u001b[0m\u001b[0;34m\u001b[0m\u001b[0m\n\u001b[0;32m----> 2\u001b[0;31m \u001b[0;32mwith\u001b[0m \u001b[0mopen\u001b[0m\u001b[0;34m(\u001b[0m\u001b[0mcruise_meta_file\u001b[0m\u001b[0;34m)\u001b[0m \u001b[0;32mas\u001b[0m \u001b[0mfile\u001b[0m\u001b[0;34m:\u001b[0m\u001b[0;34m\u001b[0m\u001b[0;34m\u001b[0m\u001b[0m\n\u001b[0m\u001b[1;32m      3\u001b[0m     \u001b[0mcruise_config\u001b[0m \u001b[0;34m=\u001b[0m \u001b[0myaml\u001b[0m\u001b[0;34m.\u001b[0m\u001b[0mfull_load\u001b[0m\u001b[0;34m(\u001b[0m\u001b[0mfile\u001b[0m\u001b[0;34m)\u001b[0m\u001b[0;34m\u001b[0m\u001b[0;34m\u001b[0m\u001b[0m\n",
      "\u001b[0;31mFileNotFoundError\u001b[0m: [Errno 2] No such file or directory: '../staticdata/cruise_example.yaml'"
     ]
    }
   ],
   "source": [
    "#just a dictionary of dictionaries - simple\n",
    "with open(cruise_meta_file) as file:\n",
    "    cruise_config = yaml.full_load(file)"
   ]
  },
  {
   "cell_type": "code",
   "execution_count": 11,
   "id": "proper-ghana",
   "metadata": {},
   "outputs": [],
   "source": [
    "#Generates an ordereddict but prints better for summary\n",
    "#likely to be depricated as an ordered dict may not be useful and drops a dependency if its EOL\n",
    "mooring_config_v2 = load_config.load_config(mooring_meta_file)"
   ]
  },
  {
   "cell_type": "code",
   "execution_count": 12,
   "id": "israeli-begin",
   "metadata": {},
   "outputs": [
    {
     "output_type": "execute_result",
     "data": {
      "text/plain": [
       "{'InstType': 'SBE-16',\n",
       " 'SerialNo': '7166',\n",
       " 'DesignedDepth': 1.0,\n",
       " 'ActualDepth': 0.0,\n",
       " 'PreDeploymentNotes': 'UAF',\n",
       " 'PostDeploymentNotes': '',\n",
       " 'Deployed': 'y',\n",
       " 'Recovered': 'y'}"
      ]
     },
     "metadata": {},
     "execution_count": 12
    }
   ],
   "source": [
    "mooring_config['Instrumentation'][instrument]"
   ]
  },
  {
   "cell_type": "markdown",
   "id": "mysterious-cornwall",
   "metadata": {},
   "source": [
    "## Add Instrument meta information\n",
    "\n",
    "Time, depth, lat, lon should be added regardless (always our coordinates) but for a mooring site its going to be a (1,1,1,t) dataset\n",
    "The variables of interest should be read from the data file and matched to a key for naming.  That key is in the inst_config file seen below and should represent common conversion names in the raw data"
   ]
  },
  {
   "cell_type": "code",
   "execution_count": 13,
   "id": "checked-raise",
   "metadata": {
    "tags": []
   },
   "outputs": [
    {
     "output_type": "execute_result",
     "data": {
      "text/plain": [
       "{'time': {'epic_key': 'TIM_601',\n",
       "  'name': 'time',\n",
       "  'generic_name': 'time',\n",
       "  'standard_name': 'time',\n",
       "  'long_name': 'date and time since reference time',\n",
       "  'time_origin': '1900-01-01 00:00:00',\n",
       "  'units': 'days since 1900-01-01T00:00:00Z'},\n",
       " 'depth': {'epic_key': 'D_3',\n",
       "  'generic_name': 'depth',\n",
       "  'units': 'meter',\n",
       "  'long_name': 'depth below surface (meters)',\n",
       "  'standard_name': 'depth'},\n",
       " 'latitude': {'epic_key': 'LON_501',\n",
       "  'name': 'latitude',\n",
       "  'generic_name': 'latitude',\n",
       "  'units': 'degrees_north',\n",
       "  'long_name': 'latitude',\n",
       "  'standard_name': 'latitude'},\n",
       " 'longitude': {'epic_key': 'LAT_500',\n",
       "  'name': 'longitude',\n",
       "  'generic_name': 'longitude',\n",
       "  'units': 'degrees_east',\n",
       "  'long_name': 'longitude',\n",
       "  'standard_name': 'longitude'},\n",
       " 'timeseries_id': {'cf_role': 'timeseries_id',\n",
       "  'long_name': 'timeseries id',\n",
       "  'standard_name': ''},\n",
       " 'temperature': {'epic_key': 'T_20',\n",
       "  'generic_name': 'temp',\n",
       "  'long_name': 'Sea temperature in-situ ITS-90 scale',\n",
       "  'standard_name': 'sea_water_temperature',\n",
       "  'units': 'degree_C'},\n",
       " 'pressure': {'epic_key': 'P_1',\n",
       "  'generic_name': 'pres',\n",
       "  'units': 'decibar',\n",
       "  'long_name': 'Sea water pressure, equals 0 at sea-level',\n",
       "  'standard_name': 'sea_water_pressure_due_to_sea_water'},\n",
       " 'conductivity': {'epic_key': 'C_50',\n",
       "  'generic_name': 'cond',\n",
       "  'units': 'mmho/cm',\n",
       "  'long_name': 'Sea water conductivity',\n",
       "  'standard_name': 'sea_water_electrical_conductivity'},\n",
       " 'salinity': {'epic_key': 'S_41',\n",
       "  'generic_name': 'psal',\n",
       "  'units': 'PSU',\n",
       "  'long_name': 'Practical salinity in-situ PSS-78 scale',\n",
       "  'standard_name': 'sea_water_practical_salinity'},\n",
       " 'chlor_fluorescence': {'epic_key': 'Fch_906',\n",
       "  'generic_name': 'chlor_fluorescence',\n",
       "  'long_name': 'Mass Concdentration of chlorophyll from chlorophyll fluorescence',\n",
       "  'standard_name': 'mass_concentration_of_chlorophyll_in_sea_water',\n",
       "  'units': 'ugrams/l'},\n",
       " 'fluor_volts': {'epic_key': 'Fvt_900',\n",
       "  'generic_name': 'fluor_volts',\n",
       "  'long_name': 'Voltage recorded from fluorometer',\n",
       "  'standard_name': 'fluorometer_voltage',\n",
       "  'units': 'Volts'},\n",
       " 'par': {'generic_name': 'par',\n",
       "  'epic_key': 'PAR_908',\n",
       "  'long_name': 'Photosynthetic Active Radiation',\n",
       "  'standard_name': 'omnidirectional_photosynthetic_photon_spherical_irradiance_in_sea_water',\n",
       "  'units': 'uEin cm-2 s-1'},\n",
       " 'par_volts': {'generic_name': 'par_volts',\n",
       "  'epic_key': 'PAR_916',\n",
       "  'long_name': 'Photosynthetic Active Radiation Volts',\n",
       "  'standard_name': 'omnidirectional_photosynthetic_photon_spherical_irradiance_in_sea_water_volts',\n",
       "  'units': 'Volts'},\n",
       " 'oxy_conc': {'generic_name': 'oxy_conc',\n",
       "  'epic_key': 'O_65',\n",
       "  'long_name': 'concentration of oxygen in seawater',\n",
       "  'standard_name': 'mole_concentration_of_dissolved_molecular_oxygen_in_sea_water',\n",
       "  'units': 'micromole/kg'},\n",
       " 'oxy_percentsat': {'generic_name': 'oxy_psat',\n",
       "  'epic_key': 'OST_62',\n",
       "  'units': 'percent',\n",
       "  'long_name': 'Percent Saturation of oxygen over air',\n",
       "  'standard_name': 'fractional_saturation_of_oxygen_in_sea_water'}}"
      ]
     },
     "metadata": {},
     "execution_count": 13
    }
   ],
   "source": [
    "with open(inst_meta_file) as file:\n",
    "    inst_config = yaml.full_load(file)\n",
    "inst_config"
   ]
  },
  {
   "cell_type": "code",
   "execution_count": 14,
   "metadata": {},
   "outputs": [
    {
     "output_type": "execute_result",
     "data": {
      "text/plain": [
       "                        timeJV2  temperature  salinity  oxy_conc  oxy_concM  \\\n",
       "date_time                                                                     \n",
       "2016-09-11 15:00:00  129.750255       5.3333   31.7828   320.326     7.3525   \n",
       "\n",
       "                     sigma_theta  Attenuation  Transmittance  \\\n",
       "date_time                                                      \n",
       "2016-09-11 15:00:00      25.0887       1.4648        69.3366   \n",
       "\n",
       "                     chlor_fluorescence  flag  \n",
       "date_time                                      \n",
       "2016-09-11 15:00:00             10.9974   0.0  "
      ],
      "text/html": "<div>\n<style scoped>\n    .dataframe tbody tr th:only-of-type {\n        vertical-align: middle;\n    }\n\n    .dataframe tbody tr th {\n        vertical-align: top;\n    }\n\n    .dataframe thead th {\n        text-align: right;\n    }\n</style>\n<table border=\"1\" class=\"dataframe\">\n  <thead>\n    <tr style=\"text-align: right;\">\n      <th></th>\n      <th>timeJV2</th>\n      <th>temperature</th>\n      <th>salinity</th>\n      <th>oxy_conc</th>\n      <th>oxy_concM</th>\n      <th>sigma_theta</th>\n      <th>Attenuation</th>\n      <th>Transmittance</th>\n      <th>chlor_fluorescence</th>\n      <th>flag</th>\n    </tr>\n    <tr>\n      <th>date_time</th>\n      <th></th>\n      <th></th>\n      <th></th>\n      <th></th>\n      <th></th>\n      <th></th>\n      <th></th>\n      <th></th>\n      <th></th>\n      <th></th>\n    </tr>\n  </thead>\n  <tbody>\n    <tr>\n      <th>2016-09-11 15:00:00</th>\n      <td>129.750255</td>\n      <td>5.3333</td>\n      <td>31.7828</td>\n      <td>320.326</td>\n      <td>7.3525</td>\n      <td>25.0887</td>\n      <td>1.4648</td>\n      <td>69.3366</td>\n      <td>10.9974</td>\n      <td>0.0</td>\n    </tr>\n  </tbody>\n</table>\n</div>"
     },
     "metadata": {},
     "execution_count": 14
    }
   ],
   "source": [
    "#sbe16 data uses header info to name variables... but we want standard names from the dictionary I've created, so we need to rename column variables appropriately\n",
    "#rename values to appropriate names, if a value isn't in the .yaml file, you can add it\n",
    "sbe16_wop_data = sbe16_wop_data.rename(columns={'tv290C':'temperature',\n",
    "                        'sal00':'salinity',\n",
    "                        'sbeox0Mm/Kg':'oxy_conc',\n",
    "                        'sbeox0ML/L':'oxy_concM',\n",
    "                        'sigma-È00':'sigma_theta',\n",
    "                        'CStarAt0':'Attenuation',\n",
    "                        'CStarTr0':'Transmittance',\n",
    "                        'flECO-AFL':'chlor_fluorescence',\n",
    "                        'empty':'empty', #this will be ignored\n",
    "                        'flag':'flag'})\n",
    "sbe16_wop_data.sample()"
   ]
  },
  {
   "cell_type": "code",
   "execution_count": 14,
   "id": "varied-popularity",
   "metadata": {},
   "outputs": [
    {
     "output_type": "execute_result",
     "data": {
      "text/plain": [
       "<EcoFOCIpy.io.ncCFsave.EcoFOCI_CFnc_moored at 0x165d436d0>"
      ]
     },
     "metadata": {},
     "execution_count": 14
    }
   ],
   "source": [
    "# Add meta data and prelim processing based on meta data\n",
    "# Convert to xarray and add meta information - save as CF netcdf file\n",
    "# pass -> data, instmeta, depmeta\n",
    "sbe16_wop_nc = ncCFsave.EcoFOCI_CFnc_moored(df=sbe16_wop_data, \n",
    "                                instrument_yaml=inst_config, \n",
    "                                mooring_yaml=mooring_config, \n",
    "                                instrument_id=instrument, \n",
    "                                inst_shortname=inst_shortname)\n",
    "sbe16_wop_nc"
   ]
  },
  {
   "cell_type": "markdown",
   "id": "asian-chambers",
   "metadata": {},
   "source": [
    "At this point, you could save your file with the `.xarray2netcdf_save()` method and have a functioning dataset.... but it would be very simple with no additional qc, meta-data, or tuned parameters for optimizing software like ferret or erddap."
   ]
  },
  {
   "cell_type": "code",
   "execution_count": 15,
   "id": "practical-pennsylvania",
   "metadata": {},
   "outputs": [],
   "source": [
    "# expand the dimensions and coordinate variables\n",
    "# renames them appropriatley and prepares them for meta-filled values\n",
    "sbe16_wop_nc.expand_dimensions()"
   ]
  },
  {
   "cell_type": "code",
   "execution_count": 16,
   "id": "floral-operations",
   "metadata": {},
   "outputs": [],
   "source": [
    "#build list from columsn in data - if a variable isn't in the yaml file, it will be dropped from the final data fields\n",
    "sbe16_wop_nc.variable_meta_data(variable_keys=list(sbe16_wop_data.columns.values),drop_missing=True)\n",
    "sbe16_wop_nc.temporal_geospatioal_meta_data(depth='designed')\n",
    "#adding dimension meta needs to come after updating the dimension values... BUG?\n",
    "sbe16_wop_nc.dimension_meta_data(variable_keys=['depth','latitude','longitude'])"
   ]
  },
  {
   "cell_type": "markdown",
   "id": "seventh-product",
   "metadata": {},
   "source": [
    "The following steps can happen in just about any order and are all meta-data driven.  Therefore, they are not required to have a functioning dataset, but they are required to have a well described dataset"
   ]
  },
  {
   "cell_type": "code",
   "execution_count": 17,
   "id": "auburn-diversity",
   "metadata": {},
   "outputs": [],
   "source": [
    "#add global attributes\n",
    "sbe16_wop_nc.deployment_meta_add()\n",
    "sbe16_wop_nc.get_xdf()\n",
    "\n",
    "#add instituitonal global attributes\n",
    "sbe16_wop_nc.institution_meta_add()\n",
    "\n",
    "#add creation date/time - provenance data\n",
    "sbe16_wop_nc.provinance_meta_add()\n",
    "\n",
    "#provide intial qc status field\n",
    "sbe16_wop_nc.qc_status(qc_status='unknown')\n"
   ]
  },
  {
   "cell_type": "markdown",
   "id": "sustained-hughes",
   "metadata": {},
   "source": [
    "## Save CF Netcdf files\n",
    "\n",
    "Currently stick to netcdf3 classic... but migrating to netcdf4 (default) may be no problems for most modern purposes.  Its easy enough to pass the `format` kwargs through to the netcdf api of xarray."
   ]
  },
  {
   "cell_type": "code",
   "execution_count": 18,
   "id": "modular-volunteer",
   "metadata": {},
   "outputs": [],
   "source": [
    "# combine trim (not mandatory) and filename together (saves to test.nc without name)\n",
    "sbe16_wop_nc.xarray2netcdf_save(xdf = sbe16_wop_nc.autotrim_time(),\n",
    "                           filename=sbe16_wop_nc.filename_const(),format=\"NETCDF3_CLASSIC\")\n",
    "\n",
    "# don't trim the data and pass your own filename\n",
    "sbe16_wop_nc.xarray2netcdf_save(xdf = sbe16_wop_nc.get_xdf(),\n",
    "                           filename=sbe16_wop_nc.filename_const(manual_label='test'),format=\"NETCDF4_CLASSIC\")"
   ]
  },
  {
   "cell_type": "code",
   "execution_count": 19,
   "id": "unlike-breathing",
   "metadata": {},
   "outputs": [
    {
     "output_type": "execute_result",
     "data": {
      "text/plain": [
       "<xarray.Dataset>\n",
       "Dimensions:             (depth: 1, latitude: 1, longitude: 1, time: 71)\n",
       "Coordinates:\n",
       "  * time                (time) datetime64[ns] 2016-09-07T18:00:00 ... 2016-09...\n",
       "  * longitude           (longitude) float64 -164.0\n",
       "  * latitude            (latitude) float64 56.87\n",
       "  * depth               (depth) float64 1.0\n",
       "Data variables:\n",
       "    temperature         (time, depth, latitude, longitude) float64 6.771 ... ...\n",
       "    salinity            (time, depth, latitude, longitude) float64 0.0032 ......\n",
       "    oxy_conc            (time, depth, latitude, longitude) float64 368.8 ... ...\n",
       "    chlor_fluorescence  (time, depth, latitude, longitude) float64 -0.0616 .....\n",
       "Attributes: (12/13)\n",
       "    Latitude-Deg_MM.dd_W:                   56 52.1729 N\n",
       "    Longitude-Deg_MM.dd_N:                  164 02.8716 W\n",
       "    MooringID:                              16BSM-2A\n",
       "    platform_deployment_date:               2016-05-05T05:51:00Z\n",
       "    platform_deployment_cruise_name:        DY1606\n",
       "    platform_recovery_date:                 2016-09-29T03:45:00Z\n",
       "    ...                                     ...\n",
       "    platform_deployment_recovery_comments:  Depth not listed - other two moor...\n",
       "    WaterDepth:                             71.0\n",
       "    date_created:                           2021-03-31T12:34:48Z\n",
       "    date_modified:                          \n",
       "    QC_indicator:                           unknown\n",
       "    history:                                Trimmed to deployment."
      ],
      "text/html": "<div><svg style=\"position: absolute; width: 0; height: 0; overflow: hidden\">\n<defs>\n<symbol id=\"icon-database\" viewBox=\"0 0 32 32\">\n<path d=\"M16 0c-8.837 0-16 2.239-16 5v4c0 2.761 7.163 5 16 5s16-2.239 16-5v-4c0-2.761-7.163-5-16-5z\"></path>\n<path d=\"M16 17c-8.837 0-16-2.239-16-5v6c0 2.761 7.163 5 16 5s16-2.239 16-5v-6c0 2.761-7.163 5-16 5z\"></path>\n<path d=\"M16 26c-8.837 0-16-2.239-16-5v6c0 2.761 7.163 5 16 5s16-2.239 16-5v-6c0 2.761-7.163 5-16 5z\"></path>\n</symbol>\n<symbol id=\"icon-file-text2\" viewBox=\"0 0 32 32\">\n<path d=\"M28.681 7.159c-0.694-0.947-1.662-2.053-2.724-3.116s-2.169-2.030-3.116-2.724c-1.612-1.182-2.393-1.319-2.841-1.319h-15.5c-1.378 0-2.5 1.121-2.5 2.5v27c0 1.378 1.122 2.5 2.5 2.5h23c1.378 0 2.5-1.122 2.5-2.5v-19.5c0-0.448-0.137-1.23-1.319-2.841zM24.543 5.457c0.959 0.959 1.712 1.825 2.268 2.543h-4.811v-4.811c0.718 0.556 1.584 1.309 2.543 2.268zM28 29.5c0 0.271-0.229 0.5-0.5 0.5h-23c-0.271 0-0.5-0.229-0.5-0.5v-27c0-0.271 0.229-0.5 0.5-0.5 0 0 15.499-0 15.5 0v7c0 0.552 0.448 1 1 1h7v19.5z\"></path>\n<path d=\"M23 26h-14c-0.552 0-1-0.448-1-1s0.448-1 1-1h14c0.552 0 1 0.448 1 1s-0.448 1-1 1z\"></path>\n<path d=\"M23 22h-14c-0.552 0-1-0.448-1-1s0.448-1 1-1h14c0.552 0 1 0.448 1 1s-0.448 1-1 1z\"></path>\n<path d=\"M23 18h-14c-0.552 0-1-0.448-1-1s0.448-1 1-1h14c0.552 0 1 0.448 1 1s-0.448 1-1 1z\"></path>\n</symbol>\n</defs>\n</svg>\n<style>/* CSS stylesheet for displaying xarray objects in jupyterlab.\n *\n */\n\n:root {\n  --xr-font-color0: var(--jp-content-font-color0, rgba(0, 0, 0, 1));\n  --xr-font-color2: var(--jp-content-font-color2, rgba(0, 0, 0, 0.54));\n  --xr-font-color3: var(--jp-content-font-color3, rgba(0, 0, 0, 0.38));\n  --xr-border-color: var(--jp-border-color2, #e0e0e0);\n  --xr-disabled-color: var(--jp-layout-color3, #bdbdbd);\n  --xr-background-color: var(--jp-layout-color0, white);\n  --xr-background-color-row-even: var(--jp-layout-color1, white);\n  --xr-background-color-row-odd: var(--jp-layout-color2, #eeeeee);\n}\n\nhtml[theme=dark],\nbody.vscode-dark {\n  --xr-font-color0: rgba(255, 255, 255, 1);\n  --xr-font-color2: rgba(255, 255, 255, 0.54);\n  --xr-font-color3: rgba(255, 255, 255, 0.38);\n  --xr-border-color: #1F1F1F;\n  --xr-disabled-color: #515151;\n  --xr-background-color: #111111;\n  --xr-background-color-row-even: #111111;\n  --xr-background-color-row-odd: #313131;\n}\n\n.xr-wrap {\n  display: block;\n  min-width: 300px;\n  max-width: 700px;\n}\n\n.xr-text-repr-fallback {\n  /* fallback to plain text repr when CSS is not injected (untrusted notebook) */\n  display: none;\n}\n\n.xr-header {\n  padding-top: 6px;\n  padding-bottom: 6px;\n  margin-bottom: 4px;\n  border-bottom: solid 1px var(--xr-border-color);\n}\n\n.xr-header > div,\n.xr-header > ul {\n  display: inline;\n  margin-top: 0;\n  margin-bottom: 0;\n}\n\n.xr-obj-type,\n.xr-array-name {\n  margin-left: 2px;\n  margin-right: 10px;\n}\n\n.xr-obj-type {\n  color: var(--xr-font-color2);\n}\n\n.xr-sections {\n  padding-left: 0 !important;\n  display: grid;\n  grid-template-columns: 150px auto auto 1fr 20px 20px;\n}\n\n.xr-section-item {\n  display: contents;\n}\n\n.xr-section-item input {\n  display: none;\n}\n\n.xr-section-item input + label {\n  color: var(--xr-disabled-color);\n}\n\n.xr-section-item input:enabled + label {\n  cursor: pointer;\n  color: var(--xr-font-color2);\n}\n\n.xr-section-item input:enabled + label:hover {\n  color: var(--xr-font-color0);\n}\n\n.xr-section-summary {\n  grid-column: 1;\n  color: var(--xr-font-color2);\n  font-weight: 500;\n}\n\n.xr-section-summary > span {\n  display: inline-block;\n  padding-left: 0.5em;\n}\n\n.xr-section-summary-in:disabled + label {\n  color: var(--xr-font-color2);\n}\n\n.xr-section-summary-in + label:before {\n  display: inline-block;\n  content: '►';\n  font-size: 11px;\n  width: 15px;\n  text-align: center;\n}\n\n.xr-section-summary-in:disabled + label:before {\n  color: var(--xr-disabled-color);\n}\n\n.xr-section-summary-in:checked + label:before {\n  content: '▼';\n}\n\n.xr-section-summary-in:checked + label > span {\n  display: none;\n}\n\n.xr-section-summary,\n.xr-section-inline-details {\n  padding-top: 4px;\n  padding-bottom: 4px;\n}\n\n.xr-section-inline-details {\n  grid-column: 2 / -1;\n}\n\n.xr-section-details {\n  display: none;\n  grid-column: 1 / -1;\n  margin-bottom: 5px;\n}\n\n.xr-section-summary-in:checked ~ .xr-section-details {\n  display: contents;\n}\n\n.xr-array-wrap {\n  grid-column: 1 / -1;\n  display: grid;\n  grid-template-columns: 20px auto;\n}\n\n.xr-array-wrap > label {\n  grid-column: 1;\n  vertical-align: top;\n}\n\n.xr-preview {\n  color: var(--xr-font-color3);\n}\n\n.xr-array-preview,\n.xr-array-data {\n  padding: 0 5px !important;\n  grid-column: 2;\n}\n\n.xr-array-data,\n.xr-array-in:checked ~ .xr-array-preview {\n  display: none;\n}\n\n.xr-array-in:checked ~ .xr-array-data,\n.xr-array-preview {\n  display: inline-block;\n}\n\n.xr-dim-list {\n  display: inline-block !important;\n  list-style: none;\n  padding: 0 !important;\n  margin: 0;\n}\n\n.xr-dim-list li {\n  display: inline-block;\n  padding: 0;\n  margin: 0;\n}\n\n.xr-dim-list:before {\n  content: '(';\n}\n\n.xr-dim-list:after {\n  content: ')';\n}\n\n.xr-dim-list li:not(:last-child):after {\n  content: ',';\n  padding-right: 5px;\n}\n\n.xr-has-index {\n  font-weight: bold;\n}\n\n.xr-var-list,\n.xr-var-item {\n  display: contents;\n}\n\n.xr-var-item > div,\n.xr-var-item label,\n.xr-var-item > .xr-var-name span {\n  background-color: var(--xr-background-color-row-even);\n  margin-bottom: 0;\n}\n\n.xr-var-item > .xr-var-name:hover span {\n  padding-right: 5px;\n}\n\n.xr-var-list > li:nth-child(odd) > div,\n.xr-var-list > li:nth-child(odd) > label,\n.xr-var-list > li:nth-child(odd) > .xr-var-name span {\n  background-color: var(--xr-background-color-row-odd);\n}\n\n.xr-var-name {\n  grid-column: 1;\n}\n\n.xr-var-dims {\n  grid-column: 2;\n}\n\n.xr-var-dtype {\n  grid-column: 3;\n  text-align: right;\n  color: var(--xr-font-color2);\n}\n\n.xr-var-preview {\n  grid-column: 4;\n}\n\n.xr-var-name,\n.xr-var-dims,\n.xr-var-dtype,\n.xr-preview,\n.xr-attrs dt {\n  white-space: nowrap;\n  overflow: hidden;\n  text-overflow: ellipsis;\n  padding-right: 10px;\n}\n\n.xr-var-name:hover,\n.xr-var-dims:hover,\n.xr-var-dtype:hover,\n.xr-attrs dt:hover {\n  overflow: visible;\n  width: auto;\n  z-index: 1;\n}\n\n.xr-var-attrs,\n.xr-var-data {\n  display: none;\n  background-color: var(--xr-background-color) !important;\n  padding-bottom: 5px !important;\n}\n\n.xr-var-attrs-in:checked ~ .xr-var-attrs,\n.xr-var-data-in:checked ~ .xr-var-data {\n  display: block;\n}\n\n.xr-var-data > table {\n  float: right;\n}\n\n.xr-var-name span,\n.xr-var-data,\n.xr-attrs {\n  padding-left: 25px !important;\n}\n\n.xr-attrs,\n.xr-var-attrs,\n.xr-var-data {\n  grid-column: 1 / -1;\n}\n\ndl.xr-attrs {\n  padding: 0;\n  margin: 0;\n  display: grid;\n  grid-template-columns: 125px auto;\n}\n\n.xr-attrs dt,\n.xr-attrs dd {\n  padding: 0;\n  margin: 0;\n  float: left;\n  padding-right: 10px;\n  width: auto;\n}\n\n.xr-attrs dt {\n  font-weight: normal;\n  grid-column: 1;\n}\n\n.xr-attrs dt:hover span {\n  display: inline-block;\n  background: var(--xr-background-color);\n  padding-right: 10px;\n}\n\n.xr-attrs dd {\n  grid-column: 2;\n  white-space: pre-wrap;\n  word-break: break-all;\n}\n\n.xr-icon-database,\n.xr-icon-file-text2 {\n  display: inline-block;\n  vertical-align: middle;\n  width: 1em;\n  height: 1.5em !important;\n  stroke-width: 0;\n  stroke: currentColor;\n  fill: currentColor;\n}\n</style><pre class='xr-text-repr-fallback'>&lt;xarray.Dataset&gt;\nDimensions:             (depth: 1, latitude: 1, longitude: 1, time: 71)\nCoordinates:\n  * time                (time) datetime64[ns] 2016-09-07T18:00:00 ... 2016-09...\n  * longitude           (longitude) float64 -164.0\n  * latitude            (latitude) float64 56.87\n  * depth               (depth) float64 1.0\nData variables:\n    temperature         (time, depth, latitude, longitude) float64 6.771 ... ...\n    salinity            (time, depth, latitude, longitude) float64 0.0032 ......\n    oxy_conc            (time, depth, latitude, longitude) float64 368.8 ... ...\n    chlor_fluorescence  (time, depth, latitude, longitude) float64 -0.0616 .....\nAttributes: (12/13)\n    Latitude-Deg_MM.dd_W:                   56 52.1729 N\n    Longitude-Deg_MM.dd_N:                  164 02.8716 W\n    MooringID:                              16BSM-2A\n    platform_deployment_date:               2016-05-05T05:51:00Z\n    platform_deployment_cruise_name:        DY1606\n    platform_recovery_date:                 2016-09-29T03:45:00Z\n    ...                                     ...\n    platform_deployment_recovery_comments:  Depth not listed - other two moor...\n    WaterDepth:                             71.0\n    date_created:                           2021-03-31T12:34:48Z\n    date_modified:                          \n    QC_indicator:                           unknown\n    history:                                Trimmed to deployment.</pre><div class='xr-wrap' hidden><div class='xr-header'><div class='xr-obj-type'>xarray.Dataset</div></div><ul class='xr-sections'><li class='xr-section-item'><input id='section-b2cdf954-7851-457a-8ceb-9ab32fb94d79' class='xr-section-summary-in' type='checkbox' disabled ><label for='section-b2cdf954-7851-457a-8ceb-9ab32fb94d79' class='xr-section-summary'  title='Expand/collapse section'>Dimensions:</label><div class='xr-section-inline-details'><ul class='xr-dim-list'><li><span class='xr-has-index'>depth</span>: 1</li><li><span class='xr-has-index'>latitude</span>: 1</li><li><span class='xr-has-index'>longitude</span>: 1</li><li><span class='xr-has-index'>time</span>: 71</li></ul></div><div class='xr-section-details'></div></li><li class='xr-section-item'><input id='section-db12f680-a43b-4f32-abbc-bd2c9ceaa6fd' class='xr-section-summary-in' type='checkbox'  checked><label for='section-db12f680-a43b-4f32-abbc-bd2c9ceaa6fd' class='xr-section-summary' >Coordinates: <span>(4)</span></label><div class='xr-section-inline-details'></div><div class='xr-section-details'><ul class='xr-var-list'><li class='xr-var-item'><div class='xr-var-name'><span class='xr-has-index'>time</span></div><div class='xr-var-dims'>(time)</div><div class='xr-var-dtype'>datetime64[ns]</div><div class='xr-var-preview xr-preview'>2016-09-07T18:00:00 ... 2016-09-...</div><input id='attrs-2f82675e-4da9-455c-98e6-a45e3a913684' class='xr-var-attrs-in' type='checkbox' disabled><label for='attrs-2f82675e-4da9-455c-98e6-a45e3a913684' title='Show/Hide attributes'><svg class='icon xr-icon-file-text2'><use xlink:href='#icon-file-text2'></use></svg></label><input id='data-17d03770-690f-4f85-a5f9-ddcf26fdb177' class='xr-var-data-in' type='checkbox'><label for='data-17d03770-690f-4f85-a5f9-ddcf26fdb177' title='Show/Hide data repr'><svg class='icon xr-icon-database'><use xlink:href='#icon-database'></use></svg></label><div class='xr-var-attrs'><dl class='xr-attrs'></dl></div><div class='xr-var-data'><pre>array([&#x27;2016-09-07T18:00:00.000000000&#x27;, &#x27;2016-09-07T21:00:00.000000000&#x27;,\n       &#x27;2016-09-08T00:00:00.000000000&#x27;, &#x27;2016-09-08T03:00:00.000000000&#x27;,\n       &#x27;2016-09-08T06:00:00.000000000&#x27;, &#x27;2016-09-08T09:00:00.000000000&#x27;,\n       &#x27;2016-09-08T12:00:00.000000000&#x27;, &#x27;2016-09-08T15:00:00.000000000&#x27;,\n       &#x27;2016-09-08T18:00:00.000000000&#x27;, &#x27;2016-09-08T21:00:00.000000000&#x27;,\n       &#x27;2016-09-09T00:00:00.000000000&#x27;, &#x27;2016-09-09T03:00:00.000000000&#x27;,\n       &#x27;2016-09-09T06:00:00.000000000&#x27;, &#x27;2016-09-09T09:00:00.000000000&#x27;,\n       &#x27;2016-09-09T12:00:00.000000000&#x27;, &#x27;2016-09-09T15:00:00.000000000&#x27;,\n       &#x27;2016-09-09T18:00:00.000000000&#x27;, &#x27;2016-09-09T21:00:00.000000000&#x27;,\n       &#x27;2016-09-10T00:00:00.000000000&#x27;, &#x27;2016-09-10T03:00:00.000000000&#x27;,\n       &#x27;2016-09-10T06:00:00.000000000&#x27;, &#x27;2016-09-10T09:00:00.000000000&#x27;,\n       &#x27;2016-09-10T12:00:00.000000000&#x27;, &#x27;2016-09-10T15:00:00.000000000&#x27;,\n       &#x27;2016-09-10T18:00:00.000000000&#x27;, &#x27;2016-09-10T21:00:00.000000000&#x27;,\n       &#x27;2016-09-11T00:00:00.000000000&#x27;, &#x27;2016-09-11T03:00:00.000000000&#x27;,\n       &#x27;2016-09-11T06:00:00.000000000&#x27;, &#x27;2016-09-11T09:00:00.000000000&#x27;,\n       &#x27;2016-09-11T12:00:00.000000000&#x27;, &#x27;2016-09-11T15:00:00.000000000&#x27;,\n       &#x27;2016-09-11T18:00:00.000000000&#x27;, &#x27;2016-09-11T21:00:00.000000000&#x27;,\n       &#x27;2016-09-12T00:00:00.000000000&#x27;, &#x27;2016-09-12T03:00:00.000000000&#x27;,\n       &#x27;2016-09-12T06:00:00.000000000&#x27;, &#x27;2016-09-12T09:00:00.000000000&#x27;,\n       &#x27;2016-09-12T12:00:00.000000000&#x27;, &#x27;2016-09-12T15:00:00.000000000&#x27;,\n       &#x27;2016-09-12T18:00:00.000000000&#x27;, &#x27;2016-09-12T21:00:00.000000000&#x27;,\n       &#x27;2016-09-13T00:00:00.000000000&#x27;, &#x27;2016-09-13T03:00:00.000000000&#x27;,\n       &#x27;2016-09-13T06:00:00.000000000&#x27;, &#x27;2016-09-13T09:00:00.000000000&#x27;,\n       &#x27;2016-09-13T12:00:00.000000000&#x27;, &#x27;2016-09-13T15:00:00.000000000&#x27;,\n       &#x27;2016-09-13T18:00:00.000000000&#x27;, &#x27;2016-09-13T21:00:00.000000000&#x27;,\n       &#x27;2016-09-14T00:00:00.000000000&#x27;, &#x27;2016-09-14T03:00:00.000000000&#x27;,\n       &#x27;2016-09-14T06:00:00.000000000&#x27;, &#x27;2016-09-14T09:00:00.000000000&#x27;,\n       &#x27;2016-09-14T12:00:00.000000000&#x27;, &#x27;2016-09-14T15:00:00.000000000&#x27;,\n       &#x27;2016-09-14T18:00:00.000000000&#x27;, &#x27;2016-09-14T21:00:00.000000000&#x27;,\n       &#x27;2016-09-15T00:00:00.000000000&#x27;, &#x27;2016-09-15T03:00:00.000000000&#x27;,\n       &#x27;2016-09-15T06:00:00.000000000&#x27;, &#x27;2016-09-15T09:00:00.000000000&#x27;,\n       &#x27;2016-09-15T12:00:00.000000000&#x27;, &#x27;2016-09-15T15:00:00.000000000&#x27;,\n       &#x27;2016-09-15T18:00:00.000000000&#x27;, &#x27;2016-09-15T21:00:00.000000000&#x27;,\n       &#x27;2016-09-16T00:00:00.000000000&#x27;, &#x27;2016-09-16T03:00:00.000000000&#x27;,\n       &#x27;2016-09-16T06:00:00.000000000&#x27;, &#x27;2016-09-16T09:00:00.000000000&#x27;,\n       &#x27;2016-09-16T12:00:00.000000000&#x27;], dtype=&#x27;datetime64[ns]&#x27;)</pre></div></li><li class='xr-var-item'><div class='xr-var-name'><span class='xr-has-index'>longitude</span></div><div class='xr-var-dims'>(longitude)</div><div class='xr-var-dtype'>float64</div><div class='xr-var-preview xr-preview'>-164.0</div><input id='attrs-3a07e478-18fc-4091-a49b-755b4d5a3431' class='xr-var-attrs-in' type='checkbox' ><label for='attrs-3a07e478-18fc-4091-a49b-755b4d5a3431' title='Show/Hide attributes'><svg class='icon xr-icon-file-text2'><use xlink:href='#icon-file-text2'></use></svg></label><input id='data-7237753e-5762-41c4-abbf-f02f6c756d91' class='xr-var-data-in' type='checkbox'><label for='data-7237753e-5762-41c4-abbf-f02f6c756d91' title='Show/Hide data repr'><svg class='icon xr-icon-database'><use xlink:href='#icon-database'></use></svg></label><div class='xr-var-attrs'><dl class='xr-attrs'><dt><span>epic_key :</span></dt><dd>LAT_500</dd><dt><span>name :</span></dt><dd>longitude</dd><dt><span>generic_name :</span></dt><dd>longitude</dd><dt><span>units :</span></dt><dd>degrees_east</dd><dt><span>long_name :</span></dt><dd>longitude</dd><dt><span>standard_name :</span></dt><dd>longitude</dd></dl></div><div class='xr-var-data'><pre>array([-164.04786])</pre></div></li><li class='xr-var-item'><div class='xr-var-name'><span class='xr-has-index'>latitude</span></div><div class='xr-var-dims'>(latitude)</div><div class='xr-var-dtype'>float64</div><div class='xr-var-preview xr-preview'>56.87</div><input id='attrs-c18d187b-3cf8-46d8-8113-3df05eb4ff98' class='xr-var-attrs-in' type='checkbox' ><label for='attrs-c18d187b-3cf8-46d8-8113-3df05eb4ff98' title='Show/Hide attributes'><svg class='icon xr-icon-file-text2'><use xlink:href='#icon-file-text2'></use></svg></label><input id='data-fc6a7a57-e582-48aa-8999-e5991054ca30' class='xr-var-data-in' type='checkbox'><label for='data-fc6a7a57-e582-48aa-8999-e5991054ca30' title='Show/Hide data repr'><svg class='icon xr-icon-database'><use xlink:href='#icon-database'></use></svg></label><div class='xr-var-attrs'><dl class='xr-attrs'><dt><span>epic_key :</span></dt><dd>LON_501</dd><dt><span>name :</span></dt><dd>latitude</dd><dt><span>generic_name :</span></dt><dd>latitude</dd><dt><span>units :</span></dt><dd>degrees_north</dd><dt><span>long_name :</span></dt><dd>latitude</dd><dt><span>standard_name :</span></dt><dd>latitude</dd></dl></div><div class='xr-var-data'><pre>array([56.869548])</pre></div></li><li class='xr-var-item'><div class='xr-var-name'><span class='xr-has-index'>depth</span></div><div class='xr-var-dims'>(depth)</div><div class='xr-var-dtype'>float64</div><div class='xr-var-preview xr-preview'>1.0</div><input id='attrs-0c8b8c48-53d7-4bd7-abf6-c6aadcb19855' class='xr-var-attrs-in' type='checkbox' ><label for='attrs-0c8b8c48-53d7-4bd7-abf6-c6aadcb19855' title='Show/Hide attributes'><svg class='icon xr-icon-file-text2'><use xlink:href='#icon-file-text2'></use></svg></label><input id='data-ef4d8301-99db-4c12-94db-86e02888bd56' class='xr-var-data-in' type='checkbox'><label for='data-ef4d8301-99db-4c12-94db-86e02888bd56' title='Show/Hide data repr'><svg class='icon xr-icon-database'><use xlink:href='#icon-database'></use></svg></label><div class='xr-var-attrs'><dl class='xr-attrs'><dt><span>epic_key :</span></dt><dd>D_3</dd><dt><span>generic_name :</span></dt><dd>depth</dd><dt><span>units :</span></dt><dd>meter</dd><dt><span>long_name :</span></dt><dd>depth below surface (meters)</dd><dt><span>standard_name :</span></dt><dd>depth</dd></dl></div><div class='xr-var-data'><pre>array([1.])</pre></div></li></ul></div></li><li class='xr-section-item'><input id='section-aced916f-4206-4caa-921c-f9c9518e8df5' class='xr-section-summary-in' type='checkbox'  checked><label for='section-aced916f-4206-4caa-921c-f9c9518e8df5' class='xr-section-summary' >Data variables: <span>(4)</span></label><div class='xr-section-inline-details'></div><div class='xr-section-details'><ul class='xr-var-list'><li class='xr-var-item'><div class='xr-var-name'><span>temperature</span></div><div class='xr-var-dims'>(time, depth, latitude, longitude)</div><div class='xr-var-dtype'>float64</div><div class='xr-var-preview xr-preview'>6.771 7.538 7.629 ... 6.443 6.296</div><input id='attrs-b3258253-e038-4420-a70b-40c68a2a5da5' class='xr-var-attrs-in' type='checkbox' ><label for='attrs-b3258253-e038-4420-a70b-40c68a2a5da5' title='Show/Hide attributes'><svg class='icon xr-icon-file-text2'><use xlink:href='#icon-file-text2'></use></svg></label><input id='data-e03d8616-9bd5-48b6-bd3e-c5d240fff0e9' class='xr-var-data-in' type='checkbox'><label for='data-e03d8616-9bd5-48b6-bd3e-c5d240fff0e9' title='Show/Hide data repr'><svg class='icon xr-icon-database'><use xlink:href='#icon-database'></use></svg></label><div class='xr-var-attrs'><dl class='xr-attrs'><dt><span>epic_key :</span></dt><dd>T_20</dd><dt><span>generic_name :</span></dt><dd>temp</dd><dt><span>long_name :</span></dt><dd>Sea temperature in-situ ITS-90 scale</dd><dt><span>standard_name :</span></dt><dd>sea_water_temperature</dd><dt><span>units :</span></dt><dd>degree_C</dd></dl></div><div class='xr-var-data'><pre>array([[[[6.771 ]]],\n\n\n       [[[7.5383]]],\n\n\n       [[[7.6292]]],\n\n\n       [[[5.5961]]],\n\n\n       [[[5.5509]]],\n\n\n       [[[5.6187]]],\n\n\n       [[[5.4563]]],\n\n...\n\n       [[[5.8994]]],\n\n\n       [[[6.2601]]],\n\n\n       [[[6.595 ]]],\n\n\n       [[[6.6678]]],\n\n\n       [[[6.545 ]]],\n\n\n       [[[6.4432]]],\n\n\n       [[[6.2956]]]])</pre></div></li><li class='xr-var-item'><div class='xr-var-name'><span>salinity</span></div><div class='xr-var-dims'>(time, depth, latitude, longitude)</div><div class='xr-var-dtype'>float64</div><div class='xr-var-preview xr-preview'>0.0032 0.0037 ... 31.81 31.81</div><input id='attrs-214e44ce-1788-4a9c-9aa8-15cdab65eebe' class='xr-var-attrs-in' type='checkbox' ><label for='attrs-214e44ce-1788-4a9c-9aa8-15cdab65eebe' title='Show/Hide attributes'><svg class='icon xr-icon-file-text2'><use xlink:href='#icon-file-text2'></use></svg></label><input id='data-5ae216a7-d066-42f4-8ebb-98439c6054b4' class='xr-var-data-in' type='checkbox'><label for='data-5ae216a7-d066-42f4-8ebb-98439c6054b4' title='Show/Hide data repr'><svg class='icon xr-icon-database'><use xlink:href='#icon-database'></use></svg></label><div class='xr-var-attrs'><dl class='xr-attrs'><dt><span>epic_key :</span></dt><dd>S_41</dd><dt><span>generic_name :</span></dt><dd>psal</dd><dt><span>units :</span></dt><dd>PSU</dd><dt><span>long_name :</span></dt><dd>Practical salinity in-situ PSS-78 scale</dd><dt><span>standard_name :</span></dt><dd>sea_water_practical_salinity</dd></dl></div><div class='xr-var-data'><pre>array([[[[3.20000e-03]]],\n\n\n       [[[3.70000e-03]]],\n\n\n       [[[3.70000e-03]]],\n\n\n       [[[3.16890e+01]]],\n\n\n       [[[3.17708e+01]]],\n\n\n       [[[3.17861e+01]]],\n\n\n       [[[3.17885e+01]]],\n\n...\n\n       [[[3.18102e+01]]],\n\n\n       [[[3.18078e+01]]],\n\n\n       [[[3.18098e+01]]],\n\n\n       [[[3.18167e+01]]],\n\n\n       [[[3.18159e+01]]],\n\n\n       [[[3.18113e+01]]],\n\n\n       [[[3.18143e+01]]]])</pre></div></li><li class='xr-var-item'><div class='xr-var-name'><span>oxy_conc</span></div><div class='xr-var-dims'>(time, depth, latitude, longitude)</div><div class='xr-var-dtype'>float64</div><div class='xr-var-preview xr-preview'>368.8 362.6 361.3 ... 341.9 353.8</div><input id='attrs-aed7da67-516a-4f76-8eb5-667d30a0b339' class='xr-var-attrs-in' type='checkbox' ><label for='attrs-aed7da67-516a-4f76-8eb5-667d30a0b339' title='Show/Hide attributes'><svg class='icon xr-icon-file-text2'><use xlink:href='#icon-file-text2'></use></svg></label><input id='data-43c59868-3c03-4bbe-acc1-61b52075abcb' class='xr-var-data-in' type='checkbox'><label for='data-43c59868-3c03-4bbe-acc1-61b52075abcb' title='Show/Hide data repr'><svg class='icon xr-icon-database'><use xlink:href='#icon-database'></use></svg></label><div class='xr-var-attrs'><dl class='xr-attrs'><dt><span>generic_name :</span></dt><dd>oxy_conc</dd><dt><span>epic_key :</span></dt><dd>O_65</dd><dt><span>long_name :</span></dt><dd>concentration of oxygen in seawater</dd><dt><span>standard_name :</span></dt><dd>mole_concentration_of_dissolved_molecular_oxygen_in_sea_water</dd><dt><span>units :</span></dt><dd>micromole/kg</dd></dl></div><div class='xr-var-data'><pre>array([[[[368.753]]],\n\n\n       [[[362.612]]],\n\n\n       [[[361.307]]],\n\n\n       [[[358.385]]],\n\n\n       [[[342.315]]],\n\n\n       [[[348.618]]],\n\n\n       [[[328.454]]],\n\n...\n\n       [[[332.277]]],\n\n\n       [[[328.384]]],\n\n\n       [[[337.944]]],\n\n\n       [[[333.409]]],\n\n\n       [[[328.09 ]]],\n\n\n       [[[341.894]]],\n\n\n       [[[353.832]]]])</pre></div></li><li class='xr-var-item'><div class='xr-var-name'><span>chlor_fluorescence</span></div><div class='xr-var-dims'>(time, depth, latitude, longitude)</div><div class='xr-var-dtype'>float64</div><div class='xr-var-preview xr-preview'>-0.0616 -0.0807 ... 10.76 11.65</div><input id='attrs-bf6fd2a3-21cf-45cf-9a1d-2e4eab9f2276' class='xr-var-attrs-in' type='checkbox' ><label for='attrs-bf6fd2a3-21cf-45cf-9a1d-2e4eab9f2276' title='Show/Hide attributes'><svg class='icon xr-icon-file-text2'><use xlink:href='#icon-file-text2'></use></svg></label><input id='data-475f1e4f-0ff6-48fc-8910-ab9000b64396' class='xr-var-data-in' type='checkbox'><label for='data-475f1e4f-0ff6-48fc-8910-ab9000b64396' title='Show/Hide data repr'><svg class='icon xr-icon-database'><use xlink:href='#icon-database'></use></svg></label><div class='xr-var-attrs'><dl class='xr-attrs'><dt><span>epic_key :</span></dt><dd>Fch_906</dd><dt><span>generic_name :</span></dt><dd>chlor_fluorescence</dd><dt><span>long_name :</span></dt><dd>Mass Concdentration of chlorophyll from chlorophyll fluorescence</dd><dt><span>standard_name :</span></dt><dd>mass_concentration_of_chlorophyll_in_sea_water</dd><dt><span>units :</span></dt><dd>ugrams/l</dd></dl></div><div class='xr-var-data'><pre>array([[[[-0.0616]]],\n\n\n       [[[-0.0807]]],\n\n\n       [[[-0.0959]]],\n\n\n       [[[14.0111]]],\n\n\n       [[[10.9154]]],\n\n\n       [[[10.9478]]],\n\n\n       [[[10.4137]]],\n\n...\n\n       [[[ 2.0938]]],\n\n\n       [[[ 1.6017]]],\n\n\n       [[[ 3.8295]]],\n\n\n       [[[13.2443]]],\n\n\n       [[[11.6802]]],\n\n\n       [[[10.7647]]],\n\n\n       [[[11.6478]]]])</pre></div></li></ul></div></li><li class='xr-section-item'><input id='section-799bf887-3b2c-449f-bebd-560a2f1ae78c' class='xr-section-summary-in' type='checkbox'  ><label for='section-799bf887-3b2c-449f-bebd-560a2f1ae78c' class='xr-section-summary' >Attributes: <span>(13)</span></label><div class='xr-section-inline-details'></div><div class='xr-section-details'><dl class='xr-attrs'><dt><span>Latitude-Deg_MM.dd_W :</span></dt><dd>56 52.1729 N</dd><dt><span>Longitude-Deg_MM.dd_N :</span></dt><dd>164 02.8716 W</dd><dt><span>MooringID :</span></dt><dd>16BSM-2A</dd><dt><span>platform_deployment_date :</span></dt><dd>2016-05-05T05:51:00Z</dd><dt><span>platform_deployment_cruise_name :</span></dt><dd>DY1606</dd><dt><span>platform_recovery_date :</span></dt><dd>2016-09-29T03:45:00Z</dd><dt><span>platform_recovery_cruise_name :</span></dt><dd>AQ1601</dd><dt><span>platform_deployment_recovery_comments :</span></dt><dd>Depth not listed - other two moorings BSP-2A and ITAE are at 71m so figure 71m</dd><dt><span>WaterDepth :</span></dt><dd>71.0</dd><dt><span>date_created :</span></dt><dd>2021-03-31T12:34:48Z</dd><dt><span>date_modified :</span></dt><dd></dd><dt><span>QC_indicator :</span></dt><dd>unknown</dd><dt><span>history :</span></dt><dd>Trimmed to deployment.</dd></dl></div></li></ul></div></div>"
     },
     "metadata": {},
     "execution_count": 19
    }
   ],
   "source": [
    "sbe16_wop_nc.get_xdf()"
   ]
  },
  {
   "cell_type": "markdown",
   "id": "individual-nature",
   "metadata": {},
   "source": [
    "## Next Steps\n",
    "\n",
    "QC of data (plot parameters with other instruments)\n",
    "- be sure to updated the qc_status and the history"
   ]
  },
  {
   "cell_type": "code",
   "execution_count": null,
   "id": "insured-vulnerability",
   "metadata": {},
   "outputs": [],
   "source": []
  }
 ],
 "metadata": {
  "kernelspec": {
   "name": "python3",
   "display_name": "Python 3.8.8 64-bit ('py38': conda)",
   "metadata": {
    "interpreter": {
     "hash": "ea8efced7f9f908505a4e28889b9d0ff7d52e9a5c03dfaa80d1d80124525970c"
    }
   }
  },
  "language_info": {
   "codemirror_mode": {
    "name": "ipython",
    "version": 3
   },
   "file_extension": ".py",
   "mimetype": "text/x-python",
   "name": "python",
   "nbconvert_exporter": "python",
   "pygments_lexer": "ipython3",
   "version": "3.8.8-final"
  }
 },
 "nbformat": 4,
 "nbformat_minor": 5
}
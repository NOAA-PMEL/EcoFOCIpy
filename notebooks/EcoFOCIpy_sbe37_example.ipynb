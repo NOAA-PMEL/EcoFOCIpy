{
 "cells": [
  {
   "cell_type": "markdown",
   "id": "educational-chosen",
   "metadata": {},
   "source": [
    "# Using EcoFOCIpy to process raw field data\n",
    "\n",
    "## Mooring / Timeseries Data\n",
    "\n",
    "Basic workflow for each instrument grouping is *(initial archive level)*:\n",
    "- Parse data from raw files into pandas dataframe\n",
    "- output initial files (pandas->csv) **ERDDAP NRT** when no meta data is added\n",
    "\n",
    "Convert to xarray dataframe for all following work *(working or final data level):\n",
    "- TODO: Add metadata from instrument yaml files and/or header info\n",
    "- ingest metadata from deployment/recovery records or cast logs\n",
    "- process data beyond simple file translate\n",
    "- apply any calibrations or corrections\n",
    "    + field corrections\n",
    "    + offsets\n",
    "    + instrument compensations\n",
    "    + some QC were available... this would be old-school simple bounds mostly\n",
    "- adjust time bounds and sample frequency (xarray dataframe)\n",
    "- save as CF netcdf via xarray: so many of the steps above are optional\n",
    "    + **ERDDAP NRT** if no corrections, offsets or time bounds are applied but some meta data is\n",
    "    + **Working and awaiting QC** has no ERDDAP representation and is a holding spot\n",
    "    + **ERDDAP Final** fully calibrated, qc'd and populated with meta information\n",
    "\n",
    "Plot for preview and QC\n",
    "- preview images (indiv and/or collectively)\n",
    "- manual qc process\n",
    "- automated qc process ML/AI\n",
    "\n",
    "Further refinenments for ERDDAP hosting:\n"
   ]
  },
  {
   "cell_type": "markdown",
   "id": "allied-miniature",
   "metadata": {},
   "source": [
    "## Example below is for SBE-37 but the workflow is similar for all instruments.\n",
    "\n",
    "Future processing of this instrument can be a simplified (no markdown) process which can be archived so that the procedure can be traced or updated"
   ]
  },
  {
   "cell_type": "code",
   "execution_count": 23,
   "id": "studied-pollution",
   "metadata": {},
   "outputs": [],
   "source": [
    "import yaml\n",
    "\n",
    "import EcoFOCIpy.io.sbe_parser as sbe_parser #<- instrument specific\n",
    "import EcoFOCIpy.io.ncCFsave as ncCFsave\n",
    "import EcoFOCIpy.metaconfig.load_config as load_config"
   ]
  },
  {
   "cell_type": "markdown",
   "id": "public-millennium",
   "metadata": {},
   "source": [
    "The sample_data_dir should be included in the github package but may not be included in the pip install of the package\n",
    "\n",
    "## Simple Processing - first step"
   ]
  },
  {
   "cell_type": "code",
   "execution_count": 24,
   "id": "offensive-level",
   "metadata": {},
   "outputs": [],
   "source": [
    "sample_data_dir = '../'"
   ]
  },
  {
   "cell_type": "code",
   "execution_count": 25,
   "id": "third-yellow",
   "metadata": {},
   "outputs": [],
   "source": [
    "###############################################################\n",
    "# edit to point to {instrument sepcific} raw datafile \n",
    "datafile = sample_data_dir+'staticdata/example_data/sbe37_wpress.cnv'\n",
    "instrument = 'SBE-37 1807'\n",
    "mooring_meta_file = sample_data_dir+'staticdata/mooring_example.yaml'\n",
    "inst_meta_file = sample_data_dir+'staticdata/instr_metaconfig/sbe37_cf.yaml'\n",
    "inst_shortname = 's37'\n",
    "###############################################################\n",
    "\n",
    "#init and load data\n",
    "sbe37_wop = sbe_parser.sbe37()\n",
    "(sbe37_wop_data,sbe37_wop_header) = sbe37_wop.parse(filename=datafile,\n",
    "                                                    return_header=True,\n",
    "                                                    datetime_index=True) "
   ]
  },
  {
   "cell_type": "markdown",
   "id": "metallic-youth",
   "metadata": {},
   "source": [
    "The data is output as a pandas dataframe from the intial module call and if its available, a header"
   ]
  },
  {
   "cell_type": "code",
   "execution_count": 26,
   "id": "fifteen-military",
   "metadata": {},
   "outputs": [
    {
     "output_type": "execute_result",
     "data": {
      "text/plain": [
       "['* Sea-Bird SBE37 Data File:\\n',\n",
       " '* FileName = C:\\\\Users\\\\foci\\\\Documents\\\\2018\\\\fall_mooring_downloads\\\\sbe37_2355.asc\\n',\n",
       " '* Software Version 1.59\\n',\n",
       " '* Temperature SN = 2355\\n',\n",
       " '* Conductivity SN = 2355\\n',\n",
       " '* System UpLoad Time = Oct 04 2018 00:15:11\\n',\n",
       " '** realtime: 001245\\n',\n",
       " '** instime: 001312\\n',\n",
       " '* ds\\n',\n",
       " '* SBE37-SM V 2.6b  SERIAL NO. 2355    04 Oct 2018  00:14:32\\n',\n",
       " '* not logging: received stop command\\n',\n",
       " '* sample interval = 30 seconds\\n',\n",
       " '* samplenumber = 110569, free = 80081\\n',\n",
       " '* do not transmit real-time data\\n',\n",
       " '* output salinity with each sample\\n',\n",
       " '* do not output sound velocity with each sample\\n',\n",
       " '* store time with each sample\\n',\n",
       " '* number of samples to average = 4\\n',\n",
       " '* serial sync mode disabled\\n',\n",
       " '* wait time after serial sync sampling = 30 seconds\\n',\n",
       " '* internal pump not installed\\n',\n",
       " '* temperature = 10.41 deg C\\n',\n",
       " '\\n',\n",
       " '\\n',\n",
       " '* S>\\n',\n",
       " '* SBE37-SM V 2.6b  2355\\n',\n",
       " '* temperature:  22-sep-17\\n',\n",
       " '*     TA0 = -1.023547e-04\\n',\n",
       " '*     TA1 = 2.896309e-04\\n',\n",
       " '*     TA2 = -3.489504e-06\\n',\n",
       " '*     TA3 = 1.806810e-07\\n',\n",
       " '* conductivity:  22-sep-17\\n',\n",
       " '*     G = -1.034676e+00\\n',\n",
       " '*     H = 1.537389e-01\\n',\n",
       " '*     I = -1.859853e-04\\n',\n",
       " '*     J = 4.119818e-05\\n',\n",
       " '*     CPCOR = -9.570000e-08\\n',\n",
       " '*     CTCOR = 3.250000e-06\\n',\n",
       " '*     WBOTC = 7.705015e-06\\n',\n",
       " '* pressure S/N 1422, range = 1450 psia:  19-sep-17\\n',\n",
       " '*     PA0 = -2.655225e-01\\n',\n",
       " '*     PA1 = 6.889259e-02\\n',\n",
       " '*     PA2 = -4.652035e-09\\n',\n",
       " '*     PTCA0 = -1.889409e+02\\n',\n",
       " '*     PTCA1 = 8.709786e-02\\n',\n",
       " '*     PTCA2 = -1.247684e-02\\n',\n",
       " '*     PTCSB0 = 2.481675e+01\\n',\n",
       " '*     PTCSB1 = -1.250000e-03\\n',\n",
       " '*     PTCSB2 = 0.000000e+00\\n',\n",
       " '*     POFFSET = 0.000000e+00\\n',\n",
       " '* rtc:  22-sep-17\\n',\n",
       " '*     RTCA0 = 9.999751e-01\\n',\n",
       " '*     RTCA1 = 1.726221e-06\\n',\n",
       " '*     RTCA2 = -3.122292e-08\\n',\n",
       " '\\n',\n",
       " '\\n',\n",
       " '* S> \\n',\n",
       " '*END*\\n']"
      ]
     },
     "metadata": {},
     "execution_count": 26
    }
   ],
   "source": [
    "sbe37_wop_header"
   ]
  },
  {
   "cell_type": "code",
   "execution_count": 27,
   "id": "alive-bruce",
   "metadata": {},
   "outputs": [
    {
     "output_type": "execute_result",
     "data": {
      "text/plain": [
       "                     temperature  conductivity  pressure  salinity\n",
       "date_time                                                         \n",
       "2018-04-30 14:01:23       4.4372       0.00002    -0.094    0.0015\n",
       "2018-04-30 14:01:53       4.4297       0.00002    -0.094    0.0015\n",
       "2018-04-30 14:02:23       4.4209       0.00002    -0.094    0.0015\n",
       "2018-04-30 14:02:53       4.4219       0.00001    -0.094    0.0015\n",
       "2018-04-30 14:03:23       4.4187       0.00002    -0.094    0.0015\n",
       "...                          ...           ...       ...       ...\n",
       "2018-05-02 10:49:53       3.6534       2.98133    53.396   32.0654\n",
       "2018-05-02 10:50:23       3.6523       2.98122    53.201   32.0653\n",
       "2018-05-02 10:50:53       3.6524       2.98123    53.236   32.0653\n",
       "2018-05-02 10:51:23       3.6522       2.98122    53.219   32.0653\n",
       "2018-05-02 10:51:53       3.6519       2.98117    53.005   32.0652\n",
       "\n",
       "[5382 rows x 4 columns]"
      ],
      "text/html": "<div>\n<style scoped>\n    .dataframe tbody tr th:only-of-type {\n        vertical-align: middle;\n    }\n\n    .dataframe tbody tr th {\n        vertical-align: top;\n    }\n\n    .dataframe thead th {\n        text-align: right;\n    }\n</style>\n<table border=\"1\" class=\"dataframe\">\n  <thead>\n    <tr style=\"text-align: right;\">\n      <th></th>\n      <th>temperature</th>\n      <th>conductivity</th>\n      <th>pressure</th>\n      <th>salinity</th>\n    </tr>\n    <tr>\n      <th>date_time</th>\n      <th></th>\n      <th></th>\n      <th></th>\n      <th></th>\n    </tr>\n  </thead>\n  <tbody>\n    <tr>\n      <th>2018-04-30 14:01:23</th>\n      <td>4.4372</td>\n      <td>0.00002</td>\n      <td>-0.094</td>\n      <td>0.0015</td>\n    </tr>\n    <tr>\n      <th>2018-04-30 14:01:53</th>\n      <td>4.4297</td>\n      <td>0.00002</td>\n      <td>-0.094</td>\n      <td>0.0015</td>\n    </tr>\n    <tr>\n      <th>2018-04-30 14:02:23</th>\n      <td>4.4209</td>\n      <td>0.00002</td>\n      <td>-0.094</td>\n      <td>0.0015</td>\n    </tr>\n    <tr>\n      <th>2018-04-30 14:02:53</th>\n      <td>4.4219</td>\n      <td>0.00001</td>\n      <td>-0.094</td>\n      <td>0.0015</td>\n    </tr>\n    <tr>\n      <th>2018-04-30 14:03:23</th>\n      <td>4.4187</td>\n      <td>0.00002</td>\n      <td>-0.094</td>\n      <td>0.0015</td>\n    </tr>\n    <tr>\n      <th>...</th>\n      <td>...</td>\n      <td>...</td>\n      <td>...</td>\n      <td>...</td>\n    </tr>\n    <tr>\n      <th>2018-05-02 10:49:53</th>\n      <td>3.6534</td>\n      <td>2.98133</td>\n      <td>53.396</td>\n      <td>32.0654</td>\n    </tr>\n    <tr>\n      <th>2018-05-02 10:50:23</th>\n      <td>3.6523</td>\n      <td>2.98122</td>\n      <td>53.201</td>\n      <td>32.0653</td>\n    </tr>\n    <tr>\n      <th>2018-05-02 10:50:53</th>\n      <td>3.6524</td>\n      <td>2.98123</td>\n      <td>53.236</td>\n      <td>32.0653</td>\n    </tr>\n    <tr>\n      <th>2018-05-02 10:51:23</th>\n      <td>3.6522</td>\n      <td>2.98122</td>\n      <td>53.219</td>\n      <td>32.0653</td>\n    </tr>\n    <tr>\n      <th>2018-05-02 10:51:53</th>\n      <td>3.6519</td>\n      <td>2.98117</td>\n      <td>53.005</td>\n      <td>32.0652</td>\n    </tr>\n  </tbody>\n</table>\n<p>5382 rows × 4 columns</p>\n</div>"
     },
     "metadata": {},
     "execution_count": 27
    }
   ],
   "source": [
    "sbe37_wop_data"
   ]
  },
  {
   "cell_type": "markdown",
   "id": "ready-audit",
   "metadata": {},
   "source": [
    "## Time properties\n",
    "\n",
    "Its unusual that our clocks drift to the point of concern for our instruments (if an instrument is off by 3 minutes but only sampling hourly... regridding that data will result in minimal changes).  However, there are a few time oriented modifications that may need to be made."
   ]
  },
  {
   "cell_type": "markdown",
   "id": "supposed-bankruptcy",
   "metadata": {},
   "source": [
    "It is very easy to use pandas interplation and resample methods on the dataframe as is.  A few steps are suggested below:\n",
    "- parse out on-deck (predeployment and recovery) data.  This can be done via pandas or xarray but requires the mooring metadata to have been read in.  See future steps below.\n",
    "- even if the sample frequency is set to the desired measurement frequency, it would be good to perform a quick regridding as an assurance task\n",
    "- FOCI data is usualy 1min, 10min, 1hr - and the 1min data is a fairly new (sbe56) data stream\n",
    "    + subsampling high frequency data to lower frequency is easy via df.resample().mean()\n",
    "    + you may want to take the median instead of the mean for noisy data (fluorometer) , occasionally decimating may be more appropriate if you want to downsize the dataset size but not smear features\n",
    "    + shifting times can be a bit more involved.  There are two primary ways to do it, interpolate or shift\n",
    "        - to interpolate, you will need to upsample your data to a higher frequency which will generate missing values, then interpolate (with a maximum gap size), then decimate.  This always has the artifact of smoothing data and decreasing the min/max values. **common on microcats and other 10min datasets**\n",
    "        - shifting usually just involves droping extra time \"digits\", if you want hourly, you could just drop the trailing minutes assuming you are just off the hour (8:05 -> 8:00) or you can round to the nearest time unit but niether of these changes the data value, just the time associated with it. **common on seacats and other hourly datasets**\n",
    "    + I suggest if no change is needed... resample().mean() to the sample frequency just in case there is a small deviation from expected (<1min)\n",
    "    "
   ]
  },
  {
   "cell_type": "code",
   "execution_count": 28,
   "id": "fourth-perspective",
   "metadata": {},
   "outputs": [
    {
     "output_type": "execute_result",
     "data": {
      "text/plain": [
       "                     temperature  conductivity  pressure   salinity\n",
       "date_time                                                          \n",
       "2018-04-30 14:00:00     4.414450      0.000012  -0.09400   0.001500\n",
       "2018-04-30 14:10:00     4.399030      0.000010  -0.09400   0.001500\n",
       "2018-04-30 14:20:00     4.390220      0.000010  -0.09400   0.001500\n",
       "2018-04-30 14:30:00     4.371020      0.000010  -0.09400   0.001500\n",
       "2018-04-30 14:40:00     4.330920      0.000010  -0.09400   0.001485\n",
       "...                          ...           ...       ...        ...\n",
       "2018-05-02 10:10:00     3.649700      2.980922  53.10860  32.064325\n",
       "2018-05-02 10:20:00     3.649100      2.980874  53.07035  32.064360\n",
       "2018-05-02 10:30:00     3.649775      2.980958  53.13075  32.064670\n",
       "2018-05-02 10:40:00     3.650965      2.981090  53.15285  32.065055\n",
       "2018-05-02 10:50:00     3.652200      2.981210  53.16525  32.065275\n",
       "\n",
       "[270 rows x 4 columns]"
      ],
      "text/html": "<div>\n<style scoped>\n    .dataframe tbody tr th:only-of-type {\n        vertical-align: middle;\n    }\n\n    .dataframe tbody tr th {\n        vertical-align: top;\n    }\n\n    .dataframe thead th {\n        text-align: right;\n    }\n</style>\n<table border=\"1\" class=\"dataframe\">\n  <thead>\n    <tr style=\"text-align: right;\">\n      <th></th>\n      <th>temperature</th>\n      <th>conductivity</th>\n      <th>pressure</th>\n      <th>salinity</th>\n    </tr>\n    <tr>\n      <th>date_time</th>\n      <th></th>\n      <th></th>\n      <th></th>\n      <th></th>\n    </tr>\n  </thead>\n  <tbody>\n    <tr>\n      <th>2018-04-30 14:00:00</th>\n      <td>4.414450</td>\n      <td>0.000012</td>\n      <td>-0.09400</td>\n      <td>0.001500</td>\n    </tr>\n    <tr>\n      <th>2018-04-30 14:10:00</th>\n      <td>4.399030</td>\n      <td>0.000010</td>\n      <td>-0.09400</td>\n      <td>0.001500</td>\n    </tr>\n    <tr>\n      <th>2018-04-30 14:20:00</th>\n      <td>4.390220</td>\n      <td>0.000010</td>\n      <td>-0.09400</td>\n      <td>0.001500</td>\n    </tr>\n    <tr>\n      <th>2018-04-30 14:30:00</th>\n      <td>4.371020</td>\n      <td>0.000010</td>\n      <td>-0.09400</td>\n      <td>0.001500</td>\n    </tr>\n    <tr>\n      <th>2018-04-30 14:40:00</th>\n      <td>4.330920</td>\n      <td>0.000010</td>\n      <td>-0.09400</td>\n      <td>0.001485</td>\n    </tr>\n    <tr>\n      <th>...</th>\n      <td>...</td>\n      <td>...</td>\n      <td>...</td>\n      <td>...</td>\n    </tr>\n    <tr>\n      <th>2018-05-02 10:10:00</th>\n      <td>3.649700</td>\n      <td>2.980922</td>\n      <td>53.10860</td>\n      <td>32.064325</td>\n    </tr>\n    <tr>\n      <th>2018-05-02 10:20:00</th>\n      <td>3.649100</td>\n      <td>2.980874</td>\n      <td>53.07035</td>\n      <td>32.064360</td>\n    </tr>\n    <tr>\n      <th>2018-05-02 10:30:00</th>\n      <td>3.649775</td>\n      <td>2.980958</td>\n      <td>53.13075</td>\n      <td>32.064670</td>\n    </tr>\n    <tr>\n      <th>2018-05-02 10:40:00</th>\n      <td>3.650965</td>\n      <td>2.981090</td>\n      <td>53.15285</td>\n      <td>32.065055</td>\n    </tr>\n    <tr>\n      <th>2018-05-02 10:50:00</th>\n      <td>3.652200</td>\n      <td>2.981210</td>\n      <td>53.16525</td>\n      <td>32.065275</td>\n    </tr>\n  </tbody>\n</table>\n<p>270 rows × 4 columns</p>\n</div>"
     },
     "metadata": {},
     "execution_count": 28
    }
   ],
   "source": [
    "sbe37_wop_data = sbe37_wop_data.resample('10min').mean()\n",
    "sbe37_wop_data"
   ]
  },
  {
   "cell_type": "code",
   "execution_count": 29,
   "id": "undefined-membrane",
   "metadata": {},
   "outputs": [
    {
     "output_type": "execute_result",
     "data": {
      "text/plain": [
       "<AxesSubplot:xlabel='date_time'>"
      ]
     },
     "metadata": {},
     "execution_count": 29
    },
    {
     "output_type": "display_data",
     "data": {
      "text/plain": "<Figure size 432x288 with 1 Axes>",
      "image/svg+xml": "<?xml version=\"1.0\" encoding=\"utf-8\" standalone=\"no\"?>\n<!DOCTYPE svg PUBLIC \"-//W3C//DTD SVG 1.1//EN\"\n  \"http://www.w3.org/Graphics/SVG/1.1/DTD/svg11.dtd\">\n<!-- Created with matplotlib (https://matplotlib.org/) -->\n<svg height=\"284.87pt\" version=\"1.1\" viewBox=\"0 0 368.925 284.87\" width=\"368.925pt\" xmlns=\"http://www.w3.org/2000/svg\" xmlns:xlink=\"http://www.w3.org/1999/xlink\">\n <metadata>\n  <rdf:RDF xmlns:cc=\"http://creativecommons.org/ns#\" xmlns:dc=\"http://purl.org/dc/elements/1.1/\" xmlns:rdf=\"http://www.w3.org/1999/02/22-rdf-syntax-ns#\">\n   <cc:Work>\n    <dc:type rdf:resource=\"http://purl.org/dc/dcmitype/StillImage\"/>\n    <dc:date>2021-03-30T16:30:47.635097</dc:date>\n    <dc:format>image/svg+xml</dc:format>\n    <dc:creator>\n     <cc:Agent>\n      <dc:title>Matplotlib v3.3.4, https://matplotlib.org/</dc:title>\n     </cc:Agent>\n    </dc:creator>\n   </cc:Work>\n  </rdf:RDF>\n </metadata>\n <defs>\n  <style type=\"text/css\">*{stroke-linecap:butt;stroke-linejoin:round;}</style>\n </defs>\n <g id=\"figure_1\">\n  <g id=\"patch_1\">\n   <path d=\"M -0 284.87 \nL 368.925 284.87 \nL 368.925 0 \nL -0 0 \nz\n\" style=\"fill:none;\"/>\n  </g>\n  <g id=\"axes_1\">\n   <g id=\"patch_2\">\n    <path d=\"M 26.925 224.64 \nL 361.725 224.64 \nL 361.725 7.2 \nL 26.925 7.2 \nz\n\" style=\"fill:#ffffff;\"/>\n   </g>\n   <g id=\"matplotlib.axis_1\">\n    <g id=\"xtick_1\">\n     <g id=\"line2d_1\">\n      <defs>\n       <path d=\"M 0 0 \nL 0 3.5 \n\" id=\"m6da45d1d52\" style=\"stroke:#000000;stroke-width:0.8;\"/>\n      </defs>\n      <g>\n       <use style=\"stroke:#000000;stroke-width:0.8;\" x=\"26.925\" xlink:href=\"#m6da45d1d52\" y=\"224.64\"/>\n      </g>\n     </g>\n    </g>\n    <g id=\"xtick_2\">\n     <g id=\"line2d_2\">\n      <g>\n       <use style=\"stroke:#000000;stroke-width:0.8;\" x=\"101.60158\" xlink:href=\"#m6da45d1d52\" y=\"224.64\"/>\n      </g>\n     </g>\n     <g id=\"text_1\">\n      <!-- 00:00 -->\n      <g transform=\"translate(87.192205 239.238438)scale(0.1 -0.1)\">\n       <defs>\n        <path d=\"M 31.78125 66.40625 \nQ 24.171875 66.40625 20.328125 58.90625 \nQ 16.5 51.421875 16.5 36.375 \nQ 16.5 21.390625 20.328125 13.890625 \nQ 24.171875 6.390625 31.78125 6.390625 \nQ 39.453125 6.390625 43.28125 13.890625 \nQ 47.125 21.390625 47.125 36.375 \nQ 47.125 51.421875 43.28125 58.90625 \nQ 39.453125 66.40625 31.78125 66.40625 \nz\nM 31.78125 74.21875 \nQ 44.046875 74.21875 50.515625 64.515625 \nQ 56.984375 54.828125 56.984375 36.375 \nQ 56.984375 17.96875 50.515625 8.265625 \nQ 44.046875 -1.421875 31.78125 -1.421875 \nQ 19.53125 -1.421875 13.0625 8.265625 \nQ 6.59375 17.96875 6.59375 36.375 \nQ 6.59375 54.828125 13.0625 64.515625 \nQ 19.53125 74.21875 31.78125 74.21875 \nz\n\" id=\"DejaVuSans-48\"/>\n        <path d=\"M 11.71875 12.40625 \nL 22.015625 12.40625 \nL 22.015625 0 \nL 11.71875 0 \nz\nM 11.71875 51.703125 \nL 22.015625 51.703125 \nL 22.015625 39.3125 \nL 11.71875 39.3125 \nz\n\" id=\"DejaVuSans-58\"/>\n       </defs>\n       <use xlink:href=\"#DejaVuSans-48\"/>\n       <use x=\"63.623047\" xlink:href=\"#DejaVuSans-48\"/>\n       <use x=\"127.246094\" xlink:href=\"#DejaVuSans-58\"/>\n       <use x=\"160.9375\" xlink:href=\"#DejaVuSans-48\"/>\n       <use x=\"224.560547\" xlink:href=\"#DejaVuSans-48\"/>\n      </g>\n      <!-- 01-May -->\n      <g transform=\"translate(83.097674 250.43625)scale(0.1 -0.1)\">\n       <defs>\n        <path d=\"M 12.40625 8.296875 \nL 28.515625 8.296875 \nL 28.515625 63.921875 \nL 10.984375 60.40625 \nL 10.984375 69.390625 \nL 28.421875 72.90625 \nL 38.28125 72.90625 \nL 38.28125 8.296875 \nL 54.390625 8.296875 \nL 54.390625 0 \nL 12.40625 0 \nz\n\" id=\"DejaVuSans-49\"/>\n        <path d=\"M 4.890625 31.390625 \nL 31.203125 31.390625 \nL 31.203125 23.390625 \nL 4.890625 23.390625 \nz\n\" id=\"DejaVuSans-45\"/>\n        <path d=\"M 9.8125 72.90625 \nL 24.515625 72.90625 \nL 43.109375 23.296875 \nL 61.8125 72.90625 \nL 76.515625 72.90625 \nL 76.515625 0 \nL 66.890625 0 \nL 66.890625 64.015625 \nL 48.09375 14.015625 \nL 38.1875 14.015625 \nL 19.390625 64.015625 \nL 19.390625 0 \nL 9.8125 0 \nz\n\" id=\"DejaVuSans-77\"/>\n        <path d=\"M 34.28125 27.484375 \nQ 23.390625 27.484375 19.1875 25 \nQ 14.984375 22.515625 14.984375 16.5 \nQ 14.984375 11.71875 18.140625 8.90625 \nQ 21.296875 6.109375 26.703125 6.109375 \nQ 34.1875 6.109375 38.703125 11.40625 \nQ 43.21875 16.703125 43.21875 25.484375 \nL 43.21875 27.484375 \nz\nM 52.203125 31.203125 \nL 52.203125 0 \nL 43.21875 0 \nL 43.21875 8.296875 \nQ 40.140625 3.328125 35.546875 0.953125 \nQ 30.953125 -1.421875 24.3125 -1.421875 \nQ 15.921875 -1.421875 10.953125 3.296875 \nQ 6 8.015625 6 15.921875 \nQ 6 25.140625 12.171875 29.828125 \nQ 18.359375 34.515625 30.609375 34.515625 \nL 43.21875 34.515625 \nL 43.21875 35.40625 \nQ 43.21875 41.609375 39.140625 45 \nQ 35.0625 48.390625 27.6875 48.390625 \nQ 23 48.390625 18.546875 47.265625 \nQ 14.109375 46.140625 10.015625 43.890625 \nL 10.015625 52.203125 \nQ 14.9375 54.109375 19.578125 55.046875 \nQ 24.21875 56 28.609375 56 \nQ 40.484375 56 46.34375 49.84375 \nQ 52.203125 43.703125 52.203125 31.203125 \nz\n\" id=\"DejaVuSans-97\"/>\n        <path d=\"M 32.171875 -5.078125 \nQ 28.375 -14.84375 24.75 -17.8125 \nQ 21.140625 -20.796875 15.09375 -20.796875 \nL 7.90625 -20.796875 \nL 7.90625 -13.28125 \nL 13.1875 -13.28125 \nQ 16.890625 -13.28125 18.9375 -11.515625 \nQ 21 -9.765625 23.484375 -3.21875 \nL 25.09375 0.875 \nL 2.984375 54.6875 \nL 12.5 54.6875 \nL 29.59375 11.921875 \nL 46.6875 54.6875 \nL 56.203125 54.6875 \nz\n\" id=\"DejaVuSans-121\"/>\n       </defs>\n       <use xlink:href=\"#DejaVuSans-48\"/>\n       <use x=\"63.623047\" xlink:href=\"#DejaVuSans-49\"/>\n       <use x=\"127.246094\" xlink:href=\"#DejaVuSans-45\"/>\n       <use x=\"163.330078\" xlink:href=\"#DejaVuSans-77\"/>\n       <use x=\"249.609375\" xlink:href=\"#DejaVuSans-97\"/>\n       <use x=\"310.888672\" xlink:href=\"#DejaVuSans-121\"/>\n      </g>\n      <!-- 2018 -->\n      <g transform=\"translate(88.87658 261.634063)scale(0.1 -0.1)\">\n       <defs>\n        <path d=\"M 19.1875 8.296875 \nL 53.609375 8.296875 \nL 53.609375 0 \nL 7.328125 0 \nL 7.328125 8.296875 \nQ 12.9375 14.109375 22.625 23.890625 \nQ 32.328125 33.6875 34.8125 36.53125 \nQ 39.546875 41.84375 41.421875 45.53125 \nQ 43.3125 49.21875 43.3125 52.78125 \nQ 43.3125 58.59375 39.234375 62.25 \nQ 35.15625 65.921875 28.609375 65.921875 \nQ 23.96875 65.921875 18.8125 64.3125 \nQ 13.671875 62.703125 7.8125 59.421875 \nL 7.8125 69.390625 \nQ 13.765625 71.78125 18.9375 73 \nQ 24.125 74.21875 28.421875 74.21875 \nQ 39.75 74.21875 46.484375 68.546875 \nQ 53.21875 62.890625 53.21875 53.421875 \nQ 53.21875 48.921875 51.53125 44.890625 \nQ 49.859375 40.875 45.40625 35.40625 \nQ 44.1875 33.984375 37.640625 27.21875 \nQ 31.109375 20.453125 19.1875 8.296875 \nz\n\" id=\"DejaVuSans-50\"/>\n        <path d=\"M 31.78125 34.625 \nQ 24.75 34.625 20.71875 30.859375 \nQ 16.703125 27.09375 16.703125 20.515625 \nQ 16.703125 13.921875 20.71875 10.15625 \nQ 24.75 6.390625 31.78125 6.390625 \nQ 38.8125 6.390625 42.859375 10.171875 \nQ 46.921875 13.96875 46.921875 20.515625 \nQ 46.921875 27.09375 42.890625 30.859375 \nQ 38.875 34.625 31.78125 34.625 \nz\nM 21.921875 38.8125 \nQ 15.578125 40.375 12.03125 44.71875 \nQ 8.5 49.078125 8.5 55.328125 \nQ 8.5 64.0625 14.71875 69.140625 \nQ 20.953125 74.21875 31.78125 74.21875 \nQ 42.671875 74.21875 48.875 69.140625 \nQ 55.078125 64.0625 55.078125 55.328125 \nQ 55.078125 49.078125 51.53125 44.71875 \nQ 48 40.375 41.703125 38.8125 \nQ 48.828125 37.15625 52.796875 32.3125 \nQ 56.78125 27.484375 56.78125 20.515625 \nQ 56.78125 9.90625 50.3125 4.234375 \nQ 43.84375 -1.421875 31.78125 -1.421875 \nQ 19.734375 -1.421875 13.25 4.234375 \nQ 6.78125 9.90625 6.78125 20.515625 \nQ 6.78125 27.484375 10.78125 32.3125 \nQ 14.796875 37.15625 21.921875 38.8125 \nz\nM 18.3125 54.390625 \nQ 18.3125 48.734375 21.84375 45.5625 \nQ 25.390625 42.390625 31.78125 42.390625 \nQ 38.140625 42.390625 41.71875 45.5625 \nQ 45.3125 48.734375 45.3125 54.390625 \nQ 45.3125 60.0625 41.71875 63.234375 \nQ 38.140625 66.40625 31.78125 66.40625 \nQ 25.390625 66.40625 21.84375 63.234375 \nQ 18.3125 60.0625 18.3125 54.390625 \nz\n\" id=\"DejaVuSans-56\"/>\n       </defs>\n       <use xlink:href=\"#DejaVuSans-50\"/>\n       <use x=\"63.623047\" xlink:href=\"#DejaVuSans-48\"/>\n       <use x=\"127.246094\" xlink:href=\"#DejaVuSans-49\"/>\n       <use x=\"190.869141\" xlink:href=\"#DejaVuSans-56\"/>\n      </g>\n     </g>\n    </g>\n    <g id=\"xtick_3\">\n     <g id=\"line2d_3\">\n      <g>\n       <use style=\"stroke:#000000;stroke-width:0.8;\" x=\"280.825372\" xlink:href=\"#m6da45d1d52\" y=\"224.64\"/>\n      </g>\n     </g>\n     <g id=\"text_2\">\n      <!-- 00:00 -->\n      <g transform=\"translate(266.415997 239.238438)scale(0.1 -0.1)\">\n       <use xlink:href=\"#DejaVuSans-48\"/>\n       <use x=\"63.623047\" xlink:href=\"#DejaVuSans-48\"/>\n       <use x=\"127.246094\" xlink:href=\"#DejaVuSans-58\"/>\n       <use x=\"160.9375\" xlink:href=\"#DejaVuSans-48\"/>\n       <use x=\"224.560547\" xlink:href=\"#DejaVuSans-48\"/>\n      </g>\n      <!-- 02-May -->\n      <g transform=\"translate(262.321465 250.43625)scale(0.1 -0.1)\">\n       <use xlink:href=\"#DejaVuSans-48\"/>\n       <use x=\"63.623047\" xlink:href=\"#DejaVuSans-50\"/>\n       <use x=\"127.246094\" xlink:href=\"#DejaVuSans-45\"/>\n       <use x=\"163.330078\" xlink:href=\"#DejaVuSans-77\"/>\n       <use x=\"249.609375\" xlink:href=\"#DejaVuSans-97\"/>\n       <use x=\"310.888672\" xlink:href=\"#DejaVuSans-121\"/>\n      </g>\n     </g>\n    </g>\n    <g id=\"xtick_4\">\n     <g id=\"line2d_4\">\n      <g>\n       <use style=\"stroke:#000000;stroke-width:0.8;\" x=\"361.725\" xlink:href=\"#m6da45d1d52\" y=\"224.64\"/>\n      </g>\n     </g>\n    </g>\n    <g id=\"xtick_5\">\n     <g id=\"line2d_5\">\n      <defs>\n       <path d=\"M 0 0 \nL 0 2 \n\" id=\"m01edcfd128\" style=\"stroke:#000000;stroke-width:0.6;\"/>\n      </defs>\n      <g>\n       <use style=\"stroke:#000000;stroke-width:0.6;\" x=\"56.795632\" xlink:href=\"#m01edcfd128\" y=\"224.64\"/>\n      </g>\n     </g>\n     <g id=\"text_3\">\n      <!-- 18:00 -->\n      <g transform=\"translate(42.386257 237.638438)scale(0.1 -0.1)\">\n       <use xlink:href=\"#DejaVuSans-49\"/>\n       <use x=\"63.623047\" xlink:href=\"#DejaVuSans-56\"/>\n       <use x=\"127.246094\" xlink:href=\"#DejaVuSans-58\"/>\n       <use x=\"160.9375\" xlink:href=\"#DejaVuSans-48\"/>\n       <use x=\"224.560547\" xlink:href=\"#DejaVuSans-48\"/>\n      </g>\n     </g>\n    </g>\n    <g id=\"xtick_6\">\n     <g id=\"line2d_6\">\n      <g>\n       <use style=\"stroke:#000000;stroke-width:0.6;\" x=\"146.407528\" xlink:href=\"#m01edcfd128\" y=\"224.64\"/>\n      </g>\n     </g>\n     <g id=\"text_4\">\n      <!-- 06:00 -->\n      <g transform=\"translate(131.998153 237.638438)scale(0.1 -0.1)\">\n       <defs>\n        <path d=\"M 33.015625 40.375 \nQ 26.375 40.375 22.484375 35.828125 \nQ 18.609375 31.296875 18.609375 23.390625 \nQ 18.609375 15.53125 22.484375 10.953125 \nQ 26.375 6.390625 33.015625 6.390625 \nQ 39.65625 6.390625 43.53125 10.953125 \nQ 47.40625 15.53125 47.40625 23.390625 \nQ 47.40625 31.296875 43.53125 35.828125 \nQ 39.65625 40.375 33.015625 40.375 \nz\nM 52.59375 71.296875 \nL 52.59375 62.3125 \nQ 48.875 64.0625 45.09375 64.984375 \nQ 41.3125 65.921875 37.59375 65.921875 \nQ 27.828125 65.921875 22.671875 59.328125 \nQ 17.53125 52.734375 16.796875 39.40625 \nQ 19.671875 43.65625 24.015625 45.921875 \nQ 28.375 48.1875 33.59375 48.1875 \nQ 44.578125 48.1875 50.953125 41.515625 \nQ 57.328125 34.859375 57.328125 23.390625 \nQ 57.328125 12.15625 50.6875 5.359375 \nQ 44.046875 -1.421875 33.015625 -1.421875 \nQ 20.359375 -1.421875 13.671875 8.265625 \nQ 6.984375 17.96875 6.984375 36.375 \nQ 6.984375 53.65625 15.1875 63.9375 \nQ 23.390625 74.21875 37.203125 74.21875 \nQ 40.921875 74.21875 44.703125 73.484375 \nQ 48.484375 72.75 52.59375 71.296875 \nz\n\" id=\"DejaVuSans-54\"/>\n       </defs>\n       <use xlink:href=\"#DejaVuSans-48\"/>\n       <use x=\"63.623047\" xlink:href=\"#DejaVuSans-54\"/>\n       <use x=\"127.246094\" xlink:href=\"#DejaVuSans-58\"/>\n       <use x=\"160.9375\" xlink:href=\"#DejaVuSans-48\"/>\n       <use x=\"224.560547\" xlink:href=\"#DejaVuSans-48\"/>\n      </g>\n     </g>\n    </g>\n    <g id=\"xtick_7\">\n     <g id=\"line2d_7\">\n      <g>\n       <use style=\"stroke:#000000;stroke-width:0.6;\" x=\"191.213476\" xlink:href=\"#m01edcfd128\" y=\"224.64\"/>\n      </g>\n     </g>\n     <g id=\"text_5\">\n      <!-- 12:00 -->\n      <g transform=\"translate(176.804101 237.638438)scale(0.1 -0.1)\">\n       <use xlink:href=\"#DejaVuSans-49\"/>\n       <use x=\"63.623047\" xlink:href=\"#DejaVuSans-50\"/>\n       <use x=\"127.246094\" xlink:href=\"#DejaVuSans-58\"/>\n       <use x=\"160.9375\" xlink:href=\"#DejaVuSans-48\"/>\n       <use x=\"224.560547\" xlink:href=\"#DejaVuSans-48\"/>\n      </g>\n     </g>\n    </g>\n    <g id=\"xtick_8\">\n     <g id=\"line2d_8\">\n      <g>\n       <use style=\"stroke:#000000;stroke-width:0.6;\" x=\"236.019424\" xlink:href=\"#m01edcfd128\" y=\"224.64\"/>\n      </g>\n     </g>\n     <g id=\"text_6\">\n      <!-- 18:00 -->\n      <g transform=\"translate(221.610049 237.638438)scale(0.1 -0.1)\">\n       <use xlink:href=\"#DejaVuSans-49\"/>\n       <use x=\"63.623047\" xlink:href=\"#DejaVuSans-56\"/>\n       <use x=\"127.246094\" xlink:href=\"#DejaVuSans-58\"/>\n       <use x=\"160.9375\" xlink:href=\"#DejaVuSans-48\"/>\n       <use x=\"224.560547\" xlink:href=\"#DejaVuSans-48\"/>\n      </g>\n     </g>\n    </g>\n    <g id=\"xtick_9\">\n     <g id=\"line2d_9\">\n      <g>\n       <use style=\"stroke:#000000;stroke-width:0.6;\" x=\"325.63132\" xlink:href=\"#m01edcfd128\" y=\"224.64\"/>\n      </g>\n     </g>\n     <g id=\"text_7\">\n      <!-- 06:00 -->\n      <g transform=\"translate(311.221945 237.638438)scale(0.1 -0.1)\">\n       <use xlink:href=\"#DejaVuSans-48\"/>\n       <use x=\"63.623047\" xlink:href=\"#DejaVuSans-54\"/>\n       <use x=\"127.246094\" xlink:href=\"#DejaVuSans-58\"/>\n       <use x=\"160.9375\" xlink:href=\"#DejaVuSans-48\"/>\n       <use x=\"224.560547\" xlink:href=\"#DejaVuSans-48\"/>\n      </g>\n     </g>\n    </g>\n    <g id=\"text_8\">\n     <!-- date_time -->\n     <g transform=\"translate(169.253906 275.312187)scale(0.1 -0.1)\">\n      <defs>\n       <path d=\"M 45.40625 46.390625 \nL 45.40625 75.984375 \nL 54.390625 75.984375 \nL 54.390625 0 \nL 45.40625 0 \nL 45.40625 8.203125 \nQ 42.578125 3.328125 38.25 0.953125 \nQ 33.9375 -1.421875 27.875 -1.421875 \nQ 17.96875 -1.421875 11.734375 6.484375 \nQ 5.515625 14.40625 5.515625 27.296875 \nQ 5.515625 40.1875 11.734375 48.09375 \nQ 17.96875 56 27.875 56 \nQ 33.9375 56 38.25 53.625 \nQ 42.578125 51.265625 45.40625 46.390625 \nz\nM 14.796875 27.296875 \nQ 14.796875 17.390625 18.875 11.75 \nQ 22.953125 6.109375 30.078125 6.109375 \nQ 37.203125 6.109375 41.296875 11.75 \nQ 45.40625 17.390625 45.40625 27.296875 \nQ 45.40625 37.203125 41.296875 42.84375 \nQ 37.203125 48.484375 30.078125 48.484375 \nQ 22.953125 48.484375 18.875 42.84375 \nQ 14.796875 37.203125 14.796875 27.296875 \nz\n\" id=\"DejaVuSans-100\"/>\n       <path d=\"M 18.3125 70.21875 \nL 18.3125 54.6875 \nL 36.8125 54.6875 \nL 36.8125 47.703125 \nL 18.3125 47.703125 \nL 18.3125 18.015625 \nQ 18.3125 11.328125 20.140625 9.421875 \nQ 21.96875 7.515625 27.59375 7.515625 \nL 36.8125 7.515625 \nL 36.8125 0 \nL 27.59375 0 \nQ 17.1875 0 13.234375 3.875 \nQ 9.28125 7.765625 9.28125 18.015625 \nL 9.28125 47.703125 \nL 2.6875 47.703125 \nL 2.6875 54.6875 \nL 9.28125 54.6875 \nL 9.28125 70.21875 \nz\n\" id=\"DejaVuSans-116\"/>\n       <path d=\"M 56.203125 29.59375 \nL 56.203125 25.203125 \nL 14.890625 25.203125 \nQ 15.484375 15.921875 20.484375 11.0625 \nQ 25.484375 6.203125 34.421875 6.203125 \nQ 39.59375 6.203125 44.453125 7.46875 \nQ 49.3125 8.734375 54.109375 11.28125 \nL 54.109375 2.78125 \nQ 49.265625 0.734375 44.1875 -0.34375 \nQ 39.109375 -1.421875 33.890625 -1.421875 \nQ 20.796875 -1.421875 13.15625 6.1875 \nQ 5.515625 13.8125 5.515625 26.8125 \nQ 5.515625 40.234375 12.765625 48.109375 \nQ 20.015625 56 32.328125 56 \nQ 43.359375 56 49.78125 48.890625 \nQ 56.203125 41.796875 56.203125 29.59375 \nz\nM 47.21875 32.234375 \nQ 47.125 39.59375 43.09375 43.984375 \nQ 39.0625 48.390625 32.421875 48.390625 \nQ 24.90625 48.390625 20.390625 44.140625 \nQ 15.875 39.890625 15.1875 32.171875 \nz\n\" id=\"DejaVuSans-101\"/>\n       <path d=\"M 50.984375 -16.609375 \nL 50.984375 -23.578125 \nL -0.984375 -23.578125 \nL -0.984375 -16.609375 \nz\n\" id=\"DejaVuSans-95\"/>\n       <path d=\"M 9.421875 54.6875 \nL 18.40625 54.6875 \nL 18.40625 0 \nL 9.421875 0 \nz\nM 9.421875 75.984375 \nL 18.40625 75.984375 \nL 18.40625 64.59375 \nL 9.421875 64.59375 \nz\n\" id=\"DejaVuSans-105\"/>\n       <path d=\"M 52 44.1875 \nQ 55.375 50.25 60.0625 53.125 \nQ 64.75 56 71.09375 56 \nQ 79.640625 56 84.28125 50.015625 \nQ 88.921875 44.046875 88.921875 33.015625 \nL 88.921875 0 \nL 79.890625 0 \nL 79.890625 32.71875 \nQ 79.890625 40.578125 77.09375 44.375 \nQ 74.3125 48.1875 68.609375 48.1875 \nQ 61.625 48.1875 57.5625 43.546875 \nQ 53.515625 38.921875 53.515625 30.90625 \nL 53.515625 0 \nL 44.484375 0 \nL 44.484375 32.71875 \nQ 44.484375 40.625 41.703125 44.40625 \nQ 38.921875 48.1875 33.109375 48.1875 \nQ 26.21875 48.1875 22.15625 43.53125 \nQ 18.109375 38.875 18.109375 30.90625 \nL 18.109375 0 \nL 9.078125 0 \nL 9.078125 54.6875 \nL 18.109375 54.6875 \nL 18.109375 46.1875 \nQ 21.1875 51.21875 25.484375 53.609375 \nQ 29.78125 56 35.6875 56 \nQ 41.65625 56 45.828125 52.96875 \nQ 50 49.953125 52 44.1875 \nz\n\" id=\"DejaVuSans-109\"/>\n      </defs>\n      <use xlink:href=\"#DejaVuSans-100\"/>\n      <use x=\"63.476562\" xlink:href=\"#DejaVuSans-97\"/>\n      <use x=\"124.755859\" xlink:href=\"#DejaVuSans-116\"/>\n      <use x=\"163.964844\" xlink:href=\"#DejaVuSans-101\"/>\n      <use x=\"225.488281\" xlink:href=\"#DejaVuSans-95\"/>\n      <use x=\"275.488281\" xlink:href=\"#DejaVuSans-116\"/>\n      <use x=\"314.697266\" xlink:href=\"#DejaVuSans-105\"/>\n      <use x=\"342.480469\" xlink:href=\"#DejaVuSans-109\"/>\n      <use x=\"439.892578\" xlink:href=\"#DejaVuSans-101\"/>\n     </g>\n    </g>\n   </g>\n   <g id=\"matplotlib.axis_2\">\n    <g id=\"ytick_1\">\n     <g id=\"line2d_10\">\n      <defs>\n       <path d=\"M 0 0 \nL -3.5 0 \n\" id=\"md0175d988e\" style=\"stroke:#000000;stroke-width:0.8;\"/>\n      </defs>\n      <g>\n       <use style=\"stroke:#000000;stroke-width:0.8;\" x=\"26.925\" xlink:href=\"#md0175d988e\" y=\"214.344146\"/>\n      </g>\n     </g>\n     <g id=\"text_9\">\n      <!-- 0 -->\n      <g transform=\"translate(13.5625 218.143365)scale(0.1 -0.1)\">\n       <use xlink:href=\"#DejaVuSans-48\"/>\n      </g>\n     </g>\n    </g>\n    <g id=\"ytick_2\">\n     <g id=\"line2d_11\">\n      <g>\n       <use style=\"stroke:#000000;stroke-width:0.8;\" x=\"26.925\" xlink:href=\"#md0175d988e\" y=\"177.240867\"/>\n      </g>\n     </g>\n     <g id=\"text_10\">\n      <!-- 10 -->\n      <g transform=\"translate(7.2 181.040086)scale(0.1 -0.1)\">\n       <use xlink:href=\"#DejaVuSans-49\"/>\n       <use x=\"63.623047\" xlink:href=\"#DejaVuSans-48\"/>\n      </g>\n     </g>\n    </g>\n    <g id=\"ytick_3\">\n     <g id=\"line2d_12\">\n      <g>\n       <use style=\"stroke:#000000;stroke-width:0.8;\" x=\"26.925\" xlink:href=\"#md0175d988e\" y=\"140.137588\"/>\n      </g>\n     </g>\n     <g id=\"text_11\">\n      <!-- 20 -->\n      <g transform=\"translate(7.2 143.936807)scale(0.1 -0.1)\">\n       <use xlink:href=\"#DejaVuSans-50\"/>\n       <use x=\"63.623047\" xlink:href=\"#DejaVuSans-48\"/>\n      </g>\n     </g>\n    </g>\n    <g id=\"ytick_4\">\n     <g id=\"line2d_13\">\n      <g>\n       <use style=\"stroke:#000000;stroke-width:0.8;\" x=\"26.925\" xlink:href=\"#md0175d988e\" y=\"103.03431\"/>\n      </g>\n     </g>\n     <g id=\"text_12\">\n      <!-- 30 -->\n      <g transform=\"translate(7.2 106.833528)scale(0.1 -0.1)\">\n       <defs>\n        <path d=\"M 40.578125 39.3125 \nQ 47.65625 37.796875 51.625 33 \nQ 55.609375 28.21875 55.609375 21.1875 \nQ 55.609375 10.40625 48.1875 4.484375 \nQ 40.765625 -1.421875 27.09375 -1.421875 \nQ 22.515625 -1.421875 17.65625 -0.515625 \nQ 12.796875 0.390625 7.625 2.203125 \nL 7.625 11.71875 \nQ 11.71875 9.328125 16.59375 8.109375 \nQ 21.484375 6.890625 26.8125 6.890625 \nQ 36.078125 6.890625 40.9375 10.546875 \nQ 45.796875 14.203125 45.796875 21.1875 \nQ 45.796875 27.640625 41.28125 31.265625 \nQ 36.765625 34.90625 28.71875 34.90625 \nL 20.21875 34.90625 \nL 20.21875 43.015625 \nL 29.109375 43.015625 \nQ 36.375 43.015625 40.234375 45.921875 \nQ 44.09375 48.828125 44.09375 54.296875 \nQ 44.09375 59.90625 40.109375 62.90625 \nQ 36.140625 65.921875 28.71875 65.921875 \nQ 24.65625 65.921875 20.015625 65.03125 \nQ 15.375 64.15625 9.8125 62.3125 \nL 9.8125 71.09375 \nQ 15.4375 72.65625 20.34375 73.4375 \nQ 25.25 74.21875 29.59375 74.21875 \nQ 40.828125 74.21875 47.359375 69.109375 \nQ 53.90625 64.015625 53.90625 55.328125 \nQ 53.90625 49.265625 50.4375 45.09375 \nQ 46.96875 40.921875 40.578125 39.3125 \nz\n\" id=\"DejaVuSans-51\"/>\n       </defs>\n       <use xlink:href=\"#DejaVuSans-51\"/>\n       <use x=\"63.623047\" xlink:href=\"#DejaVuSans-48\"/>\n      </g>\n     </g>\n    </g>\n    <g id=\"ytick_5\">\n     <g id=\"line2d_14\">\n      <g>\n       <use style=\"stroke:#000000;stroke-width:0.8;\" x=\"26.925\" xlink:href=\"#md0175d988e\" y=\"65.931031\"/>\n      </g>\n     </g>\n     <g id=\"text_13\">\n      <!-- 40 -->\n      <g transform=\"translate(7.2 69.730249)scale(0.1 -0.1)\">\n       <defs>\n        <path d=\"M 37.796875 64.3125 \nL 12.890625 25.390625 \nL 37.796875 25.390625 \nz\nM 35.203125 72.90625 \nL 47.609375 72.90625 \nL 47.609375 25.390625 \nL 58.015625 25.390625 \nL 58.015625 17.1875 \nL 47.609375 17.1875 \nL 47.609375 0 \nL 37.796875 0 \nL 37.796875 17.1875 \nL 4.890625 17.1875 \nL 4.890625 26.703125 \nz\n\" id=\"DejaVuSans-52\"/>\n       </defs>\n       <use xlink:href=\"#DejaVuSans-52\"/>\n       <use x=\"63.623047\" xlink:href=\"#DejaVuSans-48\"/>\n      </g>\n     </g>\n    </g>\n    <g id=\"ytick_6\">\n     <g id=\"line2d_15\">\n      <g>\n       <use style=\"stroke:#000000;stroke-width:0.8;\" x=\"26.925\" xlink:href=\"#md0175d988e\" y=\"28.827752\"/>\n      </g>\n     </g>\n     <g id=\"text_14\">\n      <!-- 50 -->\n      <g transform=\"translate(7.2 32.62697)scale(0.1 -0.1)\">\n       <defs>\n        <path d=\"M 10.796875 72.90625 \nL 49.515625 72.90625 \nL 49.515625 64.59375 \nL 19.828125 64.59375 \nL 19.828125 46.734375 \nQ 21.96875 47.46875 24.109375 47.828125 \nQ 26.265625 48.1875 28.421875 48.1875 \nQ 40.625 48.1875 47.75 41.5 \nQ 54.890625 34.8125 54.890625 23.390625 \nQ 54.890625 11.625 47.5625 5.09375 \nQ 40.234375 -1.421875 26.90625 -1.421875 \nQ 22.3125 -1.421875 17.546875 -0.640625 \nQ 12.796875 0.140625 7.71875 1.703125 \nL 7.71875 11.625 \nQ 12.109375 9.234375 16.796875 8.0625 \nQ 21.484375 6.890625 26.703125 6.890625 \nQ 35.15625 6.890625 40.078125 11.328125 \nQ 45.015625 15.765625 45.015625 23.390625 \nQ 45.015625 31 40.078125 35.4375 \nQ 35.15625 39.890625 26.703125 39.890625 \nQ 22.75 39.890625 18.8125 39.015625 \nQ 14.890625 38.140625 10.796875 36.28125 \nz\n\" id=\"DejaVuSans-53\"/>\n       </defs>\n       <use xlink:href=\"#DejaVuSans-53\"/>\n       <use x=\"63.623047\" xlink:href=\"#DejaVuSans-48\"/>\n      </g>\n     </g>\n    </g>\n   </g>\n   <g id=\"line2d_16\">\n    <path clip-path=\"url(#p24023f56a1)\" d=\"M 26.925 197.965089 \nL 31.903439 198.275013 \nL 35.637268 198.776352 \nL 38.126487 199.30064 \nL 39.371097 199.385124 \nL 40.615706 199.634792 \nL 41.860316 199.581605 \nL 43.104926 199.664215 \nL 44.349535 199.557506 \nL 49.327974 198.301393 \nL 50.572584 197.922142 \nL 51.817193 197.95791 \nL 55.551022 197.540628 \nL 56.795632 196.945083 \nL 58.040242 196.869949 \nL 59.284851 196.570043 \nL 60.529461 196.687994 \nL 61.774071 193.86809 \nL 64.26329 194.602289 \nL 65.5079 195.256272 \nL 66.752509 192.246194 \nL 67.997119 193.214627 \nL 69.241729 190.293485 \nL 70.486338 189.484003 \nL 71.730948 187.310938 \nL 72.975558 184.008635 \nL 74.220167 183.821227 \nL 75.464777 182.439278 \nL 76.709387 182.022627 \nL 77.953996 179.823571 \nL 79.198606 180.545935 \nL 80.443216 178.389158 \nL 81.687825 178.775589 \nL 82.932435 178.858032 \nL 84.177045 179.845443 \nL 85.421654 175.589419 \nL 86.666264 174.587018 \nL 87.910874 179.861954 \nL 89.155483 178.235013 \nL 90.400093 179.990239 \nL 91.644703 190.149766 \nL 92.889312 192.428408 \nL 94.133922 185.622275 \nL 95.378532 183.341648 \nL 97.867751 188.66582 \nL 99.112361 187.055519 \nL 100.35697 182.758459 \nL 101.60158 183.6361 \nL 102.84619 188.480322 \nL 104.090799 190.345764 \nL 105.335409 189.897519 \nL 106.580019 189.153747 \nL 107.824628 189.211424 \nL 109.069238 191.059371 \nL 110.313848 189.324515 \nL 111.558457 189.725638 \nL 112.803067 191.643896 \nL 114.047677 193.227928 \nL 115.292286 194.42731 \nL 116.536896 194.941209 \nL 117.781506 194.918576 \nL 119.026115 193.63022 \nL 120.270725 193.969159 \nL 121.515335 194.595722 \nL 124.004554 195.336099 \nL 125.249164 195.561836 \nL 126.493773 196.056552 \nL 127.738383 195.812376 \nL 128.982993 196.425248 \nL 130.227602 196.623769 \nL 131.472212 194.816171 \nL 132.716822 196.104415 \nL 133.961431 197.172118 \nL 135.206041 197.860662 \nL 136.450651 198.337699 \nL 137.69526 198.307089 \nL 141.429089 199.928836 \nL 142.673699 199.88856 \nL 143.918309 200.346545 \nL 145.162918 203.571358 \nL 147.652138 203.502735 \nL 148.896747 202.803876 \nL 150.141357 201.94744 \nL 152.630576 201.464003 \nL 155.119796 201.050561 \nL 157.609015 201.869356 \nL 158.853625 201.423634 \nL 160.098234 201.441982 \nL 161.342844 201.697549 \nL 162.587454 201.56804 \nL 163.832063 201.554498 \nL 165.076673 203.00095 \nL 166.321283 202.942253 \nL 167.565892 202.707185 \nL 170.055112 201.866703 \nL 173.788941 202.125332 \nL 175.03355 201.689294 \nL 176.27816 201.55331 \nL 180.011989 201.89774 \nL 181.256599 201.937403 \nL 183.745818 201.793795 \nL 184.990428 201.910281 \nL 187.479647 202.505714 \nL 196.191914 202.815341 \nL 198.681134 202.425812 \nL 199.925743 202.369453 \nL 201.170353 202.477738 \nL 203.659572 203.372892 \nL 204.904182 203.595864 \nL 206.148792 203.654191 \nL 207.393401 203.831173 \nL 208.638011 203.843325 \nL 209.882621 203.679885 \nL 211.12723 203.334286 \nL 212.37184 203.452738 \nL 216.105669 203.302823 \nL 217.350279 203.481939 \nL 218.594888 204.465157 \nL 219.839498 203.761549 \nL 221.084108 203.546814 \nL 222.328717 203.68788 \nL 229.796375 202.450097 \nL 231.040985 202.206031 \nL 232.285595 201.711927 \nL 233.530204 201.367107 \nL 234.774814 201.265834 \nL 236.019424 200.349402 \nL 237.264033 199.82478 \nL 238.508643 199.441688 \nL 239.753253 198.937715 \nL 240.997862 199.01168 \nL 242.242472 198.796759 \nL 243.487082 198.349813 \nL 244.731691 198.808039 \nL 245.976301 199.028024 \nL 248.46552 198.19858 \nL 249.71013 195.482305 \nL 250.95474 195.47776 \nL 252.199349 194.770089 \nL 253.443959 189.272886 \nL 254.688569 189.617575 \nL 255.933178 187.866078 \nL 257.177788 184.939352 \nL 258.422398 180.197832 \nL 259.667007 184.358779 \nL 260.911617 182.215341 \nL 262.156227 182.657389 \nL 263.400836 182.326595 \nL 264.645446 184.737733 \nL 265.890056 186.742998 \nL 267.134665 182.169073 \nL 268.379275 180.45557 \nL 269.623885 180.841073 \nL 270.868494 181.389645 \nL 272.113104 186.296034 \nL 273.357714 201.238879 \nL 277.091543 201.101077 \nL 279.580762 200.951421 \nL 298.249907 201.447789 \nL 301.983736 201.66744 \nL 303.228346 201.518099 \nL 305.717565 201.635921 \nL 325.63132 201.171258 \nL 340.566636 200.870777 \nL 356.746561 200.802563 \nL 361.725 200.793287 \nL 361.725 200.793287 \n\" style=\"fill:none;stroke:#1f77b4;stroke-linecap:square;stroke-width:1.5;\"/>\n   </g>\n   <g id=\"line2d_17\">\n    <path clip-path=\"url(#p24023f56a1)\" d=\"M 26.925 214.344101 \nL 270.868494 214.344246 \nL 272.113104 212.163377 \nL 273.357714 203.342814 \nL 288.29303 203.314811 \nL 334.343587 203.300847 \nL 361.725 203.28288 \nL 361.725 203.28288 \n\" style=\"fill:none;stroke:#ff7f0e;stroke-linecap:square;stroke-width:1.5;\"/>\n   </g>\n   <g id=\"line2d_18\">\n    <path clip-path=\"url(#p24023f56a1)\" d=\"M 26.925 214.692917 \nL 84.177045 214.58272 \nL 86.666264 214.518532 \nL 87.910874 214.642828 \nL 89.155483 214.576042 \nL 92.889312 214.75488 \nL 94.133922 214.596077 \nL 96.623141 214.619453 \nL 99.112361 214.63281 \nL 101.60158 214.599417 \nL 104.090799 214.676221 \nL 110.313848 214.626131 \nL 146.407528 214.626131 \nL 150.141357 214.559345 \nL 252.199349 214.486252 \nL 253.443959 214.386073 \nL 255.933178 214.534115 \nL 258.422398 214.402769 \nL 263.400836 214.49293 \nL 264.645446 214.389412 \nL 265.890056 214.482541 \nL 268.379275 214.44618 \nL 270.868494 214.472895 \nL 272.113104 211.005779 \nL 273.357714 161.568999 \nL 274.602323 95.391962 \nL 275.846933 49.298558 \nL 277.091543 41.437672 \nL 278.336152 52.897205 \nL 279.580762 17.340391 \nL 280.825372 18.150541 \nL 282.069981 17.808449 \nL 283.314591 18.048878 \nL 284.559201 17.74222 \nL 287.04842 18.339211 \nL 288.29303 18.14108 \nL 289.537639 17.821806 \nL 290.782249 17.903804 \nL 292.026859 17.834978 \nL 293.271468 17.887664 \nL 294.516078 17.429253 \nL 295.760688 17.600485 \nL 297.005297 17.982649 \nL 298.249907 17.577852 \nL 299.494517 17.58787 \nL 300.739126 17.102745 \nL 304.472955 17.798617 \nL 305.717565 17.65985 \nL 306.962175 17.78563 \nL 308.206784 17.610688 \nL 309.451394 17.913822 \nL 310.696004 18.098597 \nL 311.940613 17.597146 \nL 313.185223 17.936641 \nL 314.429833 17.693243 \nL 315.674442 17.775241 \nL 316.919052 18.483543 \nL 318.163662 18.259254 \nL 319.408271 18.526583 \nL 320.652881 18.341994 \nL 321.897491 18.780555 \nL 323.1421 18.602459 \nL 324.38671 18.757365 \nL 325.63132 18.497086 \nL 326.875929 18.839549 \nL 328.120539 18.780555 \nL 329.365149 18.843074 \nL 330.609758 19.284603 \nL 333.098978 18.952157 \nL 335.588197 19.343968 \nL 338.077416 19.255106 \nL 339.322026 18.922104 \nL 341.811245 19.04102 \nL 343.055855 18.833427 \nL 345.545074 18.767198 \nL 346.789684 18.269643 \nL 348.034294 18.121415 \nL 349.278903 18.233467 \nL 350.523513 18.10509 \nL 351.768123 17.798431 \nL 353.012732 17.864475 \nL 354.257342 17.442982 \nL 356.746561 17.293826 \nL 357.991171 17.435746 \nL 359.235781 17.211643 \nL 361.725 17.083636 \nL 361.725 17.083636 \n\" style=\"fill:none;stroke:#2ca02c;stroke-linecap:square;stroke-width:1.5;\"/>\n   </g>\n   <g id=\"line2d_19\">\n    <path clip-path=\"url(#p24023f56a1)\" d=\"M 26.925 214.338581 \nL 270.868494 214.344146 \nL 272.113104 190.907879 \nL 273.357714 95.571393 \nL 275.846933 95.45513 \nL 287.04842 95.437024 \nL 323.1421 95.4696 \nL 361.725 95.371462 \nL 361.725 95.371462 \n\" style=\"fill:none;stroke:#d62728;stroke-linecap:square;stroke-width:1.5;\"/>\n   </g>\n   <g id=\"patch_3\">\n    <path d=\"M 26.925 224.64 \nL 26.925 7.2 \n\" style=\"fill:none;stroke:#000000;stroke-linecap:square;stroke-linejoin:miter;stroke-width:0.8;\"/>\n   </g>\n   <g id=\"patch_4\">\n    <path d=\"M 361.725 224.64 \nL 361.725 7.2 \n\" style=\"fill:none;stroke:#000000;stroke-linecap:square;stroke-linejoin:miter;stroke-width:0.8;\"/>\n   </g>\n   <g id=\"patch_5\">\n    <path d=\"M 26.925 224.64 \nL 361.725 224.64 \n\" style=\"fill:none;stroke:#000000;stroke-linecap:square;stroke-linejoin:miter;stroke-width:0.8;\"/>\n   </g>\n   <g id=\"patch_6\">\n    <path d=\"M 26.925 7.2 \nL 361.725 7.2 \n\" style=\"fill:none;stroke:#000000;stroke-linecap:square;stroke-linejoin:miter;stroke-width:0.8;\"/>\n   </g>\n   <g id=\"legend_1\">\n    <g id=\"patch_7\">\n     <path d=\"M 33.925 73.9125 \nL 128.776563 73.9125 \nQ 130.776563 73.9125 130.776563 71.9125 \nL 130.776563 14.2 \nQ 130.776563 12.2 128.776563 12.2 \nL 33.925 12.2 \nQ 31.925 12.2 31.925 14.2 \nL 31.925 71.9125 \nQ 31.925 73.9125 33.925 73.9125 \nz\n\" style=\"fill:#ffffff;opacity:0.8;stroke:#cccccc;stroke-linejoin:miter;\"/>\n    </g>\n    <g id=\"line2d_20\">\n     <path d=\"M 35.925 20.298437 \nL 55.925 20.298437 \n\" style=\"fill:none;stroke:#1f77b4;stroke-linecap:square;stroke-width:1.5;\"/>\n    </g>\n    <g id=\"line2d_21\"/>\n    <g id=\"text_15\">\n     <!-- temperature -->\n     <g transform=\"translate(63.925 23.798437)scale(0.1 -0.1)\">\n      <defs>\n       <path d=\"M 18.109375 8.203125 \nL 18.109375 -20.796875 \nL 9.078125 -20.796875 \nL 9.078125 54.6875 \nL 18.109375 54.6875 \nL 18.109375 46.390625 \nQ 20.953125 51.265625 25.265625 53.625 \nQ 29.59375 56 35.59375 56 \nQ 45.5625 56 51.78125 48.09375 \nQ 58.015625 40.1875 58.015625 27.296875 \nQ 58.015625 14.40625 51.78125 6.484375 \nQ 45.5625 -1.421875 35.59375 -1.421875 \nQ 29.59375 -1.421875 25.265625 0.953125 \nQ 20.953125 3.328125 18.109375 8.203125 \nz\nM 48.6875 27.296875 \nQ 48.6875 37.203125 44.609375 42.84375 \nQ 40.53125 48.484375 33.40625 48.484375 \nQ 26.265625 48.484375 22.1875 42.84375 \nQ 18.109375 37.203125 18.109375 27.296875 \nQ 18.109375 17.390625 22.1875 11.75 \nQ 26.265625 6.109375 33.40625 6.109375 \nQ 40.53125 6.109375 44.609375 11.75 \nQ 48.6875 17.390625 48.6875 27.296875 \nz\n\" id=\"DejaVuSans-112\"/>\n       <path d=\"M 41.109375 46.296875 \nQ 39.59375 47.171875 37.8125 47.578125 \nQ 36.03125 48 33.890625 48 \nQ 26.265625 48 22.1875 43.046875 \nQ 18.109375 38.09375 18.109375 28.8125 \nL 18.109375 0 \nL 9.078125 0 \nL 9.078125 54.6875 \nL 18.109375 54.6875 \nL 18.109375 46.1875 \nQ 20.953125 51.171875 25.484375 53.578125 \nQ 30.03125 56 36.53125 56 \nQ 37.453125 56 38.578125 55.875 \nQ 39.703125 55.765625 41.0625 55.515625 \nz\n\" id=\"DejaVuSans-114\"/>\n       <path d=\"M 8.5 21.578125 \nL 8.5 54.6875 \nL 17.484375 54.6875 \nL 17.484375 21.921875 \nQ 17.484375 14.15625 20.5 10.265625 \nQ 23.53125 6.390625 29.59375 6.390625 \nQ 36.859375 6.390625 41.078125 11.03125 \nQ 45.3125 15.671875 45.3125 23.6875 \nL 45.3125 54.6875 \nL 54.296875 54.6875 \nL 54.296875 0 \nL 45.3125 0 \nL 45.3125 8.40625 \nQ 42.046875 3.421875 37.71875 1 \nQ 33.40625 -1.421875 27.6875 -1.421875 \nQ 18.265625 -1.421875 13.375 4.4375 \nQ 8.5 10.296875 8.5 21.578125 \nz\nM 31.109375 56 \nz\n\" id=\"DejaVuSans-117\"/>\n      </defs>\n      <use xlink:href=\"#DejaVuSans-116\"/>\n      <use x=\"39.208984\" xlink:href=\"#DejaVuSans-101\"/>\n      <use x=\"100.732422\" xlink:href=\"#DejaVuSans-109\"/>\n      <use x=\"198.144531\" xlink:href=\"#DejaVuSans-112\"/>\n      <use x=\"261.621094\" xlink:href=\"#DejaVuSans-101\"/>\n      <use x=\"323.144531\" xlink:href=\"#DejaVuSans-114\"/>\n      <use x=\"364.257812\" xlink:href=\"#DejaVuSans-97\"/>\n      <use x=\"425.537109\" xlink:href=\"#DejaVuSans-116\"/>\n      <use x=\"464.746094\" xlink:href=\"#DejaVuSans-117\"/>\n      <use x=\"528.125\" xlink:href=\"#DejaVuSans-114\"/>\n      <use x=\"566.988281\" xlink:href=\"#DejaVuSans-101\"/>\n     </g>\n    </g>\n    <g id=\"line2d_22\">\n     <path d=\"M 35.925 34.976562 \nL 55.925 34.976562 \n\" style=\"fill:none;stroke:#ff7f0e;stroke-linecap:square;stroke-width:1.5;\"/>\n    </g>\n    <g id=\"line2d_23\"/>\n    <g id=\"text_16\">\n     <!-- conductivity -->\n     <g transform=\"translate(63.925 38.476562)scale(0.1 -0.1)\">\n      <defs>\n       <path d=\"M 48.78125 52.59375 \nL 48.78125 44.1875 \nQ 44.96875 46.296875 41.140625 47.34375 \nQ 37.3125 48.390625 33.40625 48.390625 \nQ 24.65625 48.390625 19.8125 42.84375 \nQ 14.984375 37.3125 14.984375 27.296875 \nQ 14.984375 17.28125 19.8125 11.734375 \nQ 24.65625 6.203125 33.40625 6.203125 \nQ 37.3125 6.203125 41.140625 7.25 \nQ 44.96875 8.296875 48.78125 10.40625 \nL 48.78125 2.09375 \nQ 45.015625 0.34375 40.984375 -0.53125 \nQ 36.96875 -1.421875 32.421875 -1.421875 \nQ 20.0625 -1.421875 12.78125 6.34375 \nQ 5.515625 14.109375 5.515625 27.296875 \nQ 5.515625 40.671875 12.859375 48.328125 \nQ 20.21875 56 33.015625 56 \nQ 37.15625 56 41.109375 55.140625 \nQ 45.0625 54.296875 48.78125 52.59375 \nz\n\" id=\"DejaVuSans-99\"/>\n       <path d=\"M 30.609375 48.390625 \nQ 23.390625 48.390625 19.1875 42.75 \nQ 14.984375 37.109375 14.984375 27.296875 \nQ 14.984375 17.484375 19.15625 11.84375 \nQ 23.34375 6.203125 30.609375 6.203125 \nQ 37.796875 6.203125 41.984375 11.859375 \nQ 46.1875 17.53125 46.1875 27.296875 \nQ 46.1875 37.015625 41.984375 42.703125 \nQ 37.796875 48.390625 30.609375 48.390625 \nz\nM 30.609375 56 \nQ 42.328125 56 49.015625 48.375 \nQ 55.71875 40.765625 55.71875 27.296875 \nQ 55.71875 13.875 49.015625 6.21875 \nQ 42.328125 -1.421875 30.609375 -1.421875 \nQ 18.84375 -1.421875 12.171875 6.21875 \nQ 5.515625 13.875 5.515625 27.296875 \nQ 5.515625 40.765625 12.171875 48.375 \nQ 18.84375 56 30.609375 56 \nz\n\" id=\"DejaVuSans-111\"/>\n       <path d=\"M 54.890625 33.015625 \nL 54.890625 0 \nL 45.90625 0 \nL 45.90625 32.71875 \nQ 45.90625 40.484375 42.875 44.328125 \nQ 39.84375 48.1875 33.796875 48.1875 \nQ 26.515625 48.1875 22.3125 43.546875 \nQ 18.109375 38.921875 18.109375 30.90625 \nL 18.109375 0 \nL 9.078125 0 \nL 9.078125 54.6875 \nL 18.109375 54.6875 \nL 18.109375 46.1875 \nQ 21.34375 51.125 25.703125 53.5625 \nQ 30.078125 56 35.796875 56 \nQ 45.21875 56 50.046875 50.171875 \nQ 54.890625 44.34375 54.890625 33.015625 \nz\n\" id=\"DejaVuSans-110\"/>\n       <path d=\"M 2.984375 54.6875 \nL 12.5 54.6875 \nL 29.59375 8.796875 \nL 46.6875 54.6875 \nL 56.203125 54.6875 \nL 35.6875 0 \nL 23.484375 0 \nz\n\" id=\"DejaVuSans-118\"/>\n      </defs>\n      <use xlink:href=\"#DejaVuSans-99\"/>\n      <use x=\"54.980469\" xlink:href=\"#DejaVuSans-111\"/>\n      <use x=\"116.162109\" xlink:href=\"#DejaVuSans-110\"/>\n      <use x=\"179.541016\" xlink:href=\"#DejaVuSans-100\"/>\n      <use x=\"243.017578\" xlink:href=\"#DejaVuSans-117\"/>\n      <use x=\"306.396484\" xlink:href=\"#DejaVuSans-99\"/>\n      <use x=\"361.376953\" xlink:href=\"#DejaVuSans-116\"/>\n      <use x=\"400.585938\" xlink:href=\"#DejaVuSans-105\"/>\n      <use x=\"428.369141\" xlink:href=\"#DejaVuSans-118\"/>\n      <use x=\"487.548828\" xlink:href=\"#DejaVuSans-105\"/>\n      <use x=\"515.332031\" xlink:href=\"#DejaVuSans-116\"/>\n      <use x=\"554.541016\" xlink:href=\"#DejaVuSans-121\"/>\n     </g>\n    </g>\n    <g id=\"line2d_24\">\n     <path d=\"M 35.925 49.654687 \nL 55.925 49.654687 \n\" style=\"fill:none;stroke:#2ca02c;stroke-linecap:square;stroke-width:1.5;\"/>\n    </g>\n    <g id=\"line2d_25\"/>\n    <g id=\"text_17\">\n     <!-- pressure -->\n     <g transform=\"translate(63.925 53.154687)scale(0.1 -0.1)\">\n      <defs>\n       <path d=\"M 44.28125 53.078125 \nL 44.28125 44.578125 \nQ 40.484375 46.53125 36.375 47.5 \nQ 32.28125 48.484375 27.875 48.484375 \nQ 21.1875 48.484375 17.84375 46.4375 \nQ 14.5 44.390625 14.5 40.28125 \nQ 14.5 37.15625 16.890625 35.375 \nQ 19.28125 33.59375 26.515625 31.984375 \nL 29.59375 31.296875 \nQ 39.15625 29.25 43.1875 25.515625 \nQ 47.21875 21.78125 47.21875 15.09375 \nQ 47.21875 7.46875 41.1875 3.015625 \nQ 35.15625 -1.421875 24.609375 -1.421875 \nQ 20.21875 -1.421875 15.453125 -0.5625 \nQ 10.6875 0.296875 5.421875 2 \nL 5.421875 11.28125 \nQ 10.40625 8.6875 15.234375 7.390625 \nQ 20.0625 6.109375 24.8125 6.109375 \nQ 31.15625 6.109375 34.5625 8.28125 \nQ 37.984375 10.453125 37.984375 14.40625 \nQ 37.984375 18.0625 35.515625 20.015625 \nQ 33.0625 21.96875 24.703125 23.78125 \nL 21.578125 24.515625 \nQ 13.234375 26.265625 9.515625 29.90625 \nQ 5.8125 33.546875 5.8125 39.890625 \nQ 5.8125 47.609375 11.28125 51.796875 \nQ 16.75 56 26.8125 56 \nQ 31.78125 56 36.171875 55.265625 \nQ 40.578125 54.546875 44.28125 53.078125 \nz\n\" id=\"DejaVuSans-115\"/>\n      </defs>\n      <use xlink:href=\"#DejaVuSans-112\"/>\n      <use x=\"63.476562\" xlink:href=\"#DejaVuSans-114\"/>\n      <use x=\"102.339844\" xlink:href=\"#DejaVuSans-101\"/>\n      <use x=\"163.863281\" xlink:href=\"#DejaVuSans-115\"/>\n      <use x=\"215.962891\" xlink:href=\"#DejaVuSans-115\"/>\n      <use x=\"268.0625\" xlink:href=\"#DejaVuSans-117\"/>\n      <use x=\"331.441406\" xlink:href=\"#DejaVuSans-114\"/>\n      <use x=\"370.304688\" xlink:href=\"#DejaVuSans-101\"/>\n     </g>\n    </g>\n    <g id=\"line2d_26\">\n     <path d=\"M 35.925 64.332812 \nL 55.925 64.332812 \n\" style=\"fill:none;stroke:#d62728;stroke-linecap:square;stroke-width:1.5;\"/>\n    </g>\n    <g id=\"line2d_27\"/>\n    <g id=\"text_18\">\n     <!-- salinity -->\n     <g transform=\"translate(63.925 67.832812)scale(0.1 -0.1)\">\n      <defs>\n       <path d=\"M 9.421875 75.984375 \nL 18.40625 75.984375 \nL 18.40625 0 \nL 9.421875 0 \nz\n\" id=\"DejaVuSans-108\"/>\n      </defs>\n      <use xlink:href=\"#DejaVuSans-115\"/>\n      <use x=\"52.099609\" xlink:href=\"#DejaVuSans-97\"/>\n      <use x=\"113.378906\" xlink:href=\"#DejaVuSans-108\"/>\n      <use x=\"141.162109\" xlink:href=\"#DejaVuSans-105\"/>\n      <use x=\"168.945312\" xlink:href=\"#DejaVuSans-110\"/>\n      <use x=\"232.324219\" xlink:href=\"#DejaVuSans-105\"/>\n      <use x=\"260.107422\" xlink:href=\"#DejaVuSans-116\"/>\n      <use x=\"299.316406\" xlink:href=\"#DejaVuSans-121\"/>\n     </g>\n    </g>\n   </g>\n  </g>\n </g>\n <defs>\n  <clipPath id=\"p24023f56a1\">\n   <rect height=\"217.44\" width=\"334.8\" x=\"26.925\" y=\"7.2\"/>\n  </clipPath>\n </defs>\n</svg>\n",
      "image/png": "[encoded data removed]"
     },
     "metadata": {
      "needs_background": "light"
     }
    }
   ],
   "source": [
    "sbe37_wop_data.plot()"
   ]
  },
  {
   "cell_type": "markdown",
   "id": "acknowledged-active",
   "metadata": {},
   "source": [
    "## Add Deployment meta information\n",
    "\n",
    "Two methods are available (if comming from python2 world - ordereddict was important... in py38 a dictionary is inherently ordered)"
   ]
  },
  {
   "cell_type": "code",
   "execution_count": 30,
   "id": "freelance-fairy",
   "metadata": {},
   "outputs": [],
   "source": [
    "#just a dictionary of dictionaries - simple\n",
    "with open(mooring_meta_file) as file:\n",
    "    mooring_config = yaml.full_load(file)"
   ]
  },
  {
   "cell_type": "markdown",
   "id": "mysterious-cornwall",
   "metadata": {},
   "source": [
    "## Add Instrument meta information\n",
    "\n",
    "Time, depth, lat, lon should be added regardless (always our coordinates) but for a mooring site its going to be a (1,1,1,t) dataset\n",
    "The variables of interest should be read from the data file and matched to a key for naming.  That key is in the inst_config file seen below and should represent common conversion names in the raw data"
   ]
  },
  {
   "cell_type": "code",
   "execution_count": 31,
   "metadata": {},
   "outputs": [],
   "source": [
    "with open(inst_meta_file) as file:\n",
    "    inst_config = yaml.full_load(file)"
   ]
  },
  {
   "cell_type": "code",
   "execution_count": 32,
   "id": "varied-popularity",
   "metadata": {},
   "outputs": [
    {
     "output_type": "execute_result",
     "data": {
      "text/plain": [
       "<EcoFOCIpy.io.ncCFsave.EcoFOCI_CFnc_moored at 0x164261d90>"
      ]
     },
     "metadata": {},
     "execution_count": 32
    }
   ],
   "source": [
    "# Add meta data and prelim processing based on meta data\n",
    "# Convert to xarray and add meta information - save as CF netcdf file\n",
    "# pass -> data, instmeta, depmeta\n",
    "sbe37_wop_nc = ncCFsave.EcoFOCI_CFnc_moored(df=sbe37_wop_data, \n",
    "                                instrument_yaml=inst_config, \n",
    "                                mooring_yaml=mooring_config, \n",
    "                                instrument_id=instrument, \n",
    "                                inst_shortname=inst_shortname)\n",
    "sbe37_wop_nc"
   ]
  },
  {
   "cell_type": "markdown",
   "id": "asian-chambers",
   "metadata": {},
   "source": [
    "At this point, you could save your file with the `.xarray2netcdf_save()` method and have a functioning dataset.... but it would be very simple with no additional qc, meta-data, or tuned parameters for optimizing software like ferret or erddap."
   ]
  },
  {
   "cell_type": "code",
   "execution_count": 33,
   "id": "practical-pennsylvania",
   "metadata": {},
   "outputs": [],
   "source": [
    "# expand the dimensions and coordinate variables\n",
    "# renames them appropriatley and prepares them for meta-filled values\n",
    "sbe37_wop_nc.expand_dimensions()"
   ]
  },
  {
   "cell_type": "code",
   "execution_count": 34,
   "id": "floral-operations",
   "metadata": {},
   "outputs": [],
   "source": [
    "sbe37_wop_nc.variable_meta_data(variable_keys=['temperature'])\n",
    "sbe37_wop_nc.temporal_geospatioal_meta_data(depth='designed')\n",
    "#adding dimension meta needs to come after updating the dimension values... BUG?\n",
    "sbe37_wop_nc.dimension_meta_data(variable_keys=['depth','latitude','longitude'])"
   ]
  },
  {
   "cell_type": "markdown",
   "id": "seventh-product",
   "metadata": {},
   "source": [
    "The following steps can happen in just about any order and are all meta-data driven.  Therefore, they are not required to have a functioning dataset, but they are required to have a well described dataset"
   ]
  },
  {
   "cell_type": "code",
   "execution_count": 35,
   "id": "auburn-diversity",
   "metadata": {},
   "outputs": [],
   "source": [
    "#add global attributes\n",
    "sbe37_wop_nc.deployment_meta_add()\n",
    "sbe37_wop_nc.get_xdf()\n",
    "\n",
    "#add instituitonal global attributes\n",
    "sbe37_wop_nc.institution_meta_add()\n",
    "\n",
    "#add creation date/time - provenance data\n",
    "sbe37_wop_nc.provinance_meta_add()\n",
    "\n",
    "#provide intial qc status field\n",
    "sbe37_wop_nc.qc_status(qc_status='unknown')\n"
   ]
  },
  {
   "cell_type": "markdown",
   "id": "sustained-hughes",
   "metadata": {},
   "source": [
    "## Save CF Netcdf files\n",
    "\n",
    "Currently stick to netcdf3 classic... but migrating to netcdf4 (default) may be no problems for most modern purposes.  Its easy enough to pass the `format` kwargs through to the netcdf api of xarray."
   ]
  },
  {
   "cell_type": "code",
   "execution_count": 36,
   "id": "modular-volunteer",
   "metadata": {},
   "outputs": [],
   "source": [
    "# combine trim (not mandatory) and filename together (saves to test.nc without name)\n",
    "sbe37_wop_nc.xarray2netcdf_save(xdf = sbe37_wop_nc.autotrim_time(),\n",
    "                           filename=sbe37_wop_nc.filename_const(),format=\"NETCDF3_CLASSIC\")\n",
    "\n",
    "# don't trim the data and pass your own filename\n",
    "sbe37_wop_nc.xarray2netcdf_save(xdf = sbe37_wop_nc.get_xdf(),\n",
    "                           filename=sbe37_wop_nc.filename_const(manual_label='test'),format=\"NETCDF4_CLASSIC\")"
   ]
  },
  {
   "cell_type": "code",
   "execution_count": 37,
   "id": "unlike-breathing",
   "metadata": {},
   "outputs": [
    {
     "output_type": "execute_result",
     "data": {
      "text/plain": [
       "<xarray.Dataset>\n",
       "Dimensions:       (depth: 1, latitude: 1, longitude: 1, time: 270)\n",
       "Coordinates:\n",
       "  * time          (time) datetime64[ns] 2018-04-30T14:00:00 ... 2018-05-02T10...\n",
       "  * longitude     (longitude) float64 -164.0\n",
       "  * latitude      (latitude) float64 56.87\n",
       "  * depth         (depth) float64 60.0\n",
       "Data variables:\n",
       "    temperature   (time, depth, latitude, longitude) float64 4.414 ... 3.652\n",
       "    conductivity  (time, depth, latitude, longitude) float64 1.222e-05 ... 2.981\n",
       "    pressure      (time, depth, latitude, longitude) float64 -0.094 ... 53.17\n",
       "    salinity      (time, depth, latitude, longitude) float64 0.0015 ... 32.07\n",
       "Attributes: (12/13)\n",
       "    Latitude-Deg_MM.dd_W:                   56 52.1729 N\n",
       "    Longitude-Deg_MM.dd_N:                  164 02.8716 W\n",
       "    MooringID:                              16BSM-2A\n",
       "    platform_deployment_date:               2016-05-05T05:51:00Z\n",
       "    platform_deployment_cruise_name:        DY1606\n",
       "    platform_recovery_date:                 2016-09-29T03:45:00Z\n",
       "    ...                                     ...\n",
       "    platform_deployment_recovery_comments:  Depth not listed - other two moor...\n",
       "    WaterDepth:                             71.0\n",
       "    date_created:                           2021-03-30T16:30:48Z\n",
       "    date_modified:                          \n",
       "    QC_indicator:                           unknown\n",
       "    history:                                Trimmed to deployment."
      ],
      "text/html": "<div><svg style=\"position: absolute; width: 0; height: 0; overflow: hidden\">\n<defs>\n<symbol id=\"icon-database\" viewBox=\"0 0 32 32\">\n<path d=\"M16 0c-8.837 0-16 2.239-16 5v4c0 2.761 7.163 5 16 5s16-2.239 16-5v-4c0-2.761-7.163-5-16-5z\"></path>\n<path d=\"M16 17c-8.837 0-16-2.239-16-5v6c0 2.761 7.163 5 16 5s16-2.239 16-5v-6c0 2.761-7.163 5-16 5z\"></path>\n<path d=\"M16 26c-8.837 0-16-2.239-16-5v6c0 2.761 7.163 5 16 5s16-2.239 16-5v-6c0 2.761-7.163 5-16 5z\"></path>\n</symbol>\n<symbol id=\"icon-file-text2\" viewBox=\"0 0 32 32\">\n<path d=\"M28.681 7.159c-0.694-0.947-1.662-2.053-2.724-3.116s-2.169-2.030-3.116-2.724c-1.612-1.182-2.393-1.319-2.841-1.319h-15.5c-1.378 0-2.5 1.121-2.5 2.5v27c0 1.378 1.122 2.5 2.5 2.5h23c1.378 0 2.5-1.122 2.5-2.5v-19.5c0-0.448-0.137-1.23-1.319-2.841zM24.543 5.457c0.959 0.959 1.712 1.825 2.268 2.543h-4.811v-4.811c0.718 0.556 1.584 1.309 2.543 2.268zM28 29.5c0 0.271-0.229 0.5-0.5 0.5h-23c-0.271 0-0.5-0.229-0.5-0.5v-27c0-0.271 0.229-0.5 0.5-0.5 0 0 15.499-0 15.5 0v7c0 0.552 0.448 1 1 1h7v19.5z\"></path>\n<path d=\"M23 26h-14c-0.552 0-1-0.448-1-1s0.448-1 1-1h14c0.552 0 1 0.448 1 1s-0.448 1-1 1z\"></path>\n<path d=\"M23 22h-14c-0.552 0-1-0.448-1-1s0.448-1 1-1h14c0.552 0 1 0.448 1 1s-0.448 1-1 1z\"></path>\n<path d=\"M23 18h-14c-0.552 0-1-0.448-1-1s0.448-1 1-1h14c0.552 0 1 0.448 1 1s-0.448 1-1 1z\"></path>\n</symbol>\n</defs>\n</svg>\n<style>/* CSS stylesheet for displaying xarray objects in jupyterlab.\n *\n */\n\n:root {\n  --xr-font-color0: var(--jp-content-font-color0, rgba(0, 0, 0, 1));\n  --xr-font-color2: var(--jp-content-font-color2, rgba(0, 0, 0, 0.54));\n  --xr-font-color3: var(--jp-content-font-color3, rgba(0, 0, 0, 0.38));\n  --xr-border-color: var(--jp-border-color2, #e0e0e0);\n  --xr-disabled-color: var(--jp-layout-color3, #bdbdbd);\n  --xr-background-color: var(--jp-layout-color0, white);\n  --xr-background-color-row-even: var(--jp-layout-color1, white);\n  --xr-background-color-row-odd: var(--jp-layout-color2, #eeeeee);\n}\n\nhtml[theme=dark],\nbody.vscode-dark {\n  --xr-font-color0: rgba(255, 255, 255, 1);\n  --xr-font-color2: rgba(255, 255, 255, 0.54);\n  --xr-font-color3: rgba(255, 255, 255, 0.38);\n  --xr-border-color: #1F1F1F;\n  --xr-disabled-color: #515151;\n  --xr-background-color: #111111;\n  --xr-background-color-row-even: #111111;\n  --xr-background-color-row-odd: #313131;\n}\n\n.xr-wrap {\n  display: block;\n  min-width: 300px;\n  max-width: 700px;\n}\n\n.xr-text-repr-fallback {\n  /* fallback to plain text repr when CSS is not injected (untrusted notebook) */\n  display: none;\n}\n\n.xr-header {\n  padding-top: 6px;\n  padding-bottom: 6px;\n  margin-bottom: 4px;\n  border-bottom: solid 1px var(--xr-border-color);\n}\n\n.xr-header > div,\n.xr-header > ul {\n  display: inline;\n  margin-top: 0;\n  margin-bottom: 0;\n}\n\n.xr-obj-type,\n.xr-array-name {\n  margin-left: 2px;\n  margin-right: 10px;\n}\n\n.xr-obj-type {\n  color: var(--xr-font-color2);\n}\n\n.xr-sections {\n  padding-left: 0 !important;\n  display: grid;\n  grid-template-columns: 150px auto auto 1fr 20px 20px;\n}\n\n.xr-section-item {\n  display: contents;\n}\n\n.xr-section-item input {\n  display: none;\n}\n\n.xr-section-item input + label {\n  color: var(--xr-disabled-color);\n}\n\n.xr-section-item input:enabled + label {\n  cursor: pointer;\n  color: var(--xr-font-color2);\n}\n\n.xr-section-item input:enabled + label:hover {\n  color: var(--xr-font-color0);\n}\n\n.xr-section-summary {\n  grid-column: 1;\n  color: var(--xr-font-color2);\n  font-weight: 500;\n}\n\n.xr-section-summary > span {\n  display: inline-block;\n  padding-left: 0.5em;\n}\n\n.xr-section-summary-in:disabled + label {\n  color: var(--xr-font-color2);\n}\n\n.xr-section-summary-in + label:before {\n  display: inline-block;\n  content: '►';\n  font-size: 11px;\n  width: 15px;\n  text-align: center;\n}\n\n.xr-section-summary-in:disabled + label:before {\n  color: var(--xr-disabled-color);\n}\n\n.xr-section-summary-in:checked + label:before {\n  content: '▼';\n}\n\n.xr-section-summary-in:checked + label > span {\n  display: none;\n}\n\n.xr-section-summary,\n.xr-section-inline-details {\n  padding-top: 4px;\n  padding-bottom: 4px;\n}\n\n.xr-section-inline-details {\n  grid-column: 2 / -1;\n}\n\n.xr-section-details {\n  display: none;\n  grid-column: 1 / -1;\n  margin-bottom: 5px;\n}\n\n.xr-section-summary-in:checked ~ .xr-section-details {\n  display: contents;\n}\n\n.xr-array-wrap {\n  grid-column: 1 / -1;\n  display: grid;\n  grid-template-columns: 20px auto;\n}\n\n.xr-array-wrap > label {\n  grid-column: 1;\n  vertical-align: top;\n}\n\n.xr-preview {\n  color: var(--xr-font-color3);\n}\n\n.xr-array-preview,\n.xr-array-data {\n  padding: 0 5px !important;\n  grid-column: 2;\n}\n\n.xr-array-data,\n.xr-array-in:checked ~ .xr-array-preview {\n  display: none;\n}\n\n.xr-array-in:checked ~ .xr-array-data,\n.xr-array-preview {\n  display: inline-block;\n}\n\n.xr-dim-list {\n  display: inline-block !important;\n  list-style: none;\n  padding: 0 !important;\n  margin: 0;\n}\n\n.xr-dim-list li {\n  display: inline-block;\n  padding: 0;\n  margin: 0;\n}\n\n.xr-dim-list:before {\n  content: '(';\n}\n\n.xr-dim-list:after {\n  content: ')';\n}\n\n.xr-dim-list li:not(:last-child):after {\n  content: ',';\n  padding-right: 5px;\n}\n\n.xr-has-index {\n  font-weight: bold;\n}\n\n.xr-var-list,\n.xr-var-item {\n  display: contents;\n}\n\n.xr-var-item > div,\n.xr-var-item label,\n.xr-var-item > .xr-var-name span {\n  background-color: var(--xr-background-color-row-even);\n  margin-bottom: 0;\n}\n\n.xr-var-item > .xr-var-name:hover span {\n  padding-right: 5px;\n}\n\n.xr-var-list > li:nth-child(odd) > div,\n.xr-var-list > li:nth-child(odd) > label,\n.xr-var-list > li:nth-child(odd) > .xr-var-name span {\n  background-color: var(--xr-background-color-row-odd);\n}\n\n.xr-var-name {\n  grid-column: 1;\n}\n\n.xr-var-dims {\n  grid-column: 2;\n}\n\n.xr-var-dtype {\n  grid-column: 3;\n  text-align: right;\n  color: var(--xr-font-color2);\n}\n\n.xr-var-preview {\n  grid-column: 4;\n}\n\n.xr-var-name,\n.xr-var-dims,\n.xr-var-dtype,\n.xr-preview,\n.xr-attrs dt {\n  white-space: nowrap;\n  overflow: hidden;\n  text-overflow: ellipsis;\n  padding-right: 10px;\n}\n\n.xr-var-name:hover,\n.xr-var-dims:hover,\n.xr-var-dtype:hover,\n.xr-attrs dt:hover {\n  overflow: visible;\n  width: auto;\n  z-index: 1;\n}\n\n.xr-var-attrs,\n.xr-var-data {\n  display: none;\n  background-color: var(--xr-background-color) !important;\n  padding-bottom: 5px !important;\n}\n\n.xr-var-attrs-in:checked ~ .xr-var-attrs,\n.xr-var-data-in:checked ~ .xr-var-data {\n  display: block;\n}\n\n.xr-var-data > table {\n  float: right;\n}\n\n.xr-var-name span,\n.xr-var-data,\n.xr-attrs {\n  padding-left: 25px !important;\n}\n\n.xr-attrs,\n.xr-var-attrs,\n.xr-var-data {\n  grid-column: 1 / -1;\n}\n\ndl.xr-attrs {\n  padding: 0;\n  margin: 0;\n  display: grid;\n  grid-template-columns: 125px auto;\n}\n\n.xr-attrs dt,\n.xr-attrs dd {\n  padding: 0;\n  margin: 0;\n  float: left;\n  padding-right: 10px;\n  width: auto;\n}\n\n.xr-attrs dt {\n  font-weight: normal;\n  grid-column: 1;\n}\n\n.xr-attrs dt:hover span {\n  display: inline-block;\n  background: var(--xr-background-color);\n  padding-right: 10px;\n}\n\n.xr-attrs dd {\n  grid-column: 2;\n  white-space: pre-wrap;\n  word-break: break-all;\n}\n\n.xr-icon-database,\n.xr-icon-file-text2 {\n  display: inline-block;\n  vertical-align: middle;\n  width: 1em;\n  height: 1.5em !important;\n  stroke-width: 0;\n  stroke: currentColor;\n  fill: currentColor;\n}\n</style><pre class='xr-text-repr-fallback'>&lt;xarray.Dataset&gt;\nDimensions:       (depth: 1, latitude: 1, longitude: 1, time: 270)\nCoordinates:\n  * time          (time) datetime64[ns] 2018-04-30T14:00:00 ... 2018-05-02T10...\n  * longitude     (longitude) float64 -164.0\n  * latitude      (latitude) float64 56.87\n  * depth         (depth) float64 60.0\nData variables:\n    temperature   (time, depth, latitude, longitude) float64 4.414 ... 3.652\n    conductivity  (time, depth, latitude, longitude) float64 1.222e-05 ... 2.981\n    pressure      (time, depth, latitude, longitude) float64 -0.094 ... 53.17\n    salinity      (time, depth, latitude, longitude) float64 0.0015 ... 32.07\nAttributes: (12/13)\n    Latitude-Deg_MM.dd_W:                   56 52.1729 N\n    Longitude-Deg_MM.dd_N:                  164 02.8716 W\n    MooringID:                              16BSM-2A\n    platform_deployment_date:               2016-05-05T05:51:00Z\n    platform_deployment_cruise_name:        DY1606\n    platform_recovery_date:                 2016-09-29T03:45:00Z\n    ...                                     ...\n    platform_deployment_recovery_comments:  Depth not listed - other two moor...\n    WaterDepth:                             71.0\n    date_created:                           2021-03-30T16:30:48Z\n    date_modified:                          \n    QC_indicator:                           unknown\n    history:                                Trimmed to deployment.</pre><div class='xr-wrap' hidden><div class='xr-header'><div class='xr-obj-type'>xarray.Dataset</div></div><ul class='xr-sections'><li class='xr-section-item'><input id='section-fb60e9d2-2836-4703-a924-d171c4c93086' class='xr-section-summary-in' type='checkbox' disabled ><label for='section-fb60e9d2-2836-4703-a924-d171c4c93086' class='xr-section-summary'  title='Expand/collapse section'>Dimensions:</label><div class='xr-section-inline-details'><ul class='xr-dim-list'><li><span class='xr-has-index'>depth</span>: 1</li><li><span class='xr-has-index'>latitude</span>: 1</li><li><span class='xr-has-index'>longitude</span>: 1</li><li><span class='xr-has-index'>time</span>: 270</li></ul></div><div class='xr-section-details'></div></li><li class='xr-section-item'><input id='section-38defd7d-2173-4d11-b9df-e6ea0a601c76' class='xr-section-summary-in' type='checkbox'  checked><label for='section-38defd7d-2173-4d11-b9df-e6ea0a601c76' class='xr-section-summary' >Coordinates: <span>(4)</span></label><div class='xr-section-inline-details'></div><div class='xr-section-details'><ul class='xr-var-list'><li class='xr-var-item'><div class='xr-var-name'><span class='xr-has-index'>time</span></div><div class='xr-var-dims'>(time)</div><div class='xr-var-dtype'>datetime64[ns]</div><div class='xr-var-preview xr-preview'>2018-04-30T14:00:00 ... 2018-05-...</div><input id='attrs-9fa03ee5-6e9e-47ec-8d54-915f7f06268a' class='xr-var-attrs-in' type='checkbox' disabled><label for='attrs-9fa03ee5-6e9e-47ec-8d54-915f7f06268a' title='Show/Hide attributes'><svg class='icon xr-icon-file-text2'><use xlink:href='#icon-file-text2'></use></svg></label><input id='data-4b6e7056-712f-46de-87d7-1a9e16322870' class='xr-var-data-in' type='checkbox'><label for='data-4b6e7056-712f-46de-87d7-1a9e16322870' title='Show/Hide data repr'><svg class='icon xr-icon-database'><use xlink:href='#icon-database'></use></svg></label><div class='xr-var-attrs'><dl class='xr-attrs'></dl></div><div class='xr-var-data'><pre>array([&#x27;2018-04-30T14:00:00.000000000&#x27;, &#x27;2018-04-30T14:10:00.000000000&#x27;,\n       &#x27;2018-04-30T14:20:00.000000000&#x27;, ..., &#x27;2018-05-02T10:30:00.000000000&#x27;,\n       &#x27;2018-05-02T10:40:00.000000000&#x27;, &#x27;2018-05-02T10:50:00.000000000&#x27;],\n      dtype=&#x27;datetime64[ns]&#x27;)</pre></div></li><li class='xr-var-item'><div class='xr-var-name'><span class='xr-has-index'>longitude</span></div><div class='xr-var-dims'>(longitude)</div><div class='xr-var-dtype'>float64</div><div class='xr-var-preview xr-preview'>-164.0</div><input id='attrs-ce6626ea-4004-418a-ab91-987fc52c69d5' class='xr-var-attrs-in' type='checkbox' ><label for='attrs-ce6626ea-4004-418a-ab91-987fc52c69d5' title='Show/Hide attributes'><svg class='icon xr-icon-file-text2'><use xlink:href='#icon-file-text2'></use></svg></label><input id='data-b3f861f4-9686-4b48-b830-4b63d6e1ca30' class='xr-var-data-in' type='checkbox'><label for='data-b3f861f4-9686-4b48-b830-4b63d6e1ca30' title='Show/Hide data repr'><svg class='icon xr-icon-database'><use xlink:href='#icon-database'></use></svg></label><div class='xr-var-attrs'><dl class='xr-attrs'><dt><span>epic_key :</span></dt><dd>LAT_500</dd><dt><span>name :</span></dt><dd>longitude</dd><dt><span>generic_name :</span></dt><dd>longitude</dd><dt><span>units :</span></dt><dd>degrees_east</dd><dt><span>long_name :</span></dt><dd>longitude</dd><dt><span>standard_name :</span></dt><dd>longitude</dd></dl></div><div class='xr-var-data'><pre>array([-164.04786])</pre></div></li><li class='xr-var-item'><div class='xr-var-name'><span class='xr-has-index'>latitude</span></div><div class='xr-var-dims'>(latitude)</div><div class='xr-var-dtype'>float64</div><div class='xr-var-preview xr-preview'>56.87</div><input id='attrs-72517efb-420c-4a4a-8ac8-baa1558e0870' class='xr-var-attrs-in' type='checkbox' ><label for='attrs-72517efb-420c-4a4a-8ac8-baa1558e0870' title='Show/Hide attributes'><svg class='icon xr-icon-file-text2'><use xlink:href='#icon-file-text2'></use></svg></label><input id='data-32a0cae5-6e47-4b9b-b1a3-6e4923685150' class='xr-var-data-in' type='checkbox'><label for='data-32a0cae5-6e47-4b9b-b1a3-6e4923685150' title='Show/Hide data repr'><svg class='icon xr-icon-database'><use xlink:href='#icon-database'></use></svg></label><div class='xr-var-attrs'><dl class='xr-attrs'><dt><span>epic_key :</span></dt><dd>LON_501</dd><dt><span>name :</span></dt><dd>latitude</dd><dt><span>generic_name :</span></dt><dd>latitude</dd><dt><span>units :</span></dt><dd>degrees_north</dd><dt><span>long_name :</span></dt><dd>latitude</dd><dt><span>standard_name :</span></dt><dd>latitude</dd></dl></div><div class='xr-var-data'><pre>array([56.869548])</pre></div></li><li class='xr-var-item'><div class='xr-var-name'><span class='xr-has-index'>depth</span></div><div class='xr-var-dims'>(depth)</div><div class='xr-var-dtype'>float64</div><div class='xr-var-preview xr-preview'>60.0</div><input id='attrs-ca29c2f0-e508-4dea-b56b-b52126f5bacd' class='xr-var-attrs-in' type='checkbox' ><label for='attrs-ca29c2f0-e508-4dea-b56b-b52126f5bacd' title='Show/Hide attributes'><svg class='icon xr-icon-file-text2'><use xlink:href='#icon-file-text2'></use></svg></label><input id='data-e2d7d7b0-43b8-4d4d-989a-d0b19325c17e' class='xr-var-data-in' type='checkbox'><label for='data-e2d7d7b0-43b8-4d4d-989a-d0b19325c17e' title='Show/Hide data repr'><svg class='icon xr-icon-database'><use xlink:href='#icon-database'></use></svg></label><div class='xr-var-attrs'><dl class='xr-attrs'><dt><span>epic_key :</span></dt><dd>D_3</dd><dt><span>generic_name :</span></dt><dd>depth</dd><dt><span>units :</span></dt><dd>meter</dd><dt><span>long_name :</span></dt><dd>depth below surface (meters)</dd><dt><span>standard_name :</span></dt><dd>depth</dd></dl></div><div class='xr-var-data'><pre>array([60.])</pre></div></li></ul></div></li><li class='xr-section-item'><input id='section-ca58b02a-d438-4043-b8f2-1d71777959cc' class='xr-section-summary-in' type='checkbox'  checked><label for='section-ca58b02a-d438-4043-b8f2-1d71777959cc' class='xr-section-summary' >Data variables: <span>(4)</span></label><div class='xr-section-inline-details'></div><div class='xr-section-details'><ul class='xr-var-list'><li class='xr-var-item'><div class='xr-var-name'><span>temperature</span></div><div class='xr-var-dims'>(time, depth, latitude, longitude)</div><div class='xr-var-dtype'>float64</div><div class='xr-var-preview xr-preview'>4.414 4.399 4.39 ... 3.651 3.652</div><input id='attrs-04f55be9-9d32-4c72-adc5-14dbc1bbbceb' class='xr-var-attrs-in' type='checkbox' ><label for='attrs-04f55be9-9d32-4c72-adc5-14dbc1bbbceb' title='Show/Hide attributes'><svg class='icon xr-icon-file-text2'><use xlink:href='#icon-file-text2'></use></svg></label><input id='data-1c7d19a1-ac1b-4f8d-b182-0fb99e08942a' class='xr-var-data-in' type='checkbox'><label for='data-1c7d19a1-ac1b-4f8d-b182-0fb99e08942a' title='Show/Hide data repr'><svg class='icon xr-icon-database'><use xlink:href='#icon-database'></use></svg></label><div class='xr-var-attrs'><dl class='xr-attrs'><dt><span>epic_key :</span></dt><dd>T_20</dd><dt><span>generic_name :</span></dt><dd>temp</dd><dt><span>long_name :</span></dt><dd>Sea temperature in-situ ITS-90 scale</dd><dt><span>standard_name :</span></dt><dd>sea_water_temperature</dd><dt><span>units :</span></dt><dd>degree_C</dd></dl></div><div class='xr-var-data'><pre>array([[[[ 4.41445 ]]],\n\n\n       [[[ 4.39903 ]]],\n\n\n       [[[ 4.39022 ]]],\n\n\n       [[[ 4.37102 ]]],\n\n\n       [[[ 4.33092 ]]],\n\n\n       [[[ 4.291325]]],\n\n\n       [[[ 4.23547 ]]],\n\n...\n\n       [[[ 3.65025 ]]],\n\n\n       [[[ 3.650355]]],\n\n\n       [[[ 3.6497  ]]],\n\n\n       [[[ 3.6491  ]]],\n\n\n       [[[ 3.649775]]],\n\n\n       [[[ 3.650965]]],\n\n\n       [[[ 3.6522  ]]]])</pre></div></li><li class='xr-var-item'><div class='xr-var-name'><span>conductivity</span></div><div class='xr-var-dims'>(time, depth, latitude, longitude)</div><div class='xr-var-dtype'>float64</div><div class='xr-var-preview xr-preview'>1.222e-05 1e-05 ... 2.981 2.981</div><input id='attrs-b3041a31-308e-4de3-a82a-d63109c5c131' class='xr-var-attrs-in' type='checkbox' disabled><label for='attrs-b3041a31-308e-4de3-a82a-d63109c5c131' title='Show/Hide attributes'><svg class='icon xr-icon-file-text2'><use xlink:href='#icon-file-text2'></use></svg></label><input id='data-89632bbd-134f-4011-8b05-81925282c077' class='xr-var-data-in' type='checkbox'><label for='data-89632bbd-134f-4011-8b05-81925282c077' title='Show/Hide data repr'><svg class='icon xr-icon-database'><use xlink:href='#icon-database'></use></svg></label><div class='xr-var-attrs'><dl class='xr-attrs'></dl></div><div class='xr-var-data'><pre>array([[[[ 1.22222222e-05]]],\n\n\n       [[[ 1.00000000e-05]]],\n\n\n       [[[ 1.00000000e-05]]],\n\n\n       [[[ 1.00000000e-05]]],\n\n\n       [[[ 1.00000000e-05]]],\n\n\n       [[[ 1.00000000e-05]]],\n\n\n       [[[ 1.00000000e-05]]],\n\n...\n\n       [[[ 2.98095250e+00]]],\n\n\n       [[[ 2.98097150e+00]]],\n\n\n       [[[ 2.98092150e+00]]],\n\n\n       [[[ 2.98087350e+00]]],\n\n\n       [[[ 2.98095800e+00]]],\n\n\n       [[[ 2.98109000e+00]]],\n\n\n       [[[ 2.98121000e+00]]]])</pre></div></li><li class='xr-var-item'><div class='xr-var-name'><span>pressure</span></div><div class='xr-var-dims'>(time, depth, latitude, longitude)</div><div class='xr-var-dtype'>float64</div><div class='xr-var-preview xr-preview'>-0.094 -0.094 ... 53.15 53.17</div><input id='attrs-924bdd50-ca3d-4d29-95f7-53094f8fdb03' class='xr-var-attrs-in' type='checkbox' disabled><label for='attrs-924bdd50-ca3d-4d29-95f7-53094f8fdb03' title='Show/Hide attributes'><svg class='icon xr-icon-file-text2'><use xlink:href='#icon-file-text2'></use></svg></label><input id='data-4cb1e2aa-dd5f-453a-86e4-59ccd09694c9' class='xr-var-data-in' type='checkbox'><label for='data-4cb1e2aa-dd5f-453a-86e4-59ccd09694c9' title='Show/Hide data repr'><svg class='icon xr-icon-database'><use xlink:href='#icon-database'></use></svg></label><div class='xr-var-attrs'><dl class='xr-attrs'></dl></div><div class='xr-var-data'><pre>array([[[[-9.400000e-02]]],\n\n\n       [[[-9.400000e-02]]],\n\n\n       [[[-9.400000e-02]]],\n\n\n       [[[-9.400000e-02]]],\n\n\n       [[[-9.400000e-02]]],\n\n\n       [[[-9.400000e-02]]],\n\n\n       [[[-9.400000e-02]]],\n\n...\n\n       [[[ 5.306840e+01]]],\n\n\n       [[[ 5.308095e+01]]],\n\n\n       [[[ 5.310860e+01]]],\n\n\n       [[[ 5.307035e+01]]],\n\n\n       [[[ 5.313075e+01]]],\n\n\n       [[[ 5.315285e+01]]],\n\n\n       [[[ 5.316525e+01]]]])</pre></div></li><li class='xr-var-item'><div class='xr-var-name'><span>salinity</span></div><div class='xr-var-dims'>(time, depth, latitude, longitude)</div><div class='xr-var-dtype'>float64</div><div class='xr-var-preview xr-preview'>0.0015 0.0015 ... 32.07 32.07</div><input id='attrs-b47f4cf6-464e-472a-9670-35034fbdf3a8' class='xr-var-attrs-in' type='checkbox' disabled><label for='attrs-b47f4cf6-464e-472a-9670-35034fbdf3a8' title='Show/Hide attributes'><svg class='icon xr-icon-file-text2'><use xlink:href='#icon-file-text2'></use></svg></label><input id='data-3018dc48-e681-4c75-9eac-f14945e7e19a' class='xr-var-data-in' type='checkbox'><label for='data-3018dc48-e681-4c75-9eac-f14945e7e19a' title='Show/Hide data repr'><svg class='icon xr-icon-database'><use xlink:href='#icon-database'></use></svg></label><div class='xr-var-attrs'><dl class='xr-attrs'></dl></div><div class='xr-var-data'><pre>array([[[[1.5000000e-03]]],\n\n\n       [[[1.5000000e-03]]],\n\n\n       [[[1.5000000e-03]]],\n\n\n       [[[1.5000000e-03]]],\n\n\n       [[[1.4850000e-03]]],\n\n\n       [[[1.4000000e-03]]],\n\n\n       [[[1.4000000e-03]]],\n\n...\n\n       [[[3.2064170e+01]]],\n\n\n       [[[3.2064275e+01]]],\n\n\n       [[[3.2064325e+01]]],\n\n\n       [[[3.2064360e+01]]],\n\n\n       [[[3.2064670e+01]]],\n\n\n       [[[3.2065055e+01]]],\n\n\n       [[[3.2065275e+01]]]])</pre></div></li></ul></div></li><li class='xr-section-item'><input id='section-660f40bb-c637-4dae-9bda-939864e2d7c6' class='xr-section-summary-in' type='checkbox'  ><label for='section-660f40bb-c637-4dae-9bda-939864e2d7c6' class='xr-section-summary' >Attributes: <span>(13)</span></label><div class='xr-section-inline-details'></div><div class='xr-section-details'><dl class='xr-attrs'><dt><span>Latitude-Deg_MM.dd_W :</span></dt><dd>56 52.1729 N</dd><dt><span>Longitude-Deg_MM.dd_N :</span></dt><dd>164 02.8716 W</dd><dt><span>MooringID :</span></dt><dd>16BSM-2A</dd><dt><span>platform_deployment_date :</span></dt><dd>2016-05-05T05:51:00Z</dd><dt><span>platform_deployment_cruise_name :</span></dt><dd>DY1606</dd><dt><span>platform_recovery_date :</span></dt><dd>2016-09-29T03:45:00Z</dd><dt><span>platform_recovery_cruise_name :</span></dt><dd>AQ1601</dd><dt><span>platform_deployment_recovery_comments :</span></dt><dd>Depth not listed - other two moorings BSP-2A and ITAE are at 71m so figure 71m</dd><dt><span>WaterDepth :</span></dt><dd>71.0</dd><dt><span>date_created :</span></dt><dd>2021-03-30T16:30:48Z</dd><dt><span>date_modified :</span></dt><dd></dd><dt><span>QC_indicator :</span></dt><dd>unknown</dd><dt><span>history :</span></dt><dd>Trimmed to deployment.</dd></dl></div></li></ul></div></div>"
     },
     "metadata": {},
     "execution_count": 37
    }
   ],
   "source": [
    "sbe37_wop_nc.get_xdf()"
   ]
  },
  {
   "cell_type": "markdown",
   "id": "individual-nature",
   "metadata": {},
   "source": [
    "## Next Steps\n",
    "\n",
    "QC of data (plot parameters with other instruments)\n",
    "- be sure to updated the qc_status and the history"
   ]
  },
  {
   "cell_type": "code",
   "execution_count": null,
   "id": "insured-vulnerability",
   "metadata": {},
   "outputs": [],
   "source": []
  }
 ],
 "metadata": {
  "kernelspec": {
   "name": "python3",
   "display_name": "Python 3.8.6 64-bit ('py38': virtualenv)",
   "metadata": {
    "interpreter": {
     "hash": "ea8efced7f9f908505a4e28889b9d0ff7d52e9a5c03dfaa80d1d80124525970c"
    }
   }
  },
  "language_info": {
   "codemirror_mode": {
    "name": "ipython",
    "version": 3
   },
   "file_extension": ".py",
   "mimetype": "text/x-python",
   "name": "python",
   "nbconvert_exporter": "python",
   "pygments_lexer": "ipython3",
   "version": "3.8.6-final"
  }
 },
 "nbformat": 4,
 "nbformat_minor": 5
}
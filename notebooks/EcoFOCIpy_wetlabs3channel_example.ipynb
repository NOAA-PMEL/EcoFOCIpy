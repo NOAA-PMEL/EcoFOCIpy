{
 "cells": [
  {
   "cell_type": "markdown",
   "id": "educational-chosen",
   "metadata": {},
   "source": [
    "# Using EcoFOCIpy to process raw field data\n",
    "\n",
    "## Mooring / Timeseries Data\n",
    "\n",
    "Basic workflow for each instrument grouping is *(initial archive level)*:\n",
    "- Parse data from raw files into pandas dataframe\n",
    "- output initial files (pandas->csv) **ERDDAP NRT** when no meta data is added\n",
    "\n",
    "Convert to xarray dataframe for all following work *(working or final data level):\n",
    "- TODO: Add metadata from instrument yaml files and/or header info\n",
    "- ingest metadata from deployment/recovery records or cast logs\n",
    "- process data beyond simple file translate\n",
    "- apply any calibrations or corrections\n",
    "    + field corrections\n",
    "    + offsets\n",
    "    + instrument compensations\n",
    "    + some QC were available... this would be old-school simple bounds mostly\n",
    "- adjust time bounds and sample frequency (xarray dataframe)\n",
    "- save as CF netcdf via xarray: so many of the steps above are optional\n",
    "    + **ERDDAP NRT** if no corrections, offsets or time bounds are applied but some meta data is\n",
    "    + **Working and awaiting QC** has no ERDDAP representation and is a holding spot\n",
    "    + **ERDDAP Final** fully calibrated, qc'd and populated with meta information\n",
    "\n",
    "Plot for preview and QC\n",
    "- preview images (indiv and/or collectively)\n",
    "- manual qc process\n",
    "- automated qc process ML/AI\n",
    "\n",
    "Further refinenments for ERDDAP hosting:\n"
   ]
  },
  {
   "cell_type": "markdown",
   "id": "allied-miniature",
   "metadata": {},
   "source": [
    "## Example below is for EcoFluorometer with three channels (Eco triplets of various design) but the workflow is similar for all instruments.\n",
    "\n",
    "Future processing of this instrument can be a simplified (no markdown) process which can be archived so that the procedure can be traced or updated"
   ]
  },
  {
   "cell_type": "code",
   "execution_count": 1,
   "id": "studied-pollution",
   "metadata": {},
   "outputs": [],
   "source": [
    "import yaml\n",
    "\n",
    "import EcoFOCIpy.io.wetlabs_parser as wetlabs_parser #<- instrument specific\n",
    "import EcoFOCIpy.io.ncCFsave as ncCFsave\n",
    "import EcoFOCIpy.metaconfig.load_config as load_config"
   ]
  },
  {
   "cell_type": "markdown",
   "id": "public-millennium",
   "metadata": {},
   "source": [
    "The sample_data_dir should be included in the github package but may not be included in the pip install of the package\n",
    "\n",
    "## Simple Processing - first step"
   ]
  },
  {
   "cell_type": "code",
   "execution_count": 2,
   "id": "offensive-level",
   "metadata": {},
   "outputs": [],
   "source": [
    "sample_data_dir = '../'"
   ]
  },
  {
   "cell_type": "code",
   "execution_count": 6,
   "id": "third-yellow",
   "metadata": {},
   "outputs": [],
   "source": [
    "###############################################################\n",
    "# edit to point to {instrument sepcific} raw datafile \n",
    "datafile = sample_data_dir+'staticdata/example_data/ecobbfl2w_sample.txt'\n",
    "instrument = 'ECO-Fluorometer BBFL2W 1419'\n",
    "mooring_meta_file = sample_data_dir+'staticdata/mooring_example.yaml'\n",
    "inst_meta_file = sample_data_dir+'staticdata/instr_metaconfig/ecofluor.yaml'\n",
    "inst_shortname = 'eco'\n",
    "###############################################################\n",
    "\n",
    "#init and load data\n",
    "eco = wetlabs_parser.wetlabs()\n",
    "(eco_data,eco_header) = eco.parse(filename=datafile,\n",
    "                                                    return_header=True,\n",
    "                                                    datetime_index=True) "
   ]
  },
  {
   "cell_type": "code",
   "execution_count": 7,
   "id": "fifteen-military",
   "metadata": {},
   "outputs": [
    {
     "output_type": "execute_result",
     "data": {
      "text/plain": [
       "['timecheck:\\n',\n",
       " 'realtime: 195610\\n',\n",
       " 'instime: 194106\\n',\n",
       " 'Ser BBFL2W-1419\\n',\n",
       " 'Ver Triplet5.33\\n',\n",
       " 'Ave 18\\n',\n",
       " 'Pkt 7\\n',\n",
       " 'M1d 50\\n',\n",
       " 'M2d 53\\n',\n",
       " 'M3d 44\\n',\n",
       " 'M1s 4.850E-02\\n',\n",
       " 'M2s 1.820E-02\\n',\n",
       " 'M3s 9.030E-02\\n',\n",
       " 'Seq 0\\n',\n",
       " 'Rat 19200\\n',\n",
       " 'Set 1\\n',\n",
       " 'Rec 1\\n',\n",
       " 'Man 0\\n',\n",
       " 'Int 00:30:00\\n',\n",
       " 'Dat 12/13/18\\n',\n",
       " 'Clk 18:59:43\\n',\n",
       " 'Mst 00:37:39\\n',\n",
       " 'Mem 3357\\n',\n",
       " '$get\\n']"
      ]
     },
     "metadata": {},
     "execution_count": 7
    }
   ],
   "source": [
    "eco_header"
   ]
  },
  {
   "cell_type": "code",
   "execution_count": 8,
   "id": "alive-bruce",
   "metadata": {},
   "outputs": [
    {
     "output_type": "execute_result",
     "data": {
      "text/plain": [
       "                      700  695   460  TempCount\n",
       "date_time                                      \n",
       "2017-06-30 21:14:46  4130  550  4130        532\n",
       "2017-06-30 21:14:47  4130  541  4130        532\n",
       "2017-06-30 21:14:48  4130  544  4130        532\n",
       "2017-06-30 21:15:11    51   63    55        532\n",
       "2017-06-30 21:15:12    51   65    59        532\n",
       "...                   ...  ...   ...        ...\n",
       "2017-08-07 10:00:10  4130  580  4130        558\n",
       "2017-08-07 10:00:12  4130  580  4130        558\n",
       "2017-08-07 10:00:13  4130  580  4130        558\n",
       "2017-08-07 11:00:06  4130  589  4130        559\n",
       "2017-08-07 11:00:07  4130  587  4130        559\n",
       "\n",
       "[414 rows x 4 columns]"
      ],
      "text/html": "<div>\n<style scoped>\n    .dataframe tbody tr th:only-of-type {\n        vertical-align: middle;\n    }\n\n    .dataframe tbody tr th {\n        vertical-align: top;\n    }\n\n    .dataframe thead th {\n        text-align: right;\n    }\n</style>\n<table border=\"1\" class=\"dataframe\">\n  <thead>\n    <tr style=\"text-align: right;\">\n      <th></th>\n      <th>700</th>\n      <th>695</th>\n      <th>460</th>\n      <th>TempCount</th>\n    </tr>\n    <tr>\n      <th>date_time</th>\n      <th></th>\n      <th></th>\n      <th></th>\n      <th></th>\n    </tr>\n  </thead>\n  <tbody>\n    <tr>\n      <th>2017-06-30 21:14:46</th>\n      <td>4130</td>\n      <td>550</td>\n      <td>4130</td>\n      <td>532</td>\n    </tr>\n    <tr>\n      <th>2017-06-30 21:14:47</th>\n      <td>4130</td>\n      <td>541</td>\n      <td>4130</td>\n      <td>532</td>\n    </tr>\n    <tr>\n      <th>2017-06-30 21:14:48</th>\n      <td>4130</td>\n      <td>544</td>\n      <td>4130</td>\n      <td>532</td>\n    </tr>\n    <tr>\n      <th>2017-06-30 21:15:11</th>\n      <td>51</td>\n      <td>63</td>\n      <td>55</td>\n      <td>532</td>\n    </tr>\n    <tr>\n      <th>2017-06-30 21:15:12</th>\n      <td>51</td>\n      <td>65</td>\n      <td>59</td>\n      <td>532</td>\n    </tr>\n    <tr>\n      <th>...</th>\n      <td>...</td>\n      <td>...</td>\n      <td>...</td>\n      <td>...</td>\n    </tr>\n    <tr>\n      <th>2017-08-07 10:00:10</th>\n      <td>4130</td>\n      <td>580</td>\n      <td>4130</td>\n      <td>558</td>\n    </tr>\n    <tr>\n      <th>2017-08-07 10:00:12</th>\n      <td>4130</td>\n      <td>580</td>\n      <td>4130</td>\n      <td>558</td>\n    </tr>\n    <tr>\n      <th>2017-08-07 10:00:13</th>\n      <td>4130</td>\n      <td>580</td>\n      <td>4130</td>\n      <td>558</td>\n    </tr>\n    <tr>\n      <th>2017-08-07 11:00:06</th>\n      <td>4130</td>\n      <td>589</td>\n      <td>4130</td>\n      <td>559</td>\n    </tr>\n    <tr>\n      <th>2017-08-07 11:00:07</th>\n      <td>4130</td>\n      <td>587</td>\n      <td>4130</td>\n      <td>559</td>\n    </tr>\n  </tbody>\n</table>\n<p>414 rows × 4 columns</p>\n</div>"
     },
     "metadata": {},
     "execution_count": 8
    }
   ],
   "source": [
    "eco_data"
   ]
  },
  {
   "source": [
    "### Engr2Sci Calibration (unique to wetlabs instruments)\n",
    "\n",
    "Must apply the known cal factors from the lab to the raw data to get science data.  These are linear transformations of the form `y=mx+b`, so a slope (m) and offset (b) should be provided.  Each channel has its own cal factor.  Currently there is no routine to read these from a database or file, so you need to input them into the object method.  \n",
    "\n",
    "Change the name of each channel below to be that of the column label (wavelenght), and change the 'outname' to be the netcdf CF compliant variable name (in the instrument yaml files)"
   ],
   "cell_type": "markdown",
   "metadata": {}
  },
  {
   "cell_type": "code",
   "execution_count": 16,
   "metadata": {},
   "outputs": [
    {
     "output_type": "execute_result",
     "data": {
      "text/plain": [
       "                      700  695   460  TempCount  chlor_fluorescence  \\\n",
       "date_time                                                             \n",
       "2017-06-30 21:29:00  4130  550  4130        532              9.0454   \n",
       "2017-06-30 21:29:01  4130  541  4130        532              8.8816   \n",
       "2017-06-30 21:29:02  4130  544  4130        532              8.9362   \n",
       "2017-06-30 21:29:25    51   63    55        532              0.1820   \n",
       "2017-06-30 21:29:26    51   65    59        532              0.2184   \n",
       "...                   ...  ...   ...        ...                 ...   \n",
       "2017-08-07 10:14:24  4130  580  4130        558              9.5914   \n",
       "2017-08-07 10:14:26  4130  580  4130        558              9.5914   \n",
       "2017-08-07 10:14:27  4130  580  4130        558              9.5914   \n",
       "2017-08-07 11:14:20  4130  589  4130        559              9.7552   \n",
       "2017-08-07 11:14:21  4130  587  4130        559              9.7188   \n",
       "\n",
       "                     turbidity      cdom  \n",
       "date_time                                 \n",
       "2017-06-30 21:29:00   197.8800  368.9658  \n",
       "2017-06-30 21:29:01   197.8800  368.9658  \n",
       "2017-06-30 21:29:02   197.8800  368.9658  \n",
       "2017-06-30 21:29:25     0.0485    0.9933  \n",
       "2017-06-30 21:29:26     0.0485    1.3545  \n",
       "...                        ...       ...  \n",
       "2017-08-07 10:14:24   197.8800  368.9658  \n",
       "2017-08-07 10:14:26   197.8800  368.9658  \n",
       "2017-08-07 10:14:27   197.8800  368.9658  \n",
       "2017-08-07 11:14:20   197.8800  368.9658  \n",
       "2017-08-07 11:14:21   197.8800  368.9658  \n",
       "\n",
       "[414 rows x 7 columns]"
      ],
      "text/html": "<div>\n<style scoped>\n    .dataframe tbody tr th:only-of-type {\n        vertical-align: middle;\n    }\n\n    .dataframe tbody tr th {\n        vertical-align: top;\n    }\n\n    .dataframe thead th {\n        text-align: right;\n    }\n</style>\n<table border=\"1\" class=\"dataframe\">\n  <thead>\n    <tr style=\"text-align: right;\">\n      <th></th>\n      <th>700</th>\n      <th>695</th>\n      <th>460</th>\n      <th>TempCount</th>\n      <th>chlor_fluorescence</th>\n      <th>turbidity</th>\n      <th>cdom</th>\n    </tr>\n    <tr>\n      <th>date_time</th>\n      <th></th>\n      <th></th>\n      <th></th>\n      <th></th>\n      <th></th>\n      <th></th>\n      <th></th>\n    </tr>\n  </thead>\n  <tbody>\n    <tr>\n      <th>2017-06-30 21:29:00</th>\n      <td>4130</td>\n      <td>550</td>\n      <td>4130</td>\n      <td>532</td>\n      <td>9.0454</td>\n      <td>197.8800</td>\n      <td>368.9658</td>\n    </tr>\n    <tr>\n      <th>2017-06-30 21:29:01</th>\n      <td>4130</td>\n      <td>541</td>\n      <td>4130</td>\n      <td>532</td>\n      <td>8.8816</td>\n      <td>197.8800</td>\n      <td>368.9658</td>\n    </tr>\n    <tr>\n      <th>2017-06-30 21:29:02</th>\n      <td>4130</td>\n      <td>544</td>\n      <td>4130</td>\n      <td>532</td>\n      <td>8.9362</td>\n      <td>197.8800</td>\n      <td>368.9658</td>\n    </tr>\n    <tr>\n      <th>2017-06-30 21:29:25</th>\n      <td>51</td>\n      <td>63</td>\n      <td>55</td>\n      <td>532</td>\n      <td>0.1820</td>\n      <td>0.0485</td>\n      <td>0.9933</td>\n    </tr>\n    <tr>\n      <th>2017-06-30 21:29:26</th>\n      <td>51</td>\n      <td>65</td>\n      <td>59</td>\n      <td>532</td>\n      <td>0.2184</td>\n      <td>0.0485</td>\n      <td>1.3545</td>\n    </tr>\n    <tr>\n      <th>...</th>\n      <td>...</td>\n      <td>...</td>\n      <td>...</td>\n      <td>...</td>\n      <td>...</td>\n      <td>...</td>\n      <td>...</td>\n    </tr>\n    <tr>\n      <th>2017-08-07 10:14:24</th>\n      <td>4130</td>\n      <td>580</td>\n      <td>4130</td>\n      <td>558</td>\n      <td>9.5914</td>\n      <td>197.8800</td>\n      <td>368.9658</td>\n    </tr>\n    <tr>\n      <th>2017-08-07 10:14:26</th>\n      <td>4130</td>\n      <td>580</td>\n      <td>4130</td>\n      <td>558</td>\n      <td>9.5914</td>\n      <td>197.8800</td>\n      <td>368.9658</td>\n    </tr>\n    <tr>\n      <th>2017-08-07 10:14:27</th>\n      <td>4130</td>\n      <td>580</td>\n      <td>4130</td>\n      <td>558</td>\n      <td>9.5914</td>\n      <td>197.8800</td>\n      <td>368.9658</td>\n    </tr>\n    <tr>\n      <th>2017-08-07 11:14:20</th>\n      <td>4130</td>\n      <td>589</td>\n      <td>4130</td>\n      <td>559</td>\n      <td>9.7552</td>\n      <td>197.8800</td>\n      <td>368.9658</td>\n    </tr>\n    <tr>\n      <th>2017-08-07 11:14:21</th>\n      <td>4130</td>\n      <td>587</td>\n      <td>4130</td>\n      <td>559</td>\n      <td>9.7188</td>\n      <td>197.8800</td>\n      <td>368.9658</td>\n    </tr>\n  </tbody>\n</table>\n<p>414 rows × 7 columns</p>\n</div>"
     },
     "metadata": {},
     "execution_count": 16
    }
   ],
   "source": [
    "cal_coef = {695:{'scaleFactor':0.0182,'darkCounts':53.0,'outname':'chlor_fluorescence'},\n",
    "            700:{'scaleFactor':0.0485,'darkCounts':50.0,'outname':'turbidity'},\n",
    "            460:{'scaleFactor':0.0903,'darkCounts':44.0,'outname':'cdom'}            \n",
    "            }\n",
    "\n",
    "eco.engr2sci(cal_coef=cal_coef)"
   ]
  },
  {
   "cell_type": "markdown",
   "id": "ready-audit",
   "metadata": {},
   "source": [
    "## Time properties\n",
    "\n",
    "Its unusual that our clocks drift to the point of concern for our instruments (if an instrument is off by 3 minutes but only sampling hourly... regridding that data will result in minimal changes).  However, there are a few time oriented modifications that may need to be made.\n",
    "\n",
    "The can be classified into two categories:\n",
    "+ interpolate: these change the parameter values in accordance with the time edits\n",
    "    - linear interpolation is most common\n",
    "    - averaging of data and rebinning/resampling is also common (this needs to have the \"time lable\" thought out...)\n",
    "    - decimating is less common but does not impact the max/min values\n",
    "+ shift: these do not alter the measurements, just the timestamps they are associated with\n",
    "    - the round function will work well to correct small time errors/drifts **common**\n",
    "    - dropping extra precision on time (if you want hourly measurements, just remove all minute/second info... could cause large errors if rounding would have been more appropriate)"
   ]
  },
  {
   "cell_type": "markdown",
   "id": "supposed-bankruptcy",
   "metadata": {},
   "source": [
    "It is very easy to use pandas interplation and resample methods on the dataframe as is.  A few steps are suggested below:\n",
    "- parse out on-deck (predeployment and recovery) data.  This can be done via pandas or xarray but requires the mooring metadata to have been read in.  See future steps below.\n",
    "- even if the sample frequency is set to the desired measurement frequency, it would be good to perform a quick regridding as an assurance task\n",
    "- FOCI data is usualy 1min, 10min, 1hr - and the 1min data is a fairly new (sbe56) data stream\n",
    "    + subsampling high frequency data to lower frequency is easy via df.resample().mean() but it will label the new datapoint per default instructions.  The default is to label it with the left boundary of the bin.\n",
    "    + you may want to take the median instead of the mean for noisy data (fluorometer) , occasionally decimating may be more appropriate if you want to downsize the dataset size but not smear features\n",
    "    + shifting times can be a bit more involved.  There are two primary ways to do it, interpolate or shift (round)\n",
    "        - to interpolate, you will need to upsample your data to a higher frequency which will generate missing values, then interpolate (with a maximum gap size), then decimate.  This always has the artifact of smoothing data and decreasing the min/max values. **common on microcats and other 10min datasets**\n",
    "        - shifting usually just involves droping extra time \"digits\", if you want hourly, you could just drop the trailing minutes assuming you are just off the hour (8:05 -> 8:00) or you can round to the nearest time unit but niether of these changes the data value, just the time associated with it. **common on seacats and other hourly datasets**\n",
    "        - you may also be able to *shift* using the pandas datetime round function and specifing the desired frequency.\n",
    "    + I suggest if no change is needed... df.index.round(freq=*'your native sample freq'*)\n",
    "    "
   ]
  },
  {
   "source": [
    "### Special note for Wetlabs times\n",
    "\n",
    "Historically these instruments have drifted significantly.  (usually to be slow) We keep track of the shift in seconds. and we do burst measurements with them.  How you want to tackle this is gonna be dependent on each instrument.  Goal is to stick to simple timeseries analysis via pandas though (as opposed to determining when the groups of each burst are sampled)"
   ],
   "cell_type": "markdown",
   "metadata": {}
  },
  {
   "cell_type": "code",
   "execution_count": 17,
   "metadata": {},
   "outputs": [
    {
     "output_type": "execute_result",
     "data": {
      "text/plain": [
       "                      700  695   460  TempCount  chlor_fluorescence  \\\n",
       "date_time                                                             \n",
       "2017-06-30 21:43:14  4130  550  4130        532              9.0454   \n",
       "2017-06-30 21:43:15  4130  541  4130        532              8.8816   \n",
       "2017-06-30 21:43:16  4130  544  4130        532              8.9362   \n",
       "2017-06-30 21:43:39    51   63    55        532              0.1820   \n",
       "2017-06-30 21:43:40    51   65    59        532              0.2184   \n",
       "...                   ...  ...   ...        ...                 ...   \n",
       "2017-08-07 10:28:38  4130  580  4130        558              9.5914   \n",
       "2017-08-07 10:28:40  4130  580  4130        558              9.5914   \n",
       "2017-08-07 10:28:41  4130  580  4130        558              9.5914   \n",
       "2017-08-07 11:28:34  4130  589  4130        559              9.7552   \n",
       "2017-08-07 11:28:35  4130  587  4130        559              9.7188   \n",
       "\n",
       "                     turbidity      cdom  \n",
       "date_time                                 \n",
       "2017-06-30 21:43:14   197.8800  368.9658  \n",
       "2017-06-30 21:43:15   197.8800  368.9658  \n",
       "2017-06-30 21:43:16   197.8800  368.9658  \n",
       "2017-06-30 21:43:39     0.0485    0.9933  \n",
       "2017-06-30 21:43:40     0.0485    1.3545  \n",
       "...                        ...       ...  \n",
       "2017-08-07 10:28:38   197.8800  368.9658  \n",
       "2017-08-07 10:28:40   197.8800  368.9658  \n",
       "2017-08-07 10:28:41   197.8800  368.9658  \n",
       "2017-08-07 11:28:34   197.8800  368.9658  \n",
       "2017-08-07 11:28:35   197.8800  368.9658  \n",
       "\n",
       "[414 rows x 7 columns]"
      ],
      "text/html": "<div>\n<style scoped>\n    .dataframe tbody tr th:only-of-type {\n        vertical-align: middle;\n    }\n\n    .dataframe tbody tr th {\n        vertical-align: top;\n    }\n\n    .dataframe thead th {\n        text-align: right;\n    }\n</style>\n<table border=\"1\" class=\"dataframe\">\n  <thead>\n    <tr style=\"text-align: right;\">\n      <th></th>\n      <th>700</th>\n      <th>695</th>\n      <th>460</th>\n      <th>TempCount</th>\n      <th>chlor_fluorescence</th>\n      <th>turbidity</th>\n      <th>cdom</th>\n    </tr>\n    <tr>\n      <th>date_time</th>\n      <th></th>\n      <th></th>\n      <th></th>\n      <th></th>\n      <th></th>\n      <th></th>\n      <th></th>\n    </tr>\n  </thead>\n  <tbody>\n    <tr>\n      <th>2017-06-30 21:43:14</th>\n      <td>4130</td>\n      <td>550</td>\n      <td>4130</td>\n      <td>532</td>\n      <td>9.0454</td>\n      <td>197.8800</td>\n      <td>368.9658</td>\n    </tr>\n    <tr>\n      <th>2017-06-30 21:43:15</th>\n      <td>4130</td>\n      <td>541</td>\n      <td>4130</td>\n      <td>532</td>\n      <td>8.8816</td>\n      <td>197.8800</td>\n      <td>368.9658</td>\n    </tr>\n    <tr>\n      <th>2017-06-30 21:43:16</th>\n      <td>4130</td>\n      <td>544</td>\n      <td>4130</td>\n      <td>532</td>\n      <td>8.9362</td>\n      <td>197.8800</td>\n      <td>368.9658</td>\n    </tr>\n    <tr>\n      <th>2017-06-30 21:43:39</th>\n      <td>51</td>\n      <td>63</td>\n      <td>55</td>\n      <td>532</td>\n      <td>0.1820</td>\n      <td>0.0485</td>\n      <td>0.9933</td>\n    </tr>\n    <tr>\n      <th>2017-06-30 21:43:40</th>\n      <td>51</td>\n      <td>65</td>\n      <td>59</td>\n      <td>532</td>\n      <td>0.2184</td>\n      <td>0.0485</td>\n      <td>1.3545</td>\n    </tr>\n    <tr>\n      <th>...</th>\n      <td>...</td>\n      <td>...</td>\n      <td>...</td>\n      <td>...</td>\n      <td>...</td>\n      <td>...</td>\n      <td>...</td>\n    </tr>\n    <tr>\n      <th>2017-08-07 10:28:38</th>\n      <td>4130</td>\n      <td>580</td>\n      <td>4130</td>\n      <td>558</td>\n      <td>9.5914</td>\n      <td>197.8800</td>\n      <td>368.9658</td>\n    </tr>\n    <tr>\n      <th>2017-08-07 10:28:40</th>\n      <td>4130</td>\n      <td>580</td>\n      <td>4130</td>\n      <td>558</td>\n      <td>9.5914</td>\n      <td>197.8800</td>\n      <td>368.9658</td>\n    </tr>\n    <tr>\n      <th>2017-08-07 10:28:41</th>\n      <td>4130</td>\n      <td>580</td>\n      <td>4130</td>\n      <td>558</td>\n      <td>9.5914</td>\n      <td>197.8800</td>\n      <td>368.9658</td>\n    </tr>\n    <tr>\n      <th>2017-08-07 11:28:34</th>\n      <td>4130</td>\n      <td>589</td>\n      <td>4130</td>\n      <td>559</td>\n      <td>9.7552</td>\n      <td>197.8800</td>\n      <td>368.9658</td>\n    </tr>\n    <tr>\n      <th>2017-08-07 11:28:35</th>\n      <td>4130</td>\n      <td>587</td>\n      <td>4130</td>\n      <td>559</td>\n      <td>9.7188</td>\n      <td>197.8800</td>\n      <td>368.9658</td>\n    </tr>\n  </tbody>\n</table>\n<p>414 rows × 7 columns</p>\n</div>"
     },
     "metadata": {},
     "execution_count": 17
    }
   ],
   "source": [
    "eco_data = eco.time_correction(offset=854) #positive to catch up with GPS time - linear correction may need to be applied... this is an offset shift at the moment \n",
    "eco_data"
   ]
  },
  {
   "cell_type": "code",
   "execution_count": 18,
   "metadata": {},
   "outputs": [
    {
     "output_type": "execute_result",
     "data": {
      "text/plain": [
       "                             700         695          460   TempCount  \\\n",
       "date_time                                                               \n",
       "2017-06-30 22:00:00  2091.724963  304.589065  2095.223719  532.006400   \n",
       "2017-06-30 23:00:00  2094.141508  304.885948  2097.636116  532.027733   \n",
       "2017-07-01 00:00:00  2096.558053  305.182831  2100.048513  532.049066   \n",
       "2017-07-01 01:00:00  2098.974598  305.479714  2102.460909  532.070399   \n",
       "2017-07-01 02:00:00  2101.391143  305.776597  2104.873306  532.091732   \n",
       "...                          ...         ...          ...         ...   \n",
       "2017-08-07 07:00:00  4130.000000  587.066667  4130.000000  557.000000   \n",
       "2017-08-07 08:00:00  4130.000000  596.000000  4130.000000  557.533333   \n",
       "2017-08-07 09:00:00  4130.000000  596.600000  4130.000000  558.000000   \n",
       "2017-08-07 10:00:00  4130.000000  585.133333  4130.000000  558.000000   \n",
       "2017-08-07 11:00:00  4130.000000  584.266667  4130.000000  558.533333   \n",
       "\n",
       "                     chlor_fluorescence   turbidity        cdom  \n",
       "date_time                                                        \n",
       "2017-06-30 22:00:00            4.578921   99.023661  185.225502  \n",
       "2017-06-30 23:00:00            4.584324   99.140863  185.443341  \n",
       "2017-07-01 00:00:00            4.589728   99.258066  185.661181  \n",
       "2017-07-01 01:00:00            4.595131   99.375268  185.879020  \n",
       "2017-07-01 02:00:00            4.600534   99.492470  186.096860  \n",
       "...                                 ...         ...         ...  \n",
       "2017-08-07 07:00:00            9.720013  197.880000  368.965800  \n",
       "2017-08-07 08:00:00            9.882600  197.880000  368.965800  \n",
       "2017-08-07 09:00:00            9.893520  197.880000  368.965800  \n",
       "2017-08-07 10:00:00            9.684827  197.880000  368.965800  \n",
       "2017-08-07 11:00:00            9.669053  197.880000  368.965800  \n",
       "\n",
       "[902 rows x 7 columns]"
      ],
      "text/html": "<div>\n<style scoped>\n    .dataframe tbody tr th:only-of-type {\n        vertical-align: middle;\n    }\n\n    .dataframe tbody tr th {\n        vertical-align: top;\n    }\n\n    .dataframe thead th {\n        text-align: right;\n    }\n</style>\n<table border=\"1\" class=\"dataframe\">\n  <thead>\n    <tr style=\"text-align: right;\">\n      <th></th>\n      <th>700</th>\n      <th>695</th>\n      <th>460</th>\n      <th>TempCount</th>\n      <th>chlor_fluorescence</th>\n      <th>turbidity</th>\n      <th>cdom</th>\n    </tr>\n    <tr>\n      <th>date_time</th>\n      <th></th>\n      <th></th>\n      <th></th>\n      <th></th>\n      <th></th>\n      <th></th>\n      <th></th>\n    </tr>\n  </thead>\n  <tbody>\n    <tr>\n      <th>2017-06-30 22:00:00</th>\n      <td>2091.724963</td>\n      <td>304.589065</td>\n      <td>2095.223719</td>\n      <td>532.006400</td>\n      <td>4.578921</td>\n      <td>99.023661</td>\n      <td>185.225502</td>\n    </tr>\n    <tr>\n      <th>2017-06-30 23:00:00</th>\n      <td>2094.141508</td>\n      <td>304.885948</td>\n      <td>2097.636116</td>\n      <td>532.027733</td>\n      <td>4.584324</td>\n      <td>99.140863</td>\n      <td>185.443341</td>\n    </tr>\n    <tr>\n      <th>2017-07-01 00:00:00</th>\n      <td>2096.558053</td>\n      <td>305.182831</td>\n      <td>2100.048513</td>\n      <td>532.049066</td>\n      <td>4.589728</td>\n      <td>99.258066</td>\n      <td>185.661181</td>\n    </tr>\n    <tr>\n      <th>2017-07-01 01:00:00</th>\n      <td>2098.974598</td>\n      <td>305.479714</td>\n      <td>2102.460909</td>\n      <td>532.070399</td>\n      <td>4.595131</td>\n      <td>99.375268</td>\n      <td>185.879020</td>\n    </tr>\n    <tr>\n      <th>2017-07-01 02:00:00</th>\n      <td>2101.391143</td>\n      <td>305.776597</td>\n      <td>2104.873306</td>\n      <td>532.091732</td>\n      <td>4.600534</td>\n      <td>99.492470</td>\n      <td>186.096860</td>\n    </tr>\n    <tr>\n      <th>...</th>\n      <td>...</td>\n      <td>...</td>\n      <td>...</td>\n      <td>...</td>\n      <td>...</td>\n      <td>...</td>\n      <td>...</td>\n    </tr>\n    <tr>\n      <th>2017-08-07 07:00:00</th>\n      <td>4130.000000</td>\n      <td>587.066667</td>\n      <td>4130.000000</td>\n      <td>557.000000</td>\n      <td>9.720013</td>\n      <td>197.880000</td>\n      <td>368.965800</td>\n    </tr>\n    <tr>\n      <th>2017-08-07 08:00:00</th>\n      <td>4130.000000</td>\n      <td>596.000000</td>\n      <td>4130.000000</td>\n      <td>557.533333</td>\n      <td>9.882600</td>\n      <td>197.880000</td>\n      <td>368.965800</td>\n    </tr>\n    <tr>\n      <th>2017-08-07 09:00:00</th>\n      <td>4130.000000</td>\n      <td>596.600000</td>\n      <td>4130.000000</td>\n      <td>558.000000</td>\n      <td>9.893520</td>\n      <td>197.880000</td>\n      <td>368.965800</td>\n    </tr>\n    <tr>\n      <th>2017-08-07 10:00:00</th>\n      <td>4130.000000</td>\n      <td>585.133333</td>\n      <td>4130.000000</td>\n      <td>558.000000</td>\n      <td>9.684827</td>\n      <td>197.880000</td>\n      <td>368.965800</td>\n    </tr>\n    <tr>\n      <th>2017-08-07 11:00:00</th>\n      <td>4130.000000</td>\n      <td>584.266667</td>\n      <td>4130.000000</td>\n      <td>558.533333</td>\n      <td>9.669053</td>\n      <td>197.880000</td>\n      <td>368.965800</td>\n    </tr>\n  </tbody>\n</table>\n<p>902 rows × 7 columns</p>\n</div>"
     },
     "metadata": {},
     "execution_count": 18
    }
   ],
   "source": [
    "#the smaller you resample, the closer to the \"minute\" you will be\n",
    "# tehn you can determin if you round or interpolate\n",
    "\n",
    "eco_data = eco_data.resample('2T').median().interpolate()\n",
    "eco_data=eco_data[eco_data.index.minute==0]\n",
    "\n",
    "eco_data"
   ]
  },
  {
   "cell_type": "code",
   "execution_count": 19,
   "id": "undefined-membrane",
   "metadata": {},
   "outputs": [
    {
     "output_type": "execute_result",
     "data": {
      "text/plain": [
       "<AxesSubplot:xlabel='date_time'>"
      ]
     },
     "metadata": {},
     "execution_count": 19
    },
    {
     "output_type": "display_data",
     "data": {
      "text/plain": "<Figure size 432x288 with 1 Axes>",
      "image/svg+xml": "<?xml version=\"1.0\" encoding=\"utf-8\" standalone=\"no\"?>\n<!DOCTYPE svg PUBLIC \"-//W3C//DTD SVG 1.1//EN\"\n  \"http://www.w3.org/Graphics/SVG/1.1/DTD/svg11.dtd\">\n<!-- Created with matplotlib (https://matplotlib.org/) -->\n<svg height=\"296.067813pt\" version=\"1.1\" viewBox=\"0 0 383.925042 296.067813\" width=\"383.925042pt\" xmlns=\"http://www.w3.org/2000/svg\" xmlns:xlink=\"http://www.w3.org/1999/xlink\">\n <metadata>\n  <rdf:RDF xmlns:cc=\"http://creativecommons.org/ns#\" xmlns:dc=\"http://purl.org/dc/elements/1.1/\" xmlns:rdf=\"http://www.w3.org/1999/02/22-rdf-syntax-ns#\">\n   <cc:Work>\n    <dc:type rdf:resource=\"http://purl.org/dc/dcmitype/StillImage\"/>\n    <dc:date>2021-04-02T12:01:38.266257</dc:date>\n    <dc:format>image/svg+xml</dc:format>\n    <dc:creator>\n     <cc:Agent>\n      <dc:title>Matplotlib v3.3.4, https://matplotlib.org/</dc:title>\n     </cc:Agent>\n    </dc:creator>\n   </cc:Work>\n  </rdf:RDF>\n </metadata>\n <defs>\n  <style type=\"text/css\">*{stroke-linecap:butt;stroke-linejoin:round;}</style>\n </defs>\n <g id=\"figure_1\">\n  <g id=\"patch_1\">\n   <path d=\"M -0 296.067813 \nL 383.925042 296.067813 \nL 383.925042 0 \nL -0 0 \nz\n\" style=\"fill:none;\"/>\n  </g>\n  <g id=\"axes_1\">\n   <g id=\"patch_2\">\n    <path d=\"M 39.65 224.64 \nL 374.45 224.64 \nL 374.45 7.2 \nL 39.65 7.2 \nz\n\" style=\"fill:#ffffff;\"/>\n   </g>\n   <g id=\"matplotlib.axis_1\">\n    <g id=\"xtick_1\">\n     <g id=\"line2d_1\">\n      <defs>\n       <path d=\"M 0 0 \nL 0 3.5 \n\" id=\"m02cc35c781\" style=\"stroke:#000000;stroke-width:0.8;\"/>\n      </defs>\n      <g>\n       <use style=\"stroke:#000000;stroke-width:0.8;\" x=\"39.65\" xlink:href=\"#m02cc35c781\" y=\"224.64\"/>\n      </g>\n     </g>\n    </g>\n    <g id=\"xtick_2\">\n     <g id=\"line2d_2\">\n      <g>\n       <use style=\"stroke:#000000;stroke-width:0.8;\" x=\"40.393174\" xlink:href=\"#m02cc35c781\" y=\"224.64\"/>\n      </g>\n     </g>\n     <g id=\"text_1\">\n      <!--  -->\n      <g transform=\"translate(40.393174 239.238438)scale(0.1 -0.1)\"/>\n      <!--  -->\n      <g transform=\"translate(40.393174 250.43625)scale(0.1 -0.1)\"/>\n      <!-- Jul -->\n      <g transform=\"translate(34.360362 261.634063)scale(0.1 -0.1)\">\n       <defs>\n        <path d=\"M 9.8125 72.90625 \nL 19.671875 72.90625 \nL 19.671875 5.078125 \nQ 19.671875 -8.109375 14.671875 -14.0625 \nQ 9.671875 -20.015625 -1.421875 -20.015625 \nL -5.171875 -20.015625 \nL -5.171875 -11.71875 \nL -2.09375 -11.71875 \nQ 4.4375 -11.71875 7.125 -8.046875 \nQ 9.8125 -4.390625 9.8125 5.078125 \nz\n\" id=\"DejaVuSans-74\"/>\n        <path d=\"M 8.5 21.578125 \nL 8.5 54.6875 \nL 17.484375 54.6875 \nL 17.484375 21.921875 \nQ 17.484375 14.15625 20.5 10.265625 \nQ 23.53125 6.390625 29.59375 6.390625 \nQ 36.859375 6.390625 41.078125 11.03125 \nQ 45.3125 15.671875 45.3125 23.6875 \nL 45.3125 54.6875 \nL 54.296875 54.6875 \nL 54.296875 0 \nL 45.3125 0 \nL 45.3125 8.40625 \nQ 42.046875 3.421875 37.71875 1 \nQ 33.40625 -1.421875 27.6875 -1.421875 \nQ 18.265625 -1.421875 13.375 4.4375 \nQ 8.5 10.296875 8.5 21.578125 \nz\nM 31.109375 56 \nz\n\" id=\"DejaVuSans-117\"/>\n        <path d=\"M 9.421875 75.984375 \nL 18.40625 75.984375 \nL 18.40625 0 \nL 9.421875 0 \nz\n\" id=\"DejaVuSans-108\"/>\n       </defs>\n       <use xlink:href=\"#DejaVuSans-74\"/>\n       <use x=\"29.492188\" xlink:href=\"#DejaVuSans-117\"/>\n       <use x=\"92.871094\" xlink:href=\"#DejaVuSans-108\"/>\n      </g>\n      <!-- 2017 -->\n      <g transform=\"translate(27.668174 272.831875)scale(0.1 -0.1)\">\n       <defs>\n        <path d=\"M 19.1875 8.296875 \nL 53.609375 8.296875 \nL 53.609375 0 \nL 7.328125 0 \nL 7.328125 8.296875 \nQ 12.9375 14.109375 22.625 23.890625 \nQ 32.328125 33.6875 34.8125 36.53125 \nQ 39.546875 41.84375 41.421875 45.53125 \nQ 43.3125 49.21875 43.3125 52.78125 \nQ 43.3125 58.59375 39.234375 62.25 \nQ 35.15625 65.921875 28.609375 65.921875 \nQ 23.96875 65.921875 18.8125 64.3125 \nQ 13.671875 62.703125 7.8125 59.421875 \nL 7.8125 69.390625 \nQ 13.765625 71.78125 18.9375 73 \nQ 24.125 74.21875 28.421875 74.21875 \nQ 39.75 74.21875 46.484375 68.546875 \nQ 53.21875 62.890625 53.21875 53.421875 \nQ 53.21875 48.921875 51.53125 44.890625 \nQ 49.859375 40.875 45.40625 35.40625 \nQ 44.1875 33.984375 37.640625 27.21875 \nQ 31.109375 20.453125 19.1875 8.296875 \nz\n\" id=\"DejaVuSans-50\"/>\n        <path d=\"M 31.78125 66.40625 \nQ 24.171875 66.40625 20.328125 58.90625 \nQ 16.5 51.421875 16.5 36.375 \nQ 16.5 21.390625 20.328125 13.890625 \nQ 24.171875 6.390625 31.78125 6.390625 \nQ 39.453125 6.390625 43.28125 13.890625 \nQ 47.125 21.390625 47.125 36.375 \nQ 47.125 51.421875 43.28125 58.90625 \nQ 39.453125 66.40625 31.78125 66.40625 \nz\nM 31.78125 74.21875 \nQ 44.046875 74.21875 50.515625 64.515625 \nQ 56.984375 54.828125 56.984375 36.375 \nQ 56.984375 17.96875 50.515625 8.265625 \nQ 44.046875 -1.421875 31.78125 -1.421875 \nQ 19.53125 -1.421875 13.0625 8.265625 \nQ 6.59375 17.96875 6.59375 36.375 \nQ 6.59375 54.828125 13.0625 64.515625 \nQ 19.53125 74.21875 31.78125 74.21875 \nz\n\" id=\"DejaVuSans-48\"/>\n        <path d=\"M 12.40625 8.296875 \nL 28.515625 8.296875 \nL 28.515625 63.921875 \nL 10.984375 60.40625 \nL 10.984375 69.390625 \nL 28.421875 72.90625 \nL 38.28125 72.90625 \nL 38.28125 8.296875 \nL 54.390625 8.296875 \nL 54.390625 0 \nL 12.40625 0 \nz\n\" id=\"DejaVuSans-49\"/>\n        <path d=\"M 8.203125 72.90625 \nL 55.078125 72.90625 \nL 55.078125 68.703125 \nL 28.609375 0 \nL 18.3125 0 \nL 43.21875 64.59375 \nL 8.203125 64.59375 \nz\n\" id=\"DejaVuSans-55\"/>\n       </defs>\n       <use xlink:href=\"#DejaVuSans-50\"/>\n       <use x=\"63.623047\" xlink:href=\"#DejaVuSans-48\"/>\n       <use x=\"127.246094\" xlink:href=\"#DejaVuSans-49\"/>\n       <use x=\"190.869141\" xlink:href=\"#DejaVuSans-55\"/>\n      </g>\n     </g>\n    </g>\n    <g id=\"xtick_3\">\n     <g id=\"line2d_3\">\n      <g>\n       <use style=\"stroke:#000000;stroke-width:0.8;\" x=\"316.853996\" xlink:href=\"#m02cc35c781\" y=\"224.64\"/>\n      </g>\n     </g>\n     <g id=\"text_2\">\n      <!--  -->\n      <g transform=\"translate(316.853996 239.238438)scale(0.1 -0.1)\"/>\n      <!--  -->\n      <g transform=\"translate(316.853996 250.43625)scale(0.1 -0.1)\"/>\n      <!-- Aug -->\n      <g transform=\"translate(307.090714 261.634063)scale(0.1 -0.1)\">\n       <defs>\n        <path d=\"M 34.1875 63.1875 \nL 20.796875 26.90625 \nL 47.609375 26.90625 \nz\nM 28.609375 72.90625 \nL 39.796875 72.90625 \nL 67.578125 0 \nL 57.328125 0 \nL 50.6875 18.703125 \nL 17.828125 18.703125 \nL 11.1875 0 \nL 0.78125 0 \nz\n\" id=\"DejaVuSans-65\"/>\n        <path d=\"M 45.40625 27.984375 \nQ 45.40625 37.75 41.375 43.109375 \nQ 37.359375 48.484375 30.078125 48.484375 \nQ 22.859375 48.484375 18.828125 43.109375 \nQ 14.796875 37.75 14.796875 27.984375 \nQ 14.796875 18.265625 18.828125 12.890625 \nQ 22.859375 7.515625 30.078125 7.515625 \nQ 37.359375 7.515625 41.375 12.890625 \nQ 45.40625 18.265625 45.40625 27.984375 \nz\nM 54.390625 6.78125 \nQ 54.390625 -7.171875 48.1875 -13.984375 \nQ 42 -20.796875 29.203125 -20.796875 \nQ 24.46875 -20.796875 20.265625 -20.09375 \nQ 16.0625 -19.390625 12.109375 -17.921875 \nL 12.109375 -9.1875 \nQ 16.0625 -11.328125 19.921875 -12.34375 \nQ 23.78125 -13.375 27.78125 -13.375 \nQ 36.625 -13.375 41.015625 -8.765625 \nQ 45.40625 -4.15625 45.40625 5.171875 \nL 45.40625 9.625 \nQ 42.625 4.78125 38.28125 2.390625 \nQ 33.9375 0 27.875 0 \nQ 17.828125 0 11.671875 7.65625 \nQ 5.515625 15.328125 5.515625 27.984375 \nQ 5.515625 40.671875 11.671875 48.328125 \nQ 17.828125 56 27.875 56 \nQ 33.9375 56 38.28125 53.609375 \nQ 42.625 51.21875 45.40625 46.390625 \nL 45.40625 54.6875 \nL 54.390625 54.6875 \nz\n\" id=\"DejaVuSans-103\"/>\n       </defs>\n       <use xlink:href=\"#DejaVuSans-65\"/>\n       <use x=\"68.408203\" xlink:href=\"#DejaVuSans-117\"/>\n       <use x=\"131.787109\" xlink:href=\"#DejaVuSans-103\"/>\n      </g>\n     </g>\n    </g>\n    <g id=\"xtick_4\">\n     <g id=\"line2d_4\">\n      <g>\n       <use style=\"stroke:#000000;stroke-width:0.8;\" x=\"374.45\" xlink:href=\"#m02cc35c781\" y=\"224.64\"/>\n      </g>\n     </g>\n    </g>\n    <g id=\"xtick_5\">\n     <g id=\"line2d_5\">\n      <defs>\n       <path d=\"M 0 0 \nL 0 2 \n\" id=\"m2c5e275acf\" style=\"stroke:#000000;stroke-width:0.6;\"/>\n      </defs>\n      <g>\n       <use style=\"stroke:#000000;stroke-width:0.6;\" x=\"49.311265\" xlink:href=\"#m2c5e275acf\" y=\"224.64\"/>\n      </g>\n     </g>\n    </g>\n    <g id=\"xtick_6\">\n     <g id=\"line2d_6\">\n      <g>\n       <use style=\"stroke:#000000;stroke-width:0.6;\" x=\"58.229356\" xlink:href=\"#m2c5e275acf\" y=\"224.64\"/>\n      </g>\n     </g>\n     <g id=\"text_3\">\n      <!-- 03 -->\n      <g transform=\"translate(51.866856 237.638438)scale(0.1 -0.1)\">\n       <defs>\n        <path d=\"M 40.578125 39.3125 \nQ 47.65625 37.796875 51.625 33 \nQ 55.609375 28.21875 55.609375 21.1875 \nQ 55.609375 10.40625 48.1875 4.484375 \nQ 40.765625 -1.421875 27.09375 -1.421875 \nQ 22.515625 -1.421875 17.65625 -0.515625 \nQ 12.796875 0.390625 7.625 2.203125 \nL 7.625 11.71875 \nQ 11.71875 9.328125 16.59375 8.109375 \nQ 21.484375 6.890625 26.8125 6.890625 \nQ 36.078125 6.890625 40.9375 10.546875 \nQ 45.796875 14.203125 45.796875 21.1875 \nQ 45.796875 27.640625 41.28125 31.265625 \nQ 36.765625 34.90625 28.71875 34.90625 \nL 20.21875 34.90625 \nL 20.21875 43.015625 \nL 29.109375 43.015625 \nQ 36.375 43.015625 40.234375 45.921875 \nQ 44.09375 48.828125 44.09375 54.296875 \nQ 44.09375 59.90625 40.109375 62.90625 \nQ 36.140625 65.921875 28.71875 65.921875 \nQ 24.65625 65.921875 20.015625 65.03125 \nQ 15.375 64.15625 9.8125 62.3125 \nL 9.8125 71.09375 \nQ 15.4375 72.65625 20.34375 73.4375 \nQ 25.25 74.21875 29.59375 74.21875 \nQ 40.828125 74.21875 47.359375 69.109375 \nQ 53.90625 64.015625 53.90625 55.328125 \nQ 53.90625 49.265625 50.4375 45.09375 \nQ 46.96875 40.921875 40.578125 39.3125 \nz\n\" id=\"DejaVuSans-51\"/>\n       </defs>\n       <use xlink:href=\"#DejaVuSans-48\"/>\n       <use x=\"63.623047\" xlink:href=\"#DejaVuSans-51\"/>\n      </g>\n     </g>\n    </g>\n    <g id=\"xtick_7\">\n     <g id=\"line2d_7\">\n      <g>\n       <use style=\"stroke:#000000;stroke-width:0.6;\" x=\"67.147447\" xlink:href=\"#m2c5e275acf\" y=\"224.64\"/>\n      </g>\n     </g>\n    </g>\n    <g id=\"xtick_8\">\n     <g id=\"line2d_8\">\n      <g>\n       <use style=\"stroke:#000000;stroke-width:0.6;\" x=\"76.065538\" xlink:href=\"#m2c5e275acf\" y=\"224.64\"/>\n      </g>\n     </g>\n    </g>\n    <g id=\"xtick_9\">\n     <g id=\"line2d_9\">\n      <g>\n       <use style=\"stroke:#000000;stroke-width:0.6;\" x=\"84.983629\" xlink:href=\"#m2c5e275acf\" y=\"224.64\"/>\n      </g>\n     </g>\n    </g>\n    <g id=\"xtick_10\">\n     <g id=\"line2d_10\">\n      <g>\n       <use style=\"stroke:#000000;stroke-width:0.6;\" x=\"93.90172\" xlink:href=\"#m2c5e275acf\" y=\"224.64\"/>\n      </g>\n     </g>\n    </g>\n    <g id=\"xtick_11\">\n     <g id=\"line2d_11\">\n      <g>\n       <use style=\"stroke:#000000;stroke-width:0.6;\" x=\"102.819811\" xlink:href=\"#m2c5e275acf\" y=\"224.64\"/>\n      </g>\n     </g>\n    </g>\n    <g id=\"xtick_12\">\n     <g id=\"line2d_12\">\n      <g>\n       <use style=\"stroke:#000000;stroke-width:0.6;\" x=\"111.737902\" xlink:href=\"#m2c5e275acf\" y=\"224.64\"/>\n      </g>\n     </g>\n    </g>\n    <g id=\"xtick_13\">\n     <g id=\"line2d_13\">\n      <g>\n       <use style=\"stroke:#000000;stroke-width:0.6;\" x=\"120.655993\" xlink:href=\"#m2c5e275acf\" y=\"224.64\"/>\n      </g>\n     </g>\n     <g id=\"text_4\">\n      <!-- 10 -->\n      <g transform=\"translate(114.293493 237.638438)scale(0.1 -0.1)\">\n       <use xlink:href=\"#DejaVuSans-49\"/>\n       <use x=\"63.623047\" xlink:href=\"#DejaVuSans-48\"/>\n      </g>\n     </g>\n    </g>\n    <g id=\"xtick_14\">\n     <g id=\"line2d_14\">\n      <g>\n       <use style=\"stroke:#000000;stroke-width:0.6;\" x=\"129.574084\" xlink:href=\"#m2c5e275acf\" y=\"224.64\"/>\n      </g>\n     </g>\n    </g>\n    <g id=\"xtick_15\">\n     <g id=\"line2d_15\">\n      <g>\n       <use style=\"stroke:#000000;stroke-width:0.6;\" x=\"138.492175\" xlink:href=\"#m2c5e275acf\" y=\"224.64\"/>\n      </g>\n     </g>\n    </g>\n    <g id=\"xtick_16\">\n     <g id=\"line2d_16\">\n      <g>\n       <use style=\"stroke:#000000;stroke-width:0.6;\" x=\"147.410266\" xlink:href=\"#m2c5e275acf\" y=\"224.64\"/>\n      </g>\n     </g>\n    </g>\n    <g id=\"xtick_17\">\n     <g id=\"line2d_17\">\n      <g>\n       <use style=\"stroke:#000000;stroke-width:0.6;\" x=\"156.328357\" xlink:href=\"#m2c5e275acf\" y=\"224.64\"/>\n      </g>\n     </g>\n    </g>\n    <g id=\"xtick_18\">\n     <g id=\"line2d_18\">\n      <g>\n       <use style=\"stroke:#000000;stroke-width:0.6;\" x=\"165.246448\" xlink:href=\"#m2c5e275acf\" y=\"224.64\"/>\n      </g>\n     </g>\n    </g>\n    <g id=\"xtick_19\">\n     <g id=\"line2d_19\">\n      <g>\n       <use style=\"stroke:#000000;stroke-width:0.6;\" x=\"174.164539\" xlink:href=\"#m2c5e275acf\" y=\"224.64\"/>\n      </g>\n     </g>\n    </g>\n    <g id=\"xtick_20\">\n     <g id=\"line2d_20\">\n      <g>\n       <use style=\"stroke:#000000;stroke-width:0.6;\" x=\"183.08263\" xlink:href=\"#m2c5e275acf\" y=\"224.64\"/>\n      </g>\n     </g>\n     <g id=\"text_5\">\n      <!-- 17 -->\n      <g transform=\"translate(176.72013 237.638438)scale(0.1 -0.1)\">\n       <use xlink:href=\"#DejaVuSans-49\"/>\n       <use x=\"63.623047\" xlink:href=\"#DejaVuSans-55\"/>\n      </g>\n     </g>\n    </g>\n    <g id=\"xtick_21\">\n     <g id=\"line2d_21\">\n      <g>\n       <use style=\"stroke:#000000;stroke-width:0.6;\" x=\"192.000721\" xlink:href=\"#m2c5e275acf\" y=\"224.64\"/>\n      </g>\n     </g>\n    </g>\n    <g id=\"xtick_22\">\n     <g id=\"line2d_22\">\n      <g>\n       <use style=\"stroke:#000000;stroke-width:0.6;\" x=\"200.918812\" xlink:href=\"#m2c5e275acf\" y=\"224.64\"/>\n      </g>\n     </g>\n    </g>\n    <g id=\"xtick_23\">\n     <g id=\"line2d_23\">\n      <g>\n       <use style=\"stroke:#000000;stroke-width:0.6;\" x=\"209.836903\" xlink:href=\"#m2c5e275acf\" y=\"224.64\"/>\n      </g>\n     </g>\n    </g>\n    <g id=\"xtick_24\">\n     <g id=\"line2d_24\">\n      <g>\n       <use style=\"stroke:#000000;stroke-width:0.6;\" x=\"218.754994\" xlink:href=\"#m2c5e275acf\" y=\"224.64\"/>\n      </g>\n     </g>\n    </g>\n    <g id=\"xtick_25\">\n     <g id=\"line2d_25\">\n      <g>\n       <use style=\"stroke:#000000;stroke-width:0.6;\" x=\"227.673085\" xlink:href=\"#m2c5e275acf\" y=\"224.64\"/>\n      </g>\n     </g>\n    </g>\n    <g id=\"xtick_26\">\n     <g id=\"line2d_26\">\n      <g>\n       <use style=\"stroke:#000000;stroke-width:0.6;\" x=\"236.591176\" xlink:href=\"#m2c5e275acf\" y=\"224.64\"/>\n      </g>\n     </g>\n    </g>\n    <g id=\"xtick_27\">\n     <g id=\"line2d_27\">\n      <g>\n       <use style=\"stroke:#000000;stroke-width:0.6;\" x=\"245.509267\" xlink:href=\"#m2c5e275acf\" y=\"224.64\"/>\n      </g>\n     </g>\n     <g id=\"text_6\">\n      <!-- 24 -->\n      <g transform=\"translate(239.146767 237.638438)scale(0.1 -0.1)\">\n       <defs>\n        <path d=\"M 37.796875 64.3125 \nL 12.890625 25.390625 \nL 37.796875 25.390625 \nz\nM 35.203125 72.90625 \nL 47.609375 72.90625 \nL 47.609375 25.390625 \nL 58.015625 25.390625 \nL 58.015625 17.1875 \nL 47.609375 17.1875 \nL 47.609375 0 \nL 37.796875 0 \nL 37.796875 17.1875 \nL 4.890625 17.1875 \nL 4.890625 26.703125 \nz\n\" id=\"DejaVuSans-52\"/>\n       </defs>\n       <use xlink:href=\"#DejaVuSans-50\"/>\n       <use x=\"63.623047\" xlink:href=\"#DejaVuSans-52\"/>\n      </g>\n     </g>\n    </g>\n    <g id=\"xtick_28\">\n     <g id=\"line2d_28\">\n      <g>\n       <use style=\"stroke:#000000;stroke-width:0.6;\" x=\"254.427358\" xlink:href=\"#m2c5e275acf\" y=\"224.64\"/>\n      </g>\n     </g>\n    </g>\n    <g id=\"xtick_29\">\n     <g id=\"line2d_29\">\n      <g>\n       <use style=\"stroke:#000000;stroke-width:0.6;\" x=\"263.34545\" xlink:href=\"#m2c5e275acf\" y=\"224.64\"/>\n      </g>\n     </g>\n    </g>\n    <g id=\"xtick_30\">\n     <g id=\"line2d_30\">\n      <g>\n       <use style=\"stroke:#000000;stroke-width:0.6;\" x=\"272.263541\" xlink:href=\"#m2c5e275acf\" y=\"224.64\"/>\n      </g>\n     </g>\n    </g>\n    <g id=\"xtick_31\">\n     <g id=\"line2d_31\">\n      <g>\n       <use style=\"stroke:#000000;stroke-width:0.6;\" x=\"281.181632\" xlink:href=\"#m2c5e275acf\" y=\"224.64\"/>\n      </g>\n     </g>\n    </g>\n    <g id=\"xtick_32\">\n     <g id=\"line2d_32\">\n      <g>\n       <use style=\"stroke:#000000;stroke-width:0.6;\" x=\"290.099723\" xlink:href=\"#m2c5e275acf\" y=\"224.64\"/>\n      </g>\n     </g>\n    </g>\n    <g id=\"xtick_33\">\n     <g id=\"line2d_33\">\n      <g>\n       <use style=\"stroke:#000000;stroke-width:0.6;\" x=\"299.017814\" xlink:href=\"#m2c5e275acf\" y=\"224.64\"/>\n      </g>\n     </g>\n    </g>\n    <g id=\"xtick_34\">\n     <g id=\"line2d_34\">\n      <g>\n       <use style=\"stroke:#000000;stroke-width:0.6;\" x=\"307.935905\" xlink:href=\"#m2c5e275acf\" y=\"224.64\"/>\n      </g>\n     </g>\n     <g id=\"text_7\">\n      <!-- 31 -->\n      <g transform=\"translate(301.573405 237.638438)scale(0.1 -0.1)\">\n       <use xlink:href=\"#DejaVuSans-51\"/>\n       <use x=\"63.623047\" xlink:href=\"#DejaVuSans-49\"/>\n      </g>\n     </g>\n    </g>\n    <g id=\"xtick_35\">\n     <g id=\"line2d_35\">\n      <g>\n       <use style=\"stroke:#000000;stroke-width:0.6;\" x=\"325.772087\" xlink:href=\"#m2c5e275acf\" y=\"224.64\"/>\n      </g>\n     </g>\n    </g>\n    <g id=\"xtick_36\">\n     <g id=\"line2d_36\">\n      <g>\n       <use style=\"stroke:#000000;stroke-width:0.6;\" x=\"334.690178\" xlink:href=\"#m2c5e275acf\" y=\"224.64\"/>\n      </g>\n     </g>\n    </g>\n    <g id=\"xtick_37\">\n     <g id=\"line2d_37\">\n      <g>\n       <use style=\"stroke:#000000;stroke-width:0.6;\" x=\"343.608269\" xlink:href=\"#m2c5e275acf\" y=\"224.64\"/>\n      </g>\n     </g>\n    </g>\n    <g id=\"xtick_38\">\n     <g id=\"line2d_38\">\n      <g>\n       <use style=\"stroke:#000000;stroke-width:0.6;\" x=\"352.52636\" xlink:href=\"#m2c5e275acf\" y=\"224.64\"/>\n      </g>\n     </g>\n    </g>\n    <g id=\"xtick_39\">\n     <g id=\"line2d_39\">\n      <g>\n       <use style=\"stroke:#000000;stroke-width:0.6;\" x=\"361.444451\" xlink:href=\"#m2c5e275acf\" y=\"224.64\"/>\n      </g>\n     </g>\n    </g>\n    <g id=\"xtick_40\">\n     <g id=\"line2d_40\">\n      <g>\n       <use style=\"stroke:#000000;stroke-width:0.6;\" x=\"370.362542\" xlink:href=\"#m2c5e275acf\" y=\"224.64\"/>\n      </g>\n     </g>\n     <g id=\"text_8\">\n      <!-- 07 -->\n      <g transform=\"translate(364.000042 237.638438)scale(0.1 -0.1)\">\n       <use xlink:href=\"#DejaVuSans-48\"/>\n       <use x=\"63.623047\" xlink:href=\"#DejaVuSans-55\"/>\n      </g>\n     </g>\n    </g>\n    <g id=\"text_9\">\n     <!-- date_time -->\n     <g transform=\"translate(181.978906 286.51)scale(0.1 -0.1)\">\n      <defs>\n       <path d=\"M 45.40625 46.390625 \nL 45.40625 75.984375 \nL 54.390625 75.984375 \nL 54.390625 0 \nL 45.40625 0 \nL 45.40625 8.203125 \nQ 42.578125 3.328125 38.25 0.953125 \nQ 33.9375 -1.421875 27.875 -1.421875 \nQ 17.96875 -1.421875 11.734375 6.484375 \nQ 5.515625 14.40625 5.515625 27.296875 \nQ 5.515625 40.1875 11.734375 48.09375 \nQ 17.96875 56 27.875 56 \nQ 33.9375 56 38.25 53.625 \nQ 42.578125 51.265625 45.40625 46.390625 \nz\nM 14.796875 27.296875 \nQ 14.796875 17.390625 18.875 11.75 \nQ 22.953125 6.109375 30.078125 6.109375 \nQ 37.203125 6.109375 41.296875 11.75 \nQ 45.40625 17.390625 45.40625 27.296875 \nQ 45.40625 37.203125 41.296875 42.84375 \nQ 37.203125 48.484375 30.078125 48.484375 \nQ 22.953125 48.484375 18.875 42.84375 \nQ 14.796875 37.203125 14.796875 27.296875 \nz\n\" id=\"DejaVuSans-100\"/>\n       <path d=\"M 34.28125 27.484375 \nQ 23.390625 27.484375 19.1875 25 \nQ 14.984375 22.515625 14.984375 16.5 \nQ 14.984375 11.71875 18.140625 8.90625 \nQ 21.296875 6.109375 26.703125 6.109375 \nQ 34.1875 6.109375 38.703125 11.40625 \nQ 43.21875 16.703125 43.21875 25.484375 \nL 43.21875 27.484375 \nz\nM 52.203125 31.203125 \nL 52.203125 0 \nL 43.21875 0 \nL 43.21875 8.296875 \nQ 40.140625 3.328125 35.546875 0.953125 \nQ 30.953125 -1.421875 24.3125 -1.421875 \nQ 15.921875 -1.421875 10.953125 3.296875 \nQ 6 8.015625 6 15.921875 \nQ 6 25.140625 12.171875 29.828125 \nQ 18.359375 34.515625 30.609375 34.515625 \nL 43.21875 34.515625 \nL 43.21875 35.40625 \nQ 43.21875 41.609375 39.140625 45 \nQ 35.0625 48.390625 27.6875 48.390625 \nQ 23 48.390625 18.546875 47.265625 \nQ 14.109375 46.140625 10.015625 43.890625 \nL 10.015625 52.203125 \nQ 14.9375 54.109375 19.578125 55.046875 \nQ 24.21875 56 28.609375 56 \nQ 40.484375 56 46.34375 49.84375 \nQ 52.203125 43.703125 52.203125 31.203125 \nz\n\" id=\"DejaVuSans-97\"/>\n       <path d=\"M 18.3125 70.21875 \nL 18.3125 54.6875 \nL 36.8125 54.6875 \nL 36.8125 47.703125 \nL 18.3125 47.703125 \nL 18.3125 18.015625 \nQ 18.3125 11.328125 20.140625 9.421875 \nQ 21.96875 7.515625 27.59375 7.515625 \nL 36.8125 7.515625 \nL 36.8125 0 \nL 27.59375 0 \nQ 17.1875 0 13.234375 3.875 \nQ 9.28125 7.765625 9.28125 18.015625 \nL 9.28125 47.703125 \nL 2.6875 47.703125 \nL 2.6875 54.6875 \nL 9.28125 54.6875 \nL 9.28125 70.21875 \nz\n\" id=\"DejaVuSans-116\"/>\n       <path d=\"M 56.203125 29.59375 \nL 56.203125 25.203125 \nL 14.890625 25.203125 \nQ 15.484375 15.921875 20.484375 11.0625 \nQ 25.484375 6.203125 34.421875 6.203125 \nQ 39.59375 6.203125 44.453125 7.46875 \nQ 49.3125 8.734375 54.109375 11.28125 \nL 54.109375 2.78125 \nQ 49.265625 0.734375 44.1875 -0.34375 \nQ 39.109375 -1.421875 33.890625 -1.421875 \nQ 20.796875 -1.421875 13.15625 6.1875 \nQ 5.515625 13.8125 5.515625 26.8125 \nQ 5.515625 40.234375 12.765625 48.109375 \nQ 20.015625 56 32.328125 56 \nQ 43.359375 56 49.78125 48.890625 \nQ 56.203125 41.796875 56.203125 29.59375 \nz\nM 47.21875 32.234375 \nQ 47.125 39.59375 43.09375 43.984375 \nQ 39.0625 48.390625 32.421875 48.390625 \nQ 24.90625 48.390625 20.390625 44.140625 \nQ 15.875 39.890625 15.1875 32.171875 \nz\n\" id=\"DejaVuSans-101\"/>\n       <path d=\"M 50.984375 -16.609375 \nL 50.984375 -23.578125 \nL -0.984375 -23.578125 \nL -0.984375 -16.609375 \nz\n\" id=\"DejaVuSans-95\"/>\n       <path d=\"M 9.421875 54.6875 \nL 18.40625 54.6875 \nL 18.40625 0 \nL 9.421875 0 \nz\nM 9.421875 75.984375 \nL 18.40625 75.984375 \nL 18.40625 64.59375 \nL 9.421875 64.59375 \nz\n\" id=\"DejaVuSans-105\"/>\n       <path d=\"M 52 44.1875 \nQ 55.375 50.25 60.0625 53.125 \nQ 64.75 56 71.09375 56 \nQ 79.640625 56 84.28125 50.015625 \nQ 88.921875 44.046875 88.921875 33.015625 \nL 88.921875 0 \nL 79.890625 0 \nL 79.890625 32.71875 \nQ 79.890625 40.578125 77.09375 44.375 \nQ 74.3125 48.1875 68.609375 48.1875 \nQ 61.625 48.1875 57.5625 43.546875 \nQ 53.515625 38.921875 53.515625 30.90625 \nL 53.515625 0 \nL 44.484375 0 \nL 44.484375 32.71875 \nQ 44.484375 40.625 41.703125 44.40625 \nQ 38.921875 48.1875 33.109375 48.1875 \nQ 26.21875 48.1875 22.15625 43.53125 \nQ 18.109375 38.875 18.109375 30.90625 \nL 18.109375 0 \nL 9.078125 0 \nL 9.078125 54.6875 \nL 18.109375 54.6875 \nL 18.109375 46.1875 \nQ 21.1875 51.21875 25.484375 53.609375 \nQ 29.78125 56 35.6875 56 \nQ 41.65625 56 45.828125 52.96875 \nQ 50 49.953125 52 44.1875 \nz\n\" id=\"DejaVuSans-109\"/>\n      </defs>\n      <use xlink:href=\"#DejaVuSans-100\"/>\n      <use x=\"63.476562\" xlink:href=\"#DejaVuSans-97\"/>\n      <use x=\"124.755859\" xlink:href=\"#DejaVuSans-116\"/>\n      <use x=\"163.964844\" xlink:href=\"#DejaVuSans-101\"/>\n      <use x=\"225.488281\" xlink:href=\"#DejaVuSans-95\"/>\n      <use x=\"275.488281\" xlink:href=\"#DejaVuSans-116\"/>\n      <use x=\"314.697266\" xlink:href=\"#DejaVuSans-105\"/>\n      <use x=\"342.480469\" xlink:href=\"#DejaVuSans-109\"/>\n      <use x=\"439.892578\" xlink:href=\"#DejaVuSans-101\"/>\n     </g>\n    </g>\n   </g>\n   <g id=\"matplotlib.axis_2\">\n    <g id=\"ytick_1\">\n     <g id=\"line2d_41\">\n      <defs>\n       <path d=\"M 0 0 \nL -3.5 0 \n\" id=\"m9888363732\" style=\"stroke:#000000;stroke-width:0.8;\"/>\n      </defs>\n      <g>\n       <use style=\"stroke:#000000;stroke-width:0.8;\" x=\"39.65\" xlink:href=\"#m9888363732\" y=\"214.975766\"/>\n      </g>\n     </g>\n     <g id=\"text_10\">\n      <!-- 0 -->\n      <g transform=\"translate(26.2875 218.774985)scale(0.1 -0.1)\">\n       <use xlink:href=\"#DejaVuSans-48\"/>\n      </g>\n     </g>\n    </g>\n    <g id=\"ytick_2\">\n     <g id=\"line2d_42\">\n      <g>\n       <use style=\"stroke:#000000;stroke-width:0.8;\" x=\"39.65\" xlink:href=\"#m9888363732\" y=\"167.059996\"/>\n      </g>\n     </g>\n     <g id=\"text_11\">\n      <!-- 1000 -->\n      <g transform=\"translate(7.2 170.859215)scale(0.1 -0.1)\">\n       <use xlink:href=\"#DejaVuSans-49\"/>\n       <use x=\"63.623047\" xlink:href=\"#DejaVuSans-48\"/>\n       <use x=\"127.246094\" xlink:href=\"#DejaVuSans-48\"/>\n       <use x=\"190.869141\" xlink:href=\"#DejaVuSans-48\"/>\n      </g>\n     </g>\n    </g>\n    <g id=\"ytick_3\">\n     <g id=\"line2d_43\">\n      <g>\n       <use style=\"stroke:#000000;stroke-width:0.8;\" x=\"39.65\" xlink:href=\"#m9888363732\" y=\"119.144226\"/>\n      </g>\n     </g>\n     <g id=\"text_12\">\n      <!-- 2000 -->\n      <g transform=\"translate(7.2 122.943445)scale(0.1 -0.1)\">\n       <use xlink:href=\"#DejaVuSans-50\"/>\n       <use x=\"63.623047\" xlink:href=\"#DejaVuSans-48\"/>\n       <use x=\"127.246094\" xlink:href=\"#DejaVuSans-48\"/>\n       <use x=\"190.869141\" xlink:href=\"#DejaVuSans-48\"/>\n      </g>\n     </g>\n    </g>\n    <g id=\"ytick_4\">\n     <g id=\"line2d_44\">\n      <g>\n       <use style=\"stroke:#000000;stroke-width:0.8;\" x=\"39.65\" xlink:href=\"#m9888363732\" y=\"71.228456\"/>\n      </g>\n     </g>\n     <g id=\"text_13\">\n      <!-- 3000 -->\n      <g transform=\"translate(7.2 75.027675)scale(0.1 -0.1)\">\n       <use xlink:href=\"#DejaVuSans-51\"/>\n       <use x=\"63.623047\" xlink:href=\"#DejaVuSans-48\"/>\n       <use x=\"127.246094\" xlink:href=\"#DejaVuSans-48\"/>\n       <use x=\"190.869141\" xlink:href=\"#DejaVuSans-48\"/>\n      </g>\n     </g>\n    </g>\n    <g id=\"ytick_5\">\n     <g id=\"line2d_45\">\n      <g>\n       <use style=\"stroke:#000000;stroke-width:0.8;\" x=\"39.65\" xlink:href=\"#m9888363732\" y=\"23.312686\"/>\n      </g>\n     </g>\n     <g id=\"text_14\">\n      <!-- 4000 -->\n      <g transform=\"translate(7.2 27.111905)scale(0.1 -0.1)\">\n       <use xlink:href=\"#DejaVuSans-52\"/>\n       <use x=\"63.623047\" xlink:href=\"#DejaVuSans-48\"/>\n       <use x=\"127.246094\" xlink:href=\"#DejaVuSans-48\"/>\n       <use x=\"190.869141\" xlink:href=\"#DejaVuSans-48\"/>\n      </g>\n     </g>\n    </g>\n   </g>\n   <g id=\"line2d_46\">\n    <path clip-path=\"url(#p41559367c0)\" d=\"M 39.65 114.749154 \nL 353.269534 17.083636 \nL 374.45 17.083636 \nL 374.45 17.083636 \n\" style=\"fill:none;stroke:#1f77b4;stroke-linecap:square;stroke-width:1.5;\"/>\n   </g>\n   <g id=\"line2d_47\">\n    <path clip-path=\"url(#p41559367c0)\" d=\"M 39.65 200.381147 \nL 352.897947 188.389152 \nL 354.384295 188.791395 \nL 354.755882 188.788201 \nL 355.127469 188.995836 \nL 355.499057 189.069307 \nL 356.613818 188.689175 \nL 357.356992 188.443207 \nL 358.100166 188.210017 \nL 358.843341 188.216406 \nL 359.586515 188.305849 \nL 359.958102 188.289877 \nL 360.329689 188.436818 \nL 361.816038 188.455985 \nL 364.04556 187.542391 \nL 364.788735 187.344339 \nL 365.531909 187.133509 \nL 366.275083 187.088788 \nL 366.64667 187.139898 \nL 367.389845 187.398643 \nL 367.761432 187.325173 \nL 368.504606 187.421004 \nL 370.362542 187.25809 \nL 371.477303 187.328367 \nL 372.220477 187.117538 \nL 372.963651 186.846015 \nL 373.335239 186.417967 \nL 373.706826 186.389218 \nL 374.078413 186.938652 \nL 374.45 186.980179 \nL 374.45 186.980179 \n\" style=\"fill:none;stroke:#ff7f0e;stroke-linecap:square;stroke-width:1.5;\"/>\n   </g>\n   <g id=\"line2d_48\">\n    <path clip-path=\"url(#p41559367c0)\" d=\"M 39.65 114.581508 \nL 353.269534 17.083636 \nL 374.45 17.083636 \nL 374.45 17.083636 \n\" style=\"fill:none;stroke:#2ca02c;stroke-linecap:square;stroke-width:1.5;\"/>\n   </g>\n   <g id=\"line2d_49\">\n    <path clip-path=\"url(#p41559367c0)\" d=\"M 39.65 189.48427 \nL 353.641121 188.673203 \nL 354.384295 188.76584 \nL 356.985405 188.692369 \nL 358.471754 188.478345 \nL 359.214928 188.48154 \nL 360.329689 188.599732 \nL 361.816038 188.692369 \nL 363.673973 188.283488 \nL 365.903496 188.095019 \nL 371.84889 188.427235 \nL 372.963651 188.286682 \nL 374.45 188.213211 \nL 374.45 188.213211 \n\" style=\"fill:none;stroke:#d62728;stroke-linecap:square;stroke-width:1.5;\"/>\n   </g>\n   <g id=\"line2d_50\">\n    <path clip-path=\"url(#p41559367c0)\" d=\"M 39.65 214.756364 \nL 374.45 214.512466 \nL 374.45 214.512466 \n\" style=\"fill:none;stroke:#9467bd;stroke-linecap:square;stroke-width:1.5;\"/>\n   </g>\n   <g id=\"line2d_51\">\n    <path clip-path=\"url(#p41559367c0)\" d=\"M 39.65 210.230971 \nL 360.329689 205.494194 \nL 374.45 205.494194 \nL 374.45 205.494194 \n\" style=\"fill:none;stroke:#8c564b;stroke-linecap:square;stroke-width:1.5;\"/>\n   </g>\n   <g id=\"line2d_52\">\n    <path clip-path=\"url(#p41559367c0)\" d=\"M 39.65 206.100544 \nL 356.985405 197.296486 \nL 374.45 197.296486 \nL 374.45 197.296486 \n\" style=\"fill:none;stroke:#e377c2;stroke-linecap:square;stroke-width:1.5;\"/>\n   </g>\n   <g id=\"patch_3\">\n    <path d=\"M 39.65 224.64 \nL 39.65 7.2 \n\" style=\"fill:none;stroke:#000000;stroke-linecap:square;stroke-linejoin:miter;stroke-width:0.8;\"/>\n   </g>\n   <g id=\"patch_4\">\n    <path d=\"M 374.45 224.64 \nL 374.45 7.2 \n\" style=\"fill:none;stroke:#000000;stroke-linecap:square;stroke-linejoin:miter;stroke-width:0.8;\"/>\n   </g>\n   <g id=\"patch_5\">\n    <path d=\"M 39.65 224.64 \nL 374.45 224.64 \n\" style=\"fill:none;stroke:#000000;stroke-linecap:square;stroke-linejoin:miter;stroke-width:0.8;\"/>\n   </g>\n   <g id=\"patch_6\">\n    <path d=\"M 39.65 7.2 \nL 374.45 7.2 \n\" style=\"fill:none;stroke:#000000;stroke-linecap:square;stroke-linejoin:miter;stroke-width:0.8;\"/>\n   </g>\n   <g id=\"legend_1\">\n    <g id=\"patch_7\">\n     <path d=\"M 241.9625 168.9325 \nL 367.45 168.9325 \nQ 369.45 168.9325 369.45 166.9325 \nL 369.45 64.9075 \nQ 369.45 62.9075 367.45 62.9075 \nL 241.9625 62.9075 \nQ 239.9625 62.9075 239.9625 64.9075 \nL 239.9625 166.9325 \nQ 239.9625 168.9325 241.9625 168.9325 \nz\n\" style=\"fill:#ffffff;opacity:0.8;stroke:#cccccc;stroke-linejoin:miter;\"/>\n    </g>\n    <g id=\"line2d_53\">\n     <path d=\"M 243.9625 71.005938 \nL 263.9625 71.005938 \n\" style=\"fill:none;stroke:#1f77b4;stroke-linecap:square;stroke-width:1.5;\"/>\n    </g>\n    <g id=\"line2d_54\"/>\n    <g id=\"text_15\">\n     <!-- 700 -->\n     <g transform=\"translate(271.9625 74.505938)scale(0.1 -0.1)\">\n      <use xlink:href=\"#DejaVuSans-55\"/>\n      <use x=\"63.623047\" xlink:href=\"#DejaVuSans-48\"/>\n      <use x=\"127.246094\" xlink:href=\"#DejaVuSans-48\"/>\n     </g>\n    </g>\n    <g id=\"line2d_55\">\n     <path d=\"M 243.9625 85.684063 \nL 263.9625 85.684063 \n\" style=\"fill:none;stroke:#ff7f0e;stroke-linecap:square;stroke-width:1.5;\"/>\n    </g>\n    <g id=\"line2d_56\"/>\n    <g id=\"text_16\">\n     <!-- 695 -->\n     <g transform=\"translate(271.9625 89.184063)scale(0.1 -0.1)\">\n      <defs>\n       <path d=\"M 33.015625 40.375 \nQ 26.375 40.375 22.484375 35.828125 \nQ 18.609375 31.296875 18.609375 23.390625 \nQ 18.609375 15.53125 22.484375 10.953125 \nQ 26.375 6.390625 33.015625 6.390625 \nQ 39.65625 6.390625 43.53125 10.953125 \nQ 47.40625 15.53125 47.40625 23.390625 \nQ 47.40625 31.296875 43.53125 35.828125 \nQ 39.65625 40.375 33.015625 40.375 \nz\nM 52.59375 71.296875 \nL 52.59375 62.3125 \nQ 48.875 64.0625 45.09375 64.984375 \nQ 41.3125 65.921875 37.59375 65.921875 \nQ 27.828125 65.921875 22.671875 59.328125 \nQ 17.53125 52.734375 16.796875 39.40625 \nQ 19.671875 43.65625 24.015625 45.921875 \nQ 28.375 48.1875 33.59375 48.1875 \nQ 44.578125 48.1875 50.953125 41.515625 \nQ 57.328125 34.859375 57.328125 23.390625 \nQ 57.328125 12.15625 50.6875 5.359375 \nQ 44.046875 -1.421875 33.015625 -1.421875 \nQ 20.359375 -1.421875 13.671875 8.265625 \nQ 6.984375 17.96875 6.984375 36.375 \nQ 6.984375 53.65625 15.1875 63.9375 \nQ 23.390625 74.21875 37.203125 74.21875 \nQ 40.921875 74.21875 44.703125 73.484375 \nQ 48.484375 72.75 52.59375 71.296875 \nz\n\" id=\"DejaVuSans-54\"/>\n       <path d=\"M 10.984375 1.515625 \nL 10.984375 10.5 \nQ 14.703125 8.734375 18.5 7.8125 \nQ 22.3125 6.890625 25.984375 6.890625 \nQ 35.75 6.890625 40.890625 13.453125 \nQ 46.046875 20.015625 46.78125 33.40625 \nQ 43.953125 29.203125 39.59375 26.953125 \nQ 35.25 24.703125 29.984375 24.703125 \nQ 19.046875 24.703125 12.671875 31.3125 \nQ 6.296875 37.9375 6.296875 49.421875 \nQ 6.296875 60.640625 12.9375 67.421875 \nQ 19.578125 74.21875 30.609375 74.21875 \nQ 43.265625 74.21875 49.921875 64.515625 \nQ 56.59375 54.828125 56.59375 36.375 \nQ 56.59375 19.140625 48.40625 8.859375 \nQ 40.234375 -1.421875 26.421875 -1.421875 \nQ 22.703125 -1.421875 18.890625 -0.6875 \nQ 15.09375 0.046875 10.984375 1.515625 \nz\nM 30.609375 32.421875 \nQ 37.25 32.421875 41.125 36.953125 \nQ 45.015625 41.5 45.015625 49.421875 \nQ 45.015625 57.28125 41.125 61.84375 \nQ 37.25 66.40625 30.609375 66.40625 \nQ 23.96875 66.40625 20.09375 61.84375 \nQ 16.21875 57.28125 16.21875 49.421875 \nQ 16.21875 41.5 20.09375 36.953125 \nQ 23.96875 32.421875 30.609375 32.421875 \nz\n\" id=\"DejaVuSans-57\"/>\n       <path d=\"M 10.796875 72.90625 \nL 49.515625 72.90625 \nL 49.515625 64.59375 \nL 19.828125 64.59375 \nL 19.828125 46.734375 \nQ 21.96875 47.46875 24.109375 47.828125 \nQ 26.265625 48.1875 28.421875 48.1875 \nQ 40.625 48.1875 47.75 41.5 \nQ 54.890625 34.8125 54.890625 23.390625 \nQ 54.890625 11.625 47.5625 5.09375 \nQ 40.234375 -1.421875 26.90625 -1.421875 \nQ 22.3125 -1.421875 17.546875 -0.640625 \nQ 12.796875 0.140625 7.71875 1.703125 \nL 7.71875 11.625 \nQ 12.109375 9.234375 16.796875 8.0625 \nQ 21.484375 6.890625 26.703125 6.890625 \nQ 35.15625 6.890625 40.078125 11.328125 \nQ 45.015625 15.765625 45.015625 23.390625 \nQ 45.015625 31 40.078125 35.4375 \nQ 35.15625 39.890625 26.703125 39.890625 \nQ 22.75 39.890625 18.8125 39.015625 \nQ 14.890625 38.140625 10.796875 36.28125 \nz\n\" id=\"DejaVuSans-53\"/>\n      </defs>\n      <use xlink:href=\"#DejaVuSans-54\"/>\n      <use x=\"63.623047\" xlink:href=\"#DejaVuSans-57\"/>\n      <use x=\"127.246094\" xlink:href=\"#DejaVuSans-53\"/>\n     </g>\n    </g>\n    <g id=\"line2d_57\">\n     <path d=\"M 243.9625 100.362188 \nL 263.9625 100.362188 \n\" style=\"fill:none;stroke:#2ca02c;stroke-linecap:square;stroke-width:1.5;\"/>\n    </g>\n    <g id=\"line2d_58\"/>\n    <g id=\"text_17\">\n     <!-- 460 -->\n     <g transform=\"translate(271.9625 103.862188)scale(0.1 -0.1)\">\n      <use xlink:href=\"#DejaVuSans-52\"/>\n      <use x=\"63.623047\" xlink:href=\"#DejaVuSans-54\"/>\n      <use x=\"127.246094\" xlink:href=\"#DejaVuSans-48\"/>\n     </g>\n    </g>\n    <g id=\"line2d_59\">\n     <path d=\"M 243.9625 115.040313 \nL 263.9625 115.040313 \n\" style=\"fill:none;stroke:#d62728;stroke-linecap:square;stroke-width:1.5;\"/>\n    </g>\n    <g id=\"line2d_60\"/>\n    <g id=\"text_18\">\n     <!-- TempCount -->\n     <g transform=\"translate(271.9625 118.540313)scale(0.1 -0.1)\">\n      <defs>\n       <path d=\"M -0.296875 72.90625 \nL 61.375 72.90625 \nL 61.375 64.59375 \nL 35.5 64.59375 \nL 35.5 0 \nL 25.59375 0 \nL 25.59375 64.59375 \nL -0.296875 64.59375 \nz\n\" id=\"DejaVuSans-84\"/>\n       <path d=\"M 18.109375 8.203125 \nL 18.109375 -20.796875 \nL 9.078125 -20.796875 \nL 9.078125 54.6875 \nL 18.109375 54.6875 \nL 18.109375 46.390625 \nQ 20.953125 51.265625 25.265625 53.625 \nQ 29.59375 56 35.59375 56 \nQ 45.5625 56 51.78125 48.09375 \nQ 58.015625 40.1875 58.015625 27.296875 \nQ 58.015625 14.40625 51.78125 6.484375 \nQ 45.5625 -1.421875 35.59375 -1.421875 \nQ 29.59375 -1.421875 25.265625 0.953125 \nQ 20.953125 3.328125 18.109375 8.203125 \nz\nM 48.6875 27.296875 \nQ 48.6875 37.203125 44.609375 42.84375 \nQ 40.53125 48.484375 33.40625 48.484375 \nQ 26.265625 48.484375 22.1875 42.84375 \nQ 18.109375 37.203125 18.109375 27.296875 \nQ 18.109375 17.390625 22.1875 11.75 \nQ 26.265625 6.109375 33.40625 6.109375 \nQ 40.53125 6.109375 44.609375 11.75 \nQ 48.6875 17.390625 48.6875 27.296875 \nz\n\" id=\"DejaVuSans-112\"/>\n       <path d=\"M 64.40625 67.28125 \nL 64.40625 56.890625 \nQ 59.421875 61.53125 53.78125 63.8125 \nQ 48.140625 66.109375 41.796875 66.109375 \nQ 29.296875 66.109375 22.65625 58.46875 \nQ 16.015625 50.828125 16.015625 36.375 \nQ 16.015625 21.96875 22.65625 14.328125 \nQ 29.296875 6.6875 41.796875 6.6875 \nQ 48.140625 6.6875 53.78125 8.984375 \nQ 59.421875 11.28125 64.40625 15.921875 \nL 64.40625 5.609375 \nQ 59.234375 2.09375 53.4375 0.328125 \nQ 47.65625 -1.421875 41.21875 -1.421875 \nQ 24.65625 -1.421875 15.125 8.703125 \nQ 5.609375 18.84375 5.609375 36.375 \nQ 5.609375 53.953125 15.125 64.078125 \nQ 24.65625 74.21875 41.21875 74.21875 \nQ 47.75 74.21875 53.53125 72.484375 \nQ 59.328125 70.75 64.40625 67.28125 \nz\n\" id=\"DejaVuSans-67\"/>\n       <path d=\"M 30.609375 48.390625 \nQ 23.390625 48.390625 19.1875 42.75 \nQ 14.984375 37.109375 14.984375 27.296875 \nQ 14.984375 17.484375 19.15625 11.84375 \nQ 23.34375 6.203125 30.609375 6.203125 \nQ 37.796875 6.203125 41.984375 11.859375 \nQ 46.1875 17.53125 46.1875 27.296875 \nQ 46.1875 37.015625 41.984375 42.703125 \nQ 37.796875 48.390625 30.609375 48.390625 \nz\nM 30.609375 56 \nQ 42.328125 56 49.015625 48.375 \nQ 55.71875 40.765625 55.71875 27.296875 \nQ 55.71875 13.875 49.015625 6.21875 \nQ 42.328125 -1.421875 30.609375 -1.421875 \nQ 18.84375 -1.421875 12.171875 6.21875 \nQ 5.515625 13.875 5.515625 27.296875 \nQ 5.515625 40.765625 12.171875 48.375 \nQ 18.84375 56 30.609375 56 \nz\n\" id=\"DejaVuSans-111\"/>\n       <path d=\"M 54.890625 33.015625 \nL 54.890625 0 \nL 45.90625 0 \nL 45.90625 32.71875 \nQ 45.90625 40.484375 42.875 44.328125 \nQ 39.84375 48.1875 33.796875 48.1875 \nQ 26.515625 48.1875 22.3125 43.546875 \nQ 18.109375 38.921875 18.109375 30.90625 \nL 18.109375 0 \nL 9.078125 0 \nL 9.078125 54.6875 \nL 18.109375 54.6875 \nL 18.109375 46.1875 \nQ 21.34375 51.125 25.703125 53.5625 \nQ 30.078125 56 35.796875 56 \nQ 45.21875 56 50.046875 50.171875 \nQ 54.890625 44.34375 54.890625 33.015625 \nz\n\" id=\"DejaVuSans-110\"/>\n      </defs>\n      <use xlink:href=\"#DejaVuSans-84\"/>\n      <use x=\"44.083984\" xlink:href=\"#DejaVuSans-101\"/>\n      <use x=\"105.607422\" xlink:href=\"#DejaVuSans-109\"/>\n      <use x=\"203.019531\" xlink:href=\"#DejaVuSans-112\"/>\n      <use x=\"266.496094\" xlink:href=\"#DejaVuSans-67\"/>\n      <use x=\"336.320312\" xlink:href=\"#DejaVuSans-111\"/>\n      <use x=\"397.501953\" xlink:href=\"#DejaVuSans-117\"/>\n      <use x=\"460.880859\" xlink:href=\"#DejaVuSans-110\"/>\n      <use x=\"524.259766\" xlink:href=\"#DejaVuSans-116\"/>\n     </g>\n    </g>\n    <g id=\"line2d_61\">\n     <path d=\"M 243.9625 129.718438 \nL 263.9625 129.718438 \n\" style=\"fill:none;stroke:#9467bd;stroke-linecap:square;stroke-width:1.5;\"/>\n    </g>\n    <g id=\"line2d_62\"/>\n    <g id=\"text_19\">\n     <!-- chlor_fluorescence -->\n     <g transform=\"translate(271.9625 133.218438)scale(0.1 -0.1)\">\n      <defs>\n       <path d=\"M 48.78125 52.59375 \nL 48.78125 44.1875 \nQ 44.96875 46.296875 41.140625 47.34375 \nQ 37.3125 48.390625 33.40625 48.390625 \nQ 24.65625 48.390625 19.8125 42.84375 \nQ 14.984375 37.3125 14.984375 27.296875 \nQ 14.984375 17.28125 19.8125 11.734375 \nQ 24.65625 6.203125 33.40625 6.203125 \nQ 37.3125 6.203125 41.140625 7.25 \nQ 44.96875 8.296875 48.78125 10.40625 \nL 48.78125 2.09375 \nQ 45.015625 0.34375 40.984375 -0.53125 \nQ 36.96875 -1.421875 32.421875 -1.421875 \nQ 20.0625 -1.421875 12.78125 6.34375 \nQ 5.515625 14.109375 5.515625 27.296875 \nQ 5.515625 40.671875 12.859375 48.328125 \nQ 20.21875 56 33.015625 56 \nQ 37.15625 56 41.109375 55.140625 \nQ 45.0625 54.296875 48.78125 52.59375 \nz\n\" id=\"DejaVuSans-99\"/>\n       <path d=\"M 54.890625 33.015625 \nL 54.890625 0 \nL 45.90625 0 \nL 45.90625 32.71875 \nQ 45.90625 40.484375 42.875 44.328125 \nQ 39.84375 48.1875 33.796875 48.1875 \nQ 26.515625 48.1875 22.3125 43.546875 \nQ 18.109375 38.921875 18.109375 30.90625 \nL 18.109375 0 \nL 9.078125 0 \nL 9.078125 75.984375 \nL 18.109375 75.984375 \nL 18.109375 46.1875 \nQ 21.34375 51.125 25.703125 53.5625 \nQ 30.078125 56 35.796875 56 \nQ 45.21875 56 50.046875 50.171875 \nQ 54.890625 44.34375 54.890625 33.015625 \nz\n\" id=\"DejaVuSans-104\"/>\n       <path d=\"M 41.109375 46.296875 \nQ 39.59375 47.171875 37.8125 47.578125 \nQ 36.03125 48 33.890625 48 \nQ 26.265625 48 22.1875 43.046875 \nQ 18.109375 38.09375 18.109375 28.8125 \nL 18.109375 0 \nL 9.078125 0 \nL 9.078125 54.6875 \nL 18.109375 54.6875 \nL 18.109375 46.1875 \nQ 20.953125 51.171875 25.484375 53.578125 \nQ 30.03125 56 36.53125 56 \nQ 37.453125 56 38.578125 55.875 \nQ 39.703125 55.765625 41.0625 55.515625 \nz\n\" id=\"DejaVuSans-114\"/>\n       <path d=\"M 37.109375 75.984375 \nL 37.109375 68.5 \nL 28.515625 68.5 \nQ 23.6875 68.5 21.796875 66.546875 \nQ 19.921875 64.59375 19.921875 59.515625 \nL 19.921875 54.6875 \nL 34.71875 54.6875 \nL 34.71875 47.703125 \nL 19.921875 47.703125 \nL 19.921875 0 \nL 10.890625 0 \nL 10.890625 47.703125 \nL 2.296875 47.703125 \nL 2.296875 54.6875 \nL 10.890625 54.6875 \nL 10.890625 58.5 \nQ 10.890625 67.625 15.140625 71.796875 \nQ 19.390625 75.984375 28.609375 75.984375 \nz\n\" id=\"DejaVuSans-102\"/>\n       <path d=\"M 44.28125 53.078125 \nL 44.28125 44.578125 \nQ 40.484375 46.53125 36.375 47.5 \nQ 32.28125 48.484375 27.875 48.484375 \nQ 21.1875 48.484375 17.84375 46.4375 \nQ 14.5 44.390625 14.5 40.28125 \nQ 14.5 37.15625 16.890625 35.375 \nQ 19.28125 33.59375 26.515625 31.984375 \nL 29.59375 31.296875 \nQ 39.15625 29.25 43.1875 25.515625 \nQ 47.21875 21.78125 47.21875 15.09375 \nQ 47.21875 7.46875 41.1875 3.015625 \nQ 35.15625 -1.421875 24.609375 -1.421875 \nQ 20.21875 -1.421875 15.453125 -0.5625 \nQ 10.6875 0.296875 5.421875 2 \nL 5.421875 11.28125 \nQ 10.40625 8.6875 15.234375 7.390625 \nQ 20.0625 6.109375 24.8125 6.109375 \nQ 31.15625 6.109375 34.5625 8.28125 \nQ 37.984375 10.453125 37.984375 14.40625 \nQ 37.984375 18.0625 35.515625 20.015625 \nQ 33.0625 21.96875 24.703125 23.78125 \nL 21.578125 24.515625 \nQ 13.234375 26.265625 9.515625 29.90625 \nQ 5.8125 33.546875 5.8125 39.890625 \nQ 5.8125 47.609375 11.28125 51.796875 \nQ 16.75 56 26.8125 56 \nQ 31.78125 56 36.171875 55.265625 \nQ 40.578125 54.546875 44.28125 53.078125 \nz\n\" id=\"DejaVuSans-115\"/>\n      </defs>\n      <use xlink:href=\"#DejaVuSans-99\"/>\n      <use x=\"54.980469\" xlink:href=\"#DejaVuSans-104\"/>\n      <use x=\"118.359375\" xlink:href=\"#DejaVuSans-108\"/>\n      <use x=\"146.142578\" xlink:href=\"#DejaVuSans-111\"/>\n      <use x=\"207.324219\" xlink:href=\"#DejaVuSans-114\"/>\n      <use x=\"248.4375\" xlink:href=\"#DejaVuSans-95\"/>\n      <use x=\"298.4375\" xlink:href=\"#DejaVuSans-102\"/>\n      <use x=\"333.642578\" xlink:href=\"#DejaVuSans-108\"/>\n      <use x=\"361.425781\" xlink:href=\"#DejaVuSans-117\"/>\n      <use x=\"424.804688\" xlink:href=\"#DejaVuSans-111\"/>\n      <use x=\"485.986328\" xlink:href=\"#DejaVuSans-114\"/>\n      <use x=\"524.849609\" xlink:href=\"#DejaVuSans-101\"/>\n      <use x=\"586.373047\" xlink:href=\"#DejaVuSans-115\"/>\n      <use x=\"638.472656\" xlink:href=\"#DejaVuSans-99\"/>\n      <use x=\"693.453125\" xlink:href=\"#DejaVuSans-101\"/>\n      <use x=\"754.976562\" xlink:href=\"#DejaVuSans-110\"/>\n      <use x=\"818.355469\" xlink:href=\"#DejaVuSans-99\"/>\n      <use x=\"873.335938\" xlink:href=\"#DejaVuSans-101\"/>\n     </g>\n    </g>\n    <g id=\"line2d_63\">\n     <path d=\"M 243.9625 144.674688 \nL 263.9625 144.674688 \n\" style=\"fill:none;stroke:#8c564b;stroke-linecap:square;stroke-width:1.5;\"/>\n    </g>\n    <g id=\"line2d_64\"/>\n    <g id=\"text_20\">\n     <!-- turbidity -->\n     <g transform=\"translate(271.9625 148.174688)scale(0.1 -0.1)\">\n      <defs>\n       <path d=\"M 48.6875 27.296875 \nQ 48.6875 37.203125 44.609375 42.84375 \nQ 40.53125 48.484375 33.40625 48.484375 \nQ 26.265625 48.484375 22.1875 42.84375 \nQ 18.109375 37.203125 18.109375 27.296875 \nQ 18.109375 17.390625 22.1875 11.75 \nQ 26.265625 6.109375 33.40625 6.109375 \nQ 40.53125 6.109375 44.609375 11.75 \nQ 48.6875 17.390625 48.6875 27.296875 \nz\nM 18.109375 46.390625 \nQ 20.953125 51.265625 25.265625 53.625 \nQ 29.59375 56 35.59375 56 \nQ 45.5625 56 51.78125 48.09375 \nQ 58.015625 40.1875 58.015625 27.296875 \nQ 58.015625 14.40625 51.78125 6.484375 \nQ 45.5625 -1.421875 35.59375 -1.421875 \nQ 29.59375 -1.421875 25.265625 0.953125 \nQ 20.953125 3.328125 18.109375 8.203125 \nL 18.109375 0 \nL 9.078125 0 \nL 9.078125 75.984375 \nL 18.109375 75.984375 \nz\n\" id=\"DejaVuSans-98\"/>\n       <path d=\"M 32.171875 -5.078125 \nQ 28.375 -14.84375 24.75 -17.8125 \nQ 21.140625 -20.796875 15.09375 -20.796875 \nL 7.90625 -20.796875 \nL 7.90625 -13.28125 \nL 13.1875 -13.28125 \nQ 16.890625 -13.28125 18.9375 -11.515625 \nQ 21 -9.765625 23.484375 -3.21875 \nL 25.09375 0.875 \nL 2.984375 54.6875 \nL 12.5 54.6875 \nL 29.59375 11.921875 \nL 46.6875 54.6875 \nL 56.203125 54.6875 \nz\n\" id=\"DejaVuSans-121\"/>\n      </defs>\n      <use xlink:href=\"#DejaVuSans-116\"/>\n      <use x=\"39.208984\" xlink:href=\"#DejaVuSans-117\"/>\n      <use x=\"102.587891\" xlink:href=\"#DejaVuSans-114\"/>\n      <use x=\"143.701172\" xlink:href=\"#DejaVuSans-98\"/>\n      <use x=\"207.177734\" xlink:href=\"#DejaVuSans-105\"/>\n      <use x=\"234.960938\" xlink:href=\"#DejaVuSans-100\"/>\n      <use x=\"298.4375\" xlink:href=\"#DejaVuSans-105\"/>\n      <use x=\"326.220703\" xlink:href=\"#DejaVuSans-116\"/>\n      <use x=\"365.429688\" xlink:href=\"#DejaVuSans-121\"/>\n     </g>\n    </g>\n    <g id=\"line2d_65\">\n     <path d=\"M 243.9625 159.352813 \nL 263.9625 159.352813 \n\" style=\"fill:none;stroke:#e377c2;stroke-linecap:square;stroke-width:1.5;\"/>\n    </g>\n    <g id=\"line2d_66\"/>\n    <g id=\"text_21\">\n     <!-- cdom -->\n     <g transform=\"translate(271.9625 162.852813)scale(0.1 -0.1)\">\n      <use xlink:href=\"#DejaVuSans-99\"/>\n      <use x=\"54.980469\" xlink:href=\"#DejaVuSans-100\"/>\n      <use x=\"118.457031\" xlink:href=\"#DejaVuSans-111\"/>\n      <use x=\"179.638672\" xlink:href=\"#DejaVuSans-109\"/>\n     </g>\n    </g>\n   </g>\n  </g>\n </g>\n <defs>\n  <clipPath id=\"p41559367c0\">\n   <rect height=\"217.44\" width=\"334.8\" x=\"39.65\" y=\"7.2\"/>\n  </clipPath>\n </defs>\n</svg>\n",
      "image/png": "[encoded data removed]"
     },
     "metadata": {
      "needs_background": "light"
     }
    }
   ],
   "source": [
    "eco_data.plot()"
   ]
  },
  {
   "cell_type": "markdown",
   "id": "acknowledged-active",
   "metadata": {},
   "source": [
    "## Add Deployment meta information\n",
    "\n",
    "Two methods are available (if comming from python2 world - ordereddict was important... in py38 a dictionary is inherently ordered)"
   ]
  },
  {
   "cell_type": "code",
   "execution_count": 23,
   "id": "freelance-fairy",
   "metadata": {},
   "outputs": [],
   "source": [
    "#just a dictionary of dictionaries - simple\n",
    "with open(mooring_meta_file) as file:\n",
    "    mooring_config = yaml.full_load(file)"
   ]
  },
  {
   "cell_type": "code",
   "execution_count": 24,
   "id": "proper-ghana",
   "metadata": {},
   "outputs": [],
   "source": [
    "#Generates an ordereddict but prints better for summary\n",
    "#likely to be depricated as an ordered dict may not be useful and drops a dependency if its EOL\n",
    "mooring_config_v2 = load_config.load_config(mooring_meta_file)"
   ]
  },
  {
   "cell_type": "code",
   "execution_count": 25,
   "id": "israeli-begin",
   "metadata": {},
   "outputs": [
    {
     "output_type": "execute_result",
     "data": {
      "text/plain": [
       "{'InstType': 'Eco-Fluorometer BBFL2W',\n",
       " 'SerialNo': '1419',\n",
       " 'DesignedDepth': 0.0,\n",
       " 'ActualDepth': 0.0,\n",
       " 'PreDeploymentNotes': 'Not actually deployed - test instrument',\n",
       " 'PostDeploymentNotes': '',\n",
       " 'Deployed': 'n',\n",
       " 'Recovered': 'n'}"
      ]
     },
     "metadata": {},
     "execution_count": 25
    }
   ],
   "source": [
    "mooring_config['Instrumentation'][instrument]"
   ]
  },
  {
   "cell_type": "markdown",
   "id": "mysterious-cornwall",
   "metadata": {},
   "source": [
    "## Add Instrument meta information\n",
    "\n",
    "Time, depth, lat, lon should be added regardless (always our coordinates) but for a mooring site its going to be a (1,1,1,t) dataset\n",
    "The variables of interest should be read from the data file and matched to a key for naming.  That key is in the inst_config file seen below and should represent common conversion names in the raw data"
   ]
  },
  {
   "cell_type": "code",
   "execution_count": 26,
   "id": "checked-raise",
   "metadata": {
    "tags": []
   },
   "outputs": [
    {
     "output_type": "execute_result",
     "data": {
      "text/plain": [
       "{'time': {'epic_key': 'TIM_601',\n",
       "  'name': 'time',\n",
       "  'generic_name': 'time',\n",
       "  'standard_name': 'time',\n",
       "  'long_name': 'date and time since reference time',\n",
       "  'time_origin': '1900-01-01 00:00:00',\n",
       "  'units': 'days since 1900-01-01T00:00:00Z'},\n",
       " 'depth': {'epic_key': 'D_3',\n",
       "  'generic_name': 'depth',\n",
       "  'units': 'meter',\n",
       "  'long_name': 'depth below surface (meters)',\n",
       "  'standard_name': 'depth'},\n",
       " 'latitude': {'epic_key': 'LON_501',\n",
       "  'name': 'latitude',\n",
       "  'generic_name': 'latitude',\n",
       "  'units': 'degrees_north',\n",
       "  'long_name': 'latitude',\n",
       "  'standard_name': 'latitude'},\n",
       " 'longitude': {'epic_key': 'LAT_500',\n",
       "  'name': 'longitude',\n",
       "  'generic_name': 'longitude',\n",
       "  'units': 'degrees_east',\n",
       "  'long_name': 'longitude',\n",
       "  'standard_name': 'longitude'},\n",
       " 'timeseries_id': {'cf_role': 'timeseries_id',\n",
       "  'long_name': 'timeseries id',\n",
       "  'standard_name': ''},\n",
       " 'fluor_counts': {'epic_key': 'fluor_3031',\n",
       "  'generic_name': 'fluor_counts',\n",
       "  'long_name': 'Digital Counts from fluorometer',\n",
       "  'standard_name': 'fluorometer_digital_counts',\n",
       "  'units': 'counts'},\n",
       " 'chlor_fluorescence': {'epic_key': 'Fch_906',\n",
       "  'generic_name': 'chlor_fluorescence',\n",
       "  'long_name': 'Mass Concentration of chlorophyll from chlorophyll fluorescence',\n",
       "  'standard_name': 'mass_concentration_of_chlorophyll_in_sea_water',\n",
       "  'units': 'ugrams/l'},\n",
       " 'turbidity': {'epic_key': 'Trb_980',\n",
       "  'fortran': 'f10.2',\n",
       "  'generic_name': 'turbidity',\n",
       "  'longname': 'Turbidity (NTU)',\n",
       "  'long_name': 'turbidity in nephelometric turbidity units',\n",
       "  'standard_name': 'sea_water_turbidity',\n",
       "  'units': 'NTU'},\n",
       " 'cdom': {'epic_key': 'CDOM_2980',\n",
       "  'generic_name': 'cdom',\n",
       "  'long_name': 'concentration of CDOM in ppb',\n",
       "  'standard_name': 'concentration_of_colored_dissolved_organic_matter_in_sea_water',\n",
       "  'units': 'ppb'}}"
      ]
     },
     "metadata": {},
     "execution_count": 26
    }
   ],
   "source": [
    "with open(inst_meta_file) as file:\n",
    "    inst_config = yaml.full_load(file)\n",
    "inst_config"
   ]
  },
  {
   "cell_type": "code",
   "execution_count": 27,
   "id": "varied-popularity",
   "metadata": {},
   "outputs": [
    {
     "output_type": "execute_result",
     "data": {
      "text/plain": [
       "<EcoFOCIpy.io.ncCFsave.EcoFOCI_CFnc_moored at 0x1594e5610>"
      ]
     },
     "metadata": {},
     "execution_count": 27
    }
   ],
   "source": [
    "# Add meta data and prelim processing based on meta data\n",
    "# Convert to xarray and add meta information - save as CF netcdf file\n",
    "# pass -> data, instmeta, depmeta\n",
    "eco_data_nc = ncCFsave.EcoFOCI_CFnc_moored(df=eco_data, \n",
    "                                instrument_yaml=inst_config, \n",
    "                                mooring_yaml=mooring_config, \n",
    "                                instrument_id=instrument, \n",
    "                                inst_shortname=inst_shortname)\n",
    "eco_data_nc"
   ]
  },
  {
   "cell_type": "markdown",
   "id": "asian-chambers",
   "metadata": {},
   "source": [
    "At this point, you could save your file with the `.xarray2netcdf_save()` method and have a functioning dataset.... but it would be very simple with no additional qc, meta-data, or tuned parameters for optimizing software like ferret or erddap."
   ]
  },
  {
   "cell_type": "code",
   "execution_count": 28,
   "id": "practical-pennsylvania",
   "metadata": {},
   "outputs": [],
   "source": [
    "# expand the dimensions and coordinate variables\n",
    "# renames them appropriatley and prepares them for meta-filled values\n",
    "eco_data_nc.expand_dimensions()"
   ]
  },
  {
   "cell_type": "code",
   "execution_count": 29,
   "id": "floral-operations",
   "metadata": {},
   "outputs": [],
   "source": [
    "eco_data_nc.variable_meta_data(variable_keys=list(eco_data.columns.values),drop_missing=True)\n",
    "eco_data_nc.temporal_geospatioal_meta_data(depth='designed')\n",
    "#adding dimension meta needs to come after updating the dimension values... BUG?\n",
    "eco_data_nc.dimension_meta_data(variable_keys=['depth','latitude','longitude'])"
   ]
  },
  {
   "cell_type": "markdown",
   "id": "seventh-product",
   "metadata": {},
   "source": [
    "The following steps can happen in just about any order and are all meta-data driven.  Therefore, they are not required to have a functioning dataset, but they are required to have a well described dataset"
   ]
  },
  {
   "cell_type": "code",
   "execution_count": 30,
   "id": "auburn-diversity",
   "metadata": {},
   "outputs": [],
   "source": [
    "#add global attributes\n",
    "eco_data_nc.deployment_meta_add()\n",
    "eco_data_nc.get_xdf()\n",
    "\n",
    "#add instituitonal global attributes\n",
    "eco_data_nc.institution_meta_add()\n",
    "\n",
    "#add creation date/time - provenance data\n",
    "eco_data_nc.provinance_meta_add()\n",
    "\n",
    "#provide intial qc status field\n",
    "eco_data_nc.qc_status(qc_status='unknown')\n"
   ]
  },
  {
   "cell_type": "markdown",
   "id": "sustained-hughes",
   "metadata": {},
   "source": [
    "## Save CF Netcdf files\n",
    "\n",
    "Currently stick to netcdf3 classic... but migrating to netcdf4 (default) may be no problems for most modern purposes.  Its easy enough to pass the `format` kwargs through to the netcdf api of xarray."
   ]
  },
  {
   "cell_type": "code",
   "execution_count": 30,
   "id": "modular-volunteer",
   "metadata": {},
   "outputs": [],
   "source": [
    "# combine trim (not mandatory) and filename together (saves to test.nc without name)\n",
    "eco_data_nc.xarray2netcdf_save(xdf = eco_data_nc.autotrim_time(),\n",
    "                           filename=eco_data_nc.filename_const(),format=\"NETCDF3_CLASSIC\")\n",
    "\n",
    "# don't trim the data and pass your own filename\n",
    "eco_data_nc.xarray2netcdf_save(xdf = eco_data_nc.get_xdf(),\n",
    "                           filename=eco_data_nc.filename_const(manual_label='test'),format=\"NETCDF4_CLASSIC\")"
   ]
  },
  {
   "cell_type": "code",
   "execution_count": 31,
   "id": "unlike-breathing",
   "metadata": {},
   "outputs": [
    {
     "output_type": "execute_result",
     "data": {
      "text/plain": [
       "<xarray.Dataset>\n",
       "Dimensions:             (depth: 1, latitude: 1, longitude: 1, time: 902)\n",
       "Coordinates:\n",
       "  * time                (time) datetime64[ns] 2017-06-30T22:00:00 ... 2017-08...\n",
       "  * longitude           (longitude) float64 -164.0\n",
       "  * latitude            (latitude) float64 56.87\n",
       "  * depth               (depth) float64 0.0\n",
       "Data variables:\n",
       "    chlor_fluorescence  (time, depth, latitude, longitude) float64 4.579 ... ...\n",
       "    turbidity           (time, depth, latitude, longitude) float64 99.02 ... ...\n",
       "    cdom                (time, depth, latitude, longitude) float64 185.2 ... ...\n",
       "Attributes:\n",
       "    Latitude-Deg_MM.dd_W:                   56 52.1729 N\n",
       "    Longitude-Deg_MM.dd_N:                  164 02.8716 W\n",
       "    MooringID:                              16BSM-2A\n",
       "    platform_deployment_date:               2016-05-05T05:51:00Z\n",
       "    platform_deployment_cruise_name:        DY1606\n",
       "    platform_recovery_date:                 2016-09-29T03:45:00Z\n",
       "    platform_recovery_cruise_name:          AQ1601\n",
       "    platform_deployment_recovery_comments:  Depth not listed - other two moor...\n",
       "    WaterDepth:                             71.0\n",
       "    date_created:                           2021-04-02T12:02:12Z\n",
       "    date_modified:                          \n",
       "    QC_indicator:                           unknown"
      ],
      "text/html": "<div><svg style=\"position: absolute; width: 0; height: 0; overflow: hidden\">\n<defs>\n<symbol id=\"icon-database\" viewBox=\"0 0 32 32\">\n<path d=\"M16 0c-8.837 0-16 2.239-16 5v4c0 2.761 7.163 5 16 5s16-2.239 16-5v-4c0-2.761-7.163-5-16-5z\"></path>\n<path d=\"M16 17c-8.837 0-16-2.239-16-5v6c0 2.761 7.163 5 16 5s16-2.239 16-5v-6c0 2.761-7.163 5-16 5z\"></path>\n<path d=\"M16 26c-8.837 0-16-2.239-16-5v6c0 2.761 7.163 5 16 5s16-2.239 16-5v-6c0 2.761-7.163 5-16 5z\"></path>\n</symbol>\n<symbol id=\"icon-file-text2\" viewBox=\"0 0 32 32\">\n<path d=\"M28.681 7.159c-0.694-0.947-1.662-2.053-2.724-3.116s-2.169-2.030-3.116-2.724c-1.612-1.182-2.393-1.319-2.841-1.319h-15.5c-1.378 0-2.5 1.121-2.5 2.5v27c0 1.378 1.122 2.5 2.5 2.5h23c1.378 0 2.5-1.122 2.5-2.5v-19.5c0-0.448-0.137-1.23-1.319-2.841zM24.543 5.457c0.959 0.959 1.712 1.825 2.268 2.543h-4.811v-4.811c0.718 0.556 1.584 1.309 2.543 2.268zM28 29.5c0 0.271-0.229 0.5-0.5 0.5h-23c-0.271 0-0.5-0.229-0.5-0.5v-27c0-0.271 0.229-0.5 0.5-0.5 0 0 15.499-0 15.5 0v7c0 0.552 0.448 1 1 1h7v19.5z\"></path>\n<path d=\"M23 26h-14c-0.552 0-1-0.448-1-1s0.448-1 1-1h14c0.552 0 1 0.448 1 1s-0.448 1-1 1z\"></path>\n<path d=\"M23 22h-14c-0.552 0-1-0.448-1-1s0.448-1 1-1h14c0.552 0 1 0.448 1 1s-0.448 1-1 1z\"></path>\n<path d=\"M23 18h-14c-0.552 0-1-0.448-1-1s0.448-1 1-1h14c0.552 0 1 0.448 1 1s-0.448 1-1 1z\"></path>\n</symbol>\n</defs>\n</svg>\n<style>/* CSS stylesheet for displaying xarray objects in jupyterlab.\n *\n */\n\n:root {\n  --xr-font-color0: var(--jp-content-font-color0, rgba(0, 0, 0, 1));\n  --xr-font-color2: var(--jp-content-font-color2, rgba(0, 0, 0, 0.54));\n  --xr-font-color3: var(--jp-content-font-color3, rgba(0, 0, 0, 0.38));\n  --xr-border-color: var(--jp-border-color2, #e0e0e0);\n  --xr-disabled-color: var(--jp-layout-color3, #bdbdbd);\n  --xr-background-color: var(--jp-layout-color0, white);\n  --xr-background-color-row-even: var(--jp-layout-color1, white);\n  --xr-background-color-row-odd: var(--jp-layout-color2, #eeeeee);\n}\n\nhtml[theme=dark],\nbody.vscode-dark {\n  --xr-font-color0: rgba(255, 255, 255, 1);\n  --xr-font-color2: rgba(255, 255, 255, 0.54);\n  --xr-font-color3: rgba(255, 255, 255, 0.38);\n  --xr-border-color: #1F1F1F;\n  --xr-disabled-color: #515151;\n  --xr-background-color: #111111;\n  --xr-background-color-row-even: #111111;\n  --xr-background-color-row-odd: #313131;\n}\n\n.xr-wrap {\n  display: block;\n  min-width: 300px;\n  max-width: 700px;\n}\n\n.xr-text-repr-fallback {\n  /* fallback to plain text repr when CSS is not injected (untrusted notebook) */\n  display: none;\n}\n\n.xr-header {\n  padding-top: 6px;\n  padding-bottom: 6px;\n  margin-bottom: 4px;\n  border-bottom: solid 1px var(--xr-border-color);\n}\n\n.xr-header > div,\n.xr-header > ul {\n  display: inline;\n  margin-top: 0;\n  margin-bottom: 0;\n}\n\n.xr-obj-type,\n.xr-array-name {\n  margin-left: 2px;\n  margin-right: 10px;\n}\n\n.xr-obj-type {\n  color: var(--xr-font-color2);\n}\n\n.xr-sections {\n  padding-left: 0 !important;\n  display: grid;\n  grid-template-columns: 150px auto auto 1fr 20px 20px;\n}\n\n.xr-section-item {\n  display: contents;\n}\n\n.xr-section-item input {\n  display: none;\n}\n\n.xr-section-item input + label {\n  color: var(--xr-disabled-color);\n}\n\n.xr-section-item input:enabled + label {\n  cursor: pointer;\n  color: var(--xr-font-color2);\n}\n\n.xr-section-item input:enabled + label:hover {\n  color: var(--xr-font-color0);\n}\n\n.xr-section-summary {\n  grid-column: 1;\n  color: var(--xr-font-color2);\n  font-weight: 500;\n}\n\n.xr-section-summary > span {\n  display: inline-block;\n  padding-left: 0.5em;\n}\n\n.xr-section-summary-in:disabled + label {\n  color: var(--xr-font-color2);\n}\n\n.xr-section-summary-in + label:before {\n  display: inline-block;\n  content: '►';\n  font-size: 11px;\n  width: 15px;\n  text-align: center;\n}\n\n.xr-section-summary-in:disabled + label:before {\n  color: var(--xr-disabled-color);\n}\n\n.xr-section-summary-in:checked + label:before {\n  content: '▼';\n}\n\n.xr-section-summary-in:checked + label > span {\n  display: none;\n}\n\n.xr-section-summary,\n.xr-section-inline-details {\n  padding-top: 4px;\n  padding-bottom: 4px;\n}\n\n.xr-section-inline-details {\n  grid-column: 2 / -1;\n}\n\n.xr-section-details {\n  display: none;\n  grid-column: 1 / -1;\n  margin-bottom: 5px;\n}\n\n.xr-section-summary-in:checked ~ .xr-section-details {\n  display: contents;\n}\n\n.xr-array-wrap {\n  grid-column: 1 / -1;\n  display: grid;\n  grid-template-columns: 20px auto;\n}\n\n.xr-array-wrap > label {\n  grid-column: 1;\n  vertical-align: top;\n}\n\n.xr-preview {\n  color: var(--xr-font-color3);\n}\n\n.xr-array-preview,\n.xr-array-data {\n  padding: 0 5px !important;\n  grid-column: 2;\n}\n\n.xr-array-data,\n.xr-array-in:checked ~ .xr-array-preview {\n  display: none;\n}\n\n.xr-array-in:checked ~ .xr-array-data,\n.xr-array-preview {\n  display: inline-block;\n}\n\n.xr-dim-list {\n  display: inline-block !important;\n  list-style: none;\n  padding: 0 !important;\n  margin: 0;\n}\n\n.xr-dim-list li {\n  display: inline-block;\n  padding: 0;\n  margin: 0;\n}\n\n.xr-dim-list:before {\n  content: '(';\n}\n\n.xr-dim-list:after {\n  content: ')';\n}\n\n.xr-dim-list li:not(:last-child):after {\n  content: ',';\n  padding-right: 5px;\n}\n\n.xr-has-index {\n  font-weight: bold;\n}\n\n.xr-var-list,\n.xr-var-item {\n  display: contents;\n}\n\n.xr-var-item > div,\n.xr-var-item label,\n.xr-var-item > .xr-var-name span {\n  background-color: var(--xr-background-color-row-even);\n  margin-bottom: 0;\n}\n\n.xr-var-item > .xr-var-name:hover span {\n  padding-right: 5px;\n}\n\n.xr-var-list > li:nth-child(odd) > div,\n.xr-var-list > li:nth-child(odd) > label,\n.xr-var-list > li:nth-child(odd) > .xr-var-name span {\n  background-color: var(--xr-background-color-row-odd);\n}\n\n.xr-var-name {\n  grid-column: 1;\n}\n\n.xr-var-dims {\n  grid-column: 2;\n}\n\n.xr-var-dtype {\n  grid-column: 3;\n  text-align: right;\n  color: var(--xr-font-color2);\n}\n\n.xr-var-preview {\n  grid-column: 4;\n}\n\n.xr-var-name,\n.xr-var-dims,\n.xr-var-dtype,\n.xr-preview,\n.xr-attrs dt {\n  white-space: nowrap;\n  overflow: hidden;\n  text-overflow: ellipsis;\n  padding-right: 10px;\n}\n\n.xr-var-name:hover,\n.xr-var-dims:hover,\n.xr-var-dtype:hover,\n.xr-attrs dt:hover {\n  overflow: visible;\n  width: auto;\n  z-index: 1;\n}\n\n.xr-var-attrs,\n.xr-var-data {\n  display: none;\n  background-color: var(--xr-background-color) !important;\n  padding-bottom: 5px !important;\n}\n\n.xr-var-attrs-in:checked ~ .xr-var-attrs,\n.xr-var-data-in:checked ~ .xr-var-data {\n  display: block;\n}\n\n.xr-var-data > table {\n  float: right;\n}\n\n.xr-var-name span,\n.xr-var-data,\n.xr-attrs {\n  padding-left: 25px !important;\n}\n\n.xr-attrs,\n.xr-var-attrs,\n.xr-var-data {\n  grid-column: 1 / -1;\n}\n\ndl.xr-attrs {\n  padding: 0;\n  margin: 0;\n  display: grid;\n  grid-template-columns: 125px auto;\n}\n\n.xr-attrs dt,\n.xr-attrs dd {\n  padding: 0;\n  margin: 0;\n  float: left;\n  padding-right: 10px;\n  width: auto;\n}\n\n.xr-attrs dt {\n  font-weight: normal;\n  grid-column: 1;\n}\n\n.xr-attrs dt:hover span {\n  display: inline-block;\n  background: var(--xr-background-color);\n  padding-right: 10px;\n}\n\n.xr-attrs dd {\n  grid-column: 2;\n  white-space: pre-wrap;\n  word-break: break-all;\n}\n\n.xr-icon-database,\n.xr-icon-file-text2 {\n  display: inline-block;\n  vertical-align: middle;\n  width: 1em;\n  height: 1.5em !important;\n  stroke-width: 0;\n  stroke: currentColor;\n  fill: currentColor;\n}\n</style><pre class='xr-text-repr-fallback'>&lt;xarray.Dataset&gt;\nDimensions:             (depth: 1, latitude: 1, longitude: 1, time: 902)\nCoordinates:\n  * time                (time) datetime64[ns] 2017-06-30T22:00:00 ... 2017-08...\n  * longitude           (longitude) float64 -164.0\n  * latitude            (latitude) float64 56.87\n  * depth               (depth) float64 0.0\nData variables:\n    chlor_fluorescence  (time, depth, latitude, longitude) float64 4.579 ... ...\n    turbidity           (time, depth, latitude, longitude) float64 99.02 ... ...\n    cdom                (time, depth, latitude, longitude) float64 185.2 ... ...\nAttributes:\n    Latitude-Deg_MM.dd_W:                   56 52.1729 N\n    Longitude-Deg_MM.dd_N:                  164 02.8716 W\n    MooringID:                              16BSM-2A\n    platform_deployment_date:               2016-05-05T05:51:00Z\n    platform_deployment_cruise_name:        DY1606\n    platform_recovery_date:                 2016-09-29T03:45:00Z\n    platform_recovery_cruise_name:          AQ1601\n    platform_deployment_recovery_comments:  Depth not listed - other two moor...\n    WaterDepth:                             71.0\n    date_created:                           2021-04-02T12:02:12Z\n    date_modified:                          \n    QC_indicator:                           unknown</pre><div class='xr-wrap' hidden><div class='xr-header'><div class='xr-obj-type'>xarray.Dataset</div></div><ul class='xr-sections'><li class='xr-section-item'><input id='section-fc597c88-3572-46c2-bc26-68e27c5210de' class='xr-section-summary-in' type='checkbox' disabled ><label for='section-fc597c88-3572-46c2-bc26-68e27c5210de' class='xr-section-summary'  title='Expand/collapse section'>Dimensions:</label><div class='xr-section-inline-details'><ul class='xr-dim-list'><li><span class='xr-has-index'>depth</span>: 1</li><li><span class='xr-has-index'>latitude</span>: 1</li><li><span class='xr-has-index'>longitude</span>: 1</li><li><span class='xr-has-index'>time</span>: 902</li></ul></div><div class='xr-section-details'></div></li><li class='xr-section-item'><input id='section-71440461-856c-4aa2-9794-40d0367aea2e' class='xr-section-summary-in' type='checkbox'  checked><label for='section-71440461-856c-4aa2-9794-40d0367aea2e' class='xr-section-summary' >Coordinates: <span>(4)</span></label><div class='xr-section-inline-details'></div><div class='xr-section-details'><ul class='xr-var-list'><li class='xr-var-item'><div class='xr-var-name'><span class='xr-has-index'>time</span></div><div class='xr-var-dims'>(time)</div><div class='xr-var-dtype'>datetime64[ns]</div><div class='xr-var-preview xr-preview'>2017-06-30T22:00:00 ... 2017-08-...</div><input id='attrs-e54e23c9-02ab-4f2c-ac8c-693a5d6a21b3' class='xr-var-attrs-in' type='checkbox' disabled><label for='attrs-e54e23c9-02ab-4f2c-ac8c-693a5d6a21b3' title='Show/Hide attributes'><svg class='icon xr-icon-file-text2'><use xlink:href='#icon-file-text2'></use></svg></label><input id='data-6a3e84e4-1b33-4bbc-9f00-33a59525ba9f' class='xr-var-data-in' type='checkbox'><label for='data-6a3e84e4-1b33-4bbc-9f00-33a59525ba9f' title='Show/Hide data repr'><svg class='icon xr-icon-database'><use xlink:href='#icon-database'></use></svg></label><div class='xr-var-attrs'><dl class='xr-attrs'></dl></div><div class='xr-var-data'><pre>array([&#x27;2017-06-30T22:00:00.000000000&#x27;, &#x27;2017-06-30T23:00:00.000000000&#x27;,\n       &#x27;2017-07-01T00:00:00.000000000&#x27;, ..., &#x27;2017-08-07T09:00:00.000000000&#x27;,\n       &#x27;2017-08-07T10:00:00.000000000&#x27;, &#x27;2017-08-07T11:00:00.000000000&#x27;],\n      dtype=&#x27;datetime64[ns]&#x27;)</pre></div></li><li class='xr-var-item'><div class='xr-var-name'><span class='xr-has-index'>longitude</span></div><div class='xr-var-dims'>(longitude)</div><div class='xr-var-dtype'>float64</div><div class='xr-var-preview xr-preview'>-164.0</div><input id='attrs-2e4ce52e-d25e-4f40-94b8-190927b6489f' class='xr-var-attrs-in' type='checkbox' ><label for='attrs-2e4ce52e-d25e-4f40-94b8-190927b6489f' title='Show/Hide attributes'><svg class='icon xr-icon-file-text2'><use xlink:href='#icon-file-text2'></use></svg></label><input id='data-d879b513-bbe0-4e9f-88d7-eeef53d1c1c9' class='xr-var-data-in' type='checkbox'><label for='data-d879b513-bbe0-4e9f-88d7-eeef53d1c1c9' title='Show/Hide data repr'><svg class='icon xr-icon-database'><use xlink:href='#icon-database'></use></svg></label><div class='xr-var-attrs'><dl class='xr-attrs'><dt><span>epic_key :</span></dt><dd>LAT_500</dd><dt><span>name :</span></dt><dd>longitude</dd><dt><span>generic_name :</span></dt><dd>longitude</dd><dt><span>units :</span></dt><dd>degrees_east</dd><dt><span>long_name :</span></dt><dd>longitude</dd><dt><span>standard_name :</span></dt><dd>longitude</dd></dl></div><div class='xr-var-data'><pre>array([-164.04786])</pre></div></li><li class='xr-var-item'><div class='xr-var-name'><span class='xr-has-index'>latitude</span></div><div class='xr-var-dims'>(latitude)</div><div class='xr-var-dtype'>float64</div><div class='xr-var-preview xr-preview'>56.87</div><input id='attrs-bff597a5-9333-4320-9beb-4631c74f6cc7' class='xr-var-attrs-in' type='checkbox' ><label for='attrs-bff597a5-9333-4320-9beb-4631c74f6cc7' title='Show/Hide attributes'><svg class='icon xr-icon-file-text2'><use xlink:href='#icon-file-text2'></use></svg></label><input id='data-f79759f2-6a9c-4c49-986c-91f4edb9cb49' class='xr-var-data-in' type='checkbox'><label for='data-f79759f2-6a9c-4c49-986c-91f4edb9cb49' title='Show/Hide data repr'><svg class='icon xr-icon-database'><use xlink:href='#icon-database'></use></svg></label><div class='xr-var-attrs'><dl class='xr-attrs'><dt><span>epic_key :</span></dt><dd>LON_501</dd><dt><span>name :</span></dt><dd>latitude</dd><dt><span>generic_name :</span></dt><dd>latitude</dd><dt><span>units :</span></dt><dd>degrees_north</dd><dt><span>long_name :</span></dt><dd>latitude</dd><dt><span>standard_name :</span></dt><dd>latitude</dd></dl></div><div class='xr-var-data'><pre>array([56.869548])</pre></div></li><li class='xr-var-item'><div class='xr-var-name'><span class='xr-has-index'>depth</span></div><div class='xr-var-dims'>(depth)</div><div class='xr-var-dtype'>float64</div><div class='xr-var-preview xr-preview'>0.0</div><input id='attrs-e04a54eb-2e80-4f61-b5f0-9a43d48b9f10' class='xr-var-attrs-in' type='checkbox' ><label for='attrs-e04a54eb-2e80-4f61-b5f0-9a43d48b9f10' title='Show/Hide attributes'><svg class='icon xr-icon-file-text2'><use xlink:href='#icon-file-text2'></use></svg></label><input id='data-30db2e2e-8a80-4f07-8c9f-7d8fa75a4025' class='xr-var-data-in' type='checkbox'><label for='data-30db2e2e-8a80-4f07-8c9f-7d8fa75a4025' title='Show/Hide data repr'><svg class='icon xr-icon-database'><use xlink:href='#icon-database'></use></svg></label><div class='xr-var-attrs'><dl class='xr-attrs'><dt><span>epic_key :</span></dt><dd>D_3</dd><dt><span>generic_name :</span></dt><dd>depth</dd><dt><span>units :</span></dt><dd>meter</dd><dt><span>long_name :</span></dt><dd>depth below surface (meters)</dd><dt><span>standard_name :</span></dt><dd>depth</dd></dl></div><div class='xr-var-data'><pre>array([0.])</pre></div></li></ul></div></li><li class='xr-section-item'><input id='section-28fe9c74-f8b4-48ba-a470-0a5c3e7dce11' class='xr-section-summary-in' type='checkbox'  checked><label for='section-28fe9c74-f8b4-48ba-a470-0a5c3e7dce11' class='xr-section-summary' >Data variables: <span>(3)</span></label><div class='xr-section-inline-details'></div><div class='xr-section-details'><ul class='xr-var-list'><li class='xr-var-item'><div class='xr-var-name'><span>chlor_fluorescence</span></div><div class='xr-var-dims'>(time, depth, latitude, longitude)</div><div class='xr-var-dtype'>float64</div><div class='xr-var-preview xr-preview'>4.579 4.584 4.59 ... 9.685 9.669</div><input id='attrs-6e42f308-f204-43eb-93b7-d0b64192572b' class='xr-var-attrs-in' type='checkbox' ><label for='attrs-6e42f308-f204-43eb-93b7-d0b64192572b' title='Show/Hide attributes'><svg class='icon xr-icon-file-text2'><use xlink:href='#icon-file-text2'></use></svg></label><input id='data-1b69922e-5cef-4459-9a28-619a2287a544' class='xr-var-data-in' type='checkbox'><label for='data-1b69922e-5cef-4459-9a28-619a2287a544' title='Show/Hide data repr'><svg class='icon xr-icon-database'><use xlink:href='#icon-database'></use></svg></label><div class='xr-var-attrs'><dl class='xr-attrs'><dt><span>epic_key :</span></dt><dd>Fch_906</dd><dt><span>generic_name :</span></dt><dd>chlor_fluorescence</dd><dt><span>long_name :</span></dt><dd>Mass Concentration of chlorophyll from chlorophyll fluorescence</dd><dt><span>standard_name :</span></dt><dd>mass_concentration_of_chlorophyll_in_sea_water</dd><dt><span>units :</span></dt><dd>ugrams/l</dd></dl></div><div class='xr-var-data'><pre>array([[[[4.57892098]]],\n\n\n       [[[4.58432425]]],\n\n\n       [[[4.58972752]]],\n\n\n       [[[4.59513079]]],\n\n\n       [[[4.60053407]]],\n\n\n       [[[4.60593734]]],\n\n\n       [[[4.61134061]]],\n\n...\n\n       [[[9.61688   ]]],\n\n\n       [[[9.64964   ]]],\n\n\n       [[[9.72001333]]],\n\n\n       [[[9.8826    ]]],\n\n\n       [[[9.89352   ]]],\n\n\n       [[[9.68482667]]],\n\n\n       [[[9.66905333]]]])</pre></div></li><li class='xr-var-item'><div class='xr-var-name'><span>turbidity</span></div><div class='xr-var-dims'>(time, depth, latitude, longitude)</div><div class='xr-var-dtype'>float64</div><div class='xr-var-preview xr-preview'>99.02 99.14 99.26 ... 197.9 197.9</div><input id='attrs-abb7d6ec-c06c-4cb1-a943-5928187a1a84' class='xr-var-attrs-in' type='checkbox' ><label for='attrs-abb7d6ec-c06c-4cb1-a943-5928187a1a84' title='Show/Hide attributes'><svg class='icon xr-icon-file-text2'><use xlink:href='#icon-file-text2'></use></svg></label><input id='data-9dd78484-bc81-4ac7-b69b-83d3149f74fc' class='xr-var-data-in' type='checkbox'><label for='data-9dd78484-bc81-4ac7-b69b-83d3149f74fc' title='Show/Hide data repr'><svg class='icon xr-icon-database'><use xlink:href='#icon-database'></use></svg></label><div class='xr-var-attrs'><dl class='xr-attrs'><dt><span>epic_key :</span></dt><dd>Trb_980</dd><dt><span>fortran :</span></dt><dd>f10.2</dd><dt><span>generic_name :</span></dt><dd>turbidity</dd><dt><span>longname :</span></dt><dd>Turbidity (NTU)</dd><dt><span>long_name :</span></dt><dd>turbidity in nephelometric turbidity units</dd><dt><span>standard_name :</span></dt><dd>sea_water_turbidity</dd><dt><span>units :</span></dt><dd>NTU</dd></dl></div><div class='xr-var-data'><pre>array([[[[ 99.02366073]]],\n\n\n       [[[ 99.14086315]]],\n\n\n       [[[ 99.25806558]]],\n\n\n       [[[ 99.375268  ]]],\n\n\n       [[[ 99.49247043]]],\n\n\n       [[[ 99.60967286]]],\n\n\n       [[[ 99.72687528]]],\n\n...\n\n       [[[197.88      ]]],\n\n\n       [[[197.88      ]]],\n\n\n       [[[197.88      ]]],\n\n\n       [[[197.88      ]]],\n\n\n       [[[197.88      ]]],\n\n\n       [[[197.88      ]]],\n\n\n       [[[197.88      ]]]])</pre></div></li><li class='xr-var-item'><div class='xr-var-name'><span>cdom</span></div><div class='xr-var-dims'>(time, depth, latitude, longitude)</div><div class='xr-var-dtype'>float64</div><div class='xr-var-preview xr-preview'>185.2 185.4 185.7 ... 369.0 369.0</div><input id='attrs-382004ba-bbd7-43e4-89c5-cf0de3633fc6' class='xr-var-attrs-in' type='checkbox' ><label for='attrs-382004ba-bbd7-43e4-89c5-cf0de3633fc6' title='Show/Hide attributes'><svg class='icon xr-icon-file-text2'><use xlink:href='#icon-file-text2'></use></svg></label><input id='data-448ba4b4-9c04-428f-82cc-6c357c2b3b99' class='xr-var-data-in' type='checkbox'><label for='data-448ba4b4-9c04-428f-82cc-6c357c2b3b99' title='Show/Hide data repr'><svg class='icon xr-icon-database'><use xlink:href='#icon-database'></use></svg></label><div class='xr-var-attrs'><dl class='xr-attrs'><dt><span>epic_key :</span></dt><dd>CDOM_2980</dd><dt><span>generic_name :</span></dt><dd>cdom</dd><dt><span>long_name :</span></dt><dd>concentration of CDOM in ppb</dd><dt><span>standard_name :</span></dt><dd>concentration_of_colored_dissolved_organic_matter_in_sea_water</dd><dt><span>units :</span></dt><dd>ppb</dd></dl></div><div class='xr-var-data'><pre>array([[[[185.22550183]]],\n\n\n       [[[185.44334126]]],\n\n\n       [[[185.66118069]]],\n\n\n       [[[185.87902012]]],\n\n\n       [[[186.09685955]]],\n\n\n       [[[186.31469898]]],\n\n\n       [[[186.53253841]]],\n\n...\n\n       [[[368.9658    ]]],\n\n\n       [[[368.9658    ]]],\n\n\n       [[[368.9658    ]]],\n\n\n       [[[368.9658    ]]],\n\n\n       [[[368.9658    ]]],\n\n\n       [[[368.9658    ]]],\n\n\n       [[[368.9658    ]]]])</pre></div></li></ul></div></li><li class='xr-section-item'><input id='section-68384bf9-42f1-4a00-8607-8896d9d9de82' class='xr-section-summary-in' type='checkbox'  ><label for='section-68384bf9-42f1-4a00-8607-8896d9d9de82' class='xr-section-summary' >Attributes: <span>(12)</span></label><div class='xr-section-inline-details'></div><div class='xr-section-details'><dl class='xr-attrs'><dt><span>Latitude-Deg_MM.dd_W :</span></dt><dd>56 52.1729 N</dd><dt><span>Longitude-Deg_MM.dd_N :</span></dt><dd>164 02.8716 W</dd><dt><span>MooringID :</span></dt><dd>16BSM-2A</dd><dt><span>platform_deployment_date :</span></dt><dd>2016-05-05T05:51:00Z</dd><dt><span>platform_deployment_cruise_name :</span></dt><dd>DY1606</dd><dt><span>platform_recovery_date :</span></dt><dd>2016-09-29T03:45:00Z</dd><dt><span>platform_recovery_cruise_name :</span></dt><dd>AQ1601</dd><dt><span>platform_deployment_recovery_comments :</span></dt><dd>Depth not listed - other two moorings BSP-2A and ITAE are at 71m so figure 71m</dd><dt><span>WaterDepth :</span></dt><dd>71.0</dd><dt><span>date_created :</span></dt><dd>2021-04-02T12:02:12Z</dd><dt><span>date_modified :</span></dt><dd></dd><dt><span>QC_indicator :</span></dt><dd>unknown</dd></dl></div></li></ul></div></div>"
     },
     "metadata": {},
     "execution_count": 31
    }
   ],
   "source": [
    "eco_data_nc.get_xdf()"
   ]
  },
  {
   "cell_type": "markdown",
   "id": "individual-nature",
   "metadata": {},
   "source": [
    "## Next Steps\n",
    "\n",
    "QC of data (plot parameters with other instruments)\n",
    "- be sure to updated the qc_status and the history"
   ]
  },
  {
   "cell_type": "code",
   "execution_count": null,
   "id": "insured-vulnerability",
   "metadata": {},
   "outputs": [],
   "source": []
  }
 ],
 "metadata": {
  "kernelspec": {
   "name": "python3",
   "display_name": "Python 3.8.6 64-bit ('py38': virtualenv)",
   "metadata": {
    "interpreter": {
     "hash": "ea8efced7f9f908505a4e28889b9d0ff7d52e9a5c03dfaa80d1d80124525970c"
    }
   }
  },
  "language_info": {
   "codemirror_mode": {
    "name": "ipython",
    "version": 3
   },
   "file_extension": ".py",
   "mimetype": "text/x-python",
   "name": "python",
   "nbconvert_exporter": "python",
   "pygments_lexer": "ipython3",
   "version": "3.8.6-final"
  }
 },
 "nbformat": 4,
 "nbformat_minor": 5
}
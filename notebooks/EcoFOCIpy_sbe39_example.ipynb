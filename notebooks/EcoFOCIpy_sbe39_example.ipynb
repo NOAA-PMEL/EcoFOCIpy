{
 "cells": [
  {
   "cell_type": "markdown",
   "id": "educational-chosen",
   "metadata": {},
   "source": [
    "# Using EcoFOCIpy to process raw field data\n",
    "\n",
    "## Mooring / Timeseries Data\n",
    "\n",
    "Basic workflow for each instrument grouping is *(initial archive level)*:\n",
    "- Parse data from raw files into pandas dataframe\n",
    "- output initial files (pandas->csv) **ERDDAP NRT** when no meta data is added\n",
    "\n",
    "Convert to xarray dataframe for all following work *(working or final data level):\n",
    "- TODO: Add metadata from instrument yaml files and/or header info\n",
    "- ingest metadata from deployment/recovery records or cast logs\n",
    "- process data beyond simple file translate\n",
    "- apply any calibrations or corrections\n",
    "    + field corrections\n",
    "    + offsets\n",
    "    + instrument compensations\n",
    "    + some QC were available... this would be old-school simple bounds mostly\n",
    "- adjust time bounds and sample frequency (xarray dataframe)\n",
    "- save as CF netcdf via xarray: so many of the steps above are optional\n",
    "    + **ERDDAP NRT** if no corrections, offsets or time bounds are applied but some meta data is\n",
    "    + **Working and awaiting QC** has no ERDDAP representation and is a holding spot\n",
    "    + **ERDDAP Final** fully calibrated, qc'd and populated with meta information\n",
    "\n",
    "Plot for preview and QC\n",
    "- preview images (indiv and/or collectively)\n",
    "- manual qc process\n",
    "- automated qc process ML/AI\n",
    "\n",
    "Further refinenments for ERDDAP hosting:\n"
   ]
  },
  {
   "cell_type": "markdown",
   "id": "allied-miniature",
   "metadata": {},
   "source": [
    "## Example below is for SBE-39 but the workflow is similar for all instruments.\n",
    "\n",
    "Future processing of this instrument can be a simplified (no markdown) process which can be archived so that the procedure can be traced or updated"
   ]
  },
  {
   "cell_type": "code",
   "execution_count": 10,
   "id": "studied-pollution",
   "metadata": {},
   "outputs": [],
   "source": [
    "import yaml\n",
    "\n",
    "import EcoFOCIpy.io.sbe_parser as sbe_parser #<- instrument specific\n",
    "import EcoFOCIpy.io.ncCFsave as ncCFsave\n",
    "import EcoFOCIpy.metaconfig.load_config as load_config"
   ]
  },
  {
   "cell_type": "markdown",
   "id": "public-millennium",
   "metadata": {},
   "source": [
    "The sample_data_dir should be included in the github package but may not be included in the pip install of the package\n",
    "\n",
    "## Simple Processing - first step"
   ]
  },
  {
   "cell_type": "code",
   "execution_count": 11,
   "id": "offensive-level",
   "metadata": {},
   "outputs": [],
   "source": [
    "sample_data_dir = '../'"
   ]
  },
  {
   "cell_type": "code",
   "execution_count": 12,
   "id": "third-yellow",
   "metadata": {},
   "outputs": [],
   "source": [
    "###############################################################\n",
    "# edit to point to {instrument sepcific} raw datafile \n",
    "datafile = sample_data_dir+'staticdata/example_data/sbe39_wpress.cnv'\n",
    "instrument = 'SBE-39 0992'\n",
    "mooring_meta_file = sample_data_dir+'staticdata/mooring_example.yaml'\n",
    "inst_meta_file = sample_data_dir+'staticdata/instr_metaconfig/sbe39_cf.yaml'\n",
    "inst_shortname = 's39'\n",
    "###############################################################\n",
    "\n",
    "#init and load data\n",
    "sbe39_wop = sbe_parser.sbe39()\n",
    "(sbe39_wop_data,sbe39_wop_header) = sbe39_wop.parse(filename=datafile,\n",
    "                                                    return_header=True,\n",
    "                                                    datetime_index=True) "
   ]
  },
  {
   "cell_type": "markdown",
   "id": "metallic-youth",
   "metadata": {},
   "source": [
    "The data is output as a pandas dataframe from the intial module call and if its available, a header"
   ]
  },
  {
   "cell_type": "code",
   "execution_count": 13,
   "id": "fifteen-military",
   "metadata": {},
   "outputs": [
    {
     "output_type": "execute_result",
     "data": {
      "text/plain": [
       "['* Sea-Bird SBE39 Data File:\\n',\n",
       " '* FileName = C:\\\\Users\\\\strausz.PMEL\\\\Desktop\\\\2016\\\\bering_downloads\\\\16bsm2a_sbe39_992_39m.asc\\n',\n",
       " '* Software Version 1.59\\n',\n",
       " '* Temperature SN = \\n',\n",
       " '* Conductivity SN = \\n',\n",
       " '* System UpLoad Time = Oct 11 2016 21:16:46\\n',\n",
       " '** realtime: 211510\\n',\n",
       " '** inst time: 211432\\n',\n",
       " '* ds\\n',\n",
       " '* SBE 39 V 1.7a   SERIAL NO. 00992    11 Oct 2016  21:15:27\\n',\n",
       " '* not logging: received stop command\\n',\n",
       " '* sample interval = 600 seconds\\n',\n",
       " '* samplenumber = 23024, free = 209992\\n',\n",
       " '* serial sync mode disabled\\n',\n",
       " '* real-time output disabled\\n',\n",
       " '* SBE 39 configuration = temperature and pressure\\n',\n",
       " '* binary upload does not include time\\n',\n",
       " '* temperature = 21.03 deg C\\n',\n",
       " '\\n',\n",
       " '\\n',\n",
       " '* S>\\n',\n",
       " '* SBE39 V 1.7a   00992\\n',\n",
       " '* temperature:  01-dec-15\\n',\n",
       " '*     TA0 = 5.747298e-05\\n',\n",
       " '*     TA1 = 2.686513e-04\\n',\n",
       " '*     TA2 = -2.064612e-06\\n',\n",
       " '*     TA3 = 1.407888e-07\\n',\n",
       " '* pressure S/N 1345, range = 508 psia:  25-nov-15\\n',\n",
       " '*     PA0 = 1.374140e+00\\n',\n",
       " '*     PA1 = 2.409012e-02\\n',\n",
       " '*     PA2 = 1.747798e-09\\n',\n",
       " '*     PTHA0 = -6.215146e+01\\n',\n",
       " '*     PTHA1 = 5.103617e-02\\n',\n",
       " '*     PTHA2 = -8.432632e-08\\n',\n",
       " '*     PTCA0 = -3.407050e+00\\n',\n",
       " '*     PTCA1 = 3.609744e+00\\n',\n",
       " '*     PTCA2 = -4.446806e-02\\n',\n",
       " '*     PTCB0 = 2.499963e+01\\n',\n",
       " '*     PTCB1 = -6.750000e-04\\n',\n",
       " '*     PTCB2 = 0.000000e+00\\n',\n",
       " '* rtc:  01-dec-15\\n',\n",
       " '*     RTCA0 = 9.999772e-01\\n',\n",
       " '*     RTCA1 = 1.563622e-06\\n',\n",
       " '*     RTCA2 = -3.397688e-08\\n',\n",
       " '\\n',\n",
       " '\\n',\n",
       " '* S> \\n',\n",
       " '*END*\\n']"
      ]
     },
     "metadata": {},
     "execution_count": 13
    }
   ],
   "source": [
    "sbe39_wop_header"
   ]
  },
  {
   "cell_type": "code",
   "execution_count": 14,
   "id": "alive-bruce",
   "metadata": {},
   "outputs": [
    {
     "output_type": "execute_result",
     "data": {
      "text/plain": [
       "                     temperature  pressure\n",
       "date_time                                 \n",
       "2016-05-05 00:00:15       8.0234    -0.028\n",
       "2016-05-05 00:10:15       7.9049    -0.028\n",
       "2016-05-05 00:20:15       7.9709    -0.028\n",
       "2016-05-05 00:30:15       8.0860    -0.028\n",
       "2016-05-05 00:40:15       8.1800    -0.033\n",
       "...                          ...       ...\n",
       "2016-05-06 02:50:15       4.4773    40.278\n",
       "2016-05-06 03:00:15       4.4369    39.263\n",
       "2016-05-06 03:10:15       4.4225    39.900\n",
       "2016-05-06 03:20:15       4.5546    39.631\n",
       "2016-05-06 03:30:15       4.4372    39.329\n",
       "\n",
       "[166 rows x 2 columns]"
      ],
      "text/html": "<div>\n<style scoped>\n    .dataframe tbody tr th:only-of-type {\n        vertical-align: middle;\n    }\n\n    .dataframe tbody tr th {\n        vertical-align: top;\n    }\n\n    .dataframe thead th {\n        text-align: right;\n    }\n</style>\n<table border=\"1\" class=\"dataframe\">\n  <thead>\n    <tr style=\"text-align: right;\">\n      <th></th>\n      <th>temperature</th>\n      <th>pressure</th>\n    </tr>\n    <tr>\n      <th>date_time</th>\n      <th></th>\n      <th></th>\n    </tr>\n  </thead>\n  <tbody>\n    <tr>\n      <th>2016-05-05 00:00:15</th>\n      <td>8.0234</td>\n      <td>-0.028</td>\n    </tr>\n    <tr>\n      <th>2016-05-05 00:10:15</th>\n      <td>7.9049</td>\n      <td>-0.028</td>\n    </tr>\n    <tr>\n      <th>2016-05-05 00:20:15</th>\n      <td>7.9709</td>\n      <td>-0.028</td>\n    </tr>\n    <tr>\n      <th>2016-05-05 00:30:15</th>\n      <td>8.0860</td>\n      <td>-0.028</td>\n    </tr>\n    <tr>\n      <th>2016-05-05 00:40:15</th>\n      <td>8.1800</td>\n      <td>-0.033</td>\n    </tr>\n    <tr>\n      <th>...</th>\n      <td>...</td>\n      <td>...</td>\n    </tr>\n    <tr>\n      <th>2016-05-06 02:50:15</th>\n      <td>4.4773</td>\n      <td>40.278</td>\n    </tr>\n    <tr>\n      <th>2016-05-06 03:00:15</th>\n      <td>4.4369</td>\n      <td>39.263</td>\n    </tr>\n    <tr>\n      <th>2016-05-06 03:10:15</th>\n      <td>4.4225</td>\n      <td>39.900</td>\n    </tr>\n    <tr>\n      <th>2016-05-06 03:20:15</th>\n      <td>4.5546</td>\n      <td>39.631</td>\n    </tr>\n    <tr>\n      <th>2016-05-06 03:30:15</th>\n      <td>4.4372</td>\n      <td>39.329</td>\n    </tr>\n  </tbody>\n</table>\n<p>166 rows × 2 columns</p>\n</div>"
     },
     "metadata": {},
     "execution_count": 14
    }
   ],
   "source": [
    "sbe39_wop_data"
   ]
  },
  {
   "cell_type": "markdown",
   "id": "ready-audit",
   "metadata": {},
   "source": [
    "## Time properties\n",
    "\n",
    "Its unusual that our clocks drift to the point of concern for our instruments (if an instrument is off by 3 minutes but only sampling hourly... regridding that data will result in minimal changes).  However, there are a few time oriented modifications that may need to be made."
   ]
  },
  {
   "cell_type": "markdown",
   "id": "supposed-bankruptcy",
   "metadata": {},
   "source": [
    "It is very easy to use pandas interplation and resample methods on the dataframe as is.  A few steps are suggested below:\n",
    "- parse out on-deck (predeployment and recovery) data.  This can be done via pandas or xarray but requires the mooring metadata to have been read in.  See future steps below.\n",
    "- even if the sample frequency is set to the desired measurement frequency, it would be good to perform a quick regridding as an assurance task\n",
    "- FOCI data is usualy 1min, 10min, 1hr - and the 1min data is a fairly new (sbe56) data stream\n",
    "    + subsampling high frequency data to lower frequency is easy via df.resample().mean()\n",
    "    + you may want to take the median instead of the mean for noisy data (fluorometer) , occasionally decimating may be more appropriate if you want to downsize the dataset size but not smear features\n",
    "    + shifting times can be a bit more involved.  There are two primary ways to do it, interpolate or shift\n",
    "        - to interpolate, you will need to upsample your data to a higher frequency which will generate missing values, then interpolate (with a maximum gap size), then decimate.  This always has the artifact of smoothing data and decreasing the min/max values. **common on microcats and other 10min datasets**\n",
    "        - shifting usually just involves droping extra time \"digits\", if you want hourly, you could just drop the trailing minutes assuming you are just off the hour (8:05 -> 8:00) or you can round to the nearest time unit but niether of these changes the data value, just the time associated with it. **common on seacats and other hourly datasets**\n",
    "    + I suggest if no change is needed... resample().mean() to the sample frequency just in case there is a small deviation from expected (<1min)\n",
    "    "
   ]
  },
  {
   "cell_type": "code",
   "execution_count": 15,
   "id": "fourth-perspective",
   "metadata": {},
   "outputs": [
    {
     "output_type": "execute_result",
     "data": {
      "text/plain": [
       "                     temperature  pressure\n",
       "date_time                                 \n",
       "2016-05-05 00:00:00       8.0234    -0.028\n",
       "2016-05-05 00:10:00       7.9049    -0.028\n",
       "2016-05-05 00:20:00       7.9709    -0.028\n",
       "2016-05-05 00:30:00       8.0860    -0.028\n",
       "2016-05-05 00:40:00       8.1800    -0.033\n",
       "...                          ...       ...\n",
       "2016-05-06 02:50:00       4.4773    40.278\n",
       "2016-05-06 03:00:00       4.4369    39.263\n",
       "2016-05-06 03:10:00       4.4225    39.900\n",
       "2016-05-06 03:20:00       4.5546    39.631\n",
       "2016-05-06 03:30:00       4.4372    39.329\n",
       "\n",
       "[166 rows x 2 columns]"
      ],
      "text/html": "<div>\n<style scoped>\n    .dataframe tbody tr th:only-of-type {\n        vertical-align: middle;\n    }\n\n    .dataframe tbody tr th {\n        vertical-align: top;\n    }\n\n    .dataframe thead th {\n        text-align: right;\n    }\n</style>\n<table border=\"1\" class=\"dataframe\">\n  <thead>\n    <tr style=\"text-align: right;\">\n      <th></th>\n      <th>temperature</th>\n      <th>pressure</th>\n    </tr>\n    <tr>\n      <th>date_time</th>\n      <th></th>\n      <th></th>\n    </tr>\n  </thead>\n  <tbody>\n    <tr>\n      <th>2016-05-05 00:00:00</th>\n      <td>8.0234</td>\n      <td>-0.028</td>\n    </tr>\n    <tr>\n      <th>2016-05-05 00:10:00</th>\n      <td>7.9049</td>\n      <td>-0.028</td>\n    </tr>\n    <tr>\n      <th>2016-05-05 00:20:00</th>\n      <td>7.9709</td>\n      <td>-0.028</td>\n    </tr>\n    <tr>\n      <th>2016-05-05 00:30:00</th>\n      <td>8.0860</td>\n      <td>-0.028</td>\n    </tr>\n    <tr>\n      <th>2016-05-05 00:40:00</th>\n      <td>8.1800</td>\n      <td>-0.033</td>\n    </tr>\n    <tr>\n      <th>...</th>\n      <td>...</td>\n      <td>...</td>\n    </tr>\n    <tr>\n      <th>2016-05-06 02:50:00</th>\n      <td>4.4773</td>\n      <td>40.278</td>\n    </tr>\n    <tr>\n      <th>2016-05-06 03:00:00</th>\n      <td>4.4369</td>\n      <td>39.263</td>\n    </tr>\n    <tr>\n      <th>2016-05-06 03:10:00</th>\n      <td>4.4225</td>\n      <td>39.900</td>\n    </tr>\n    <tr>\n      <th>2016-05-06 03:20:00</th>\n      <td>4.5546</td>\n      <td>39.631</td>\n    </tr>\n    <tr>\n      <th>2016-05-06 03:30:00</th>\n      <td>4.4372</td>\n      <td>39.329</td>\n    </tr>\n  </tbody>\n</table>\n<p>166 rows × 2 columns</p>\n</div>"
     },
     "metadata": {},
     "execution_count": 15
    }
   ],
   "source": [
    "sbe39_wop_data = sbe39_wop_data.resample('10min').mean()\n",
    "sbe39_wop_data"
   ]
  },
  {
   "cell_type": "code",
   "execution_count": 16,
   "id": "undefined-membrane",
   "metadata": {},
   "outputs": [
    {
     "output_type": "execute_result",
     "data": {
      "text/plain": [
       "<AxesSubplot:xlabel='date_time'>"
      ]
     },
     "metadata": {},
     "execution_count": 16
    },
    {
     "output_type": "display_data",
     "data": {
      "text/plain": "<Figure size 432x288 with 1 Axes>",
      "image/svg+xml": "<?xml version=\"1.0\" encoding=\"utf-8\" standalone=\"no\"?>\n<!DOCTYPE svg PUBLIC \"-//W3C//DTD SVG 1.1//EN\"\n  \"http://www.w3.org/Graphics/SVG/1.1/DTD/svg11.dtd\">\n<svg height=\"273.672188pt\" version=\"1.1\" viewBox=\"0 0 377.247102 273.672188\" width=\"377.247102pt\" xmlns=\"http://www.w3.org/2000/svg\" xmlns:xlink=\"http://www.w3.org/1999/xlink\">\n <metadata>\n  <rdf:RDF xmlns:cc=\"http://creativecommons.org/ns#\" xmlns:dc=\"http://purl.org/dc/elements/1.1/\" xmlns:rdf=\"http://www.w3.org/1999/02/22-rdf-syntax-ns#\">\n   <cc:Work>\n    <dc:type rdf:resource=\"http://purl.org/dc/dcmitype/StillImage\"/>\n    <dc:date>2021-04-23T13:34:04.481751</dc:date>\n    <dc:format>image/svg+xml</dc:format>\n    <dc:creator>\n     <cc:Agent>\n      <dc:title>Matplotlib v3.4.1, https://matplotlib.org/</dc:title>\n     </cc:Agent>\n    </dc:creator>\n   </cc:Work>\n  </rdf:RDF>\n </metadata>\n <defs>\n  <style type=\"text/css\">*{stroke-linecap:butt;stroke-linejoin:round;}</style>\n </defs>\n <g id=\"figure_1\">\n  <g id=\"patch_1\">\n   <path d=\"M -0 273.672188 \nL 377.247102 273.672188 \nL 377.247102 0 \nL -0 0 \nz\n\" style=\"fill:none;\"/>\n  </g>\n  <g id=\"axes_1\">\n   <g id=\"patch_2\">\n    <path d=\"M 26.925 224.64 \nL 361.725 224.64 \nL 361.725 7.2 \nL 26.925 7.2 \nz\n\" style=\"fill:#ffffff;\"/>\n   </g>\n   <g id=\"matplotlib.axis_1\">\n    <g id=\"xtick_1\">\n     <g id=\"line2d_1\">\n      <defs>\n       <path d=\"M 0 0 \nL 0 3.5 \n\" id=\"m42a6afcc3e\" style=\"stroke:#000000;stroke-width:0.8;\"/>\n      </defs>\n      <g>\n       <use style=\"stroke:#000000;stroke-width:0.8;\" x=\"26.925\" xlink:href=\"#m42a6afcc3e\" y=\"224.64\"/>\n      </g>\n     </g>\n     <g id=\"text_1\">\n      <!-- 00:00 -->\n      <g transform=\"translate(12.515625 239.238438)scale(0.1 -0.1)\">\n       <defs>\n        <path d=\"M 2034 4250 \nQ 1547 4250 1301 3770 \nQ 1056 3291 1056 2328 \nQ 1056 1369 1301 889 \nQ 1547 409 2034 409 \nQ 2525 409 2770 889 \nQ 3016 1369 3016 2328 \nQ 3016 3291 2770 3770 \nQ 2525 4250 2034 4250 \nz\nM 2034 4750 \nQ 2819 4750 3233 4129 \nQ 3647 3509 3647 2328 \nQ 3647 1150 3233 529 \nQ 2819 -91 2034 -91 \nQ 1250 -91 836 529 \nQ 422 1150 422 2328 \nQ 422 3509 836 4129 \nQ 1250 4750 2034 4750 \nz\n\" id=\"DejaVuSans-30\" transform=\"scale(0.015625)\"/>\n        <path d=\"M 750 794 \nL 1409 794 \nL 1409 0 \nL 750 0 \nL 750 794 \nz\nM 750 3309 \nL 1409 3309 \nL 1409 2516 \nL 750 2516 \nL 750 3309 \nz\n\" id=\"DejaVuSans-3a\" transform=\"scale(0.015625)\"/>\n       </defs>\n       <use xlink:href=\"#DejaVuSans-30\"/>\n       <use x=\"63.623047\" xlink:href=\"#DejaVuSans-30\"/>\n       <use x=\"127.246094\" xlink:href=\"#DejaVuSans-3a\"/>\n       <use x=\"160.9375\" xlink:href=\"#DejaVuSans-30\"/>\n       <use x=\"224.560547\" xlink:href=\"#DejaVuSans-30\"/>\n      </g>\n      <!-- 05-May -->\n      <g transform=\"translate(8.421094 250.43625)scale(0.1 -0.1)\">\n       <defs>\n        <path d=\"M 691 4666 \nL 3169 4666 \nL 3169 4134 \nL 1269 4134 \nL 1269 2991 \nQ 1406 3038 1543 3061 \nQ 1681 3084 1819 3084 \nQ 2600 3084 3056 2656 \nQ 3513 2228 3513 1497 \nQ 3513 744 3044 326 \nQ 2575 -91 1722 -91 \nQ 1428 -91 1123 -41 \nQ 819 9 494 109 \nL 494 744 \nQ 775 591 1075 516 \nQ 1375 441 1709 441 \nQ 2250 441 2565 725 \nQ 2881 1009 2881 1497 \nQ 2881 1984 2565 2268 \nQ 2250 2553 1709 2553 \nQ 1456 2553 1204 2497 \nQ 953 2441 691 2322 \nL 691 4666 \nz\n\" id=\"DejaVuSans-35\" transform=\"scale(0.015625)\"/>\n        <path d=\"M 313 2009 \nL 1997 2009 \nL 1997 1497 \nL 313 1497 \nL 313 2009 \nz\n\" id=\"DejaVuSans-2d\" transform=\"scale(0.015625)\"/>\n        <path d=\"M 628 4666 \nL 1569 4666 \nL 2759 1491 \nL 3956 4666 \nL 4897 4666 \nL 4897 0 \nL 4281 0 \nL 4281 4097 \nL 3078 897 \nL 2444 897 \nL 1241 4097 \nL 1241 0 \nL 628 0 \nL 628 4666 \nz\n\" id=\"DejaVuSans-4d\" transform=\"scale(0.015625)\"/>\n        <path d=\"M 2194 1759 \nQ 1497 1759 1228 1600 \nQ 959 1441 959 1056 \nQ 959 750 1161 570 \nQ 1363 391 1709 391 \nQ 2188 391 2477 730 \nQ 2766 1069 2766 1631 \nL 2766 1759 \nL 2194 1759 \nz\nM 3341 1997 \nL 3341 0 \nL 2766 0 \nL 2766 531 \nQ 2569 213 2275 61 \nQ 1981 -91 1556 -91 \nQ 1019 -91 701 211 \nQ 384 513 384 1019 \nQ 384 1609 779 1909 \nQ 1175 2209 1959 2209 \nL 2766 2209 \nL 2766 2266 \nQ 2766 2663 2505 2880 \nQ 2244 3097 1772 3097 \nQ 1472 3097 1187 3025 \nQ 903 2953 641 2809 \nL 641 3341 \nQ 956 3463 1253 3523 \nQ 1550 3584 1831 3584 \nQ 2591 3584 2966 3190 \nQ 3341 2797 3341 1997 \nz\n\" id=\"DejaVuSans-61\" transform=\"scale(0.015625)\"/>\n        <path d=\"M 2059 -325 \nQ 1816 -950 1584 -1140 \nQ 1353 -1331 966 -1331 \nL 506 -1331 \nL 506 -850 \nL 844 -850 \nQ 1081 -850 1212 -737 \nQ 1344 -625 1503 -206 \nL 1606 56 \nL 191 3500 \nL 800 3500 \nL 1894 763 \nL 2988 3500 \nL 3597 3500 \nL 2059 -325 \nz\n\" id=\"DejaVuSans-79\" transform=\"scale(0.015625)\"/>\n       </defs>\n       <use xlink:href=\"#DejaVuSans-30\"/>\n       <use x=\"63.623047\" xlink:href=\"#DejaVuSans-35\"/>\n       <use x=\"127.246094\" xlink:href=\"#DejaVuSans-2d\"/>\n       <use x=\"163.330078\" xlink:href=\"#DejaVuSans-4d\"/>\n       <use x=\"249.609375\" xlink:href=\"#DejaVuSans-61\"/>\n       <use x=\"310.888672\" xlink:href=\"#DejaVuSans-79\"/>\n      </g>\n     </g>\n    </g>\n    <g id=\"xtick_2\">\n     <g id=\"line2d_2\">\n      <g>\n       <use style=\"stroke:#000000;stroke-width:0.8;\" x=\"319.114091\" xlink:href=\"#m42a6afcc3e\" y=\"224.64\"/>\n      </g>\n     </g>\n     <g id=\"text_2\">\n      <!-- 00:00 -->\n      <g transform=\"translate(304.704716 239.238438)scale(0.1 -0.1)\">\n       <use xlink:href=\"#DejaVuSans-30\"/>\n       <use x=\"63.623047\" xlink:href=\"#DejaVuSans-30\"/>\n       <use x=\"127.246094\" xlink:href=\"#DejaVuSans-3a\"/>\n       <use x=\"160.9375\" xlink:href=\"#DejaVuSans-30\"/>\n       <use x=\"224.560547\" xlink:href=\"#DejaVuSans-30\"/>\n      </g>\n      <!-- 06-May -->\n      <g transform=\"translate(300.610185 250.43625)scale(0.1 -0.1)\">\n       <defs>\n        <path d=\"M 2113 2584 \nQ 1688 2584 1439 2293 \nQ 1191 2003 1191 1497 \nQ 1191 994 1439 701 \nQ 1688 409 2113 409 \nQ 2538 409 2786 701 \nQ 3034 994 3034 1497 \nQ 3034 2003 2786 2293 \nQ 2538 2584 2113 2584 \nz\nM 3366 4563 \nL 3366 3988 \nQ 3128 4100 2886 4159 \nQ 2644 4219 2406 4219 \nQ 1781 4219 1451 3797 \nQ 1122 3375 1075 2522 \nQ 1259 2794 1537 2939 \nQ 1816 3084 2150 3084 \nQ 2853 3084 3261 2657 \nQ 3669 2231 3669 1497 \nQ 3669 778 3244 343 \nQ 2819 -91 2113 -91 \nQ 1303 -91 875 529 \nQ 447 1150 447 2328 \nQ 447 3434 972 4092 \nQ 1497 4750 2381 4750 \nQ 2619 4750 2861 4703 \nQ 3103 4656 3366 4563 \nz\n\" id=\"DejaVuSans-36\" transform=\"scale(0.015625)\"/>\n       </defs>\n       <use xlink:href=\"#DejaVuSans-30\"/>\n       <use x=\"63.623047\" xlink:href=\"#DejaVuSans-36\"/>\n       <use x=\"127.246094\" xlink:href=\"#DejaVuSans-2d\"/>\n       <use x=\"163.330078\" xlink:href=\"#DejaVuSans-4d\"/>\n       <use x=\"249.609375\" xlink:href=\"#DejaVuSans-61\"/>\n       <use x=\"310.888672\" xlink:href=\"#DejaVuSans-79\"/>\n      </g>\n     </g>\n    </g>\n    <g id=\"xtick_3\">\n     <g id=\"line2d_3\">\n      <g>\n       <use style=\"stroke:#000000;stroke-width:0.8;\" x=\"361.725\" xlink:href=\"#m42a6afcc3e\" y=\"224.64\"/>\n      </g>\n     </g>\n    </g>\n    <g id=\"xtick_4\">\n     <g id=\"line2d_4\">\n      <defs>\n       <path d=\"M 0 0 \nL 0 2 \n\" id=\"m34709c36dc\" style=\"stroke:#000000;stroke-width:0.6;\"/>\n      </defs>\n      <g>\n       <use style=\"stroke:#000000;stroke-width:0.6;\" x=\"63.448636\" xlink:href=\"#m34709c36dc\" y=\"224.64\"/>\n      </g>\n     </g>\n     <g id=\"text_3\">\n      <!-- 03:00 -->\n      <g transform=\"translate(49.039261 237.638438)scale(0.1 -0.1)\">\n       <defs>\n        <path d=\"M 2597 2516 \nQ 3050 2419 3304 2112 \nQ 3559 1806 3559 1356 \nQ 3559 666 3084 287 \nQ 2609 -91 1734 -91 \nQ 1441 -91 1130 -33 \nQ 819 25 488 141 \nL 488 750 \nQ 750 597 1062 519 \nQ 1375 441 1716 441 \nQ 2309 441 2620 675 \nQ 2931 909 2931 1356 \nQ 2931 1769 2642 2001 \nQ 2353 2234 1838 2234 \nL 1294 2234 \nL 1294 2753 \nL 1863 2753 \nQ 2328 2753 2575 2939 \nQ 2822 3125 2822 3475 \nQ 2822 3834 2567 4026 \nQ 2313 4219 1838 4219 \nQ 1578 4219 1281 4162 \nQ 984 4106 628 3988 \nL 628 4550 \nQ 988 4650 1302 4700 \nQ 1616 4750 1894 4750 \nQ 2613 4750 3031 4423 \nQ 3450 4097 3450 3541 \nQ 3450 3153 3228 2886 \nQ 3006 2619 2597 2516 \nz\n\" id=\"DejaVuSans-33\" transform=\"scale(0.015625)\"/>\n       </defs>\n       <use xlink:href=\"#DejaVuSans-30\"/>\n       <use x=\"63.623047\" xlink:href=\"#DejaVuSans-33\"/>\n       <use x=\"127.246094\" xlink:href=\"#DejaVuSans-3a\"/>\n       <use x=\"160.9375\" xlink:href=\"#DejaVuSans-30\"/>\n       <use x=\"224.560547\" xlink:href=\"#DejaVuSans-30\"/>\n      </g>\n     </g>\n    </g>\n    <g id=\"xtick_5\">\n     <g id=\"line2d_5\">\n      <g>\n       <use style=\"stroke:#000000;stroke-width:0.6;\" x=\"99.972273\" xlink:href=\"#m34709c36dc\" y=\"224.64\"/>\n      </g>\n     </g>\n     <g id=\"text_4\">\n      <!-- 06:00 -->\n      <g transform=\"translate(85.562898 237.638438)scale(0.1 -0.1)\">\n       <use xlink:href=\"#DejaVuSans-30\"/>\n       <use x=\"63.623047\" xlink:href=\"#DejaVuSans-36\"/>\n       <use x=\"127.246094\" xlink:href=\"#DejaVuSans-3a\"/>\n       <use x=\"160.9375\" xlink:href=\"#DejaVuSans-30\"/>\n       <use x=\"224.560547\" xlink:href=\"#DejaVuSans-30\"/>\n      </g>\n     </g>\n    </g>\n    <g id=\"xtick_6\">\n     <g id=\"line2d_6\">\n      <g>\n       <use style=\"stroke:#000000;stroke-width:0.6;\" x=\"136.495909\" xlink:href=\"#m34709c36dc\" y=\"224.64\"/>\n      </g>\n     </g>\n     <g id=\"text_5\">\n      <!-- 09:00 -->\n      <g transform=\"translate(122.086534 237.638438)scale(0.1 -0.1)\">\n       <defs>\n        <path d=\"M 703 97 \nL 703 672 \nQ 941 559 1184 500 \nQ 1428 441 1663 441 \nQ 2288 441 2617 861 \nQ 2947 1281 2994 2138 \nQ 2813 1869 2534 1725 \nQ 2256 1581 1919 1581 \nQ 1219 1581 811 2004 \nQ 403 2428 403 3163 \nQ 403 3881 828 4315 \nQ 1253 4750 1959 4750 \nQ 2769 4750 3195 4129 \nQ 3622 3509 3622 2328 \nQ 3622 1225 3098 567 \nQ 2575 -91 1691 -91 \nQ 1453 -91 1209 -44 \nQ 966 3 703 97 \nz\nM 1959 2075 \nQ 2384 2075 2632 2365 \nQ 2881 2656 2881 3163 \nQ 2881 3666 2632 3958 \nQ 2384 4250 1959 4250 \nQ 1534 4250 1286 3958 \nQ 1038 3666 1038 3163 \nQ 1038 2656 1286 2365 \nQ 1534 2075 1959 2075 \nz\n\" id=\"DejaVuSans-39\" transform=\"scale(0.015625)\"/>\n       </defs>\n       <use xlink:href=\"#DejaVuSans-30\"/>\n       <use x=\"63.623047\" xlink:href=\"#DejaVuSans-39\"/>\n       <use x=\"127.246094\" xlink:href=\"#DejaVuSans-3a\"/>\n       <use x=\"160.9375\" xlink:href=\"#DejaVuSans-30\"/>\n       <use x=\"224.560547\" xlink:href=\"#DejaVuSans-30\"/>\n      </g>\n     </g>\n    </g>\n    <g id=\"xtick_7\">\n     <g id=\"line2d_7\">\n      <g>\n       <use style=\"stroke:#000000;stroke-width:0.6;\" x=\"173.019545\" xlink:href=\"#m34709c36dc\" y=\"224.64\"/>\n      </g>\n     </g>\n     <g id=\"text_6\">\n      <!-- 12:00 -->\n      <g transform=\"translate(158.61017 237.638438)scale(0.1 -0.1)\">\n       <defs>\n        <path d=\"M 794 531 \nL 1825 531 \nL 1825 4091 \nL 703 3866 \nL 703 4441 \nL 1819 4666 \nL 2450 4666 \nL 2450 531 \nL 3481 531 \nL 3481 0 \nL 794 0 \nL 794 531 \nz\n\" id=\"DejaVuSans-31\" transform=\"scale(0.015625)\"/>\n        <path d=\"M 1228 531 \nL 3431 531 \nL 3431 0 \nL 469 0 \nL 469 531 \nQ 828 903 1448 1529 \nQ 2069 2156 2228 2338 \nQ 2531 2678 2651 2914 \nQ 2772 3150 2772 3378 \nQ 2772 3750 2511 3984 \nQ 2250 4219 1831 4219 \nQ 1534 4219 1204 4116 \nQ 875 4013 500 3803 \nL 500 4441 \nQ 881 4594 1212 4672 \nQ 1544 4750 1819 4750 \nQ 2544 4750 2975 4387 \nQ 3406 4025 3406 3419 \nQ 3406 3131 3298 2873 \nQ 3191 2616 2906 2266 \nQ 2828 2175 2409 1742 \nQ 1991 1309 1228 531 \nz\n\" id=\"DejaVuSans-32\" transform=\"scale(0.015625)\"/>\n       </defs>\n       <use xlink:href=\"#DejaVuSans-31\"/>\n       <use x=\"63.623047\" xlink:href=\"#DejaVuSans-32\"/>\n       <use x=\"127.246094\" xlink:href=\"#DejaVuSans-3a\"/>\n       <use x=\"160.9375\" xlink:href=\"#DejaVuSans-30\"/>\n       <use x=\"224.560547\" xlink:href=\"#DejaVuSans-30\"/>\n      </g>\n     </g>\n    </g>\n    <g id=\"xtick_8\">\n     <g id=\"line2d_8\">\n      <g>\n       <use style=\"stroke:#000000;stroke-width:0.6;\" x=\"209.543182\" xlink:href=\"#m34709c36dc\" y=\"224.64\"/>\n      </g>\n     </g>\n     <g id=\"text_7\">\n      <!-- 15:00 -->\n      <g transform=\"translate(195.133807 237.638438)scale(0.1 -0.1)\">\n       <use xlink:href=\"#DejaVuSans-31\"/>\n       <use x=\"63.623047\" xlink:href=\"#DejaVuSans-35\"/>\n       <use x=\"127.246094\" xlink:href=\"#DejaVuSans-3a\"/>\n       <use x=\"160.9375\" xlink:href=\"#DejaVuSans-30\"/>\n       <use x=\"224.560547\" xlink:href=\"#DejaVuSans-30\"/>\n      </g>\n     </g>\n    </g>\n    <g id=\"xtick_9\">\n     <g id=\"line2d_9\">\n      <g>\n       <use style=\"stroke:#000000;stroke-width:0.6;\" x=\"246.066818\" xlink:href=\"#m34709c36dc\" y=\"224.64\"/>\n      </g>\n     </g>\n     <g id=\"text_8\">\n      <!-- 18:00 -->\n      <g transform=\"translate(231.657443 237.638438)scale(0.1 -0.1)\">\n       <defs>\n        <path d=\"M 2034 2216 \nQ 1584 2216 1326 1975 \nQ 1069 1734 1069 1313 \nQ 1069 891 1326 650 \nQ 1584 409 2034 409 \nQ 2484 409 2743 651 \nQ 3003 894 3003 1313 \nQ 3003 1734 2745 1975 \nQ 2488 2216 2034 2216 \nz\nM 1403 2484 \nQ 997 2584 770 2862 \nQ 544 3141 544 3541 \nQ 544 4100 942 4425 \nQ 1341 4750 2034 4750 \nQ 2731 4750 3128 4425 \nQ 3525 4100 3525 3541 \nQ 3525 3141 3298 2862 \nQ 3072 2584 2669 2484 \nQ 3125 2378 3379 2068 \nQ 3634 1759 3634 1313 \nQ 3634 634 3220 271 \nQ 2806 -91 2034 -91 \nQ 1263 -91 848 271 \nQ 434 634 434 1313 \nQ 434 1759 690 2068 \nQ 947 2378 1403 2484 \nz\nM 1172 3481 \nQ 1172 3119 1398 2916 \nQ 1625 2713 2034 2713 \nQ 2441 2713 2670 2916 \nQ 2900 3119 2900 3481 \nQ 2900 3844 2670 4047 \nQ 2441 4250 2034 4250 \nQ 1625 4250 1398 4047 \nQ 1172 3844 1172 3481 \nz\n\" id=\"DejaVuSans-38\" transform=\"scale(0.015625)\"/>\n       </defs>\n       <use xlink:href=\"#DejaVuSans-31\"/>\n       <use x=\"63.623047\" xlink:href=\"#DejaVuSans-38\"/>\n       <use x=\"127.246094\" xlink:href=\"#DejaVuSans-3a\"/>\n       <use x=\"160.9375\" xlink:href=\"#DejaVuSans-30\"/>\n       <use x=\"224.560547\" xlink:href=\"#DejaVuSans-30\"/>\n      </g>\n     </g>\n    </g>\n    <g id=\"xtick_10\">\n     <g id=\"line2d_10\">\n      <g>\n       <use style=\"stroke:#000000;stroke-width:0.6;\" x=\"282.590455\" xlink:href=\"#m34709c36dc\" y=\"224.64\"/>\n      </g>\n     </g>\n     <g id=\"text_9\">\n      <!-- 21:00 -->\n      <g transform=\"translate(268.18108 237.638438)scale(0.1 -0.1)\">\n       <use xlink:href=\"#DejaVuSans-32\"/>\n       <use x=\"63.623047\" xlink:href=\"#DejaVuSans-31\"/>\n       <use x=\"127.246094\" xlink:href=\"#DejaVuSans-3a\"/>\n       <use x=\"160.9375\" xlink:href=\"#DejaVuSans-30\"/>\n       <use x=\"224.560547\" xlink:href=\"#DejaVuSans-30\"/>\n      </g>\n     </g>\n    </g>\n    <g id=\"xtick_11\">\n     <g id=\"line2d_11\">\n      <g>\n       <use style=\"stroke:#000000;stroke-width:0.6;\" x=\"355.637727\" xlink:href=\"#m34709c36dc\" y=\"224.64\"/>\n      </g>\n     </g>\n     <g id=\"text_10\">\n      <!-- 03:00 -->\n      <g transform=\"translate(341.228352 237.638438)scale(0.1 -0.1)\">\n       <use xlink:href=\"#DejaVuSans-30\"/>\n       <use x=\"63.623047\" xlink:href=\"#DejaVuSans-33\"/>\n       <use x=\"127.246094\" xlink:href=\"#DejaVuSans-3a\"/>\n       <use x=\"160.9375\" xlink:href=\"#DejaVuSans-30\"/>\n       <use x=\"224.560547\" xlink:href=\"#DejaVuSans-30\"/>\n      </g>\n     </g>\n    </g>\n    <g id=\"text_11\">\n     <!-- date_time -->\n     <g transform=\"translate(169.253906 264.114375)scale(0.1 -0.1)\">\n      <defs>\n       <path d=\"M 2906 2969 \nL 2906 4863 \nL 3481 4863 \nL 3481 0 \nL 2906 0 \nL 2906 525 \nQ 2725 213 2448 61 \nQ 2172 -91 1784 -91 \nQ 1150 -91 751 415 \nQ 353 922 353 1747 \nQ 353 2572 751 3078 \nQ 1150 3584 1784 3584 \nQ 2172 3584 2448 3432 \nQ 2725 3281 2906 2969 \nz\nM 947 1747 \nQ 947 1113 1208 752 \nQ 1469 391 1925 391 \nQ 2381 391 2643 752 \nQ 2906 1113 2906 1747 \nQ 2906 2381 2643 2742 \nQ 2381 3103 1925 3103 \nQ 1469 3103 1208 2742 \nQ 947 2381 947 1747 \nz\n\" id=\"DejaVuSans-64\" transform=\"scale(0.015625)\"/>\n       <path d=\"M 1172 4494 \nL 1172 3500 \nL 2356 3500 \nL 2356 3053 \nL 1172 3053 \nL 1172 1153 \nQ 1172 725 1289 603 \nQ 1406 481 1766 481 \nL 2356 481 \nL 2356 0 \nL 1766 0 \nQ 1100 0 847 248 \nQ 594 497 594 1153 \nL 594 3053 \nL 172 3053 \nL 172 3500 \nL 594 3500 \nL 594 4494 \nL 1172 4494 \nz\n\" id=\"DejaVuSans-74\" transform=\"scale(0.015625)\"/>\n       <path d=\"M 3597 1894 \nL 3597 1613 \nL 953 1613 \nQ 991 1019 1311 708 \nQ 1631 397 2203 397 \nQ 2534 397 2845 478 \nQ 3156 559 3463 722 \nL 3463 178 \nQ 3153 47 2828 -22 \nQ 2503 -91 2169 -91 \nQ 1331 -91 842 396 \nQ 353 884 353 1716 \nQ 353 2575 817 3079 \nQ 1281 3584 2069 3584 \nQ 2775 3584 3186 3129 \nQ 3597 2675 3597 1894 \nz\nM 3022 2063 \nQ 3016 2534 2758 2815 \nQ 2500 3097 2075 3097 \nQ 1594 3097 1305 2825 \nQ 1016 2553 972 2059 \nL 3022 2063 \nz\n\" id=\"DejaVuSans-65\" transform=\"scale(0.015625)\"/>\n       <path d=\"M 3263 -1063 \nL 3263 -1509 \nL -63 -1509 \nL -63 -1063 \nL 3263 -1063 \nz\n\" id=\"DejaVuSans-5f\" transform=\"scale(0.015625)\"/>\n       <path d=\"M 603 3500 \nL 1178 3500 \nL 1178 0 \nL 603 0 \nL 603 3500 \nz\nM 603 4863 \nL 1178 4863 \nL 1178 4134 \nL 603 4134 \nL 603 4863 \nz\n\" id=\"DejaVuSans-69\" transform=\"scale(0.015625)\"/>\n       <path d=\"M 3328 2828 \nQ 3544 3216 3844 3400 \nQ 4144 3584 4550 3584 \nQ 5097 3584 5394 3201 \nQ 5691 2819 5691 2113 \nL 5691 0 \nL 5113 0 \nL 5113 2094 \nQ 5113 2597 4934 2840 \nQ 4756 3084 4391 3084 \nQ 3944 3084 3684 2787 \nQ 3425 2491 3425 1978 \nL 3425 0 \nL 2847 0 \nL 2847 2094 \nQ 2847 2600 2669 2842 \nQ 2491 3084 2119 3084 \nQ 1678 3084 1418 2786 \nQ 1159 2488 1159 1978 \nL 1159 0 \nL 581 0 \nL 581 3500 \nL 1159 3500 \nL 1159 2956 \nQ 1356 3278 1631 3431 \nQ 1906 3584 2284 3584 \nQ 2666 3584 2933 3390 \nQ 3200 3197 3328 2828 \nz\n\" id=\"DejaVuSans-6d\" transform=\"scale(0.015625)\"/>\n      </defs>\n      <use xlink:href=\"#DejaVuSans-64\"/>\n      <use x=\"63.476562\" xlink:href=\"#DejaVuSans-61\"/>\n      <use x=\"124.755859\" xlink:href=\"#DejaVuSans-74\"/>\n      <use x=\"163.964844\" xlink:href=\"#DejaVuSans-65\"/>\n      <use x=\"225.488281\" xlink:href=\"#DejaVuSans-5f\"/>\n      <use x=\"275.488281\" xlink:href=\"#DejaVuSans-74\"/>\n      <use x=\"314.697266\" xlink:href=\"#DejaVuSans-69\"/>\n      <use x=\"342.480469\" xlink:href=\"#DejaVuSans-6d\"/>\n      <use x=\"439.892578\" xlink:href=\"#DejaVuSans-65\"/>\n     </g>\n    </g>\n   </g>\n   <g id=\"matplotlib.axis_2\">\n    <g id=\"ytick_1\">\n     <g id=\"line2d_12\">\n      <defs>\n       <path d=\"M 0 0 \nL -3.5 0 \n\" id=\"m635b6bbb46\" style=\"stroke:#000000;stroke-width:0.8;\"/>\n      </defs>\n      <g>\n       <use style=\"stroke:#000000;stroke-width:0.8;\" x=\"26.925\" xlink:href=\"#m635b6bbb46\" y=\"214.255292\"/>\n      </g>\n     </g>\n     <g id=\"text_12\">\n      <!-- 0 -->\n      <g transform=\"translate(13.5625 218.054511)scale(0.1 -0.1)\">\n       <use xlink:href=\"#DejaVuSans-30\"/>\n      </g>\n     </g>\n    </g>\n    <g id=\"ytick_2\">\n     <g id=\"line2d_13\">\n      <g>\n       <use style=\"stroke:#000000;stroke-width:0.8;\" x=\"26.925\" xlink:href=\"#m635b6bbb46\" y=\"166.075335\"/>\n      </g>\n     </g>\n     <g id=\"text_13\">\n      <!-- 10 -->\n      <g transform=\"translate(7.2 169.874554)scale(0.1 -0.1)\">\n       <use xlink:href=\"#DejaVuSans-31\"/>\n       <use x=\"63.623047\" xlink:href=\"#DejaVuSans-30\"/>\n      </g>\n     </g>\n    </g>\n    <g id=\"ytick_3\">\n     <g id=\"line2d_14\">\n      <g>\n       <use style=\"stroke:#000000;stroke-width:0.8;\" x=\"26.925\" xlink:href=\"#m635b6bbb46\" y=\"117.895378\"/>\n      </g>\n     </g>\n     <g id=\"text_14\">\n      <!-- 20 -->\n      <g transform=\"translate(7.2 121.694597)scale(0.1 -0.1)\">\n       <use xlink:href=\"#DejaVuSans-32\"/>\n       <use x=\"63.623047\" xlink:href=\"#DejaVuSans-30\"/>\n      </g>\n     </g>\n    </g>\n    <g id=\"ytick_4\">\n     <g id=\"line2d_15\">\n      <g>\n       <use style=\"stroke:#000000;stroke-width:0.8;\" x=\"26.925\" xlink:href=\"#m635b6bbb46\" y=\"69.715421\"/>\n      </g>\n     </g>\n     <g id=\"text_15\">\n      <!-- 30 -->\n      <g transform=\"translate(7.2 73.51464)scale(0.1 -0.1)\">\n       <use xlink:href=\"#DejaVuSans-33\"/>\n       <use x=\"63.623047\" xlink:href=\"#DejaVuSans-30\"/>\n      </g>\n     </g>\n    </g>\n    <g id=\"ytick_5\">\n     <g id=\"line2d_16\">\n      <g>\n       <use style=\"stroke:#000000;stroke-width:0.8;\" x=\"26.925\" xlink:href=\"#m635b6bbb46\" y=\"21.535464\"/>\n      </g>\n     </g>\n     <g id=\"text_16\">\n      <!-- 40 -->\n      <g transform=\"translate(7.2 25.334683)scale(0.1 -0.1)\">\n       <defs>\n        <path d=\"M 2419 4116 \nL 825 1625 \nL 2419 1625 \nL 2419 4116 \nz\nM 2253 4666 \nL 3047 4666 \nL 3047 1625 \nL 3713 1625 \nL 3713 1100 \nL 3047 1100 \nL 3047 0 \nL 2419 0 \nL 2419 1100 \nL 313 1100 \nL 313 1709 \nL 2253 4666 \nz\n\" id=\"DejaVuSans-34\" transform=\"scale(0.015625)\"/>\n       </defs>\n       <use xlink:href=\"#DejaVuSans-34\"/>\n       <use x=\"63.623047\" xlink:href=\"#DejaVuSans-30\"/>\n      </g>\n     </g>\n    </g>\n   </g>\n   <g id=\"line2d_17\">\n    <path clip-path=\"url(#pa0e07208cc)\" d=\"M 26.925 175.598585 \nL 28.954091 176.169518 \nL 30.983182 175.85153 \nL 35.041364 174.844087 \nL 39.099545 172.162873 \nL 41.128636 167.507725 \nL 43.157727 164.463716 \nL 45.186818 163.956381 \nL 47.215909 163.569496 \nL 49.245 165.291447 \nL 51.274091 166.253601 \nL 53.303182 165.480794 \nL 55.332273 167.387275 \nL 57.361364 165.551619 \nL 59.390455 165.759756 \nL 61.419545 166.71372 \nL 63.448636 168.326785 \nL 65.477727 168.537331 \nL 67.506818 168.454943 \nL 69.535909 169.142471 \nL 71.565 170.323362 \nL 73.594091 168.617791 \nL 75.623182 181.016422 \nL 77.652273 183.386875 \nL 79.681364 189.764938 \nL 83.739545 189.852626 \nL 85.768636 190.039082 \nL 89.826818 191.718154 \nL 122.292273 191.767297 \nL 128.379545 191.694545 \nL 132.437727 191.809214 \nL 134.466818 191.755734 \nL 136.495909 191.833786 \nL 138.525 191.788015 \nL 140.554091 191.89401 \nL 144.612273 191.754289 \nL 152.728636 191.801987 \nL 154.757727 192.002415 \nL 156.786818 192.050595 \nL 158.815909 192.395082 \nL 160.845 192.866282 \nL 162.874091 192.709697 \nL 164.903182 193.242567 \nL 166.932273 193.055629 \nL 170.990455 193.406379 \nL 173.019545 193.29412 \nL 175.048636 192.351238 \nL 177.077727 192.738605 \nL 179.106818 192.614783 \nL 181.135909 193.017085 \nL 183.165 192.910608 \nL 185.194091 192.187426 \nL 187.223182 192.270296 \nL 189.252273 193.222814 \nL 191.281364 193.067674 \nL 193.310455 192.161409 \nL 199.397727 191.755734 \nL 207.514091 191.744653 \nL 211.572273 191.839567 \nL 225.775909 191.850167 \nL 227.805 191.645884 \nL 237.950455 191.654556 \nL 242.008636 191.700809 \nL 252.154091 191.649738 \nL 256.212273 191.677682 \nL 258.241364 191.839085 \nL 284.619545 191.739835 \nL 290.706818 191.423774 \nL 292.735909 191.651665 \nL 294.765 191.384748 \nL 296.794091 191.487372 \nL 298.823182 191.082178 \nL 300.852273 191.370776 \nL 304.910455 191.104341 \nL 306.939545 191.362586 \nL 308.968636 191.496044 \nL 310.997727 190.671685 \nL 313.026818 191.394866 \nL 319.114091 191.349577 \nL 321.143182 191.368849 \nL 323.172273 191.132285 \nL 327.230455 191.364031 \nL 331.288636 191.335605 \nL 335.346818 191.349577 \nL 343.463182 191.563496 \nL 347.521364 192.356056 \nL 349.550455 191.935927 \nL 355.637727 192.878327 \nL 357.666818 192.947706 \nL 359.695909 192.311249 \nL 361.725 192.876882 \nL 361.725 192.876882 \n\" style=\"fill:none;stroke:#1f77b4;stroke-linecap:square;stroke-width:1.5;\"/>\n   </g>\n   <g id=\"line2d_18\">\n    <path clip-path=\"url(#pa0e07208cc)\" d=\"M 26.925 214.390196 \nL 37.070455 214.457648 \nL 41.128636 214.684094 \nL 47.215909 214.756364 \nL 63.448636 214.664822 \nL 71.565 214.616642 \nL 73.594091 214.664822 \nL 75.623182 214.414286 \nL 77.652273 213.980666 \nL 79.681364 122.486928 \nL 81.710455 106.871804 \nL 83.739545 109.940867 \nL 85.768636 106.370733 \nL 87.797727 99.278643 \nL 89.826818 37.473394 \nL 91.855909 40.817083 \nL 93.885 38.904339 \nL 95.914091 46.430048 \nL 97.943182 21.718548 \nL 99.972273 21.198205 \nL 102.001364 21.83418 \nL 106.059545 20.991031 \nL 108.088636 21.559554 \nL 110.117727 20.17679 \nL 112.146818 20.355055 \nL 114.175909 21.289747 \nL 116.205 20.12861 \nL 118.234091 21.718548 \nL 122.292273 21.47283 \nL 124.321364 21.742638 \nL 126.350455 20.061158 \nL 128.379545 22.287072 \nL 130.408636 20.12861 \nL 132.437727 22.335252 \nL 134.466818 21.400561 \nL 136.495909 22.855595 \nL 138.525 19.878074 \nL 140.554091 21.400561 \nL 142.583182 22.446066 \nL 144.612273 22.017264 \nL 146.641364 22.24371 \nL 148.670455 20.991031 \nL 150.699545 21.039211 \nL 152.728636 22.311162 \nL 154.757727 21.039211 \nL 156.786818 20.287603 \nL 158.815909 19.945526 \nL 160.845 21.015121 \nL 162.874091 20.653771 \nL 164.903182 23.062769 \nL 166.932273 20.538139 \nL 168.961364 20.586319 \nL 170.990455 21.901632 \nL 173.019545 21.81009 \nL 175.048636 20.10452 \nL 177.077727 21.631824 \nL 179.106818 21.766728 \nL 181.135909 21.742638 \nL 183.165 22.19553 \nL 185.194091 21.015121 \nL 187.223182 19.266188 \nL 189.252273 20.629681 \nL 191.281364 19.878074 \nL 193.310455 21.357199 \nL 195.339545 19.878074 \nL 197.368636 22.21962 \nL 199.397727 21.241567 \nL 201.426818 22.084716 \nL 203.455909 23.583113 \nL 207.514091 21.925722 \nL 209.543182 20.1527 \nL 211.572273 23.130221 \nL 213.601364 19.560086 \nL 215.630455 20.1527 \nL 217.659545 17.083636 \nL 219.688636 21.44874 \nL 221.717727 22.629149 \nL 223.746818 23.062769 \nL 225.775909 24.35881 \nL 227.805 20.697133 \nL 229.834091 21.265657 \nL 231.863182 23.833648 \nL 233.892273 20.971759 \nL 235.921364 22.561697 \nL 237.950455 21.675186 \nL 239.979545 22.335252 \nL 242.008636 23.809558 \nL 244.037727 19.174646 \nL 246.066818 24.517804 \nL 248.095909 20.335783 \nL 250.125 23.857738 \nL 252.154091 22.879685 \nL 254.183182 23.563841 \nL 256.212273 30.039227 \nL 258.241364 21.607734 \nL 262.299545 24.787611 \nL 264.328636 23.245853 \nL 266.357727 22.836323 \nL 270.415909 23.742106 \nL 272.445 20.586319 \nL 274.474091 22.971227 \nL 276.503182 24.450352 \nL 278.532273 21.47283 \nL 280.561364 25.606671 \nL 282.590455 24.108274 \nL 284.619545 19.993706 \nL 286.648636 24.835791 \nL 288.677727 29.379161 \nL 290.706818 23.92519 \nL 292.735909 21.130753 \nL 294.765 24.33472 \nL 296.794091 22.561697 \nL 298.823182 18.880749 \nL 300.852273 25.905386 \nL 302.881364 21.969084 \nL 304.910455 20.017796 \nL 306.939545 20.788675 \nL 308.968636 22.017264 \nL 310.997727 23.833648 \nL 313.026818 22.084716 \nL 315.055909 23.106131 \nL 317.085 21.082573 \nL 319.114091 23.062769 \nL 321.143182 19.926254 \nL 323.172273 18.061689 \nL 325.201364 21.925722 \nL 327.230455 19.425182 \nL 329.259545 21.516192 \nL 331.288636 20.832037 \nL 333.317727 19.810622 \nL 335.346818 19.834712 \nL 337.375909 21.675186 \nL 339.405 21.47283 \nL 343.463182 23.424119 \nL 345.492273 17.878606 \nL 347.521364 23.265125 \nL 349.550455 21.42465 \nL 351.579545 21.198205 \nL 353.608636 20.196062 \nL 355.637727 25.086327 \nL 357.666818 22.017264 \nL 359.695909 23.313305 \nL 361.725 24.768339 \nL 361.725 24.768339 \n\" style=\"fill:none;stroke:#ff7f0e;stroke-linecap:square;stroke-width:1.5;\"/>\n   </g>\n   <g id=\"patch_3\">\n    <path d=\"M 26.925 224.64 \nL 26.925 7.2 \n\" style=\"fill:none;stroke:#000000;stroke-linecap:square;stroke-linejoin:miter;stroke-width:0.8;\"/>\n   </g>\n   <g id=\"patch_4\">\n    <path d=\"M 361.725 224.64 \nL 361.725 7.2 \n\" style=\"fill:none;stroke:#000000;stroke-linecap:square;stroke-linejoin:miter;stroke-width:0.8;\"/>\n   </g>\n   <g id=\"patch_5\">\n    <path d=\"M 26.925 224.64 \nL 361.725 224.64 \n\" style=\"fill:none;stroke:#000000;stroke-linecap:square;stroke-linejoin:miter;stroke-width:0.8;\"/>\n   </g>\n   <g id=\"patch_6\">\n    <path d=\"M 26.925 7.2 \nL 361.725 7.2 \n\" style=\"fill:none;stroke:#000000;stroke-linecap:square;stroke-linejoin:miter;stroke-width:0.8;\"/>\n   </g>\n   <g id=\"legend_1\">\n    <g id=\"patch_7\">\n     <path d=\"M 259.873438 132.098125 \nL 354.725 132.098125 \nQ 356.725 132.098125 356.725 130.098125 \nL 356.725 101.741875 \nQ 356.725 99.741875 354.725 99.741875 \nL 259.873438 99.741875 \nQ 257.873438 99.741875 257.873438 101.741875 \nL 257.873438 130.098125 \nQ 257.873438 132.098125 259.873438 132.098125 \nz\n\" style=\"fill:#ffffff;opacity:0.8;stroke:#cccccc;stroke-linejoin:miter;\"/>\n    </g>\n    <g id=\"line2d_19\">\n     <path d=\"M 261.873438 107.840313 \nL 281.873438 107.840313 \n\" style=\"fill:none;stroke:#1f77b4;stroke-linecap:square;stroke-width:1.5;\"/>\n    </g>\n    <g id=\"line2d_20\"/>\n    <g id=\"text_17\">\n     <!-- temperature -->\n     <g transform=\"translate(289.873438 111.340313)scale(0.1 -0.1)\">\n      <defs>\n       <path d=\"M 1159 525 \nL 1159 -1331 \nL 581 -1331 \nL 581 3500 \nL 1159 3500 \nL 1159 2969 \nQ 1341 3281 1617 3432 \nQ 1894 3584 2278 3584 \nQ 2916 3584 3314 3078 \nQ 3713 2572 3713 1747 \nQ 3713 922 3314 415 \nQ 2916 -91 2278 -91 \nQ 1894 -91 1617 61 \nQ 1341 213 1159 525 \nz\nM 3116 1747 \nQ 3116 2381 2855 2742 \nQ 2594 3103 2138 3103 \nQ 1681 3103 1420 2742 \nQ 1159 2381 1159 1747 \nQ 1159 1113 1420 752 \nQ 1681 391 2138 391 \nQ 2594 391 2855 752 \nQ 3116 1113 3116 1747 \nz\n\" id=\"DejaVuSans-70\" transform=\"scale(0.015625)\"/>\n       <path d=\"M 2631 2963 \nQ 2534 3019 2420 3045 \nQ 2306 3072 2169 3072 \nQ 1681 3072 1420 2755 \nQ 1159 2438 1159 1844 \nL 1159 0 \nL 581 0 \nL 581 3500 \nL 1159 3500 \nL 1159 2956 \nQ 1341 3275 1631 3429 \nQ 1922 3584 2338 3584 \nQ 2397 3584 2469 3576 \nQ 2541 3569 2628 3553 \nL 2631 2963 \nz\n\" id=\"DejaVuSans-72\" transform=\"scale(0.015625)\"/>\n       <path d=\"M 544 1381 \nL 544 3500 \nL 1119 3500 \nL 1119 1403 \nQ 1119 906 1312 657 \nQ 1506 409 1894 409 \nQ 2359 409 2629 706 \nQ 2900 1003 2900 1516 \nL 2900 3500 \nL 3475 3500 \nL 3475 0 \nL 2900 0 \nL 2900 538 \nQ 2691 219 2414 64 \nQ 2138 -91 1772 -91 \nQ 1169 -91 856 284 \nQ 544 659 544 1381 \nz\nM 1991 3584 \nL 1991 3584 \nz\n\" id=\"DejaVuSans-75\" transform=\"scale(0.015625)\"/>\n      </defs>\n      <use xlink:href=\"#DejaVuSans-74\"/>\n      <use x=\"39.208984\" xlink:href=\"#DejaVuSans-65\"/>\n      <use x=\"100.732422\" xlink:href=\"#DejaVuSans-6d\"/>\n      <use x=\"198.144531\" xlink:href=\"#DejaVuSans-70\"/>\n      <use x=\"261.621094\" xlink:href=\"#DejaVuSans-65\"/>\n      <use x=\"323.144531\" xlink:href=\"#DejaVuSans-72\"/>\n      <use x=\"364.257812\" xlink:href=\"#DejaVuSans-61\"/>\n      <use x=\"425.537109\" xlink:href=\"#DejaVuSans-74\"/>\n      <use x=\"464.746094\" xlink:href=\"#DejaVuSans-75\"/>\n      <use x=\"528.125\" xlink:href=\"#DejaVuSans-72\"/>\n      <use x=\"566.988281\" xlink:href=\"#DejaVuSans-65\"/>\n     </g>\n    </g>\n    <g id=\"line2d_21\">\n     <path d=\"M 261.873438 122.518438 \nL 281.873438 122.518438 \n\" style=\"fill:none;stroke:#ff7f0e;stroke-linecap:square;stroke-width:1.5;\"/>\n    </g>\n    <g id=\"line2d_22\"/>\n    <g id=\"text_18\">\n     <!-- pressure -->\n     <g transform=\"translate(289.873438 126.018438)scale(0.1 -0.1)\">\n      <defs>\n       <path d=\"M 2834 3397 \nL 2834 2853 \nQ 2591 2978 2328 3040 \nQ 2066 3103 1784 3103 \nQ 1356 3103 1142 2972 \nQ 928 2841 928 2578 \nQ 928 2378 1081 2264 \nQ 1234 2150 1697 2047 \nL 1894 2003 \nQ 2506 1872 2764 1633 \nQ 3022 1394 3022 966 \nQ 3022 478 2636 193 \nQ 2250 -91 1575 -91 \nQ 1294 -91 989 -36 \nQ 684 19 347 128 \nL 347 722 \nQ 666 556 975 473 \nQ 1284 391 1588 391 \nQ 1994 391 2212 530 \nQ 2431 669 2431 922 \nQ 2431 1156 2273 1281 \nQ 2116 1406 1581 1522 \nL 1381 1569 \nQ 847 1681 609 1914 \nQ 372 2147 372 2553 \nQ 372 3047 722 3315 \nQ 1072 3584 1716 3584 \nQ 2034 3584 2315 3537 \nQ 2597 3491 2834 3397 \nz\n\" id=\"DejaVuSans-73\" transform=\"scale(0.015625)\"/>\n      </defs>\n      <use xlink:href=\"#DejaVuSans-70\"/>\n      <use x=\"63.476562\" xlink:href=\"#DejaVuSans-72\"/>\n      <use x=\"102.339844\" xlink:href=\"#DejaVuSans-65\"/>\n      <use x=\"163.863281\" xlink:href=\"#DejaVuSans-73\"/>\n      <use x=\"215.962891\" xlink:href=\"#DejaVuSans-73\"/>\n      <use x=\"268.0625\" xlink:href=\"#DejaVuSans-75\"/>\n      <use x=\"331.441406\" xlink:href=\"#DejaVuSans-72\"/>\n      <use x=\"370.304688\" xlink:href=\"#DejaVuSans-65\"/>\n     </g>\n    </g>\n   </g>\n  </g>\n </g>\n <defs>\n  <clipPath id=\"pa0e07208cc\">\n   <rect height=\"217.44\" width=\"334.8\" x=\"26.925\" y=\"7.2\"/>\n  </clipPath>\n </defs>\n</svg>\n",
      "image/png": "[encoded data removed]"
     },
     "metadata": {
      "needs_background": "light"
     }
    }
   ],
   "source": [
    "sbe39_wop_data.plot()"
   ]
  },
  {
   "cell_type": "markdown",
   "id": "acknowledged-active",
   "metadata": {},
   "source": [
    "## Add Deployment meta information\n",
    "\n",
    "Two methods are available (if comming from python2 world - ordereddict was important... in py38 a dictionary is inherently ordered)"
   ]
  },
  {
   "cell_type": "code",
   "execution_count": 17,
   "id": "freelance-fairy",
   "metadata": {},
   "outputs": [],
   "source": [
    "#just a dictionary of dictionaries - simple\n",
    "with open(mooring_meta_file) as file:\n",
    "    mooring_config = yaml.full_load(file)"
   ]
  },
  {
   "cell_type": "code",
   "execution_count": 18,
   "id": "proper-ghana",
   "metadata": {},
   "outputs": [],
   "source": [
    "#Generates an ordereddict but prints better for summary\n",
    "#likely to be depricated as an ordered dict may not be useful and drops a dependency if its EOL\n",
    "mooring_config_v2 = load_config.load_config(mooring_meta_file)"
   ]
  },
  {
   "cell_type": "code",
   "execution_count": 19,
   "id": "israeli-begin",
   "metadata": {},
   "outputs": [
    {
     "output_type": "execute_result",
     "data": {
      "text/plain": [
       "{'InstType': 'SBE-39',\n",
       " 'SerialNo': '0992',\n",
       " 'DesignedDepth': 39.0,\n",
       " 'ActualDepth': 0.0,\n",
       " 'PreDeploymentNotes': 'w/P',\n",
       " 'PostDeploymentNotes': '',\n",
       " 'Deployed': 'y',\n",
       " 'Recovered': 'y'}"
      ]
     },
     "metadata": {},
     "execution_count": 19
    }
   ],
   "source": [
    "mooring_config['Instrumentation'][instrument]"
   ]
  },
  {
   "cell_type": "markdown",
   "id": "mysterious-cornwall",
   "metadata": {},
   "source": [
    "## Add Instrument meta information\n",
    "\n",
    "Time, depth, lat, lon should be added regardless (always our coordinates) but for a mooring site its going to be a (1,1,1,t) dataset\n",
    "The variables of interest should be read from the data file and matched to a key for naming.  That key is in the inst_config file seen below and should represent common conversion names in the raw data"
   ]
  },
  {
   "cell_type": "code",
   "execution_count": 20,
   "id": "checked-raise",
   "metadata": {
    "tags": []
   },
   "outputs": [
    {
     "output_type": "execute_result",
     "data": {
      "text/plain": [
       "{'time': {'epic_key': 'TIM_601',\n",
       "  'name': 'time',\n",
       "  'generic_name': 'time',\n",
       "  'standard_name': 'time',\n",
       "  'long_name': 'date and time since reference time',\n",
       "  'time_origin': '1900-01-01 00:00:00',\n",
       "  'units': 'days since 1900-01-01T00:00:00Z'},\n",
       " 'depth': {'epic_key': 'D_3',\n",
       "  'generic_name': 'depth',\n",
       "  'units': 'meter',\n",
       "  'long_name': 'depth below surface (meters)',\n",
       "  'standard_name': 'depth'},\n",
       " 'latitude': {'epic_key': 'LON_501',\n",
       "  'name': 'latitude',\n",
       "  'generic_name': 'latitude',\n",
       "  'units': 'degrees_north',\n",
       "  'long_name': 'latitude',\n",
       "  'standard_name': 'latitude'},\n",
       " 'longitude': {'epic_key': 'LAT_500',\n",
       "  'name': 'longitude',\n",
       "  'generic_name': 'longitude',\n",
       "  'units': 'degrees_east',\n",
       "  'long_name': 'longitude',\n",
       "  'standard_name': 'longitude'},\n",
       " 'timeseries_id': {'cf_role': 'timeseries_id',\n",
       "  'long_name': 'timeseries id',\n",
       "  'standard_name': ''},\n",
       " 'temperature': {'epic_key': 'T_20',\n",
       "  'generic_name': 'temp',\n",
       "  'long_name': 'Sea temperature in-situ ITS-90 scale',\n",
       "  'standard_name': 'sea_water_temperature',\n",
       "  'units': 'degree_C'},\n",
       " 'pressure': {'epic_key': 'P_1',\n",
       "  'generic_name': 'pres',\n",
       "  'units': 'decibar',\n",
       "  'long_name': 'Sea water pressure, equals 0 at sea-level',\n",
       "  'standard_name': 'sea_water_pressure_due_to_sea_water'}}"
      ]
     },
     "metadata": {},
     "execution_count": 20
    }
   ],
   "source": [
    "with open(inst_meta_file) as file:\n",
    "    inst_config = yaml.full_load(file)\n",
    "inst_config"
   ]
  },
  {
   "cell_type": "code",
   "execution_count": 21,
   "id": "varied-popularity",
   "metadata": {},
   "outputs": [
    {
     "output_type": "execute_result",
     "data": {
      "text/plain": [
       "<EcoFOCIpy.io.ncCFsave.EcoFOCI_CFnc at 0x158397520>"
      ]
     },
     "metadata": {},
     "execution_count": 21
    }
   ],
   "source": [
    "# Add meta data and prelim processing based on meta data\n",
    "# Convert to xarray and add meta information - save as CF netcdf file\n",
    "# pass -> data, instmeta, depmeta\n",
    "sbe39_wop_nc = ncCFsave.EcoFOCI_CFnc(df=sbe39_wop_data, \n",
    "                                instrument_yaml=inst_config, \n",
    "                                operation_yaml=mooring_config, \n",
    "                                operation_type='mooring',\n",
    "                                instrument_id=instrument, \n",
    "                                inst_shortname=inst_shortname)\n",
    "sbe39_wop_nc"
   ]
  },
  {
   "cell_type": "markdown",
   "id": "asian-chambers",
   "metadata": {},
   "source": [
    "At this point, you could save your file with the `.xarray2netcdf_save()` method and have a functioning dataset.... but it would be very simple with no additional qc, meta-data, or tuned parameters for optimizing software like ferret or erddap."
   ]
  },
  {
   "cell_type": "code",
   "execution_count": 22,
   "id": "practical-pennsylvania",
   "metadata": {},
   "outputs": [],
   "source": [
    "# expand the dimensions and coordinate variables\n",
    "# renames them appropriatley and prepares them for meta-filled values\n",
    "sbe39_wop_nc.expand_dimensions()"
   ]
  },
  {
   "cell_type": "code",
   "execution_count": 23,
   "id": "floral-operations",
   "metadata": {},
   "outputs": [],
   "source": [
    "sbe39_wop_nc.variable_meta_data(variable_keys=list(sbe39_wop_data.columns.values),drop_missing=True)\n",
    "sbe39_wop_nc.temporal_geospatioal_meta_data(depth='designed')\n",
    "#adding dimension meta needs to come after updating the dimension values... BUG?\n",
    "sbe39_wop_nc.dimension_meta_data(variable_keys=['depth','latitude','longitude'])"
   ]
  },
  {
   "cell_type": "markdown",
   "id": "seventh-product",
   "metadata": {},
   "source": [
    "The following steps can happen in just about any order and are all meta-data driven.  Therefore, they are not required to have a functioning dataset, but they are required to have a well described dataset"
   ]
  },
  {
   "cell_type": "code",
   "execution_count": 24,
   "id": "auburn-diversity",
   "metadata": {},
   "outputs": [],
   "source": [
    "#add global attributes\n",
    "sbe39_wop_nc.deployment_meta_add()\n",
    "sbe39_wop_nc.get_xdf()\n",
    "\n",
    "#add instituitonal global attributes\n",
    "sbe39_wop_nc.institution_meta_add()\n",
    "\n",
    "#add creation date/time - provenance data\n",
    "sbe39_wop_nc.provinance_meta_add()\n",
    "\n",
    "#provide intial qc status field\n",
    "sbe39_wop_nc.qc_status(qc_status='unknown')\n"
   ]
  },
  {
   "cell_type": "markdown",
   "id": "sustained-hughes",
   "metadata": {},
   "source": [
    "## Save CF Netcdf files\n",
    "\n",
    "Currently stick to netcdf3 classic... but migrating to netcdf4 (default) may be no problems for most modern purposes.  Its easy enough to pass the `format` kwargs through to the netcdf api of xarray."
   ]
  },
  {
   "cell_type": "code",
   "execution_count": 27,
   "id": "modular-volunteer",
   "metadata": {},
   "outputs": [],
   "source": [
    "# combine trim (not mandatory) and filename together (saves to test.nc without name)\n",
    "\n",
    "depth = str(int(mooring_config['Instrumentation'][instrument]['ActualDepth'])).zfill(4)\n",
    "# mooring_yaml['Instrumentation'][self.instrument_id]['DesignedDepth'])).zfill(4) #<-- alternative\n",
    "filename = \"\".join(mooring_config['MooringID'].split('-')).lower()+'_'+inst_shortname+'_'+depth+'m.nc'\n",
    "sbe39_wop_nc.xarray2netcdf_save(xdf = sbe39_wop_nc.autotrim_time(),\n",
    "                           filename=filename,format=\"NETCDF3_CLASSIC\")\n",
    "\n",
    "# don't trim the data and pass your own filename\n",
    "# sbe39_wop_nc.xarray2netcdf_save(xdf = sbe39_wop_nc.get_xdf(),\n",
    "#                            filename=filename,format=\"NETCDF4_CLASSIC\")"
   ]
  },
  {
   "cell_type": "code",
   "execution_count": 28,
   "id": "unlike-breathing",
   "metadata": {},
   "outputs": [
    {
     "output_type": "execute_result",
     "data": {
      "text/plain": [
       "<xarray.Dataset>\n",
       "Dimensions:      (depth: 1, latitude: 1, longitude: 1, time: 166)\n",
       "Coordinates:\n",
       "  * time         (time) datetime64[ns] 2016-05-05 ... 2016-05-06T03:30:00\n",
       "  * latitude     (latitude) float64 56.87\n",
       "  * longitude    (longitude) float64 -164.0\n",
       "  * depth        (depth) float64 39.0\n",
       "Data variables:\n",
       "    temperature  (time, depth, latitude, longitude) float64 8.023 ... 4.437\n",
       "    pressure     (time, depth, latitude, longitude) float64 -0.028 ... 39.33\n",
       "Attributes: (12/13)\n",
       "    Latitude-Deg_MM.dd_W:                   56 52.1729 N\n",
       "    Longitude-Deg_MM.dd_N:                  164 02.8716 W\n",
       "    MooringID:                              16BSM-2A\n",
       "    platform_deployment_date:               2016-05-05T05:51:00Z\n",
       "    platform_deployment_cruise_name:        DY1606\n",
       "    platform_recovery_date:                 2016-09-29T03:45:00Z\n",
       "    ...                                     ...\n",
       "    platform_deployment_recovery_comments:  Depth not listed - other two moor...\n",
       "    WaterDepth:                             71.0\n",
       "    date_created:                           2021-04-23T13:34:04Z\n",
       "    date_modified:                          \n",
       "    QC_indicator:                           unknown\n",
       "    history:                                Trimmed to deployment.\\nTrimmed t..."
      ],
      "text/html": "<div><svg style=\"position: absolute; width: 0; height: 0; overflow: hidden\">\n<defs>\n<symbol id=\"icon-database\" viewBox=\"0 0 32 32\">\n<path d=\"M16 0c-8.837 0-16 2.239-16 5v4c0 2.761 7.163 5 16 5s16-2.239 16-5v-4c0-2.761-7.163-5-16-5z\"></path>\n<path d=\"M16 17c-8.837 0-16-2.239-16-5v6c0 2.761 7.163 5 16 5s16-2.239 16-5v-6c0 2.761-7.163 5-16 5z\"></path>\n<path d=\"M16 26c-8.837 0-16-2.239-16-5v6c0 2.761 7.163 5 16 5s16-2.239 16-5v-6c0 2.761-7.163 5-16 5z\"></path>\n</symbol>\n<symbol id=\"icon-file-text2\" viewBox=\"0 0 32 32\">\n<path d=\"M28.681 7.159c-0.694-0.947-1.662-2.053-2.724-3.116s-2.169-2.030-3.116-2.724c-1.612-1.182-2.393-1.319-2.841-1.319h-15.5c-1.378 0-2.5 1.121-2.5 2.5v27c0 1.378 1.122 2.5 2.5 2.5h23c1.378 0 2.5-1.122 2.5-2.5v-19.5c0-0.448-0.137-1.23-1.319-2.841zM24.543 5.457c0.959 0.959 1.712 1.825 2.268 2.543h-4.811v-4.811c0.718 0.556 1.584 1.309 2.543 2.268zM28 29.5c0 0.271-0.229 0.5-0.5 0.5h-23c-0.271 0-0.5-0.229-0.5-0.5v-27c0-0.271 0.229-0.5 0.5-0.5 0 0 15.499-0 15.5 0v7c0 0.552 0.448 1 1 1h7v19.5z\"></path>\n<path d=\"M23 26h-14c-0.552 0-1-0.448-1-1s0.448-1 1-1h14c0.552 0 1 0.448 1 1s-0.448 1-1 1z\"></path>\n<path d=\"M23 22h-14c-0.552 0-1-0.448-1-1s0.448-1 1-1h14c0.552 0 1 0.448 1 1s-0.448 1-1 1z\"></path>\n<path d=\"M23 18h-14c-0.552 0-1-0.448-1-1s0.448-1 1-1h14c0.552 0 1 0.448 1 1s-0.448 1-1 1z\"></path>\n</symbol>\n</defs>\n</svg>\n<style>/* CSS stylesheet for displaying xarray objects in jupyterlab.\n *\n */\n\n:root {\n  --xr-font-color0: var(--jp-content-font-color0, rgba(0, 0, 0, 1));\n  --xr-font-color2: var(--jp-content-font-color2, rgba(0, 0, 0, 0.54));\n  --xr-font-color3: var(--jp-content-font-color3, rgba(0, 0, 0, 0.38));\n  --xr-border-color: var(--jp-border-color2, #e0e0e0);\n  --xr-disabled-color: var(--jp-layout-color3, #bdbdbd);\n  --xr-background-color: var(--jp-layout-color0, white);\n  --xr-background-color-row-even: var(--jp-layout-color1, white);\n  --xr-background-color-row-odd: var(--jp-layout-color2, #eeeeee);\n}\n\nhtml[theme=dark],\nbody.vscode-dark {\n  --xr-font-color0: rgba(255, 255, 255, 1);\n  --xr-font-color2: rgba(255, 255, 255, 0.54);\n  --xr-font-color3: rgba(255, 255, 255, 0.38);\n  --xr-border-color: #1F1F1F;\n  --xr-disabled-color: #515151;\n  --xr-background-color: #111111;\n  --xr-background-color-row-even: #111111;\n  --xr-background-color-row-odd: #313131;\n}\n\n.xr-wrap {\n  display: block;\n  min-width: 300px;\n  max-width: 700px;\n}\n\n.xr-text-repr-fallback {\n  /* fallback to plain text repr when CSS is not injected (untrusted notebook) */\n  display: none;\n}\n\n.xr-header {\n  padding-top: 6px;\n  padding-bottom: 6px;\n  margin-bottom: 4px;\n  border-bottom: solid 1px var(--xr-border-color);\n}\n\n.xr-header > div,\n.xr-header > ul {\n  display: inline;\n  margin-top: 0;\n  margin-bottom: 0;\n}\n\n.xr-obj-type,\n.xr-array-name {\n  margin-left: 2px;\n  margin-right: 10px;\n}\n\n.xr-obj-type {\n  color: var(--xr-font-color2);\n}\n\n.xr-sections {\n  padding-left: 0 !important;\n  display: grid;\n  grid-template-columns: 150px auto auto 1fr 20px 20px;\n}\n\n.xr-section-item {\n  display: contents;\n}\n\n.xr-section-item input {\n  display: none;\n}\n\n.xr-section-item input + label {\n  color: var(--xr-disabled-color);\n}\n\n.xr-section-item input:enabled + label {\n  cursor: pointer;\n  color: var(--xr-font-color2);\n}\n\n.xr-section-item input:enabled + label:hover {\n  color: var(--xr-font-color0);\n}\n\n.xr-section-summary {\n  grid-column: 1;\n  color: var(--xr-font-color2);\n  font-weight: 500;\n}\n\n.xr-section-summary > span {\n  display: inline-block;\n  padding-left: 0.5em;\n}\n\n.xr-section-summary-in:disabled + label {\n  color: var(--xr-font-color2);\n}\n\n.xr-section-summary-in + label:before {\n  display: inline-block;\n  content: '►';\n  font-size: 11px;\n  width: 15px;\n  text-align: center;\n}\n\n.xr-section-summary-in:disabled + label:before {\n  color: var(--xr-disabled-color);\n}\n\n.xr-section-summary-in:checked + label:before {\n  content: '▼';\n}\n\n.xr-section-summary-in:checked + label > span {\n  display: none;\n}\n\n.xr-section-summary,\n.xr-section-inline-details {\n  padding-top: 4px;\n  padding-bottom: 4px;\n}\n\n.xr-section-inline-details {\n  grid-column: 2 / -1;\n}\n\n.xr-section-details {\n  display: none;\n  grid-column: 1 / -1;\n  margin-bottom: 5px;\n}\n\n.xr-section-summary-in:checked ~ .xr-section-details {\n  display: contents;\n}\n\n.xr-array-wrap {\n  grid-column: 1 / -1;\n  display: grid;\n  grid-template-columns: 20px auto;\n}\n\n.xr-array-wrap > label {\n  grid-column: 1;\n  vertical-align: top;\n}\n\n.xr-preview {\n  color: var(--xr-font-color3);\n}\n\n.xr-array-preview,\n.xr-array-data {\n  padding: 0 5px !important;\n  grid-column: 2;\n}\n\n.xr-array-data,\n.xr-array-in:checked ~ .xr-array-preview {\n  display: none;\n}\n\n.xr-array-in:checked ~ .xr-array-data,\n.xr-array-preview {\n  display: inline-block;\n}\n\n.xr-dim-list {\n  display: inline-block !important;\n  list-style: none;\n  padding: 0 !important;\n  margin: 0;\n}\n\n.xr-dim-list li {\n  display: inline-block;\n  padding: 0;\n  margin: 0;\n}\n\n.xr-dim-list:before {\n  content: '(';\n}\n\n.xr-dim-list:after {\n  content: ')';\n}\n\n.xr-dim-list li:not(:last-child):after {\n  content: ',';\n  padding-right: 5px;\n}\n\n.xr-has-index {\n  font-weight: bold;\n}\n\n.xr-var-list,\n.xr-var-item {\n  display: contents;\n}\n\n.xr-var-item > div,\n.xr-var-item label,\n.xr-var-item > .xr-var-name span {\n  background-color: var(--xr-background-color-row-even);\n  margin-bottom: 0;\n}\n\n.xr-var-item > .xr-var-name:hover span {\n  padding-right: 5px;\n}\n\n.xr-var-list > li:nth-child(odd) > div,\n.xr-var-list > li:nth-child(odd) > label,\n.xr-var-list > li:nth-child(odd) > .xr-var-name span {\n  background-color: var(--xr-background-color-row-odd);\n}\n\n.xr-var-name {\n  grid-column: 1;\n}\n\n.xr-var-dims {\n  grid-column: 2;\n}\n\n.xr-var-dtype {\n  grid-column: 3;\n  text-align: right;\n  color: var(--xr-font-color2);\n}\n\n.xr-var-preview {\n  grid-column: 4;\n}\n\n.xr-var-name,\n.xr-var-dims,\n.xr-var-dtype,\n.xr-preview,\n.xr-attrs dt {\n  white-space: nowrap;\n  overflow: hidden;\n  text-overflow: ellipsis;\n  padding-right: 10px;\n}\n\n.xr-var-name:hover,\n.xr-var-dims:hover,\n.xr-var-dtype:hover,\n.xr-attrs dt:hover {\n  overflow: visible;\n  width: auto;\n  z-index: 1;\n}\n\n.xr-var-attrs,\n.xr-var-data {\n  display: none;\n  background-color: var(--xr-background-color) !important;\n  padding-bottom: 5px !important;\n}\n\n.xr-var-attrs-in:checked ~ .xr-var-attrs,\n.xr-var-data-in:checked ~ .xr-var-data {\n  display: block;\n}\n\n.xr-var-data > table {\n  float: right;\n}\n\n.xr-var-name span,\n.xr-var-data,\n.xr-attrs {\n  padding-left: 25px !important;\n}\n\n.xr-attrs,\n.xr-var-attrs,\n.xr-var-data {\n  grid-column: 1 / -1;\n}\n\ndl.xr-attrs {\n  padding: 0;\n  margin: 0;\n  display: grid;\n  grid-template-columns: 125px auto;\n}\n\n.xr-attrs dt,\n.xr-attrs dd {\n  padding: 0;\n  margin: 0;\n  float: left;\n  padding-right: 10px;\n  width: auto;\n}\n\n.xr-attrs dt {\n  font-weight: normal;\n  grid-column: 1;\n}\n\n.xr-attrs dt:hover span {\n  display: inline-block;\n  background: var(--xr-background-color);\n  padding-right: 10px;\n}\n\n.xr-attrs dd {\n  grid-column: 2;\n  white-space: pre-wrap;\n  word-break: break-all;\n}\n\n.xr-icon-database,\n.xr-icon-file-text2 {\n  display: inline-block;\n  vertical-align: middle;\n  width: 1em;\n  height: 1.5em !important;\n  stroke-width: 0;\n  stroke: currentColor;\n  fill: currentColor;\n}\n</style><pre class='xr-text-repr-fallback'>&lt;xarray.Dataset&gt;\nDimensions:      (depth: 1, latitude: 1, longitude: 1, time: 166)\nCoordinates:\n  * time         (time) datetime64[ns] 2016-05-05 ... 2016-05-06T03:30:00\n  * latitude     (latitude) float64 56.87\n  * longitude    (longitude) float64 -164.0\n  * depth        (depth) float64 39.0\nData variables:\n    temperature  (time, depth, latitude, longitude) float64 8.023 ... 4.437\n    pressure     (time, depth, latitude, longitude) float64 -0.028 ... 39.33\nAttributes: (12/13)\n    Latitude-Deg_MM.dd_W:                   56 52.1729 N\n    Longitude-Deg_MM.dd_N:                  164 02.8716 W\n    MooringID:                              16BSM-2A\n    platform_deployment_date:               2016-05-05T05:51:00Z\n    platform_deployment_cruise_name:        DY1606\n    platform_recovery_date:                 2016-09-29T03:45:00Z\n    ...                                     ...\n    platform_deployment_recovery_comments:  Depth not listed - other two moor...\n    WaterDepth:                             71.0\n    date_created:                           2021-04-23T13:34:04Z\n    date_modified:                          \n    QC_indicator:                           unknown\n    history:                                Trimmed to deployment.\\nTrimmed t...</pre><div class='xr-wrap' hidden><div class='xr-header'><div class='xr-obj-type'>xarray.Dataset</div></div><ul class='xr-sections'><li class='xr-section-item'><input id='section-ba22d212-da78-4bcc-b8ac-dddbb6d6e3fc' class='xr-section-summary-in' type='checkbox' disabled ><label for='section-ba22d212-da78-4bcc-b8ac-dddbb6d6e3fc' class='xr-section-summary'  title='Expand/collapse section'>Dimensions:</label><div class='xr-section-inline-details'><ul class='xr-dim-list'><li><span class='xr-has-index'>depth</span>: 1</li><li><span class='xr-has-index'>latitude</span>: 1</li><li><span class='xr-has-index'>longitude</span>: 1</li><li><span class='xr-has-index'>time</span>: 166</li></ul></div><div class='xr-section-details'></div></li><li class='xr-section-item'><input id='section-b6f690d9-eb4a-487c-b452-87865e59adb3' class='xr-section-summary-in' type='checkbox'  checked><label for='section-b6f690d9-eb4a-487c-b452-87865e59adb3' class='xr-section-summary' >Coordinates: <span>(4)</span></label><div class='xr-section-inline-details'></div><div class='xr-section-details'><ul class='xr-var-list'><li class='xr-var-item'><div class='xr-var-name'><span class='xr-has-index'>time</span></div><div class='xr-var-dims'>(time)</div><div class='xr-var-dtype'>datetime64[ns]</div><div class='xr-var-preview xr-preview'>2016-05-05 ... 2016-05-06T03:30:00</div><input id='attrs-5c7d0f4c-33c6-43c9-a82e-aaef2c590251' class='xr-var-attrs-in' type='checkbox' disabled><label for='attrs-5c7d0f4c-33c6-43c9-a82e-aaef2c590251' title='Show/Hide attributes'><svg class='icon xr-icon-file-text2'><use xlink:href='#icon-file-text2'></use></svg></label><input id='data-bc082892-fc6f-4d80-9dc3-9300e35512bf' class='xr-var-data-in' type='checkbox'><label for='data-bc082892-fc6f-4d80-9dc3-9300e35512bf' title='Show/Hide data repr'><svg class='icon xr-icon-database'><use xlink:href='#icon-database'></use></svg></label><div class='xr-var-attrs'><dl class='xr-attrs'></dl></div><div class='xr-var-data'><pre>array([&#x27;2016-05-05T00:00:00.000000000&#x27;, &#x27;2016-05-05T00:10:00.000000000&#x27;,\n       &#x27;2016-05-05T00:20:00.000000000&#x27;, &#x27;2016-05-05T00:30:00.000000000&#x27;,\n       &#x27;2016-05-05T00:40:00.000000000&#x27;, &#x27;2016-05-05T00:50:00.000000000&#x27;,\n       &#x27;2016-05-05T01:00:00.000000000&#x27;, &#x27;2016-05-05T01:10:00.000000000&#x27;,\n       &#x27;2016-05-05T01:20:00.000000000&#x27;, &#x27;2016-05-05T01:30:00.000000000&#x27;,\n       &#x27;2016-05-05T01:40:00.000000000&#x27;, &#x27;2016-05-05T01:50:00.000000000&#x27;,\n       &#x27;2016-05-05T02:00:00.000000000&#x27;, &#x27;2016-05-05T02:10:00.000000000&#x27;,\n       &#x27;2016-05-05T02:20:00.000000000&#x27;, &#x27;2016-05-05T02:30:00.000000000&#x27;,\n       &#x27;2016-05-05T02:40:00.000000000&#x27;, &#x27;2016-05-05T02:50:00.000000000&#x27;,\n       &#x27;2016-05-05T03:00:00.000000000&#x27;, &#x27;2016-05-05T03:10:00.000000000&#x27;,\n       &#x27;2016-05-05T03:20:00.000000000&#x27;, &#x27;2016-05-05T03:30:00.000000000&#x27;,\n       &#x27;2016-05-05T03:40:00.000000000&#x27;, &#x27;2016-05-05T03:50:00.000000000&#x27;,\n       &#x27;2016-05-05T04:00:00.000000000&#x27;, &#x27;2016-05-05T04:10:00.000000000&#x27;,\n       &#x27;2016-05-05T04:20:00.000000000&#x27;, &#x27;2016-05-05T04:30:00.000000000&#x27;,\n       &#x27;2016-05-05T04:40:00.000000000&#x27;, &#x27;2016-05-05T04:50:00.000000000&#x27;,\n       &#x27;2016-05-05T05:00:00.000000000&#x27;, &#x27;2016-05-05T05:10:00.000000000&#x27;,\n       &#x27;2016-05-05T05:20:00.000000000&#x27;, &#x27;2016-05-05T05:30:00.000000000&#x27;,\n       &#x27;2016-05-05T05:40:00.000000000&#x27;, &#x27;2016-05-05T05:50:00.000000000&#x27;,\n       &#x27;2016-05-05T06:00:00.000000000&#x27;, &#x27;2016-05-05T06:10:00.000000000&#x27;,\n       &#x27;2016-05-05T06:20:00.000000000&#x27;, &#x27;2016-05-05T06:30:00.000000000&#x27;,\n       &#x27;2016-05-05T06:40:00.000000000&#x27;, &#x27;2016-05-05T06:50:00.000000000&#x27;,\n       &#x27;2016-05-05T07:00:00.000000000&#x27;, &#x27;2016-05-05T07:10:00.000000000&#x27;,\n       &#x27;2016-05-05T07:20:00.000000000&#x27;, &#x27;2016-05-05T07:30:00.000000000&#x27;,\n       &#x27;2016-05-05T07:40:00.000000000&#x27;, &#x27;2016-05-05T07:50:00.000000000&#x27;,\n       &#x27;2016-05-05T08:00:00.000000000&#x27;, &#x27;2016-05-05T08:10:00.000000000&#x27;,\n       &#x27;2016-05-05T08:20:00.000000000&#x27;, &#x27;2016-05-05T08:30:00.000000000&#x27;,\n       &#x27;2016-05-05T08:40:00.000000000&#x27;, &#x27;2016-05-05T08:50:00.000000000&#x27;,\n       &#x27;2016-05-05T09:00:00.000000000&#x27;, &#x27;2016-05-05T09:10:00.000000000&#x27;,\n       &#x27;2016-05-05T09:20:00.000000000&#x27;, &#x27;2016-05-05T09:30:00.000000000&#x27;,\n       &#x27;2016-05-05T09:40:00.000000000&#x27;, &#x27;2016-05-05T09:50:00.000000000&#x27;,\n       &#x27;2016-05-05T10:00:00.000000000&#x27;, &#x27;2016-05-05T10:10:00.000000000&#x27;,\n       &#x27;2016-05-05T10:20:00.000000000&#x27;, &#x27;2016-05-05T10:30:00.000000000&#x27;,\n       &#x27;2016-05-05T10:40:00.000000000&#x27;, &#x27;2016-05-05T10:50:00.000000000&#x27;,\n       &#x27;2016-05-05T11:00:00.000000000&#x27;, &#x27;2016-05-05T11:10:00.000000000&#x27;,\n       &#x27;2016-05-05T11:20:00.000000000&#x27;, &#x27;2016-05-05T11:30:00.000000000&#x27;,\n       &#x27;2016-05-05T11:40:00.000000000&#x27;, &#x27;2016-05-05T11:50:00.000000000&#x27;,\n       &#x27;2016-05-05T12:00:00.000000000&#x27;, &#x27;2016-05-05T12:10:00.000000000&#x27;,\n       &#x27;2016-05-05T12:20:00.000000000&#x27;, &#x27;2016-05-05T12:30:00.000000000&#x27;,\n       &#x27;2016-05-05T12:40:00.000000000&#x27;, &#x27;2016-05-05T12:50:00.000000000&#x27;,\n       &#x27;2016-05-05T13:00:00.000000000&#x27;, &#x27;2016-05-05T13:10:00.000000000&#x27;,\n       &#x27;2016-05-05T13:20:00.000000000&#x27;, &#x27;2016-05-05T13:30:00.000000000&#x27;,\n       &#x27;2016-05-05T13:40:00.000000000&#x27;, &#x27;2016-05-05T13:50:00.000000000&#x27;,\n       &#x27;2016-05-05T14:00:00.000000000&#x27;, &#x27;2016-05-05T14:10:00.000000000&#x27;,\n       &#x27;2016-05-05T14:20:00.000000000&#x27;, &#x27;2016-05-05T14:30:00.000000000&#x27;,\n       &#x27;2016-05-05T14:40:00.000000000&#x27;, &#x27;2016-05-05T14:50:00.000000000&#x27;,\n       &#x27;2016-05-05T15:00:00.000000000&#x27;, &#x27;2016-05-05T15:10:00.000000000&#x27;,\n       &#x27;2016-05-05T15:20:00.000000000&#x27;, &#x27;2016-05-05T15:30:00.000000000&#x27;,\n       &#x27;2016-05-05T15:40:00.000000000&#x27;, &#x27;2016-05-05T15:50:00.000000000&#x27;,\n       &#x27;2016-05-05T16:00:00.000000000&#x27;, &#x27;2016-05-05T16:10:00.000000000&#x27;,\n       &#x27;2016-05-05T16:20:00.000000000&#x27;, &#x27;2016-05-05T16:30:00.000000000&#x27;,\n       &#x27;2016-05-05T16:40:00.000000000&#x27;, &#x27;2016-05-05T16:50:00.000000000&#x27;,\n       &#x27;2016-05-05T17:00:00.000000000&#x27;, &#x27;2016-05-05T17:10:00.000000000&#x27;,\n       &#x27;2016-05-05T17:20:00.000000000&#x27;, &#x27;2016-05-05T17:30:00.000000000&#x27;,\n       &#x27;2016-05-05T17:40:00.000000000&#x27;, &#x27;2016-05-05T17:50:00.000000000&#x27;,\n       &#x27;2016-05-05T18:00:00.000000000&#x27;, &#x27;2016-05-05T18:10:00.000000000&#x27;,\n       &#x27;2016-05-05T18:20:00.000000000&#x27;, &#x27;2016-05-05T18:30:00.000000000&#x27;,\n       &#x27;2016-05-05T18:40:00.000000000&#x27;, &#x27;2016-05-05T18:50:00.000000000&#x27;,\n       &#x27;2016-05-05T19:00:00.000000000&#x27;, &#x27;2016-05-05T19:10:00.000000000&#x27;,\n       &#x27;2016-05-05T19:20:00.000000000&#x27;, &#x27;2016-05-05T19:30:00.000000000&#x27;,\n       &#x27;2016-05-05T19:40:00.000000000&#x27;, &#x27;2016-05-05T19:50:00.000000000&#x27;,\n       &#x27;2016-05-05T20:00:00.000000000&#x27;, &#x27;2016-05-05T20:10:00.000000000&#x27;,\n       &#x27;2016-05-05T20:20:00.000000000&#x27;, &#x27;2016-05-05T20:30:00.000000000&#x27;,\n       &#x27;2016-05-05T20:40:00.000000000&#x27;, &#x27;2016-05-05T20:50:00.000000000&#x27;,\n       &#x27;2016-05-05T21:00:00.000000000&#x27;, &#x27;2016-05-05T21:10:00.000000000&#x27;,\n       &#x27;2016-05-05T21:20:00.000000000&#x27;, &#x27;2016-05-05T21:30:00.000000000&#x27;,\n       &#x27;2016-05-05T21:40:00.000000000&#x27;, &#x27;2016-05-05T21:50:00.000000000&#x27;,\n       &#x27;2016-05-05T22:00:00.000000000&#x27;, &#x27;2016-05-05T22:10:00.000000000&#x27;,\n       &#x27;2016-05-05T22:20:00.000000000&#x27;, &#x27;2016-05-05T22:30:00.000000000&#x27;,\n       &#x27;2016-05-05T22:40:00.000000000&#x27;, &#x27;2016-05-05T22:50:00.000000000&#x27;,\n       &#x27;2016-05-05T23:00:00.000000000&#x27;, &#x27;2016-05-05T23:10:00.000000000&#x27;,\n       &#x27;2016-05-05T23:20:00.000000000&#x27;, &#x27;2016-05-05T23:30:00.000000000&#x27;,\n       &#x27;2016-05-05T23:40:00.000000000&#x27;, &#x27;2016-05-05T23:50:00.000000000&#x27;,\n       &#x27;2016-05-06T00:00:00.000000000&#x27;, &#x27;2016-05-06T00:10:00.000000000&#x27;,\n       &#x27;2016-05-06T00:20:00.000000000&#x27;, &#x27;2016-05-06T00:30:00.000000000&#x27;,\n       &#x27;2016-05-06T00:40:00.000000000&#x27;, &#x27;2016-05-06T00:50:00.000000000&#x27;,\n       &#x27;2016-05-06T01:00:00.000000000&#x27;, &#x27;2016-05-06T01:10:00.000000000&#x27;,\n       &#x27;2016-05-06T01:20:00.000000000&#x27;, &#x27;2016-05-06T01:30:00.000000000&#x27;,\n       &#x27;2016-05-06T01:40:00.000000000&#x27;, &#x27;2016-05-06T01:50:00.000000000&#x27;,\n       &#x27;2016-05-06T02:00:00.000000000&#x27;, &#x27;2016-05-06T02:10:00.000000000&#x27;,\n       &#x27;2016-05-06T02:20:00.000000000&#x27;, &#x27;2016-05-06T02:30:00.000000000&#x27;,\n       &#x27;2016-05-06T02:40:00.000000000&#x27;, &#x27;2016-05-06T02:50:00.000000000&#x27;,\n       &#x27;2016-05-06T03:00:00.000000000&#x27;, &#x27;2016-05-06T03:10:00.000000000&#x27;,\n       &#x27;2016-05-06T03:20:00.000000000&#x27;, &#x27;2016-05-06T03:30:00.000000000&#x27;],\n      dtype=&#x27;datetime64[ns]&#x27;)</pre></div></li><li class='xr-var-item'><div class='xr-var-name'><span class='xr-has-index'>latitude</span></div><div class='xr-var-dims'>(latitude)</div><div class='xr-var-dtype'>float64</div><div class='xr-var-preview xr-preview'>56.87</div><input id='attrs-e9b8c1a1-000c-4452-8d4f-039b5036f237' class='xr-var-attrs-in' type='checkbox' ><label for='attrs-e9b8c1a1-000c-4452-8d4f-039b5036f237' title='Show/Hide attributes'><svg class='icon xr-icon-file-text2'><use xlink:href='#icon-file-text2'></use></svg></label><input id='data-a6c53be0-9d1a-4b06-a678-50e42ce970fa' class='xr-var-data-in' type='checkbox'><label for='data-a6c53be0-9d1a-4b06-a678-50e42ce970fa' title='Show/Hide data repr'><svg class='icon xr-icon-database'><use xlink:href='#icon-database'></use></svg></label><div class='xr-var-attrs'><dl class='xr-attrs'><dt><span>epic_key :</span></dt><dd>LON_501</dd><dt><span>name :</span></dt><dd>latitude</dd><dt><span>generic_name :</span></dt><dd>latitude</dd><dt><span>units :</span></dt><dd>degrees_north</dd><dt><span>long_name :</span></dt><dd>latitude</dd><dt><span>standard_name :</span></dt><dd>latitude</dd></dl></div><div class='xr-var-data'><pre>array([56.869548])</pre></div></li><li class='xr-var-item'><div class='xr-var-name'><span class='xr-has-index'>longitude</span></div><div class='xr-var-dims'>(longitude)</div><div class='xr-var-dtype'>float64</div><div class='xr-var-preview xr-preview'>-164.0</div><input id='attrs-b9edb1da-b0fa-4efa-bdb6-fd42b442b03a' class='xr-var-attrs-in' type='checkbox' ><label for='attrs-b9edb1da-b0fa-4efa-bdb6-fd42b442b03a' title='Show/Hide attributes'><svg class='icon xr-icon-file-text2'><use xlink:href='#icon-file-text2'></use></svg></label><input id='data-1b5a9f96-d458-4c0d-a2eb-54d3e086c828' class='xr-var-data-in' type='checkbox'><label for='data-1b5a9f96-d458-4c0d-a2eb-54d3e086c828' title='Show/Hide data repr'><svg class='icon xr-icon-database'><use xlink:href='#icon-database'></use></svg></label><div class='xr-var-attrs'><dl class='xr-attrs'><dt><span>epic_key :</span></dt><dd>LAT_500</dd><dt><span>name :</span></dt><dd>longitude</dd><dt><span>generic_name :</span></dt><dd>longitude</dd><dt><span>units :</span></dt><dd>degrees_east</dd><dt><span>long_name :</span></dt><dd>longitude</dd><dt><span>standard_name :</span></dt><dd>longitude</dd></dl></div><div class='xr-var-data'><pre>array([-164.04786])</pre></div></li><li class='xr-var-item'><div class='xr-var-name'><span class='xr-has-index'>depth</span></div><div class='xr-var-dims'>(depth)</div><div class='xr-var-dtype'>float64</div><div class='xr-var-preview xr-preview'>39.0</div><input id='attrs-3dbe5d36-0456-4d87-b0ed-c76a6f0b0fe7' class='xr-var-attrs-in' type='checkbox' ><label for='attrs-3dbe5d36-0456-4d87-b0ed-c76a6f0b0fe7' title='Show/Hide attributes'><svg class='icon xr-icon-file-text2'><use xlink:href='#icon-file-text2'></use></svg></label><input id='data-0422287c-abec-47ae-8080-596cb1584b67' class='xr-var-data-in' type='checkbox'><label for='data-0422287c-abec-47ae-8080-596cb1584b67' title='Show/Hide data repr'><svg class='icon xr-icon-database'><use xlink:href='#icon-database'></use></svg></label><div class='xr-var-attrs'><dl class='xr-attrs'><dt><span>epic_key :</span></dt><dd>D_3</dd><dt><span>generic_name :</span></dt><dd>depth</dd><dt><span>units :</span></dt><dd>meter</dd><dt><span>long_name :</span></dt><dd>depth below surface (meters)</dd><dt><span>standard_name :</span></dt><dd>depth</dd></dl></div><div class='xr-var-data'><pre>array([39.])</pre></div></li></ul></div></li><li class='xr-section-item'><input id='section-97a62c03-1614-486c-8dbe-2678aac2dc2c' class='xr-section-summary-in' type='checkbox'  checked><label for='section-97a62c03-1614-486c-8dbe-2678aac2dc2c' class='xr-section-summary' >Data variables: <span>(2)</span></label><div class='xr-section-inline-details'></div><div class='xr-section-details'><ul class='xr-var-list'><li class='xr-var-item'><div class='xr-var-name'><span>temperature</span></div><div class='xr-var-dims'>(time, depth, latitude, longitude)</div><div class='xr-var-dtype'>float64</div><div class='xr-var-preview xr-preview'>8.023 7.905 7.971 ... 4.555 4.437</div><input id='attrs-52f71e21-0a06-44cd-8dae-014d75fa7d5e' class='xr-var-attrs-in' type='checkbox' ><label for='attrs-52f71e21-0a06-44cd-8dae-014d75fa7d5e' title='Show/Hide attributes'><svg class='icon xr-icon-file-text2'><use xlink:href='#icon-file-text2'></use></svg></label><input id='data-61af7380-65e9-41bc-a9d0-2abac9f28962' class='xr-var-data-in' type='checkbox'><label for='data-61af7380-65e9-41bc-a9d0-2abac9f28962' title='Show/Hide data repr'><svg class='icon xr-icon-database'><use xlink:href='#icon-database'></use></svg></label><div class='xr-var-attrs'><dl class='xr-attrs'><dt><span>epic_key :</span></dt><dd>T_20</dd><dt><span>generic_name :</span></dt><dd>temp</dd><dt><span>long_name :</span></dt><dd>Sea temperature in-situ ITS-90 scale</dd><dt><span>standard_name :</span></dt><dd>sea_water_temperature</dd><dt><span>units :</span></dt><dd>degree_C</dd></dl></div><div class='xr-var-data'><pre>array([[[[ 8.0234]]],\n\n\n       [[[ 7.9049]]],\n\n\n       [[[ 7.9709]]],\n\n\n       [[[ 8.086 ]]],\n\n\n       [[[ 8.18  ]]],\n\n\n       [[[ 8.4526]]],\n\n\n       [[[ 8.7365]]],\n\n...\n\n       [[[ 4.6325]]],\n\n\n       [[[ 4.5646]]],\n\n\n       [[[ 4.4773]]],\n\n\n       [[[ 4.4369]]],\n\n\n       [[[ 4.4225]]],\n\n\n       [[[ 4.5546]]],\n\n\n       [[[ 4.4372]]]])</pre></div></li><li class='xr-var-item'><div class='xr-var-name'><span>pressure</span></div><div class='xr-var-dims'>(time, depth, latitude, longitude)</div><div class='xr-var-dtype'>float64</div><div class='xr-var-preview xr-preview'>-0.028 -0.028 ... 39.63 39.33</div><input id='attrs-e8ac42b2-f4ac-467b-ace1-389fad75c681' class='xr-var-attrs-in' type='checkbox' disabled><label for='attrs-e8ac42b2-f4ac-467b-ace1-389fad75c681' title='Show/Hide attributes'><svg class='icon xr-icon-file-text2'><use xlink:href='#icon-file-text2'></use></svg></label><input id='data-f5edd592-803c-4502-9795-c6352fdfb9e0' class='xr-var-data-in' type='checkbox'><label for='data-f5edd592-803c-4502-9795-c6352fdfb9e0' title='Show/Hide data repr'><svg class='icon xr-icon-database'><use xlink:href='#icon-database'></use></svg></label><div class='xr-var-attrs'><dl class='xr-attrs'></dl></div><div class='xr-var-data'><pre>array([[[[-2.8000e-02]]],\n\n\n       [[[-2.8000e-02]]],\n\n\n       [[[-2.8000e-02]]],\n\n\n       [[[-2.8000e-02]]],\n\n\n       [[[-3.3000e-02]]],\n\n\n       [[[-4.2000e-02]]],\n\n\n       [[[-7.1000e-02]]],\n\n...\n\n       [[[ 4.0023e+01]]],\n\n\n       [[[ 4.0070e+01]]],\n\n\n       [[[ 4.0278e+01]]],\n\n\n       [[[ 3.9263e+01]]],\n\n\n       [[[ 3.9900e+01]]],\n\n\n       [[[ 3.9631e+01]]],\n\n\n       [[[ 3.9329e+01]]]])</pre></div></li></ul></div></li><li class='xr-section-item'><input id='section-5d5cfd63-a131-4438-8693-ed5d9f5b1ca3' class='xr-section-summary-in' type='checkbox'  ><label for='section-5d5cfd63-a131-4438-8693-ed5d9f5b1ca3' class='xr-section-summary' >Attributes: <span>(13)</span></label><div class='xr-section-inline-details'></div><div class='xr-section-details'><dl class='xr-attrs'><dt><span>Latitude-Deg_MM.dd_W :</span></dt><dd>56 52.1729 N</dd><dt><span>Longitude-Deg_MM.dd_N :</span></dt><dd>164 02.8716 W</dd><dt><span>MooringID :</span></dt><dd>16BSM-2A</dd><dt><span>platform_deployment_date :</span></dt><dd>2016-05-05T05:51:00Z</dd><dt><span>platform_deployment_cruise_name :</span></dt><dd>DY1606</dd><dt><span>platform_recovery_date :</span></dt><dd>2016-09-29T03:45:00Z</dd><dt><span>platform_recovery_cruise_name :</span></dt><dd>AQ1601</dd><dt><span>platform_deployment_recovery_comments :</span></dt><dd>Depth not listed - other two moorings BSP-2A and ITAE are at 71m so figure 71m</dd><dt><span>WaterDepth :</span></dt><dd>71.0</dd><dt><span>date_created :</span></dt><dd>2021-04-23T13:34:04Z</dd><dt><span>date_modified :</span></dt><dd></dd><dt><span>QC_indicator :</span></dt><dd>unknown</dd><dt><span>history :</span></dt><dd>Trimmed to deployment.\nTrimmed to deployment.\nTrimmed to deployment.</dd></dl></div></li></ul></div></div>"
     },
     "metadata": {},
     "execution_count": 28
    }
   ],
   "source": [
    "sbe39_wop_nc.get_xdf()"
   ]
  },
  {
   "cell_type": "markdown",
   "id": "individual-nature",
   "metadata": {},
   "source": [
    "## Next Steps\n",
    "\n",
    "QC of data (plot parameters with other instruments)\n",
    "- be sure to updated the qc_status and the history"
   ]
  },
  {
   "cell_type": "code",
   "execution_count": null,
   "id": "insured-vulnerability",
   "metadata": {},
   "outputs": [],
   "source": []
  }
 ],
 "metadata": {
  "kernelspec": {
   "name": "python388jvsc74a57bd0ea8efced7f9f908505a4e28889b9d0ff7d52e9a5c03dfaa80d1d80124525970c",
   "display_name": "Python 3.8.8 64-bit ('py38': conda)"
  },
  "language_info": {
   "codemirror_mode": {
    "name": "ipython",
    "version": 3
   },
   "file_extension": ".py",
   "mimetype": "text/x-python",
   "name": "python",
   "nbconvert_exporter": "python",
   "pygments_lexer": "ipython3",
   "version": "3.8.8"
  }
 },
 "nbformat": 4,
 "nbformat_minor": 5
}
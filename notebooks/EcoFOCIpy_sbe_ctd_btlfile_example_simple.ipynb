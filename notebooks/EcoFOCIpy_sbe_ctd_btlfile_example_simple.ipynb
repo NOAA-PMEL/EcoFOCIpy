{
 "cells": [
  {
   "cell_type": "markdown",
   "id": "educational-chosen",
   "metadata": {},
   "source": [
    "# Using EcoFOCIpy to process raw field data\n",
    "\n",
    "## DY2103 (Spring Mooring Cruise - Oscar Dyson)\n",
    "\n",
    "## CTD / BTL Data\n",
    "\n",
    "This is a streamlined version of the EcoFOCIpy_sbe_ctd_btlfile_DY2103.ipynb and can be used to create simple python scripts.  It is signifcantly less commented and doesn't show step by step examples"
   ]
  },
  {
   "cell_type": "code",
   "execution_count": 88,
   "id": "studied-pollution",
   "metadata": {},
   "outputs": [],
   "source": [
    "import yaml\n",
    "import glob\n",
    "\n",
    "import EcoFOCIpy.io.sbe_ctd_parser as sbe_ctd_parser #<- instrument specific\n",
    "import EcoFOCIpy.io.ncCFsave as ncCFsave\n",
    "import EcoFOCIpy.metaconfig.load_config as load_config"
   ]
  },
  {
   "cell_type": "code",
   "execution_count": 89,
   "id": "offensive-level",
   "metadata": {},
   "outputs": [],
   "source": [
    "sample_data_dir = '/Users/bell/ecoraid/2021/CTDcasts/dy2103/' #root path to cruise directory\n",
    "ecofocipy_dir = '/Users/bell/Programs/EcoFOCIpy/'"
   ]
  },
  {
   "cell_type": "code",
   "execution_count": 90,
   "id": "third-yellow",
   "metadata": {},
   "outputs": [],
   "source": [
    "###############################################################\n",
    "# edit to point to {cruise sepcific} raw datafiles \n",
    "datafile = sample_data_dir+'rawconverted/' #<- point to cruise and process all files within\n",
    "cruise_name = 'DY2103' #no hyphens\n",
    "cruise_meta_file = sample_data_dir+'logs/DY2103.yaml'\n",
    "inst_meta_file = sample_data_dir+'logs/FOCI_standard_CTDplusrinko.yaml' #<- copy to each deployment for simplicity?\n",
    "group_meta_file = ecofocipy_dir+'staticdata/institutional_meta_example.yaml'\n",
    "###############################################################\n",
    "\n",
    "#init and load data\n",
    "cruise = sbe_ctd_parser.sbe_btl()\n",
    "filename_list = sorted(glob.glob(datafile + '*.btl'))\n",
    "\n",
    "cruise_data = cruise.manual_parse(filename_list)"
   ]
  },
  {
   "cell_type": "markdown",
   "id": "acknowledged-active",
   "metadata": {},
   "source": [
    "## Add Deployment meta information"
   ]
  },
  {
   "cell_type": "code",
   "execution_count": 91,
   "id": "freelance-fairy",
   "metadata": {},
   "outputs": [],
   "source": [
    "#just a dictionary of dictionaries - simple\n",
    "with open(cruise_meta_file) as file:\n",
    "    cruise_config = yaml.full_load(file)"
   ]
  },
  {
   "cell_type": "markdown",
   "id": "mysterious-cornwall",
   "metadata": {},
   "source": [
    "## Add Instrument meta information\n",
    "\n",
    "Time, depth, lat, lon should be added regardless (always our coordinates) but for a mooring site its going to be a (1,1,1,t) dataset\n",
    "The variables of interest should be read from the data file and matched to a key for naming.  That key is in the inst_config file seen below and should represent common conversion names in the raw data"
   ]
  },
  {
   "cell_type": "code",
   "execution_count": 92,
   "id": "checked-raise",
   "metadata": {
    "tags": []
   },
   "outputs": [],
   "source": [
    "with open(inst_meta_file) as file:\n",
    "    inst_config = yaml.full_load(file)"
   ]
  },
  {
   "cell_type": "markdown",
   "id": "56119e2f",
   "metadata": {},
   "source": [
    "## Add institutional meta-information\n"
   ]
  },
  {
   "cell_type": "code",
   "execution_count": 93,
   "id": "24b2c8b0",
   "metadata": {},
   "outputs": [],
   "source": [
    "with open(group_meta_file) as file:\n",
    "    group_config = yaml.full_load(file)"
   ]
  },
  {
   "cell_type": "markdown",
   "id": "sustained-hughes",
   "metadata": {},
   "source": [
    "## Save CF Netcdf files\n",
    "\n",
    "Currently stick to netcdf3 classic... but migrating to netcdf4 (default) may be no problems for most modern purposes.  Its easy enough to pass the `format` kwargs through to the netcdf api of xarray."
   ]
  },
  {
   "cell_type": "code",
   "execution_count": 94,
   "id": "modular-volunteer",
   "metadata": {},
   "outputs": [
    {
     "name": "stdout",
     "output_type": "stream",
     "text": [
      "Skipping ctd017test.btl\n",
      "Skipping ctd021.btl\n",
      "Skipping ctd079.btl\n"
     ]
    }
   ],
   "source": [
    "#loop over all casts and perform tasks shown above\n",
    "\n",
    "for cast in cruise_data.keys():\n",
    "    try:\n",
    "        cruise_data[cast] = cruise_data[cast].rename(columns={\n",
    "                            't090c':'temperature_ch1',\n",
    "                            't190c':'temperature_ch2',\n",
    "                            'sal00':'salinity_ch1',\n",
    "                            'sal11':'salinity_ch2',\n",
    "                            'sbox0mm/kg':'oxy_conc_ch1',\n",
    "                            'sbeox0ml/l':'oxy_concM_ch1',\n",
    "                            'sbox1mm/kg':'oxy_conc_ch2',\n",
    "                            'sbeox1ml/l':'oxy_concM_ch2',\n",
    "                            'sbeox0ps':'oxy_percentsat_ch1',\n",
    "                            'sbeox1ps':'oxy_percentsat_ch2',\n",
    "                            'sigma-t00':'sigma_t_ch1',\n",
    "                            'sigma-t11':'sigma_t_ch2',\n",
    "                            'cstarat0':'Attenuation',\n",
    "                            'cstartr0':'Transmittance',\n",
    "                            'fleco-afl':'chlor_fluorescence',\n",
    "                            'turbwetntu0':'turbidity',\n",
    "                            'prdm':'pressure',\n",
    "                            'empty':'empty', #this will be ignored\n",
    "                            'flag':'flag'})\n",
    "\n",
    "        cruise_data_nc = ncCFsave.EcoFOCI_CFnc(df=cruise_data[cast], \n",
    "                                    instrument_yaml=inst_config, \n",
    "                                    operation_yaml=cruise_config,\n",
    "                                    operation_type='ctd')\n",
    "\n",
    "        cruise_data_nc.expand_dimensions(dim_names=['latitude','longitude','time'],geophys_sort=False)\n",
    "\n",
    "        cruise_data_nc.variable_meta_data(variable_keys=list(cruise_data[cast].columns.values),drop_missing=False)\n",
    "        #adding dimension meta needs to come after updating the dimension values... BUG?\n",
    "        cruise_data_nc.dimension_meta_data(variable_keys=['time','latitude','longitude'])\n",
    "        cruise_data_nc.temporal_geospatioal_meta_data_ctd(positiveE=False,conscastno=cast.split('.')[0])\n",
    "\n",
    "        #add global attributes\n",
    "        cruise_data_nc.deployment_meta_add(conscastno=cast.split('.')[0].upper())\n",
    "\n",
    "        #add instituitonal global attributes\n",
    "        cruise_data_nc.institution_meta_add(group_config)\n",
    "\n",
    "        #add creation date/time - provenance data\n",
    "        cruise_data_nc.provinance_meta_add()\n",
    "\n",
    "        #provide intial qc status field\n",
    "        cruise_data_nc.qc_status(qc_status='unqcd') #<- options are unknown, excellent, probably good, mixed, unqcd\n",
    "\n",
    "        cast = cast.lower().split('d')[-1].split('.')[0]\n",
    "        cruise_data_nc.xarray2netcdf_save(xdf = cruise_data_nc.get_xdf(),\n",
    "                                   filename=cruise_name+'c'+cast.zfill(3)+'_btl.nc',format=\"NETCDF3_CLASSIC\")\n",
    "    except:\n",
    "        print(f'Skipping {cast}')"
   ]
  },
  {
   "cell_type": "markdown",
   "id": "individual-nature",
   "metadata": {},
   "source": [
    "## Next Steps\n",
    "\n",
    "QC of data (plot parameters with other instruments)\n",
    "- be sure to updated the qc_status and the history"
   ]
  },
  {
   "cell_type": "code",
   "execution_count": null,
   "id": "insured-vulnerability",
   "metadata": {},
   "outputs": [],
   "source": []
  }
 ],
 "metadata": {
  "kernelspec": {
   "display_name": "Python [conda env:py38] *",
   "language": "python",
   "name": "conda-env-py38-py"
  },
  "language_info": {
   "codemirror_mode": {
    "name": "ipython",
    "version": 3
   },
   "file_extension": ".py",
   "mimetype": "text/x-python",
   "name": "python",
   "nbconvert_exporter": "python",
   "pygments_lexer": "ipython3",
   "version": "3.8.8"
  }
 },
 "nbformat": 4,
 "nbformat_minor": 5
}

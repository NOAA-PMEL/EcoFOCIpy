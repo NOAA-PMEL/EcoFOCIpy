{
 "cells": [
  {
   "cell_type": "markdown",
   "id": "educational-chosen",
   "metadata": {},
   "source": [
    "# Using EcoFOCIpy to process raw field data\n",
    "\n",
    "## CTD / BTL Data\n",
    "\n",
    "Basic workflow for each instrument grouping is *(initial archive level)*:\n",
    "- SBE workflow must happen first\n",
    "- Parse data from cnv files into pandas dataframe\n",
    "- output initial files (pandas->csv) **ERDDAP NRT** when no meta data is added, Preliminary when no QC, FINAL after QC\n",
    "\n",
    "Convert to xarray dataframe for all following work *(working or final data level):\n",
    "- Add metadata from cruise yaml files and/or header info\n",
    "- ingest metadata from cruise / cast logs\n",
    "- process data beyond simple file translate\n",
    "- apply any calibrations or corrections\n",
    "    + field corrections\n",
    "    + offsets\n",
    "    + instrument compensations\n",
    "    + some QC were available... this would be old-school simple bounds mostly\n",
    "- adjust time bounds and sample frequency (xarray dataframe)\n",
    "- save as CF netcdf via xarray: so many of the steps above are optional\n",
    "    + **ERDDAP NRT** if no corrections, offsets or time bounds are applied but some meta data is\n",
    "    + **Working and awaiting QC** has no ERDDAP representation and is a holding spot\n",
    "    + **ERDDAP Final** fully calibrated, qc'd and populated with meta information\n",
    "\n",
    "Plot for preview and QC\n",
    "- preview images (indiv and/or collectively)\n",
    "- manual qc process\n",
    "- automated qc process ML/AI\n",
    "\n",
    "Further refinenments for ERDDAP hosting:\n"
   ]
  },
  {
   "cell_type": "markdown",
   "id": "allied-miniature",
   "metadata": {},
   "source": [
    "## Example below is for SBE 9/11+ V2 but the workflow is similar for any SBE instruments.\n",
    "\n",
    "Future processing of this instrument can be a simplified (no markdown) process which can be archived so that the procedure can be traced or updated\n",
    "\n",
    "We process each cast as an individual file so this example will not loop over all profiles.  See `example/all_casts.py` example for processing an entire cruise at once.\n",
    "\n",
    "Adding Discrete samples such as Oxygen, Chlorophyll, Salinity to BTL Data is in `example/discrete_castdata.py`.  Its purpose is to match niskin/bottle information to depth for the discrete data."
   ]
  },
  {
   "cell_type": "code",
   "execution_count": 1,
   "id": "studied-pollution",
   "metadata": {},
   "outputs": [],
   "source": [
    "import yaml\n",
    "import glob\n",
    "\n",
    "import EcoFOCIpy.io.sbe_ctd_parser as sbe_ctd_parser #<- instrument specific\n",
    "import EcoFOCIpy.io.ncCFsave as ncCFsave\n",
    "import EcoFOCIpy.metaconfig.load_config as load_config"
   ]
  },
  {
   "cell_type": "markdown",
   "id": "public-millennium",
   "metadata": {},
   "source": [
    "The sample_data_dir should be included in the github package but may not be included in the pip install of the package\n",
    "\n",
    "## Simple Processing - first step"
   ]
  },
  {
   "cell_type": "code",
   "execution_count": 2,
   "id": "offensive-level",
   "metadata": {},
   "outputs": [],
   "source": [
    "sample_data_dir = '../'"
   ]
  },
  {
   "cell_type": "code",
   "execution_count": 3,
   "id": "third-yellow",
   "metadata": {},
   "outputs": [],
   "source": [
    "###############################################################\n",
    "# edit to point to {cruise sepcific} raw datafiles \n",
    "datafile = sample_data_dir+'staticdata/example_data/profile_data/' #<- point to cruise and process all files within\n",
    "cruise_name = 'DY1805' #no hyphens\n",
    "cruise_meta_file = sample_data_dir+'staticdata/cruise_example.yaml'\n",
    "inst_meta_file = sample_data_dir+'staticdata/instr_metaconfig/FOCI_standard_CTD.yaml'\n",
    "group_meta_file = sample_data_dir+'staticdata/institutional_meta_example.yaml'\n",
    "inst_shortname = ''\n",
    "###############################################################\n",
    "\n",
    "#init and load data\n",
    "cruise = sbe_ctd_parser.sbe_btl()\n",
    "filename_list = sorted(glob.glob(datafile + '*.btl'))\n",
    "\n",
    "cruise_data = cruise.manual_parse(filename_list)"
   ]
  },
  {
   "source": [
    "There are 6 files in the example folder ('ctd001.btl','ctd002.btl', etc).  The routine will read in all .btl files in a specified directory and name them based on splitting on \"/\".  This will work for all CTD 'btl' files"
   ],
   "cell_type": "markdown",
   "metadata": {}
  },
  {
   "cell_type": "code",
   "execution_count": 4,
   "metadata": {},
   "outputs": [
    {
     "output_type": "execute_result",
     "data": {
      "text/plain": [
       "       sbeox0ml/l    sbeox0ps  sbox0mm/kg  sbeox1ml/l   sbeox1ps  sbox1mm/kg  \\\n",
       "count   10.000000   10.000000   10.000000   10.000000  10.000000   10.000000   \n",
       "mean     7.323100   98.171600  318.921200    7.307870  97.967400  318.257500   \n",
       "std      0.141579    1.898755    6.166035    0.014719   0.207848    0.641301   \n",
       "min      7.020500   94.102000  305.743000    7.279200  97.570000  317.009000   \n",
       "25%      7.320200   98.120250  318.794500    7.302500  97.884250  318.024750   \n",
       "50%      7.322850   98.159500  318.910000    7.313800  98.054500  318.516500   \n",
       "75%      7.326875   98.235750  319.086250    7.318475  98.101000  318.719000   \n",
       "max      7.620500  102.145000  331.874000    7.321400  98.191000  318.848000   \n",
       "\n",
       "           sal00      sal11  sigma-t00  sigma-t11  fleco-afl      t090c  \\\n",
       "count  10.000000  10.000000  10.000000  10.000000  10.000000  10.000000   \n",
       "mean   32.065880  32.068130  25.489120  25.490890   0.802060   3.614830   \n",
       "std     0.000079   0.000106   0.000807   0.000817   0.113152   0.008306   \n",
       "min    32.065800  32.067900  25.487400  25.489300   0.526100   3.609100   \n",
       "25%    32.065800  32.068100  25.488950  25.490525   0.785450   3.609325   \n",
       "50%    32.065900  32.068100  25.489450  25.491300   0.837500   3.611150   \n",
       "75%    32.065900  32.068200  25.489675  25.491400   0.861900   3.616575   \n",
       "max    32.066000  32.068300  25.489700  25.491500   0.902200   3.632200   \n",
       "\n",
       "           t190c  turbwetntu0       prdm          scan  \n",
       "count  10.000000    10.000000  10.000000     10.000000  \n",
       "mean    3.615330     0.904770  33.525900  24406.100000  \n",
       "std     0.008331     0.352494  21.967025   8129.420158  \n",
       "min     3.609400     0.659700   3.948000  12686.000000  \n",
       "25%     3.609625     0.676975  17.329750  18528.000000  \n",
       "50%     3.611500     0.749300  28.775000  26144.000000  \n",
       "75%     3.618300     0.925700  48.941500  29765.750000  \n",
       "max     3.632100     1.585500  65.415000  35967.000000  "
      ],
      "text/html": "<div>\n<style scoped>\n    .dataframe tbody tr th:only-of-type {\n        vertical-align: middle;\n    }\n\n    .dataframe tbody tr th {\n        vertical-align: top;\n    }\n\n    .dataframe thead th {\n        text-align: right;\n    }\n</style>\n<table border=\"1\" class=\"dataframe\">\n  <thead>\n    <tr style=\"text-align: right;\">\n      <th></th>\n      <th>sbeox0ml/l</th>\n      <th>sbeox0ps</th>\n      <th>sbox0mm/kg</th>\n      <th>sbeox1ml/l</th>\n      <th>sbeox1ps</th>\n      <th>sbox1mm/kg</th>\n      <th>sal00</th>\n      <th>sal11</th>\n      <th>sigma-t00</th>\n      <th>sigma-t11</th>\n      <th>fleco-afl</th>\n      <th>t090c</th>\n      <th>t190c</th>\n      <th>turbwetntu0</th>\n      <th>prdm</th>\n      <th>scan</th>\n    </tr>\n  </thead>\n  <tbody>\n    <tr>\n      <th>count</th>\n      <td>10.000000</td>\n      <td>10.000000</td>\n      <td>10.000000</td>\n      <td>10.000000</td>\n      <td>10.000000</td>\n      <td>10.000000</td>\n      <td>10.000000</td>\n      <td>10.000000</td>\n      <td>10.000000</td>\n      <td>10.000000</td>\n      <td>10.000000</td>\n      <td>10.000000</td>\n      <td>10.000000</td>\n      <td>10.000000</td>\n      <td>10.000000</td>\n      <td>10.000000</td>\n    </tr>\n    <tr>\n      <th>mean</th>\n      <td>7.323100</td>\n      <td>98.171600</td>\n      <td>318.921200</td>\n      <td>7.307870</td>\n      <td>97.967400</td>\n      <td>318.257500</td>\n      <td>32.065880</td>\n      <td>32.068130</td>\n      <td>25.489120</td>\n      <td>25.490890</td>\n      <td>0.802060</td>\n      <td>3.614830</td>\n      <td>3.615330</td>\n      <td>0.904770</td>\n      <td>33.525900</td>\n      <td>24406.100000</td>\n    </tr>\n    <tr>\n      <th>std</th>\n      <td>0.141579</td>\n      <td>1.898755</td>\n      <td>6.166035</td>\n      <td>0.014719</td>\n      <td>0.207848</td>\n      <td>0.641301</td>\n      <td>0.000079</td>\n      <td>0.000106</td>\n      <td>0.000807</td>\n      <td>0.000817</td>\n      <td>0.113152</td>\n      <td>0.008306</td>\n      <td>0.008331</td>\n      <td>0.352494</td>\n      <td>21.967025</td>\n      <td>8129.420158</td>\n    </tr>\n    <tr>\n      <th>min</th>\n      <td>7.020500</td>\n      <td>94.102000</td>\n      <td>305.743000</td>\n      <td>7.279200</td>\n      <td>97.570000</td>\n      <td>317.009000</td>\n      <td>32.065800</td>\n      <td>32.067900</td>\n      <td>25.487400</td>\n      <td>25.489300</td>\n      <td>0.526100</td>\n      <td>3.609100</td>\n      <td>3.609400</td>\n      <td>0.659700</td>\n      <td>3.948000</td>\n      <td>12686.000000</td>\n    </tr>\n    <tr>\n      <th>25%</th>\n      <td>7.320200</td>\n      <td>98.120250</td>\n      <td>318.794500</td>\n      <td>7.302500</td>\n      <td>97.884250</td>\n      <td>318.024750</td>\n      <td>32.065800</td>\n      <td>32.068100</td>\n      <td>25.488950</td>\n      <td>25.490525</td>\n      <td>0.785450</td>\n      <td>3.609325</td>\n      <td>3.609625</td>\n      <td>0.676975</td>\n      <td>17.329750</td>\n      <td>18528.000000</td>\n    </tr>\n    <tr>\n      <th>50%</th>\n      <td>7.322850</td>\n      <td>98.159500</td>\n      <td>318.910000</td>\n      <td>7.313800</td>\n      <td>98.054500</td>\n      <td>318.516500</td>\n      <td>32.065900</td>\n      <td>32.068100</td>\n      <td>25.489450</td>\n      <td>25.491300</td>\n      <td>0.837500</td>\n      <td>3.611150</td>\n      <td>3.611500</td>\n      <td>0.749300</td>\n      <td>28.775000</td>\n      <td>26144.000000</td>\n    </tr>\n    <tr>\n      <th>75%</th>\n      <td>7.326875</td>\n      <td>98.235750</td>\n      <td>319.086250</td>\n      <td>7.318475</td>\n      <td>98.101000</td>\n      <td>318.719000</td>\n      <td>32.065900</td>\n      <td>32.068200</td>\n      <td>25.489675</td>\n      <td>25.491400</td>\n      <td>0.861900</td>\n      <td>3.616575</td>\n      <td>3.618300</td>\n      <td>0.925700</td>\n      <td>48.941500</td>\n      <td>29765.750000</td>\n    </tr>\n    <tr>\n      <th>max</th>\n      <td>7.620500</td>\n      <td>102.145000</td>\n      <td>331.874000</td>\n      <td>7.321400</td>\n      <td>98.191000</td>\n      <td>318.848000</td>\n      <td>32.066000</td>\n      <td>32.068300</td>\n      <td>25.489700</td>\n      <td>25.491500</td>\n      <td>0.902200</td>\n      <td>3.632200</td>\n      <td>3.632100</td>\n      <td>1.585500</td>\n      <td>65.415000</td>\n      <td>35967.000000</td>\n    </tr>\n  </tbody>\n</table>\n</div>"
     },
     "metadata": {},
     "execution_count": 4
    }
   ],
   "source": [
    "#quick statistical look at the distribution of data for a cast\n",
    "# #preview a dataframe\n",
    "cruise_data['ctd001.btl'].describe()"
   ]
  },
  {
   "cell_type": "markdown",
   "id": "ready-audit",
   "metadata": {},
   "source": [
    "## Time Properties\n",
    "\n",
    "Not traditionally dealt with for CTD files as they are likely dynamically updated via GPS feed.  However, FOCI tends to label the date/time with the ***at depth*** time-stamp\n",
    "\n",
    "## Depth Properties and other assumptions\n",
    "\n",
    "- currently, all processing and binning (1m for FOCI) is done via seabird routines and the windows software.  This may change with the python ctd package for a few tasks"
   ]
  },
  {
   "cell_type": "markdown",
   "id": "acknowledged-active",
   "metadata": {},
   "source": [
    "## Add Deployment meta information"
   ]
  },
  {
   "cell_type": "code",
   "execution_count": 5,
   "id": "freelance-fairy",
   "metadata": {},
   "outputs": [
    {
     "output_type": "execute_result",
     "data": {
      "text/plain": [
       "{'CruiseID': 'DY1805',\n",
       " 'CruiseID_Historic': None,\n",
       " 'CruiseID_Alternates': None,\n",
       " 'Project_Leg': '',\n",
       " 'Vessel': 'R/V Oscar Dyson',\n",
       " 'ShipID': 'DY',\n",
       " 'StartDate': datetime.date(2018, 4, 29),\n",
       " 'EndDate': datetime.date(2018, 5, 10),\n",
       " 'Project': 'EcoFOCI',\n",
       " 'ChiefScientist': 'Peter Proctor',\n",
       " 'StartPort': 'Dutch Harbor, AK',\n",
       " 'EndPort': 'Dutch Harbor, AK',\n",
       " 'CruiseLocation': 'Bering Sea',\n",
       " 'Description': 'FOCI Spring Mooring Survey',\n",
       " 'CruiseYear': 2018,\n",
       " 'ctdlogs_pdf_name': 'DY1805_CastLogs.pdf'}"
      ]
     },
     "metadata": {},
     "execution_count": 5
    }
   ],
   "source": [
    "#just a dictionary of dictionaries - simple\n",
    "with open(cruise_meta_file) as file:\n",
    "    cruise_config = yaml.full_load(file)\n",
    "cruise_config[cruise_name]"
   ]
  },
  {
   "cell_type": "code",
   "execution_count": 6,
   "metadata": {},
   "outputs": [
    {
     "output_type": "execute_result",
     "data": {
      "text/plain": [
       "{'id': 22869,\n",
       " 'Vessel': 'R/V Oscar Dyson',\n",
       " 'CruiseID': 'DY1805',\n",
       " 'Project_Leg': '',\n",
       " 'UniqueCruiseID': 'DY1805',\n",
       " 'Project': 'FOCI Spring Mooring Survey',\n",
       " 'StationNo_altname': 's1h1',\n",
       " 'ConsecutiveCastNo': 'CTD001',\n",
       " 'LatitudeDeg': 56,\n",
       " 'LatitudeMin': 52.28,\n",
       " 'GeoLocation': None,\n",
       " 'LongitudeDeg': 164,\n",
       " 'LongitudeMin': 2.92,\n",
       " 'GMTDay': 30,\n",
       " 'GMTMonth': 'Apr',\n",
       " 'GMTYear': 2018,\n",
       " 'GMTTime': 69660,\n",
       " 'DryBulb': 3.7,\n",
       " 'RelativeHumidity': 98,\n",
       " 'WetBulb': -99.9,\n",
       " 'Pressure': 1013,\n",
       " 'SeaState': '-99',\n",
       " 'Visibility': '-99',\n",
       " 'WindDir': 230,\n",
       " 'WindSpd': 21.0,\n",
       " 'CloudAmt': '-99',\n",
       " 'CloudType': '-99',\n",
       " 'Weather': '-99',\n",
       " 'SurfaceTemp': -99.9,\n",
       " 'BottomDepth': 65,\n",
       " 'StationNameID': 'M2C',\n",
       " 'MaxDepth': 72,\n",
       " 'InstrumentSerialNos': 'Press SN =291, Pri Temp SN = 4379, Sec Temp SN =2376, Pri Cond SN = 04-2985, Sec Cond Sn =04-3127, PAR Sn =70547, Fluor Sn = FLNTUS-2057, pri O2 Sn = 1961, sec O2 Sn = 0904, Turbid SN = FLNTUS-2057',\n",
       " 'Notes': 'Niskin 2 did not close - bottom cap\\r\\nNiskin 10 did not close\\r\\nRBRbrevio in Niskin 5 Position, PAR in Niskin 12 position',\n",
       " 'NutrientBtlNiskinNo': '1;2;3;4;5;6;7;8;9;10;11;12',\n",
       " 'NutrientBtlNumbers': '1;2;3;4;;5;6;7;8;9;10;',\n",
       " 'OxygenBtlNiskinNo': '1',\n",
       " 'OxygenBtlNumbers': '182',\n",
       " 'SalinityBtlNiskinNo': '1',\n",
       " 'SalinityBtlNumbers': '1',\n",
       " 'ChlorophyllBtlNiskinNo': '1;2;3;4;5;6;7;8;9;10;11;12',\n",
       " 'ChlorophyllBtlVolumes': ';;283;285;;283;285;289;283;283;279;',\n",
       " 'InstrumentType': 'Seabird SBE 911plus CTD',\n",
       " 'WaterMassCode': 'B',\n",
       " 'isMooringProfileCast': 'y',\n",
       " 'MooringID': '18BSM-2A',\n",
       " 'QualityControlled': 'n',\n",
       " 'FileName': '',\n",
       " 'MeasuredParameters': None}"
      ]
     },
     "metadata": {},
     "execution_count": 6
    }
   ],
   "source": [
    "#and if you want a cast from the cruise, just use the consective cast number\n",
    "cruise_config['CTDCasts']['CTD001']"
   ]
  },
  {
   "cell_type": "markdown",
   "id": "mysterious-cornwall",
   "metadata": {},
   "source": [
    "## Add Instrument meta information\n",
    "\n",
    "Time, depth, lat, lon should be added regardless (always our coordinates) but for a mooring site its going to be a (1,1,1,t) dataset\n",
    "The variables of interest should be read from the data file and matched to a key for naming.  That key is in the inst_config file seen below and should represent common conversion names in the raw data"
   ]
  },
  {
   "cell_type": "code",
   "execution_count": 7,
   "id": "checked-raise",
   "metadata": {
    "tags": []
   },
   "outputs": [
    {
     "output_type": "execute_result",
     "data": {
      "text/plain": [
       "{'time': {'epic_key': 'TIM_601',\n",
       "  'name': 'time',\n",
       "  'generic_name': 'time',\n",
       "  'standard_name': 'time',\n",
       "  'long_name': 'date and time since reference time',\n",
       "  'time_origin': '1900-01-01 00:00:00',\n",
       "  'units': 'days since 1900-01-01T00:00:00Z'},\n",
       " 'depth': {'epic_key': 'D_3',\n",
       "  'generic_name': 'depth',\n",
       "  'units': 'meter',\n",
       "  'long_name': 'depth below surface (meters)',\n",
       "  'standard_name': 'depth'},\n",
       " 'latitude': {'epic_key': 'LON_501',\n",
       "  'name': 'latitude',\n",
       "  'generic_name': 'latitude',\n",
       "  'units': 'degrees_north',\n",
       "  'long_name': 'latitude',\n",
       "  'standard_name': 'latitude'},\n",
       " 'longitude': {'epic_key': 'LAT_500',\n",
       "  'name': 'longitude',\n",
       "  'generic_name': 'longitude',\n",
       "  'units': 'degrees_east',\n",
       "  'long_name': 'longitude',\n",
       "  'standard_name': 'longitude'},\n",
       " 'temperature_ch1': {'epic_key': 'T_28',\n",
       "  'generic_name': 'temp channel 1',\n",
       "  'long_name': 'Sea temperature in-situ ITS-90 scale',\n",
       "  'standard_name': 'sea_water_temperature',\n",
       "  'units': 'degree_C'},\n",
       " 'temperature_ch2': {'epic_key': 'T2_35',\n",
       "  'generic_name': 'temp channel 2',\n",
       "  'long_name': 'Sea temperature in-situ ITS-90 scale',\n",
       "  'standard_name': 'sea_water_temperature',\n",
       "  'units': 'degree_C'},\n",
       " 'pressure': {'epic_key': 'P_1',\n",
       "  'generic_name': 'pres',\n",
       "  'units': 'decibar',\n",
       "  'long_name': 'Sea water pressure, equals 0 at sea-level',\n",
       "  'standard_name': 'sea_water_pressure_due_to_sea_water'},\n",
       " 'salinity_ch1': {'epic_key': 'S_41',\n",
       "  'generic_name': 'psal channel 1',\n",
       "  'units': 'PSU',\n",
       "  'long_name': 'Practical salinity in-situ PSS-78 scale',\n",
       "  'standard_name': 'sea_water_practical_salinity'},\n",
       " 'salinity_ch2': {'epic_key': 'S_42',\n",
       "  'generic_name': 'psal channel 2',\n",
       "  'units': 'PSU',\n",
       "  'long_name': 'Practical salinity in-situ PSS-78 scale',\n",
       "  'standard_name': 'sea_water_practical_salinity'},\n",
       " 'chlor_fluorescence': {'epic_key': 'F_903',\n",
       "  'generic_name': 'chlor_fluorescence',\n",
       "  'long_name': 'Mass Concdentration of chlorophyll from chlorophyll fluorescence',\n",
       "  'standard_name': 'mass_concentration_of_chlorophyll_in_sea_water',\n",
       "  'units': 'ugrams/l'},\n",
       " 'par': {'generic_name': 'par',\n",
       "  'epic_key': 'PAR_905',\n",
       "  'long_name': 'Photosynthetic Active Radiation',\n",
       "  'standard_name': 'omnidirectional_photosynthetic_photon_spherical_irradiance_in_sea_water',\n",
       "  'units': 'uEin cm-2 s-1'},\n",
       " 'oxy_conc_ch1': {'generic_name': 'oxy_conc channel 1',\n",
       "  'epic_key': 'O_65',\n",
       "  'long_name': 'concentration of oxygen in seawater',\n",
       "  'standard_name': 'mole_concentration_of_dissolved_molecular_oxygen_in_sea_water',\n",
       "  'units': 'micromole/kg'},\n",
       " 'oxy_conc_ch2': {'generic_name': 'oxy_conc channel 2',\n",
       "  'epic_key': 'CTDOXY_4221',\n",
       "  'long_name': 'concentration of oxygen in seawater',\n",
       "  'standard_name': 'mole_concentration_of_dissolved_molecular_oxygen_in_sea_water',\n",
       "  'units': 'micromole/kg'},\n",
       " 'oxy_concM_ch1': {'generic_name': 'oxy_concM channel 1',\n",
       "  'epic_key': 'O_65',\n",
       "  'long_name': 'concentration of oxygen in seawater',\n",
       "  'standard_name': 'mole_concentration_of_dissolved_molecular_oxygen_in_sea_water',\n",
       "  'units': 'ml/l'},\n",
       " 'oxy_concM_ch2': {'generic_name': 'oxy_concM channel 2',\n",
       "  'epic_key': 'O_2060',\n",
       "  'long_name': 'concentration of oxygen in seawater',\n",
       "  'standard_name': 'mole_concentration_of_dissolved_molecular_oxygen_in_sea_water',\n",
       "  'units': 'ml/l'},\n",
       " 'oxy_percentsat_ch1': {'generic_name': 'oxy_psat channel 1',\n",
       "  'epic_key': 'OST_62',\n",
       "  'units': 'percent',\n",
       "  'long_name': 'Percent Saturation of oxygen over air',\n",
       "  'standard_name': 'fractional_saturation_of_oxygen_in_sea_water'},\n",
       " 'oxy_percentsat_ch2': {'generic_name': 'oxy_psat channel 2',\n",
       "  'epic_key': 'CTDOST_4220',\n",
       "  'units': 'percent',\n",
       "  'long_name': 'Percent Saturation of oxygen over air',\n",
       "  'standard_name': 'fractional_saturation_of_oxygen_in_sea_water'}}"
      ]
     },
     "metadata": {},
     "execution_count": 7
    }
   ],
   "source": [
    "with open(inst_meta_file) as file:\n",
    "    inst_config = yaml.full_load(file)\n",
    "inst_config"
   ]
  },
  {
   "cell_type": "code",
   "execution_count": 26,
   "metadata": {},
   "outputs": [
    {
     "output_type": "execute_result",
     "data": {
      "text/plain": [
       "        oxy_concM_ch1  oxy_percentsat_ch1  oxy_conc_ch1  oxy_concM_ch2  \\\n",
       "bottle                                                                   \n",
       "7.0            7.3226              98.156       318.898         7.3181   \n",
       "\n",
       "        oxy_percentsat_ch2  oxy_conc_ch2  salinity_ch1  salinity_ch2  \\\n",
       "bottle                                                                 \n",
       "7.0                 98.095       318.701        32.066       32.0683   \n",
       "\n",
       "        sigma_t_ch1  sigma_t_ch2  chlor_fluorescence  temperature_ch1  \\\n",
       "bottle                                                                  \n",
       "7.0         25.4895      25.4914              0.8962           3.6112   \n",
       "\n",
       "        temperature_ch2  turbidity  Pressure [dbar]     scan  \\\n",
       "bottle                                                         \n",
       "7.0              3.6114      0.763           27.823  27479.0   \n",
       "\n",
       "                  datetime  \n",
       "bottle                      \n",
       "7.0    2018-04-30 19:30:57  "
      ],
      "text/html": "<div>\n<style scoped>\n    .dataframe tbody tr th:only-of-type {\n        vertical-align: middle;\n    }\n\n    .dataframe tbody tr th {\n        vertical-align: top;\n    }\n\n    .dataframe thead th {\n        text-align: right;\n    }\n</style>\n<table border=\"1\" class=\"dataframe\">\n  <thead>\n    <tr style=\"text-align: right;\">\n      <th></th>\n      <th>oxy_concM_ch1</th>\n      <th>oxy_percentsat_ch1</th>\n      <th>oxy_conc_ch1</th>\n      <th>oxy_concM_ch2</th>\n      <th>oxy_percentsat_ch2</th>\n      <th>oxy_conc_ch2</th>\n      <th>salinity_ch1</th>\n      <th>salinity_ch2</th>\n      <th>sigma_t_ch1</th>\n      <th>sigma_t_ch2</th>\n      <th>chlor_fluorescence</th>\n      <th>temperature_ch1</th>\n      <th>temperature_ch2</th>\n      <th>turbidity</th>\n      <th>Pressure [dbar]</th>\n      <th>scan</th>\n      <th>datetime</th>\n    </tr>\n    <tr>\n      <th>bottle</th>\n      <th></th>\n      <th></th>\n      <th></th>\n      <th></th>\n      <th></th>\n      <th></th>\n      <th></th>\n      <th></th>\n      <th></th>\n      <th></th>\n      <th></th>\n      <th></th>\n      <th></th>\n      <th></th>\n      <th></th>\n      <th></th>\n      <th></th>\n    </tr>\n  </thead>\n  <tbody>\n    <tr>\n      <th>7.0</th>\n      <td>7.3226</td>\n      <td>98.156</td>\n      <td>318.898</td>\n      <td>7.3181</td>\n      <td>98.095</td>\n      <td>318.701</td>\n      <td>32.066</td>\n      <td>32.0683</td>\n      <td>25.4895</td>\n      <td>25.4914</td>\n      <td>0.8962</td>\n      <td>3.6112</td>\n      <td>3.6114</td>\n      <td>0.763</td>\n      <td>27.823</td>\n      <td>27479.0</td>\n      <td>2018-04-30 19:30:57</td>\n    </tr>\n  </tbody>\n</table>\n</div>"
     },
     "metadata": {},
     "execution_count": 26
    }
   ],
   "source": [
    "#sbe data uses header info to name variables... but we want standard names from the dictionary I've created, so we need to rename column variables appropriately\n",
    "#rename values to appropriate names, if a value isn't in the .yaml file, you can add it\n",
    "\n",
    "#*** biggest *** difference between moored and profile data is there may be multiple instruments with the same dataype (e.g.) temperature\n",
    "# on the same platform.  We _used_ to use the phrases primary and secondary, but will now only refer to them as ch1, ch2 etc\n",
    "cruise_data['ctd001.btl'] = cruise_data['ctd001.btl'].rename(columns={\n",
    "                        't090c':'temperature_ch1',\n",
    "                        't190c':'temperature_ch2',\n",
    "                        'sal00':'salinity_ch1',\n",
    "                        'sal11':'salinity_ch2',\n",
    "                        'sbox0mm/kg':'oxy_conc_ch1',\n",
    "                        'sbeox0ml/l':'oxy_concM_ch1',\n",
    "                        'sbox1mm/kg':'oxy_conc_ch2',\n",
    "                        'sbeox1ml/l':'oxy_concM_ch2',\n",
    "                        'sbeox0ps':'oxy_percentsat_ch1',\n",
    "                        'sbeox1ps':'oxy_percentsat_ch2',\n",
    "                        'sigma-t00':'sigma_t_ch1',\n",
    "                        'sigma-t11':'sigma_t_ch2',\n",
    "                        'cstarat0':'Attenuation',\n",
    "                        'cstartr0':'Transmittance',\n",
    "                        'fleco-afl':'chlor_fluorescence',\n",
    "                        'turbwetntu0':'turbidity',\n",
    "                        'empty':'empty', #this will be ignored\n",
    "                        'prdm':'Pressure [dbar]',\n",
    "                        'flag':'flag'})\n",
    "\n",
    "cruise_data['ctd001.btl'].sample()"
   ]
  },
  {
   "cell_type": "code",
   "execution_count": 27,
   "metadata": {},
   "outputs": [
    {
     "output_type": "execute_result",
     "data": {
      "text/plain": [
       "Index(['oxy_concM_ch1', 'oxy_percentsat_ch1', 'oxy_conc_ch1', 'oxy_concM_ch2',\n",
       "       'oxy_percentsat_ch2', 'oxy_conc_ch2', 'salinity_ch1', 'salinity_ch2',\n",
       "       'sigma_t_ch1', 'sigma_t_ch2', 'chlor_fluorescence', 'temperature_ch1',\n",
       "       'temperature_ch2', 'turbidity', 'Pressure [dbar]', 'scan', 'datetime'],\n",
       "      dtype='object')"
      ]
     },
     "metadata": {},
     "execution_count": 27
    }
   ],
   "source": [
    "cruise_data['ctd001.btl'].columns"
   ]
  },
  {
   "source": [
    "## Add institutional meta-information\n"
   ],
   "cell_type": "markdown",
   "metadata": {}
  },
  {
   "cell_type": "code",
   "execution_count": 28,
   "metadata": {},
   "outputs": [
    {
     "output_type": "execute_result",
     "data": {
      "text/plain": [
       "{'source_documents': 'http://www.oceansites.org/docs/oceansites_data_format_reference_manual.pdf',\n",
       " 'institution': 'Pacific Marine Environmental Lab (PMEL)',\n",
       " 'project': 'EcoFOCI',\n",
       " 'project_url': 'https://www.ecofoci.noaa.gov',\n",
       " 'principal_investigator': 'Phyllis Stabeno',\n",
       " 'principal_investigator_email': 'phyllis.stabeno (at) noaa.gov',\n",
       " 'creator_name': 'Shaun Bell',\n",
       " 'creator_email': 'shaun.bell (at) noaa.gov',\n",
       " 'creator_institution': 'PMEL',\n",
       " 'keywords': 'Mooring, Oceanographic',\n",
       " 'comment': 'Provisional data',\n",
       " 'sea_area': 'Bering Sea (BS)',\n",
       " 'featureType': 'timeSeries',\n",
       " 'conventions': '”CF-1.6, ~OceanSITES-1.5, ACDD-1.2”',\n",
       " 'license': '',\n",
       " 'references': '',\n",
       " 'citation': '',\n",
       " 'acknowledgement': ''}"
      ]
     },
     "metadata": {},
     "execution_count": 28
    }
   ],
   "source": [
    "with open(group_meta_file) as file:\n",
    "    group_config = yaml.full_load(file)\n",
    "group_config"
   ]
  },
  {
   "cell_type": "code",
   "execution_count": 29,
   "id": "varied-popularity",
   "metadata": {},
   "outputs": [
    {
     "output_type": "execute_result",
     "data": {
      "text/plain": [
       "<EcoFOCIpy.io.ncCFsave.EcoFOCI_CFnc_profile at 0x15fc90940>"
      ]
     },
     "metadata": {},
     "execution_count": 29
    }
   ],
   "source": [
    "# Add meta data and prelim processing based on meta data\n",
    "# Convert to xarray and add meta information - save as CF netcdf file\n",
    "# pass -> data, instmeta, depmeta\n",
    "cruise_data_nc = ncCFsave.EcoFOCI_CFnc_profile(df=cruise_data['ctd001.btl'], \n",
    "                                instrument_yaml=inst_config, \n",
    "                                cruise_yaml=cruise_config)\n",
    "cruise_data_nc"
   ]
  },
  {
   "cell_type": "markdown",
   "id": "asian-chambers",
   "metadata": {},
   "source": [
    "At this point, you could save your file with the `.xarray2netcdf_save()` method and have a functioning dataset.... but it would be very simple with no additional qc, meta-data, or tuned parameters for optimizing software like ferret or erddap."
   ]
  },
  {
   "cell_type": "code",
   "execution_count": 30,
   "id": "practical-pennsylvania",
   "metadata": {},
   "outputs": [],
   "source": [
    "# expand the dimensions and coordinate variables\n",
    "# renames them appropriatley and prepares them for meta-filled values\n",
    "cruise_data_nc.expand_dimensions(geophys_sort=False)"
   ]
  },
  {
   "cell_type": "code",
   "execution_count": 31,
   "id": "floral-operations",
   "metadata": {},
   "outputs": [],
   "source": [
    "#build list from columsn in data - if a variable isn't in the yaml file, it will be dropped from the final data fields\n",
    "cruise_data_nc.variable_meta_data(variable_keys=list(cruise_data['ctd001.btl'].columns.values),drop_missing=False)\n",
    "#adding dimension meta needs to come after updating the dimension values... BUG?\n",
    "cruise_data_nc.dimension_meta_data(variable_keys=['depth','latitude','longitude'])"
   ]
  },
  {
   "cell_type": "markdown",
   "id": "seventh-product",
   "metadata": {},
   "source": [
    "The following steps can happen in just about any order and are all meta-data driven.  Therefore, they are not required to have a functioning dataset, but they are required to have a well described dataset"
   ]
  },
  {
   "cell_type": "code",
   "execution_count": 32,
   "id": "auburn-diversity",
   "metadata": {},
   "outputs": [],
   "source": [
    "#add global attributes\n",
    "cruise_data_nc.deployment_meta_add(conscastno='CTD001')\n",
    "cruise_data_nc.get_xdf()\n",
    "\n",
    "#add instituitonal global attributes\n",
    "cruise_data_nc.institution_meta_add(group_config)\n",
    "\n",
    "#add creation date/time - provenance data\n",
    "cruise_data_nc.provinance_meta_add()\n",
    "\n",
    "#provide intial qc status field\n",
    "cruise_data_nc.qc_status(qc_status='unknown')\n"
   ]
  },
  {
   "cell_type": "markdown",
   "id": "sustained-hughes",
   "metadata": {},
   "source": [
    "## Save CF Netcdf files\n",
    "\n",
    "Currently stick to netcdf3 classic... but migrating to netcdf4 (default) may be no problems for most modern purposes.  Its easy enough to pass the `format` kwargs through to the netcdf api of xarray."
   ]
  },
  {
   "cell_type": "code",
   "execution_count": 33,
   "id": "modular-volunteer",
   "metadata": {},
   "outputs": [],
   "source": [
    "cast = 'CTD001'.split('D')[-1]\n",
    "cruise_data_nc.xarray2netcdf_save(xdf = cruise_data_nc.get_xdf(),\n",
    "                           filename=cruise_data_nc.filename_const(manual_label=cruise_name+'c'+cast.zfill(3)+'_ctd'),format=\"NETCDF3_CLASSIC\")"
   ]
  },
  {
   "cell_type": "code",
   "execution_count": 34,
   "id": "unlike-breathing",
   "metadata": {},
   "outputs": [
    {
     "output_type": "execute_result",
     "data": {
      "text/plain": [
       "<xarray.Dataset>\n",
       "Dimensions:             (bottle: 10, latitude: 1, longitude: 1, time: 1)\n",
       "Coordinates:\n",
       "  * bottle              (bottle) float64 1.0 2.0 3.0 4.0 ... 8.0 9.0 10.0 11.0\n",
       "Dimensions without coordinates: latitude, longitude, time\n",
       "Data variables: (12/17)\n",
       "    oxy_concM_ch1       (latitude, longitude, time, bottle) float64 7.62 ... ...\n",
       "    oxy_percentsat_ch1  (latitude, longitude, time, bottle) float64 102.1 ......\n",
       "    oxy_conc_ch1        (latitude, longitude, time, bottle) float64 331.9 ......\n",
       "    oxy_concM_ch2       (latitude, longitude, time, bottle) float64 7.279 ......\n",
       "    oxy_percentsat_ch2  (latitude, longitude, time, bottle) float64 97.57 ......\n",
       "    oxy_conc_ch2        (latitude, longitude, time, bottle) float64 317.0 ......\n",
       "    ...                  ...\n",
       "    temperature_ch1     (latitude, longitude, time, bottle) float64 3.609 ......\n",
       "    temperature_ch2     (latitude, longitude, time, bottle) float64 3.61 ... ...\n",
       "    turbidity           (latitude, longitude, time, bottle) float64 1.585 ......\n",
       "    depth               (latitude, longitude, time, bottle) float64 65.42 ......\n",
       "    scan                (latitude, longitude, time, bottle) float64 1.269e+04...\n",
       "    datetime            (latitude, longitude, time, bottle) datetime64[ns] 20...\n",
       "Attributes: (12/24)\n",
       "    CruiseID:                      DY1805\n",
       "    VesselName:                    R/V Oscar Dyson\n",
       "    WaterDepth:                    65\n",
       "    source_documents:              http://www.oceansites.org/docs/oceansites_...\n",
       "    institution:                   Pacific Marine Environmental Lab (PMEL)\n",
       "    project:                       EcoFOCI\n",
       "    ...                            ...\n",
       "    references:                    \n",
       "    citation:                      \n",
       "    acknowledgement:               \n",
       "    date_created:                  2021-04-20T11:28:58Z\n",
       "    date_modified:                 \n",
       "    QC_indicator:                  unknown"
      ],
      "text/html": "<div><svg style=\"position: absolute; width: 0; height: 0; overflow: hidden\">\n<defs>\n<symbol id=\"icon-database\" viewBox=\"0 0 32 32\">\n<path d=\"M16 0c-8.837 0-16 2.239-16 5v4c0 2.761 7.163 5 16 5s16-2.239 16-5v-4c0-2.761-7.163-5-16-5z\"></path>\n<path d=\"M16 17c-8.837 0-16-2.239-16-5v6c0 2.761 7.163 5 16 5s16-2.239 16-5v-6c0 2.761-7.163 5-16 5z\"></path>\n<path d=\"M16 26c-8.837 0-16-2.239-16-5v6c0 2.761 7.163 5 16 5s16-2.239 16-5v-6c0 2.761-7.163 5-16 5z\"></path>\n</symbol>\n<symbol id=\"icon-file-text2\" viewBox=\"0 0 32 32\">\n<path d=\"M28.681 7.159c-0.694-0.947-1.662-2.053-2.724-3.116s-2.169-2.030-3.116-2.724c-1.612-1.182-2.393-1.319-2.841-1.319h-15.5c-1.378 0-2.5 1.121-2.5 2.5v27c0 1.378 1.122 2.5 2.5 2.5h23c1.378 0 2.5-1.122 2.5-2.5v-19.5c0-0.448-0.137-1.23-1.319-2.841zM24.543 5.457c0.959 0.959 1.712 1.825 2.268 2.543h-4.811v-4.811c0.718 0.556 1.584 1.309 2.543 2.268zM28 29.5c0 0.271-0.229 0.5-0.5 0.5h-23c-0.271 0-0.5-0.229-0.5-0.5v-27c0-0.271 0.229-0.5 0.5-0.5 0 0 15.499-0 15.5 0v7c0 0.552 0.448 1 1 1h7v19.5z\"></path>\n<path d=\"M23 26h-14c-0.552 0-1-0.448-1-1s0.448-1 1-1h14c0.552 0 1 0.448 1 1s-0.448 1-1 1z\"></path>\n<path d=\"M23 22h-14c-0.552 0-1-0.448-1-1s0.448-1 1-1h14c0.552 0 1 0.448 1 1s-0.448 1-1 1z\"></path>\n<path d=\"M23 18h-14c-0.552 0-1-0.448-1-1s0.448-1 1-1h14c0.552 0 1 0.448 1 1s-0.448 1-1 1z\"></path>\n</symbol>\n</defs>\n</svg>\n<style>/* CSS stylesheet for displaying xarray objects in jupyterlab.\n *\n */\n\n:root {\n  --xr-font-color0: var(--jp-content-font-color0, rgba(0, 0, 0, 1));\n  --xr-font-color2: var(--jp-content-font-color2, rgba(0, 0, 0, 0.54));\n  --xr-font-color3: var(--jp-content-font-color3, rgba(0, 0, 0, 0.38));\n  --xr-border-color: var(--jp-border-color2, #e0e0e0);\n  --xr-disabled-color: var(--jp-layout-color3, #bdbdbd);\n  --xr-background-color: var(--jp-layout-color0, white);\n  --xr-background-color-row-even: var(--jp-layout-color1, white);\n  --xr-background-color-row-odd: var(--jp-layout-color2, #eeeeee);\n}\n\nhtml[theme=dark],\nbody.vscode-dark {\n  --xr-font-color0: rgba(255, 255, 255, 1);\n  --xr-font-color2: rgba(255, 255, 255, 0.54);\n  --xr-font-color3: rgba(255, 255, 255, 0.38);\n  --xr-border-color: #1F1F1F;\n  --xr-disabled-color: #515151;\n  --xr-background-color: #111111;\n  --xr-background-color-row-even: #111111;\n  --xr-background-color-row-odd: #313131;\n}\n\n.xr-wrap {\n  display: block;\n  min-width: 300px;\n  max-width: 700px;\n}\n\n.xr-text-repr-fallback {\n  /* fallback to plain text repr when CSS is not injected (untrusted notebook) */\n  display: none;\n}\n\n.xr-header {\n  padding-top: 6px;\n  padding-bottom: 6px;\n  margin-bottom: 4px;\n  border-bottom: solid 1px var(--xr-border-color);\n}\n\n.xr-header > div,\n.xr-header > ul {\n  display: inline;\n  margin-top: 0;\n  margin-bottom: 0;\n}\n\n.xr-obj-type,\n.xr-array-name {\n  margin-left: 2px;\n  margin-right: 10px;\n}\n\n.xr-obj-type {\n  color: var(--xr-font-color2);\n}\n\n.xr-sections {\n  padding-left: 0 !important;\n  display: grid;\n  grid-template-columns: 150px auto auto 1fr 20px 20px;\n}\n\n.xr-section-item {\n  display: contents;\n}\n\n.xr-section-item input {\n  display: none;\n}\n\n.xr-section-item input + label {\n  color: var(--xr-disabled-color);\n}\n\n.xr-section-item input:enabled + label {\n  cursor: pointer;\n  color: var(--xr-font-color2);\n}\n\n.xr-section-item input:enabled + label:hover {\n  color: var(--xr-font-color0);\n}\n\n.xr-section-summary {\n  grid-column: 1;\n  color: var(--xr-font-color2);\n  font-weight: 500;\n}\n\n.xr-section-summary > span {\n  display: inline-block;\n  padding-left: 0.5em;\n}\n\n.xr-section-summary-in:disabled + label {\n  color: var(--xr-font-color2);\n}\n\n.xr-section-summary-in + label:before {\n  display: inline-block;\n  content: '►';\n  font-size: 11px;\n  width: 15px;\n  text-align: center;\n}\n\n.xr-section-summary-in:disabled + label:before {\n  color: var(--xr-disabled-color);\n}\n\n.xr-section-summary-in:checked + label:before {\n  content: '▼';\n}\n\n.xr-section-summary-in:checked + label > span {\n  display: none;\n}\n\n.xr-section-summary,\n.xr-section-inline-details {\n  padding-top: 4px;\n  padding-bottom: 4px;\n}\n\n.xr-section-inline-details {\n  grid-column: 2 / -1;\n}\n\n.xr-section-details {\n  display: none;\n  grid-column: 1 / -1;\n  margin-bottom: 5px;\n}\n\n.xr-section-summary-in:checked ~ .xr-section-details {\n  display: contents;\n}\n\n.xr-array-wrap {\n  grid-column: 1 / -1;\n  display: grid;\n  grid-template-columns: 20px auto;\n}\n\n.xr-array-wrap > label {\n  grid-column: 1;\n  vertical-align: top;\n}\n\n.xr-preview {\n  color: var(--xr-font-color3);\n}\n\n.xr-array-preview,\n.xr-array-data {\n  padding: 0 5px !important;\n  grid-column: 2;\n}\n\n.xr-array-data,\n.xr-array-in:checked ~ .xr-array-preview {\n  display: none;\n}\n\n.xr-array-in:checked ~ .xr-array-data,\n.xr-array-preview {\n  display: inline-block;\n}\n\n.xr-dim-list {\n  display: inline-block !important;\n  list-style: none;\n  padding: 0 !important;\n  margin: 0;\n}\n\n.xr-dim-list li {\n  display: inline-block;\n  padding: 0;\n  margin: 0;\n}\n\n.xr-dim-list:before {\n  content: '(';\n}\n\n.xr-dim-list:after {\n  content: ')';\n}\n\n.xr-dim-list li:not(:last-child):after {\n  content: ',';\n  padding-right: 5px;\n}\n\n.xr-has-index {\n  font-weight: bold;\n}\n\n.xr-var-list,\n.xr-var-item {\n  display: contents;\n}\n\n.xr-var-item > div,\n.xr-var-item label,\n.xr-var-item > .xr-var-name span {\n  background-color: var(--xr-background-color-row-even);\n  margin-bottom: 0;\n}\n\n.xr-var-item > .xr-var-name:hover span {\n  padding-right: 5px;\n}\n\n.xr-var-list > li:nth-child(odd) > div,\n.xr-var-list > li:nth-child(odd) > label,\n.xr-var-list > li:nth-child(odd) > .xr-var-name span {\n  background-color: var(--xr-background-color-row-odd);\n}\n\n.xr-var-name {\n  grid-column: 1;\n}\n\n.xr-var-dims {\n  grid-column: 2;\n}\n\n.xr-var-dtype {\n  grid-column: 3;\n  text-align: right;\n  color: var(--xr-font-color2);\n}\n\n.xr-var-preview {\n  grid-column: 4;\n}\n\n.xr-var-name,\n.xr-var-dims,\n.xr-var-dtype,\n.xr-preview,\n.xr-attrs dt {\n  white-space: nowrap;\n  overflow: hidden;\n  text-overflow: ellipsis;\n  padding-right: 10px;\n}\n\n.xr-var-name:hover,\n.xr-var-dims:hover,\n.xr-var-dtype:hover,\n.xr-attrs dt:hover {\n  overflow: visible;\n  width: auto;\n  z-index: 1;\n}\n\n.xr-var-attrs,\n.xr-var-data {\n  display: none;\n  background-color: var(--xr-background-color) !important;\n  padding-bottom: 5px !important;\n}\n\n.xr-var-attrs-in:checked ~ .xr-var-attrs,\n.xr-var-data-in:checked ~ .xr-var-data {\n  display: block;\n}\n\n.xr-var-data > table {\n  float: right;\n}\n\n.xr-var-name span,\n.xr-var-data,\n.xr-attrs {\n  padding-left: 25px !important;\n}\n\n.xr-attrs,\n.xr-var-attrs,\n.xr-var-data {\n  grid-column: 1 / -1;\n}\n\ndl.xr-attrs {\n  padding: 0;\n  margin: 0;\n  display: grid;\n  grid-template-columns: 125px auto;\n}\n\n.xr-attrs dt,\n.xr-attrs dd {\n  padding: 0;\n  margin: 0;\n  float: left;\n  padding-right: 10px;\n  width: auto;\n}\n\n.xr-attrs dt {\n  font-weight: normal;\n  grid-column: 1;\n}\n\n.xr-attrs dt:hover span {\n  display: inline-block;\n  background: var(--xr-background-color);\n  padding-right: 10px;\n}\n\n.xr-attrs dd {\n  grid-column: 2;\n  white-space: pre-wrap;\n  word-break: break-all;\n}\n\n.xr-icon-database,\n.xr-icon-file-text2 {\n  display: inline-block;\n  vertical-align: middle;\n  width: 1em;\n  height: 1.5em !important;\n  stroke-width: 0;\n  stroke: currentColor;\n  fill: currentColor;\n}\n</style><pre class='xr-text-repr-fallback'>&lt;xarray.Dataset&gt;\nDimensions:             (bottle: 10, latitude: 1, longitude: 1, time: 1)\nCoordinates:\n  * bottle              (bottle) float64 1.0 2.0 3.0 4.0 ... 8.0 9.0 10.0 11.0\nDimensions without coordinates: latitude, longitude, time\nData variables: (12/17)\n    oxy_concM_ch1       (latitude, longitude, time, bottle) float64 7.62 ... ...\n    oxy_percentsat_ch1  (latitude, longitude, time, bottle) float64 102.1 ......\n    oxy_conc_ch1        (latitude, longitude, time, bottle) float64 331.9 ......\n    oxy_concM_ch2       (latitude, longitude, time, bottle) float64 7.279 ......\n    oxy_percentsat_ch2  (latitude, longitude, time, bottle) float64 97.57 ......\n    oxy_conc_ch2        (latitude, longitude, time, bottle) float64 317.0 ......\n    ...                  ...\n    temperature_ch1     (latitude, longitude, time, bottle) float64 3.609 ......\n    temperature_ch2     (latitude, longitude, time, bottle) float64 3.61 ... ...\n    turbidity           (latitude, longitude, time, bottle) float64 1.585 ......\n    depth               (latitude, longitude, time, bottle) float64 65.42 ......\n    scan                (latitude, longitude, time, bottle) float64 1.269e+04...\n    datetime            (latitude, longitude, time, bottle) datetime64[ns] 20...\nAttributes: (12/24)\n    CruiseID:                      DY1805\n    VesselName:                    R/V Oscar Dyson\n    WaterDepth:                    65\n    source_documents:              http://www.oceansites.org/docs/oceansites_...\n    institution:                   Pacific Marine Environmental Lab (PMEL)\n    project:                       EcoFOCI\n    ...                            ...\n    references:                    \n    citation:                      \n    acknowledgement:               \n    date_created:                  2021-04-20T11:28:58Z\n    date_modified:                 \n    QC_indicator:                  unknown</pre><div class='xr-wrap' hidden><div class='xr-header'><div class='xr-obj-type'>xarray.Dataset</div></div><ul class='xr-sections'><li class='xr-section-item'><input id='section-276ca35a-1fda-4728-8d29-8cf00f7100d9' class='xr-section-summary-in' type='checkbox' disabled ><label for='section-276ca35a-1fda-4728-8d29-8cf00f7100d9' class='xr-section-summary'  title='Expand/collapse section'>Dimensions:</label><div class='xr-section-inline-details'><ul class='xr-dim-list'><li><span class='xr-has-index'>bottle</span>: 10</li><li><span>latitude</span>: 1</li><li><span>longitude</span>: 1</li><li><span>time</span>: 1</li></ul></div><div class='xr-section-details'></div></li><li class='xr-section-item'><input id='section-ba55f22e-7ee1-48de-9b02-118886872bee' class='xr-section-summary-in' type='checkbox'  checked><label for='section-ba55f22e-7ee1-48de-9b02-118886872bee' class='xr-section-summary' >Coordinates: <span>(1)</span></label><div class='xr-section-inline-details'></div><div class='xr-section-details'><ul class='xr-var-list'><li class='xr-var-item'><div class='xr-var-name'><span class='xr-has-index'>bottle</span></div><div class='xr-var-dims'>(bottle)</div><div class='xr-var-dtype'>float64</div><div class='xr-var-preview xr-preview'>1.0 2.0 3.0 4.0 ... 9.0 10.0 11.0</div><input id='attrs-31cef874-fc6a-454e-8839-3cc3a16913d7' class='xr-var-attrs-in' type='checkbox' disabled><label for='attrs-31cef874-fc6a-454e-8839-3cc3a16913d7' title='Show/Hide attributes'><svg class='icon xr-icon-file-text2'><use xlink:href='#icon-file-text2'></use></svg></label><input id='data-5b2602d0-580e-43c8-9e82-b12316254c80' class='xr-var-data-in' type='checkbox'><label for='data-5b2602d0-580e-43c8-9e82-b12316254c80' title='Show/Hide data repr'><svg class='icon xr-icon-database'><use xlink:href='#icon-database'></use></svg></label><div class='xr-var-attrs'><dl class='xr-attrs'></dl></div><div class='xr-var-data'><pre>array([ 1.,  2.,  3.,  4.,  6.,  7.,  8.,  9., 10., 11.])</pre></div></li></ul></div></li><li class='xr-section-item'><input id='section-bd557440-f181-4e82-a34d-ff58e6e032b7' class='xr-section-summary-in' type='checkbox'  ><label for='section-bd557440-f181-4e82-a34d-ff58e6e032b7' class='xr-section-summary' >Data variables: <span>(17)</span></label><div class='xr-section-inline-details'></div><div class='xr-section-details'><ul class='xr-var-list'><li class='xr-var-item'><div class='xr-var-name'><span>oxy_concM_ch1</span></div><div class='xr-var-dims'>(latitude, longitude, time, bottle)</div><div class='xr-var-dtype'>float64</div><div class='xr-var-preview xr-preview'>7.62 7.021 7.312 ... 7.327 7.325</div><input id='attrs-6494fecf-ba90-4212-b22c-0cef2fba594f' class='xr-var-attrs-in' type='checkbox' ><label for='attrs-6494fecf-ba90-4212-b22c-0cef2fba594f' title='Show/Hide attributes'><svg class='icon xr-icon-file-text2'><use xlink:href='#icon-file-text2'></use></svg></label><input id='data-6943a31e-48c1-4cf2-b700-7c088c88affa' class='xr-var-data-in' type='checkbox'><label for='data-6943a31e-48c1-4cf2-b700-7c088c88affa' title='Show/Hide data repr'><svg class='icon xr-icon-database'><use xlink:href='#icon-database'></use></svg></label><div class='xr-var-attrs'><dl class='xr-attrs'><dt><span>generic_name :</span></dt><dd>oxy_concM channel 1</dd><dt><span>epic_key :</span></dt><dd>O_65</dd><dt><span>long_name :</span></dt><dd>concentration of oxygen in seawater</dd><dt><span>standard_name :</span></dt><dd>mole_concentration_of_dissolved_molecular_oxygen_in_sea_water</dd><dt><span>units :</span></dt><dd>ml/l</dd></dl></div><div class='xr-var-data'><pre>array([[[[7.6205, 7.0205, 7.312 , 7.3196, 7.3231, 7.3226, 7.322 ,\n          7.3382, 7.3275, 7.325 ]]]])</pre></div></li><li class='xr-var-item'><div class='xr-var-name'><span>oxy_percentsat_ch1</span></div><div class='xr-var-dims'>(latitude, longitude, time, bottle)</div><div class='xr-var-dtype'>float64</div><div class='xr-var-preview xr-preview'>102.1 94.1 98.01 ... 98.24 98.23</div><input id='attrs-f24c5544-6e29-4c37-91d3-6a978c30fd61' class='xr-var-attrs-in' type='checkbox' ><label for='attrs-f24c5544-6e29-4c37-91d3-6a978c30fd61' title='Show/Hide attributes'><svg class='icon xr-icon-file-text2'><use xlink:href='#icon-file-text2'></use></svg></label><input id='data-8231c17b-e821-4216-b643-090b592badff' class='xr-var-data-in' type='checkbox'><label for='data-8231c17b-e821-4216-b643-090b592badff' title='Show/Hide data repr'><svg class='icon xr-icon-database'><use xlink:href='#icon-database'></use></svg></label><div class='xr-var-attrs'><dl class='xr-attrs'><dt><span>generic_name :</span></dt><dd>oxy_psat channel 1</dd><dt><span>epic_key :</span></dt><dd>OST_62</dd><dt><span>units :</span></dt><dd>percent</dd><dt><span>long_name :</span></dt><dd>Percent Saturation of oxygen over air</dd><dt><span>standard_name :</span></dt><dd>fractional_saturation_of_oxygen_in_sea_water</dd></dl></div><div class='xr-var-data'><pre>array([[[[102.145,  94.102,  98.01 ,  98.111,  98.163,  98.156,\n           98.148,  98.416,  98.239,  98.226]]]])</pre></div></li><li class='xr-var-item'><div class='xr-var-name'><span>oxy_conc_ch1</span></div><div class='xr-var-dims'>(latitude, longitude, time, bottle)</div><div class='xr-var-dtype'>float64</div><div class='xr-var-preview xr-preview'>331.9 305.7 318.4 ... 319.1 319.0</div><input id='attrs-3d751cb2-767c-449b-a599-eef365e60d01' class='xr-var-attrs-in' type='checkbox' ><label for='attrs-3d751cb2-767c-449b-a599-eef365e60d01' title='Show/Hide attributes'><svg class='icon xr-icon-file-text2'><use xlink:href='#icon-file-text2'></use></svg></label><input id='data-543eae51-d19d-42df-96f3-7e7c9addd0dd' class='xr-var-data-in' type='checkbox'><label for='data-543eae51-d19d-42df-96f3-7e7c9addd0dd' title='Show/Hide data repr'><svg class='icon xr-icon-database'><use xlink:href='#icon-database'></use></svg></label><div class='xr-var-attrs'><dl class='xr-attrs'><dt><span>generic_name :</span></dt><dd>oxy_conc channel 1</dd><dt><span>epic_key :</span></dt><dd>O_65</dd><dt><span>long_name :</span></dt><dd>concentration of oxygen in seawater</dd><dt><span>standard_name :</span></dt><dd>mole_concentration_of_dissolved_molecular_oxygen_in_sea_water</dd><dt><span>units :</span></dt><dd>micromole/kg</dd></dl></div><div class='xr-var-data'><pre>array([[[[331.874, 305.743, 318.437, 318.769, 318.922, 318.898,\n          318.871, 319.581, 319.114, 319.003]]]])</pre></div></li><li class='xr-var-item'><div class='xr-var-name'><span>oxy_concM_ch2</span></div><div class='xr-var-dims'>(latitude, longitude, time, bottle)</div><div class='xr-var-dtype'>float64</div><div class='xr-var-preview xr-preview'>7.279 7.287 7.302 ... 7.321 7.313</div><input id='attrs-a5b1f58e-fbf0-40e2-85e8-e656dc93d3cc' class='xr-var-attrs-in' type='checkbox' ><label for='attrs-a5b1f58e-fbf0-40e2-85e8-e656dc93d3cc' title='Show/Hide attributes'><svg class='icon xr-icon-file-text2'><use xlink:href='#icon-file-text2'></use></svg></label><input id='data-9b8dc16d-d969-4797-8246-288fb6a5515b' class='xr-var-data-in' type='checkbox'><label for='data-9b8dc16d-d969-4797-8246-288fb6a5515b' title='Show/Hide data repr'><svg class='icon xr-icon-database'><use xlink:href='#icon-database'></use></svg></label><div class='xr-var-attrs'><dl class='xr-attrs'><dt><span>generic_name :</span></dt><dd>oxy_concM channel 2</dd><dt><span>epic_key :</span></dt><dd>O_2060</dd><dt><span>long_name :</span></dt><dd>concentration of oxygen in seawater</dd><dt><span>standard_name :</span></dt><dd>mole_concentration_of_dissolved_molecular_oxygen_in_sea_water</dd><dt><span>units :</span></dt><dd>ml/l</dd></dl></div><div class='xr-var-data'><pre>array([[[[7.2792, 7.2871, 7.3021, 7.315 , 7.3037, 7.3181, 7.3186,\n          7.3214, 7.3209, 7.3126]]]])</pre></div></li><li class='xr-var-item'><div class='xr-var-name'><span>oxy_percentsat_ch2</span></div><div class='xr-var-dims'>(latitude, longitude, time, bottle)</div><div class='xr-var-dtype'>float64</div><div class='xr-var-preview xr-preview'>97.57 97.67 97.88 ... 98.15 98.06</div><input id='attrs-b2502417-84d9-4292-8a13-655598e50b5c' class='xr-var-attrs-in' type='checkbox' ><label for='attrs-b2502417-84d9-4292-8a13-655598e50b5c' title='Show/Hide attributes'><svg class='icon xr-icon-file-text2'><use xlink:href='#icon-file-text2'></use></svg></label><input id='data-e6a4f903-dbbe-4606-8c51-cf0632dc99af' class='xr-var-data-in' type='checkbox'><label for='data-e6a4f903-dbbe-4606-8c51-cf0632dc99af' title='Show/Hide data repr'><svg class='icon xr-icon-database'><use xlink:href='#icon-database'></use></svg></label><div class='xr-var-attrs'><dl class='xr-attrs'><dt><span>generic_name :</span></dt><dd>oxy_psat channel 2</dd><dt><span>epic_key :</span></dt><dd>CTDOST_4220</dd><dt><span>units :</span></dt><dd>percent</dd><dt><span>long_name :</span></dt><dd>Percent Saturation of oxygen over air</dd><dt><span>standard_name :</span></dt><dd>fractional_saturation_of_oxygen_in_sea_water</dd></dl></div><div class='xr-var-data'><pre>array([[[[97.57 , 97.675, 97.878, 98.049, 97.903, 98.095, 98.103,\n          98.191, 98.15 , 98.06 ]]]])</pre></div></li><li class='xr-var-item'><div class='xr-var-name'><span>oxy_conc_ch2</span></div><div class='xr-var-dims'>(latitude, longitude, time, bottle)</div><div class='xr-var-dtype'>float64</div><div class='xr-var-preview xr-preview'>317.0 317.4 318.0 ... 318.8 318.5</div><input id='attrs-882c6917-97c3-4542-8ffc-4873d0120b11' class='xr-var-attrs-in' type='checkbox' ><label for='attrs-882c6917-97c3-4542-8ffc-4873d0120b11' title='Show/Hide attributes'><svg class='icon xr-icon-file-text2'><use xlink:href='#icon-file-text2'></use></svg></label><input id='data-093910e1-9102-4989-ba00-e0b1bbb6e081' class='xr-var-data-in' type='checkbox'><label for='data-093910e1-9102-4989-ba00-e0b1bbb6e081' title='Show/Hide data repr'><svg class='icon xr-icon-database'><use xlink:href='#icon-database'></use></svg></label><div class='xr-var-attrs'><dl class='xr-attrs'><dt><span>generic_name :</span></dt><dd>oxy_conc channel 2</dd><dt><span>epic_key :</span></dt><dd>CTDOXY_4221</dd><dt><span>long_name :</span></dt><dd>concentration of oxygen in seawater</dd><dt><span>standard_name :</span></dt><dd>mole_concentration_of_dissolved_molecular_oxygen_in_sea_water</dd><dt><span>units :</span></dt><dd>micromole/kg</dd></dl></div><div class='xr-var-data'><pre>array([[[[317.009, 317.35 , 318.007, 318.567, 318.078, 318.701,\n          318.725, 318.848, 318.824, 318.466]]]])</pre></div></li><li class='xr-var-item'><div class='xr-var-name'><span>salinity_ch1</span></div><div class='xr-var-dims'>(latitude, longitude, time, bottle)</div><div class='xr-var-dtype'>float64</div><div class='xr-var-preview xr-preview'>32.07 32.07 32.07 ... 32.07 32.07</div><input id='attrs-7393877f-2bce-4383-ae19-2be3c5836aa1' class='xr-var-attrs-in' type='checkbox' ><label for='attrs-7393877f-2bce-4383-ae19-2be3c5836aa1' title='Show/Hide attributes'><svg class='icon xr-icon-file-text2'><use xlink:href='#icon-file-text2'></use></svg></label><input id='data-84362a01-a9a2-43ce-949c-1e9e734d6567' class='xr-var-data-in' type='checkbox'><label for='data-84362a01-a9a2-43ce-949c-1e9e734d6567' title='Show/Hide data repr'><svg class='icon xr-icon-database'><use xlink:href='#icon-database'></use></svg></label><div class='xr-var-attrs'><dl class='xr-attrs'><dt><span>epic_key :</span></dt><dd>S_41</dd><dt><span>generic_name :</span></dt><dd>psal channel 1</dd><dt><span>units :</span></dt><dd>PSU</dd><dt><span>long_name :</span></dt><dd>Practical salinity in-situ PSS-78 scale</dd><dt><span>standard_name :</span></dt><dd>sea_water_practical_salinity</dd></dl></div><div class='xr-var-data'><pre>array([[[[32.0659, 32.0659, 32.066 , 32.0659, 32.0658, 32.066 ,\n          32.0658, 32.0658, 32.0658, 32.0659]]]])</pre></div></li><li class='xr-var-item'><div class='xr-var-name'><span>salinity_ch2</span></div><div class='xr-var-dims'>(latitude, longitude, time, bottle)</div><div class='xr-var-dtype'>float64</div><div class='xr-var-preview xr-preview'>32.07 32.07 32.07 ... 32.07 32.07</div><input id='attrs-f6df1f85-7ba4-47f4-92f5-040ec9fcbf77' class='xr-var-attrs-in' type='checkbox' ><label for='attrs-f6df1f85-7ba4-47f4-92f5-040ec9fcbf77' title='Show/Hide attributes'><svg class='icon xr-icon-file-text2'><use xlink:href='#icon-file-text2'></use></svg></label><input id='data-31aa6cae-47ad-4b69-a56c-561fc3c36a97' class='xr-var-data-in' type='checkbox'><label for='data-31aa6cae-47ad-4b69-a56c-561fc3c36a97' title='Show/Hide data repr'><svg class='icon xr-icon-database'><use xlink:href='#icon-database'></use></svg></label><div class='xr-var-attrs'><dl class='xr-attrs'><dt><span>epic_key :</span></dt><dd>S_42</dd><dt><span>generic_name :</span></dt><dd>psal channel 2</dd><dt><span>units :</span></dt><dd>PSU</dd><dt><span>long_name :</span></dt><dd>Practical salinity in-situ PSS-78 scale</dd><dt><span>standard_name :</span></dt><dd>sea_water_practical_salinity</dd></dl></div><div class='xr-var-data'><pre>array([[[[32.0682, 32.0681, 32.0682, 32.0682, 32.0681, 32.0683,\n          32.0681, 32.0681, 32.0679, 32.0681]]]])</pre></div></li><li class='xr-var-item'><div class='xr-var-name'><span>sigma_t_ch1</span></div><div class='xr-var-dims'>(latitude, longitude, time, bottle)</div><div class='xr-var-dtype'>float64</div><div class='xr-var-preview xr-preview'>25.49 25.49 25.49 ... 25.49 25.49</div><input id='attrs-adfa128b-1f23-444f-a25a-be3fc7280316' class='xr-var-attrs-in' type='checkbox' disabled><label for='attrs-adfa128b-1f23-444f-a25a-be3fc7280316' title='Show/Hide attributes'><svg class='icon xr-icon-file-text2'><use xlink:href='#icon-file-text2'></use></svg></label><input id='data-c36114d3-bbec-4732-8dfe-e422abc9226d' class='xr-var-data-in' type='checkbox'><label for='data-c36114d3-bbec-4732-8dfe-e422abc9226d' title='Show/Hide data repr'><svg class='icon xr-icon-database'><use xlink:href='#icon-database'></use></svg></label><div class='xr-var-attrs'><dl class='xr-attrs'></dl></div><div class='xr-var-data'><pre>array([[[[25.4897, 25.4896, 25.4897, 25.4897, 25.4894, 25.4895,\n          25.4894, 25.4874, 25.4888, 25.488 ]]]])</pre></div></li><li class='xr-var-item'><div class='xr-var-name'><span>sigma_t_ch2</span></div><div class='xr-var-dims'>(latitude, longitude, time, bottle)</div><div class='xr-var-dtype'>float64</div><div class='xr-var-preview xr-preview'>25.49 25.49 25.49 ... 25.49 25.49</div><input id='attrs-d79864da-c615-41e6-8860-7bd804482ca2' class='xr-var-attrs-in' type='checkbox' disabled><label for='attrs-d79864da-c615-41e6-8860-7bd804482ca2' title='Show/Hide attributes'><svg class='icon xr-icon-file-text2'><use xlink:href='#icon-file-text2'></use></svg></label><input id='data-7be2cb78-05b6-4c37-a0da-b5860924977e' class='xr-var-data-in' type='checkbox'><label for='data-7be2cb78-05b6-4c37-a0da-b5860924977e' title='Show/Hide data repr'><svg class='icon xr-icon-database'><use xlink:href='#icon-database'></use></svg></label><div class='xr-var-attrs'><dl class='xr-attrs'></dl></div><div class='xr-var-data'><pre>array([[[[25.4915, 25.4914, 25.4914, 25.4915, 25.4912, 25.4914,\n          25.4912, 25.4893, 25.4903, 25.4897]]]])</pre></div></li><li class='xr-var-item'><div class='xr-var-name'><span>chlor_fluorescence</span></div><div class='xr-var-dims'>(latitude, longitude, time, bottle)</div><div class='xr-var-dtype'>float64</div><div class='xr-var-preview xr-preview'>0.8234 0.8635 ... 0.7043 0.5261</div><input id='attrs-26437c61-ffc6-4d78-ad05-90e3a512f27f' class='xr-var-attrs-in' type='checkbox' ><label for='attrs-26437c61-ffc6-4d78-ad05-90e3a512f27f' title='Show/Hide attributes'><svg class='icon xr-icon-file-text2'><use xlink:href='#icon-file-text2'></use></svg></label><input id='data-a539d4ad-e9d3-4aa4-90a5-b49b06a866a5' class='xr-var-data-in' type='checkbox'><label for='data-a539d4ad-e9d3-4aa4-90a5-b49b06a866a5' title='Show/Hide data repr'><svg class='icon xr-icon-database'><use xlink:href='#icon-database'></use></svg></label><div class='xr-var-attrs'><dl class='xr-attrs'><dt><span>epic_key :</span></dt><dd>F_903</dd><dt><span>generic_name :</span></dt><dd>chlor_fluorescence</dd><dt><span>long_name :</span></dt><dd>Mass Concdentration of chlorophyll from chlorophyll fluorescence</dd><dt><span>standard_name :</span></dt><dd>mass_concentration_of_chlorophyll_in_sea_water</dd><dt><span>units :</span></dt><dd>ugrams/l</dd></dl></div><div class='xr-var-data'><pre>array([[[[0.8234, 0.8635, 0.8571, 0.8371, 0.8379, 0.8962, 0.9022,\n          0.7728, 0.7043, 0.5261]]]])</pre></div></li><li class='xr-var-item'><div class='xr-var-name'><span>temperature_ch1</span></div><div class='xr-var-dims'>(latitude, longitude, time, bottle)</div><div class='xr-var-dtype'>float64</div><div class='xr-var-preview xr-preview'>3.609 3.609 3.61 ... 3.618 3.627</div><input id='attrs-2443bd3b-7460-4201-a047-3574eb1c2bd9' class='xr-var-attrs-in' type='checkbox' ><label for='attrs-2443bd3b-7460-4201-a047-3574eb1c2bd9' title='Show/Hide attributes'><svg class='icon xr-icon-file-text2'><use xlink:href='#icon-file-text2'></use></svg></label><input id='data-c6a46be2-0420-492a-9bf2-7c9f2c7649fa' class='xr-var-data-in' type='checkbox'><label for='data-c6a46be2-0420-492a-9bf2-7c9f2c7649fa' title='Show/Hide data repr'><svg class='icon xr-icon-database'><use xlink:href='#icon-database'></use></svg></label><div class='xr-var-attrs'><dl class='xr-attrs'><dt><span>epic_key :</span></dt><dd>T_28</dd><dt><span>generic_name :</span></dt><dd>temp channel 1</dd><dt><span>long_name :</span></dt><dd>Sea temperature in-situ ITS-90 scale</dd><dt><span>standard_name :</span></dt><dd>sea_water_temperature</dd><dt><span>units :</span></dt><dd>degree_C</dd></dl></div><div class='xr-var-data'><pre>array([[[[3.6092, 3.6092, 3.6097, 3.6091, 3.6111, 3.6112, 3.6114,\n          3.6322, 3.6183, 3.6269]]]])</pre></div></li><li class='xr-var-item'><div class='xr-var-name'><span>temperature_ch2</span></div><div class='xr-var-dims'>(latitude, longitude, time, bottle)</div><div class='xr-var-dtype'>float64</div><div class='xr-var-preview xr-preview'>3.61 3.61 3.61 ... 3.632 3.62 3.627</div><input id='attrs-2dba2b5c-9b13-4be9-be3d-29804c8c9053' class='xr-var-attrs-in' type='checkbox' ><label for='attrs-2dba2b5c-9b13-4be9-be3d-29804c8c9053' title='Show/Hide attributes'><svg class='icon xr-icon-file-text2'><use xlink:href='#icon-file-text2'></use></svg></label><input id='data-47e6c8f2-c746-46ea-b6c1-470265439310' class='xr-var-data-in' type='checkbox'><label for='data-47e6c8f2-c746-46ea-b6c1-470265439310' title='Show/Hide data repr'><svg class='icon xr-icon-database'><use xlink:href='#icon-database'></use></svg></label><div class='xr-var-attrs'><dl class='xr-attrs'><dt><span>epic_key :</span></dt><dd>T2_35</dd><dt><span>generic_name :</span></dt><dd>temp channel 2</dd><dt><span>long_name :</span></dt><dd>Sea temperature in-situ ITS-90 scale</dd><dt><span>standard_name :</span></dt><dd>sea_water_temperature</dd><dt><span>units :</span></dt><dd>degree_C</dd></dl></div><div class='xr-var-data'><pre>array([[[[3.6095, 3.6095, 3.61  , 3.6094, 3.6116, 3.6114, 3.612 ,\n          3.6321, 3.6204, 3.6274]]]])</pre></div></li><li class='xr-var-item'><div class='xr-var-name'><span>turbidity</span></div><div class='xr-var-dims'>(latitude, longitude, time, bottle)</div><div class='xr-var-dtype'>float64</div><div class='xr-var-preview xr-preview'>1.585 1.514 ... 0.6597 0.7356</div><input id='attrs-8d2d5750-6e4c-42d3-bd45-2d3a0f770d14' class='xr-var-attrs-in' type='checkbox' disabled><label for='attrs-8d2d5750-6e4c-42d3-bd45-2d3a0f770d14' title='Show/Hide attributes'><svg class='icon xr-icon-file-text2'><use xlink:href='#icon-file-text2'></use></svg></label><input id='data-69ad874b-5c81-4734-8a00-fe169015d6fb' class='xr-var-data-in' type='checkbox'><label for='data-69ad874b-5c81-4734-8a00-fe169015d6fb' title='Show/Hide data repr'><svg class='icon xr-icon-database'><use xlink:href='#icon-database'></use></svg></label><div class='xr-var-attrs'><dl class='xr-attrs'></dl></div><div class='xr-var-data'><pre>array([[[[1.5855, 1.5143, 0.9707, 0.7907, 0.6895, 0.763 , 0.6728,\n          0.6659, 0.6597, 0.7356]]]])</pre></div></li><li class='xr-var-item'><div class='xr-var-name'><span>depth</span></div><div class='xr-var-dims'>(latitude, longitude, time, bottle)</div><div class='xr-var-dtype'>float64</div><div class='xr-var-preview xr-preview'>65.42 65.16 51.24 ... 9.09 3.948</div><input id='attrs-83063d68-57ad-4d99-a16a-0f42c02d6897' class='xr-var-attrs-in' type='checkbox' ><label for='attrs-83063d68-57ad-4d99-a16a-0f42c02d6897' title='Show/Hide attributes'><svg class='icon xr-icon-file-text2'><use xlink:href='#icon-file-text2'></use></svg></label><input id='data-2c0f742d-ff38-4534-b684-b54ea19deb3d' class='xr-var-data-in' type='checkbox'><label for='data-2c0f742d-ff38-4534-b684-b54ea19deb3d' title='Show/Hide data repr'><svg class='icon xr-icon-database'><use xlink:href='#icon-database'></use></svg></label><div class='xr-var-attrs'><dl class='xr-attrs'><dt><span>epic_key :</span></dt><dd>D_3</dd><dt><span>generic_name :</span></dt><dd>depth</dd><dt><span>units :</span></dt><dd>meter</dd><dt><span>long_name :</span></dt><dd>depth below surface (meters)</dd><dt><span>standard_name :</span></dt><dd>depth</dd></dl></div><div class='xr-var-data'><pre>array([[[[65.415, 65.161, 51.241, 42.043, 29.727, 27.823, 26.557,\n          14.254,  9.09 ,  3.948]]]])</pre></div></li><li class='xr-var-item'><div class='xr-var-name'><span>scan</span></div><div class='xr-var-dims'>(latitude, longitude, time, bottle)</div><div class='xr-var-dtype'>float64</div><div class='xr-var-preview xr-preview'>1.269e+04 1.286e+04 ... 3.597e+04</div><input id='attrs-19fbfc97-a9be-4017-b41e-69d4495c1bab' class='xr-var-attrs-in' type='checkbox' disabled><label for='attrs-19fbfc97-a9be-4017-b41e-69d4495c1bab' title='Show/Hide attributes'><svg class='icon xr-icon-file-text2'><use xlink:href='#icon-file-text2'></use></svg></label><input id='data-35a7246e-7263-4d75-94af-cafbab46d2e7' class='xr-var-data-in' type='checkbox'><label for='data-35a7246e-7263-4d75-94af-cafbab46d2e7' title='Show/Hide data repr'><svg class='icon xr-icon-database'><use xlink:href='#icon-database'></use></svg></label><div class='xr-var-attrs'><dl class='xr-attrs'></dl></div><div class='xr-var-data'><pre>array([[[[12686., 12857., 17600., 21312., 24809., 27479., 27680.,\n          30461., 33210., 35967.]]]])</pre></div></li><li class='xr-var-item'><div class='xr-var-name'><span>datetime</span></div><div class='xr-var-dims'>(latitude, longitude, time, bottle)</div><div class='xr-var-dtype'>datetime64[ns]</div><div class='xr-var-preview xr-preview'>2018-04-30T19:20:40 ... 2018-04-...</div><input id='attrs-9b4fe980-eeb6-4de1-ba15-9208f407a351' class='xr-var-attrs-in' type='checkbox' disabled><label for='attrs-9b4fe980-eeb6-4de1-ba15-9208f407a351' title='Show/Hide attributes'><svg class='icon xr-icon-file-text2'><use xlink:href='#icon-file-text2'></use></svg></label><input id='data-40658103-5534-46bf-a582-aadeddcfe34a' class='xr-var-data-in' type='checkbox'><label for='data-40658103-5534-46bf-a582-aadeddcfe34a' title='Show/Hide data repr'><svg class='icon xr-icon-database'><use xlink:href='#icon-database'></use></svg></label><div class='xr-var-attrs'><dl class='xr-attrs'></dl></div><div class='xr-var-data'><pre>array([[[[&#x27;2018-04-30T19:20:40.000000000&#x27;,\n          &#x27;2018-04-30T19:20:47.000000000&#x27;,\n          &#x27;2018-04-30T19:24:05.000000000&#x27;,\n          &#x27;2018-04-30T19:26:40.000000000&#x27;,\n          &#x27;2018-04-30T19:29:05.000000000&#x27;,\n          &#x27;2018-04-30T19:30:57.000000000&#x27;,\n          &#x27;2018-04-30T19:31:05.000000000&#x27;,\n          &#x27;2018-04-30T19:33:01.000000000&#x27;,\n          &#x27;2018-04-30T19:34:55.000000000&#x27;,\n          &#x27;2018-04-30T19:36:50.000000000&#x27;]]]], dtype=&#x27;datetime64[ns]&#x27;)</pre></div></li></ul></div></li><li class='xr-section-item'><input id='section-7324428c-9536-4852-bf6f-fff4dc86ed9b' class='xr-section-summary-in' type='checkbox'  ><label for='section-7324428c-9536-4852-bf6f-fff4dc86ed9b' class='xr-section-summary' >Attributes: <span>(24)</span></label><div class='xr-section-inline-details'></div><div class='xr-section-details'><dl class='xr-attrs'><dt><span>CruiseID :</span></dt><dd>DY1805</dd><dt><span>VesselName :</span></dt><dd>R/V Oscar Dyson</dd><dt><span>WaterDepth :</span></dt><dd>65</dd><dt><span>source_documents :</span></dt><dd>http://www.oceansites.org/docs/oceansites_data_format_reference_manual.pdf</dd><dt><span>institution :</span></dt><dd>Pacific Marine Environmental Lab (PMEL)</dd><dt><span>project :</span></dt><dd>EcoFOCI</dd><dt><span>project_url :</span></dt><dd>https://www.ecofoci.noaa.gov</dd><dt><span>principal_investigator :</span></dt><dd>Phyllis Stabeno</dd><dt><span>principal_investigator_email :</span></dt><dd>phyllis.stabeno (at) noaa.gov</dd><dt><span>creator_name :</span></dt><dd>Shaun Bell</dd><dt><span>creator_email :</span></dt><dd>shaun.bell (at) noaa.gov</dd><dt><span>creator_institution :</span></dt><dd>PMEL</dd><dt><span>keywords :</span></dt><dd>Mooring, Oceanographic</dd><dt><span>comment :</span></dt><dd>Provisional data</dd><dt><span>sea_area :</span></dt><dd>Bering Sea (BS)</dd><dt><span>featureType :</span></dt><dd>timeSeries</dd><dt><span>conventions :</span></dt><dd>”CF-1.6, ~OceanSITES-1.5, ACDD-1.2”</dd><dt><span>license :</span></dt><dd></dd><dt><span>references :</span></dt><dd></dd><dt><span>citation :</span></dt><dd></dd><dt><span>acknowledgement :</span></dt><dd></dd><dt><span>date_created :</span></dt><dd>2021-04-20T11:28:58Z</dd><dt><span>date_modified :</span></dt><dd></dd><dt><span>QC_indicator :</span></dt><dd>unknown</dd></dl></div></li></ul></div></div>"
     },
     "metadata": {},
     "execution_count": 34
    }
   ],
   "source": [
    "cruise_data_nc.get_xdf()"
   ]
  },
  {
   "cell_type": "markdown",
   "id": "individual-nature",
   "metadata": {},
   "source": [
    "## Next Steps\n",
    "\n",
    "QC of data (plot parameters with other instruments)\n",
    "- be sure to updated the qc_status and the history"
   ]
  },
  {
   "cell_type": "code",
   "execution_count": null,
   "id": "insured-vulnerability",
   "metadata": {},
   "outputs": [],
   "source": []
  }
 ],
 "metadata": {
  "kernelspec": {
   "name": "python388jvsc74a57bd0ea8efced7f9f908505a4e28889b9d0ff7d52e9a5c03dfaa80d1d80124525970c",
   "display_name": "Python 3.8.8 64-bit ('py38': conda)"
  },
  "language_info": {
   "codemirror_mode": {
    "name": "ipython",
    "version": 3
   },
   "file_extension": ".py",
   "mimetype": "text/x-python",
   "name": "python",
   "nbconvert_exporter": "python",
   "pygments_lexer": "ipython3",
   "version": "3.8.8-final"
  }
 },
 "nbformat": 4,
 "nbformat_minor": 5
}
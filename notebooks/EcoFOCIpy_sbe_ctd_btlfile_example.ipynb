{
 "cells": [
  {
   "cell_type": "markdown",
   "id": "educational-chosen",
   "metadata": {},
   "source": [
    "# Using EcoFOCIpy to process raw field data\n",
    "\n",
    "## CTD / BTL Data\n",
    "\n",
    "Basic workflow for each instrument grouping is *(initial archive level)*:\n",
    "- SBE workflow must happen first\n",
    "- Parse data from btl files into pandas dataframe\n",
    "\n",
    "Convert to xarray dataframe for all following work *(working or final data level):\n",
    "- Add metadata from cruise yaml files and/or header info\n",
    "- ingest metadata from cruise / cast logs\n",
    "- process data beyond simple file translate\n",
    "- apply any calibrations or corrections\n",
    "    + field corrections\n",
    "    + offsets\n",
    "    + instrument compensations\n",
    "    + some QC were available... this would be old-school simple bounds mostly\n",
    "- adjust time bounds and sample frequency (xarray dataframe)\n",
    "- save as CF netcdf via xarray: so many of the steps above are optional\n",
    "    + **ERDDAP NRT** if no corrections, offsets or time bounds are applied but some meta data is\n",
    "    + **Working and awaiting QC** has no ERDDAP representation and is a holding spot\n",
    "    + **ERDDAP Final** fully calibrated, qc'd and populated with meta information\n",
    "\n",
    "Plot for preview and QC\n",
    "- preview images (indiv and/or collectively)\n",
    "- manual qc process\n",
    "- automated qc process ML/AI\n",
    "\n",
    "Further refinenments for ERDDAP hosting:\n"
   ]
  },
  {
   "cell_type": "markdown",
   "id": "allied-miniature",
   "metadata": {},
   "source": [
    "## Example below is for SBE 9/11+ V2 but the workflow is similar for any SBE instruments.\n",
    "\n",
    "Future processing of this instrument can be a simplified (no markdown) process which can be archived so that the procedure can be traced or updated\n",
    "\n",
    "We process each cast as an individual file so this example will not loop over all profiles.  See `example/all_casts.py` example for processing an entire cruise at once.\n",
    "\n",
    "Adding Discrete samples such as Oxygen, Chlorophyll, Salinity to BTL Data is in `example/discrete_castdata.py`.  Its purpose is to match niskin/bottle information to depth for the discrete data."
   ]
  },
  {
   "cell_type": "code",
   "execution_count": 1,
   "id": "studied-pollution",
   "metadata": {},
   "outputs": [],
   "source": [
    "import yaml\n",
    "import glob\n",
    "\n",
    "import EcoFOCIpy.io.sbe_ctd_parser as sbe_ctd_parser #<- instrument specific\n",
    "import EcoFOCIpy.io.ncCFsave as ncCFsave\n",
    "import EcoFOCIpy.metaconfig.load_config as load_config"
   ]
  },
  {
   "cell_type": "markdown",
   "id": "public-millennium",
   "metadata": {},
   "source": [
    "The sample_data_dir should be included in the github package but may not be included in the pip install of the package\n",
    "\n",
    "## Simple Processing - first step"
   ]
  },
  {
   "cell_type": "code",
   "execution_count": 2,
   "id": "offensive-level",
   "metadata": {},
   "outputs": [],
   "source": [
    "sample_data_dir = '../'"
   ]
  },
  {
   "cell_type": "code",
   "execution_count": 3,
   "id": "third-yellow",
   "metadata": {},
   "outputs": [],
   "source": [
    "###############################################################\n",
    "# edit to point to {cruise sepcific} raw datafiles \n",
    "datafile = sample_data_dir+'staticdata/example_data/profile_data/' #<- point to cruise and process all files within\n",
    "cruise_name = 'DY1805' #no hyphens\n",
    "cruise_meta_file = sample_data_dir+'staticdata/cruise_example.yaml'\n",
    "inst_meta_file = sample_data_dir+'staticdata/instr_metaconfig/FOCI_standard_CTD.yaml'\n",
    "group_meta_file = sample_data_dir+'staticdata/institutional_meta_example.yaml'\n",
    "inst_shortname = ''\n",
    "###############################################################\n",
    "\n",
    "#init and load data\n",
    "cruise = sbe_ctd_parser.sbe_btl()\n",
    "filename_list = sorted(glob.glob(datafile + '*.btl'))\n",
    "\n",
    "cruise_data = cruise.manual_parse(filename_list)"
   ]
  },
  {
   "cell_type": "markdown",
   "id": "7ca4c9bd",
   "metadata": {},
   "source": [
    "There are 6 files in the example folder ('ctd001.btl','ctd002.btl', etc).  The routine will read in all .btl files in a specified directory and name them based on splitting on \"/\".  This will work for all CTD 'btl' files"
   ]
  },
  {
   "cell_type": "code",
   "execution_count": 4,
   "id": "05a034c0",
   "metadata": {},
   "outputs": [
    {
     "output_type": "execute_result",
     "data": {
      "text/plain": [
       "       sbeox0ml/l    sbeox0ps  sbox0mm/kg  sbeox1ml/l   sbeox1ps  sbox1mm/kg  \\\n",
       "count   10.000000   10.000000   10.000000   10.000000  10.000000   10.000000   \n",
       "mean     7.323100   98.171600  318.921200    7.307870  97.967400  318.257500   \n",
       "std      0.141579    1.898755    6.166035    0.014719   0.207848    0.641301   \n",
       "min      7.020500   94.102000  305.743000    7.279200  97.570000  317.009000   \n",
       "25%      7.320200   98.120250  318.794500    7.302500  97.884250  318.024750   \n",
       "50%      7.322850   98.159500  318.910000    7.313800  98.054500  318.516500   \n",
       "75%      7.326875   98.235750  319.086250    7.318475  98.101000  318.719000   \n",
       "max      7.620500  102.145000  331.874000    7.321400  98.191000  318.848000   \n",
       "\n",
       "           sal00      sal11  sigma-t00  sigma-t11  fleco-afl      t090c  \\\n",
       "count  10.000000  10.000000  10.000000  10.000000  10.000000  10.000000   \n",
       "mean   32.065880  32.068130  25.489120  25.490890   0.802060   3.614830   \n",
       "std     0.000079   0.000106   0.000807   0.000817   0.113152   0.008306   \n",
       "min    32.065800  32.067900  25.487400  25.489300   0.526100   3.609100   \n",
       "25%    32.065800  32.068100  25.488950  25.490525   0.785450   3.609325   \n",
       "50%    32.065900  32.068100  25.489450  25.491300   0.837500   3.611150   \n",
       "75%    32.065900  32.068200  25.489675  25.491400   0.861900   3.616575   \n",
       "max    32.066000  32.068300  25.489700  25.491500   0.902200   3.632200   \n",
       "\n",
       "           t190c  turbwetntu0       prdm          scan  \n",
       "count  10.000000    10.000000  10.000000     10.000000  \n",
       "mean    3.615330     0.904770  33.525900  24406.100000  \n",
       "std     0.008331     0.352494  21.967025   8129.420158  \n",
       "min     3.609400     0.659700   3.948000  12686.000000  \n",
       "25%     3.609625     0.676975  17.329750  18528.000000  \n",
       "50%     3.611500     0.749300  28.775000  26144.000000  \n",
       "75%     3.618300     0.925700  48.941500  29765.750000  \n",
       "max     3.632100     1.585500  65.415000  35967.000000  "
      ],
      "text/html": "<div>\n<style scoped>\n    .dataframe tbody tr th:only-of-type {\n        vertical-align: middle;\n    }\n\n    .dataframe tbody tr th {\n        vertical-align: top;\n    }\n\n    .dataframe thead th {\n        text-align: right;\n    }\n</style>\n<table border=\"1\" class=\"dataframe\">\n  <thead>\n    <tr style=\"text-align: right;\">\n      <th></th>\n      <th>sbeox0ml/l</th>\n      <th>sbeox0ps</th>\n      <th>sbox0mm/kg</th>\n      <th>sbeox1ml/l</th>\n      <th>sbeox1ps</th>\n      <th>sbox1mm/kg</th>\n      <th>sal00</th>\n      <th>sal11</th>\n      <th>sigma-t00</th>\n      <th>sigma-t11</th>\n      <th>fleco-afl</th>\n      <th>t090c</th>\n      <th>t190c</th>\n      <th>turbwetntu0</th>\n      <th>prdm</th>\n      <th>scan</th>\n    </tr>\n  </thead>\n  <tbody>\n    <tr>\n      <th>count</th>\n      <td>10.000000</td>\n      <td>10.000000</td>\n      <td>10.000000</td>\n      <td>10.000000</td>\n      <td>10.000000</td>\n      <td>10.000000</td>\n      <td>10.000000</td>\n      <td>10.000000</td>\n      <td>10.000000</td>\n      <td>10.000000</td>\n      <td>10.000000</td>\n      <td>10.000000</td>\n      <td>10.000000</td>\n      <td>10.000000</td>\n      <td>10.000000</td>\n      <td>10.000000</td>\n    </tr>\n    <tr>\n      <th>mean</th>\n      <td>7.323100</td>\n      <td>98.171600</td>\n      <td>318.921200</td>\n      <td>7.307870</td>\n      <td>97.967400</td>\n      <td>318.257500</td>\n      <td>32.065880</td>\n      <td>32.068130</td>\n      <td>25.489120</td>\n      <td>25.490890</td>\n      <td>0.802060</td>\n      <td>3.614830</td>\n      <td>3.615330</td>\n      <td>0.904770</td>\n      <td>33.525900</td>\n      <td>24406.100000</td>\n    </tr>\n    <tr>\n      <th>std</th>\n      <td>0.141579</td>\n      <td>1.898755</td>\n      <td>6.166035</td>\n      <td>0.014719</td>\n      <td>0.207848</td>\n      <td>0.641301</td>\n      <td>0.000079</td>\n      <td>0.000106</td>\n      <td>0.000807</td>\n      <td>0.000817</td>\n      <td>0.113152</td>\n      <td>0.008306</td>\n      <td>0.008331</td>\n      <td>0.352494</td>\n      <td>21.967025</td>\n      <td>8129.420158</td>\n    </tr>\n    <tr>\n      <th>min</th>\n      <td>7.020500</td>\n      <td>94.102000</td>\n      <td>305.743000</td>\n      <td>7.279200</td>\n      <td>97.570000</td>\n      <td>317.009000</td>\n      <td>32.065800</td>\n      <td>32.067900</td>\n      <td>25.487400</td>\n      <td>25.489300</td>\n      <td>0.526100</td>\n      <td>3.609100</td>\n      <td>3.609400</td>\n      <td>0.659700</td>\n      <td>3.948000</td>\n      <td>12686.000000</td>\n    </tr>\n    <tr>\n      <th>25%</th>\n      <td>7.320200</td>\n      <td>98.120250</td>\n      <td>318.794500</td>\n      <td>7.302500</td>\n      <td>97.884250</td>\n      <td>318.024750</td>\n      <td>32.065800</td>\n      <td>32.068100</td>\n      <td>25.488950</td>\n      <td>25.490525</td>\n      <td>0.785450</td>\n      <td>3.609325</td>\n      <td>3.609625</td>\n      <td>0.676975</td>\n      <td>17.329750</td>\n      <td>18528.000000</td>\n    </tr>\n    <tr>\n      <th>50%</th>\n      <td>7.322850</td>\n      <td>98.159500</td>\n      <td>318.910000</td>\n      <td>7.313800</td>\n      <td>98.054500</td>\n      <td>318.516500</td>\n      <td>32.065900</td>\n      <td>32.068100</td>\n      <td>25.489450</td>\n      <td>25.491300</td>\n      <td>0.837500</td>\n      <td>3.611150</td>\n      <td>3.611500</td>\n      <td>0.749300</td>\n      <td>28.775000</td>\n      <td>26144.000000</td>\n    </tr>\n    <tr>\n      <th>75%</th>\n      <td>7.326875</td>\n      <td>98.235750</td>\n      <td>319.086250</td>\n      <td>7.318475</td>\n      <td>98.101000</td>\n      <td>318.719000</td>\n      <td>32.065900</td>\n      <td>32.068200</td>\n      <td>25.489675</td>\n      <td>25.491400</td>\n      <td>0.861900</td>\n      <td>3.616575</td>\n      <td>3.618300</td>\n      <td>0.925700</td>\n      <td>48.941500</td>\n      <td>29765.750000</td>\n    </tr>\n    <tr>\n      <th>max</th>\n      <td>7.620500</td>\n      <td>102.145000</td>\n      <td>331.874000</td>\n      <td>7.321400</td>\n      <td>98.191000</td>\n      <td>318.848000</td>\n      <td>32.066000</td>\n      <td>32.068300</td>\n      <td>25.489700</td>\n      <td>25.491500</td>\n      <td>0.902200</td>\n      <td>3.632200</td>\n      <td>3.632100</td>\n      <td>1.585500</td>\n      <td>65.415000</td>\n      <td>35967.000000</td>\n    </tr>\n  </tbody>\n</table>\n</div>"
     },
     "metadata": {},
     "execution_count": 4
    }
   ],
   "source": [
    "#quick statistical look at the distribution of data for a cast\n",
    "# #preview a dataframe\n",
    "cruise_data['ctd001.btl'].describe()"
   ]
  },
  {
   "cell_type": "markdown",
   "id": "ready-audit",
   "metadata": {},
   "source": [
    "## Time Properties\n",
    "\n",
    "Not traditionally dealt with for CTD files as they are likely dynamically updated via GPS feed.  However, FOCI tends to label the date/time with the ***at depth*** time-stamp\n",
    "\n",
    "## Depth Properties and other assumptions\n",
    "\n",
    "- currently, all processing and binning (1m for FOCI) is done via seabird routines and the windows software.  This may change with the python ctd package for a few tasks"
   ]
  },
  {
   "cell_type": "markdown",
   "id": "acknowledged-active",
   "metadata": {},
   "source": [
    "## Add Deployment meta information"
   ]
  },
  {
   "cell_type": "code",
   "execution_count": 5,
   "id": "freelance-fairy",
   "metadata": {},
   "outputs": [
    {
     "output_type": "execute_result",
     "data": {
      "text/plain": [
       "{'CruiseID': 'DY1805',\n",
       " 'CruiseID_Historic': None,\n",
       " 'CruiseID_Alternates': None,\n",
       " 'Project_Leg': '',\n",
       " 'Vessel': 'R/V Oscar Dyson',\n",
       " 'ShipID': 'DY',\n",
       " 'StartDate': datetime.date(2018, 4, 29),\n",
       " 'EndDate': datetime.date(2018, 5, 10),\n",
       " 'Project': 'EcoFOCI',\n",
       " 'ChiefScientist': 'Peter Proctor',\n",
       " 'StartPort': 'Dutch Harbor, AK',\n",
       " 'EndPort': 'Dutch Harbor, AK',\n",
       " 'CruiseLocation': 'Bering Sea',\n",
       " 'Description': 'FOCI Spring Mooring Survey',\n",
       " 'CruiseYear': 2018,\n",
       " 'ctdlogs_pdf_name': 'DY1805_CastLogs.pdf'}"
      ]
     },
     "metadata": {},
     "execution_count": 5
    }
   ],
   "source": [
    "#just a dictionary of dictionaries - simple\n",
    "with open(cruise_meta_file) as file:\n",
    "    cruise_config = yaml.full_load(file)\n",
    "cruise_config[cruise_name]"
   ]
  },
  {
   "cell_type": "code",
   "execution_count": 6,
   "id": "102dc1ab",
   "metadata": {},
   "outputs": [
    {
     "output_type": "execute_result",
     "data": {
      "text/plain": [
       "{'id': 22869,\n",
       " 'Vessel': 'R/V Oscar Dyson',\n",
       " 'CruiseID': 'DY1805',\n",
       " 'Project_Leg': '',\n",
       " 'UniqueCruiseID': 'DY1805',\n",
       " 'Project': 'FOCI Spring Mooring Survey',\n",
       " 'StationNo_altname': 's1h1',\n",
       " 'ConsecutiveCastNo': 'CTD001',\n",
       " 'LatitudeDeg': 56,\n",
       " 'LatitudeMin': 52.28,\n",
       " 'GeoLocation': None,\n",
       " 'LongitudeDeg': 164,\n",
       " 'LongitudeMin': 2.92,\n",
       " 'GMTDay': 30,\n",
       " 'GMTMonth': 'Apr',\n",
       " 'GMTYear': 2018,\n",
       " 'GMTTime': 69660,\n",
       " 'DryBulb': 3.7,\n",
       " 'RelativeHumidity': 98,\n",
       " 'WetBulb': -99.9,\n",
       " 'Pressure': 1013,\n",
       " 'SeaState': '-99',\n",
       " 'Visibility': '-99',\n",
       " 'WindDir': 230,\n",
       " 'WindSpd': 21.0,\n",
       " 'CloudAmt': '-99',\n",
       " 'CloudType': '-99',\n",
       " 'Weather': '-99',\n",
       " 'SurfaceTemp': -99.9,\n",
       " 'BottomDepth': 65,\n",
       " 'StationNameID': 'M2C',\n",
       " 'MaxDepth': 72,\n",
       " 'InstrumentSerialNos': 'Press SN =291, Pri Temp SN = 4379, Sec Temp SN =2376, Pri Cond SN = 04-2985, Sec Cond Sn =04-3127, PAR Sn =70547, Fluor Sn = FLNTUS-2057, pri O2 Sn = 1961, sec O2 Sn = 0904, Turbid SN = FLNTUS-2057',\n",
       " 'Notes': 'Niskin 2 did not close - bottom cap\\r\\nNiskin 10 did not close\\r\\nRBRbrevio in Niskin 5 Position, PAR in Niskin 12 position',\n",
       " 'NutrientBtlNiskinNo': '1;2;3;4;5;6;7;8;9;10;11;12',\n",
       " 'NutrientBtlNumbers': '1;2;3;4;;5;6;7;8;9;10;',\n",
       " 'OxygenBtlNiskinNo': '1',\n",
       " 'OxygenBtlNumbers': '182',\n",
       " 'SalinityBtlNiskinNo': '1',\n",
       " 'SalinityBtlNumbers': '1',\n",
       " 'ChlorophyllBtlNiskinNo': '1;2;3;4;5;6;7;8;9;10;11;12',\n",
       " 'ChlorophyllBtlVolumes': ';;283;285;;283;285;289;283;283;279;',\n",
       " 'InstrumentType': 'Seabird SBE 911plus CTD',\n",
       " 'WaterMassCode': 'B',\n",
       " 'isMooringProfileCast': 'y',\n",
       " 'MooringID': '18BSM-2A',\n",
       " 'QualityControlled': 'n',\n",
       " 'FileName': '',\n",
       " 'MeasuredParameters': None}"
      ]
     },
     "metadata": {},
     "execution_count": 6
    }
   ],
   "source": [
    "#and if you want a cast from the cruise, just use the consective cast number\n",
    "cruise_config['CTDCasts']['CTD001']"
   ]
  },
  {
   "cell_type": "markdown",
   "id": "mysterious-cornwall",
   "metadata": {},
   "source": [
    "## Add Instrument meta information\n",
    "\n",
    "Time, depth, lat, lon should be added regardless (always our coordinates) but for a mooring site its going to be a (1,1,1,t) dataset\n",
    "The variables of interest should be read from the data file and matched to a key for naming.  That key is in the inst_config file seen below and should represent common conversion names in the raw data"
   ]
  },
  {
   "cell_type": "code",
   "execution_count": 7,
   "id": "checked-raise",
   "metadata": {
    "tags": []
   },
   "outputs": [
    {
     "output_type": "execute_result",
     "data": {
      "text/plain": [
       "{'time': {'epic_key': 'TIM_601',\n",
       "  'name': 'time',\n",
       "  'generic_name': 'time',\n",
       "  'standard_name': 'time',\n",
       "  'long_name': 'date and time since reference time',\n",
       "  'time_origin': '1900-01-01 00:00:00',\n",
       "  'units': 'days since 1900-01-01T00:00:00Z'},\n",
       " 'depth': {'epic_key': 'D_3',\n",
       "  'generic_name': 'depth',\n",
       "  'units': 'meter',\n",
       "  'long_name': 'depth below surface (meters)',\n",
       "  'standard_name': 'depth'},\n",
       " 'latitude': {'epic_key': 'LON_501',\n",
       "  'name': 'latitude',\n",
       "  'generic_name': 'latitude',\n",
       "  'units': 'degrees_north',\n",
       "  'long_name': 'latitude',\n",
       "  'standard_name': 'latitude'},\n",
       " 'longitude': {'epic_key': 'LAT_500',\n",
       "  'name': 'longitude',\n",
       "  'generic_name': 'longitude',\n",
       "  'units': 'degrees_east',\n",
       "  'long_name': 'longitude',\n",
       "  'standard_name': 'longitude'},\n",
       " 'temperature_ch1': {'epic_key': 'T_28',\n",
       "  'generic_name': 'temp channel 1',\n",
       "  'long_name': 'Sea temperature in-situ ITS-90 scale',\n",
       "  'standard_name': 'sea_water_temperature',\n",
       "  'units': 'degree_C'},\n",
       " 'temperature_ch2': {'epic_key': 'T2_35',\n",
       "  'generic_name': 'temp channel 2',\n",
       "  'long_name': 'Sea temperature in-situ ITS-90 scale',\n",
       "  'standard_name': 'sea_water_temperature',\n",
       "  'units': 'degree_C'},\n",
       " 'pressure': {'epic_key': 'P_1',\n",
       "  'generic_name': 'pres',\n",
       "  'units': 'decibar',\n",
       "  'long_name': 'Sea water pressure, equals 0 at sea-level',\n",
       "  'standard_name': 'sea_water_pressure_due_to_sea_water'},\n",
       " 'salinity_ch1': {'epic_key': 'S_41',\n",
       "  'generic_name': 'psal channel 1',\n",
       "  'units': 'PSU',\n",
       "  'long_name': 'Practical salinity in-situ PSS-78 scale',\n",
       "  'standard_name': 'sea_water_practical_salinity'},\n",
       " 'salinity_ch2': {'epic_key': 'S_42',\n",
       "  'generic_name': 'psal channel 2',\n",
       "  'units': 'PSU',\n",
       "  'long_name': 'Practical salinity in-situ PSS-78 scale',\n",
       "  'standard_name': 'sea_water_practical_salinity'},\n",
       " 'chlor_fluorescence': {'epic_key': 'F_903',\n",
       "  'generic_name': 'chlor_fluorescence',\n",
       "  'long_name': 'Mass Concdentration of chlorophyll from chlorophyll fluorescence',\n",
       "  'standard_name': 'mass_concentration_of_chlorophyll_in_sea_water',\n",
       "  'units': 'ugrams/l'},\n",
       " 'par': {'generic_name': 'par',\n",
       "  'epic_key': 'PAR_905',\n",
       "  'long_name': 'Photosynthetic Active Radiation',\n",
       "  'standard_name': 'omnidirectional_photosynthetic_photon_spherical_irradiance_in_sea_water',\n",
       "  'units': 'uEin cm-2 s-1'},\n",
       " 'oxy_conc_ch1': {'generic_name': 'oxy_conc channel 1',\n",
       "  'epic_key': 'O_65',\n",
       "  'long_name': 'concentration of oxygen in seawater',\n",
       "  'standard_name': 'mole_concentration_of_dissolved_molecular_oxygen_in_sea_water',\n",
       "  'units': 'micromole/kg'},\n",
       " 'oxy_conc_ch2': {'generic_name': 'oxy_conc channel 2',\n",
       "  'epic_key': 'CTDOXY_4221',\n",
       "  'long_name': 'concentration of oxygen in seawater',\n",
       "  'standard_name': 'mole_concentration_of_dissolved_molecular_oxygen_in_sea_water',\n",
       "  'units': 'micromole/kg'},\n",
       " 'oxy_concM_ch1': {'generic_name': 'oxy_concM channel 1',\n",
       "  'epic_key': 'O_65',\n",
       "  'long_name': 'concentration of oxygen in seawater',\n",
       "  'standard_name': 'mole_concentration_of_dissolved_molecular_oxygen_in_sea_water',\n",
       "  'units': 'ml/l'},\n",
       " 'oxy_concM_ch2': {'generic_name': 'oxy_concM channel 2',\n",
       "  'epic_key': 'O_2060',\n",
       "  'long_name': 'concentration of oxygen in seawater',\n",
       "  'standard_name': 'mole_concentration_of_dissolved_molecular_oxygen_in_sea_water',\n",
       "  'units': 'ml/l'},\n",
       " 'oxy_percentsat_ch1': {'generic_name': 'oxy_psat channel 1',\n",
       "  'epic_key': 'OST_62',\n",
       "  'units': 'percent',\n",
       "  'long_name': 'Percent Saturation of oxygen over air',\n",
       "  'standard_name': 'fractional_saturation_of_oxygen_in_sea_water'},\n",
       " 'oxy_percentsat_ch2': {'generic_name': 'oxy_psat channel 2',\n",
       "  'epic_key': 'CTDOST_4220',\n",
       "  'units': 'percent',\n",
       "  'long_name': 'Percent Saturation of oxygen over air',\n",
       "  'standard_name': 'fractional_saturation_of_oxygen_in_sea_water'}}"
      ]
     },
     "metadata": {},
     "execution_count": 7
    }
   ],
   "source": [
    "with open(inst_meta_file) as file:\n",
    "    inst_config = yaml.full_load(file)\n",
    "inst_config"
   ]
  },
  {
   "cell_type": "code",
   "execution_count": 8,
   "id": "837d1466",
   "metadata": {},
   "outputs": [
    {
     "output_type": "execute_result",
     "data": {
      "text/plain": [
       "        oxy_concM_ch1  oxy_percentsat_ch1  oxy_conc_ch1  oxy_concM_ch2  \\\n",
       "bottle                                                                   \n",
       "8.0             7.322              98.148       318.871         7.3186   \n",
       "\n",
       "        oxy_percentsat_ch2  oxy_conc_ch2  salinity_ch1  salinity_ch2  \\\n",
       "bottle                                                                 \n",
       "8.0                 98.103       318.725       32.0658       32.0681   \n",
       "\n",
       "        sigma_t_ch1  sigma_t_ch2  chlor_fluorescence  temperature_ch1  \\\n",
       "bottle                                                                  \n",
       "8.0         25.4894      25.4912              0.9022           3.6114   \n",
       "\n",
       "        temperature_ch2  turbidity  Pressure [dbar]     scan  \\\n",
       "bottle                                                         \n",
       "8.0               3.612     0.6728           26.557  27680.0   \n",
       "\n",
       "                  datetime  \n",
       "bottle                      \n",
       "8.0    2018-04-30 19:31:05  "
      ],
      "text/html": "<div>\n<style scoped>\n    .dataframe tbody tr th:only-of-type {\n        vertical-align: middle;\n    }\n\n    .dataframe tbody tr th {\n        vertical-align: top;\n    }\n\n    .dataframe thead th {\n        text-align: right;\n    }\n</style>\n<table border=\"1\" class=\"dataframe\">\n  <thead>\n    <tr style=\"text-align: right;\">\n      <th></th>\n      <th>oxy_concM_ch1</th>\n      <th>oxy_percentsat_ch1</th>\n      <th>oxy_conc_ch1</th>\n      <th>oxy_concM_ch2</th>\n      <th>oxy_percentsat_ch2</th>\n      <th>oxy_conc_ch2</th>\n      <th>salinity_ch1</th>\n      <th>salinity_ch2</th>\n      <th>sigma_t_ch1</th>\n      <th>sigma_t_ch2</th>\n      <th>chlor_fluorescence</th>\n      <th>temperature_ch1</th>\n      <th>temperature_ch2</th>\n      <th>turbidity</th>\n      <th>Pressure [dbar]</th>\n      <th>scan</th>\n      <th>datetime</th>\n    </tr>\n    <tr>\n      <th>bottle</th>\n      <th></th>\n      <th></th>\n      <th></th>\n      <th></th>\n      <th></th>\n      <th></th>\n      <th></th>\n      <th></th>\n      <th></th>\n      <th></th>\n      <th></th>\n      <th></th>\n      <th></th>\n      <th></th>\n      <th></th>\n      <th></th>\n      <th></th>\n    </tr>\n  </thead>\n  <tbody>\n    <tr>\n      <th>8.0</th>\n      <td>7.322</td>\n      <td>98.148</td>\n      <td>318.871</td>\n      <td>7.3186</td>\n      <td>98.103</td>\n      <td>318.725</td>\n      <td>32.0658</td>\n      <td>32.0681</td>\n      <td>25.4894</td>\n      <td>25.4912</td>\n      <td>0.9022</td>\n      <td>3.6114</td>\n      <td>3.612</td>\n      <td>0.6728</td>\n      <td>26.557</td>\n      <td>27680.0</td>\n      <td>2018-04-30 19:31:05</td>\n    </tr>\n  </tbody>\n</table>\n</div>"
     },
     "metadata": {},
     "execution_count": 8
    }
   ],
   "source": [
    "#sbe data uses header info to name variables... but we want standard names from the dictionary I've created, so we need to rename column variables appropriately\n",
    "#rename values to appropriate names, if a value isn't in the .yaml file, you can add it\n",
    "\n",
    "#*** biggest *** difference between moored and profile data is there may be multiple instruments with the same dataype (e.g.) temperature\n",
    "# on the same platform.  We _used_ to use the phrases primary and secondary, but will now only refer to them as ch1, ch2 etc\n",
    "cruise_data['ctd001.btl'] = cruise_data['ctd001.btl'].rename(columns={\n",
    "                        't090c':'temperature_ch1',\n",
    "                        't190c':'temperature_ch2',\n",
    "                        'sal00':'salinity_ch1',\n",
    "                        'sal11':'salinity_ch2',\n",
    "                        'sbox0mm/kg':'oxy_conc_ch1',\n",
    "                        'sbeox0ml/l':'oxy_concM_ch1',\n",
    "                        'sbox1mm/kg':'oxy_conc_ch2',\n",
    "                        'sbeox1ml/l':'oxy_concM_ch2',\n",
    "                        'sbeox0ps':'oxy_percentsat_ch1',\n",
    "                        'sbeox1ps':'oxy_percentsat_ch2',\n",
    "                        'sigma-t00':'sigma_t_ch1',\n",
    "                        'sigma-t11':'sigma_t_ch2',\n",
    "                        'cstarat0':'Attenuation',\n",
    "                        'cstartr0':'Transmittance',\n",
    "                        'fleco-afl':'chlor_fluorescence',\n",
    "                        'turbwetntu0':'turbidity',\n",
    "                        'empty':'empty', #this will be ignored\n",
    "                        'prdm':'Pressure [dbar]',\n",
    "                        'flag':'flag'})\n",
    "\n",
    "cruise_data['ctd001.btl'].sample()"
   ]
  },
  {
   "cell_type": "code",
   "execution_count": 9,
   "id": "15849d96",
   "metadata": {},
   "outputs": [
    {
     "output_type": "execute_result",
     "data": {
      "text/plain": [
       "Index(['oxy_concM_ch1', 'oxy_percentsat_ch1', 'oxy_conc_ch1', 'oxy_concM_ch2',\n",
       "       'oxy_percentsat_ch2', 'oxy_conc_ch2', 'salinity_ch1', 'salinity_ch2',\n",
       "       'sigma_t_ch1', 'sigma_t_ch2', 'chlor_fluorescence', 'temperature_ch1',\n",
       "       'temperature_ch2', 'turbidity', 'Pressure [dbar]', 'scan', 'datetime'],\n",
       "      dtype='object')"
      ]
     },
     "metadata": {},
     "execution_count": 9
    }
   ],
   "source": [
    "cruise_data['ctd001.btl'].columns"
   ]
  },
  {
   "cell_type": "markdown",
   "id": "56119e2f",
   "metadata": {},
   "source": [
    "## Add institutional meta-information\n"
   ]
  },
  {
   "cell_type": "code",
   "execution_count": 10,
   "id": "24b2c8b0",
   "metadata": {},
   "outputs": [
    {
     "output_type": "execute_result",
     "data": {
      "text/plain": [
       "{'source_documents': 'http://www.oceansites.org/docs/oceansites_data_format_reference_manual.pdf',\n",
       " 'institution': 'Pacific Marine Environmental Lab (PMEL)',\n",
       " 'project': 'EcoFOCI',\n",
       " 'project_url': 'https://www.ecofoci.noaa.gov',\n",
       " 'principal_investigator': 'Phyllis Stabeno',\n",
       " 'principal_investigator_email': 'phyllis.stabeno (at) noaa.gov',\n",
       " 'creator_name': 'Shaun Bell',\n",
       " 'creator_email': 'shaun.bell (at) noaa.gov',\n",
       " 'creator_institution': 'PMEL',\n",
       " 'keywords': 'Mooring, Oceanographic',\n",
       " 'comment': 'Provisional data',\n",
       " 'sea_area': 'Bering Sea (BS)',\n",
       " 'featureType': 'timeSeries',\n",
       " 'conventions': '”CF-1.6, ~OceanSITES-1.5, ACDD-1.2”',\n",
       " 'license': '',\n",
       " 'references': '',\n",
       " 'citation': '',\n",
       " 'acknowledgement': ''}"
      ]
     },
     "metadata": {},
     "execution_count": 10
    }
   ],
   "source": [
    "with open(group_meta_file) as file:\n",
    "    group_config = yaml.full_load(file)\n",
    "group_config"
   ]
  },
  {
   "cell_type": "code",
   "execution_count": 11,
   "id": "varied-popularity",
   "metadata": {},
   "outputs": [
    {
     "output_type": "execute_result",
     "data": {
      "text/plain": [
       "<EcoFOCIpy.io.ncCFsave.EcoFOCI_CFnc at 0x16002d220>"
      ]
     },
     "metadata": {},
     "execution_count": 11
    }
   ],
   "source": [
    "# Add meta data and prelim processing based on meta data\n",
    "# Convert to xarray and add meta information - save as CF netcdf file\n",
    "# pass -> data, instmeta, depmeta\n",
    "cruise_data_nc = ncCFsave.EcoFOCI_CFnc(df=cruise_data['ctd001.btl'], \n",
    "                                instrument_yaml=inst_config, \n",
    "                                operation_yaml=cruise_config,\n",
    "                                operation_type='ctd')\n",
    "cruise_data_nc"
   ]
  },
  {
   "cell_type": "code",
   "execution_count": 12,
   "metadata": {},
   "outputs": [
    {
     "output_type": "execute_result",
     "data": {
      "text/plain": [
       "<xarray.Dataset>\n",
       "Dimensions:             (bottle: 10)\n",
       "Coordinates:\n",
       "  * bottle              (bottle) float64 1.0 2.0 3.0 4.0 ... 8.0 9.0 10.0 11.0\n",
       "Data variables: (12/17)\n",
       "    oxy_concM_ch1       (bottle) float64 7.62 7.021 7.312 ... 7.338 7.327 7.325\n",
       "    oxy_percentsat_ch1  (bottle) float64 102.1 94.1 98.01 ... 98.42 98.24 98.23\n",
       "    oxy_conc_ch1        (bottle) float64 331.9 305.7 318.4 ... 319.6 319.1 319.0\n",
       "    oxy_concM_ch2       (bottle) float64 7.279 7.287 7.302 ... 7.321 7.321 7.313\n",
       "    oxy_percentsat_ch2  (bottle) float64 97.57 97.67 97.88 ... 98.19 98.15 98.06\n",
       "    oxy_conc_ch2        (bottle) float64 317.0 317.4 318.0 ... 318.8 318.8 318.5\n",
       "    ...                  ...\n",
       "    temperature_ch1     (bottle) float64 3.609 3.609 3.61 ... 3.632 3.618 3.627\n",
       "    temperature_ch2     (bottle) float64 3.61 3.61 3.61 ... 3.632 3.62 3.627\n",
       "    turbidity           (bottle) float64 1.585 1.514 0.9707 ... 0.6597 0.7356\n",
       "    Pressure [dbar]     (bottle) float64 65.42 65.16 51.24 ... 14.25 9.09 3.948\n",
       "    scan                (bottle) float64 1.269e+04 1.286e+04 ... 3.597e+04\n",
       "    datetime            (bottle) datetime64[ns] 2018-04-30T19:20:40 ... 2018-..."
      ],
      "text/html": "<div><svg style=\"position: absolute; width: 0; height: 0; overflow: hidden\">\n<defs>\n<symbol id=\"icon-database\" viewBox=\"0 0 32 32\">\n<path d=\"M16 0c-8.837 0-16 2.239-16 5v4c0 2.761 7.163 5 16 5s16-2.239 16-5v-4c0-2.761-7.163-5-16-5z\"></path>\n<path d=\"M16 17c-8.837 0-16-2.239-16-5v6c0 2.761 7.163 5 16 5s16-2.239 16-5v-6c0 2.761-7.163 5-16 5z\"></path>\n<path d=\"M16 26c-8.837 0-16-2.239-16-5v6c0 2.761 7.163 5 16 5s16-2.239 16-5v-6c0 2.761-7.163 5-16 5z\"></path>\n</symbol>\n<symbol id=\"icon-file-text2\" viewBox=\"0 0 32 32\">\n<path d=\"M28.681 7.159c-0.694-0.947-1.662-2.053-2.724-3.116s-2.169-2.030-3.116-2.724c-1.612-1.182-2.393-1.319-2.841-1.319h-15.5c-1.378 0-2.5 1.121-2.5 2.5v27c0 1.378 1.122 2.5 2.5 2.5h23c1.378 0 2.5-1.122 2.5-2.5v-19.5c0-0.448-0.137-1.23-1.319-2.841zM24.543 5.457c0.959 0.959 1.712 1.825 2.268 2.543h-4.811v-4.811c0.718 0.556 1.584 1.309 2.543 2.268zM28 29.5c0 0.271-0.229 0.5-0.5 0.5h-23c-0.271 0-0.5-0.229-0.5-0.5v-27c0-0.271 0.229-0.5 0.5-0.5 0 0 15.499-0 15.5 0v7c0 0.552 0.448 1 1 1h7v19.5z\"></path>\n<path d=\"M23 26h-14c-0.552 0-1-0.448-1-1s0.448-1 1-1h14c0.552 0 1 0.448 1 1s-0.448 1-1 1z\"></path>\n<path d=\"M23 22h-14c-0.552 0-1-0.448-1-1s0.448-1 1-1h14c0.552 0 1 0.448 1 1s-0.448 1-1 1z\"></path>\n<path d=\"M23 18h-14c-0.552 0-1-0.448-1-1s0.448-1 1-1h14c0.552 0 1 0.448 1 1s-0.448 1-1 1z\"></path>\n</symbol>\n</defs>\n</svg>\n<style>/* CSS stylesheet for displaying xarray objects in jupyterlab.\n *\n */\n\n:root {\n  --xr-font-color0: var(--jp-content-font-color0, rgba(0, 0, 0, 1));\n  --xr-font-color2: var(--jp-content-font-color2, rgba(0, 0, 0, 0.54));\n  --xr-font-color3: var(--jp-content-font-color3, rgba(0, 0, 0, 0.38));\n  --xr-border-color: var(--jp-border-color2, #e0e0e0);\n  --xr-disabled-color: var(--jp-layout-color3, #bdbdbd);\n  --xr-background-color: var(--jp-layout-color0, white);\n  --xr-background-color-row-even: var(--jp-layout-color1, white);\n  --xr-background-color-row-odd: var(--jp-layout-color2, #eeeeee);\n}\n\nhtml[theme=dark],\nbody.vscode-dark {\n  --xr-font-color0: rgba(255, 255, 255, 1);\n  --xr-font-color2: rgba(255, 255, 255, 0.54);\n  --xr-font-color3: rgba(255, 255, 255, 0.38);\n  --xr-border-color: #1F1F1F;\n  --xr-disabled-color: #515151;\n  --xr-background-color: #111111;\n  --xr-background-color-row-even: #111111;\n  --xr-background-color-row-odd: #313131;\n}\n\n.xr-wrap {\n  display: block;\n  min-width: 300px;\n  max-width: 700px;\n}\n\n.xr-text-repr-fallback {\n  /* fallback to plain text repr when CSS is not injected (untrusted notebook) */\n  display: none;\n}\n\n.xr-header {\n  padding-top: 6px;\n  padding-bottom: 6px;\n  margin-bottom: 4px;\n  border-bottom: solid 1px var(--xr-border-color);\n}\n\n.xr-header > div,\n.xr-header > ul {\n  display: inline;\n  margin-top: 0;\n  margin-bottom: 0;\n}\n\n.xr-obj-type,\n.xr-array-name {\n  margin-left: 2px;\n  margin-right: 10px;\n}\n\n.xr-obj-type {\n  color: var(--xr-font-color2);\n}\n\n.xr-sections {\n  padding-left: 0 !important;\n  display: grid;\n  grid-template-columns: 150px auto auto 1fr 20px 20px;\n}\n\n.xr-section-item {\n  display: contents;\n}\n\n.xr-section-item input {\n  display: none;\n}\n\n.xr-section-item input + label {\n  color: var(--xr-disabled-color);\n}\n\n.xr-section-item input:enabled + label {\n  cursor: pointer;\n  color: var(--xr-font-color2);\n}\n\n.xr-section-item input:enabled + label:hover {\n  color: var(--xr-font-color0);\n}\n\n.xr-section-summary {\n  grid-column: 1;\n  color: var(--xr-font-color2);\n  font-weight: 500;\n}\n\n.xr-section-summary > span {\n  display: inline-block;\n  padding-left: 0.5em;\n}\n\n.xr-section-summary-in:disabled + label {\n  color: var(--xr-font-color2);\n}\n\n.xr-section-summary-in + label:before {\n  display: inline-block;\n  content: '►';\n  font-size: 11px;\n  width: 15px;\n  text-align: center;\n}\n\n.xr-section-summary-in:disabled + label:before {\n  color: var(--xr-disabled-color);\n}\n\n.xr-section-summary-in:checked + label:before {\n  content: '▼';\n}\n\n.xr-section-summary-in:checked + label > span {\n  display: none;\n}\n\n.xr-section-summary,\n.xr-section-inline-details {\n  padding-top: 4px;\n  padding-bottom: 4px;\n}\n\n.xr-section-inline-details {\n  grid-column: 2 / -1;\n}\n\n.xr-section-details {\n  display: none;\n  grid-column: 1 / -1;\n  margin-bottom: 5px;\n}\n\n.xr-section-summary-in:checked ~ .xr-section-details {\n  display: contents;\n}\n\n.xr-array-wrap {\n  grid-column: 1 / -1;\n  display: grid;\n  grid-template-columns: 20px auto;\n}\n\n.xr-array-wrap > label {\n  grid-column: 1;\n  vertical-align: top;\n}\n\n.xr-preview {\n  color: var(--xr-font-color3);\n}\n\n.xr-array-preview,\n.xr-array-data {\n  padding: 0 5px !important;\n  grid-column: 2;\n}\n\n.xr-array-data,\n.xr-array-in:checked ~ .xr-array-preview {\n  display: none;\n}\n\n.xr-array-in:checked ~ .xr-array-data,\n.xr-array-preview {\n  display: inline-block;\n}\n\n.xr-dim-list {\n  display: inline-block !important;\n  list-style: none;\n  padding: 0 !important;\n  margin: 0;\n}\n\n.xr-dim-list li {\n  display: inline-block;\n  padding: 0;\n  margin: 0;\n}\n\n.xr-dim-list:before {\n  content: '(';\n}\n\n.xr-dim-list:after {\n  content: ')';\n}\n\n.xr-dim-list li:not(:last-child):after {\n  content: ',';\n  padding-right: 5px;\n}\n\n.xr-has-index {\n  font-weight: bold;\n}\n\n.xr-var-list,\n.xr-var-item {\n  display: contents;\n}\n\n.xr-var-item > div,\n.xr-var-item label,\n.xr-var-item > .xr-var-name span {\n  background-color: var(--xr-background-color-row-even);\n  margin-bottom: 0;\n}\n\n.xr-var-item > .xr-var-name:hover span {\n  padding-right: 5px;\n}\n\n.xr-var-list > li:nth-child(odd) > div,\n.xr-var-list > li:nth-child(odd) > label,\n.xr-var-list > li:nth-child(odd) > .xr-var-name span {\n  background-color: var(--xr-background-color-row-odd);\n}\n\n.xr-var-name {\n  grid-column: 1;\n}\n\n.xr-var-dims {\n  grid-column: 2;\n}\n\n.xr-var-dtype {\n  grid-column: 3;\n  text-align: right;\n  color: var(--xr-font-color2);\n}\n\n.xr-var-preview {\n  grid-column: 4;\n}\n\n.xr-var-name,\n.xr-var-dims,\n.xr-var-dtype,\n.xr-preview,\n.xr-attrs dt {\n  white-space: nowrap;\n  overflow: hidden;\n  text-overflow: ellipsis;\n  padding-right: 10px;\n}\n\n.xr-var-name:hover,\n.xr-var-dims:hover,\n.xr-var-dtype:hover,\n.xr-attrs dt:hover {\n  overflow: visible;\n  width: auto;\n  z-index: 1;\n}\n\n.xr-var-attrs,\n.xr-var-data {\n  display: none;\n  background-color: var(--xr-background-color) !important;\n  padding-bottom: 5px !important;\n}\n\n.xr-var-attrs-in:checked ~ .xr-var-attrs,\n.xr-var-data-in:checked ~ .xr-var-data {\n  display: block;\n}\n\n.xr-var-data > table {\n  float: right;\n}\n\n.xr-var-name span,\n.xr-var-data,\n.xr-attrs {\n  padding-left: 25px !important;\n}\n\n.xr-attrs,\n.xr-var-attrs,\n.xr-var-data {\n  grid-column: 1 / -1;\n}\n\ndl.xr-attrs {\n  padding: 0;\n  margin: 0;\n  display: grid;\n  grid-template-columns: 125px auto;\n}\n\n.xr-attrs dt,\n.xr-attrs dd {\n  padding: 0;\n  margin: 0;\n  float: left;\n  padding-right: 10px;\n  width: auto;\n}\n\n.xr-attrs dt {\n  font-weight: normal;\n  grid-column: 1;\n}\n\n.xr-attrs dt:hover span {\n  display: inline-block;\n  background: var(--xr-background-color);\n  padding-right: 10px;\n}\n\n.xr-attrs dd {\n  grid-column: 2;\n  white-space: pre-wrap;\n  word-break: break-all;\n}\n\n.xr-icon-database,\n.xr-icon-file-text2 {\n  display: inline-block;\n  vertical-align: middle;\n  width: 1em;\n  height: 1.5em !important;\n  stroke-width: 0;\n  stroke: currentColor;\n  fill: currentColor;\n}\n</style><pre class='xr-text-repr-fallback'>&lt;xarray.Dataset&gt;\nDimensions:             (bottle: 10)\nCoordinates:\n  * bottle              (bottle) float64 1.0 2.0 3.0 4.0 ... 8.0 9.0 10.0 11.0\nData variables: (12/17)\n    oxy_concM_ch1       (bottle) float64 7.62 7.021 7.312 ... 7.338 7.327 7.325\n    oxy_percentsat_ch1  (bottle) float64 102.1 94.1 98.01 ... 98.42 98.24 98.23\n    oxy_conc_ch1        (bottle) float64 331.9 305.7 318.4 ... 319.6 319.1 319.0\n    oxy_concM_ch2       (bottle) float64 7.279 7.287 7.302 ... 7.321 7.321 7.313\n    oxy_percentsat_ch2  (bottle) float64 97.57 97.67 97.88 ... 98.19 98.15 98.06\n    oxy_conc_ch2        (bottle) float64 317.0 317.4 318.0 ... 318.8 318.8 318.5\n    ...                  ...\n    temperature_ch1     (bottle) float64 3.609 3.609 3.61 ... 3.632 3.618 3.627\n    temperature_ch2     (bottle) float64 3.61 3.61 3.61 ... 3.632 3.62 3.627\n    turbidity           (bottle) float64 1.585 1.514 0.9707 ... 0.6597 0.7356\n    Pressure [dbar]     (bottle) float64 65.42 65.16 51.24 ... 14.25 9.09 3.948\n    scan                (bottle) float64 1.269e+04 1.286e+04 ... 3.597e+04\n    datetime            (bottle) datetime64[ns] 2018-04-30T19:20:40 ... 2018-...</pre><div class='xr-wrap' hidden><div class='xr-header'><div class='xr-obj-type'>xarray.Dataset</div></div><ul class='xr-sections'><li class='xr-section-item'><input id='section-7a62a5c9-f9b6-42f0-8059-9aa32fa20403' class='xr-section-summary-in' type='checkbox' disabled ><label for='section-7a62a5c9-f9b6-42f0-8059-9aa32fa20403' class='xr-section-summary'  title='Expand/collapse section'>Dimensions:</label><div class='xr-section-inline-details'><ul class='xr-dim-list'><li><span class='xr-has-index'>bottle</span>: 10</li></ul></div><div class='xr-section-details'></div></li><li class='xr-section-item'><input id='section-9af5bf70-d9b6-4f48-8357-f85415d1d158' class='xr-section-summary-in' type='checkbox'  checked><label for='section-9af5bf70-d9b6-4f48-8357-f85415d1d158' class='xr-section-summary' >Coordinates: <span>(1)</span></label><div class='xr-section-inline-details'></div><div class='xr-section-details'><ul class='xr-var-list'><li class='xr-var-item'><div class='xr-var-name'><span class='xr-has-index'>bottle</span></div><div class='xr-var-dims'>(bottle)</div><div class='xr-var-dtype'>float64</div><div class='xr-var-preview xr-preview'>1.0 2.0 3.0 4.0 ... 9.0 10.0 11.0</div><input id='attrs-05f60276-a7e6-44e8-ae8a-55c9ec9ef537' class='xr-var-attrs-in' type='checkbox' disabled><label for='attrs-05f60276-a7e6-44e8-ae8a-55c9ec9ef537' title='Show/Hide attributes'><svg class='icon xr-icon-file-text2'><use xlink:href='#icon-file-text2'></use></svg></label><input id='data-8a0d8cf4-34a6-4677-81a3-8846b64d6b38' class='xr-var-data-in' type='checkbox'><label for='data-8a0d8cf4-34a6-4677-81a3-8846b64d6b38' title='Show/Hide data repr'><svg class='icon xr-icon-database'><use xlink:href='#icon-database'></use></svg></label><div class='xr-var-attrs'><dl class='xr-attrs'></dl></div><div class='xr-var-data'><pre>array([ 1.,  2.,  3.,  4.,  6.,  7.,  8.,  9., 10., 11.])</pre></div></li></ul></div></li><li class='xr-section-item'><input id='section-954f8806-3b8f-4617-9101-9e881dbaa29f' class='xr-section-summary-in' type='checkbox'  ><label for='section-954f8806-3b8f-4617-9101-9e881dbaa29f' class='xr-section-summary' >Data variables: <span>(17)</span></label><div class='xr-section-inline-details'></div><div class='xr-section-details'><ul class='xr-var-list'><li class='xr-var-item'><div class='xr-var-name'><span>oxy_concM_ch1</span></div><div class='xr-var-dims'>(bottle)</div><div class='xr-var-dtype'>float64</div><div class='xr-var-preview xr-preview'>7.62 7.021 7.312 ... 7.327 7.325</div><input id='attrs-6b74ea63-0b02-4197-aa7e-3a7cf1c1cce7' class='xr-var-attrs-in' type='checkbox' disabled><label for='attrs-6b74ea63-0b02-4197-aa7e-3a7cf1c1cce7' title='Show/Hide attributes'><svg class='icon xr-icon-file-text2'><use xlink:href='#icon-file-text2'></use></svg></label><input id='data-2fca8241-959e-4d2d-adfb-18e3026b1f66' class='xr-var-data-in' type='checkbox'><label for='data-2fca8241-959e-4d2d-adfb-18e3026b1f66' title='Show/Hide data repr'><svg class='icon xr-icon-database'><use xlink:href='#icon-database'></use></svg></label><div class='xr-var-attrs'><dl class='xr-attrs'></dl></div><div class='xr-var-data'><pre>array([7.6205, 7.0205, 7.312 , 7.3196, 7.3231, 7.3226, 7.322 , 7.3382,\n       7.3275, 7.325 ])</pre></div></li><li class='xr-var-item'><div class='xr-var-name'><span>oxy_percentsat_ch1</span></div><div class='xr-var-dims'>(bottle)</div><div class='xr-var-dtype'>float64</div><div class='xr-var-preview xr-preview'>102.1 94.1 98.01 ... 98.24 98.23</div><input id='attrs-ade0e11a-93ff-45b0-a411-00693c9767bf' class='xr-var-attrs-in' type='checkbox' disabled><label for='attrs-ade0e11a-93ff-45b0-a411-00693c9767bf' title='Show/Hide attributes'><svg class='icon xr-icon-file-text2'><use xlink:href='#icon-file-text2'></use></svg></label><input id='data-87103c6b-6811-4ba8-91c4-fb3b5913374f' class='xr-var-data-in' type='checkbox'><label for='data-87103c6b-6811-4ba8-91c4-fb3b5913374f' title='Show/Hide data repr'><svg class='icon xr-icon-database'><use xlink:href='#icon-database'></use></svg></label><div class='xr-var-attrs'><dl class='xr-attrs'></dl></div><div class='xr-var-data'><pre>array([102.145,  94.102,  98.01 ,  98.111,  98.163,  98.156,  98.148,\n        98.416,  98.239,  98.226])</pre></div></li><li class='xr-var-item'><div class='xr-var-name'><span>oxy_conc_ch1</span></div><div class='xr-var-dims'>(bottle)</div><div class='xr-var-dtype'>float64</div><div class='xr-var-preview xr-preview'>331.9 305.7 318.4 ... 319.1 319.0</div><input id='attrs-3cc6870e-3f9d-4b58-8204-ed69e3efd753' class='xr-var-attrs-in' type='checkbox' disabled><label for='attrs-3cc6870e-3f9d-4b58-8204-ed69e3efd753' title='Show/Hide attributes'><svg class='icon xr-icon-file-text2'><use xlink:href='#icon-file-text2'></use></svg></label><input id='data-f18d80ab-77fd-4ac2-9e54-b7c54c04379c' class='xr-var-data-in' type='checkbox'><label for='data-f18d80ab-77fd-4ac2-9e54-b7c54c04379c' title='Show/Hide data repr'><svg class='icon xr-icon-database'><use xlink:href='#icon-database'></use></svg></label><div class='xr-var-attrs'><dl class='xr-attrs'></dl></div><div class='xr-var-data'><pre>array([331.874, 305.743, 318.437, 318.769, 318.922, 318.898, 318.871,\n       319.581, 319.114, 319.003])</pre></div></li><li class='xr-var-item'><div class='xr-var-name'><span>oxy_concM_ch2</span></div><div class='xr-var-dims'>(bottle)</div><div class='xr-var-dtype'>float64</div><div class='xr-var-preview xr-preview'>7.279 7.287 7.302 ... 7.321 7.313</div><input id='attrs-e35e1844-3493-4ca2-aadb-28993ad21cc7' class='xr-var-attrs-in' type='checkbox' disabled><label for='attrs-e35e1844-3493-4ca2-aadb-28993ad21cc7' title='Show/Hide attributes'><svg class='icon xr-icon-file-text2'><use xlink:href='#icon-file-text2'></use></svg></label><input id='data-2b69af67-ffef-429d-86a7-018da932de77' class='xr-var-data-in' type='checkbox'><label for='data-2b69af67-ffef-429d-86a7-018da932de77' title='Show/Hide data repr'><svg class='icon xr-icon-database'><use xlink:href='#icon-database'></use></svg></label><div class='xr-var-attrs'><dl class='xr-attrs'></dl></div><div class='xr-var-data'><pre>array([7.2792, 7.2871, 7.3021, 7.315 , 7.3037, 7.3181, 7.3186, 7.3214,\n       7.3209, 7.3126])</pre></div></li><li class='xr-var-item'><div class='xr-var-name'><span>oxy_percentsat_ch2</span></div><div class='xr-var-dims'>(bottle)</div><div class='xr-var-dtype'>float64</div><div class='xr-var-preview xr-preview'>97.57 97.67 97.88 ... 98.15 98.06</div><input id='attrs-92c491df-df7a-43a2-8ec2-48498c2a87a1' class='xr-var-attrs-in' type='checkbox' disabled><label for='attrs-92c491df-df7a-43a2-8ec2-48498c2a87a1' title='Show/Hide attributes'><svg class='icon xr-icon-file-text2'><use xlink:href='#icon-file-text2'></use></svg></label><input id='data-041e507a-e508-41c4-9d35-1fc86efda10b' class='xr-var-data-in' type='checkbox'><label for='data-041e507a-e508-41c4-9d35-1fc86efda10b' title='Show/Hide data repr'><svg class='icon xr-icon-database'><use xlink:href='#icon-database'></use></svg></label><div class='xr-var-attrs'><dl class='xr-attrs'></dl></div><div class='xr-var-data'><pre>array([97.57 , 97.675, 97.878, 98.049, 97.903, 98.095, 98.103, 98.191,\n       98.15 , 98.06 ])</pre></div></li><li class='xr-var-item'><div class='xr-var-name'><span>oxy_conc_ch2</span></div><div class='xr-var-dims'>(bottle)</div><div class='xr-var-dtype'>float64</div><div class='xr-var-preview xr-preview'>317.0 317.4 318.0 ... 318.8 318.5</div><input id='attrs-9e1f490a-2a75-4182-845c-2dec5c50e748' class='xr-var-attrs-in' type='checkbox' disabled><label for='attrs-9e1f490a-2a75-4182-845c-2dec5c50e748' title='Show/Hide attributes'><svg class='icon xr-icon-file-text2'><use xlink:href='#icon-file-text2'></use></svg></label><input id='data-09de0716-289a-4a79-b952-669c558cc784' class='xr-var-data-in' type='checkbox'><label for='data-09de0716-289a-4a79-b952-669c558cc784' title='Show/Hide data repr'><svg class='icon xr-icon-database'><use xlink:href='#icon-database'></use></svg></label><div class='xr-var-attrs'><dl class='xr-attrs'></dl></div><div class='xr-var-data'><pre>array([317.009, 317.35 , 318.007, 318.567, 318.078, 318.701, 318.725,\n       318.848, 318.824, 318.466])</pre></div></li><li class='xr-var-item'><div class='xr-var-name'><span>salinity_ch1</span></div><div class='xr-var-dims'>(bottle)</div><div class='xr-var-dtype'>float64</div><div class='xr-var-preview xr-preview'>32.07 32.07 32.07 ... 32.07 32.07</div><input id='attrs-63521438-97eb-46ca-a17a-846cdddfebd7' class='xr-var-attrs-in' type='checkbox' disabled><label for='attrs-63521438-97eb-46ca-a17a-846cdddfebd7' title='Show/Hide attributes'><svg class='icon xr-icon-file-text2'><use xlink:href='#icon-file-text2'></use></svg></label><input id='data-274a48eb-41bd-48fc-8886-38d6555243b3' class='xr-var-data-in' type='checkbox'><label for='data-274a48eb-41bd-48fc-8886-38d6555243b3' title='Show/Hide data repr'><svg class='icon xr-icon-database'><use xlink:href='#icon-database'></use></svg></label><div class='xr-var-attrs'><dl class='xr-attrs'></dl></div><div class='xr-var-data'><pre>array([32.0659, 32.0659, 32.066 , 32.0659, 32.0658, 32.066 , 32.0658,\n       32.0658, 32.0658, 32.0659])</pre></div></li><li class='xr-var-item'><div class='xr-var-name'><span>salinity_ch2</span></div><div class='xr-var-dims'>(bottle)</div><div class='xr-var-dtype'>float64</div><div class='xr-var-preview xr-preview'>32.07 32.07 32.07 ... 32.07 32.07</div><input id='attrs-84a996c1-7ccd-4233-bc58-e135610f6a84' class='xr-var-attrs-in' type='checkbox' disabled><label for='attrs-84a996c1-7ccd-4233-bc58-e135610f6a84' title='Show/Hide attributes'><svg class='icon xr-icon-file-text2'><use xlink:href='#icon-file-text2'></use></svg></label><input id='data-806eafe6-803b-406e-8919-aadd780f6749' class='xr-var-data-in' type='checkbox'><label for='data-806eafe6-803b-406e-8919-aadd780f6749' title='Show/Hide data repr'><svg class='icon xr-icon-database'><use xlink:href='#icon-database'></use></svg></label><div class='xr-var-attrs'><dl class='xr-attrs'></dl></div><div class='xr-var-data'><pre>array([32.0682, 32.0681, 32.0682, 32.0682, 32.0681, 32.0683, 32.0681,\n       32.0681, 32.0679, 32.0681])</pre></div></li><li class='xr-var-item'><div class='xr-var-name'><span>sigma_t_ch1</span></div><div class='xr-var-dims'>(bottle)</div><div class='xr-var-dtype'>float64</div><div class='xr-var-preview xr-preview'>25.49 25.49 25.49 ... 25.49 25.49</div><input id='attrs-a73c3752-114c-44dc-9733-cca0253b48c9' class='xr-var-attrs-in' type='checkbox' disabled><label for='attrs-a73c3752-114c-44dc-9733-cca0253b48c9' title='Show/Hide attributes'><svg class='icon xr-icon-file-text2'><use xlink:href='#icon-file-text2'></use></svg></label><input id='data-9b961c42-47ea-4d9f-94d7-5cddfd6e97b4' class='xr-var-data-in' type='checkbox'><label for='data-9b961c42-47ea-4d9f-94d7-5cddfd6e97b4' title='Show/Hide data repr'><svg class='icon xr-icon-database'><use xlink:href='#icon-database'></use></svg></label><div class='xr-var-attrs'><dl class='xr-attrs'></dl></div><div class='xr-var-data'><pre>array([25.4897, 25.4896, 25.4897, 25.4897, 25.4894, 25.4895, 25.4894,\n       25.4874, 25.4888, 25.488 ])</pre></div></li><li class='xr-var-item'><div class='xr-var-name'><span>sigma_t_ch2</span></div><div class='xr-var-dims'>(bottle)</div><div class='xr-var-dtype'>float64</div><div class='xr-var-preview xr-preview'>25.49 25.49 25.49 ... 25.49 25.49</div><input id='attrs-3eb7b9a6-3752-4469-8000-8ad675b79eed' class='xr-var-attrs-in' type='checkbox' disabled><label for='attrs-3eb7b9a6-3752-4469-8000-8ad675b79eed' title='Show/Hide attributes'><svg class='icon xr-icon-file-text2'><use xlink:href='#icon-file-text2'></use></svg></label><input id='data-afb1c572-b6c5-43c0-ac64-67fe15a49551' class='xr-var-data-in' type='checkbox'><label for='data-afb1c572-b6c5-43c0-ac64-67fe15a49551' title='Show/Hide data repr'><svg class='icon xr-icon-database'><use xlink:href='#icon-database'></use></svg></label><div class='xr-var-attrs'><dl class='xr-attrs'></dl></div><div class='xr-var-data'><pre>array([25.4915, 25.4914, 25.4914, 25.4915, 25.4912, 25.4914, 25.4912,\n       25.4893, 25.4903, 25.4897])</pre></div></li><li class='xr-var-item'><div class='xr-var-name'><span>chlor_fluorescence</span></div><div class='xr-var-dims'>(bottle)</div><div class='xr-var-dtype'>float64</div><div class='xr-var-preview xr-preview'>0.8234 0.8635 ... 0.7043 0.5261</div><input id='attrs-3c47f863-e935-41f4-81ff-b66120ed6021' class='xr-var-attrs-in' type='checkbox' disabled><label for='attrs-3c47f863-e935-41f4-81ff-b66120ed6021' title='Show/Hide attributes'><svg class='icon xr-icon-file-text2'><use xlink:href='#icon-file-text2'></use></svg></label><input id='data-ad5ea997-fecf-4236-b833-642875e6a309' class='xr-var-data-in' type='checkbox'><label for='data-ad5ea997-fecf-4236-b833-642875e6a309' title='Show/Hide data repr'><svg class='icon xr-icon-database'><use xlink:href='#icon-database'></use></svg></label><div class='xr-var-attrs'><dl class='xr-attrs'></dl></div><div class='xr-var-data'><pre>array([0.8234, 0.8635, 0.8571, 0.8371, 0.8379, 0.8962, 0.9022, 0.7728,\n       0.7043, 0.5261])</pre></div></li><li class='xr-var-item'><div class='xr-var-name'><span>temperature_ch1</span></div><div class='xr-var-dims'>(bottle)</div><div class='xr-var-dtype'>float64</div><div class='xr-var-preview xr-preview'>3.609 3.609 3.61 ... 3.618 3.627</div><input id='attrs-5bf851f9-e0a5-4c46-9bd0-c186528dcf20' class='xr-var-attrs-in' type='checkbox' disabled><label for='attrs-5bf851f9-e0a5-4c46-9bd0-c186528dcf20' title='Show/Hide attributes'><svg class='icon xr-icon-file-text2'><use xlink:href='#icon-file-text2'></use></svg></label><input id='data-32aa3f09-fb62-4cf8-aacf-75c67589df56' class='xr-var-data-in' type='checkbox'><label for='data-32aa3f09-fb62-4cf8-aacf-75c67589df56' title='Show/Hide data repr'><svg class='icon xr-icon-database'><use xlink:href='#icon-database'></use></svg></label><div class='xr-var-attrs'><dl class='xr-attrs'></dl></div><div class='xr-var-data'><pre>array([3.6092, 3.6092, 3.6097, 3.6091, 3.6111, 3.6112, 3.6114, 3.6322,\n       3.6183, 3.6269])</pre></div></li><li class='xr-var-item'><div class='xr-var-name'><span>temperature_ch2</span></div><div class='xr-var-dims'>(bottle)</div><div class='xr-var-dtype'>float64</div><div class='xr-var-preview xr-preview'>3.61 3.61 3.61 ... 3.632 3.62 3.627</div><input id='attrs-0f9d30af-65bf-4753-aa3a-8dd2ec15196d' class='xr-var-attrs-in' type='checkbox' disabled><label for='attrs-0f9d30af-65bf-4753-aa3a-8dd2ec15196d' title='Show/Hide attributes'><svg class='icon xr-icon-file-text2'><use xlink:href='#icon-file-text2'></use></svg></label><input id='data-3bb42942-b0ef-4978-a33a-2f47c0b84a6b' class='xr-var-data-in' type='checkbox'><label for='data-3bb42942-b0ef-4978-a33a-2f47c0b84a6b' title='Show/Hide data repr'><svg class='icon xr-icon-database'><use xlink:href='#icon-database'></use></svg></label><div class='xr-var-attrs'><dl class='xr-attrs'></dl></div><div class='xr-var-data'><pre>array([3.6095, 3.6095, 3.61  , 3.6094, 3.6116, 3.6114, 3.612 , 3.6321,\n       3.6204, 3.6274])</pre></div></li><li class='xr-var-item'><div class='xr-var-name'><span>turbidity</span></div><div class='xr-var-dims'>(bottle)</div><div class='xr-var-dtype'>float64</div><div class='xr-var-preview xr-preview'>1.585 1.514 ... 0.6597 0.7356</div><input id='attrs-68fc95dd-a0ba-4a37-85c8-7f9c81f74b6e' class='xr-var-attrs-in' type='checkbox' disabled><label for='attrs-68fc95dd-a0ba-4a37-85c8-7f9c81f74b6e' title='Show/Hide attributes'><svg class='icon xr-icon-file-text2'><use xlink:href='#icon-file-text2'></use></svg></label><input id='data-8a8f9efd-701d-47b4-bf0b-56f117a29c6a' class='xr-var-data-in' type='checkbox'><label for='data-8a8f9efd-701d-47b4-bf0b-56f117a29c6a' title='Show/Hide data repr'><svg class='icon xr-icon-database'><use xlink:href='#icon-database'></use></svg></label><div class='xr-var-attrs'><dl class='xr-attrs'></dl></div><div class='xr-var-data'><pre>array([1.5855, 1.5143, 0.9707, 0.7907, 0.6895, 0.763 , 0.6728, 0.6659,\n       0.6597, 0.7356])</pre></div></li><li class='xr-var-item'><div class='xr-var-name'><span>Pressure [dbar]</span></div><div class='xr-var-dims'>(bottle)</div><div class='xr-var-dtype'>float64</div><div class='xr-var-preview xr-preview'>65.42 65.16 51.24 ... 9.09 3.948</div><input id='attrs-2dca32c4-b27a-4d4f-9266-82da0a749698' class='xr-var-attrs-in' type='checkbox' disabled><label for='attrs-2dca32c4-b27a-4d4f-9266-82da0a749698' title='Show/Hide attributes'><svg class='icon xr-icon-file-text2'><use xlink:href='#icon-file-text2'></use></svg></label><input id='data-59891db3-0dd4-45dc-a14a-0e722a62fefe' class='xr-var-data-in' type='checkbox'><label for='data-59891db3-0dd4-45dc-a14a-0e722a62fefe' title='Show/Hide data repr'><svg class='icon xr-icon-database'><use xlink:href='#icon-database'></use></svg></label><div class='xr-var-attrs'><dl class='xr-attrs'></dl></div><div class='xr-var-data'><pre>array([65.415, 65.161, 51.241, 42.043, 29.727, 27.823, 26.557, 14.254,\n        9.09 ,  3.948])</pre></div></li><li class='xr-var-item'><div class='xr-var-name'><span>scan</span></div><div class='xr-var-dims'>(bottle)</div><div class='xr-var-dtype'>float64</div><div class='xr-var-preview xr-preview'>1.269e+04 1.286e+04 ... 3.597e+04</div><input id='attrs-a2f5d144-4496-472c-8bb3-d6a0de678dfd' class='xr-var-attrs-in' type='checkbox' disabled><label for='attrs-a2f5d144-4496-472c-8bb3-d6a0de678dfd' title='Show/Hide attributes'><svg class='icon xr-icon-file-text2'><use xlink:href='#icon-file-text2'></use></svg></label><input id='data-d0640da6-539d-4ca8-87f5-bb8159b5bf8f' class='xr-var-data-in' type='checkbox'><label for='data-d0640da6-539d-4ca8-87f5-bb8159b5bf8f' title='Show/Hide data repr'><svg class='icon xr-icon-database'><use xlink:href='#icon-database'></use></svg></label><div class='xr-var-attrs'><dl class='xr-attrs'></dl></div><div class='xr-var-data'><pre>array([12686., 12857., 17600., 21312., 24809., 27479., 27680., 30461.,\n       33210., 35967.])</pre></div></li><li class='xr-var-item'><div class='xr-var-name'><span>datetime</span></div><div class='xr-var-dims'>(bottle)</div><div class='xr-var-dtype'>datetime64[ns]</div><div class='xr-var-preview xr-preview'>2018-04-30T19:20:40 ... 2018-04-...</div><input id='attrs-bfd82e3a-d389-4336-9bae-2b8060126a9d' class='xr-var-attrs-in' type='checkbox' disabled><label for='attrs-bfd82e3a-d389-4336-9bae-2b8060126a9d' title='Show/Hide attributes'><svg class='icon xr-icon-file-text2'><use xlink:href='#icon-file-text2'></use></svg></label><input id='data-b76afd8a-11cc-4aa5-8dd3-94b907175a7d' class='xr-var-data-in' type='checkbox'><label for='data-b76afd8a-11cc-4aa5-8dd3-94b907175a7d' title='Show/Hide data repr'><svg class='icon xr-icon-database'><use xlink:href='#icon-database'></use></svg></label><div class='xr-var-attrs'><dl class='xr-attrs'></dl></div><div class='xr-var-data'><pre>array([&#x27;2018-04-30T19:20:40.000000000&#x27;, &#x27;2018-04-30T19:20:47.000000000&#x27;,\n       &#x27;2018-04-30T19:24:05.000000000&#x27;, &#x27;2018-04-30T19:26:40.000000000&#x27;,\n       &#x27;2018-04-30T19:29:05.000000000&#x27;, &#x27;2018-04-30T19:30:57.000000000&#x27;,\n       &#x27;2018-04-30T19:31:05.000000000&#x27;, &#x27;2018-04-30T19:33:01.000000000&#x27;,\n       &#x27;2018-04-30T19:34:55.000000000&#x27;, &#x27;2018-04-30T19:36:50.000000000&#x27;],\n      dtype=&#x27;datetime64[ns]&#x27;)</pre></div></li></ul></div></li><li class='xr-section-item'><input id='section-d9c126d9-8fd2-4c63-97bb-36ddb8dbb259' class='xr-section-summary-in' type='checkbox' disabled ><label for='section-d9c126d9-8fd2-4c63-97bb-36ddb8dbb259' class='xr-section-summary'  title='Expand/collapse section'>Attributes: <span>(0)</span></label><div class='xr-section-inline-details'></div><div class='xr-section-details'><dl class='xr-attrs'></dl></div></li></ul></div></div>"
     },
     "metadata": {},
     "execution_count": 12
    }
   ],
   "source": [
    "cruise_data_nc.get_xdf()"
   ]
  },
  {
   "cell_type": "markdown",
   "id": "asian-chambers",
   "metadata": {},
   "source": [
    "At this point, you could save your file with the `.xarray2netcdf_save()` method and have a functioning dataset.... but it would be very simple with no additional qc, meta-data, or tuned parameters for optimizing software like ferret or erddap."
   ]
  },
  {
   "cell_type": "code",
   "execution_count": 13,
   "id": "practical-pennsylvania",
   "metadata": {},
   "outputs": [],
   "source": [
    "# expand the dimensions and coordinate variables\n",
    "# renames them appropriatley and prepares them for meta-filled values\n",
    "cruise_data_nc.expand_dimensions(geophys_sort=False)"
   ]
  },
  {
   "cell_type": "code",
   "execution_count": 14,
   "id": "floral-operations",
   "metadata": {},
   "outputs": [],
   "source": [
    "#build list from columsn in data - if a variable isn't in the yaml file, it will be dropped from the final data fields\n",
    "cruise_data_nc.variable_meta_data(variable_keys=list(cruise_data['ctd001.btl'].columns.values),drop_missing=False)\n",
    "#adding dimension meta needs to come after updating the dimension values... BUG?\n",
    "cruise_data_nc.dimension_meta_data(variable_keys=['depth','latitude','longitude'])"
   ]
  },
  {
   "cell_type": "markdown",
   "id": "seventh-product",
   "metadata": {},
   "source": [
    "The following steps can happen in just about any order and are all meta-data driven.  Therefore, they are not required to have a functioning dataset, but they are required to have a well described dataset"
   ]
  },
  {
   "cell_type": "code",
   "execution_count": 15,
   "id": "auburn-diversity",
   "metadata": {},
   "outputs": [],
   "source": [
    "#add global attributes\n",
    "cruise_data_nc.deployment_meta_add(conscastno='CTD001')\n",
    "cruise_data_nc.get_xdf()\n",
    "\n",
    "#add instituitonal global attributes\n",
    "cruise_data_nc.institution_meta_add(group_config)\n",
    "\n",
    "#add creation date/time - provenance data\n",
    "cruise_data_nc.provinance_meta_add()\n",
    "\n",
    "#provide intial qc status field\n",
    "cruise_data_nc.qc_status(qc_status='unknown')\n"
   ]
  },
  {
   "cell_type": "markdown",
   "id": "sustained-hughes",
   "metadata": {},
   "source": [
    "## Save CF Netcdf files\n",
    "\n",
    "Currently stick to netcdf3 classic... but migrating to netcdf4 (default) may be no problems for most modern purposes.  Its easy enough to pass the `format` kwargs through to the netcdf api of xarray."
   ]
  },
  {
   "cell_type": "code",
   "execution_count": 16,
   "id": "modular-volunteer",
   "metadata": {},
   "outputs": [],
   "source": [
    "cast = 'CTD001'.split('D')[-1]\n",
    "cruise_data_nc.xarray2netcdf_save(xdf = cruise_data_nc.get_xdf(),\n",
    "                           filename=cruise_name+'c'+cast.zfill(3)+'_btl.nc',format=\"NETCDF3_CLASSIC\")"
   ]
  },
  {
   "cell_type": "code",
   "execution_count": 17,
   "id": "unlike-breathing",
   "metadata": {},
   "outputs": [
    {
     "output_type": "execute_result",
     "data": {
      "text/plain": [
       "<xarray.Dataset>\n",
       "Dimensions:             (bottle: 10, depth: 1, latitude: 1, longitude: 1)\n",
       "Coordinates:\n",
       "  * bottle              (bottle) float64 1.0 2.0 3.0 4.0 ... 8.0 9.0 10.0 11.0\n",
       "  * latitude            (latitude) float64 1e+35\n",
       "  * longitude           (longitude) float64 1e+35\n",
       "  * depth               (depth) float64 1e+35\n",
       "Data variables: (12/17)\n",
       "    oxy_concM_ch1       (latitude, longitude, depth, bottle) float64 7.62 ......\n",
       "    oxy_percentsat_ch1  (latitude, longitude, depth, bottle) float64 102.1 .....\n",
       "    oxy_conc_ch1        (latitude, longitude, depth, bottle) float64 331.9 .....\n",
       "    oxy_concM_ch2       (latitude, longitude, depth, bottle) float64 7.279 .....\n",
       "    oxy_percentsat_ch2  (latitude, longitude, depth, bottle) float64 97.57 .....\n",
       "    oxy_conc_ch2        (latitude, longitude, depth, bottle) float64 317.0 .....\n",
       "    ...                  ...\n",
       "    temperature_ch1     (latitude, longitude, depth, bottle) float64 3.609 .....\n",
       "    temperature_ch2     (latitude, longitude, depth, bottle) float64 3.61 ......\n",
       "    turbidity           (latitude, longitude, depth, bottle) float64 1.585 .....\n",
       "    Pressure [dbar]     (latitude, longitude, depth, bottle) float64 65.42 .....\n",
       "    scan                (latitude, longitude, depth, bottle) float64 1.269e+0...\n",
       "    datetime            (latitude, longitude, depth, bottle) datetime64[ns] 2...\n",
       "Attributes:\n",
       "    CruiseID:       DY1805\n",
       "    VesselName:     R/V Oscar Dyson\n",
       "    WaterDepth:     65\n",
       "    date_created:   2021-04-23T13:23:06Z\n",
       "    date_modified:  \n",
       "    QC_indicator:   unknown"
      ],
      "text/html": "<div><svg style=\"position: absolute; width: 0; height: 0; overflow: hidden\">\n<defs>\n<symbol id=\"icon-database\" viewBox=\"0 0 32 32\">\n<path d=\"M16 0c-8.837 0-16 2.239-16 5v4c0 2.761 7.163 5 16 5s16-2.239 16-5v-4c0-2.761-7.163-5-16-5z\"></path>\n<path d=\"M16 17c-8.837 0-16-2.239-16-5v6c0 2.761 7.163 5 16 5s16-2.239 16-5v-6c0 2.761-7.163 5-16 5z\"></path>\n<path d=\"M16 26c-8.837 0-16-2.239-16-5v6c0 2.761 7.163 5 16 5s16-2.239 16-5v-6c0 2.761-7.163 5-16 5z\"></path>\n</symbol>\n<symbol id=\"icon-file-text2\" viewBox=\"0 0 32 32\">\n<path d=\"M28.681 7.159c-0.694-0.947-1.662-2.053-2.724-3.116s-2.169-2.030-3.116-2.724c-1.612-1.182-2.393-1.319-2.841-1.319h-15.5c-1.378 0-2.5 1.121-2.5 2.5v27c0 1.378 1.122 2.5 2.5 2.5h23c1.378 0 2.5-1.122 2.5-2.5v-19.5c0-0.448-0.137-1.23-1.319-2.841zM24.543 5.457c0.959 0.959 1.712 1.825 2.268 2.543h-4.811v-4.811c0.718 0.556 1.584 1.309 2.543 2.268zM28 29.5c0 0.271-0.229 0.5-0.5 0.5h-23c-0.271 0-0.5-0.229-0.5-0.5v-27c0-0.271 0.229-0.5 0.5-0.5 0 0 15.499-0 15.5 0v7c0 0.552 0.448 1 1 1h7v19.5z\"></path>\n<path d=\"M23 26h-14c-0.552 0-1-0.448-1-1s0.448-1 1-1h14c0.552 0 1 0.448 1 1s-0.448 1-1 1z\"></path>\n<path d=\"M23 22h-14c-0.552 0-1-0.448-1-1s0.448-1 1-1h14c0.552 0 1 0.448 1 1s-0.448 1-1 1z\"></path>\n<path d=\"M23 18h-14c-0.552 0-1-0.448-1-1s0.448-1 1-1h14c0.552 0 1 0.448 1 1s-0.448 1-1 1z\"></path>\n</symbol>\n</defs>\n</svg>\n<style>/* CSS stylesheet for displaying xarray objects in jupyterlab.\n *\n */\n\n:root {\n  --xr-font-color0: var(--jp-content-font-color0, rgba(0, 0, 0, 1));\n  --xr-font-color2: var(--jp-content-font-color2, rgba(0, 0, 0, 0.54));\n  --xr-font-color3: var(--jp-content-font-color3, rgba(0, 0, 0, 0.38));\n  --xr-border-color: var(--jp-border-color2, #e0e0e0);\n  --xr-disabled-color: var(--jp-layout-color3, #bdbdbd);\n  --xr-background-color: var(--jp-layout-color0, white);\n  --xr-background-color-row-even: var(--jp-layout-color1, white);\n  --xr-background-color-row-odd: var(--jp-layout-color2, #eeeeee);\n}\n\nhtml[theme=dark],\nbody.vscode-dark {\n  --xr-font-color0: rgba(255, 255, 255, 1);\n  --xr-font-color2: rgba(255, 255, 255, 0.54);\n  --xr-font-color3: rgba(255, 255, 255, 0.38);\n  --xr-border-color: #1F1F1F;\n  --xr-disabled-color: #515151;\n  --xr-background-color: #111111;\n  --xr-background-color-row-even: #111111;\n  --xr-background-color-row-odd: #313131;\n}\n\n.xr-wrap {\n  display: block;\n  min-width: 300px;\n  max-width: 700px;\n}\n\n.xr-text-repr-fallback {\n  /* fallback to plain text repr when CSS is not injected (untrusted notebook) */\n  display: none;\n}\n\n.xr-header {\n  padding-top: 6px;\n  padding-bottom: 6px;\n  margin-bottom: 4px;\n  border-bottom: solid 1px var(--xr-border-color);\n}\n\n.xr-header > div,\n.xr-header > ul {\n  display: inline;\n  margin-top: 0;\n  margin-bottom: 0;\n}\n\n.xr-obj-type,\n.xr-array-name {\n  margin-left: 2px;\n  margin-right: 10px;\n}\n\n.xr-obj-type {\n  color: var(--xr-font-color2);\n}\n\n.xr-sections {\n  padding-left: 0 !important;\n  display: grid;\n  grid-template-columns: 150px auto auto 1fr 20px 20px;\n}\n\n.xr-section-item {\n  display: contents;\n}\n\n.xr-section-item input {\n  display: none;\n}\n\n.xr-section-item input + label {\n  color: var(--xr-disabled-color);\n}\n\n.xr-section-item input:enabled + label {\n  cursor: pointer;\n  color: var(--xr-font-color2);\n}\n\n.xr-section-item input:enabled + label:hover {\n  color: var(--xr-font-color0);\n}\n\n.xr-section-summary {\n  grid-column: 1;\n  color: var(--xr-font-color2);\n  font-weight: 500;\n}\n\n.xr-section-summary > span {\n  display: inline-block;\n  padding-left: 0.5em;\n}\n\n.xr-section-summary-in:disabled + label {\n  color: var(--xr-font-color2);\n}\n\n.xr-section-summary-in + label:before {\n  display: inline-block;\n  content: '►';\n  font-size: 11px;\n  width: 15px;\n  text-align: center;\n}\n\n.xr-section-summary-in:disabled + label:before {\n  color: var(--xr-disabled-color);\n}\n\n.xr-section-summary-in:checked + label:before {\n  content: '▼';\n}\n\n.xr-section-summary-in:checked + label > span {\n  display: none;\n}\n\n.xr-section-summary,\n.xr-section-inline-details {\n  padding-top: 4px;\n  padding-bottom: 4px;\n}\n\n.xr-section-inline-details {\n  grid-column: 2 / -1;\n}\n\n.xr-section-details {\n  display: none;\n  grid-column: 1 / -1;\n  margin-bottom: 5px;\n}\n\n.xr-section-summary-in:checked ~ .xr-section-details {\n  display: contents;\n}\n\n.xr-array-wrap {\n  grid-column: 1 / -1;\n  display: grid;\n  grid-template-columns: 20px auto;\n}\n\n.xr-array-wrap > label {\n  grid-column: 1;\n  vertical-align: top;\n}\n\n.xr-preview {\n  color: var(--xr-font-color3);\n}\n\n.xr-array-preview,\n.xr-array-data {\n  padding: 0 5px !important;\n  grid-column: 2;\n}\n\n.xr-array-data,\n.xr-array-in:checked ~ .xr-array-preview {\n  display: none;\n}\n\n.xr-array-in:checked ~ .xr-array-data,\n.xr-array-preview {\n  display: inline-block;\n}\n\n.xr-dim-list {\n  display: inline-block !important;\n  list-style: none;\n  padding: 0 !important;\n  margin: 0;\n}\n\n.xr-dim-list li {\n  display: inline-block;\n  padding: 0;\n  margin: 0;\n}\n\n.xr-dim-list:before {\n  content: '(';\n}\n\n.xr-dim-list:after {\n  content: ')';\n}\n\n.xr-dim-list li:not(:last-child):after {\n  content: ',';\n  padding-right: 5px;\n}\n\n.xr-has-index {\n  font-weight: bold;\n}\n\n.xr-var-list,\n.xr-var-item {\n  display: contents;\n}\n\n.xr-var-item > div,\n.xr-var-item label,\n.xr-var-item > .xr-var-name span {\n  background-color: var(--xr-background-color-row-even);\n  margin-bottom: 0;\n}\n\n.xr-var-item > .xr-var-name:hover span {\n  padding-right: 5px;\n}\n\n.xr-var-list > li:nth-child(odd) > div,\n.xr-var-list > li:nth-child(odd) > label,\n.xr-var-list > li:nth-child(odd) > .xr-var-name span {\n  background-color: var(--xr-background-color-row-odd);\n}\n\n.xr-var-name {\n  grid-column: 1;\n}\n\n.xr-var-dims {\n  grid-column: 2;\n}\n\n.xr-var-dtype {\n  grid-column: 3;\n  text-align: right;\n  color: var(--xr-font-color2);\n}\n\n.xr-var-preview {\n  grid-column: 4;\n}\n\n.xr-var-name,\n.xr-var-dims,\n.xr-var-dtype,\n.xr-preview,\n.xr-attrs dt {\n  white-space: nowrap;\n  overflow: hidden;\n  text-overflow: ellipsis;\n  padding-right: 10px;\n}\n\n.xr-var-name:hover,\n.xr-var-dims:hover,\n.xr-var-dtype:hover,\n.xr-attrs dt:hover {\n  overflow: visible;\n  width: auto;\n  z-index: 1;\n}\n\n.xr-var-attrs,\n.xr-var-data {\n  display: none;\n  background-color: var(--xr-background-color) !important;\n  padding-bottom: 5px !important;\n}\n\n.xr-var-attrs-in:checked ~ .xr-var-attrs,\n.xr-var-data-in:checked ~ .xr-var-data {\n  display: block;\n}\n\n.xr-var-data > table {\n  float: right;\n}\n\n.xr-var-name span,\n.xr-var-data,\n.xr-attrs {\n  padding-left: 25px !important;\n}\n\n.xr-attrs,\n.xr-var-attrs,\n.xr-var-data {\n  grid-column: 1 / -1;\n}\n\ndl.xr-attrs {\n  padding: 0;\n  margin: 0;\n  display: grid;\n  grid-template-columns: 125px auto;\n}\n\n.xr-attrs dt,\n.xr-attrs dd {\n  padding: 0;\n  margin: 0;\n  float: left;\n  padding-right: 10px;\n  width: auto;\n}\n\n.xr-attrs dt {\n  font-weight: normal;\n  grid-column: 1;\n}\n\n.xr-attrs dt:hover span {\n  display: inline-block;\n  background: var(--xr-background-color);\n  padding-right: 10px;\n}\n\n.xr-attrs dd {\n  grid-column: 2;\n  white-space: pre-wrap;\n  word-break: break-all;\n}\n\n.xr-icon-database,\n.xr-icon-file-text2 {\n  display: inline-block;\n  vertical-align: middle;\n  width: 1em;\n  height: 1.5em !important;\n  stroke-width: 0;\n  stroke: currentColor;\n  fill: currentColor;\n}\n</style><pre class='xr-text-repr-fallback'>&lt;xarray.Dataset&gt;\nDimensions:             (bottle: 10, depth: 1, latitude: 1, longitude: 1)\nCoordinates:\n  * bottle              (bottle) float64 1.0 2.0 3.0 4.0 ... 8.0 9.0 10.0 11.0\n  * latitude            (latitude) float64 1e+35\n  * longitude           (longitude) float64 1e+35\n  * depth               (depth) float64 1e+35\nData variables: (12/17)\n    oxy_concM_ch1       (latitude, longitude, depth, bottle) float64 7.62 ......\n    oxy_percentsat_ch1  (latitude, longitude, depth, bottle) float64 102.1 .....\n    oxy_conc_ch1        (latitude, longitude, depth, bottle) float64 331.9 .....\n    oxy_concM_ch2       (latitude, longitude, depth, bottle) float64 7.279 .....\n    oxy_percentsat_ch2  (latitude, longitude, depth, bottle) float64 97.57 .....\n    oxy_conc_ch2        (latitude, longitude, depth, bottle) float64 317.0 .....\n    ...                  ...\n    temperature_ch1     (latitude, longitude, depth, bottle) float64 3.609 .....\n    temperature_ch2     (latitude, longitude, depth, bottle) float64 3.61 ......\n    turbidity           (latitude, longitude, depth, bottle) float64 1.585 .....\n    Pressure [dbar]     (latitude, longitude, depth, bottle) float64 65.42 .....\n    scan                (latitude, longitude, depth, bottle) float64 1.269e+0...\n    datetime            (latitude, longitude, depth, bottle) datetime64[ns] 2...\nAttributes:\n    CruiseID:       DY1805\n    VesselName:     R/V Oscar Dyson\n    WaterDepth:     65\n    date_created:   2021-04-23T13:23:06Z\n    date_modified:  \n    QC_indicator:   unknown</pre><div class='xr-wrap' hidden><div class='xr-header'><div class='xr-obj-type'>xarray.Dataset</div></div><ul class='xr-sections'><li class='xr-section-item'><input id='section-7bd6a04e-9aa9-4b00-b97f-81c4de73b20c' class='xr-section-summary-in' type='checkbox' disabled ><label for='section-7bd6a04e-9aa9-4b00-b97f-81c4de73b20c' class='xr-section-summary'  title='Expand/collapse section'>Dimensions:</label><div class='xr-section-inline-details'><ul class='xr-dim-list'><li><span class='xr-has-index'>bottle</span>: 10</li><li><span class='xr-has-index'>depth</span>: 1</li><li><span class='xr-has-index'>latitude</span>: 1</li><li><span class='xr-has-index'>longitude</span>: 1</li></ul></div><div class='xr-section-details'></div></li><li class='xr-section-item'><input id='section-02411744-5312-4358-b43d-0badb6e64183' class='xr-section-summary-in' type='checkbox'  checked><label for='section-02411744-5312-4358-b43d-0badb6e64183' class='xr-section-summary' >Coordinates: <span>(4)</span></label><div class='xr-section-inline-details'></div><div class='xr-section-details'><ul class='xr-var-list'><li class='xr-var-item'><div class='xr-var-name'><span class='xr-has-index'>bottle</span></div><div class='xr-var-dims'>(bottle)</div><div class='xr-var-dtype'>float64</div><div class='xr-var-preview xr-preview'>1.0 2.0 3.0 4.0 ... 9.0 10.0 11.0</div><input id='attrs-d2d7c61a-95a3-4b91-8443-a9c786ca67a1' class='xr-var-attrs-in' type='checkbox' disabled><label for='attrs-d2d7c61a-95a3-4b91-8443-a9c786ca67a1' title='Show/Hide attributes'><svg class='icon xr-icon-file-text2'><use xlink:href='#icon-file-text2'></use></svg></label><input id='data-33a25500-c857-4f6c-bae0-f0cc0f3133f0' class='xr-var-data-in' type='checkbox'><label for='data-33a25500-c857-4f6c-bae0-f0cc0f3133f0' title='Show/Hide data repr'><svg class='icon xr-icon-database'><use xlink:href='#icon-database'></use></svg></label><div class='xr-var-attrs'><dl class='xr-attrs'></dl></div><div class='xr-var-data'><pre>array([ 1.,  2.,  3.,  4.,  6.,  7.,  8.,  9., 10., 11.])</pre></div></li><li class='xr-var-item'><div class='xr-var-name'><span class='xr-has-index'>latitude</span></div><div class='xr-var-dims'>(latitude)</div><div class='xr-var-dtype'>float64</div><div class='xr-var-preview xr-preview'>1e+35</div><input id='attrs-f7bc0f10-336a-4b7c-93b4-b665f80c6f48' class='xr-var-attrs-in' type='checkbox' ><label for='attrs-f7bc0f10-336a-4b7c-93b4-b665f80c6f48' title='Show/Hide attributes'><svg class='icon xr-icon-file-text2'><use xlink:href='#icon-file-text2'></use></svg></label><input id='data-158bb926-5e10-4776-a866-53a58cd1ba06' class='xr-var-data-in' type='checkbox'><label for='data-158bb926-5e10-4776-a866-53a58cd1ba06' title='Show/Hide data repr'><svg class='icon xr-icon-database'><use xlink:href='#icon-database'></use></svg></label><div class='xr-var-attrs'><dl class='xr-attrs'><dt><span>epic_key :</span></dt><dd>LON_501</dd><dt><span>name :</span></dt><dd>latitude</dd><dt><span>generic_name :</span></dt><dd>latitude</dd><dt><span>units :</span></dt><dd>degrees_north</dd><dt><span>long_name :</span></dt><dd>latitude</dd><dt><span>standard_name :</span></dt><dd>latitude</dd></dl></div><div class='xr-var-data'><pre>array([1.e+35])</pre></div></li><li class='xr-var-item'><div class='xr-var-name'><span class='xr-has-index'>longitude</span></div><div class='xr-var-dims'>(longitude)</div><div class='xr-var-dtype'>float64</div><div class='xr-var-preview xr-preview'>1e+35</div><input id='attrs-8af5b36d-ee99-4946-8056-69b3598fb71a' class='xr-var-attrs-in' type='checkbox' ><label for='attrs-8af5b36d-ee99-4946-8056-69b3598fb71a' title='Show/Hide attributes'><svg class='icon xr-icon-file-text2'><use xlink:href='#icon-file-text2'></use></svg></label><input id='data-ec8d0e7d-c3aa-4c9b-8602-d9f011bc85ae' class='xr-var-data-in' type='checkbox'><label for='data-ec8d0e7d-c3aa-4c9b-8602-d9f011bc85ae' title='Show/Hide data repr'><svg class='icon xr-icon-database'><use xlink:href='#icon-database'></use></svg></label><div class='xr-var-attrs'><dl class='xr-attrs'><dt><span>epic_key :</span></dt><dd>LAT_500</dd><dt><span>name :</span></dt><dd>longitude</dd><dt><span>generic_name :</span></dt><dd>longitude</dd><dt><span>units :</span></dt><dd>degrees_east</dd><dt><span>long_name :</span></dt><dd>longitude</dd><dt><span>standard_name :</span></dt><dd>longitude</dd></dl></div><div class='xr-var-data'><pre>array([1.e+35])</pre></div></li><li class='xr-var-item'><div class='xr-var-name'><span class='xr-has-index'>depth</span></div><div class='xr-var-dims'>(depth)</div><div class='xr-var-dtype'>float64</div><div class='xr-var-preview xr-preview'>1e+35</div><input id='attrs-6a3fe429-e52c-48c1-a211-76a33fd32bb2' class='xr-var-attrs-in' type='checkbox' ><label for='attrs-6a3fe429-e52c-48c1-a211-76a33fd32bb2' title='Show/Hide attributes'><svg class='icon xr-icon-file-text2'><use xlink:href='#icon-file-text2'></use></svg></label><input id='data-76f8b158-4b9e-4e21-9c2b-2c4e477eef32' class='xr-var-data-in' type='checkbox'><label for='data-76f8b158-4b9e-4e21-9c2b-2c4e477eef32' title='Show/Hide data repr'><svg class='icon xr-icon-database'><use xlink:href='#icon-database'></use></svg></label><div class='xr-var-attrs'><dl class='xr-attrs'><dt><span>epic_key :</span></dt><dd>D_3</dd><dt><span>generic_name :</span></dt><dd>depth</dd><dt><span>units :</span></dt><dd>meter</dd><dt><span>long_name :</span></dt><dd>depth below surface (meters)</dd><dt><span>standard_name :</span></dt><dd>depth</dd></dl></div><div class='xr-var-data'><pre>array([1.e+35])</pre></div></li></ul></div></li><li class='xr-section-item'><input id='section-dce90054-6204-4bf2-ab62-1eec949d6d49' class='xr-section-summary-in' type='checkbox'  ><label for='section-dce90054-6204-4bf2-ab62-1eec949d6d49' class='xr-section-summary' >Data variables: <span>(17)</span></label><div class='xr-section-inline-details'></div><div class='xr-section-details'><ul class='xr-var-list'><li class='xr-var-item'><div class='xr-var-name'><span>oxy_concM_ch1</span></div><div class='xr-var-dims'>(latitude, longitude, depth, bottle)</div><div class='xr-var-dtype'>float64</div><div class='xr-var-preview xr-preview'>7.62 7.021 7.312 ... 7.327 7.325</div><input id='attrs-13824915-7268-4018-b37e-20af58b740e0' class='xr-var-attrs-in' type='checkbox' ><label for='attrs-13824915-7268-4018-b37e-20af58b740e0' title='Show/Hide attributes'><svg class='icon xr-icon-file-text2'><use xlink:href='#icon-file-text2'></use></svg></label><input id='data-0863f019-533c-4abb-b0ea-685ec8966c87' class='xr-var-data-in' type='checkbox'><label for='data-0863f019-533c-4abb-b0ea-685ec8966c87' title='Show/Hide data repr'><svg class='icon xr-icon-database'><use xlink:href='#icon-database'></use></svg></label><div class='xr-var-attrs'><dl class='xr-attrs'><dt><span>generic_name :</span></dt><dd>oxy_concM channel 1</dd><dt><span>epic_key :</span></dt><dd>O_65</dd><dt><span>long_name :</span></dt><dd>concentration of oxygen in seawater</dd><dt><span>standard_name :</span></dt><dd>mole_concentration_of_dissolved_molecular_oxygen_in_sea_water</dd><dt><span>units :</span></dt><dd>ml/l</dd></dl></div><div class='xr-var-data'><pre>array([[[[7.6205, 7.0205, 7.312 , 7.3196, 7.3231, 7.3226, 7.322 ,\n          7.3382, 7.3275, 7.325 ]]]])</pre></div></li><li class='xr-var-item'><div class='xr-var-name'><span>oxy_percentsat_ch1</span></div><div class='xr-var-dims'>(latitude, longitude, depth, bottle)</div><div class='xr-var-dtype'>float64</div><div class='xr-var-preview xr-preview'>102.1 94.1 98.01 ... 98.24 98.23</div><input id='attrs-7d199405-0c44-44e9-a504-ee94880e0c8f' class='xr-var-attrs-in' type='checkbox' ><label for='attrs-7d199405-0c44-44e9-a504-ee94880e0c8f' title='Show/Hide attributes'><svg class='icon xr-icon-file-text2'><use xlink:href='#icon-file-text2'></use></svg></label><input id='data-a9845cc1-c886-486b-a975-b4dadf823788' class='xr-var-data-in' type='checkbox'><label for='data-a9845cc1-c886-486b-a975-b4dadf823788' title='Show/Hide data repr'><svg class='icon xr-icon-database'><use xlink:href='#icon-database'></use></svg></label><div class='xr-var-attrs'><dl class='xr-attrs'><dt><span>generic_name :</span></dt><dd>oxy_psat channel 1</dd><dt><span>epic_key :</span></dt><dd>OST_62</dd><dt><span>units :</span></dt><dd>percent</dd><dt><span>long_name :</span></dt><dd>Percent Saturation of oxygen over air</dd><dt><span>standard_name :</span></dt><dd>fractional_saturation_of_oxygen_in_sea_water</dd></dl></div><div class='xr-var-data'><pre>array([[[[102.145,  94.102,  98.01 ,  98.111,  98.163,  98.156,\n           98.148,  98.416,  98.239,  98.226]]]])</pre></div></li><li class='xr-var-item'><div class='xr-var-name'><span>oxy_conc_ch1</span></div><div class='xr-var-dims'>(latitude, longitude, depth, bottle)</div><div class='xr-var-dtype'>float64</div><div class='xr-var-preview xr-preview'>331.9 305.7 318.4 ... 319.1 319.0</div><input id='attrs-a62652fc-0bee-4e17-a706-71b4b3764d5b' class='xr-var-attrs-in' type='checkbox' ><label for='attrs-a62652fc-0bee-4e17-a706-71b4b3764d5b' title='Show/Hide attributes'><svg class='icon xr-icon-file-text2'><use xlink:href='#icon-file-text2'></use></svg></label><input id='data-1ea5375b-aa16-494c-b586-98e69dd8ecd5' class='xr-var-data-in' type='checkbox'><label for='data-1ea5375b-aa16-494c-b586-98e69dd8ecd5' title='Show/Hide data repr'><svg class='icon xr-icon-database'><use xlink:href='#icon-database'></use></svg></label><div class='xr-var-attrs'><dl class='xr-attrs'><dt><span>generic_name :</span></dt><dd>oxy_conc channel 1</dd><dt><span>epic_key :</span></dt><dd>O_65</dd><dt><span>long_name :</span></dt><dd>concentration of oxygen in seawater</dd><dt><span>standard_name :</span></dt><dd>mole_concentration_of_dissolved_molecular_oxygen_in_sea_water</dd><dt><span>units :</span></dt><dd>micromole/kg</dd></dl></div><div class='xr-var-data'><pre>array([[[[331.874, 305.743, 318.437, 318.769, 318.922, 318.898,\n          318.871, 319.581, 319.114, 319.003]]]])</pre></div></li><li class='xr-var-item'><div class='xr-var-name'><span>oxy_concM_ch2</span></div><div class='xr-var-dims'>(latitude, longitude, depth, bottle)</div><div class='xr-var-dtype'>float64</div><div class='xr-var-preview xr-preview'>7.279 7.287 7.302 ... 7.321 7.313</div><input id='attrs-55c159e2-9c40-4f46-8d44-dd9146d107b5' class='xr-var-attrs-in' type='checkbox' ><label for='attrs-55c159e2-9c40-4f46-8d44-dd9146d107b5' title='Show/Hide attributes'><svg class='icon xr-icon-file-text2'><use xlink:href='#icon-file-text2'></use></svg></label><input id='data-c43683f3-53b2-456a-8006-7e6814339753' class='xr-var-data-in' type='checkbox'><label for='data-c43683f3-53b2-456a-8006-7e6814339753' title='Show/Hide data repr'><svg class='icon xr-icon-database'><use xlink:href='#icon-database'></use></svg></label><div class='xr-var-attrs'><dl class='xr-attrs'><dt><span>generic_name :</span></dt><dd>oxy_concM channel 2</dd><dt><span>epic_key :</span></dt><dd>O_2060</dd><dt><span>long_name :</span></dt><dd>concentration of oxygen in seawater</dd><dt><span>standard_name :</span></dt><dd>mole_concentration_of_dissolved_molecular_oxygen_in_sea_water</dd><dt><span>units :</span></dt><dd>ml/l</dd></dl></div><div class='xr-var-data'><pre>array([[[[7.2792, 7.2871, 7.3021, 7.315 , 7.3037, 7.3181, 7.3186,\n          7.3214, 7.3209, 7.3126]]]])</pre></div></li><li class='xr-var-item'><div class='xr-var-name'><span>oxy_percentsat_ch2</span></div><div class='xr-var-dims'>(latitude, longitude, depth, bottle)</div><div class='xr-var-dtype'>float64</div><div class='xr-var-preview xr-preview'>97.57 97.67 97.88 ... 98.15 98.06</div><input id='attrs-3c848a94-8452-4cae-be6e-086298c1cfcf' class='xr-var-attrs-in' type='checkbox' ><label for='attrs-3c848a94-8452-4cae-be6e-086298c1cfcf' title='Show/Hide attributes'><svg class='icon xr-icon-file-text2'><use xlink:href='#icon-file-text2'></use></svg></label><input id='data-4bf7d353-094b-469a-adb8-2bed502e34df' class='xr-var-data-in' type='checkbox'><label for='data-4bf7d353-094b-469a-adb8-2bed502e34df' title='Show/Hide data repr'><svg class='icon xr-icon-database'><use xlink:href='#icon-database'></use></svg></label><div class='xr-var-attrs'><dl class='xr-attrs'><dt><span>generic_name :</span></dt><dd>oxy_psat channel 2</dd><dt><span>epic_key :</span></dt><dd>CTDOST_4220</dd><dt><span>units :</span></dt><dd>percent</dd><dt><span>long_name :</span></dt><dd>Percent Saturation of oxygen over air</dd><dt><span>standard_name :</span></dt><dd>fractional_saturation_of_oxygen_in_sea_water</dd></dl></div><div class='xr-var-data'><pre>array([[[[97.57 , 97.675, 97.878, 98.049, 97.903, 98.095, 98.103,\n          98.191, 98.15 , 98.06 ]]]])</pre></div></li><li class='xr-var-item'><div class='xr-var-name'><span>oxy_conc_ch2</span></div><div class='xr-var-dims'>(latitude, longitude, depth, bottle)</div><div class='xr-var-dtype'>float64</div><div class='xr-var-preview xr-preview'>317.0 317.4 318.0 ... 318.8 318.5</div><input id='attrs-c5a0c1c5-8653-41d5-8720-f5a59ec5dfc4' class='xr-var-attrs-in' type='checkbox' ><label for='attrs-c5a0c1c5-8653-41d5-8720-f5a59ec5dfc4' title='Show/Hide attributes'><svg class='icon xr-icon-file-text2'><use xlink:href='#icon-file-text2'></use></svg></label><input id='data-1e0d6d03-050f-4a40-8905-3a4b9a5b279b' class='xr-var-data-in' type='checkbox'><label for='data-1e0d6d03-050f-4a40-8905-3a4b9a5b279b' title='Show/Hide data repr'><svg class='icon xr-icon-database'><use xlink:href='#icon-database'></use></svg></label><div class='xr-var-attrs'><dl class='xr-attrs'><dt><span>generic_name :</span></dt><dd>oxy_conc channel 2</dd><dt><span>epic_key :</span></dt><dd>CTDOXY_4221</dd><dt><span>long_name :</span></dt><dd>concentration of oxygen in seawater</dd><dt><span>standard_name :</span></dt><dd>mole_concentration_of_dissolved_molecular_oxygen_in_sea_water</dd><dt><span>units :</span></dt><dd>micromole/kg</dd></dl></div><div class='xr-var-data'><pre>array([[[[317.009, 317.35 , 318.007, 318.567, 318.078, 318.701,\n          318.725, 318.848, 318.824, 318.466]]]])</pre></div></li><li class='xr-var-item'><div class='xr-var-name'><span>salinity_ch1</span></div><div class='xr-var-dims'>(latitude, longitude, depth, bottle)</div><div class='xr-var-dtype'>float64</div><div class='xr-var-preview xr-preview'>32.07 32.07 32.07 ... 32.07 32.07</div><input id='attrs-977b6145-4a39-46b9-9d57-880b1da4638c' class='xr-var-attrs-in' type='checkbox' ><label for='attrs-977b6145-4a39-46b9-9d57-880b1da4638c' title='Show/Hide attributes'><svg class='icon xr-icon-file-text2'><use xlink:href='#icon-file-text2'></use></svg></label><input id='data-1eedbebe-57a5-48be-a695-30ab6008b000' class='xr-var-data-in' type='checkbox'><label for='data-1eedbebe-57a5-48be-a695-30ab6008b000' title='Show/Hide data repr'><svg class='icon xr-icon-database'><use xlink:href='#icon-database'></use></svg></label><div class='xr-var-attrs'><dl class='xr-attrs'><dt><span>epic_key :</span></dt><dd>S_41</dd><dt><span>generic_name :</span></dt><dd>psal channel 1</dd><dt><span>units :</span></dt><dd>PSU</dd><dt><span>long_name :</span></dt><dd>Practical salinity in-situ PSS-78 scale</dd><dt><span>standard_name :</span></dt><dd>sea_water_practical_salinity</dd></dl></div><div class='xr-var-data'><pre>array([[[[32.0659, 32.0659, 32.066 , 32.0659, 32.0658, 32.066 ,\n          32.0658, 32.0658, 32.0658, 32.0659]]]])</pre></div></li><li class='xr-var-item'><div class='xr-var-name'><span>salinity_ch2</span></div><div class='xr-var-dims'>(latitude, longitude, depth, bottle)</div><div class='xr-var-dtype'>float64</div><div class='xr-var-preview xr-preview'>32.07 32.07 32.07 ... 32.07 32.07</div><input id='attrs-59a1c75d-cf2a-432a-8515-e7c5cdd97401' class='xr-var-attrs-in' type='checkbox' ><label for='attrs-59a1c75d-cf2a-432a-8515-e7c5cdd97401' title='Show/Hide attributes'><svg class='icon xr-icon-file-text2'><use xlink:href='#icon-file-text2'></use></svg></label><input id='data-2b22915d-2d92-4a66-80c3-c818665ab87c' class='xr-var-data-in' type='checkbox'><label for='data-2b22915d-2d92-4a66-80c3-c818665ab87c' title='Show/Hide data repr'><svg class='icon xr-icon-database'><use xlink:href='#icon-database'></use></svg></label><div class='xr-var-attrs'><dl class='xr-attrs'><dt><span>epic_key :</span></dt><dd>S_42</dd><dt><span>generic_name :</span></dt><dd>psal channel 2</dd><dt><span>units :</span></dt><dd>PSU</dd><dt><span>long_name :</span></dt><dd>Practical salinity in-situ PSS-78 scale</dd><dt><span>standard_name :</span></dt><dd>sea_water_practical_salinity</dd></dl></div><div class='xr-var-data'><pre>array([[[[32.0682, 32.0681, 32.0682, 32.0682, 32.0681, 32.0683,\n          32.0681, 32.0681, 32.0679, 32.0681]]]])</pre></div></li><li class='xr-var-item'><div class='xr-var-name'><span>sigma_t_ch1</span></div><div class='xr-var-dims'>(latitude, longitude, depth, bottle)</div><div class='xr-var-dtype'>float64</div><div class='xr-var-preview xr-preview'>25.49 25.49 25.49 ... 25.49 25.49</div><input id='attrs-cf3b792d-4d5e-4249-9c3b-be4f44784802' class='xr-var-attrs-in' type='checkbox' disabled><label for='attrs-cf3b792d-4d5e-4249-9c3b-be4f44784802' title='Show/Hide attributes'><svg class='icon xr-icon-file-text2'><use xlink:href='#icon-file-text2'></use></svg></label><input id='data-efe9c89d-f2b9-4f87-a12d-547a636e8863' class='xr-var-data-in' type='checkbox'><label for='data-efe9c89d-f2b9-4f87-a12d-547a636e8863' title='Show/Hide data repr'><svg class='icon xr-icon-database'><use xlink:href='#icon-database'></use></svg></label><div class='xr-var-attrs'><dl class='xr-attrs'></dl></div><div class='xr-var-data'><pre>array([[[[25.4897, 25.4896, 25.4897, 25.4897, 25.4894, 25.4895,\n          25.4894, 25.4874, 25.4888, 25.488 ]]]])</pre></div></li><li class='xr-var-item'><div class='xr-var-name'><span>sigma_t_ch2</span></div><div class='xr-var-dims'>(latitude, longitude, depth, bottle)</div><div class='xr-var-dtype'>float64</div><div class='xr-var-preview xr-preview'>25.49 25.49 25.49 ... 25.49 25.49</div><input id='attrs-65f85823-2466-414d-8587-50b6d2b4805e' class='xr-var-attrs-in' type='checkbox' disabled><label for='attrs-65f85823-2466-414d-8587-50b6d2b4805e' title='Show/Hide attributes'><svg class='icon xr-icon-file-text2'><use xlink:href='#icon-file-text2'></use></svg></label><input id='data-dd1436c7-ebf3-491d-8560-b8571ad02f97' class='xr-var-data-in' type='checkbox'><label for='data-dd1436c7-ebf3-491d-8560-b8571ad02f97' title='Show/Hide data repr'><svg class='icon xr-icon-database'><use xlink:href='#icon-database'></use></svg></label><div class='xr-var-attrs'><dl class='xr-attrs'></dl></div><div class='xr-var-data'><pre>array([[[[25.4915, 25.4914, 25.4914, 25.4915, 25.4912, 25.4914,\n          25.4912, 25.4893, 25.4903, 25.4897]]]])</pre></div></li><li class='xr-var-item'><div class='xr-var-name'><span>chlor_fluorescence</span></div><div class='xr-var-dims'>(latitude, longitude, depth, bottle)</div><div class='xr-var-dtype'>float64</div><div class='xr-var-preview xr-preview'>0.8234 0.8635 ... 0.7043 0.5261</div><input id='attrs-31ebc33f-cb56-4a3c-9b89-14dddaba2228' class='xr-var-attrs-in' type='checkbox' ><label for='attrs-31ebc33f-cb56-4a3c-9b89-14dddaba2228' title='Show/Hide attributes'><svg class='icon xr-icon-file-text2'><use xlink:href='#icon-file-text2'></use></svg></label><input id='data-311ef7eb-5842-4ede-8c92-d23d52eb6259' class='xr-var-data-in' type='checkbox'><label for='data-311ef7eb-5842-4ede-8c92-d23d52eb6259' title='Show/Hide data repr'><svg class='icon xr-icon-database'><use xlink:href='#icon-database'></use></svg></label><div class='xr-var-attrs'><dl class='xr-attrs'><dt><span>epic_key :</span></dt><dd>F_903</dd><dt><span>generic_name :</span></dt><dd>chlor_fluorescence</dd><dt><span>long_name :</span></dt><dd>Mass Concdentration of chlorophyll from chlorophyll fluorescence</dd><dt><span>standard_name :</span></dt><dd>mass_concentration_of_chlorophyll_in_sea_water</dd><dt><span>units :</span></dt><dd>ugrams/l</dd></dl></div><div class='xr-var-data'><pre>array([[[[0.8234, 0.8635, 0.8571, 0.8371, 0.8379, 0.8962, 0.9022,\n          0.7728, 0.7043, 0.5261]]]])</pre></div></li><li class='xr-var-item'><div class='xr-var-name'><span>temperature_ch1</span></div><div class='xr-var-dims'>(latitude, longitude, depth, bottle)</div><div class='xr-var-dtype'>float64</div><div class='xr-var-preview xr-preview'>3.609 3.609 3.61 ... 3.618 3.627</div><input id='attrs-8bf0fa0f-8c23-4f45-879a-e63d5ffe4cff' class='xr-var-attrs-in' type='checkbox' ><label for='attrs-8bf0fa0f-8c23-4f45-879a-e63d5ffe4cff' title='Show/Hide attributes'><svg class='icon xr-icon-file-text2'><use xlink:href='#icon-file-text2'></use></svg></label><input id='data-da01dc5a-9476-4620-8b82-b3a0559dc590' class='xr-var-data-in' type='checkbox'><label for='data-da01dc5a-9476-4620-8b82-b3a0559dc590' title='Show/Hide data repr'><svg class='icon xr-icon-database'><use xlink:href='#icon-database'></use></svg></label><div class='xr-var-attrs'><dl class='xr-attrs'><dt><span>epic_key :</span></dt><dd>T_28</dd><dt><span>generic_name :</span></dt><dd>temp channel 1</dd><dt><span>long_name :</span></dt><dd>Sea temperature in-situ ITS-90 scale</dd><dt><span>standard_name :</span></dt><dd>sea_water_temperature</dd><dt><span>units :</span></dt><dd>degree_C</dd></dl></div><div class='xr-var-data'><pre>array([[[[3.6092, 3.6092, 3.6097, 3.6091, 3.6111, 3.6112, 3.6114,\n          3.6322, 3.6183, 3.6269]]]])</pre></div></li><li class='xr-var-item'><div class='xr-var-name'><span>temperature_ch2</span></div><div class='xr-var-dims'>(latitude, longitude, depth, bottle)</div><div class='xr-var-dtype'>float64</div><div class='xr-var-preview xr-preview'>3.61 3.61 3.61 ... 3.632 3.62 3.627</div><input id='attrs-cf998d83-e980-4297-a6e8-f77fbb52e915' class='xr-var-attrs-in' type='checkbox' ><label for='attrs-cf998d83-e980-4297-a6e8-f77fbb52e915' title='Show/Hide attributes'><svg class='icon xr-icon-file-text2'><use xlink:href='#icon-file-text2'></use></svg></label><input id='data-7a105785-5939-495d-9fd6-f39ace49141c' class='xr-var-data-in' type='checkbox'><label for='data-7a105785-5939-495d-9fd6-f39ace49141c' title='Show/Hide data repr'><svg class='icon xr-icon-database'><use xlink:href='#icon-database'></use></svg></label><div class='xr-var-attrs'><dl class='xr-attrs'><dt><span>epic_key :</span></dt><dd>T2_35</dd><dt><span>generic_name :</span></dt><dd>temp channel 2</dd><dt><span>long_name :</span></dt><dd>Sea temperature in-situ ITS-90 scale</dd><dt><span>standard_name :</span></dt><dd>sea_water_temperature</dd><dt><span>units :</span></dt><dd>degree_C</dd></dl></div><div class='xr-var-data'><pre>array([[[[3.6095, 3.6095, 3.61  , 3.6094, 3.6116, 3.6114, 3.612 ,\n          3.6321, 3.6204, 3.6274]]]])</pre></div></li><li class='xr-var-item'><div class='xr-var-name'><span>turbidity</span></div><div class='xr-var-dims'>(latitude, longitude, depth, bottle)</div><div class='xr-var-dtype'>float64</div><div class='xr-var-preview xr-preview'>1.585 1.514 ... 0.6597 0.7356</div><input id='attrs-26c0c8dc-6693-4700-a694-c3e180657bda' class='xr-var-attrs-in' type='checkbox' disabled><label for='attrs-26c0c8dc-6693-4700-a694-c3e180657bda' title='Show/Hide attributes'><svg class='icon xr-icon-file-text2'><use xlink:href='#icon-file-text2'></use></svg></label><input id='data-828d8504-488f-4bef-b6d2-306e2407a4d3' class='xr-var-data-in' type='checkbox'><label for='data-828d8504-488f-4bef-b6d2-306e2407a4d3' title='Show/Hide data repr'><svg class='icon xr-icon-database'><use xlink:href='#icon-database'></use></svg></label><div class='xr-var-attrs'><dl class='xr-attrs'></dl></div><div class='xr-var-data'><pre>array([[[[1.5855, 1.5143, 0.9707, 0.7907, 0.6895, 0.763 , 0.6728,\n          0.6659, 0.6597, 0.7356]]]])</pre></div></li><li class='xr-var-item'><div class='xr-var-name'><span>Pressure [dbar]</span></div><div class='xr-var-dims'>(latitude, longitude, depth, bottle)</div><div class='xr-var-dtype'>float64</div><div class='xr-var-preview xr-preview'>65.42 65.16 51.24 ... 9.09 3.948</div><input id='attrs-03883416-8776-47ea-90d9-76c30327de12' class='xr-var-attrs-in' type='checkbox' disabled><label for='attrs-03883416-8776-47ea-90d9-76c30327de12' title='Show/Hide attributes'><svg class='icon xr-icon-file-text2'><use xlink:href='#icon-file-text2'></use></svg></label><input id='data-6683125c-04db-4d8c-ac77-aae6f227a610' class='xr-var-data-in' type='checkbox'><label for='data-6683125c-04db-4d8c-ac77-aae6f227a610' title='Show/Hide data repr'><svg class='icon xr-icon-database'><use xlink:href='#icon-database'></use></svg></label><div class='xr-var-attrs'><dl class='xr-attrs'></dl></div><div class='xr-var-data'><pre>array([[[[65.415, 65.161, 51.241, 42.043, 29.727, 27.823, 26.557,\n          14.254,  9.09 ,  3.948]]]])</pre></div></li><li class='xr-var-item'><div class='xr-var-name'><span>scan</span></div><div class='xr-var-dims'>(latitude, longitude, depth, bottle)</div><div class='xr-var-dtype'>float64</div><div class='xr-var-preview xr-preview'>1.269e+04 1.286e+04 ... 3.597e+04</div><input id='attrs-8ae5f089-5c23-4646-a516-1df86eae88fb' class='xr-var-attrs-in' type='checkbox' disabled><label for='attrs-8ae5f089-5c23-4646-a516-1df86eae88fb' title='Show/Hide attributes'><svg class='icon xr-icon-file-text2'><use xlink:href='#icon-file-text2'></use></svg></label><input id='data-4a71fb4f-82ae-421c-967a-67d2c7375102' class='xr-var-data-in' type='checkbox'><label for='data-4a71fb4f-82ae-421c-967a-67d2c7375102' title='Show/Hide data repr'><svg class='icon xr-icon-database'><use xlink:href='#icon-database'></use></svg></label><div class='xr-var-attrs'><dl class='xr-attrs'></dl></div><div class='xr-var-data'><pre>array([[[[12686., 12857., 17600., 21312., 24809., 27479., 27680.,\n          30461., 33210., 35967.]]]])</pre></div></li><li class='xr-var-item'><div class='xr-var-name'><span>datetime</span></div><div class='xr-var-dims'>(latitude, longitude, depth, bottle)</div><div class='xr-var-dtype'>datetime64[ns]</div><div class='xr-var-preview xr-preview'>2018-04-30T19:20:40 ... 2018-04-...</div><input id='attrs-e5939543-38cb-4625-accf-852545a03ca4' class='xr-var-attrs-in' type='checkbox' disabled><label for='attrs-e5939543-38cb-4625-accf-852545a03ca4' title='Show/Hide attributes'><svg class='icon xr-icon-file-text2'><use xlink:href='#icon-file-text2'></use></svg></label><input id='data-d2c42d81-32a1-453b-ad7e-b34ace761ce5' class='xr-var-data-in' type='checkbox'><label for='data-d2c42d81-32a1-453b-ad7e-b34ace761ce5' title='Show/Hide data repr'><svg class='icon xr-icon-database'><use xlink:href='#icon-database'></use></svg></label><div class='xr-var-attrs'><dl class='xr-attrs'></dl></div><div class='xr-var-data'><pre>array([[[[&#x27;2018-04-30T19:20:40.000000000&#x27;,\n          &#x27;2018-04-30T19:20:47.000000000&#x27;,\n          &#x27;2018-04-30T19:24:05.000000000&#x27;,\n          &#x27;2018-04-30T19:26:40.000000000&#x27;,\n          &#x27;2018-04-30T19:29:05.000000000&#x27;,\n          &#x27;2018-04-30T19:30:57.000000000&#x27;,\n          &#x27;2018-04-30T19:31:05.000000000&#x27;,\n          &#x27;2018-04-30T19:33:01.000000000&#x27;,\n          &#x27;2018-04-30T19:34:55.000000000&#x27;,\n          &#x27;2018-04-30T19:36:50.000000000&#x27;]]]], dtype=&#x27;datetime64[ns]&#x27;)</pre></div></li></ul></div></li><li class='xr-section-item'><input id='section-f0936848-75ef-4f37-b1ef-ffe5256563a1' class='xr-section-summary-in' type='checkbox'  checked><label for='section-f0936848-75ef-4f37-b1ef-ffe5256563a1' class='xr-section-summary' >Attributes: <span>(6)</span></label><div class='xr-section-inline-details'></div><div class='xr-section-details'><dl class='xr-attrs'><dt><span>CruiseID :</span></dt><dd>DY1805</dd><dt><span>VesselName :</span></dt><dd>R/V Oscar Dyson</dd><dt><span>WaterDepth :</span></dt><dd>65</dd><dt><span>date_created :</span></dt><dd>2021-04-23T13:23:06Z</dd><dt><span>date_modified :</span></dt><dd></dd><dt><span>QC_indicator :</span></dt><dd>unknown</dd></dl></div></li></ul></div></div>"
     },
     "metadata": {},
     "execution_count": 17
    }
   ],
   "source": [
    "cruise_data_nc.get_xdf()"
   ]
  },
  {
   "cell_type": "markdown",
   "id": "individual-nature",
   "metadata": {},
   "source": [
    "## Next Steps\n",
    "\n",
    "QC of data (plot parameters with other instruments)\n",
    "- be sure to updated the qc_status and the history"
   ]
  },
  {
   "cell_type": "code",
   "execution_count": null,
   "id": "insured-vulnerability",
   "metadata": {},
   "outputs": [],
   "source": []
  }
 ],
 "metadata": {
  "kernelspec": {
   "name": "python388jvsc74a57bd0ea8efced7f9f908505a4e28889b9d0ff7d52e9a5c03dfaa80d1d80124525970c",
   "display_name": "Python 3.8.8 64-bit ('py38': conda)"
  },
  "language_info": {
   "codemirror_mode": {
    "name": "ipython",
    "version": 3
   },
   "file_extension": ".py",
   "mimetype": "text/x-python",
   "name": "python",
   "nbconvert_exporter": "python",
   "pygments_lexer": "ipython3",
   "version": "3.8.8"
  }
 },
 "nbformat": 4,
 "nbformat_minor": 5
}
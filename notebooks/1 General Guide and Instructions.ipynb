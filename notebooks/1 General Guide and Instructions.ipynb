{
 "cells": [
  {
   "cell_type": "markdown",
   "id": "977ee3f3-9594-432c-a79a-a2c1a1c89219",
   "metadata": {},
   "source": [
    "# A Guide and Instructions to EcoFOCIpy\n",
    "\n",
    "\n",
    "There are many utilities/workflows bundled in EcoFOCIpy.  \n",
    "\n",
    "\n",
    "The primary utilities (and those discussed in this document) are as follows:\n",
    "\n",
    "## Mooring Related\n",
    "- Processing raw moored instrument data from a variety of different sensors, platforms and vendors\n",
    "- generating a uniform and concistent archival data format (CF compliant netcdf) to be hosted via ERDDAP\n",
    "- visualizing independent instrument data timeseries\n",
    "- visualizing entire moored data timeseries (over multiple depths)\n",
    "- applying QC steps to improve data\n",
    "    - trimming non-deployment data (on deck data)\n",
    "    - removing periods with invalid data (failed sensors)\n",
    "    - applying calibration / characterization offsets\n",
    "    - applying geomagnetic corrections to compass readings\n",
    "- calculating ancillary products\n",
    "\n",
    "## Cruise/CTD Related\n",
    "- visualizing operations (map)\n",
    "- processing raw .cnv data from a variety of sensors on CTD platform\n",
    "- generating a uniform and concistent archival data format (CF compliant netcdf) to be hosted via ERDDAP\n",
    "- applying QC steps to improve data\n",
    "    - removing periods with invalid data (failed sensors)\n",
    "    - applying calibration / characterization offsets\n",
    "    - despiking"
   ]
  },
  {
   "cell_type": "markdown",
   "id": "2a0908fb-0062-46df-9040-86be4c7898fb",
   "metadata": {},
   "source": [
    "## Mooring Example Notebooks\n",
    "\n",
    "Many of these follow similar patterns and worflows as they are similar instruments (e.g. the seabird instrumentation), others are fairly unique (ADCP's)\n",
    "\n",
    "### Seabird Equipment\n",
    "- sbe16\n",
    "- sbe37\n",
    "- sbe39\n",
    "- sbe56\n",
    "\n",
    "- wetlabs (1,2 or 3 channel devices)\n",
    "\n",
    "### Moored 2D Profiling Equipment (ADCP)\n",
    "- Teledyne ADCP\n",
    "\n",
    "### Moored Profiling Equipment (prawler)\n",
    "\n",
    "### Glider Trajectory Profiling Equipment\n",
    "- see basestation software, gliderDAC, and GliderTools\n",
    "\n",
    "## CTD Example Notebooks\n",
    "- sbe 9/11+ V2 (or any SBE supporting cnv structure)\n",
    "\n",
    "Mapping a cruise\n",
    "- [EcoFOCIpy_cruisemaps_example.ipynb](EcoFOCIpy_cruisemaps_example.ipynb)  \n",
    "\n",
    "Processing Bottle Files\n",
    "- [EcoFOCIpy_sbe_ctd_btlfile_example.ipynb](EcoFOCIpy_sbe_ctd_btlfile_example.ipynb)  \n",
    "or a streamlined version\n",
    "- [EcoFOCIpy_sbe_ctd_btlfile_example_simple.ipynb](EcoFOCIpy_sbe_ctd_btlfile_example_simple.ipynb)  \n",
    "\n",
    "Processing CNV Files  \n",
    "- [EcoFOCIpy_sbe_ctd_example.ipynb](EcoFOCIpy_sbe_ctd_example.ipynb)  \n",
    "\n",
    "## ERDDAP Retrieval Example Notebooks\n",
    "\n",
    "Retrieving a single CTD from a dataset\n",
    "- [EcoFOCIpy_ERDDAP_CTD_Retrieval.ipynb](EcoFOCIpy_ERDDAP_CTD_Retrieval.ipynb)"
   ]
  },
  {
   "cell_type": "code",
   "execution_count": null,
   "id": "b907aa23-e697-42f1-8f8f-896fb07586d8",
   "metadata": {},
   "outputs": [],
   "source": []
  }
 ],
 "metadata": {
  "kernelspec": {
   "display_name": "Python [conda env:py38] *",
   "language": "python",
   "name": "conda-env-py38-py"
  },
  "language_info": {
   "codemirror_mode": {
    "name": "ipython",
    "version": 3
   },
   "file_extension": ".py",
   "mimetype": "text/x-python",
   "name": "python",
   "nbconvert_exporter": "python",
   "pygments_lexer": "ipython3",
   "version": "3.8.12"
  }
 },
 "nbformat": 4,
 "nbformat_minor": 5
}

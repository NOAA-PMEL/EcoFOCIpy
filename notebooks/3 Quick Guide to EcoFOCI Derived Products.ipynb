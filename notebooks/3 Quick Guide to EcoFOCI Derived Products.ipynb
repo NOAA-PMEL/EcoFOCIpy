{
 "cells": [
  {
   "cell_type": "markdown",
   "id": "257bddf0-cf9d-4eb2-aff4-d9b41414f1b3",
   "metadata": {},
   "source": [
    "# Quick Guide to EcoFOCI Derived Products\n",
    "\n",
    "## CTD\n",
    "\n",
    "- merged with discrete data (nutrients, oxygen, bottle data) as the electronic profile and bottle data are addressed seperately and have different return times"
   ]
  },
  {
   "cell_type": "markdown",
   "id": "db98dd97-d896-4283-a4c7-71ed07628103",
   "metadata": {},
   "source": [
    "## Timeseries\n",
    "\n",
    "- gridded dataset in time  \n",
    "- merged datasets for entire timeseries at a fixed station\n",
    "    + these are drawn from 1hr gridded data\n",
    "    \n",
    "### 1D \n",
    "\n",
    "- SFC (or near SFC) Temperature/Salinity (SST/SSS)  \n",
    "- BTM (or near bottom / deepest) Temperature/Salinity  \n",
    "\n",
    "### 2D\n",
    "\n",
    "- Shear Profiles from ADCP (not currently in production)\n",
    "\n",
    "## AlongTrack/Underway\n",
    "\n",
    "## Drifters\n",
    "\n",
    "## Profilers/Gliders"
   ]
  },
  {
   "cell_type": "code",
   "execution_count": null,
   "id": "b9568039-4a7a-4395-8c9c-34579bc9dc01",
   "metadata": {},
   "outputs": [],
   "source": []
  }
 ],
 "metadata": {
  "kernelspec": {
   "display_name": "Python [conda env:py38] *",
   "language": "python",
   "name": "conda-env-py38-py"
  },
  "language_info": {
   "codemirror_mode": {
    "name": "ipython",
    "version": 3
   },
   "file_extension": ".py",
   "mimetype": "text/x-python",
   "name": "python",
   "nbconvert_exporter": "python",
   "pygments_lexer": "ipython3",
   "version": "3.8.8"
  }
 },
 "nbformat": 4,
 "nbformat_minor": 5
}
